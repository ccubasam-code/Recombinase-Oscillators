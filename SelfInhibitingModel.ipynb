{
 "cells": [
  {
   "cell_type": "markdown",
   "metadata": {
    "id": "knIklix4oThN"
   },
   "source": [
    "# Stochastic Analysis of a simple recombinase-based oscillator\n",
    "\n",
    "In this Jupyterbook, we implement the Gilleaspy algorithm of a recombinase-based oscillator at a single copy "
   ]
  },
  {
   "cell_type": "code",
   "execution_count": 31,
   "metadata": {
    "executionInfo": {
     "elapsed": 4185,
     "status": "ok",
     "timestamp": 1651707098055,
     "user": {
      "displayName": "Christian Cuba",
      "userId": "05812622177105967845"
     },
     "user_tz": 240
    },
    "id": "lHy71zVrtgCI",
    "outputId": "af102c00-d662-41ad-ad77-8b8a605da6a8"
   },
   "outputs": [
    {
     "data": {
      "text/html": [
       "\n",
       "    <div class=\"bk-root\">\n",
       "        <a href=\"https://bokeh.org\" target=\"_blank\" class=\"bk-logo bk-logo-small bk-logo-notebook\"></a>\n",
       "        <span id=\"36687\">Loading BokehJS ...</span>\n",
       "    </div>"
      ]
     },
     "metadata": {},
     "output_type": "display_data"
    },
    {
     "data": {
      "application/javascript": [
       "\n",
       "(function(root) {\n",
       "  function now() {\n",
       "    return new Date();\n",
       "  }\n",
       "\n",
       "  const force = true;\n",
       "\n",
       "  if (typeof root._bokeh_onload_callbacks === \"undefined\" || force === true) {\n",
       "    root._bokeh_onload_callbacks = [];\n",
       "    root._bokeh_is_loading = undefined;\n",
       "  }\n",
       "\n",
       "  const JS_MIME_TYPE = 'application/javascript';\n",
       "  const HTML_MIME_TYPE = 'text/html';\n",
       "  const EXEC_MIME_TYPE = 'application/vnd.bokehjs_exec.v0+json';\n",
       "  const CLASS_NAME = 'output_bokeh rendered_html';\n",
       "\n",
       "  /**\n",
       "   * Render data to the DOM node\n",
       "   */\n",
       "  function render(props, node) {\n",
       "    const script = document.createElement(\"script\");\n",
       "    node.appendChild(script);\n",
       "  }\n",
       "\n",
       "  /**\n",
       "   * Handle when an output is cleared or removed\n",
       "   */\n",
       "  function handleClearOutput(event, handle) {\n",
       "    const cell = handle.cell;\n",
       "\n",
       "    const id = cell.output_area._bokeh_element_id;\n",
       "    const server_id = cell.output_area._bokeh_server_id;\n",
       "    // Clean up Bokeh references\n",
       "    if (id != null && id in Bokeh.index) {\n",
       "      Bokeh.index[id].model.document.clear();\n",
       "      delete Bokeh.index[id];\n",
       "    }\n",
       "\n",
       "    if (server_id !== undefined) {\n",
       "      // Clean up Bokeh references\n",
       "      const cmd_clean = \"from bokeh.io.state import curstate; print(curstate().uuid_to_server['\" + server_id + \"'].get_sessions()[0].document.roots[0]._id)\";\n",
       "      cell.notebook.kernel.execute(cmd_clean, {\n",
       "        iopub: {\n",
       "          output: function(msg) {\n",
       "            const id = msg.content.text.trim();\n",
       "            if (id in Bokeh.index) {\n",
       "              Bokeh.index[id].model.document.clear();\n",
       "              delete Bokeh.index[id];\n",
       "            }\n",
       "          }\n",
       "        }\n",
       "      });\n",
       "      // Destroy server and session\n",
       "      const cmd_destroy = \"import bokeh.io.notebook as ion; ion.destroy_server('\" + server_id + \"')\";\n",
       "      cell.notebook.kernel.execute(cmd_destroy);\n",
       "    }\n",
       "  }\n",
       "\n",
       "  /**\n",
       "   * Handle when a new output is added\n",
       "   */\n",
       "  function handleAddOutput(event, handle) {\n",
       "    const output_area = handle.output_area;\n",
       "    const output = handle.output;\n",
       "\n",
       "    // limit handleAddOutput to display_data with EXEC_MIME_TYPE content only\n",
       "    if ((output.output_type != \"display_data\") || (!Object.prototype.hasOwnProperty.call(output.data, EXEC_MIME_TYPE))) {\n",
       "      return\n",
       "    }\n",
       "\n",
       "    const toinsert = output_area.element.find(\".\" + CLASS_NAME.split(' ')[0]);\n",
       "\n",
       "    if (output.metadata[EXEC_MIME_TYPE][\"id\"] !== undefined) {\n",
       "      toinsert[toinsert.length - 1].firstChild.textContent = output.data[JS_MIME_TYPE];\n",
       "      // store reference to embed id on output_area\n",
       "      output_area._bokeh_element_id = output.metadata[EXEC_MIME_TYPE][\"id\"];\n",
       "    }\n",
       "    if (output.metadata[EXEC_MIME_TYPE][\"server_id\"] !== undefined) {\n",
       "      const bk_div = document.createElement(\"div\");\n",
       "      bk_div.innerHTML = output.data[HTML_MIME_TYPE];\n",
       "      const script_attrs = bk_div.children[0].attributes;\n",
       "      for (let i = 0; i < script_attrs.length; i++) {\n",
       "        toinsert[toinsert.length - 1].firstChild.setAttribute(script_attrs[i].name, script_attrs[i].value);\n",
       "        toinsert[toinsert.length - 1].firstChild.textContent = bk_div.children[0].textContent\n",
       "      }\n",
       "      // store reference to server id on output_area\n",
       "      output_area._bokeh_server_id = output.metadata[EXEC_MIME_TYPE][\"server_id\"];\n",
       "    }\n",
       "  }\n",
       "\n",
       "  function register_renderer(events, OutputArea) {\n",
       "\n",
       "    function append_mime(data, metadata, element) {\n",
       "      // create a DOM node to render to\n",
       "      const toinsert = this.create_output_subarea(\n",
       "        metadata,\n",
       "        CLASS_NAME,\n",
       "        EXEC_MIME_TYPE\n",
       "      );\n",
       "      this.keyboard_manager.register_events(toinsert);\n",
       "      // Render to node\n",
       "      const props = {data: data, metadata: metadata[EXEC_MIME_TYPE]};\n",
       "      render(props, toinsert[toinsert.length - 1]);\n",
       "      element.append(toinsert);\n",
       "      return toinsert\n",
       "    }\n",
       "\n",
       "    /* Handle when an output is cleared or removed */\n",
       "    events.on('clear_output.CodeCell', handleClearOutput);\n",
       "    events.on('delete.Cell', handleClearOutput);\n",
       "\n",
       "    /* Handle when a new output is added */\n",
       "    events.on('output_added.OutputArea', handleAddOutput);\n",
       "\n",
       "    /**\n",
       "     * Register the mime type and append_mime function with output_area\n",
       "     */\n",
       "    OutputArea.prototype.register_mime_type(EXEC_MIME_TYPE, append_mime, {\n",
       "      /* Is output safe? */\n",
       "      safe: true,\n",
       "      /* Index of renderer in `output_area.display_order` */\n",
       "      index: 0\n",
       "    });\n",
       "  }\n",
       "\n",
       "  // register the mime type if in Jupyter Notebook environment and previously unregistered\n",
       "  if (root.Jupyter !== undefined) {\n",
       "    const events = require('base/js/events');\n",
       "    const OutputArea = require('notebook/js/outputarea').OutputArea;\n",
       "\n",
       "    if (OutputArea.prototype.mime_types().indexOf(EXEC_MIME_TYPE) == -1) {\n",
       "      register_renderer(events, OutputArea);\n",
       "    }\n",
       "  }\n",
       "\n",
       "  \n",
       "  if (typeof (root._bokeh_timeout) === \"undefined\" || force === true) {\n",
       "    root._bokeh_timeout = Date.now() + 5000;\n",
       "    root._bokeh_failed_load = false;\n",
       "  }\n",
       "\n",
       "  const NB_LOAD_WARNING = {'data': {'text/html':\n",
       "     \"<div style='background-color: #fdd'>\\n\"+\n",
       "     \"<p>\\n\"+\n",
       "     \"BokehJS does not appear to have successfully loaded. If loading BokehJS from CDN, this \\n\"+\n",
       "     \"may be due to a slow or bad network connection. Possible fixes:\\n\"+\n",
       "     \"</p>\\n\"+\n",
       "     \"<ul>\\n\"+\n",
       "     \"<li>re-rerun `output_notebook()` to attempt to load from CDN again, or</li>\\n\"+\n",
       "     \"<li>use INLINE resources instead, as so:</li>\\n\"+\n",
       "     \"</ul>\\n\"+\n",
       "     \"<code>\\n\"+\n",
       "     \"from bokeh.resources import INLINE\\n\"+\n",
       "     \"output_notebook(resources=INLINE)\\n\"+\n",
       "     \"</code>\\n\"+\n",
       "     \"</div>\"}};\n",
       "\n",
       "  function display_loaded() {\n",
       "    const el = document.getElementById(\"36687\");\n",
       "    if (el != null) {\n",
       "      el.textContent = \"BokehJS is loading...\";\n",
       "    }\n",
       "    if (root.Bokeh !== undefined) {\n",
       "      if (el != null) {\n",
       "        el.textContent = \"BokehJS \" + root.Bokeh.version + \" successfully loaded.\";\n",
       "      }\n",
       "    } else if (Date.now() < root._bokeh_timeout) {\n",
       "      setTimeout(display_loaded, 100)\n",
       "    }\n",
       "  }\n",
       "\n",
       "\n",
       "  function run_callbacks() {\n",
       "    try {\n",
       "      root._bokeh_onload_callbacks.forEach(function(callback) {\n",
       "        if (callback != null)\n",
       "          callback();\n",
       "      });\n",
       "    } finally {\n",
       "      delete root._bokeh_onload_callbacks\n",
       "    }\n",
       "    console.debug(\"Bokeh: all callbacks have finished\");\n",
       "  }\n",
       "\n",
       "  function load_libs(css_urls, js_urls, callback) {\n",
       "    if (css_urls == null) css_urls = [];\n",
       "    if (js_urls == null) js_urls = [];\n",
       "\n",
       "    root._bokeh_onload_callbacks.push(callback);\n",
       "    if (root._bokeh_is_loading > 0) {\n",
       "      console.debug(\"Bokeh: BokehJS is being loaded, scheduling callback at\", now());\n",
       "      return null;\n",
       "    }\n",
       "    if (js_urls == null || js_urls.length === 0) {\n",
       "      run_callbacks();\n",
       "      return null;\n",
       "    }\n",
       "    console.debug(\"Bokeh: BokehJS not loaded, scheduling load and callback at\", now());\n",
       "    root._bokeh_is_loading = css_urls.length + js_urls.length;\n",
       "\n",
       "    function on_load() {\n",
       "      root._bokeh_is_loading--;\n",
       "      if (root._bokeh_is_loading === 0) {\n",
       "        console.debug(\"Bokeh: all BokehJS libraries/stylesheets loaded\");\n",
       "        run_callbacks()\n",
       "      }\n",
       "    }\n",
       "\n",
       "    function on_error(url) {\n",
       "      console.error(\"failed to load \" + url);\n",
       "    }\n",
       "\n",
       "    for (let i = 0; i < css_urls.length; i++) {\n",
       "      const url = css_urls[i];\n",
       "      const element = document.createElement(\"link\");\n",
       "      element.onload = on_load;\n",
       "      element.onerror = on_error.bind(null, url);\n",
       "      element.rel = \"stylesheet\";\n",
       "      element.type = \"text/css\";\n",
       "      element.href = url;\n",
       "      console.debug(\"Bokeh: injecting link tag for BokehJS stylesheet: \", url);\n",
       "      document.body.appendChild(element);\n",
       "    }\n",
       "\n",
       "    for (let i = 0; i < js_urls.length; i++) {\n",
       "      const url = js_urls[i];\n",
       "      const element = document.createElement('script');\n",
       "      element.onload = on_load;\n",
       "      element.onerror = on_error.bind(null, url);\n",
       "      element.async = false;\n",
       "      element.src = url;\n",
       "      console.debug(\"Bokeh: injecting script tag for BokehJS library: \", url);\n",
       "      document.head.appendChild(element);\n",
       "    }\n",
       "  };\n",
       "\n",
       "  function inject_raw_css(css) {\n",
       "    const element = document.createElement(\"style\");\n",
       "    element.appendChild(document.createTextNode(css));\n",
       "    document.body.appendChild(element);\n",
       "  }\n",
       "\n",
       "  \n",
       "  const js_urls = [\"https://cdn.bokeh.org/bokeh/release/bokeh-2.4.1.min.js\", \"https://cdn.bokeh.org/bokeh/release/bokeh-gl-2.4.1.min.js\", \"https://cdn.bokeh.org/bokeh/release/bokeh-widgets-2.4.1.min.js\", \"https://cdn.bokeh.org/bokeh/release/bokeh-tables-2.4.1.min.js\", \"https://cdn.bokeh.org/bokeh/release/bokeh-mathjax-2.4.1.min.js\"];\n",
       "  const css_urls = [];\n",
       "  \n",
       "\n",
       "  const inline_js = [\n",
       "    function(Bokeh) {\n",
       "      Bokeh.set_log_level(\"info\");\n",
       "    },\n",
       "    function(Bokeh) {\n",
       "    \n",
       "    \n",
       "    }\n",
       "  ];\n",
       "\n",
       "  function run_inline_js() {\n",
       "    \n",
       "    if (root.Bokeh !== undefined || force === true) {\n",
       "      \n",
       "    for (let i = 0; i < inline_js.length; i++) {\n",
       "      inline_js[i].call(root, root.Bokeh);\n",
       "    }\n",
       "    if (force === true) {\n",
       "        display_loaded();\n",
       "      }} else if (Date.now() < root._bokeh_timeout) {\n",
       "      setTimeout(run_inline_js, 100);\n",
       "    } else if (!root._bokeh_failed_load) {\n",
       "      console.log(\"Bokeh: BokehJS failed to load within specified timeout.\");\n",
       "      root._bokeh_failed_load = true;\n",
       "    } else if (force !== true) {\n",
       "      const cell = $(document.getElementById(\"36687\")).parents('.cell').data().cell;\n",
       "      cell.output_area.append_execute_result(NB_LOAD_WARNING)\n",
       "    }\n",
       "\n",
       "  }\n",
       "\n",
       "  if (root._bokeh_is_loading === 0) {\n",
       "    console.debug(\"Bokeh: BokehJS loaded, going straight to plotting\");\n",
       "    run_inline_js();\n",
       "  } else {\n",
       "    load_libs(css_urls, js_urls, function() {\n",
       "      console.debug(\"Bokeh: BokehJS plotting callback run at\", now());\n",
       "      run_inline_js();\n",
       "    });\n",
       "  }\n",
       "}(window));"
      ],
      "application/vnd.bokehjs_load.v0+json": "\n(function(root) {\n  function now() {\n    return new Date();\n  }\n\n  const force = true;\n\n  if (typeof root._bokeh_onload_callbacks === \"undefined\" || force === true) {\n    root._bokeh_onload_callbacks = [];\n    root._bokeh_is_loading = undefined;\n  }\n\n  \n\n  \n  if (typeof (root._bokeh_timeout) === \"undefined\" || force === true) {\n    root._bokeh_timeout = Date.now() + 5000;\n    root._bokeh_failed_load = false;\n  }\n\n  const NB_LOAD_WARNING = {'data': {'text/html':\n     \"<div style='background-color: #fdd'>\\n\"+\n     \"<p>\\n\"+\n     \"BokehJS does not appear to have successfully loaded. If loading BokehJS from CDN, this \\n\"+\n     \"may be due to a slow or bad network connection. Possible fixes:\\n\"+\n     \"</p>\\n\"+\n     \"<ul>\\n\"+\n     \"<li>re-rerun `output_notebook()` to attempt to load from CDN again, or</li>\\n\"+\n     \"<li>use INLINE resources instead, as so:</li>\\n\"+\n     \"</ul>\\n\"+\n     \"<code>\\n\"+\n     \"from bokeh.resources import INLINE\\n\"+\n     \"output_notebook(resources=INLINE)\\n\"+\n     \"</code>\\n\"+\n     \"</div>\"}};\n\n  function display_loaded() {\n    const el = document.getElementById(\"36687\");\n    if (el != null) {\n      el.textContent = \"BokehJS is loading...\";\n    }\n    if (root.Bokeh !== undefined) {\n      if (el != null) {\n        el.textContent = \"BokehJS \" + root.Bokeh.version + \" successfully loaded.\";\n      }\n    } else if (Date.now() < root._bokeh_timeout) {\n      setTimeout(display_loaded, 100)\n    }\n  }\n\n\n  function run_callbacks() {\n    try {\n      root._bokeh_onload_callbacks.forEach(function(callback) {\n        if (callback != null)\n          callback();\n      });\n    } finally {\n      delete root._bokeh_onload_callbacks\n    }\n    console.debug(\"Bokeh: all callbacks have finished\");\n  }\n\n  function load_libs(css_urls, js_urls, callback) {\n    if (css_urls == null) css_urls = [];\n    if (js_urls == null) js_urls = [];\n\n    root._bokeh_onload_callbacks.push(callback);\n    if (root._bokeh_is_loading > 0) {\n      console.debug(\"Bokeh: BokehJS is being loaded, scheduling callback at\", now());\n      return null;\n    }\n    if (js_urls == null || js_urls.length === 0) {\n      run_callbacks();\n      return null;\n    }\n    console.debug(\"Bokeh: BokehJS not loaded, scheduling load and callback at\", now());\n    root._bokeh_is_loading = css_urls.length + js_urls.length;\n\n    function on_load() {\n      root._bokeh_is_loading--;\n      if (root._bokeh_is_loading === 0) {\n        console.debug(\"Bokeh: all BokehJS libraries/stylesheets loaded\");\n        run_callbacks()\n      }\n    }\n\n    function on_error(url) {\n      console.error(\"failed to load \" + url);\n    }\n\n    for (let i = 0; i < css_urls.length; i++) {\n      const url = css_urls[i];\n      const element = document.createElement(\"link\");\n      element.onload = on_load;\n      element.onerror = on_error.bind(null, url);\n      element.rel = \"stylesheet\";\n      element.type = \"text/css\";\n      element.href = url;\n      console.debug(\"Bokeh: injecting link tag for BokehJS stylesheet: \", url);\n      document.body.appendChild(element);\n    }\n\n    for (let i = 0; i < js_urls.length; i++) {\n      const url = js_urls[i];\n      const element = document.createElement('script');\n      element.onload = on_load;\n      element.onerror = on_error.bind(null, url);\n      element.async = false;\n      element.src = url;\n      console.debug(\"Bokeh: injecting script tag for BokehJS library: \", url);\n      document.head.appendChild(element);\n    }\n  };\n\n  function inject_raw_css(css) {\n    const element = document.createElement(\"style\");\n    element.appendChild(document.createTextNode(css));\n    document.body.appendChild(element);\n  }\n\n  \n  const js_urls = [\"https://cdn.bokeh.org/bokeh/release/bokeh-2.4.1.min.js\", \"https://cdn.bokeh.org/bokeh/release/bokeh-gl-2.4.1.min.js\", \"https://cdn.bokeh.org/bokeh/release/bokeh-widgets-2.4.1.min.js\", \"https://cdn.bokeh.org/bokeh/release/bokeh-tables-2.4.1.min.js\", \"https://cdn.bokeh.org/bokeh/release/bokeh-mathjax-2.4.1.min.js\"];\n  const css_urls = [];\n  \n\n  const inline_js = [\n    function(Bokeh) {\n      Bokeh.set_log_level(\"info\");\n    },\n    function(Bokeh) {\n    \n    \n    }\n  ];\n\n  function run_inline_js() {\n    \n    if (root.Bokeh !== undefined || force === true) {\n      \n    for (let i = 0; i < inline_js.length; i++) {\n      inline_js[i].call(root, root.Bokeh);\n    }\n    if (force === true) {\n        display_loaded();\n      }} else if (Date.now() < root._bokeh_timeout) {\n      setTimeout(run_inline_js, 100);\n    } else if (!root._bokeh_failed_load) {\n      console.log(\"Bokeh: BokehJS failed to load within specified timeout.\");\n      root._bokeh_failed_load = true;\n    } else if (force !== true) {\n      const cell = $(document.getElementById(\"36687\")).parents('.cell').data().cell;\n      cell.output_area.append_execute_result(NB_LOAD_WARNING)\n    }\n\n  }\n\n  if (root._bokeh_is_loading === 0) {\n    console.debug(\"Bokeh: BokehJS loaded, going straight to plotting\");\n    run_inline_js();\n  } else {\n    load_libs(css_urls, js_urls, function() {\n      console.debug(\"Bokeh: BokehJS plotting callback run at\", now());\n      run_inline_js();\n    });\n  }\n}(window));"
     },
     "metadata": {},
     "output_type": "display_data"
    }
   ],
   "source": [
    "# Colab setup\n",
    "import os, sys, subprocess\n",
    "if \"google.colab\" in sys.modules:\n",
    "    cmd = \"pip install --upgrade biocircuits bokeh-catplot watermark blackcellmagic\"\n",
    "    process = subprocess.Popen(cmd.split(), stdout=subprocess.PIPE, stderr=subprocess.PIPE)\n",
    "    stdout, stderr = process.communicate()\n",
    "  \n",
    "    from google.colab import drive\n",
    "    drive.mount('/content/drive')\n",
    "    dir = \"/content/drive/My Drive/Research/2022/RecombinaseOscillator/Self_Inhibiting/\"\n",
    "else:\n",
    "    dir = \"/Users/christian/My Drive/Research/2022/RecombinaseOscillator/Self_Inhibiting/\"\n",
    "# ------\n",
    "\n",
    "# This check the number of processors in the computer\n",
    "#% cat /proc/cpuinfo | grep processor | wc -l\n",
    "\n",
    "# % pip install biocircuits bokeh-catplot watermark blackcellmagic\n",
    "import multiprocessing\n",
    "import tqdm\n",
    "\n",
    "import numpy as np\n",
    "import scipy.stats as st\n",
    "import numba\n",
    "import math\n",
    "\n",
    "from scipy.signal import argrelextrema\n",
    "import scipy.fftpack\n",
    "import os.path\n",
    "\n",
    "import biocircuits\n",
    "\n",
    "# Plotting modules\n",
    "import bokeh.io\n",
    "import bokeh.plotting\n",
    "from bokeh.models import LinearColorMapper, ColorBar\n",
    "from bokeh.io import export_svgs\n",
    "\n",
    "bokeh.io.output_notebook()"
   ]
  },
  {
   "cell_type": "code",
   "execution_count": 2,
   "metadata": {
    "id": "mBdSOG9ZswrO"
   },
   "outputs": [],
   "source": [
    "def JoinMatrices(A,B):\n",
    "    n1, m1 = A.shape\n",
    "    n2, m2 = B.shape\n",
    "    ZA = np.zeros((n1,m2))\n",
    "    ZB = np.zeros((n2,m1))\n",
    "    tmp1 = np.hstack((A,ZA))\n",
    "    tmp2 = np.hstack((ZB,B)) \n",
    "    return np.vstack((tmp1,tmp2))"
   ]
  },
  {
   "cell_type": "code",
   "execution_count": 3,
   "metadata": {
    "id": "lZiIkHTMuCdq"
   },
   "outputs": [],
   "source": [
    "# Stoichiometry  matrix of a single switch\n",
    "# R00, R10, R01, R11\n",
    "S1 = np.array(\n",
    "    [\n",
    "     [-1, 1, 0, 0, 0],  # R00 -> R10\n",
    "     [ 1,-1, 0, 0, 0], # R10 -> R00 \n",
    "     [ 0,-1, 0, 1, 0], # R10 -> R11\n",
    "     [ 0, 1, 0,-1, 0], # R11 -> R10\n",
    "\n",
    "     [-1, 0, 1, 0, 0],  # R00 -> R01\n",
    "     [ 1, 0,-1, 0, 0], # R01 -> R00 \n",
    "     [ 0, 0,-1, 1, 0], # R01 -> R11\n",
    "     [ 0, 0, 1,-1, 0], # R11 -> R01 \n",
    "\n",
    "     [ 0, 0, 0,-1, 1], # R11 -> L00\n",
    "    ],\n",
    "    dtype=int,\n",
    ")\n",
    "#print(S1)"
   ]
  },
  {
   "cell_type": "code",
   "execution_count": 4,
   "metadata": {
    "colab": {
     "base_uri": "https://localhost:8080/"
    },
    "executionInfo": {
     "elapsed": 24,
     "status": "ok",
     "timestamp": 1651707098057,
     "user": {
      "displayName": "Christian Cuba",
      "userId": "05812622177105967845"
     },
     "user_tz": 240
    },
    "id": "e_Siugd85ioK",
    "outputId": "33c97a02-f4de-4622-f49d-cbddc7e5d3e6"
   },
   "outputs": [
    {
     "name": "stdout",
     "output_type": "stream",
     "text": [
      "[[-1.  1.  0.  0.  0.  0.  0. -1.  0.]\n",
      " [ 1. -1.  0.  0.  0.  0.  0.  1.  0.]\n",
      " [ 0. -1.  0.  1.  0.  0.  0. -1.  0.]\n",
      " [ 0.  1.  0. -1.  0.  0.  0.  1.  0.]\n",
      " [-1.  0.  1.  0.  0.  0.  0. -1.  0.]\n",
      " [ 1.  0. -1.  0.  0.  0.  0.  1.  0.]\n",
      " [ 0.  0. -1.  1.  0.  0.  0. -1.  0.]\n",
      " [ 0.  0.  1. -1.  0.  0.  0.  1.  0.]\n",
      " [ 0.  0.  0. -1.  1.  0.  0.  2.  0.]\n",
      " [ 0.  0.  0.  0.  0.  1.  0.  0.  0.]\n",
      " [ 0.  0.  0.  0.  0. -1.  0.  0.  0.]\n",
      " [ 0.  0.  0.  0.  0.  0.  1.  0.  0.]\n",
      " [ 0.  0.  0.  0.  0.  0. -1.  0.  0.]\n",
      " [ 0.  0.  0.  0.  0.  0. -2.  1.  0.]\n",
      " [ 0.  0.  0.  0.  0.  0.  2. -1.  0.]\n",
      " [ 0.  0.  0.  0.  0.  0.  0. -1.  0.]\n",
      " [ 0.  0.  0.  0.  0.  0.  0.  0.  1.]\n",
      " [ 0.  0.  0.  0.  0.  0.  0.  0. -1.]]\n"
     ]
    }
   ],
   "source": [
    "# Stoichiometry  matrix of transcription and translation\n",
    "# m1, x1, y1, m2, x2, y2, c\n",
    "S2 = np.array(\n",
    "    [\n",
    "     [ 1, 0, 0, 0], # m1 production (TX)\n",
    "     [-1, 0, 0, 0], # m1 decay\n",
    "     [ 0, 1, 0, 0], # x1 production (TL)\n",
    "     [ 0,-1, 0, 0], # x1 decay\n",
    "     [ 0,-2, 1, 0], # y1 production (dimerization)\n",
    "     [ 0, 2,-1, 0], # y1 dissociation\n",
    "     [ 0, 0,-1, 0], # y1 decay\n",
    "     [ 0, 0, 0, 1], # z1 prod (dummy specie)\n",
    "     [ 0, 0, 0,-1], # z1 decay (dummy specie)\n",
    "    ],\n",
    "    dtype=int,\n",
    ")\n",
    "# Stoichiometry  matrix of two switches\n",
    "simple_update = JoinMatrices(S1,S2)\n",
    "# Updating the consumption of recombinase in the switches\n",
    "S0 = np.array(\n",
    "    [\n",
    "     [-1, 1, -1, 1,-1, 1, -1, 1, 2],  # R00 -> R10\n",
    "    ],\n",
    "    dtype=int,\n",
    ")\n",
    "simple_update[0:9,7] = S0\n",
    "\n",
    "print(simple_update)\n",
    "#simple_update.shape"
   ]
  },
  {
   "cell_type": "code",
   "execution_count": 5,
   "metadata": {
    "id": "q1mIj035Nts5"
   },
   "outputs": [],
   "source": [
    "def simple_propensity(propensities, x, t, th, rh, ph, d, g, gd, a0, d0, r, Omega, n):\n",
    "    #x, y, c = population\n",
    "    # Switch 1 (Promoter pointing to the right R)\n",
    "    propensities[0] = a0 * x[0] * x[7]  / Omega # R00 -> R10\n",
    "    propensities[1] = d0 * x[1] # R10 -> R00\n",
    "    propensities[2] = a0 * x[1] * x[7]  / Omega # R10 -> R11\n",
    "    propensities[3] = d0 * x[3] # R11 -> R10\n",
    "    propensities[4] = a0 * x[0] * x[7]  / Omega # R00 -> R01\n",
    "    propensities[5] = d0 * x[2] # R01 -> R00\n",
    "    propensities[6] = a0 * x[2] * x[7]  / Omega # R01 -> R11\n",
    "    propensities[7] = d0 * x[3] # R11 -> R01\n",
    "    propensities[8] = r * x[3] # R11 -> L00\n",
    "\n",
    "    # TX-TL of recombinase 1\n",
    "    propensities[9] = th * x[0] # R00 -> R00 + M1\n",
    "    propensities[10] = ph * x[5] # M1 -> 0\n",
    "    propensities[11] = rh * x[5] # M1 -> M1 + X1\n",
    "    propensities[12] = d * x[6] # X1 -> 0\n",
    "    propensities[13] = g * x[6] * (x[6]-1)  / 2 / Omega # X1 + X1 -> Y1\n",
    "    propensities[14] = gd * x[7] # Y1 -> X1 + X1\n",
    "    propensities[15] = d * x[7] # Y1 -> 0\n",
    "    \n",
    "    # TX of dummy specie\n",
    "    propensities[16] = 5 * x[4] # M1 -> M1 + X1\n",
    "    propensities[17] = 1 * x[8] # X1 -> 0\n",
    "                  "
   ]
  },
  {
   "cell_type": "code",
   "execution_count": 12,
   "metadata": {
    "id": "WPPDzJe6SOOL"
   },
   "outputs": [
    {
     "name": "stderr",
     "output_type": "stream",
     "text": [
      "100%|██████████| 125/125 [00:36<00:00,  3.45it/s]\n",
      " 96%|█████████▌| 120/125 [00:36<00:00,  5.62it/s]\n",
      "100%|██████████| 125/125 [00:36<00:00,  3.41it/s]\n",
      "100%|██████████| 125/125 [00:37<00:00,  3.37it/s]\n"
     ]
    }
   ],
   "source": [
    "# Specify parameters for calculation\n",
    "n = 1 # copy number of promoter\n",
    "th = .3*60/n # 1/h\n",
    "rh = 80 # 1/h\n",
    "ph = 0.6931/10*60 # 1/h log(2)=0.6931\n",
    "d = 0.6931/30*60 # 1/h log(2)=0.6931\n",
    "g = 2.1*36 # 1/uM/h \n",
    "gd = g*0.01 # 1/h\n",
    "r = 5 # 1/h Switching -- rate 5 and 1 for paper\n",
    "a0 = 2.1*36\n",
    "d0 = 0.1*a0\n",
    "\n",
    "Omega = 600 # 600\n",
    "\n",
    "args = (th, rh, ph, d, g, gd, a0, d0, r, Omega, n)\n",
    "time_points = np.linspace(0, 10, 51)\n",
    "population_0 = np.zeros(9, dtype=int)\n",
    "population_0[0] = n\n",
    "population_0[7] = 0\n",
    "\n",
    "samples = biocircuits.gillespie_ssa(simple_propensity, simple_update, population_0,time_points, size=125, args=args, n_threads=4,progress_bar=True)"
   ]
  },
  {
   "cell_type": "code",
   "execution_count": 36,
   "metadata": {
    "colab": {
     "base_uri": "https://localhost:8080/",
     "height": 217
    },
    "executionInfo": {
     "elapsed": 300,
     "status": "ok",
     "timestamp": 1651705924780,
     "user": {
      "displayName": "Judith Landau",
      "userId": "16650559787501200181"
     },
     "user_tz": 420
    },
    "id": "nm8-36wVS0u5",
    "outputId": "635883f7-19f2-414e-b096-29547f8d2478"
   },
   "outputs": [
    {
     "data": {
      "text/html": [
       "\n",
       "\n",
       "\n",
       "\n",
       "\n",
       "\n",
       "  <div class=\"bk-root\" id=\"689b3611-669e-4fd2-9470-f129020fd21a\" data-root-id=\"56263\"></div>\n"
      ]
     },
     "metadata": {},
     "output_type": "display_data"
    },
    {
     "data": {
      "application/javascript": [
       "(function(root) {\n",
       "  function embed_document(root) {\n",
       "    \n",
       "  const docs_json = {\"9e8e92f7-6060-4ebf-839b-153d09cb1e6c\":{\"defs\":[],\"roots\":{\"references\":[{\"attributes\":{\"children\":[{\"id\":\"54315\"},{\"id\":\"54346\"}]},\"id\":\"56263\",\"type\":\"Row\"},{\"attributes\":{\"source\":{\"id\":\"54503\"}},\"id\":\"54508\",\"type\":\"CDSView\"},{\"attributes\":{\"line_alpha\":0.5,\"line_color\":\"grey\",\"line_width\":2,\"x\":{\"field\":\"x\"},\"y\":{\"field\":\"y\"}},\"id\":\"54510\",\"type\":\"Step\"},{\"attributes\":{\"data\":{\"x\":{\"__ndarray__\":\"AAAAAAAAAACamZmZmZnJP5qZmZmZmdk/NDMzMzMz4z+amZmZmZnpPwAAAAAAAPA/NDMzMzMz8z9nZmZmZmb2P5qZmZmZmfk/zczMzMzM/D8AAAAAAAAAQJqZmZmZmQFANDMzMzMzA0DNzMzMzMwEQGdmZmZmZgZAAAAAAAAACECamZmZmZkJQDQzMzMzMwtAzczMzMzMDEBnZmZmZmYOQAAAAAAAABBAzczMzMzMEECamZmZmZkRQGdmZmZmZhJANDMzMzMzE0AAAAAAAAAUQM3MzMzMzBRAmpmZmZmZFUBnZmZmZmYWQDQzMzMzMxdAAAAAAAAAGEDNzMzMzMwYQJqZmZmZmRlAZ2ZmZmZmGkA0MzMzMzMbQAAAAAAAABxAzczMzMzMHECamZmZmZkdQGdmZmZmZh5ANDMzMzMzH0AAAAAAAAAgQGdmZmZmZiBAzczMzMzMIEAzMzMzMzMhQJqZmZmZmSFAAAAAAAAAIkBnZmZmZmYiQM3MzMzMzCJANDMzMzMzI0CamZmZmZkjQAAAAAAAACRA\",\"dtype\":\"float64\",\"order\":\"little\",\"shape\":[51]},\"y\":[0,0,4,16,33,45,61,68,75,75,65,53,43,35,33,30,30,34,34,33,23,18,24,26,35,29,19,13,10,8,3,2,1,1,1,1,1,1,0,0,1,0,0,0,0,0,0,0,0,0,0]},\"selected\":{\"id\":\"54696\"},\"selection_policy\":{\"id\":\"54695\"}},\"id\":\"54509\",\"type\":\"ColumnDataSource\"},{\"attributes\":{\"line_alpha\":0.2,\"line_color\":\"grey\",\"line_width\":2,\"x\":{\"field\":\"x\"},\"y\":{\"field\":\"y\"}},\"id\":\"54512\",\"type\":\"Step\"},{\"attributes\":{\"source\":{\"id\":\"54515\"}},\"id\":\"54520\",\"type\":\"CDSView\"},{\"attributes\":{\"coordinates\":null,\"data_source\":{\"id\":\"54509\"},\"glyph\":{\"id\":\"54510\"},\"group\":null,\"hover_glyph\":null,\"muted_glyph\":{\"id\":\"54512\"},\"nonselection_glyph\":{\"id\":\"54511\"},\"view\":{\"id\":\"54514\"}},\"id\":\"54513\",\"type\":\"GlyphRenderer\"},{\"attributes\":{\"data\":{\"x\":{\"__ndarray__\":\"AAAAAAAAAACamZmZmZnJP5qZmZmZmdk/NDMzMzMz4z+amZmZmZnpPwAAAAAAAPA/NDMzMzMz8z9nZmZmZmb2P5qZmZmZmfk/zczMzMzM/D8AAAAAAAAAQJqZmZmZmQFANDMzMzMzA0DNzMzMzMwEQGdmZmZmZgZAAAAAAAAACECamZmZmZkJQDQzMzMzMwtAzczMzMzMDEBnZmZmZmYOQAAAAAAAABBAzczMzMzMEECamZmZmZkRQGdmZmZmZhJANDMzMzMzE0AAAAAAAAAUQM3MzMzMzBRAmpmZmZmZFUBnZmZmZmYWQDQzMzMzMxdAAAAAAAAAGEDNzMzMzMwYQJqZmZmZmRlAZ2ZmZmZmGkA0MzMzMzMbQAAAAAAAABxAzczMzMzMHECamZmZmZkdQGdmZmZmZh5ANDMzMzMzH0AAAAAAAAAgQGdmZmZmZiBAzczMzMzMIEAzMzMzMzMhQJqZmZmZmSFAAAAAAAAAIkBnZmZmZmYiQM3MzMzMzCJANDMzMzMzI0CamZmZmZkjQAAAAAAAACRA\",\"dtype\":\"float64\",\"order\":\"little\",\"shape\":[51]},\"y\":[0,0,0,0,0,0,0,0,0,0,0,0,0,0,0,0,0,0,0,0,0,0,0,1,1,1,1,1,1,1,1,1,1,1,1,1,1,1,1,1,1,1,1,1,1,1,1,1,1,1,1]},\"selected\":{\"id\":\"55495\"},\"selection_policy\":{\"id\":\"55494\"}},\"id\":\"54515\",\"type\":\"ColumnDataSource\"},{\"attributes\":{\"line_alpha\":0.1,\"line_color\":\"grey\",\"line_width\":2,\"x\":{\"field\":\"x\"},\"y\":{\"field\":\"y\"}},\"id\":\"54511\",\"type\":\"Step\"},{\"attributes\":{\"source\":{\"id\":\"54509\"}},\"id\":\"54514\",\"type\":\"CDSView\"},{\"attributes\":{\"data\":{\"x\":{\"__ndarray__\":\"AAAAAAAAAACamZmZmZnJP5qZmZmZmdk/NDMzMzMz4z+amZmZmZnpPwAAAAAAAPA/NDMzMzMz8z9nZmZmZmb2P5qZmZmZmfk/zczMzMzM/D8AAAAAAAAAQJqZmZmZmQFANDMzMzMzA0DNzMzMzMwEQGdmZmZmZgZAAAAAAAAACECamZmZmZkJQDQzMzMzMwtAzczMzMzMDEBnZmZmZmYOQAAAAAAAABBAzczMzMzMEECamZmZmZkRQGdmZmZmZhJANDMzMzMzE0AAAAAAAAAUQM3MzMzMzBRAmpmZmZmZFUBnZmZmZmYWQDQzMzMzMxdAAAAAAAAAGEDNzMzMzMwYQJqZmZmZmRlAZ2ZmZmZmGkA0MzMzMzMbQAAAAAAAABxAzczMzMzMHECamZmZmZkdQGdmZmZmZh5ANDMzMzMzH0AAAAAAAAAgQGdmZmZmZiBAzczMzMzMIEAzMzMzMzMhQJqZmZmZmSFAAAAAAAAAIkBnZmZmZmYiQM3MzMzMzCJANDMzMzMzI0CamZmZmZkjQAAAAAAAACRA\",\"dtype\":\"float64\",\"order\":\"little\",\"shape\":[51]},\"y\":[0,1,8,32,39,38,38,29,26,21,17,15,10,12,8,6,4,4,2,2,1,1,1,0,0,0,0,0,0,0,0,0,0,0,0,0,0,0,0,0,0,0,0,0,0,0,0,0,0,0,0]},\"selected\":{\"id\":\"54698\"},\"selection_policy\":{\"id\":\"54697\"}},\"id\":\"54521\",\"type\":\"ColumnDataSource\"},{\"attributes\":{\"line_alpha\":0.2,\"line_color\":\"grey\",\"line_width\":2,\"x\":{\"field\":\"x\"},\"y\":{\"field\":\"y\"}},\"id\":\"54518\",\"type\":\"Step\"},{\"attributes\":{\"line_alpha\":0.5,\"line_color\":\"grey\",\"line_width\":2,\"x\":{\"field\":\"x\"},\"y\":{\"field\":\"y\"}},\"id\":\"54522\",\"type\":\"Step\"},{\"attributes\":{\"coordinates\":null,\"data_source\":{\"id\":\"54533\"},\"glyph\":{\"id\":\"54534\"},\"group\":null,\"hover_glyph\":null,\"muted_glyph\":{\"id\":\"54536\"},\"nonselection_glyph\":{\"id\":\"54535\"},\"view\":{\"id\":\"54538\"}},\"id\":\"54537\",\"type\":\"GlyphRenderer\"},{\"attributes\":{\"coordinates\":null,\"data_source\":{\"id\":\"54515\"},\"glyph\":{\"id\":\"54516\"},\"group\":null,\"hover_glyph\":null,\"muted_glyph\":{\"id\":\"54518\"},\"nonselection_glyph\":{\"id\":\"54517\"},\"view\":{\"id\":\"54520\"}},\"id\":\"54519\",\"type\":\"GlyphRenderer\"},{\"attributes\":{\"line_alpha\":0.2,\"line_color\":\"grey\",\"line_width\":2,\"x\":{\"field\":\"x\"},\"y\":{\"field\":\"y\"}},\"id\":\"54524\",\"type\":\"Step\"},{\"attributes\":{\"coordinates\":null,\"data_source\":{\"id\":\"54521\"},\"glyph\":{\"id\":\"54522\"},\"group\":null,\"hover_glyph\":null,\"muted_glyph\":{\"id\":\"54524\"},\"nonselection_glyph\":{\"id\":\"54523\"},\"view\":{\"id\":\"54526\"}},\"id\":\"54525\",\"type\":\"GlyphRenderer\"},{\"attributes\":{\"data\":{\"x\":{\"__ndarray__\":\"AAAAAAAAAACamZmZmZnJP5qZmZmZmdk/NDMzMzMz4z+amZmZmZnpPwAAAAAAAPA/NDMzMzMz8z9nZmZmZmb2P5qZmZmZmfk/zczMzMzM/D8AAAAAAAAAQJqZmZmZmQFANDMzMzMzA0DNzMzMzMwEQGdmZmZmZgZAAAAAAAAACECamZmZmZkJQDQzMzMzMwtAzczMzMzMDEBnZmZmZmYOQAAAAAAAABBAzczMzMzMEECamZmZmZkRQGdmZmZmZhJANDMzMzMzE0AAAAAAAAAUQM3MzMzMzBRAmpmZmZmZFUBnZmZmZmYWQDQzMzMzMxdAAAAAAAAAGEDNzMzMzMwYQJqZmZmZmRlAZ2ZmZmZmGkA0MzMzMzMbQAAAAAAAABxAzczMzMzMHECamZmZmZkdQGdmZmZmZh5ANDMzMzMzH0AAAAAAAAAgQGdmZmZmZiBAzczMzMzMIEAzMzMzMzMhQJqZmZmZmSFAAAAAAAAAIkBnZmZmZmYiQM3MzMzMzCJANDMzMzMzI0CamZmZmZkjQAAAAAAAACRA\",\"dtype\":\"float64\",\"order\":\"little\",\"shape\":[51]},\"y\":[0,0,0,0,0,0,0,0,0,0,1,1,1,1,1,1,1,1,1,1,1,1,1,1,1,1,1,1,1,1,1,1,1,1,1,1,1,1,1,1,1,1,1,1,1,1,1,1,1,1,1]},\"selected\":{\"id\":\"55497\"},\"selection_policy\":{\"id\":\"55496\"}},\"id\":\"54527\",\"type\":\"ColumnDataSource\"},{\"attributes\":{\"line_alpha\":0.1,\"line_color\":\"grey\",\"line_width\":2,\"x\":{\"field\":\"x\"},\"y\":{\"field\":\"y\"}},\"id\":\"54523\",\"type\":\"Step\"},{\"attributes\":{\"source\":{\"id\":\"54521\"}},\"id\":\"54526\",\"type\":\"CDSView\"},{\"attributes\":{\"line_alpha\":0.5,\"line_color\":\"grey\",\"line_width\":2,\"x\":{\"field\":\"x\"},\"y\":{\"field\":\"y\"}},\"id\":\"54528\",\"type\":\"Step\"},{\"attributes\":{\"source\":{\"id\":\"54539\"}},\"id\":\"54544\",\"type\":\"CDSView\"},{\"attributes\":{\"line_alpha\":0.2,\"line_color\":\"grey\",\"line_width\":2,\"x\":{\"field\":\"x\"},\"y\":{\"field\":\"y\"}},\"id\":\"54542\",\"type\":\"Step\"},{\"attributes\":{\"data\":{\"x\":{\"__ndarray__\":\"AAAAAAAAAACamZmZmZnJP5qZmZmZmdk/NDMzMzMz4z+amZmZmZnpPwAAAAAAAPA/NDMzMzMz8z9nZmZmZmb2P5qZmZmZmfk/zczMzMzM/D8AAAAAAAAAQJqZmZmZmQFANDMzMzMzA0DNzMzMzMwEQGdmZmZmZgZAAAAAAAAACECamZmZmZkJQDQzMzMzMwtAzczMzMzMDEBnZmZmZmYOQAAAAAAAABBAzczMzMzMEECamZmZmZkRQGdmZmZmZhJANDMzMzMzE0AAAAAAAAAUQM3MzMzMzBRAmpmZmZmZFUBnZmZmZmYWQDQzMzMzMxdAAAAAAAAAGEDNzMzMzMwYQJqZmZmZmRlAZ2ZmZmZmGkA0MzMzMzMbQAAAAAAAABxAzczMzMzMHECamZmZmZkdQGdmZmZmZh5ANDMzMzMzH0AAAAAAAAAgQGdmZmZmZiBAzczMzMzMIEAzMzMzMzMhQJqZmZmZmSFAAAAAAAAAIkBnZmZmZmYiQM3MzMzMzCJANDMzMzMzI0CamZmZmZkjQAAAAAAAACRA\",\"dtype\":\"float64\",\"order\":\"little\",\"shape\":[51]},\"y\":[0,1,2,19,43,51,41,29,23,25,20,15,16,17,16,14,9,6,6,5,1,1,0,0,0,0,0,0,0,0,0,0,0,0,0,0,0,0,0,0,0,0,0,0,0,0,0,0,0,0,0]},\"selected\":{\"id\":\"54700\"},\"selection_policy\":{\"id\":\"54699\"}},\"id\":\"54533\",\"type\":\"ColumnDataSource\"},{\"attributes\":{\"line_alpha\":0.2,\"line_color\":\"grey\",\"line_width\":2,\"x\":{\"field\":\"x\"},\"y\":{\"field\":\"y\"}},\"id\":\"54536\",\"type\":\"Step\"},{\"attributes\":{\"data\":{\"x\":{\"__ndarray__\":\"AAAAAAAAAACamZmZmZnJP5qZmZmZmdk/NDMzMzMz4z+amZmZmZnpPwAAAAAAAPA/NDMzMzMz8z9nZmZmZmb2P5qZmZmZmfk/zczMzMzM/D8AAAAAAAAAQJqZmZmZmQFANDMzMzMzA0DNzMzMzMwEQGdmZmZmZgZAAAAAAAAACECamZmZmZkJQDQzMzMzMwtAzczMzMzMDEBnZmZmZmYOQAAAAAAAABBAzczMzMzMEECamZmZmZkRQGdmZmZmZhJANDMzMzMzE0AAAAAAAAAUQM3MzMzMzBRAmpmZmZmZFUBnZmZmZmYWQDQzMzMzMxdAAAAAAAAAGEDNzMzMzMwYQJqZmZmZmRlAZ2ZmZmZmGkA0MzMzMzMbQAAAAAAAABxAzczMzMzMHECamZmZmZkdQGdmZmZmZh5ANDMzMzMzH0AAAAAAAAAgQGdmZmZmZiBAzczMzMzMIEAzMzMzMzMhQJqZmZmZmSFAAAAAAAAAIkBnZmZmZmYiQM3MzMzMzCJANDMzMzMzI0CamZmZmZkjQAAAAAAAACRA\",\"dtype\":\"float64\",\"order\":\"little\",\"shape\":[51]},\"y\":[0,0,0,0,0,0,0,0,0,0,0,0,0,1,1,1,1,1,1,1,1,1,1,1,1,1,1,1,1,1,1,1,1,1,1,1,1,1,1,1,1,1,1,1,1,1,1,1,1,1,1]},\"selected\":{\"id\":\"55499\"},\"selection_policy\":{\"id\":\"55498\"}},\"id\":\"54539\",\"type\":\"ColumnDataSource\"},{\"attributes\":{\"line_alpha\":0.1,\"line_color\":\"grey\",\"line_width\":2,\"x\":{\"field\":\"x\"},\"y\":{\"field\":\"y\"}},\"id\":\"54535\",\"type\":\"Step\"},{\"attributes\":{\"source\":{\"id\":\"54533\"}},\"id\":\"54538\",\"type\":\"CDSView\"},{\"attributes\":{\"line_alpha\":0.5,\"line_color\":\"grey\",\"line_width\":2,\"x\":{\"field\":\"x\"},\"y\":{\"field\":\"y\"}},\"id\":\"54540\",\"type\":\"Step\"},{\"attributes\":{\"line_alpha\":0.2,\"line_color\":\"grey\",\"line_width\":2,\"x\":{\"field\":\"x\"},\"y\":{\"field\":\"y\"}},\"id\":\"54554\",\"type\":\"Step\"},{\"attributes\":{\"coordinates\":null,\"data_source\":{\"id\":\"54539\"},\"glyph\":{\"id\":\"54540\"},\"group\":null,\"hover_glyph\":null,\"muted_glyph\":{\"id\":\"54542\"},\"nonselection_glyph\":{\"id\":\"54541\"},\"view\":{\"id\":\"54544\"}},\"id\":\"54543\",\"type\":\"GlyphRenderer\"},{\"attributes\":{\"data\":{\"x\":{\"__ndarray__\":\"AAAAAAAAAACamZmZmZnJP5qZmZmZmdk/NDMzMzMz4z+amZmZmZnpPwAAAAAAAPA/NDMzMzMz8z9nZmZmZmb2P5qZmZmZmfk/zczMzMzM/D8AAAAAAAAAQJqZmZmZmQFANDMzMzMzA0DNzMzMzMwEQGdmZmZmZgZAAAAAAAAACECamZmZmZkJQDQzMzMzMwtAzczMzMzMDEBnZmZmZmYOQAAAAAAAABBAzczMzMzMEECamZmZmZkRQGdmZmZmZhJANDMzMzMzE0AAAAAAAAAUQM3MzMzMzBRAmpmZmZmZFUBnZmZmZmYWQDQzMzMzMxdAAAAAAAAAGEDNzMzMzMwYQJqZmZmZmRlAZ2ZmZmZmGkA0MzMzMzMbQAAAAAAAABxAzczMzMzMHECamZmZmZkdQGdmZmZmZh5ANDMzMzMzH0AAAAAAAAAgQGdmZmZmZiBAzczMzMzMIEAzMzMzMzMhQJqZmZmZmSFAAAAAAAAAIkBnZmZmZmYiQM3MzMzMzCJANDMzMzMzI0CamZmZmZkjQAAAAAAAACRA\",\"dtype\":\"float64\",\"order\":\"little\",\"shape\":[51]},\"y\":[0,0,5,9,8,12,11,27,40,50,49,53,61,44,31,26,19,16,17,18,14,14,8,3,4,5,5,4,3,2,1,1,1,1,0,0,0,0,0,0,0,0,0,0,0,0,0,0,0,0,0]},\"selected\":{\"id\":\"54702\"},\"selection_policy\":{\"id\":\"54701\"}},\"id\":\"54545\",\"type\":\"ColumnDataSource\"},{\"attributes\":{\"coordinates\":null,\"data_source\":{\"id\":\"54581\"},\"glyph\":{\"id\":\"54582\"},\"group\":null,\"hover_glyph\":null,\"muted_glyph\":{\"id\":\"54584\"},\"nonselection_glyph\":{\"id\":\"54583\"},\"view\":{\"id\":\"54586\"}},\"id\":\"54585\",\"type\":\"GlyphRenderer\"},{\"attributes\":{\"line_alpha\":0.1,\"line_color\":\"grey\",\"line_width\":2,\"x\":{\"field\":\"x\"},\"y\":{\"field\":\"y\"}},\"id\":\"54541\",\"type\":\"Step\"},{\"attributes\":{\"line_alpha\":0.5,\"line_color\":\"grey\",\"line_width\":2,\"x\":{\"field\":\"x\"},\"y\":{\"field\":\"y\"}},\"id\":\"54546\",\"type\":\"Step\"},{\"attributes\":{\"line_alpha\":0.2,\"line_color\":\"grey\",\"line_width\":2,\"x\":{\"field\":\"x\"},\"y\":{\"field\":\"y\"}},\"id\":\"54548\",\"type\":\"Step\"},{\"attributes\":{\"coordinates\":null,\"data_source\":{\"id\":\"54545\"},\"glyph\":{\"id\":\"54546\"},\"group\":null,\"hover_glyph\":null,\"muted_glyph\":{\"id\":\"54548\"},\"nonselection_glyph\":{\"id\":\"54547\"},\"view\":{\"id\":\"54550\"}},\"id\":\"54549\",\"type\":\"GlyphRenderer\"},{\"attributes\":{\"data\":{\"x\":{\"__ndarray__\":\"AAAAAAAAAACamZmZmZnJP5qZmZmZmdk/NDMzMzMz4z+amZmZmZnpPwAAAAAAAPA/NDMzMzMz8z9nZmZmZmb2P5qZmZmZmfk/zczMzMzM/D8AAAAAAAAAQJqZmZmZmQFANDMzMzMzA0DNzMzMzMwEQGdmZmZmZgZAAAAAAAAACECamZmZmZkJQDQzMzMzMwtAzczMzMzMDEBnZmZmZmYOQAAAAAAAABBAzczMzMzMEECamZmZmZkRQGdmZmZmZhJANDMzMzMzE0AAAAAAAAAUQM3MzMzMzBRAmpmZmZmZFUBnZmZmZmYWQDQzMzMzMxdAAAAAAAAAGEDNzMzMzMwYQJqZmZmZmRlAZ2ZmZmZmGkA0MzMzMzMbQAAAAAAAABxAzczMzMzMHECamZmZmZkdQGdmZmZmZh5ANDMzMzMzH0AAAAAAAAAgQGdmZmZmZiBAzczMzMzMIEAzMzMzMzMhQJqZmZmZmSFAAAAAAAAAIkBnZmZmZmYiQM3MzMzMzCJANDMzMzMzI0CamZmZmZkjQAAAAAAAACRA\",\"dtype\":\"float64\",\"order\":\"little\",\"shape\":[51]},\"y\":[0,0,0,0,0,0,0,0,0,0,0,0,0,0,0,1,1,1,1,1,1,1,1,1,1,1,1,1,1,1,1,1,1,1,1,1,1,1,1,1,1,1,1,1,1,1,1,1,1,1,1]},\"selected\":{\"id\":\"55501\"},\"selection_policy\":{\"id\":\"55500\"}},\"id\":\"54551\",\"type\":\"ColumnDataSource\"},{\"attributes\":{\"line_alpha\":0.1,\"line_color\":\"grey\",\"line_width\":2,\"x\":{\"field\":\"x\"},\"y\":{\"field\":\"y\"}},\"id\":\"54547\",\"type\":\"Step\"},{\"attributes\":{\"source\":{\"id\":\"54545\"}},\"id\":\"54550\",\"type\":\"CDSView\"},{\"attributes\":{\"line_alpha\":0.5,\"line_color\":\"grey\",\"line_width\":2,\"x\":{\"field\":\"x\"},\"y\":{\"field\":\"y\"}},\"id\":\"54552\",\"type\":\"Step\"},{\"attributes\":{\"line_alpha\":0.2,\"line_color\":\"grey\",\"line_width\":2,\"x\":{\"field\":\"x\"},\"y\":{\"field\":\"y\"}},\"id\":\"54560\",\"type\":\"Step\"},{\"attributes\":{\"coordinates\":null,\"data_source\":{\"id\":\"54551\"},\"glyph\":{\"id\":\"54552\"},\"group\":null,\"hover_glyph\":null,\"muted_glyph\":{\"id\":\"54554\"},\"nonselection_glyph\":{\"id\":\"54553\"},\"view\":{\"id\":\"54556\"}},\"id\":\"54555\",\"type\":\"GlyphRenderer\"},{\"attributes\":{\"data\":{\"x\":{\"__ndarray__\":\"AAAAAAAAAACamZmZmZnJP5qZmZmZmdk/NDMzMzMz4z+amZmZmZnpPwAAAAAAAPA/NDMzMzMz8z9nZmZmZmb2P5qZmZmZmfk/zczMzMzM/D8AAAAAAAAAQJqZmZmZmQFANDMzMzMzA0DNzMzMzMwEQGdmZmZmZgZAAAAAAAAACECamZmZmZkJQDQzMzMzMwtAzczMzMzMDEBnZmZmZmYOQAAAAAAAABBAzczMzMzMEECamZmZmZkRQGdmZmZmZhJANDMzMzMzE0AAAAAAAAAUQM3MzMzMzBRAmpmZmZmZFUBnZmZmZmYWQDQzMzMzMxdAAAAAAAAAGEDNzMzMzMwYQJqZmZmZmRlAZ2ZmZmZmGkA0MzMzMzMbQAAAAAAAABxAzczMzMzMHECamZmZmZkdQGdmZmZmZh5ANDMzMzMzH0AAAAAAAAAgQGdmZmZmZiBAzczMzMzMIEAzMzMzMzMhQJqZmZmZmSFAAAAAAAAAIkBnZmZmZmYiQM3MzMzMzCJANDMzMzMzI0CamZmZmZkjQAAAAAAAACRA\",\"dtype\":\"float64\",\"order\":\"little\",\"shape\":[51]},\"y\":[0,1,14,40,44,42,41,65,72,52,42,34,25,19,6,6,7,3,1,1,1,1,1,0,0,0,0,0,0,0,0,0,0,0,0,0,0,0,0,0,0,0,0,0,0,0,0,0,0,0,0]},\"selected\":{\"id\":\"54704\"},\"selection_policy\":{\"id\":\"54703\"}},\"id\":\"54557\",\"type\":\"ColumnDataSource\"},{\"attributes\":{\"line_alpha\":0.1,\"line_color\":\"grey\",\"line_width\":2,\"x\":{\"field\":\"x\"},\"y\":{\"field\":\"y\"}},\"id\":\"54553\",\"type\":\"Step\"},{\"attributes\":{\"source\":{\"id\":\"54551\"}},\"id\":\"54556\",\"type\":\"CDSView\"},{\"attributes\":{\"line_alpha\":0.5,\"line_color\":\"grey\",\"line_width\":2,\"x\":{\"field\":\"x\"},\"y\":{\"field\":\"y\"}},\"id\":\"54558\",\"type\":\"Step\"},{\"attributes\":{\"line_alpha\":0.2,\"line_color\":\"grey\",\"line_width\":2,\"x\":{\"field\":\"x\"},\"y\":{\"field\":\"y\"}},\"id\":\"54566\",\"type\":\"Step\"},{\"attributes\":{\"coordinates\":null,\"data_source\":{\"id\":\"54557\"},\"glyph\":{\"id\":\"54558\"},\"group\":null,\"hover_glyph\":null,\"muted_glyph\":{\"id\":\"54560\"},\"nonselection_glyph\":{\"id\":\"54559\"},\"view\":{\"id\":\"54562\"}},\"id\":\"54561\",\"type\":\"GlyphRenderer\"},{\"attributes\":{\"data\":{\"x\":{\"__ndarray__\":\"AAAAAAAAAACamZmZmZnJP5qZmZmZmdk/NDMzMzMz4z+amZmZmZnpPwAAAAAAAPA/NDMzMzMz8z9nZmZmZmb2P5qZmZmZmfk/zczMzMzM/D8AAAAAAAAAQJqZmZmZmQFANDMzMzMzA0DNzMzMzMwEQGdmZmZmZgZAAAAAAAAACECamZmZmZkJQDQzMzMzMwtAzczMzMzMDEBnZmZmZmYOQAAAAAAAABBAzczMzMzMEECamZmZmZkRQGdmZmZmZhJANDMzMzMzE0AAAAAAAAAUQM3MzMzMzBRAmpmZmZmZFUBnZmZmZmYWQDQzMzMzMxdAAAAAAAAAGEDNzMzMzMwYQJqZmZmZmRlAZ2ZmZmZmGkA0MzMzMzMbQAAAAAAAABxAzczMzMzMHECamZmZmZkdQGdmZmZmZh5ANDMzMzMzH0AAAAAAAAAgQGdmZmZmZiBAzczMzMzMIEAzMzMzMzMhQJqZmZmZmSFAAAAAAAAAIkBnZmZmZmYiQM3MzMzMzCJANDMzMzMzI0CamZmZmZkjQAAAAAAAACRA\",\"dtype\":\"float64\",\"order\":\"little\",\"shape\":[51]},\"y\":[0,0,0,0,0,0,0,0,0,0,1,1,1,1,1,1,1,1,1,1,1,1,1,1,1,1,1,1,1,1,1,1,1,1,1,1,1,1,1,1,1,1,1,1,1,1,1,1,1,1,1]},\"selected\":{\"id\":\"55503\"},\"selection_policy\":{\"id\":\"55502\"}},\"id\":\"54563\",\"type\":\"ColumnDataSource\"},{\"attributes\":{\"line_alpha\":0.1,\"line_color\":\"grey\",\"line_width\":2,\"x\":{\"field\":\"x\"},\"y\":{\"field\":\"y\"}},\"id\":\"54559\",\"type\":\"Step\"},{\"attributes\":{\"source\":{\"id\":\"54557\"}},\"id\":\"54562\",\"type\":\"CDSView\"},{\"attributes\":{\"line_alpha\":0.5,\"line_color\":\"grey\",\"line_width\":2,\"x\":{\"field\":\"x\"},\"y\":{\"field\":\"y\"}},\"id\":\"54564\",\"type\":\"Step\"},{\"attributes\":{\"line_alpha\":0.2,\"line_color\":\"grey\",\"line_width\":2,\"x\":{\"field\":\"x\"},\"y\":{\"field\":\"y\"}},\"id\":\"54572\",\"type\":\"Step\"},{\"attributes\":{\"coordinates\":null,\"data_source\":{\"id\":\"54563\"},\"glyph\":{\"id\":\"54564\"},\"group\":null,\"hover_glyph\":null,\"muted_glyph\":{\"id\":\"54566\"},\"nonselection_glyph\":{\"id\":\"54565\"},\"view\":{\"id\":\"54568\"}},\"id\":\"54567\",\"type\":\"GlyphRenderer\"},{\"attributes\":{\"data\":{\"x\":{\"__ndarray__\":\"AAAAAAAAAACamZmZmZnJP5qZmZmZmdk/NDMzMzMz4z+amZmZmZnpPwAAAAAAAPA/NDMzMzMz8z9nZmZmZmb2P5qZmZmZmfk/zczMzMzM/D8AAAAAAAAAQJqZmZmZmQFANDMzMzMzA0DNzMzMzMwEQGdmZmZmZgZAAAAAAAAACECamZmZmZkJQDQzMzMzMwtAzczMzMzMDEBnZmZmZmYOQAAAAAAAABBAzczMzMzMEECamZmZmZkRQGdmZmZmZhJANDMzMzMzE0AAAAAAAAAUQM3MzMzMzBRAmpmZmZmZFUBnZmZmZmYWQDQzMzMzMxdAAAAAAAAAGEDNzMzMzMwYQJqZmZmZmRlAZ2ZmZmZmGkA0MzMzMzMbQAAAAAAAABxAzczMzMzMHECamZmZmZkdQGdmZmZmZh5ANDMzMzMzH0AAAAAAAAAgQGdmZmZmZiBAzczMzMzMIEAzMzMzMzMhQJqZmZmZmSFAAAAAAAAAIkBnZmZmZmYiQM3MzMzMzCJANDMzMzMzI0CamZmZmZkjQAAAAAAAACRA\",\"dtype\":\"float64\",\"order\":\"little\",\"shape\":[51]},\"y\":[0,1,24,44,48,40,43,38,28,17,20,15,15,20,23,54,80,70,59,56,47,36,25,18,10,9,6,3,3,2,2,0,0,0,0,0,0,0,0,0,0,0,0,0,0,0,0,0,0,0,0]},\"selected\":{\"id\":\"54706\"},\"selection_policy\":{\"id\":\"54705\"}},\"id\":\"54569\",\"type\":\"ColumnDataSource\"},{\"attributes\":{\"line_alpha\":0.1,\"line_color\":\"grey\",\"line_width\":2,\"x\":{\"field\":\"x\"},\"y\":{\"field\":\"y\"}},\"id\":\"54565\",\"type\":\"Step\"},{\"attributes\":{\"source\":{\"id\":\"54563\"}},\"id\":\"54568\",\"type\":\"CDSView\"},{\"attributes\":{\"line_alpha\":0.5,\"line_color\":\"grey\",\"line_width\":2,\"x\":{\"field\":\"x\"},\"y\":{\"field\":\"y\"}},\"id\":\"54570\",\"type\":\"Step\"},{\"attributes\":{\"line_alpha\":0.2,\"line_color\":\"grey\",\"line_width\":2,\"x\":{\"field\":\"x\"},\"y\":{\"field\":\"y\"}},\"id\":\"54578\",\"type\":\"Step\"},{\"attributes\":{\"coordinates\":null,\"data_source\":{\"id\":\"54569\"},\"glyph\":{\"id\":\"54570\"},\"group\":null,\"hover_glyph\":null,\"muted_glyph\":{\"id\":\"54572\"},\"nonselection_glyph\":{\"id\":\"54571\"},\"view\":{\"id\":\"54574\"}},\"id\":\"54573\",\"type\":\"GlyphRenderer\"},{\"attributes\":{\"data\":{\"x\":{\"__ndarray__\":\"AAAAAAAAAACamZmZmZnJP5qZmZmZmdk/NDMzMzMz4z+amZmZmZnpPwAAAAAAAPA/NDMzMzMz8z9nZmZmZmb2P5qZmZmZmfk/zczMzMzM/D8AAAAAAAAAQJqZmZmZmQFANDMzMzMzA0DNzMzMzMwEQGdmZmZmZgZAAAAAAAAACECamZmZmZkJQDQzMzMzMwtAzczMzMzMDEBnZmZmZmYOQAAAAAAAABBAzczMzMzMEECamZmZmZkRQGdmZmZmZhJANDMzMzMzE0AAAAAAAAAUQM3MzMzMzBRAmpmZmZmZFUBnZmZmZmYWQDQzMzMzMxdAAAAAAAAAGEDNzMzMzMwYQJqZmZmZmRlAZ2ZmZmZmGkA0MzMzMzMbQAAAAAAAABxAzczMzMzMHECamZmZmZkdQGdmZmZmZh5ANDMzMzMzH0AAAAAAAAAgQGdmZmZmZiBAzczMzMzMIEAzMzMzMzMhQJqZmZmZmSFAAAAAAAAAIkBnZmZmZmYiQM3MzMzMzCJANDMzMzMzI0CamZmZmZkjQAAAAAAAACRA\",\"dtype\":\"float64\",\"order\":\"little\",\"shape\":[51]},\"y\":[0,0,0,0,0,0,0,0,0,0,0,0,0,0,0,0,0,0,1,1,1,1,1,1,1,1,1,1,1,1,1,1,1,1,1,1,1,1,1,1,1,1,1,1,1,1,1,1,1,1,1]},\"selected\":{\"id\":\"55505\"},\"selection_policy\":{\"id\":\"55504\"}},\"id\":\"54575\",\"type\":\"ColumnDataSource\"},{\"attributes\":{\"line_alpha\":0.1,\"line_color\":\"grey\",\"line_width\":2,\"x\":{\"field\":\"x\"},\"y\":{\"field\":\"y\"}},\"id\":\"54571\",\"type\":\"Step\"},{\"attributes\":{\"source\":{\"id\":\"54569\"}},\"id\":\"54574\",\"type\":\"CDSView\"},{\"attributes\":{\"line_alpha\":0.5,\"line_color\":\"grey\",\"line_width\":2,\"x\":{\"field\":\"x\"},\"y\":{\"field\":\"y\"}},\"id\":\"54576\",\"type\":\"Step\"},{\"attributes\":{\"line_alpha\":0.1,\"line_color\":\"grey\",\"line_width\":2,\"x\":{\"field\":\"x\"},\"y\":{\"field\":\"y\"}},\"id\":\"54583\",\"type\":\"Step\"},{\"attributes\":{\"coordinates\":null,\"data_source\":{\"id\":\"54575\"},\"glyph\":{\"id\":\"54576\"},\"group\":null,\"hover_glyph\":null,\"muted_glyph\":{\"id\":\"54578\"},\"nonselection_glyph\":{\"id\":\"54577\"},\"view\":{\"id\":\"54580\"}},\"id\":\"54579\",\"type\":\"GlyphRenderer\"},{\"attributes\":{\"data\":{\"x\":{\"__ndarray__\":\"AAAAAAAAAACamZmZmZnJP5qZmZmZmdk/NDMzMzMz4z+amZmZmZnpPwAAAAAAAPA/NDMzMzMz8z9nZmZmZmb2P5qZmZmZmfk/zczMzMzM/D8AAAAAAAAAQJqZmZmZmQFANDMzMzMzA0DNzMzMzMwEQGdmZmZmZgZAAAAAAAAACECamZmZmZkJQDQzMzMzMwtAzczMzMzMDEBnZmZmZmYOQAAAAAAAABBAzczMzMzMEECamZmZmZkRQGdmZmZmZhJANDMzMzMzE0AAAAAAAAAUQM3MzMzMzBRAmpmZmZmZFUBnZmZmZmYWQDQzMzMzMxdAAAAAAAAAGEDNzMzMzMwYQJqZmZmZmRlAZ2ZmZmZmGkA0MzMzMzMbQAAAAAAAABxAzczMzMzMHECamZmZmZkdQGdmZmZmZh5ANDMzMzMzH0AAAAAAAAAgQGdmZmZmZiBAzczMzMzMIEAzMzMzMzMhQJqZmZmZmSFAAAAAAAAAIkBnZmZmZmYiQM3MzMzMzCJANDMzMzMzI0CamZmZmZkjQAAAAAAAACRA\",\"dtype\":\"float64\",\"order\":\"little\",\"shape\":[51]},\"y\":[0,1,8,19,27,37,51,52,50,49,34,25,17,7,3,5,4,4,4,4,3,2,2,2,0,0,0,0,0,0,0,0,0,0,0,0,0,0,0,0,0,0,0,0,0,0,0,0,0,0,0]},\"selected\":{\"id\":\"54708\"},\"selection_policy\":{\"id\":\"54707\"}},\"id\":\"54581\",\"type\":\"ColumnDataSource\"},{\"attributes\":{\"line_alpha\":0.1,\"line_color\":\"grey\",\"line_width\":2,\"x\":{\"field\":\"x\"},\"y\":{\"field\":\"y\"}},\"id\":\"54577\",\"type\":\"Step\"},{\"attributes\":{\"source\":{\"id\":\"54575\"}},\"id\":\"54580\",\"type\":\"CDSView\"},{\"attributes\":{\"line_alpha\":0.5,\"line_color\":\"grey\",\"line_width\":2,\"x\":{\"field\":\"x\"},\"y\":{\"field\":\"y\"}},\"id\":\"54582\",\"type\":\"Step\"},{\"attributes\":{\"source\":{\"id\":\"54581\"}},\"id\":\"54586\",\"type\":\"CDSView\"},{\"attributes\":{\"line_alpha\":0.2,\"line_color\":\"grey\",\"line_width\":2,\"x\":{\"field\":\"x\"},\"y\":{\"field\":\"y\"}},\"id\":\"54584\",\"type\":\"Step\"},{\"attributes\":{\"fill_alpha\":{\"value\":0.1},\"fill_color\":{\"value\":\"white\"},\"hatch_alpha\":{\"value\":0.1},\"hatch_color\":{\"value\":\"white\"},\"line_alpha\":{\"value\":0.1},\"line_color\":{\"value\":\"white\"},\"x\":{\"value\":2.4000000000000004},\"y\":{\"value\":1}},\"id\":\"54661\",\"type\":\"Circle\"},{\"attributes\":{\"source\":{\"id\":\"54659\"}},\"id\":\"54664\",\"type\":\"CDSView\"},{\"attributes\":{\"coordinates\":null,\"data_source\":{\"id\":\"54659\"},\"glyph\":{\"id\":\"54660\"},\"group\":null,\"hover_glyph\":null,\"muted_glyph\":{\"id\":\"54662\"},\"nonselection_glyph\":{\"id\":\"54661\"},\"view\":{\"id\":\"54664\"}},\"id\":\"54663\",\"type\":\"GlyphRenderer\"},{\"attributes\":{\"coordinates\":null,\"data_source\":{\"id\":\"54377\"},\"glyph\":{\"id\":\"54378\"},\"group\":null,\"hover_glyph\":null,\"muted_glyph\":{\"id\":\"54380\"},\"nonselection_glyph\":{\"id\":\"54379\"},\"view\":{\"id\":\"54382\"}},\"id\":\"54381\",\"type\":\"GlyphRenderer\"},{\"attributes\":{\"fill_alpha\":{\"value\":0.2},\"fill_color\":{\"value\":\"white\"},\"hatch_alpha\":{\"value\":0.2},\"hatch_color\":{\"value\":\"white\"},\"line_alpha\":{\"value\":0.2},\"line_color\":{\"value\":\"white\"},\"x\":{\"value\":2.4000000000000004},\"y\":{\"value\":1}},\"id\":\"54662\",\"type\":\"Circle\"},{\"attributes\":{\"line_alpha\":0.5,\"line_color\":\"grey\",\"line_width\":2,\"x\":{\"field\":\"x\"},\"y\":{\"field\":\"y\"}},\"id\":\"54534\",\"type\":\"Step\"},{\"attributes\":{},\"id\":\"54677\",\"type\":\"UnionRenderers\"},{\"attributes\":{\"coordinates\":null,\"data_source\":{\"id\":\"54527\"},\"glyph\":{\"id\":\"54528\"},\"group\":null,\"hover_glyph\":null,\"muted_glyph\":{\"id\":\"54530\"},\"nonselection_glyph\":{\"id\":\"54529\"},\"view\":{\"id\":\"54532\"}},\"id\":\"54531\",\"type\":\"GlyphRenderer\"},{\"attributes\":{},\"id\":\"54678\",\"type\":\"Selection\"},{\"attributes\":{\"coordinates\":null,\"data_source\":{\"id\":\"54413\"},\"glyph\":{\"id\":\"54414\"},\"group\":null,\"hover_glyph\":null,\"muted_glyph\":{\"id\":\"54416\"},\"nonselection_glyph\":{\"id\":\"54415\"},\"view\":{\"id\":\"54418\"}},\"id\":\"54417\",\"type\":\"GlyphRenderer\"},{\"attributes\":{},\"id\":\"55505\",\"type\":\"Selection\"},{\"attributes\":{\"line_alpha\":0.5,\"line_color\":\"grey\",\"line_width\":2,\"x\":{\"field\":\"x\"},\"y\":{\"field\":\"y\"}},\"id\":\"54438\",\"type\":\"Step\"},{\"attributes\":{},\"id\":\"54715\",\"type\":\"UnionRenderers\"},{\"attributes\":{\"line_alpha\":0.1,\"line_color\":\"grey\",\"line_width\":2,\"x\":{\"field\":\"x\"},\"y\":{\"field\":\"y\"}},\"id\":\"54439\",\"type\":\"Step\"},{\"attributes\":{\"source\":{\"id\":\"54527\"}},\"id\":\"54532\",\"type\":\"CDSView\"},{\"attributes\":{\"line_alpha\":0.1,\"line_color\":\"grey\",\"line_width\":2,\"x\":{\"field\":\"x\"},\"y\":{\"field\":\"y\"}},\"id\":\"54517\",\"type\":\"Step\"},{\"attributes\":{},\"id\":\"54716\",\"type\":\"Selection\"},{\"attributes\":{\"coordinates\":null,\"data_source\":{\"id\":\"54395\"},\"glyph\":{\"id\":\"54396\"},\"group\":null,\"hover_glyph\":null,\"muted_glyph\":{\"id\":\"54398\"},\"nonselection_glyph\":{\"id\":\"54397\"},\"view\":{\"id\":\"54400\"}},\"id\":\"54399\",\"type\":\"GlyphRenderer\"},{\"attributes\":{\"source\":{\"id\":\"54377\"}},\"id\":\"54382\",\"type\":\"CDSView\"},{\"attributes\":{\"line_alpha\":0.5,\"line_color\":\"grey\",\"line_width\":2,\"x\":{\"field\":\"x\"},\"y\":{\"field\":\"y\"}},\"id\":\"54432\",\"type\":\"Step\"},{\"attributes\":{\"line_alpha\":0.5,\"line_color\":\"grey\",\"line_width\":2,\"x\":{\"field\":\"x\"},\"y\":{\"field\":\"y\"}},\"id\":\"54420\",\"type\":\"Step\"},{\"attributes\":{\"coordinates\":null,\"group\":null},\"id\":\"54665\",\"type\":\"Title\"},{\"attributes\":{\"source\":{\"id\":\"54413\"}},\"id\":\"54418\",\"type\":\"CDSView\"},{\"attributes\":{\"line_alpha\":0.1,\"line_color\":\"grey\",\"line_width\":2,\"x\":{\"field\":\"x\"},\"y\":{\"field\":\"y\"}},\"id\":\"54385\",\"type\":\"Step\"},{\"attributes\":{\"data\":{\"x\":{\"__ndarray__\":\"AAAAAAAAAACamZmZmZnJP5qZmZmZmdk/NDMzMzMz4z+amZmZmZnpPwAAAAAAAPA/NDMzMzMz8z9nZmZmZmb2P5qZmZmZmfk/zczMzMzM/D8AAAAAAAAAQJqZmZmZmQFANDMzMzMzA0DNzMzMzMwEQGdmZmZmZgZAAAAAAAAACECamZmZmZkJQDQzMzMzMwtAzczMzMzMDEBnZmZmZmYOQAAAAAAAABBAzczMzMzMEECamZmZmZkRQGdmZmZmZhJANDMzMzMzE0AAAAAAAAAUQM3MzMzMzBRAmpmZmZmZFUBnZmZmZmYWQDQzMzMzMxdAAAAAAAAAGEDNzMzMzMwYQJqZmZmZmRlAZ2ZmZmZmGkA0MzMzMzMbQAAAAAAAABxAzczMzMzMHECamZmZmZkdQGdmZmZmZh5ANDMzMzMzH0AAAAAAAAAgQGdmZmZmZiBAzczMzMzMIEAzMzMzMzMhQJqZmZmZmSFAAAAAAAAAIkBnZmZmZmYiQM3MzMzMzCJANDMzMzMzI0CamZmZmZkjQAAAAAAAACRA\",\"dtype\":\"float64\",\"order\":\"little\",\"shape\":[51]},\"y\":[0,0,0,1,1,1,1,1,1,1,1,1,1,1,1,1,1,1,1,1,1,1,1,1,1,1,1,1,1,1,1,1,1,1,1,1,1,1,1,1,1,1,1,1,1,1,1,1,1,1,1]},\"selected\":{\"id\":\"55475\"},\"selection_policy\":{\"id\":\"55474\"}},\"id\":\"54395\",\"type\":\"ColumnDataSource\"},{\"attributes\":{},\"id\":\"54679\",\"type\":\"UnionRenderers\"},{\"attributes\":{\"line_alpha\":0.1,\"line_color\":\"grey\",\"line_width\":2,\"x\":{\"field\":\"x\"},\"y\":{\"field\":\"y\"}},\"id\":\"54415\",\"type\":\"Step\"},{\"attributes\":{},\"id\":\"54680\",\"type\":\"Selection\"},{\"attributes\":{\"line_alpha\":0.1,\"line_color\":\"grey\",\"line_width\":2,\"x\":{\"field\":\"x\"},\"y\":{\"field\":\"y\"}},\"id\":\"54433\",\"type\":\"Step\"},{\"attributes\":{\"line_alpha\":0.1,\"line_color\":\"grey\",\"line_width\":2,\"x\":{\"field\":\"x\"},\"y\":{\"field\":\"y\"}},\"id\":\"54403\",\"type\":\"Step\"},{\"attributes\":{},\"id\":\"54717\",\"type\":\"UnionRenderers\"},{\"attributes\":{\"source\":{\"id\":\"54389\"}},\"id\":\"54394\",\"type\":\"CDSView\"},{\"attributes\":{\"line_alpha\":0.5,\"line_color\":\"grey\",\"line_width\":2,\"x\":{\"field\":\"x\"},\"y\":{\"field\":\"y\"}},\"id\":\"54384\",\"type\":\"Step\"},{\"attributes\":{\"line_alpha\":0.2,\"line_color\":\"grey\",\"line_width\":2,\"x\":{\"field\":\"x\"},\"y\":{\"field\":\"y\"}},\"id\":\"54386\",\"type\":\"Step\"},{\"attributes\":{},\"id\":\"54718\",\"type\":\"Selection\"},{\"attributes\":{\"line_alpha\":0.5,\"line_color\":\"grey\",\"line_width\":2,\"x\":{\"field\":\"x\"},\"y\":{\"field\":\"y\"}},\"id\":\"54414\",\"type\":\"Step\"},{\"attributes\":{\"line_alpha\":0.2,\"line_color\":\"grey\",\"line_width\":2,\"x\":{\"field\":\"x\"},\"y\":{\"field\":\"y\"}},\"id\":\"54428\",\"type\":\"Step\"},{\"attributes\":{\"source\":{\"id\":\"54419\"}},\"id\":\"54424\",\"type\":\"CDSView\"},{\"attributes\":{\"data\":{\"x\":{\"__ndarray__\":\"AAAAAAAAAACamZmZmZnJP5qZmZmZmdk/NDMzMzMz4z+amZmZmZnpPwAAAAAAAPA/NDMzMzMz8z9nZmZmZmb2P5qZmZmZmfk/zczMzMzM/D8AAAAAAAAAQJqZmZmZmQFANDMzMzMzA0DNzMzMzMwEQGdmZmZmZgZAAAAAAAAACECamZmZmZkJQDQzMzMzMwtAzczMzMzMDEBnZmZmZmYOQAAAAAAAABBAzczMzMzMEECamZmZmZkRQGdmZmZmZhJANDMzMzMzE0AAAAAAAAAUQM3MzMzMzBRAmpmZmZmZFUBnZmZmZmYWQDQzMzMzMxdAAAAAAAAAGEDNzMzMzMwYQJqZmZmZmRlAZ2ZmZmZmGkA0MzMzMzMbQAAAAAAAABxAzczMzMzMHECamZmZmZkdQGdmZmZmZh5ANDMzMzMzH0AAAAAAAAAgQGdmZmZmZiBAzczMzMzMIEAzMzMzMzMhQJqZmZmZmSFAAAAAAAAAIkBnZmZmZmYiQM3MzMzMzCJANDMzMzMzI0CamZmZmZkjQAAAAAAAACRA\",\"dtype\":\"float64\",\"order\":\"little\",\"shape\":[51]},\"y\":[0,0,2,14,20,28,23,20,26,32,33,32,39,35,21,11,10,4,4,2,1,0,0,1,1,1,1,0,0,0,0,0,0,0,0,0,0,0,0,0,0,0,0,0,0,0,0,0,0,0,0]},\"selected\":{\"id\":\"54716\"},\"selection_policy\":{\"id\":\"54715\"}},\"id\":\"54629\",\"type\":\"ColumnDataSource\"},{\"attributes\":{\"data\":{\"x\":{\"__ndarray__\":\"AAAAAAAAAACamZmZmZnJP5qZmZmZmdk/NDMzMzMz4z+amZmZmZnpPwAAAAAAAPA/NDMzMzMz8z9nZmZmZmb2P5qZmZmZmfk/zczMzMzM/D8AAAAAAAAAQJqZmZmZmQFANDMzMzMzA0DNzMzMzMwEQGdmZmZmZgZAAAAAAAAACECamZmZmZkJQDQzMzMzMwtAzczMzMzMDEBnZmZmZmYOQAAAAAAAABBAzczMzMzMEECamZmZmZkRQGdmZmZmZhJANDMzMzMzE0AAAAAAAAAUQM3MzMzMzBRAmpmZmZmZFUBnZmZmZmYWQDQzMzMzMxdAAAAAAAAAGEDNzMzMzMwYQJqZmZmZmRlAZ2ZmZmZmGkA0MzMzMzMbQAAAAAAAABxAzczMzMzMHECamZmZmZkdQGdmZmZmZh5ANDMzMzMzH0AAAAAAAAAgQGdmZmZmZiBAzczMzMzMIEAzMzMzMzMhQJqZmZmZmSFAAAAAAAAAIkBnZmZmZmYiQM3MzMzMzCJANDMzMzMzI0CamZmZmZkjQAAAAAAAACRA\",\"dtype\":\"float64\",\"order\":\"little\",\"shape\":[51]},\"y\":[0,0,0,0,0,0,0,0,0,0,0,0,0,0,0,0,0,0,1,1,1,1,1,1,1,1,1,1,1,1,1,1,1,1,1,1,1,1,1,1,1,1,1,1,1,1,1,1,1,1,1]},\"selected\":{\"id\":\"55479\"},\"selection_policy\":{\"id\":\"55478\"}},\"id\":\"54419\",\"type\":\"ColumnDataSource\"},{\"attributes\":{\"coordinates\":null,\"data_source\":{\"id\":\"54419\"},\"glyph\":{\"id\":\"54420\"},\"group\":null,\"hover_glyph\":null,\"muted_glyph\":{\"id\":\"54422\"},\"nonselection_glyph\":{\"id\":\"54421\"},\"view\":{\"id\":\"54424\"}},\"id\":\"54423\",\"type\":\"GlyphRenderer\"},{\"attributes\":{\"line_alpha\":0.5,\"line_color\":\"grey\",\"line_width\":2,\"x\":{\"field\":\"x\"},\"y\":{\"field\":\"y\"}},\"id\":\"54390\",\"type\":\"Step\"},{\"attributes\":{\"line_alpha\":0.1,\"line_color\":\"grey\",\"line_width\":2,\"x\":{\"field\":\"x\"},\"y\":{\"field\":\"y\"}},\"id\":\"54409\",\"type\":\"Step\"},{\"attributes\":{\"data\":{\"x\":{\"__ndarray__\":\"AAAAAAAAAACamZmZmZnJP5qZmZmZmdk/NDMzMzMz4z+amZmZmZnpPwAAAAAAAPA/NDMzMzMz8z9nZmZmZmb2P5qZmZmZmfk/zczMzMzM/D8AAAAAAAAAQJqZmZmZmQFANDMzMzMzA0DNzMzMzMwEQGdmZmZmZgZAAAAAAAAACECamZmZmZkJQDQzMzMzMwtAzczMzMzMDEBnZmZmZmYOQAAAAAAAABBAzczMzMzMEECamZmZmZkRQGdmZmZmZhJANDMzMzMzE0AAAAAAAAAUQM3MzMzMzBRAmpmZmZmZFUBnZmZmZmYWQDQzMzMzMxdAAAAAAAAAGEDNzMzMzMwYQJqZmZmZmRlAZ2ZmZmZmGkA0MzMzMzMbQAAAAAAAABxAzczMzMzMHECamZmZmZkdQGdmZmZmZh5ANDMzMzMzH0AAAAAAAAAgQGdmZmZmZiBAzczMzMzMIEAzMzMzMzMhQJqZmZmZmSFAAAAAAAAAIkBnZmZmZmYiQM3MzMzMzCJANDMzMzMzI0CamZmZmZkjQAAAAAAAACRA\",\"dtype\":\"float64\",\"order\":\"little\",\"shape\":[51]},\"y\":[0,0,0,0,0,0,1,1,1,1,1,1,1,1,1,1,1,1,1,1,1,1,1,1,1,1,1,1,1,1,1,1,1,1,1,1,1,1,1,1,1,1,1,1,1,1,1,1,1,1,1]},\"selected\":{\"id\":\"55481\"},\"selection_policy\":{\"id\":\"55480\"}},\"id\":\"54431\",\"type\":\"ColumnDataSource\"},{\"attributes\":{},\"id\":\"54681\",\"type\":\"UnionRenderers\"},{\"attributes\":{\"line_alpha\":0.5,\"line_color\":\"grey\",\"line_width\":2,\"x\":{\"field\":\"x\"},\"y\":{\"field\":\"y\"}},\"id\":\"54516\",\"type\":\"Step\"},{\"attributes\":{\"source\":{\"id\":\"54407\"}},\"id\":\"54412\",\"type\":\"CDSView\"},{\"attributes\":{\"line_alpha\":0.1,\"line_color\":\"grey\",\"line_width\":2,\"x\":{\"field\":\"x\"},\"y\":{\"field\":\"y\"}},\"id\":\"54421\",\"type\":\"Step\"},{\"attributes\":{},\"id\":\"54682\",\"type\":\"Selection\"},{\"attributes\":{\"coordinates\":null,\"data_source\":{\"id\":\"54383\"},\"glyph\":{\"id\":\"54384\"},\"group\":null,\"hover_glyph\":null,\"muted_glyph\":{\"id\":\"54386\"},\"nonselection_glyph\":{\"id\":\"54385\"},\"view\":{\"id\":\"54388\"}},\"id\":\"54387\",\"type\":\"GlyphRenderer\"},{\"attributes\":{\"data\":{\"x\":{\"__ndarray__\":\"AAAAAAAAAACamZmZmZnJP5qZmZmZmdk/NDMzMzMz4z+amZmZmZnpPwAAAAAAAPA/NDMzMzMz8z9nZmZmZmb2P5qZmZmZmfk/zczMzMzM/D8AAAAAAAAAQJqZmZmZmQFANDMzMzMzA0DNzMzMzMwEQGdmZmZmZgZAAAAAAAAACECamZmZmZkJQDQzMzMzMwtAzczMzMzMDEBnZmZmZmYOQAAAAAAAABBAzczMzMzMEECamZmZmZkRQGdmZmZmZhJANDMzMzMzE0AAAAAAAAAUQM3MzMzMzBRAmpmZmZmZFUBnZmZmZmYWQDQzMzMzMxdAAAAAAAAAGEDNzMzMzMwYQJqZmZmZmRlAZ2ZmZmZmGkA0MzMzMzMbQAAAAAAAABxAzczMzMzMHECamZmZmZkdQGdmZmZmZh5ANDMzMzMzH0AAAAAAAAAgQGdmZmZmZiBAzczMzMzMIEAzMzMzMzMhQJqZmZmZmSFAAAAAAAAAIkBnZmZmZmYiQM3MzMzMzCJANDMzMzMzI0CamZmZmZkjQAAAAAAAACRA\",\"dtype\":\"float64\",\"order\":\"little\",\"shape\":[51]},\"y\":[0,1,13,38,49,52,48,39,35,35,26,26,19,20,22,25,25,21,14,10,5,3,1,1,1,0,0,0,0,0,0,0,0,0,0,0,0,0,0,0,0,0,0,0,0,0,0,0,0,0,0]},\"selected\":{\"id\":\"54680\"},\"selection_policy\":{\"id\":\"54679\"}},\"id\":\"54413\",\"type\":\"ColumnDataSource\"},{\"attributes\":{\"coordinates\":null,\"data_source\":{\"id\":\"54407\"},\"glyph\":{\"id\":\"54408\"},\"group\":null,\"hover_glyph\":null,\"muted_glyph\":{\"id\":\"54410\"},\"nonselection_glyph\":{\"id\":\"54409\"},\"view\":{\"id\":\"54412\"}},\"id\":\"54411\",\"type\":\"GlyphRenderer\"},{\"attributes\":{\"line_alpha\":0.2,\"line_color\":\"grey\",\"line_width\":2,\"x\":{\"field\":\"x\"},\"y\":{\"field\":\"y\"}},\"id\":\"54416\",\"type\":\"Step\"},{\"attributes\":{\"line_alpha\":0.5,\"line_color\":\"grey\",\"line_width\":2,\"x\":{\"field\":\"x\"},\"y\":{\"field\":\"y\"}},\"id\":\"54408\",\"type\":\"Step\"},{\"attributes\":{\"line_alpha\":0.2,\"line_color\":\"grey\",\"line_width\":2,\"x\":{\"field\":\"x\"},\"y\":{\"field\":\"y\"}},\"id\":\"54404\",\"type\":\"Step\"},{\"attributes\":{},\"id\":\"54719\",\"type\":\"UnionRenderers\"},{\"attributes\":{\"bottom_units\":\"screen\",\"coordinates\":null,\"fill_alpha\":0.5,\"fill_color\":\"lightgrey\",\"group\":null,\"left_units\":\"screen\",\"level\":\"overlay\",\"line_alpha\":1.0,\"line_color\":\"black\",\"line_dash\":[4,4],\"line_width\":2,\"right_units\":\"screen\",\"syncable\":false,\"top_units\":\"screen\"},\"id\":\"54338\",\"type\":\"BoxAnnotation\"},{\"attributes\":{\"source\":{\"id\":\"54401\"}},\"id\":\"54406\",\"type\":\"CDSView\"},{\"attributes\":{\"line_alpha\":0.2,\"line_color\":\"grey\",\"line_width\":2,\"x\":{\"field\":\"x\"},\"y\":{\"field\":\"y\"}},\"id\":\"54392\",\"type\":\"Step\"},{\"attributes\":{},\"id\":\"54720\",\"type\":\"Selection\"},{\"attributes\":{\"line_alpha\":0.2,\"line_color\":\"grey\",\"line_width\":2,\"x\":{\"field\":\"x\"},\"y\":{\"field\":\"y\"}},\"id\":\"54422\",\"type\":\"Step\"},{\"attributes\":{\"line_alpha\":0.1,\"line_color\":\"grey\",\"line_width\":2,\"x\":{\"field\":\"x\"},\"y\":{\"field\":\"y\"}},\"id\":\"54391\",\"type\":\"Step\"},{\"attributes\":{\"coordinates\":null,\"data_source\":{\"id\":\"54389\"},\"glyph\":{\"id\":\"54390\"},\"group\":null,\"hover_glyph\":null,\"muted_glyph\":{\"id\":\"54392\"},\"nonselection_glyph\":{\"id\":\"54391\"},\"view\":{\"id\":\"54394\"}},\"id\":\"54393\",\"type\":\"GlyphRenderer\"},{\"attributes\":{\"line_alpha\":0.2,\"line_color\":\"grey\",\"line_width\":2,\"x\":{\"field\":\"x\"},\"y\":{\"field\":\"y\"}},\"id\":\"54398\",\"type\":\"Step\"},{\"attributes\":{\"line_alpha\":0.5,\"line_color\":\"grey\",\"line_width\":2,\"x\":{\"field\":\"x\"},\"y\":{\"field\":\"y\"}},\"id\":\"54396\",\"type\":\"Step\"},{\"attributes\":{},\"id\":\"54683\",\"type\":\"UnionRenderers\"},{\"attributes\":{\"data\":{\"x\":{\"__ndarray__\":\"AAAAAAAAAACamZmZmZnJP5qZmZmZmdk/NDMzMzMz4z+amZmZmZnpPwAAAAAAAPA/NDMzMzMz8z9nZmZmZmb2P5qZmZmZmfk/zczMzMzM/D8AAAAAAAAAQJqZmZmZmQFANDMzMzMzA0DNzMzMzMwEQGdmZmZmZgZAAAAAAAAACECamZmZmZkJQDQzMzMzMwtAzczMzMzMDEBnZmZmZmYOQAAAAAAAABBAzczMzMzMEECamZmZmZkRQGdmZmZmZhJANDMzMzMzE0AAAAAAAAAUQM3MzMzMzBRAmpmZmZmZFUBnZmZmZmYWQDQzMzMzMxdAAAAAAAAAGEDNzMzMzMwYQJqZmZmZmRlAZ2ZmZmZmGkA0MzMzMzMbQAAAAAAAABxAzczMzMzMHECamZmZmZkdQGdmZmZmZh5ANDMzMzMzH0AAAAAAAAAgQGdmZmZmZiBAzczMzMzMIEAzMzMzMzMhQJqZmZmZmSFAAAAAAAAAIkBnZmZmZmYiQM3MzMzMzCJANDMzMzMzI0CamZmZmZkjQAAAAAAAACRA\",\"dtype\":\"float64\",\"order\":\"little\",\"shape\":[51]},\"y\":[0,0,10,32,61,66,62,57,56,46,37,32,24,18,15,10,5,3,2,2,0,0,0,0,0,0,0,0,0,0,0,0,0,0,0,0,0,0,0,0,0,0,0,0,0,0,0,0,0,0,0]},\"selected\":{\"id\":\"54682\"},\"selection_policy\":{\"id\":\"54681\"}},\"id\":\"54425\",\"type\":\"ColumnDataSource\"},{\"attributes\":{\"data\":{\"x\":{\"__ndarray__\":\"AAAAAAAAAACamZmZmZnJP5qZmZmZmdk/NDMzMzMz4z+amZmZmZnpPwAAAAAAAPA/NDMzMzMz8z9nZmZmZmb2P5qZmZmZmfk/zczMzMzM/D8AAAAAAAAAQJqZmZmZmQFANDMzMzMzA0DNzMzMzMwEQGdmZmZmZgZAAAAAAAAACECamZmZmZkJQDQzMzMzMwtAzczMzMzMDEBnZmZmZmYOQAAAAAAAABBAzczMzMzMEECamZmZmZkRQGdmZmZmZhJANDMzMzMzE0AAAAAAAAAUQM3MzMzMzBRAmpmZmZmZFUBnZmZmZmYWQDQzMzMzMxdAAAAAAAAAGEDNzMzMzMwYQJqZmZmZmRlAZ2ZmZmZmGkA0MzMzMzMbQAAAAAAAABxAzczMzMzMHECamZmZmZkdQGdmZmZmZh5ANDMzMzMzH0AAAAAAAAAgQGdmZmZmZiBAzczMzMzMIEAzMzMzMzMhQJqZmZmZmSFAAAAAAAAAIkBnZmZmZmYiQM3MzMzMzCJANDMzMzMzI0CamZmZmZkjQAAAAAAAACRA\",\"dtype\":\"float64\",\"order\":\"little\",\"shape\":[51]},\"y\":[0,0,0,0,0,0,0,1,1,1,1,1,1,1,1,1,1,1,1,1,1,1,1,1,1,1,1,1,1,1,1,1,1,1,1,1,1,1,1,1,1,1,1,1,1,1,1,1,1,1,1]},\"selected\":{\"id\":\"55477\"},\"selection_policy\":{\"id\":\"55476\"}},\"id\":\"54407\",\"type\":\"ColumnDataSource\"},{\"attributes\":{},\"id\":\"54684\",\"type\":\"Selection\"},{\"attributes\":{\"source\":{\"id\":\"54383\"}},\"id\":\"54388\",\"type\":\"CDSView\"},{\"attributes\":{\"data\":{\"x\":{\"__ndarray__\":\"AAAAAAAAAACamZmZmZnJP5qZmZmZmdk/NDMzMzMz4z+amZmZmZnpPwAAAAAAAPA/NDMzMzMz8z9nZmZmZmb2P5qZmZmZmfk/zczMzMzM/D8AAAAAAAAAQJqZmZmZmQFANDMzMzMzA0DNzMzMzMwEQGdmZmZmZgZAAAAAAAAACECamZmZmZkJQDQzMzMzMwtAzczMzMzMDEBnZmZmZmYOQAAAAAAAABBAzczMzMzMEECamZmZmZkRQGdmZmZmZhJANDMzMzMzE0AAAAAAAAAUQM3MzMzMzBRAmpmZmZmZFUBnZmZmZmYWQDQzMzMzMxdAAAAAAAAAGEDNzMzMzMwYQJqZmZmZmRlAZ2ZmZmZmGkA0MzMzMzMbQAAAAAAAABxAzczMzMzMHECamZmZmZkdQGdmZmZmZh5ANDMzMzMzH0AAAAAAAAAgQGdmZmZmZiBAzczMzMzMIEAzMzMzMzMhQJqZmZmZmSFAAAAAAAAAIkBnZmZmZmYiQM3MzMzMzCJANDMzMzMzI0CamZmZmZkjQAAAAAAAACRA\",\"dtype\":\"float64\",\"order\":\"little\",\"shape\":[51]},\"y\":[0,0,0,0,0,0,0,0,0,1,1,1,1,1,1,1,1,1,1,1,1,1,1,1,1,1,1,1,1,1,1,1,1,1,1,1,1,1,1,1,1,1,1,1,1,1,1,1,1,1,1]},\"selected\":{\"id\":\"55473\"},\"selection_policy\":{\"id\":\"55472\"}},\"id\":\"54383\",\"type\":\"ColumnDataSource\"},{\"attributes\":{\"coordinates\":null,\"data_source\":{\"id\":\"54401\"},\"glyph\":{\"id\":\"54402\"},\"group\":null,\"hover_glyph\":null,\"muted_glyph\":{\"id\":\"54404\"},\"nonselection_glyph\":{\"id\":\"54403\"},\"view\":{\"id\":\"54406\"}},\"id\":\"54405\",\"type\":\"GlyphRenderer\"},{\"attributes\":{\"data\":{\"x\":{\"__ndarray__\":\"AAAAAAAAAACamZmZmZnJP5qZmZmZmdk/NDMzMzMz4z+amZmZmZnpPwAAAAAAAPA/NDMzMzMz8z9nZmZmZmb2P5qZmZmZmfk/zczMzMzM/D8AAAAAAAAAQJqZmZmZmQFANDMzMzMzA0DNzMzMzMwEQGdmZmZmZgZAAAAAAAAACECamZmZmZkJQDQzMzMzMwtAzczMzMzMDEBnZmZmZmYOQAAAAAAAABBAzczMzMzMEECamZmZmZkRQGdmZmZmZhJANDMzMzMzE0AAAAAAAAAUQM3MzMzMzBRAmpmZmZmZFUBnZmZmZmYWQDQzMzMzMxdAAAAAAAAAGEDNzMzMzMwYQJqZmZmZmRlAZ2ZmZmZmGkA0MzMzMzMbQAAAAAAAABxAzczMzMzMHECamZmZmZkdQGdmZmZmZh5ANDMzMzMzH0AAAAAAAAAgQGdmZmZmZiBAzczMzMzMIEAzMzMzMzMhQJqZmZmZmSFAAAAAAAAAIkBnZmZmZmYiQM3MzMzMzCJANDMzMzMzI0CamZmZmZkjQAAAAAAAACRA\",\"dtype\":\"float64\",\"order\":\"little\",\"shape\":[51]},\"y\":[0,0,16,52,56,49,36,33,24,19,11,6,5,6,5,3,3,2,0,0,0,0,0,0,0,0,0,0,0,0,0,0,0,0,0,0,0,0,0,0,0,0,0,0,0,0,0,0,0,0,0]},\"selected\":{\"id\":\"54676\"},\"selection_policy\":{\"id\":\"54675\"}},\"id\":\"54389\",\"type\":\"ColumnDataSource\"},{\"attributes\":{\"data\":{\"x\":{\"__ndarray__\":\"AAAAAAAAAACamZmZmZnJP5qZmZmZmdk/NDMzMzMz4z+amZmZmZnpPwAAAAAAAPA/NDMzMzMz8z9nZmZmZmb2P5qZmZmZmfk/zczMzMzM/D8AAAAAAAAAQJqZmZmZmQFANDMzMzMzA0DNzMzMzMwEQGdmZmZmZgZAAAAAAAAACECamZmZmZkJQDQzMzMzMwtAzczMzMzMDEBnZmZmZmYOQAAAAAAAABBAzczMzMzMEECamZmZmZkRQGdmZmZmZhJANDMzMzMzE0AAAAAAAAAUQM3MzMzMzBRAmpmZmZmZFUBnZmZmZmYWQDQzMzMzMxdAAAAAAAAAGEDNzMzMzMwYQJqZmZmZmRlAZ2ZmZmZmGkA0MzMzMzMbQAAAAAAAABxAzczMzMzMHECamZmZmZkdQGdmZmZmZh5ANDMzMzMzH0AAAAAAAAAgQGdmZmZmZiBAzczMzMzMIEAzMzMzMzMhQJqZmZmZmSFAAAAAAAAAIkBnZmZmZmYiQM3MzMzMzCJANDMzMzMzI0CamZmZmZkjQAAAAAAAACRA\",\"dtype\":\"float64\",\"order\":\"little\",\"shape\":[51]},\"y\":[0,1,6,15,27,38,41,31,32,21,17,15,9,8,9,4,3,2,1,1,0,0,1,1,1,1,1,1,1,0,0,0,0,0,0,0,0,0,0,0,0,0,0,0,0,0,0,0,0,0,0]},\"selected\":{\"id\":\"54678\"},\"selection_policy\":{\"id\":\"54677\"}},\"id\":\"54401\",\"type\":\"ColumnDataSource\"},{\"attributes\":{\"line_alpha\":0.1,\"line_color\":\"grey\",\"line_width\":2,\"x\":{\"field\":\"x\"},\"y\":{\"field\":\"y\"}},\"id\":\"54397\",\"type\":\"Step\"},{\"attributes\":{},\"id\":\"54714\",\"type\":\"Selection\"},{\"attributes\":{},\"id\":\"54685\",\"type\":\"UnionRenderers\"},{\"attributes\":{\"source\":{\"id\":\"54395\"}},\"id\":\"54400\",\"type\":\"CDSView\"},{\"attributes\":{\"line_alpha\":0.5,\"line_color\":\"grey\",\"line_width\":2,\"x\":{\"field\":\"x\"},\"y\":{\"field\":\"y\"}},\"id\":\"54402\",\"type\":\"Step\"},{\"attributes\":{\"line_alpha\":0.2,\"line_color\":\"grey\",\"line_width\":2,\"x\":{\"field\":\"x\"},\"y\":{\"field\":\"y\"}},\"id\":\"54410\",\"type\":\"Step\"},{\"attributes\":{},\"id\":\"54686\",\"type\":\"Selection\"},{\"attributes\":{},\"id\":\"55467\",\"type\":\"BasicTickFormatter\"},{\"attributes\":{},\"id\":\"55498\",\"type\":\"UnionRenderers\"},{\"attributes\":{},\"id\":\"55468\",\"type\":\"AllLabels\"},{\"attributes\":{},\"id\":\"55499\",\"type\":\"Selection\"},{\"attributes\":{},\"id\":\"55470\",\"type\":\"BasicTickFormatter\"},{\"attributes\":{},\"id\":\"55471\",\"type\":\"AllLabels\"},{\"attributes\":{},\"id\":\"55518\",\"type\":\"UnionRenderers\"},{\"attributes\":{},\"id\":\"55519\",\"type\":\"Selection\"},{\"attributes\":{},\"id\":\"55500\",\"type\":\"UnionRenderers\"},{\"attributes\":{},\"id\":\"55472\",\"type\":\"UnionRenderers\"},{\"attributes\":{},\"id\":\"55501\",\"type\":\"Selection\"},{\"attributes\":{},\"id\":\"55473\",\"type\":\"Selection\"},{\"attributes\":{},\"id\":\"54320\",\"type\":\"LinearScale\"},{\"attributes\":{},\"id\":\"55502\",\"type\":\"UnionRenderers\"},{\"attributes\":{},\"id\":\"55474\",\"type\":\"UnionRenderers\"},{\"attributes\":{},\"id\":\"55503\",\"type\":\"Selection\"},{\"attributes\":{},\"id\":\"55475\",\"type\":\"Selection\"},{\"attributes\":{},\"id\":\"54322\",\"type\":\"LinearScale\"},{\"attributes\":{},\"id\":\"55504\",\"type\":\"UnionRenderers\"},{\"attributes\":{},\"id\":\"55476\",\"type\":\"UnionRenderers\"},{\"attributes\":{},\"id\":\"55477\",\"type\":\"Selection\"},{\"attributes\":{},\"id\":\"55506\",\"type\":\"UnionRenderers\"},{\"attributes\":{},\"id\":\"55507\",\"type\":\"Selection\"},{\"attributes\":{\"line_alpha\":0.1,\"line_color\":\"grey\",\"line_width\":2,\"x\":{\"field\":\"x\"},\"y\":{\"field\":\"y\"}},\"id\":\"54529\",\"type\":\"Step\"},{\"attributes\":{},\"id\":\"55478\",\"type\":\"UnionRenderers\"},{\"attributes\":{\"coordinates\":null,\"data_source\":{\"id\":\"54425\"},\"glyph\":{\"id\":\"54426\"},\"group\":null,\"hover_glyph\":null,\"muted_glyph\":{\"id\":\"54428\"},\"nonselection_glyph\":{\"id\":\"54427\"},\"view\":{\"id\":\"54430\"}},\"id\":\"54429\",\"type\":\"GlyphRenderer\"},{\"attributes\":{},\"id\":\"55488\",\"type\":\"UnionRenderers\"},{\"attributes\":{},\"id\":\"55489\",\"type\":\"Selection\"},{\"attributes\":{},\"id\":\"55490\",\"type\":\"UnionRenderers\"},{\"attributes\":{},\"id\":\"55491\",\"type\":\"Selection\"},{\"attributes\":{},\"id\":\"54668\",\"type\":\"BasicTickFormatter\"},{\"attributes\":{},\"id\":\"55492\",\"type\":\"UnionRenderers\"},{\"attributes\":{},\"id\":\"54669\",\"type\":\"AllLabels\"},{\"attributes\":{},\"id\":\"55493\",\"type\":\"Selection\"},{\"attributes\":{},\"id\":\"54671\",\"type\":\"BasicTickFormatter\"},{\"attributes\":{},\"id\":\"54672\",\"type\":\"AllLabels\"},{\"attributes\":{},\"id\":\"55494\",\"type\":\"UnionRenderers\"},{\"attributes\":{},\"id\":\"54673\",\"type\":\"UnionRenderers\"},{\"attributes\":{},\"id\":\"55495\",\"type\":\"Selection\"},{\"attributes\":{},\"id\":\"54674\",\"type\":\"Selection\"},{\"attributes\":{},\"id\":\"55496\",\"type\":\"UnionRenderers\"},{\"attributes\":{},\"id\":\"54675\",\"type\":\"UnionRenderers\"},{\"attributes\":{},\"id\":\"55497\",\"type\":\"Selection\"},{\"attributes\":{},\"id\":\"54676\",\"type\":\"Selection\"},{\"attributes\":{\"bottom_units\":\"screen\",\"coordinates\":null,\"fill_alpha\":0.5,\"fill_color\":\"lightgrey\",\"group\":null,\"left_units\":\"screen\",\"level\":\"overlay\",\"line_alpha\":1.0,\"line_color\":\"black\",\"line_dash\":[4,4],\"line_width\":2,\"right_units\":\"screen\",\"syncable\":false,\"top_units\":\"screen\"},\"id\":\"54369\",\"type\":\"BoxAnnotation\"},{\"attributes\":{\"source\":{\"id\":\"54629\"}},\"id\":\"54634\",\"type\":\"CDSView\"},{\"attributes\":{\"line_alpha\":0.5,\"line_color\":\"grey\",\"line_width\":2,\"x\":{\"field\":\"x\"},\"y\":{\"field\":\"y\"}},\"id\":\"54588\",\"type\":\"Step\"},{\"attributes\":{},\"id\":\"54695\",\"type\":\"UnionRenderers\"},{\"attributes\":{\"tools\":[{\"id\":\"54363\"},{\"id\":\"54364\"},{\"id\":\"54365\"},{\"id\":\"54366\"},{\"id\":\"54367\"},{\"id\":\"54368\"}]},\"id\":\"54370\",\"type\":\"Toolbar\"},{\"attributes\":{\"data\":{\"x\":{\"__ndarray__\":\"AAAAAAAAAACamZmZmZnJP5qZmZmZmdk/NDMzMzMz4z+amZmZmZnpPwAAAAAAAPA/NDMzMzMz8z9nZmZmZmb2P5qZmZmZmfk/zczMzMzM/D8AAAAAAAAAQJqZmZmZmQFANDMzMzMzA0DNzMzMzMwEQGdmZmZmZgZAAAAAAAAACECamZmZmZkJQDQzMzMzMwtAzczMzMzMDEBnZmZmZmYOQAAAAAAAABBAzczMzMzMEECamZmZmZkRQGdmZmZmZhJANDMzMzMzE0AAAAAAAAAUQM3MzMzMzBRAmpmZmZmZFUBnZmZmZmYWQDQzMzMzMxdAAAAAAAAAGEDNzMzMzMwYQJqZmZmZmRlAZ2ZmZmZmGkA0MzMzMzMbQAAAAAAAABxAzczMzMzMHECamZmZmZkdQGdmZmZmZh5ANDMzMzMzH0AAAAAAAAAgQGdmZmZmZiBAzczMzMzMIEAzMzMzMzMhQJqZmZmZmSFAAAAAAAAAIkBnZmZmZmYiQM3MzMzMzCJANDMzMzMzI0CamZmZmZkjQAAAAAAAACRA\",\"dtype\":\"float64\",\"order\":\"little\",\"shape\":[51]},\"y\":[0,0,0,0,0,0,0,0,0,1,1,1,1,1,1,1,1,1,1,1,1,1,1,1,1,1,1,1,1,1,1,1,1,1,1,1,1,1,1,1,1,1,1,1,1,1,1,1,1,1,1]},\"selected\":{\"id\":\"55507\"},\"selection_policy\":{\"id\":\"55506\"}},\"id\":\"54587\",\"type\":\"ColumnDataSource\"},{\"attributes\":{\"line_alpha\":0.2,\"line_color\":\"grey\",\"line_width\":2,\"x\":{\"field\":\"x\"},\"y\":{\"field\":\"y\"}},\"id\":\"54590\",\"type\":\"Step\"},{\"attributes\":{},\"id\":\"54364\",\"type\":\"WheelZoomTool\"},{\"attributes\":{\"line_alpha\":0.2,\"line_color\":\"grey\",\"line_width\":2,\"x\":{\"field\":\"x\"},\"y\":{\"field\":\"y\"}},\"id\":\"54596\",\"type\":\"Step\"},{\"attributes\":{},\"id\":\"54336\",\"type\":\"ResetTool\"},{\"attributes\":{},\"id\":\"54366\",\"type\":\"SaveTool\"},{\"attributes\":{\"coordinates\":null,\"data_source\":{\"id\":\"54587\"},\"glyph\":{\"id\":\"54588\"},\"group\":null,\"hover_glyph\":null,\"muted_glyph\":{\"id\":\"54590\"},\"nonselection_glyph\":{\"id\":\"54589\"},\"view\":{\"id\":\"54592\"}},\"id\":\"54591\",\"type\":\"GlyphRenderer\"},{\"attributes\":{},\"id\":\"54335\",\"type\":\"SaveTool\"},{\"attributes\":{},\"id\":\"54696\",\"type\":\"Selection\"},{\"attributes\":{\"overlay\":{\"id\":\"54338\"}},\"id\":\"54334\",\"type\":\"BoxZoomTool\"},{\"attributes\":{\"data\":{\"x\":{\"__ndarray__\":\"AAAAAAAAAACamZmZmZnJP5qZmZmZmdk/NDMzMzMz4z+amZmZmZnpPwAAAAAAAPA/NDMzMzMz8z9nZmZmZmb2P5qZmZmZmfk/zczMzMzM/D8AAAAAAAAAQJqZmZmZmQFANDMzMzMzA0DNzMzMzMwEQGdmZmZmZgZAAAAAAAAACECamZmZmZkJQDQzMzMzMwtAzczMzMzMDEBnZmZmZmYOQAAAAAAAABBAzczMzMzMEECamZmZmZkRQGdmZmZmZhJANDMzMzMzE0AAAAAAAAAUQM3MzMzMzBRAmpmZmZmZFUBnZmZmZmYWQDQzMzMzMxdAAAAAAAAAGEDNzMzMzMwYQJqZmZmZmRlAZ2ZmZmZmGkA0MzMzMzMbQAAAAAAAABxAzczMzMzMHECamZmZmZkdQGdmZmZmZh5ANDMzMzMzH0AAAAAAAAAgQGdmZmZmZiBAzczMzMzMIEAzMzMzMzMhQJqZmZmZmSFAAAAAAAAAIkBnZmZmZmYiQM3MzMzMzCJANDMzMzMzI0CamZmZmZkjQAAAAAAAACRA\",\"dtype\":\"float64\",\"order\":\"little\",\"shape\":[51]},\"y\":[0,4,24,45,82,91,82,74,75,56,41,33,20,19,20,19,27,35,26,24,21,17,14,11,7,7,8,14,21,35,39,40,42,38,23,22,14,12,9,7,8,7,5,3,3,0,0,0,0,0,0]},\"selected\":{\"id\":\"54710\"},\"selection_policy\":{\"id\":\"54709\"}},\"id\":\"54593\",\"type\":\"ColumnDataSource\"},{\"attributes\":{},\"id\":\"54332\",\"type\":\"PanTool\"},{\"attributes\":{\"line_alpha\":0.1,\"line_color\":\"grey\",\"line_width\":2,\"x\":{\"field\":\"x\"},\"y\":{\"field\":\"y\"}},\"id\":\"54589\",\"type\":\"Step\"},{\"attributes\":{},\"id\":\"54333\",\"type\":\"WheelZoomTool\"},{\"attributes\":{\"source\":{\"id\":\"54587\"}},\"id\":\"54592\",\"type\":\"CDSView\"},{\"attributes\":{},\"id\":\"55517\",\"type\":\"Selection\"},{\"attributes\":{\"line_alpha\":0.5,\"line_color\":\"grey\",\"line_width\":2,\"x\":{\"field\":\"x\"},\"y\":{\"field\":\"y\"}},\"id\":\"54594\",\"type\":\"Step\"},{\"attributes\":{\"line_alpha\":0.2,\"line_color\":\"grey\",\"line_width\":2,\"x\":{\"field\":\"x\"},\"y\":{\"field\":\"y\"}},\"id\":\"54602\",\"type\":\"Step\"},{\"attributes\":{\"coordinates\":null,\"data_source\":{\"id\":\"54593\"},\"glyph\":{\"id\":\"54594\"},\"group\":null,\"hover_glyph\":null,\"muted_glyph\":{\"id\":\"54596\"},\"nonselection_glyph\":{\"id\":\"54595\"},\"view\":{\"id\":\"54598\"}},\"id\":\"54597\",\"type\":\"GlyphRenderer\"},{\"attributes\":{\"data\":{\"x\":{\"__ndarray__\":\"AAAAAAAAAACamZmZmZnJP5qZmZmZmdk/NDMzMzMz4z+amZmZmZnpPwAAAAAAAPA/NDMzMzMz8z9nZmZmZmb2P5qZmZmZmfk/zczMzMzM/D8AAAAAAAAAQJqZmZmZmQFANDMzMzMzA0DNzMzMzMwEQGdmZmZmZgZAAAAAAAAACECamZmZmZkJQDQzMzMzMwtAzczMzMzMDEBnZmZmZmYOQAAAAAAAABBAzczMzMzMEECamZmZmZkRQGdmZmZmZhJANDMzMzMzE0AAAAAAAAAUQM3MzMzMzBRAmpmZmZmZFUBnZmZmZmYWQDQzMzMzMxdAAAAAAAAAGEDNzMzMzMwYQJqZmZmZmRlAZ2ZmZmZmGkA0MzMzMzMbQAAAAAAAABxAzczMzMzMHECamZmZmZkdQGdmZmZmZh5ANDMzMzMzH0AAAAAAAAAgQGdmZmZmZiBAzczMzMzMIEAzMzMzMzMhQJqZmZmZmSFAAAAAAAAAIkBnZmZmZmYiQM3MzMzMzCJANDMzMzMzI0CamZmZmZkjQAAAAAAAACRA\",\"dtype\":\"float64\",\"order\":\"little\",\"shape\":[51]},\"y\":[0,0,0,0,0,0,0,0,0,0,0,0,0,0,0,0,0,0,0,0,0,0,0,0,0,0,0,0,0,0,0,0,0,0,0,0,0,1,1,1,1,1,1,1,1,1,1,1,1,1,1]},\"selected\":{\"id\":\"55509\"},\"selection_policy\":{\"id\":\"55508\"}},\"id\":\"54599\",\"type\":\"ColumnDataSource\"},{\"attributes\":{},\"id\":\"54349\",\"type\":\"DataRange1d\"},{\"attributes\":{\"line_alpha\":0.1,\"line_color\":\"grey\",\"line_width\":2,\"x\":{\"field\":\"x\"},\"y\":{\"field\":\"y\"}},\"id\":\"54595\",\"type\":\"Step\"},{\"attributes\":{\"source\":{\"id\":\"54593\"}},\"id\":\"54598\",\"type\":\"CDSView\"},{\"attributes\":{\"line_alpha\":0.5,\"line_color\":\"grey\",\"line_width\":2,\"x\":{\"field\":\"x\"},\"y\":{\"field\":\"y\"}},\"id\":\"54600\",\"type\":\"Step\"},{\"attributes\":{\"line_alpha\":0.2,\"line_color\":\"grey\",\"line_width\":2,\"x\":{\"field\":\"x\"},\"y\":{\"field\":\"y\"}},\"id\":\"54608\",\"type\":\"Step\"},{\"attributes\":{\"coordinates\":null,\"data_source\":{\"id\":\"54599\"},\"glyph\":{\"id\":\"54600\"},\"group\":null,\"hover_glyph\":null,\"muted_glyph\":{\"id\":\"54602\"},\"nonselection_glyph\":{\"id\":\"54601\"},\"view\":{\"id\":\"54604\"}},\"id\":\"54603\",\"type\":\"GlyphRenderer\"},{\"attributes\":{\"line_alpha\":0.2,\"line_color\":\"grey\",\"line_width\":2,\"x\":{\"field\":\"x\"},\"y\":{\"field\":\"y\"}},\"id\":\"54380\",\"type\":\"Step\"},{\"attributes\":{},\"id\":\"54697\",\"type\":\"UnionRenderers\"},{\"attributes\":{\"data\":{\"x\":{\"__ndarray__\":\"AAAAAAAAAACamZmZmZnJP5qZmZmZmdk/NDMzMzMz4z+amZmZmZnpPwAAAAAAAPA/NDMzMzMz8z9nZmZmZmb2P5qZmZmZmfk/zczMzMzM/D8AAAAAAAAAQJqZmZmZmQFANDMzMzMzA0DNzMzMzMwEQGdmZmZmZgZAAAAAAAAACECamZmZmZkJQDQzMzMzMwtAzczMzMzMDEBnZmZmZmYOQAAAAAAAABBAzczMzMzMEECamZmZmZkRQGdmZmZmZhJANDMzMzMzE0AAAAAAAAAUQM3MzMzMzBRAmpmZmZmZFUBnZmZmZmYWQDQzMzMzMxdAAAAAAAAAGEDNzMzMzMwYQJqZmZmZmRlAZ2ZmZmZmGkA0MzMzMzMbQAAAAAAAABxAzczMzMzMHECamZmZmZkdQGdmZmZmZh5ANDMzMzMzH0AAAAAAAAAgQGdmZmZmZiBAzczMzMzMIEAzMzMzMzMhQJqZmZmZmSFAAAAAAAAAIkBnZmZmZmYiQM3MzMzMzCJANDMzMzMzI0CamZmZmZkjQAAAAAAAACRA\",\"dtype\":\"float64\",\"order\":\"little\",\"shape\":[51]},\"y\":[0,11,35,39,27,36,34,27,24,45,53,51,37,27,22,18,14,11,10,6,4,2,2,1,1,1,0,0,0,0,0,0,0,0,0,0,0,0,0,0,0,0,0,0,0,0,0,0,0,0,0]},\"selected\":{\"id\":\"54712\"},\"selection_policy\":{\"id\":\"54711\"}},\"id\":\"54605\",\"type\":\"ColumnDataSource\"},{\"attributes\":{\"line_alpha\":0.1,\"line_color\":\"grey\",\"line_width\":2,\"x\":{\"field\":\"x\"},\"y\":{\"field\":\"y\"}},\"id\":\"54601\",\"type\":\"Step\"},{\"attributes\":{},\"id\":\"54698\",\"type\":\"Selection\"},{\"attributes\":{\"source\":{\"id\":\"54599\"}},\"id\":\"54604\",\"type\":\"CDSView\"},{\"attributes\":{\"line_alpha\":0.5,\"line_color\":\"grey\",\"line_width\":2,\"x\":{\"field\":\"x\"},\"y\":{\"field\":\"y\"}},\"id\":\"54606\",\"type\":\"Step\"},{\"attributes\":{\"line_alpha\":0.2,\"line_color\":\"grey\",\"line_width\":2,\"x\":{\"field\":\"x\"},\"y\":{\"field\":\"y\"}},\"id\":\"54614\",\"type\":\"Step\"},{\"attributes\":{\"coordinates\":null,\"data_source\":{\"id\":\"54605\"},\"glyph\":{\"id\":\"54606\"},\"group\":null,\"hover_glyph\":null,\"muted_glyph\":{\"id\":\"54608\"},\"nonselection_glyph\":{\"id\":\"54607\"},\"view\":{\"id\":\"54610\"}},\"id\":\"54609\",\"type\":\"GlyphRenderer\"},{\"attributes\":{\"coordinates\":null,\"formatter\":{\"id\":\"55470\"},\"group\":null,\"major_label_policy\":{\"id\":\"55471\"},\"major_label_text_font_size\":\"10pt\",\"ticker\":{\"id\":\"54356\"}},\"id\":\"54355\",\"type\":\"LinearAxis\"},{\"attributes\":{},\"id\":\"54347\",\"type\":\"DataRange1d\"},{\"attributes\":{\"data\":{\"x\":{\"__ndarray__\":\"AAAAAAAAAACamZmZmZnJP5qZmZmZmdk/NDMzMzMz4z+amZmZmZnpPwAAAAAAAPA/NDMzMzMz8z9nZmZmZmb2P5qZmZmZmfk/zczMzMzM/D8AAAAAAAAAQJqZmZmZmQFANDMzMzMzA0DNzMzMzMwEQGdmZmZmZgZAAAAAAAAACECamZmZmZkJQDQzMzMzMwtAzczMzMzMDEBnZmZmZmYOQAAAAAAAABBAzczMzMzMEECamZmZmZkRQGdmZmZmZhJANDMzMzMzE0AAAAAAAAAUQM3MzMzMzBRAmpmZmZmZFUBnZmZmZmYWQDQzMzMzMxdAAAAAAAAAGEDNzMzMzMwYQJqZmZmZmRlAZ2ZmZmZmGkA0MzMzMzMbQAAAAAAAABxAzczMzMzMHECamZmZmZkdQGdmZmZmZh5ANDMzMzMzH0AAAAAAAAAgQGdmZmZmZiBAzczMzMzMIEAzMzMzMzMhQJqZmZmZmSFAAAAAAAAAIkBnZmZmZmYiQM3MzMzMzCJANDMzMzMzI0CamZmZmZkjQAAAAAAAACRA\",\"dtype\":\"float64\",\"order\":\"little\",\"shape\":[51]},\"y\":[0,0,0,0,0,0,0,0,0,0,0,1,1,1,1,1,1,1,1,1,1,1,1,1,1,1,1,1,1,1,1,1,1,1,1,1,1,1,1,1,1,1,1,1,1,1,1,1,1,1,1]},\"selected\":{\"id\":\"55511\"},\"selection_policy\":{\"id\":\"55510\"}},\"id\":\"54611\",\"type\":\"ColumnDataSource\"},{\"attributes\":{\"line_alpha\":0.1,\"line_color\":\"grey\",\"line_width\":2,\"x\":{\"field\":\"x\"},\"y\":{\"field\":\"y\"}},\"id\":\"54607\",\"type\":\"Step\"},{\"attributes\":{\"source\":{\"id\":\"54605\"}},\"id\":\"54610\",\"type\":\"CDSView\"},{\"attributes\":{\"line_alpha\":0.5,\"line_color\":\"grey\",\"line_width\":2,\"x\":{\"field\":\"x\"},\"y\":{\"field\":\"y\"}},\"id\":\"54612\",\"type\":\"Step\"},{\"attributes\":{},\"id\":\"54353\",\"type\":\"LinearScale\"},{\"attributes\":{\"line_alpha\":0.2,\"line_color\":\"grey\",\"line_width\":2,\"x\":{\"field\":\"x\"},\"y\":{\"field\":\"y\"}},\"id\":\"54620\",\"type\":\"Step\"},{\"attributes\":{},\"id\":\"54351\",\"type\":\"LinearScale\"},{\"attributes\":{\"coordinates\":null,\"data_source\":{\"id\":\"54611\"},\"glyph\":{\"id\":\"54612\"},\"group\":null,\"hover_glyph\":null,\"muted_glyph\":{\"id\":\"54614\"},\"nonselection_glyph\":{\"id\":\"54613\"},\"view\":{\"id\":\"54616\"}},\"id\":\"54615\",\"type\":\"GlyphRenderer\"},{\"attributes\":{\"data\":{\"x\":{\"__ndarray__\":\"AAAAAAAAAACamZmZmZnJP5qZmZmZmdk/NDMzMzMz4z+amZmZmZnpPwAAAAAAAPA/NDMzMzMz8z9nZmZmZmb2P5qZmZmZmfk/zczMzMzM/D8AAAAAAAAAQJqZmZmZmQFANDMzMzMzA0DNzMzMzMwEQGdmZmZmZgZAAAAAAAAACECamZmZmZkJQDQzMzMzMwtAzczMzMzMDEBnZmZmZmYOQAAAAAAAABBAzczMzMzMEECamZmZmZkRQGdmZmZmZhJANDMzMzMzE0AAAAAAAAAUQM3MzMzMzBRAmpmZmZmZFUBnZmZmZmYWQDQzMzMzMxdAAAAAAAAAGEDNzMzMzMwYQJqZmZmZmRlAZ2ZmZmZmGkA0MzMzMzMbQAAAAAAAABxAzczMzMzMHECamZmZmZkdQGdmZmZmZh5ANDMzMzMzH0AAAAAAAAAgQGdmZmZmZiBAzczMzMzMIEAzMzMzMzMhQJqZmZmZmSFAAAAAAAAAIkBnZmZmZmYiQM3MzMzMzCJANDMzMzMzI0CamZmZmZkjQAAAAAAAACRA\",\"dtype\":\"float64\",\"order\":\"little\",\"shape\":[51]},\"y\":[0,0,2,14,20,28,23,20,26,32,33,32,39,35,21,11,10,4,4,2,1,0,0,1,1,1,1,0,0,0,0,0,0,0,0,0,0,0,0,0,0,0,0,0,0,0,0,0,0,0,0]},\"selected\":{\"id\":\"54714\"},\"selection_policy\":{\"id\":\"54713\"}},\"id\":\"54617\",\"type\":\"ColumnDataSource\"},{\"attributes\":{\"line_alpha\":0.1,\"line_color\":\"grey\",\"line_width\":2,\"x\":{\"field\":\"x\"},\"y\":{\"field\":\"y\"}},\"id\":\"54613\",\"type\":\"Step\"},{\"attributes\":{\"axis\":{\"id\":\"54355\"},\"coordinates\":null,\"group\":null,\"ticker\":null},\"id\":\"54358\",\"type\":\"Grid\"},{\"attributes\":{\"source\":{\"id\":\"54611\"}},\"id\":\"54616\",\"type\":\"CDSView\"},{\"attributes\":{},\"id\":\"54699\",\"type\":\"UnionRenderers\"},{\"attributes\":{\"line_alpha\":0.5,\"line_color\":\"grey\",\"line_width\":2,\"x\":{\"field\":\"x\"},\"y\":{\"field\":\"y\"}},\"id\":\"54618\",\"type\":\"Step\"},{\"attributes\":{\"line_alpha\":0.2,\"line_color\":\"grey\",\"line_width\":2,\"x\":{\"field\":\"x\"},\"y\":{\"field\":\"y\"}},\"id\":\"54626\",\"type\":\"Step\"},{\"attributes\":{\"coordinates\":null,\"data_source\":{\"id\":\"54617\"},\"glyph\":{\"id\":\"54618\"},\"group\":null,\"hover_glyph\":null,\"muted_glyph\":{\"id\":\"54620\"},\"nonselection_glyph\":{\"id\":\"54619\"},\"view\":{\"id\":\"54622\"}},\"id\":\"54621\",\"type\":\"GlyphRenderer\"},{\"attributes\":{},\"id\":\"54700\",\"type\":\"Selection\"},{\"attributes\":{\"data\":{\"x\":{\"__ndarray__\":\"AAAAAAAAAACamZmZmZnJP5qZmZmZmdk/NDMzMzMz4z+amZmZmZnpPwAAAAAAAPA/NDMzMzMz8z9nZmZmZmb2P5qZmZmZmfk/zczMzMzM/D8AAAAAAAAAQJqZmZmZmQFANDMzMzMzA0DNzMzMzMwEQGdmZmZmZgZAAAAAAAAACECamZmZmZkJQDQzMzMzMwtAzczMzMzMDEBnZmZmZmYOQAAAAAAAABBAzczMzMzMEECamZmZmZkRQGdmZmZmZhJANDMzMzMzE0AAAAAAAAAUQM3MzMzMzBRAmpmZmZmZFUBnZmZmZmYWQDQzMzMzMxdAAAAAAAAAGEDNzMzMzMwYQJqZmZmZmRlAZ2ZmZmZmGkA0MzMzMzMbQAAAAAAAABxAzczMzMzMHECamZmZmZkdQGdmZmZmZh5ANDMzMzMzH0AAAAAAAAAgQGdmZmZmZiBAzczMzMzMIEAzMzMzMzMhQJqZmZmZmSFAAAAAAAAAIkBnZmZmZmYiQM3MzMzMzCJANDMzMzMzI0CamZmZmZkjQAAAAAAAACRA\",\"dtype\":\"float64\",\"order\":\"little\",\"shape\":[51]},\"y\":[0,0,0,0,0,0,0,0,0,0,1,1,1,1,1,1,1,1,1,1,1,1,1,1,1,1,1,1,1,1,1,1,1,1,1,1,1,1,1,1,1,1,1,1,1,1,1,1,1,1,1]},\"selected\":{\"id\":\"55513\"},\"selection_policy\":{\"id\":\"55512\"}},\"id\":\"54623\",\"type\":\"ColumnDataSource\"},{\"attributes\":{},\"id\":\"54356\",\"type\":\"BasicTicker\"},{\"attributes\":{\"line_alpha\":0.1,\"line_color\":\"grey\",\"line_width\":2,\"x\":{\"field\":\"x\"},\"y\":{\"field\":\"y\"}},\"id\":\"54619\",\"type\":\"Step\"},{\"attributes\":{\"source\":{\"id\":\"54617\"}},\"id\":\"54622\",\"type\":\"CDSView\"},{\"attributes\":{\"line_alpha\":0.5,\"line_color\":\"grey\",\"line_width\":2,\"x\":{\"field\":\"x\"},\"y\":{\"field\":\"y\"}},\"id\":\"54624\",\"type\":\"Step\"},{\"attributes\":{\"coordinates\":null,\"data_source\":{\"id\":\"54629\"},\"glyph\":{\"id\":\"54630\"},\"group\":null,\"hover_glyph\":null,\"muted_glyph\":{\"id\":\"54632\"},\"nonselection_glyph\":{\"id\":\"54631\"},\"view\":{\"id\":\"54634\"}},\"id\":\"54633\",\"type\":\"GlyphRenderer\"},{\"attributes\":{\"coordinates\":null,\"data_source\":{\"id\":\"54623\"},\"glyph\":{\"id\":\"54624\"},\"group\":null,\"hover_glyph\":null,\"muted_glyph\":{\"id\":\"54626\"},\"nonselection_glyph\":{\"id\":\"54625\"},\"view\":{\"id\":\"54628\"}},\"id\":\"54627\",\"type\":\"GlyphRenderer\"},{\"attributes\":{\"source\":{\"id\":\"54635\"}},\"id\":\"54640\",\"type\":\"CDSView\"},{\"attributes\":{\"fill_color\":{\"value\":\"orange\"},\"hatch_color\":{\"value\":\"orange\"},\"line_color\":{\"value\":\"orange\"},\"line_width\":{\"value\":4},\"x\":{\"value\":2.4000000000000004},\"y\":{\"value\":39}},\"id\":\"54642\",\"type\":\"Circle\"},{\"attributes\":{\"line_alpha\":0.1,\"line_color\":\"grey\",\"line_width\":2,\"x\":{\"field\":\"x\"},\"y\":{\"field\":\"y\"}},\"id\":\"54625\",\"type\":\"Step\"},{\"attributes\":{\"source\":{\"id\":\"54425\"}},\"id\":\"54430\",\"type\":\"CDSView\"},{\"attributes\":{\"line_alpha\":0.2,\"line_color\":\"grey\",\"line_width\":2,\"x\":{\"field\":\"x\"},\"y\":{\"field\":\"y\"}},\"id\":\"54530\",\"type\":\"Step\"},{\"attributes\":{\"source\":{\"id\":\"54623\"}},\"id\":\"54628\",\"type\":\"CDSView\"},{\"attributes\":{\"overlay\":{\"id\":\"54369\"}},\"id\":\"54365\",\"type\":\"BoxZoomTool\"},{\"attributes\":{\"data\":{\"x\":{\"__ndarray__\":\"AAAAAAAAAACamZmZmZnJP5qZmZmZmdk/NDMzMzMz4z+amZmZmZnpPwAAAAAAAPA/NDMzMzMz8z9nZmZmZmb2P5qZmZmZmfk/zczMzMzM/D8AAAAAAAAAQJqZmZmZmQFANDMzMzMzA0DNzMzMzMwEQGdmZmZmZgZAAAAAAAAACECamZmZmZkJQDQzMzMzMwtAzczMzMzMDEBnZmZmZmYOQAAAAAAAABBAzczMzMzMEECamZmZmZkRQGdmZmZmZhJANDMzMzMzE0AAAAAAAAAUQM3MzMzMzBRAmpmZmZmZFUBnZmZmZmYWQDQzMzMzMxdAAAAAAAAAGEDNzMzMzMwYQJqZmZmZmRlAZ2ZmZmZmGkA0MzMzMzMbQAAAAAAAABxAzczMzMzMHECamZmZmZkdQGdmZmZmZh5ANDMzMzMzH0AAAAAAAAAgQGdmZmZmZiBAzczMzMzMIEAzMzMzMzMhQJqZmZmZmSFAAAAAAAAAIkBnZmZmZmYiQM3MzMzMzCJANDMzMzMzI0CamZmZmZkjQAAAAAAAACRA\",\"dtype\":\"float64\",\"order\":\"little\",\"shape\":[51]},\"y\":[0,0,0,0,0,0,0,0,0,0,1,1,1,1,1,1,1,1,1,1,1,1,1,1,1,1,1,1,1,1,1,1,1,1,1,1,1,1,1,1,1,1,1,1,1,1,1,1,1,1,1]},\"selected\":{\"id\":\"55515\"},\"selection_policy\":{\"id\":\"55514\"}},\"id\":\"54635\",\"type\":\"ColumnDataSource\"},{\"attributes\":{},\"id\":\"54367\",\"type\":\"ResetTool\"},{\"attributes\":{\"tools\":[{\"id\":\"54332\"},{\"id\":\"54333\"},{\"id\":\"54334\"},{\"id\":\"54335\"},{\"id\":\"54336\"},{\"id\":\"54337\"}]},\"id\":\"54339\",\"type\":\"Toolbar\"},{\"attributes\":{\"line_alpha\":0.2,\"line_width\":2,\"x\":{\"field\":\"x\"},\"y\":{\"field\":\"y\"}},\"id\":\"54632\",\"type\":\"Step\"},{\"attributes\":{},\"id\":\"54329\",\"type\":\"BasicTicker\"},{\"attributes\":{\"axis\":{\"id\":\"54328\"},\"coordinates\":null,\"dimension\":1,\"group\":null,\"ticker\":null},\"id\":\"54331\",\"type\":\"Grid\"},{\"attributes\":{\"line_alpha\":0.1,\"line_color\":\"grey\",\"line_width\":2,\"x\":{\"field\":\"x\"},\"y\":{\"field\":\"y\"}},\"id\":\"54427\",\"type\":\"Step\"},{\"attributes\":{\"line_alpha\":0.1,\"line_width\":2,\"x\":{\"field\":\"x\"},\"y\":{\"field\":\"y\"}},\"id\":\"54631\",\"type\":\"Step\"},{\"attributes\":{\"fill_color\":{\"value\":\"white\"},\"hatch_color\":{\"value\":\"white\"},\"line_color\":{\"value\":\"white\"},\"x\":{\"value\":2.4000000000000004},\"y\":{\"value\":39}},\"id\":\"54648\",\"type\":\"Circle\"},{\"attributes\":{},\"id\":\"54701\",\"type\":\"UnionRenderers\"},{\"attributes\":{\"coordinates\":null,\"group\":null},\"id\":\"55464\",\"type\":\"Title\"},{\"attributes\":{\"data\":{},\"selected\":{\"id\":\"54718\"},\"selection_policy\":{\"id\":\"54717\"}},\"id\":\"54641\",\"type\":\"ColumnDataSource\"},{\"attributes\":{},\"id\":\"54337\",\"type\":\"HelpTool\"},{\"attributes\":{\"fill_alpha\":{\"value\":0.1},\"fill_color\":{\"value\":\"orange\"},\"hatch_alpha\":{\"value\":0.1},\"hatch_color\":{\"value\":\"orange\"},\"line_alpha\":{\"value\":0.1},\"line_color\":{\"value\":\"orange\"},\"line_width\":{\"value\":4},\"x\":{\"value\":2.4000000000000004},\"y\":{\"value\":39}},\"id\":\"54643\",\"type\":\"Circle\"},{\"attributes\":{},\"id\":\"54702\",\"type\":\"Selection\"},{\"attributes\":{\"coordinates\":null,\"data_source\":{\"id\":\"54635\"},\"glyph\":{\"id\":\"54636\"},\"group\":null,\"hover_glyph\":null,\"muted_glyph\":{\"id\":\"54638\"},\"nonselection_glyph\":{\"id\":\"54637\"},\"view\":{\"id\":\"54640\"}},\"id\":\"54639\",\"type\":\"GlyphRenderer\"},{\"attributes\":{\"data\":{},\"selected\":{\"id\":\"54720\"},\"selection_policy\":{\"id\":\"54719\"}},\"id\":\"54647\",\"type\":\"ColumnDataSource\"},{\"attributes\":{\"line_alpha\":0.1,\"line_color\":\"grey\",\"line_width\":2,\"x\":{\"field\":\"x\"},\"y\":{\"field\":\"y\"}},\"id\":\"54379\",\"type\":\"Step\"},{\"attributes\":{\"line_alpha\":0.2,\"line_width\":2,\"x\":{\"field\":\"x\"},\"y\":{\"field\":\"y\"}},\"id\":\"54638\",\"type\":\"Step\"},{\"attributes\":{\"coordinates\":null,\"formatter\":{\"id\":\"55467\"},\"group\":null,\"major_label_policy\":{\"id\":\"55468\"},\"major_label_text_font_size\":\"10pt\",\"ticker\":{\"id\":\"54360\"}},\"id\":\"54359\",\"type\":\"LinearAxis\"},{\"attributes\":{\"line_alpha\":0.1,\"line_width\":2,\"x\":{\"field\":\"x\"},\"y\":{\"field\":\"y\"}},\"id\":\"54637\",\"type\":\"Step\"},{\"attributes\":{\"data\":{},\"selected\":{\"id\":\"55517\"},\"selection_policy\":{\"id\":\"55516\"}},\"id\":\"54653\",\"type\":\"ColumnDataSource\"},{\"attributes\":{},\"id\":\"54360\",\"type\":\"BasicTicker\"},{\"attributes\":{\"fill_alpha\":{\"value\":0.2},\"fill_color\":{\"value\":\"orange\"},\"hatch_alpha\":{\"value\":0.2},\"hatch_color\":{\"value\":\"orange\"},\"line_alpha\":{\"value\":0.2},\"line_color\":{\"value\":\"orange\"},\"line_width\":{\"value\":4},\"x\":{\"value\":2.4000000000000004},\"y\":{\"value\":39}},\"id\":\"54644\",\"type\":\"Circle\"},{\"attributes\":{\"source\":{\"id\":\"54641\"}},\"id\":\"54646\",\"type\":\"CDSView\"},{\"attributes\":{\"coordinates\":null,\"data_source\":{\"id\":\"54641\"},\"glyph\":{\"id\":\"54642\"},\"group\":null,\"hover_glyph\":null,\"muted_glyph\":{\"id\":\"54644\"},\"nonselection_glyph\":{\"id\":\"54643\"},\"view\":{\"id\":\"54646\"}},\"id\":\"54645\",\"type\":\"GlyphRenderer\"},{\"attributes\":{\"fill_alpha\":{\"value\":0.1},\"fill_color\":{\"value\":\"white\"},\"hatch_alpha\":{\"value\":0.1},\"hatch_color\":{\"value\":\"white\"},\"line_alpha\":{\"value\":0.1},\"line_color\":{\"value\":\"white\"},\"x\":{\"value\":2.4000000000000004},\"y\":{\"value\":39}},\"id\":\"54649\",\"type\":\"Circle\"},{\"attributes\":{\"fill_color\":{\"value\":\"orange\"},\"hatch_color\":{\"value\":\"orange\"},\"line_color\":{\"value\":\"orange\"},\"line_width\":{\"value\":4},\"x\":{\"value\":2.4000000000000004},\"y\":{\"value\":1}},\"id\":\"54654\",\"type\":\"Circle\"},{\"attributes\":{\"axis\":{\"id\":\"54359\"},\"coordinates\":null,\"dimension\":1,\"group\":null,\"ticker\":null},\"id\":\"54362\",\"type\":\"Grid\"},{\"attributes\":{\"fill_alpha\":{\"value\":0.1},\"fill_color\":{\"value\":\"orange\"},\"hatch_alpha\":{\"value\":0.1},\"hatch_color\":{\"value\":\"orange\"},\"line_alpha\":{\"value\":0.1},\"line_color\":{\"value\":\"orange\"},\"line_width\":{\"value\":4},\"x\":{\"value\":2.4000000000000004},\"y\":{\"value\":1}},\"id\":\"54655\",\"type\":\"Circle\"},{\"attributes\":{\"source\":{\"id\":\"54647\"}},\"id\":\"54652\",\"type\":\"CDSView\"},{\"attributes\":{},\"id\":\"54703\",\"type\":\"UnionRenderers\"},{\"attributes\":{\"coordinates\":null,\"data_source\":{\"id\":\"54647\"},\"glyph\":{\"id\":\"54648\"},\"group\":null,\"hover_glyph\":null,\"muted_glyph\":{\"id\":\"54650\"},\"nonselection_glyph\":{\"id\":\"54649\"},\"view\":{\"id\":\"54652\"}},\"id\":\"54651\",\"type\":\"GlyphRenderer\"},{\"attributes\":{\"fill_color\":{\"value\":\"white\"},\"hatch_color\":{\"value\":\"white\"},\"line_color\":{\"value\":\"white\"},\"x\":{\"value\":2.4000000000000004},\"y\":{\"value\":1}},\"id\":\"54660\",\"type\":\"Circle\"},{\"attributes\":{\"fill_alpha\":{\"value\":0.2},\"fill_color\":{\"value\":\"white\"},\"hatch_alpha\":{\"value\":0.2},\"hatch_color\":{\"value\":\"white\"},\"line_alpha\":{\"value\":0.2},\"line_color\":{\"value\":\"white\"},\"x\":{\"value\":2.4000000000000004},\"y\":{\"value\":39}},\"id\":\"54650\",\"type\":\"Circle\"},{\"attributes\":{},\"id\":\"54363\",\"type\":\"PanTool\"},{\"attributes\":{},\"id\":\"54704\",\"type\":\"Selection\"},{\"attributes\":{\"data\":{},\"selected\":{\"id\":\"55519\"},\"selection_policy\":{\"id\":\"55518\"}},\"id\":\"54659\",\"type\":\"ColumnDataSource\"},{\"attributes\":{},\"id\":\"54368\",\"type\":\"HelpTool\"},{\"attributes\":{\"source\":{\"id\":\"54653\"}},\"id\":\"54658\",\"type\":\"CDSView\"},{\"attributes\":{\"fill_alpha\":{\"value\":0.2},\"fill_color\":{\"value\":\"orange\"},\"hatch_alpha\":{\"value\":0.2},\"hatch_color\":{\"value\":\"orange\"},\"line_alpha\":{\"value\":0.2},\"line_color\":{\"value\":\"orange\"},\"line_width\":{\"value\":4},\"x\":{\"value\":2.4000000000000004},\"y\":{\"value\":1}},\"id\":\"54656\",\"type\":\"Circle\"},{\"attributes\":{\"coordinates\":null,\"data_source\":{\"id\":\"54653\"},\"glyph\":{\"id\":\"54654\"},\"group\":null,\"hover_glyph\":null,\"muted_glyph\":{\"id\":\"54656\"},\"nonselection_glyph\":{\"id\":\"54655\"},\"view\":{\"id\":\"54658\"}},\"id\":\"54657\",\"type\":\"GlyphRenderer\"},{\"attributes\":{\"line_alpha\":0.5,\"line_color\":\"grey\",\"line_width\":2,\"x\":{\"field\":\"x\"},\"y\":{\"field\":\"y\"}},\"id\":\"54426\",\"type\":\"Step\"},{\"attributes\":{\"data\":{\"x\":{\"__ndarray__\":\"AAAAAAAAAACamZmZmZnJP5qZmZmZmdk/NDMzMzMz4z+amZmZmZnpPwAAAAAAAPA/NDMzMzMz8z9nZmZmZmb2P5qZmZmZmfk/zczMzMzM/D8AAAAAAAAAQJqZmZmZmQFANDMzMzMzA0DNzMzMzMwEQGdmZmZmZgZAAAAAAAAACECamZmZmZkJQDQzMzMzMwtAzczMzMzMDEBnZmZmZmYOQAAAAAAAABBAzczMzMzMEECamZmZmZkRQGdmZmZmZhJANDMzMzMzE0AAAAAAAAAUQM3MzMzMzBRAmpmZmZmZFUBnZmZmZmYWQDQzMzMzMxdAAAAAAAAAGEDNzMzMzMwYQJqZmZmZmRlAZ2ZmZmZmGkA0MzMzMzMbQAAAAAAAABxAzczMzMzMHECamZmZmZkdQGdmZmZmZh5ANDMzMzMzH0AAAAAAAAAgQGdmZmZmZiBAzczMzMzMIEAzMzMzMzMhQJqZmZmZmSFAAAAAAAAAIkBnZmZmZmYiQM3MzMzMzCJANDMzMzMzI0CamZmZmZkjQAAAAAAAACRA\",\"dtype\":\"float64\",\"order\":\"little\",\"shape\":[51]},\"y\":[0,0,1,1,16,32,69,87,86,97,101,94,75,66,58,42,31,22,20,19,11,10,9,6,2,2,1,2,2,1,1,1,0,0,0,0,0,0,0,0,0,0,0,0,0,0,0,0,0,0,0]},\"selected\":{\"id\":\"54684\"},\"selection_policy\":{\"id\":\"54683\"}},\"id\":\"54437\",\"type\":\"ColumnDataSource\"},{\"attributes\":{},\"id\":\"55479\",\"type\":\"Selection\"},{\"attributes\":{\"line_alpha\":0.5,\"line_color\":\"grey\",\"line_width\":2,\"x\":{\"field\":\"x\"},\"y\":{\"field\":\"y\"}},\"id\":\"54444\",\"type\":\"Step\"},{\"attributes\":{\"line_alpha\":0.2,\"line_color\":\"grey\",\"line_width\":2,\"x\":{\"field\":\"x\"},\"y\":{\"field\":\"y\"}},\"id\":\"54434\",\"type\":\"Step\"},{\"attributes\":{\"source\":{\"id\":\"54437\"}},\"id\":\"54442\",\"type\":\"CDSView\"},{\"attributes\":{\"coordinates\":null,\"data_source\":{\"id\":\"54431\"},\"glyph\":{\"id\":\"54432\"},\"group\":null,\"hover_glyph\":null,\"muted_glyph\":{\"id\":\"54434\"},\"nonselection_glyph\":{\"id\":\"54433\"},\"view\":{\"id\":\"54436\"}},\"id\":\"54435\",\"type\":\"GlyphRenderer\"},{\"attributes\":{\"source\":{\"id\":\"54431\"}},\"id\":\"54436\",\"type\":\"CDSView\"},{\"attributes\":{},\"id\":\"55508\",\"type\":\"UnionRenderers\"},{\"attributes\":{\"line_alpha\":0.2,\"line_color\":\"grey\",\"line_width\":2,\"x\":{\"field\":\"x\"},\"y\":{\"field\":\"y\"}},\"id\":\"54440\",\"type\":\"Step\"},{\"attributes\":{},\"id\":\"54705\",\"type\":\"UnionRenderers\"},{\"attributes\":{\"line_alpha\":0.2,\"line_color\":\"grey\",\"line_width\":2,\"x\":{\"field\":\"x\"},\"y\":{\"field\":\"y\"}},\"id\":\"54452\",\"type\":\"Step\"},{\"attributes\":{\"data\":{\"x\":{\"__ndarray__\":\"AAAAAAAAAACamZmZmZnJP5qZmZmZmdk/NDMzMzMz4z+amZmZmZnpPwAAAAAAAPA/NDMzMzMz8z9nZmZmZmb2P5qZmZmZmfk/zczMzMzM/D8AAAAAAAAAQJqZmZmZmQFANDMzMzMzA0DNzMzMzMwEQGdmZmZmZgZAAAAAAAAACECamZmZmZkJQDQzMzMzMwtAzczMzMzMDEBnZmZmZmYOQAAAAAAAABBAzczMzMzMEECamZmZmZkRQGdmZmZmZhJANDMzMzMzE0AAAAAAAAAUQM3MzMzMzBRAmpmZmZmZFUBnZmZmZmYWQDQzMzMzMxdAAAAAAAAAGEDNzMzMzMwYQJqZmZmZmRlAZ2ZmZmZmGkA0MzMzMzMbQAAAAAAAABxAzczMzMzMHECamZmZmZkdQGdmZmZmZh5ANDMzMzMzH0AAAAAAAAAgQGdmZmZmZiBAzczMzMzMIEAzMzMzMzMhQJqZmZmZmSFAAAAAAAAAIkBnZmZmZmYiQM3MzMzMzCJANDMzMzMzI0CamZmZmZkjQAAAAAAAACRA\",\"dtype\":\"float64\",\"order\":\"little\",\"shape\":[51]},\"y\":[0,0,0,0,0,0,0,0,0,0,1,1,1,1,1,1,1,1,1,1,1,1,1,1,1,1,1,1,1,1,1,1,1,1,1,1,1,1,1,1,1,1,1,1,1,1,1,1,1,1,1]},\"selected\":{\"id\":\"55483\"},\"selection_policy\":{\"id\":\"55482\"}},\"id\":\"54443\",\"type\":\"ColumnDataSource\"},{\"attributes\":{},\"id\":\"55509\",\"type\":\"Selection\"},{\"attributes\":{\"coordinates\":null,\"data_source\":{\"id\":\"54437\"},\"glyph\":{\"id\":\"54438\"},\"group\":null,\"hover_glyph\":null,\"muted_glyph\":{\"id\":\"54440\"},\"nonselection_glyph\":{\"id\":\"54439\"},\"view\":{\"id\":\"54442\"}},\"id\":\"54441\",\"type\":\"GlyphRenderer\"},{\"attributes\":{},\"id\":\"54706\",\"type\":\"Selection\"},{\"attributes\":{\"line_alpha\":0.2,\"line_color\":\"grey\",\"line_width\":2,\"x\":{\"field\":\"x\"},\"y\":{\"field\":\"y\"}},\"id\":\"54446\",\"type\":\"Step\"},{\"attributes\":{\"data\":{\"x\":{\"__ndarray__\":\"AAAAAAAAAACamZmZmZnJP5qZmZmZmdk/NDMzMzMz4z+amZmZmZnpPwAAAAAAAPA/NDMzMzMz8z9nZmZmZmb2P5qZmZmZmfk/zczMzMzM/D8AAAAAAAAAQJqZmZmZmQFANDMzMzMzA0DNzMzMzMwEQGdmZmZmZgZAAAAAAAAACECamZmZmZkJQDQzMzMzMwtAzczMzMzMDEBnZmZmZmYOQAAAAAAAABBAzczMzMzMEECamZmZmZkRQGdmZmZmZhJANDMzMzMzE0AAAAAAAAAUQM3MzMzMzBRAmpmZmZmZFUBnZmZmZmYWQDQzMzMzMxdAAAAAAAAAGEDNzMzMzMwYQJqZmZmZmRlAZ2ZmZmZmGkA0MzMzMzMbQAAAAAAAABxAzczMzMzMHECamZmZmZkdQGdmZmZmZh5ANDMzMzMzH0AAAAAAAAAgQGdmZmZmZiBAzczMzMzMIEAzMzMzMzMhQJqZmZmZmSFAAAAAAAAAIkBnZmZmZmYiQM3MzMzMzCJANDMzMzMzI0CamZmZmZkjQAAAAAAAACRA\",\"dtype\":\"float64\",\"order\":\"little\",\"shape\":[51]},\"y\":[0,0,17,37,49,50,44,33,21,14,9,8,2,2,2,1,1,0,0,0,0,0,0,0,0,0,0,0,0,0,0,0,0,0,0,0,0,0,0,0,0,0,0,0,0,0,0,0,0,0,0]},\"selected\":{\"id\":\"54686\"},\"selection_policy\":{\"id\":\"54685\"}},\"id\":\"54449\",\"type\":\"ColumnDataSource\"},{\"attributes\":{\"coordinates\":null,\"data_source\":{\"id\":\"54443\"},\"glyph\":{\"id\":\"54444\"},\"group\":null,\"hover_glyph\":null,\"muted_glyph\":{\"id\":\"54446\"},\"nonselection_glyph\":{\"id\":\"54445\"},\"view\":{\"id\":\"54448\"}},\"id\":\"54447\",\"type\":\"GlyphRenderer\"},{\"attributes\":{},\"id\":\"54687\",\"type\":\"UnionRenderers\"},{\"attributes\":{\"line_alpha\":0.5,\"line_color\":\"grey\",\"line_width\":2,\"x\":{\"field\":\"x\"},\"y\":{\"field\":\"y\"}},\"id\":\"54450\",\"type\":\"Step\"},{\"attributes\":{},\"id\":\"55480\",\"type\":\"UnionRenderers\"},{\"attributes\":{\"line_alpha\":0.5,\"line_color\":\"grey\",\"line_width\":2,\"x\":{\"field\":\"x\"},\"y\":{\"field\":\"y\"}},\"id\":\"54378\",\"type\":\"Step\"},{\"attributes\":{\"line_alpha\":0.1,\"line_color\":\"grey\",\"line_width\":2,\"x\":{\"field\":\"x\"},\"y\":{\"field\":\"y\"}},\"id\":\"54445\",\"type\":\"Step\"},{\"attributes\":{},\"id\":\"54688\",\"type\":\"Selection\"},{\"attributes\":{\"source\":{\"id\":\"54443\"}},\"id\":\"54448\",\"type\":\"CDSView\"},{\"attributes\":{},\"id\":\"55481\",\"type\":\"Selection\"},{\"attributes\":{\"line_alpha\":0.2,\"line_color\":\"grey\",\"line_width\":2,\"x\":{\"field\":\"x\"},\"y\":{\"field\":\"y\"}},\"id\":\"54458\",\"type\":\"Step\"},{\"attributes\":{\"coordinates\":null,\"formatter\":{\"id\":\"54671\"},\"group\":null,\"major_label_policy\":{\"id\":\"54672\"},\"major_label_text_font_size\":\"10pt\",\"ticker\":{\"id\":\"54325\"}},\"id\":\"54324\",\"type\":\"LinearAxis\"},{\"attributes\":{\"data\":{\"x\":{\"__ndarray__\":\"AAAAAAAAAACamZmZmZnJP5qZmZmZmdk/NDMzMzMz4z+amZmZmZnpPwAAAAAAAPA/NDMzMzMz8z9nZmZmZmb2P5qZmZmZmfk/zczMzMzM/D8AAAAAAAAAQJqZmZmZmQFANDMzMzMzA0DNzMzMzMwEQGdmZmZmZgZAAAAAAAAACECamZmZmZkJQDQzMzMzMwtAzczMzMzMDEBnZmZmZmYOQAAAAAAAABBAzczMzMzMEECamZmZmZkRQGdmZmZmZhJANDMzMzMzE0AAAAAAAAAUQM3MzMzMzBRAmpmZmZmZFUBnZmZmZmYWQDQzMzMzMxdAAAAAAAAAGEDNzMzMzMwYQJqZmZmZmRlAZ2ZmZmZmGkA0MzMzMzMbQAAAAAAAABxAzczMzMzMHECamZmZmZkdQGdmZmZmZh5ANDMzMzMzH0AAAAAAAAAgQGdmZmZmZiBAzczMzMzMIEAzMzMzMzMhQJqZmZmZmSFAAAAAAAAAIkBnZmZmZmYiQM3MzMzMzCJANDMzMzMzI0CamZmZmZkjQAAAAAAAACRA\",\"dtype\":\"float64\",\"order\":\"little\",\"shape\":[51]},\"y\":[0,0,0,0,0,1,1,1,1,1,1,1,1,1,1,1,1,1,1,1,1,1,1,1,1,1,1,1,1,1,1,1,1,1,1,1,1,1,1,1,1,1,1,1,1,1,1,1,1,1,1]},\"selected\":{\"id\":\"55485\"},\"selection_policy\":{\"id\":\"55484\"}},\"id\":\"54455\",\"type\":\"ColumnDataSource\"},{\"attributes\":{\"coordinates\":null,\"data_source\":{\"id\":\"54449\"},\"glyph\":{\"id\":\"54450\"},\"group\":null,\"hover_glyph\":null,\"muted_glyph\":{\"id\":\"54452\"},\"nonselection_glyph\":{\"id\":\"54451\"},\"view\":{\"id\":\"54454\"}},\"id\":\"54453\",\"type\":\"GlyphRenderer\"},{\"attributes\":{\"line_alpha\":0.5,\"line_color\":\"grey\",\"line_width\":2,\"x\":{\"field\":\"x\"},\"y\":{\"field\":\"y\"}},\"id\":\"54456\",\"type\":\"Step\"},{\"attributes\":{\"line_alpha\":0.1,\"line_color\":\"grey\",\"line_width\":2,\"x\":{\"field\":\"x\"},\"y\":{\"field\":\"y\"}},\"id\":\"54451\",\"type\":\"Step\"},{\"attributes\":{\"source\":{\"id\":\"54449\"}},\"id\":\"54454\",\"type\":\"CDSView\"},{\"attributes\":{},\"id\":\"55510\",\"type\":\"UnionRenderers\"},{\"attributes\":{\"line_alpha\":0.2,\"line_color\":\"grey\",\"line_width\":2,\"x\":{\"field\":\"x\"},\"y\":{\"field\":\"y\"}},\"id\":\"54464\",\"type\":\"Step\"},{\"attributes\":{},\"id\":\"54707\",\"type\":\"UnionRenderers\"},{\"attributes\":{\"data\":{\"x\":{\"__ndarray__\":\"AAAAAAAAAACamZmZmZnJP5qZmZmZmdk/NDMzMzMz4z+amZmZmZnpPwAAAAAAAPA/NDMzMzMz8z9nZmZmZmb2P5qZmZmZmfk/zczMzMzM/D8AAAAAAAAAQJqZmZmZmQFANDMzMzMzA0DNzMzMzMwEQGdmZmZmZgZAAAAAAAAACECamZmZmZkJQDQzMzMzMwtAzczMzMzMDEBnZmZmZmYOQAAAAAAAABBAzczMzMzMEECamZmZmZkRQGdmZmZmZhJANDMzMzMzE0AAAAAAAAAUQM3MzMzMzBRAmpmZmZmZFUBnZmZmZmYWQDQzMzMzMxdAAAAAAAAAGEDNzMzMzMwYQJqZmZmZmRlAZ2ZmZmZmGkA0MzMzMzMbQAAAAAAAABxAzczMzMzMHECamZmZmZkdQGdmZmZmZh5ANDMzMzMzH0AAAAAAAAAgQGdmZmZmZiBAzczMzMzMIEAzMzMzMzMhQJqZmZmZmSFAAAAAAAAAIkBnZmZmZmYiQM3MzMzMzCJANDMzMzMzI0CamZmZmZkjQAAAAAAAACRA\",\"dtype\":\"float64\",\"order\":\"little\",\"shape\":[51]},\"y\":[0,0,0,3,12,23,32,27,26,20,29,32,32,24,22,18,15,13,20,24,40,47,51,48,44,38,30,25,24,23,24,23,21,17,28,38,59,64,55,64,52,43,36,25,21,19,13,10,8,4,3]},\"selected\":{\"id\":\"54688\"},\"selection_policy\":{\"id\":\"54687\"}},\"id\":\"54461\",\"type\":\"ColumnDataSource\"},{\"attributes\":{\"coordinates\":null,\"data_source\":{\"id\":\"54455\"},\"glyph\":{\"id\":\"54456\"},\"group\":null,\"hover_glyph\":null,\"muted_glyph\":{\"id\":\"54458\"},\"nonselection_glyph\":{\"id\":\"54457\"},\"view\":{\"id\":\"54460\"}},\"id\":\"54459\",\"type\":\"GlyphRenderer\"},{\"attributes\":{},\"id\":\"55511\",\"type\":\"Selection\"},{\"attributes\":{\"line_alpha\":0.5,\"line_color\":\"grey\",\"line_width\":2,\"x\":{\"field\":\"x\"},\"y\":{\"field\":\"y\"}},\"id\":\"54462\",\"type\":\"Step\"},{\"attributes\":{},\"id\":\"54708\",\"type\":\"Selection\"},{\"attributes\":{\"line_alpha\":0.1,\"line_color\":\"grey\",\"line_width\":2,\"x\":{\"field\":\"x\"},\"y\":{\"field\":\"y\"}},\"id\":\"54457\",\"type\":\"Step\"},{\"attributes\":{},\"id\":\"54316\",\"type\":\"DataRange1d\"},{\"attributes\":{\"source\":{\"id\":\"54455\"}},\"id\":\"54460\",\"type\":\"CDSView\"},{\"attributes\":{},\"id\":\"54689\",\"type\":\"UnionRenderers\"},{\"attributes\":{\"line_alpha\":0.2,\"line_color\":\"grey\",\"line_width\":2,\"x\":{\"field\":\"x\"},\"y\":{\"field\":\"y\"}},\"id\":\"54470\",\"type\":\"Step\"},{\"attributes\":{},\"id\":\"54325\",\"type\":\"BasicTicker\"},{\"attributes\":{},\"id\":\"55482\",\"type\":\"UnionRenderers\"},{\"attributes\":{\"line_alpha\":0.1,\"line_color\":\"grey\",\"line_width\":2,\"x\":{\"field\":\"x\"},\"y\":{\"field\":\"y\"}},\"id\":\"54505\",\"type\":\"Step\"},{\"attributes\":{},\"id\":\"54318\",\"type\":\"DataRange1d\"},{\"attributes\":{\"coordinates\":null,\"data_source\":{\"id\":\"54461\"},\"glyph\":{\"id\":\"54462\"},\"group\":null,\"hover_glyph\":null,\"muted_glyph\":{\"id\":\"54464\"},\"nonselection_glyph\":{\"id\":\"54463\"},\"view\":{\"id\":\"54466\"}},\"id\":\"54465\",\"type\":\"GlyphRenderer\"},{\"attributes\":{},\"id\":\"54690\",\"type\":\"Selection\"},{\"attributes\":{\"data\":{\"x\":{\"__ndarray__\":\"AAAAAAAAAACamZmZmZnJP5qZmZmZmdk/NDMzMzMz4z+amZmZmZnpPwAAAAAAAPA/NDMzMzMz8z9nZmZmZmb2P5qZmZmZmfk/zczMzMzM/D8AAAAAAAAAQJqZmZmZmQFANDMzMzMzA0DNzMzMzMwEQGdmZmZmZgZAAAAAAAAACECamZmZmZkJQDQzMzMzMwtAzczMzMzMDEBnZmZmZmYOQAAAAAAAABBAzczMzMzMEECamZmZmZkRQGdmZmZmZhJANDMzMzMzE0AAAAAAAAAUQM3MzMzMzBRAmpmZmZmZFUBnZmZmZmYWQDQzMzMzMxdAAAAAAAAAGEDNzMzMzMwYQJqZmZmZmRlAZ2ZmZmZmGkA0MzMzMzMbQAAAAAAAABxAzczMzMzMHECamZmZmZkdQGdmZmZmZh5ANDMzMzMzH0AAAAAAAAAgQGdmZmZmZiBAzczMzMzMIEAzMzMzMzMhQJqZmZmZmSFAAAAAAAAAIkBnZmZmZmYiQM3MzMzMzCJANDMzMzMzI0CamZmZmZkjQAAAAAAAACRA\",\"dtype\":\"float64\",\"order\":\"little\",\"shape\":[51]},\"y\":[0,0,14,32,37,41,32,36,40,38,29,28,18,15,11,10,10,6,4,3,3,3,3,2,1,0,0,1,0,0,0,0,0,0,0,0,0,0,0,0,0,0,0,0,0,0,0,0,0,0,0]},\"selected\":{\"id\":\"54674\"},\"selection_policy\":{\"id\":\"54673\"}},\"id\":\"54377\",\"type\":\"ColumnDataSource\"},{\"attributes\":{},\"id\":\"55483\",\"type\":\"Selection\"},{\"attributes\":{\"data\":{\"x\":{\"__ndarray__\":\"AAAAAAAAAACamZmZmZnJP5qZmZmZmdk/NDMzMzMz4z+amZmZmZnpPwAAAAAAAPA/NDMzMzMz8z9nZmZmZmb2P5qZmZmZmfk/zczMzMzM/D8AAAAAAAAAQJqZmZmZmQFANDMzMzMzA0DNzMzMzMwEQGdmZmZmZgZAAAAAAAAACECamZmZmZkJQDQzMzMzMwtAzczMzMzMDEBnZmZmZmYOQAAAAAAAABBAzczMzMzMEECamZmZmZkRQGdmZmZmZhJANDMzMzMzE0AAAAAAAAAUQM3MzMzMzBRAmpmZmZmZFUBnZmZmZmYWQDQzMzMzMxdAAAAAAAAAGEDNzMzMzMwYQJqZmZmZmRlAZ2ZmZmZmGkA0MzMzMzMbQAAAAAAAABxAzczMzMzMHECamZmZmZkdQGdmZmZmZh5ANDMzMzMzH0AAAAAAAAAgQGdmZmZmZiBAzczMzMzMIEAzMzMzMzMhQJqZmZmZmSFAAAAAAAAAIkBnZmZmZmYiQM3MzMzMzCJANDMzMzMzI0CamZmZmZkjQAAAAAAAACRA\",\"dtype\":\"float64\",\"order\":\"little\",\"shape\":[51]},\"y\":[0,0,0,0,0,0,0,0,0,0,0,0,0,0,0,0,0,0,0,0,0,0,0,0,0,0,0,0,0,0,0,0,0,0,0,0,0,1,1,1,1,1,1,1,1,1,1,1,1,1,1]},\"selected\":{\"id\":\"55487\"},\"selection_policy\":{\"id\":\"55486\"}},\"id\":\"54467\",\"type\":\"ColumnDataSource\"},{\"attributes\":{\"line_alpha\":0.1,\"line_color\":\"grey\",\"line_width\":2,\"x\":{\"field\":\"x\"},\"y\":{\"field\":\"y\"}},\"id\":\"54463\",\"type\":\"Step\"},{\"attributes\":{\"source\":{\"id\":\"54461\"}},\"id\":\"54466\",\"type\":\"CDSView\"},{\"attributes\":{\"line_alpha\":0.5,\"line_color\":\"grey\",\"line_width\":2,\"x\":{\"field\":\"x\"},\"y\":{\"field\":\"y\"}},\"id\":\"54468\",\"type\":\"Step\"},{\"attributes\":{\"below\":[{\"id\":\"54324\"}],\"center\":[{\"id\":\"54327\"},{\"id\":\"54331\"}],\"height\":115,\"left\":[{\"id\":\"54328\"}],\"output_backend\":\"svg\",\"renderers\":[{\"id\":\"54381\"},{\"id\":\"54393\"},{\"id\":\"54405\"},{\"id\":\"54417\"},{\"id\":\"54429\"},{\"id\":\"54441\"},{\"id\":\"54453\"},{\"id\":\"54465\"},{\"id\":\"54477\"},{\"id\":\"54489\"},{\"id\":\"54501\"},{\"id\":\"54513\"},{\"id\":\"54525\"},{\"id\":\"54537\"},{\"id\":\"54549\"},{\"id\":\"54561\"},{\"id\":\"54573\"},{\"id\":\"54585\"},{\"id\":\"54597\"},{\"id\":\"54609\"},{\"id\":\"54621\"},{\"id\":\"54633\"},{\"id\":\"54645\"},{\"id\":\"54651\"}],\"title\":{\"id\":\"54665\"},\"toolbar\":{\"id\":\"54339\"},\"width\":150,\"x_range\":{\"id\":\"54316\"},\"x_scale\":{\"id\":\"54320\"},\"y_range\":{\"id\":\"54318\"},\"y_scale\":{\"id\":\"54322\"}},\"id\":\"54315\",\"subtype\":\"Figure\",\"type\":\"Plot\"},{\"attributes\":{\"line_alpha\":0.2,\"line_color\":\"grey\",\"line_width\":2,\"x\":{\"field\":\"x\"},\"y\":{\"field\":\"y\"}},\"id\":\"54476\",\"type\":\"Step\"},{\"attributes\":{\"axis\":{\"id\":\"54324\"},\"coordinates\":null,\"group\":null,\"ticker\":null},\"id\":\"54327\",\"type\":\"Grid\"},{\"attributes\":{\"coordinates\":null,\"data_source\":{\"id\":\"54467\"},\"glyph\":{\"id\":\"54468\"},\"group\":null,\"hover_glyph\":null,\"muted_glyph\":{\"id\":\"54470\"},\"nonselection_glyph\":{\"id\":\"54469\"},\"view\":{\"id\":\"54472\"}},\"id\":\"54471\",\"type\":\"GlyphRenderer\"},{\"attributes\":{\"line_width\":2,\"x\":{\"field\":\"x\"},\"y\":{\"field\":\"y\"}},\"id\":\"54636\",\"type\":\"Step\"},{\"attributes\":{},\"id\":\"55512\",\"type\":\"UnionRenderers\"},{\"attributes\":{\"data\":{\"x\":{\"__ndarray__\":\"AAAAAAAAAACamZmZmZnJP5qZmZmZmdk/NDMzMzMz4z+amZmZmZnpPwAAAAAAAPA/NDMzMzMz8z9nZmZmZmb2P5qZmZmZmfk/zczMzMzM/D8AAAAAAAAAQJqZmZmZmQFANDMzMzMzA0DNzMzMzMwEQGdmZmZmZgZAAAAAAAAACECamZmZmZkJQDQzMzMzMwtAzczMzMzMDEBnZmZmZmYOQAAAAAAAABBAzczMzMzMEECamZmZmZkRQGdmZmZmZhJANDMzMzMzE0AAAAAAAAAUQM3MzMzMzBRAmpmZmZmZFUBnZmZmZmYWQDQzMzMzMxdAAAAAAAAAGEDNzMzMzMwYQJqZmZmZmRlAZ2ZmZmZmGkA0MzMzMzMbQAAAAAAAABxAzczMzMzMHECamZmZmZkdQGdmZmZmZh5ANDMzMzMzH0AAAAAAAAAgQGdmZmZmZiBAzczMzMzMIEAzMzMzMzMhQJqZmZmZmSFAAAAAAAAAIkBnZmZmZmYiQM3MzMzMzCJANDMzMzMzI0CamZmZmZkjQAAAAAAAACRA\",\"dtype\":\"float64\",\"order\":\"little\",\"shape\":[51]},\"y\":[0,3,17,35,38,37,28,22,18,13,10,5,6,5,4,4,1,1,0,0,0,0,0,0,0,0,0,0,0,0,0,0,0,0,0,0,0,0,0,0,0,0,0,0,0,0,0,0,0,0,0]},\"selected\":{\"id\":\"54690\"},\"selection_policy\":{\"id\":\"54689\"}},\"id\":\"54473\",\"type\":\"ColumnDataSource\"},{\"attributes\":{},\"id\":\"54709\",\"type\":\"UnionRenderers\"},{\"attributes\":{\"line_alpha\":0.1,\"line_color\":\"grey\",\"line_width\":2,\"x\":{\"field\":\"x\"},\"y\":{\"field\":\"y\"}},\"id\":\"54469\",\"type\":\"Step\"},{\"attributes\":{\"line_width\":2,\"x\":{\"field\":\"x\"},\"y\":{\"field\":\"y\"}},\"id\":\"54630\",\"type\":\"Step\"},{\"attributes\":{\"source\":{\"id\":\"54467\"}},\"id\":\"54472\",\"type\":\"CDSView\"},{\"attributes\":{},\"id\":\"55513\",\"type\":\"Selection\"},{\"attributes\":{\"below\":[{\"id\":\"54355\"}],\"center\":[{\"id\":\"54358\"},{\"id\":\"54362\"}],\"height\":115,\"left\":[{\"id\":\"54359\"}],\"output_backend\":\"svg\",\"renderers\":[{\"id\":\"54387\"},{\"id\":\"54399\"},{\"id\":\"54411\"},{\"id\":\"54423\"},{\"id\":\"54435\"},{\"id\":\"54447\"},{\"id\":\"54459\"},{\"id\":\"54471\"},{\"id\":\"54483\"},{\"id\":\"54495\"},{\"id\":\"54507\"},{\"id\":\"54519\"},{\"id\":\"54531\"},{\"id\":\"54543\"},{\"id\":\"54555\"},{\"id\":\"54567\"},{\"id\":\"54579\"},{\"id\":\"54591\"},{\"id\":\"54603\"},{\"id\":\"54615\"},{\"id\":\"54627\"},{\"id\":\"54639\"},{\"id\":\"54657\"},{\"id\":\"54663\"}],\"title\":{\"id\":\"55464\"},\"toolbar\":{\"id\":\"54370\"},\"width\":150,\"x_range\":{\"id\":\"54347\"},\"x_scale\":{\"id\":\"54351\"},\"y_range\":{\"id\":\"54349\"},\"y_scale\":{\"id\":\"54353\"}},\"id\":\"54346\",\"subtype\":\"Figure\",\"type\":\"Plot\"},{\"attributes\":{\"line_alpha\":0.5,\"line_color\":\"grey\",\"line_width\":2,\"x\":{\"field\":\"x\"},\"y\":{\"field\":\"y\"}},\"id\":\"54474\",\"type\":\"Step\"},{\"attributes\":{},\"id\":\"54710\",\"type\":\"Selection\"},{\"attributes\":{\"line_alpha\":0.2,\"line_color\":\"grey\",\"line_width\":2,\"x\":{\"field\":\"x\"},\"y\":{\"field\":\"y\"}},\"id\":\"54482\",\"type\":\"Step\"},{\"attributes\":{\"coordinates\":null,\"data_source\":{\"id\":\"54473\"},\"glyph\":{\"id\":\"54474\"},\"group\":null,\"hover_glyph\":null,\"muted_glyph\":{\"id\":\"54476\"},\"nonselection_glyph\":{\"id\":\"54475\"},\"view\":{\"id\":\"54478\"}},\"id\":\"54477\",\"type\":\"GlyphRenderer\"},{\"attributes\":{},\"id\":\"55484\",\"type\":\"UnionRenderers\"},{\"attributes\":{},\"id\":\"54691\",\"type\":\"UnionRenderers\"},{\"attributes\":{\"data\":{\"x\":{\"__ndarray__\":\"AAAAAAAAAACamZmZmZnJP5qZmZmZmdk/NDMzMzMz4z+amZmZmZnpPwAAAAAAAPA/NDMzMzMz8z9nZmZmZmb2P5qZmZmZmfk/zczMzMzM/D8AAAAAAAAAQJqZmZmZmQFANDMzMzMzA0DNzMzMzMwEQGdmZmZmZgZAAAAAAAAACECamZmZmZkJQDQzMzMzMwtAzczMzMzMDEBnZmZmZmYOQAAAAAAAABBAzczMzMzMEECamZmZmZkRQGdmZmZmZhJANDMzMzMzE0AAAAAAAAAUQM3MzMzMzBRAmpmZmZmZFUBnZmZmZmYWQDQzMzMzMxdAAAAAAAAAGEDNzMzMzMwYQJqZmZmZmRlAZ2ZmZmZmGkA0MzMzMzMbQAAAAAAAABxAzczMzMzMHECamZmZmZkdQGdmZmZmZh5ANDMzMzMzH0AAAAAAAAAgQGdmZmZmZiBAzczMzMzMIEAzMzMzMzMhQJqZmZmZmSFAAAAAAAAAIkBnZmZmZmYiQM3MzMzMzCJANDMzMzMzI0CamZmZmZkjQAAAAAAAACRA\",\"dtype\":\"float64\",\"order\":\"little\",\"shape\":[51]},\"y\":[0,0,0,0,0,0,0,0,1,1,1,1,1,1,1,1,1,1,1,1,1,1,1,1,1,1,1,1,1,1,1,1,1,1,1,1,1,1,1,1,1,1,1,1,1,1,1,1,1,1,1]},\"selected\":{\"id\":\"55489\"},\"selection_policy\":{\"id\":\"55488\"}},\"id\":\"54479\",\"type\":\"ColumnDataSource\"},{\"attributes\":{\"line_alpha\":0.1,\"line_color\":\"grey\",\"line_width\":2,\"x\":{\"field\":\"x\"},\"y\":{\"field\":\"y\"}},\"id\":\"54475\",\"type\":\"Step\"},{\"attributes\":{},\"id\":\"55485\",\"type\":\"Selection\"},{\"attributes\":{\"source\":{\"id\":\"54473\"}},\"id\":\"54478\",\"type\":\"CDSView\"},{\"attributes\":{},\"id\":\"54692\",\"type\":\"Selection\"},{\"attributes\":{\"line_alpha\":0.5,\"line_color\":\"grey\",\"line_width\":2,\"x\":{\"field\":\"x\"},\"y\":{\"field\":\"y\"}},\"id\":\"54480\",\"type\":\"Step\"},{\"attributes\":{\"line_alpha\":0.2,\"line_color\":\"grey\",\"line_width\":2,\"x\":{\"field\":\"x\"},\"y\":{\"field\":\"y\"}},\"id\":\"54488\",\"type\":\"Step\"},{\"attributes\":{\"coordinates\":null,\"data_source\":{\"id\":\"54479\"},\"glyph\":{\"id\":\"54480\"},\"group\":null,\"hover_glyph\":null,\"muted_glyph\":{\"id\":\"54482\"},\"nonselection_glyph\":{\"id\":\"54481\"},\"view\":{\"id\":\"54484\"}},\"id\":\"54483\",\"type\":\"GlyphRenderer\"},{\"attributes\":{\"data\":{\"x\":{\"__ndarray__\":\"AAAAAAAAAACamZmZmZnJP5qZmZmZmdk/NDMzMzMz4z+amZmZmZnpPwAAAAAAAPA/NDMzMzMz8z9nZmZmZmb2P5qZmZmZmfk/zczMzMzM/D8AAAAAAAAAQJqZmZmZmQFANDMzMzMzA0DNzMzMzMwEQGdmZmZmZgZAAAAAAAAACECamZmZmZkJQDQzMzMzMwtAzczMzMzMDEBnZmZmZmYOQAAAAAAAABBAzczMzMzMEECamZmZmZkRQGdmZmZmZhJANDMzMzMzE0AAAAAAAAAUQM3MzMzMzBRAmpmZmZmZFUBnZmZmZmYWQDQzMzMzMxdAAAAAAAAAGEDNzMzMzMwYQJqZmZmZmRlAZ2ZmZmZmGkA0MzMzMzMbQAAAAAAAABxAzczMzMzMHECamZmZmZkdQGdmZmZmZh5ANDMzMzMzH0AAAAAAAAAgQGdmZmZmZiBAzczMzMzMIEAzMzMzMzMhQJqZmZmZmSFAAAAAAAAAIkBnZmZmZmYiQM3MzMzMzCJANDMzMzMzI0CamZmZmZkjQAAAAAAAACRA\",\"dtype\":\"float64\",\"order\":\"little\",\"shape\":[51]},\"y\":[0,0,12,22,50,68,79,79,53,49,31,22,24,26,20,37,46,58,47,44,34,27,18,14,12,7,4,5,2,1,0,0,0,0,0,0,0,0,0,0,0,0,0,0,0,0,0,0,0,0,0]},\"selected\":{\"id\":\"54692\"},\"selection_policy\":{\"id\":\"54691\"}},\"id\":\"54485\",\"type\":\"ColumnDataSource\"},{\"attributes\":{\"line_alpha\":0.1,\"line_color\":\"grey\",\"line_width\":2,\"x\":{\"field\":\"x\"},\"y\":{\"field\":\"y\"}},\"id\":\"54481\",\"type\":\"Step\"},{\"attributes\":{\"source\":{\"id\":\"54479\"}},\"id\":\"54484\",\"type\":\"CDSView\"},{\"attributes\":{\"line_alpha\":0.5,\"line_color\":\"grey\",\"line_width\":2,\"x\":{\"field\":\"x\"},\"y\":{\"field\":\"y\"}},\"id\":\"54486\",\"type\":\"Step\"},{\"attributes\":{},\"id\":\"55514\",\"type\":\"UnionRenderers\"},{\"attributes\":{\"line_alpha\":0.2,\"line_color\":\"grey\",\"line_width\":2,\"x\":{\"field\":\"x\"},\"y\":{\"field\":\"y\"}},\"id\":\"54494\",\"type\":\"Step\"},{\"attributes\":{},\"id\":\"54711\",\"type\":\"UnionRenderers\"},{\"attributes\":{\"coordinates\":null,\"data_source\":{\"id\":\"54485\"},\"glyph\":{\"id\":\"54486\"},\"group\":null,\"hover_glyph\":null,\"muted_glyph\":{\"id\":\"54488\"},\"nonselection_glyph\":{\"id\":\"54487\"},\"view\":{\"id\":\"54490\"}},\"id\":\"54489\",\"type\":\"GlyphRenderer\"},{\"attributes\":{},\"id\":\"55515\",\"type\":\"Selection\"},{\"attributes\":{\"data\":{\"x\":{\"__ndarray__\":\"AAAAAAAAAACamZmZmZnJP5qZmZmZmdk/NDMzMzMz4z+amZmZmZnpPwAAAAAAAPA/NDMzMzMz8z9nZmZmZmb2P5qZmZmZmfk/zczMzMzM/D8AAAAAAAAAQJqZmZmZmQFANDMzMzMzA0DNzMzMzMwEQGdmZmZmZgZAAAAAAAAACECamZmZmZkJQDQzMzMzMwtAzczMzMzMDEBnZmZmZmYOQAAAAAAAABBAzczMzMzMEECamZmZmZkRQGdmZmZmZhJANDMzMzMzE0AAAAAAAAAUQM3MzMzMzBRAmpmZmZmZFUBnZmZmZmYWQDQzMzMzMxdAAAAAAAAAGEDNzMzMzMwYQJqZmZmZmRlAZ2ZmZmZmGkA0MzMzMzMbQAAAAAAAABxAzczMzMzMHECamZmZmZkdQGdmZmZmZh5ANDMzMzMzH0AAAAAAAAAgQGdmZmZmZiBAzczMzMzMIEAzMzMzMzMhQJqZmZmZmSFAAAAAAAAAIkBnZmZmZmYiQM3MzMzMzCJANDMzMzMzI0CamZmZmZkjQAAAAAAAACRA\",\"dtype\":\"float64\",\"order\":\"little\",\"shape\":[51]},\"y\":[0,0,0,0,0,0,0,0,0,0,0,0,0,0,0,0,0,0,0,1,1,1,1,1,1,1,1,1,1,1,1,1,1,1,1,1,1,1,1,1,1,1,1,1,1,1,1,1,1,1,1]},\"selected\":{\"id\":\"55491\"},\"selection_policy\":{\"id\":\"55490\"}},\"id\":\"54491\",\"type\":\"ColumnDataSource\"},{\"attributes\":{},\"id\":\"54712\",\"type\":\"Selection\"},{\"attributes\":{\"line_alpha\":0.1,\"line_color\":\"grey\",\"line_width\":2,\"x\":{\"field\":\"x\"},\"y\":{\"field\":\"y\"}},\"id\":\"54487\",\"type\":\"Step\"},{\"attributes\":{\"source\":{\"id\":\"54485\"}},\"id\":\"54490\",\"type\":\"CDSView\"},{\"attributes\":{},\"id\":\"55486\",\"type\":\"UnionRenderers\"},{\"attributes\":{\"line_alpha\":0.5,\"line_color\":\"grey\",\"line_width\":2,\"x\":{\"field\":\"x\"},\"y\":{\"field\":\"y\"}},\"id\":\"54492\",\"type\":\"Step\"},{\"attributes\":{},\"id\":\"54693\",\"type\":\"UnionRenderers\"},{\"attributes\":{\"line_alpha\":0.2,\"line_color\":\"grey\",\"line_width\":2,\"x\":{\"field\":\"x\"},\"y\":{\"field\":\"y\"}},\"id\":\"54500\",\"type\":\"Step\"},{\"attributes\":{\"coordinates\":null,\"data_source\":{\"id\":\"54491\"},\"glyph\":{\"id\":\"54492\"},\"group\":null,\"hover_glyph\":null,\"muted_glyph\":{\"id\":\"54494\"},\"nonselection_glyph\":{\"id\":\"54493\"},\"view\":{\"id\":\"54496\"}},\"id\":\"54495\",\"type\":\"GlyphRenderer\"},{\"attributes\":{},\"id\":\"55487\",\"type\":\"Selection\"},{\"attributes\":{},\"id\":\"54694\",\"type\":\"Selection\"},{\"attributes\":{\"coordinates\":null,\"formatter\":{\"id\":\"54668\"},\"group\":null,\"major_label_policy\":{\"id\":\"54669\"},\"major_label_text_font_size\":\"10pt\",\"ticker\":{\"id\":\"54329\"}},\"id\":\"54328\",\"type\":\"LinearAxis\"},{\"attributes\":{\"data\":{\"x\":{\"__ndarray__\":\"AAAAAAAAAACamZmZmZnJP5qZmZmZmdk/NDMzMzMz4z+amZmZmZnpPwAAAAAAAPA/NDMzMzMz8z9nZmZmZmb2P5qZmZmZmfk/zczMzMzM/D8AAAAAAAAAQJqZmZmZmQFANDMzMzMzA0DNzMzMzMwEQGdmZmZmZgZAAAAAAAAACECamZmZmZkJQDQzMzMzMwtAzczMzMzMDEBnZmZmZmYOQAAAAAAAABBAzczMzMzMEECamZmZmZkRQGdmZmZmZhJANDMzMzMzE0AAAAAAAAAUQM3MzMzMzBRAmpmZmZmZFUBnZmZmZmYWQDQzMzMzMxdAAAAAAAAAGEDNzMzMzMwYQJqZmZmZmRlAZ2ZmZmZmGkA0MzMzMzMbQAAAAAAAABxAzczMzMzMHECamZmZmZkdQGdmZmZmZh5ANDMzMzMzH0AAAAAAAAAgQGdmZmZmZiBAzczMzMzMIEAzMzMzMzMhQJqZmZmZmSFAAAAAAAAAIkBnZmZmZmYiQM3MzMzMzCJANDMzMzMzI0CamZmZmZkjQAAAAAAAACRA\",\"dtype\":\"float64\",\"order\":\"little\",\"shape\":[51]},\"y\":[0,0,12,37,46,41,42,41,48,43,35,34,37,36,39,29,18,11,9,8,5,3,3,2,0,0,0,0,0,0,0,0,0,0,0,0,0,0,0,0,0,0,0,0,0,0,0,0,0,0,0]},\"selected\":{\"id\":\"54694\"},\"selection_policy\":{\"id\":\"54693\"}},\"id\":\"54497\",\"type\":\"ColumnDataSource\"},{\"attributes\":{\"line_alpha\":0.1,\"line_color\":\"grey\",\"line_width\":2,\"x\":{\"field\":\"x\"},\"y\":{\"field\":\"y\"}},\"id\":\"54493\",\"type\":\"Step\"},{\"attributes\":{\"source\":{\"id\":\"54491\"}},\"id\":\"54496\",\"type\":\"CDSView\"},{\"attributes\":{\"line_alpha\":0.5,\"line_color\":\"grey\",\"line_width\":2,\"x\":{\"field\":\"x\"},\"y\":{\"field\":\"y\"}},\"id\":\"54498\",\"type\":\"Step\"},{\"attributes\":{\"coordinates\":null,\"data_source\":{\"id\":\"54503\"},\"glyph\":{\"id\":\"54504\"},\"group\":null,\"hover_glyph\":null,\"muted_glyph\":{\"id\":\"54506\"},\"nonselection_glyph\":{\"id\":\"54505\"},\"view\":{\"id\":\"54508\"}},\"id\":\"54507\",\"type\":\"GlyphRenderer\"},{\"attributes\":{\"coordinates\":null,\"data_source\":{\"id\":\"54497\"},\"glyph\":{\"id\":\"54498\"},\"group\":null,\"hover_glyph\":null,\"muted_glyph\":{\"id\":\"54500\"},\"nonselection_glyph\":{\"id\":\"54499\"},\"view\":{\"id\":\"54502\"}},\"id\":\"54501\",\"type\":\"GlyphRenderer\"},{\"attributes\":{\"data\":{\"x\":{\"__ndarray__\":\"AAAAAAAAAACamZmZmZnJP5qZmZmZmdk/NDMzMzMz4z+amZmZmZnpPwAAAAAAAPA/NDMzMzMz8z9nZmZmZmb2P5qZmZmZmfk/zczMzMzM/D8AAAAAAAAAQJqZmZmZmQFANDMzMzMzA0DNzMzMzMwEQGdmZmZmZgZAAAAAAAAACECamZmZmZkJQDQzMzMzMwtAzczMzMzMDEBnZmZmZmYOQAAAAAAAABBAzczMzMzMEECamZmZmZkRQGdmZmZmZhJANDMzMzMzE0AAAAAAAAAUQM3MzMzMzBRAmpmZmZmZFUBnZmZmZmYWQDQzMzMzMxdAAAAAAAAAGEDNzMzMzMwYQJqZmZmZmRlAZ2ZmZmZmGkA0MzMzMzMbQAAAAAAAABxAzczMzMzMHECamZmZmZkdQGdmZmZmZh5ANDMzMzMzH0AAAAAAAAAgQGdmZmZmZiBAzczMzMzMIEAzMzMzMzMhQJqZmZmZmSFAAAAAAAAAIkBnZmZmZmYiQM3MzMzMzCJANDMzMzMzI0CamZmZmZkjQAAAAAAAACRA\",\"dtype\":\"float64\",\"order\":\"little\",\"shape\":[51]},\"y\":[0,0,0,0,0,0,0,0,0,0,0,0,1,1,1,1,1,1,1,1,1,1,1,1,1,1,1,1,1,1,1,1,1,1,1,1,1,1,1,1,1,1,1,1,1,1,1,1,1,1,1]},\"selected\":{\"id\":\"55493\"},\"selection_policy\":{\"id\":\"55492\"}},\"id\":\"54503\",\"type\":\"ColumnDataSource\"},{\"attributes\":{},\"id\":\"55516\",\"type\":\"UnionRenderers\"},{\"attributes\":{\"line_alpha\":0.1,\"line_color\":\"grey\",\"line_width\":2,\"x\":{\"field\":\"x\"},\"y\":{\"field\":\"y\"}},\"id\":\"54499\",\"type\":\"Step\"},{\"attributes\":{},\"id\":\"54713\",\"type\":\"UnionRenderers\"},{\"attributes\":{\"source\":{\"id\":\"54497\"}},\"id\":\"54502\",\"type\":\"CDSView\"},{\"attributes\":{\"line_alpha\":0.5,\"line_color\":\"grey\",\"line_width\":2,\"x\":{\"field\":\"x\"},\"y\":{\"field\":\"y\"}},\"id\":\"54504\",\"type\":\"Step\"},{\"attributes\":{\"line_alpha\":0.2,\"line_color\":\"grey\",\"line_width\":2,\"x\":{\"field\":\"x\"},\"y\":{\"field\":\"y\"}},\"id\":\"54506\",\"type\":\"Step\"}],\"root_ids\":[\"56263\"]},\"title\":\"Bokeh Application\",\"version\":\"2.4.1\"}};\n",
       "  const render_items = [{\"docid\":\"9e8e92f7-6060-4ebf-839b-153d09cb1e6c\",\"root_ids\":[\"56263\"],\"roots\":{\"56263\":\"689b3611-669e-4fd2-9470-f129020fd21a\"}}];\n",
       "  root.Bokeh.embed.embed_items_notebook(docs_json, render_items);\n",
       "\n",
       "  }\n",
       "  if (root.Bokeh !== undefined) {\n",
       "    embed_document(root);\n",
       "  } else {\n",
       "    let attempts = 0;\n",
       "    const timer = setInterval(function(root) {\n",
       "      if (root.Bokeh !== undefined) {\n",
       "        clearInterval(timer);\n",
       "        embed_document(root);\n",
       "      } else {\n",
       "        attempts++;\n",
       "        if (attempts > 100) {\n",
       "          clearInterval(timer);\n",
       "          console.log(\"Bokeh: ERROR: Unable to run BokehJS code because BokehJS library is missing\");\n",
       "        }\n",
       "      }\n",
       "    }, 10, root)\n",
       "  }\n",
       "})(window);"
      ],
      "application/vnd.bokehjs_exec.v0+json": ""
     },
     "metadata": {
      "application/vnd.bokehjs_exec.v0+json": {
       "id": "56263"
      }
     },
     "output_type": "display_data"
    }
   ],
   "source": [
    "# Set up plots\n",
    "# For two digits 260 by 115 larger and 144 by 115 for half size\n",
    "# For three digits 266 by 115 larger and 150 by 115 for half size\n",
    "fig_size = [150, 115] # 300 by 200\n",
    "x_range = (0, time_points[-1])\n",
    "y_range = (0, 400)\n",
    "\n",
    "plots = []\n",
    "for i in range(2):\n",
    "    plots.append(bokeh.plotting.figure(plot_width=fig_size[0], plot_height=fig_size[1],\n",
    "                          #x_range=x_range, y_range=y_range\n",
    "                          ),)\n",
    "    plots[i].axis.major_label_text_font_size = \"10pt\"\n",
    "\n",
    "\n",
    "# Plot trajectories of recombinase 1 and 2\n",
    "#for i in range(samples.shape[0]):\n",
    "for i in range(21):\n",
    "    y1 = samples[i,:,7] # samples[:,:,10][0]\n",
    "    plots[0].step(time_points, y1, line_width=2, alpha= 0.5, line_join=\"bevel\",color=\"grey\")\n",
    "    s1 = samples[i,:,4] # samples[:,:,10][0]\n",
    "    plots[1].step(time_points, s1, line_width=2, alpha= 0.5, line_join=\"bevel\",color=\"grey\")\n",
    "\n",
    "plots[0].step(time_points, y1, line_width=2, alpha= 1, line_join=\"bevel\",color=\"black\")\n",
    "plots[1].step(time_points, s1, line_width=2, alpha= 1, line_join=\"bevel\",color=\"black\")\n",
    "\n",
    "idx = 7 # Concentration of recombinase\n",
    "max_id = samples[i,:,idx].argmax()\n",
    "\n",
    "Tf = time_points[max_id]\n",
    "Af = samples[i,max_id,idx]\n",
    "\n",
    "plots[0].circle(Tf,Af, line_width=4, color=\"orange\")\n",
    "plots[0].circle(Tf,Af, line_width=1, color=\"white\")\n",
    "\n",
    "plots[1].circle(Tf,1, line_width=4, color=\"orange\")\n",
    "plots[1].circle(Tf,1, line_width=1, color=\"white\")\n",
    "\n",
    "plots[0].output_backend = \"svg\"\n",
    "export_svgs(plots[0],filename=\"fig/Sim_Pulse_Recombinase.svg\")\n",
    "\n",
    "plots[1].output_backend = \"svg\"\n",
    "export_svgs(plots[1],filename=\"fig/Sim_Pulse_switch.svg\")\n",
    "\n",
    "bokeh.io.show(bokeh.layouts.row(plots))"
   ]
  },
  {
   "cell_type": "code",
   "execution_count": 9,
   "metadata": {
    "id": "Illq6BmHLDb0"
   },
   "outputs": [],
   "source": [
    "# This function finds the time of the peak\n",
    "def Find_A_t(t,sample, idx):\n",
    "    Av = []\n",
    "    tv = []\n",
    "    for i in range(sample.shape[0]):\n",
    "        #max_id = np.where(sample[i,:,idx1]==1)[0][0]\n",
    "        max_id = samples[i,:,idx].argmax()\n",
    "        tv = np.append(tv,t[max_id])\n",
    "        Av = np.append(Av,sample[i,max_id,idx])\n",
    "        \n",
    "    return (tv,Av)"
   ]
  },
  {
   "cell_type": "code",
   "execution_count": 40,
   "metadata": {
    "id": "1D6OrvMlLDb1",
    "outputId": "c1cb9e7c-7240-4045-8e50-3cd61c3179f8"
   },
   "outputs": [
    {
     "data": {
      "text/html": [
       "\n",
       "\n",
       "\n",
       "\n",
       "\n",
       "\n",
       "  <div class=\"bk-root\" id=\"fd779dae-f532-4146-b2a3-903b53e87eab\" data-root-id=\"68075\"></div>\n"
      ]
     },
     "metadata": {},
     "output_type": "display_data"
    },
    {
     "data": {
      "application/javascript": [
       "(function(root) {\n",
       "  function embed_document(root) {\n",
       "    \n",
       "  const docs_json = {\"e706bece-5d02-4c66-90e7-4e86ee2513d1\":{\"defs\":[],\"roots\":{\"references\":[{\"attributes\":{\"children\":[{\"id\":\"67623\"},{\"id\":\"67654\"}]},\"id\":\"68075\",\"type\":\"Row\"},{\"attributes\":{\"coordinates\":null,\"data_source\":{\"id\":\"67697\"},\"glyph\":{\"id\":\"67698\"},\"group\":null,\"hover_glyph\":null,\"muted_glyph\":{\"id\":\"67700\"},\"nonselection_glyph\":{\"id\":\"67699\"},\"view\":{\"id\":\"67702\"}},\"id\":\"67701\",\"type\":\"GlyphRenderer\"},{\"attributes\":{},\"id\":\"67712\",\"type\":\"BasicTickFormatter\"},{\"attributes\":{\"bottom_units\":\"screen\",\"coordinates\":null,\"fill_alpha\":0.5,\"fill_color\":\"lightgrey\",\"group\":null,\"left_units\":\"screen\",\"level\":\"overlay\",\"line_alpha\":1.0,\"line_color\":\"black\",\"line_dash\":[4,4],\"line_width\":2,\"right_units\":\"screen\",\"syncable\":false,\"top_units\":\"screen\"},\"id\":\"67677\",\"type\":\"BoxAnnotation\"},{\"attributes\":{\"source\":{\"id\":\"67697\"}},\"id\":\"67702\",\"type\":\"CDSView\"},{\"attributes\":{\"tools\":[{\"id\":\"67671\"},{\"id\":\"67672\"},{\"id\":\"67673\"},{\"id\":\"67674\"},{\"id\":\"67675\"},{\"id\":\"67676\"}]},\"id\":\"67678\",\"type\":\"Toolbar\"},{\"attributes\":{},\"id\":\"67713\",\"type\":\"AllLabels\"},{\"attributes\":{},\"id\":\"67903\",\"type\":\"Selection\"},{\"attributes\":{},\"id\":\"67672\",\"type\":\"WheelZoomTool\"},{\"attributes\":{\"data\":{\"x\":{\"__ndarray__\":\"AAAAAAAAAACrqqqqqqogQKuqqqqqqjBAAAAAAAAAOUCrqqqqqqpAQFZVVVVV1URAAAAAAAAASUCrqqqqqipNQKuqqqqqqlBAAAAAAADAUkBWVVVVVdVUQKuqqqqq6lZAAAAAAAAAWUBWVVVVVRVbQKuqqqqqKl1AAQAAAABAX0CrqqqqqqpgQFZVVVVVtWFAAAAAAADAYkCrqqqqqspjQFZVVVVV1WRAAAAAAADgZUCrqqqqqupmQFZVVVVV9WdA\",\"dtype\":\"float64\",\"order\":\"little\",\"shape\":[24]},\"y\":[0,2,10,30,61,90,106,96,50,30,15,4,4,2,0,0,0,0,0,0,0,0,0,0]},\"selected\":{\"id\":\"67903\"},\"selection_policy\":{\"id\":\"67902\"}},\"id\":\"67703\",\"type\":\"ColumnDataSource\"},{\"attributes\":{},\"id\":\"67675\",\"type\":\"ResetTool\"},{\"attributes\":{},\"id\":\"67902\",\"type\":\"UnionRenderers\"},{\"attributes\":{},\"id\":\"67715\",\"type\":\"BasicTickFormatter\"},{\"attributes\":{},\"id\":\"67676\",\"type\":\"HelpTool\"},{\"attributes\":{},\"id\":\"67716\",\"type\":\"AllLabels\"},{\"attributes\":{\"bottom_units\":\"screen\",\"coordinates\":null,\"fill_alpha\":0.5,\"fill_color\":\"lightgrey\",\"group\":null,\"left_units\":\"screen\",\"level\":\"overlay\",\"line_alpha\":1.0,\"line_color\":\"black\",\"line_dash\":[4,4],\"line_width\":2,\"right_units\":\"screen\",\"syncable\":false,\"top_units\":\"screen\"},\"id\":\"67646\",\"type\":\"BoxAnnotation\"},{\"attributes\":{},\"id\":\"67674\",\"type\":\"SaveTool\"},{\"attributes\":{},\"id\":\"67717\",\"type\":\"UnionRenderers\"},{\"attributes\":{\"bottom\":{\"value\":0},\"fill_alpha\":{\"value\":0.1},\"fill_color\":{\"value\":\"orange\"},\"hatch_alpha\":{\"value\":0.1},\"left\":{\"field\":\"left\"},\"line_alpha\":{\"value\":0.1},\"line_color\":{\"value\":\"orange\"},\"right\":{\"field\":\"right\"},\"top\":{\"field\":\"top\"}},\"id\":\"67699\",\"type\":\"Quad\"},{\"attributes\":{},\"id\":\"67671\",\"type\":\"PanTool\"},{\"attributes\":{},\"id\":\"67718\",\"type\":\"Selection\"},{\"attributes\":{},\"id\":\"67901\",\"type\":\"Selection\"},{\"attributes\":{},\"id\":\"67900\",\"type\":\"UnionRenderers\"},{\"attributes\":{\"overlay\":{\"id\":\"67677\"}},\"id\":\"67673\",\"type\":\"BoxZoomTool\"},{\"attributes\":{},\"id\":\"67899\",\"type\":\"AllLabels\"},{\"attributes\":{\"axis\":{\"id\":\"67663\"},\"coordinates\":null,\"group\":null,\"ticker\":null},\"id\":\"67666\",\"type\":\"Grid\"},{\"attributes\":{},\"id\":\"67898\",\"type\":\"BasicTickFormatter\"},{\"attributes\":{},\"id\":\"67896\",\"type\":\"AllLabels\"},{\"attributes\":{},\"id\":\"67895\",\"type\":\"BasicTickFormatter\"},{\"attributes\":{},\"id\":\"67664\",\"type\":\"BasicTicker\"},{\"attributes\":{},\"id\":\"67659\",\"type\":\"LinearScale\"},{\"attributes\":{},\"id\":\"67661\",\"type\":\"LinearScale\"},{\"attributes\":{},\"id\":\"67655\",\"type\":\"DataRange1d\"},{\"attributes\":{\"line_color\":\"orange\",\"line_width\":2,\"mode\":\"after\",\"x\":{\"field\":\"x\"},\"y\":{\"field\":\"y\"}},\"id\":\"67692\",\"type\":\"Step\"},{\"attributes\":{\"tools\":[{\"id\":\"67640\"},{\"id\":\"67641\"},{\"id\":\"67642\"},{\"id\":\"67643\"},{\"id\":\"67644\"},{\"id\":\"67645\"}]},\"id\":\"67647\",\"type\":\"Toolbar\"},{\"attributes\":{\"line_color\":\"orange\",\"line_width\":2,\"mode\":\"after\",\"x\":{\"field\":\"x\"},\"y\":{\"field\":\"y\"}},\"id\":\"67704\",\"type\":\"Step\"},{\"attributes\":{\"axis\":{\"id\":\"67667\"},\"coordinates\":null,\"dimension\":1,\"group\":null,\"ticker\":null},\"id\":\"67670\",\"type\":\"Grid\"},{\"attributes\":{\"bottom\":{\"value\":0},\"fill_alpha\":{\"value\":0.2},\"fill_color\":{\"value\":\"orange\"},\"hatch_alpha\":{\"value\":0.2},\"left\":{\"field\":\"left\"},\"line_alpha\":{\"value\":0.2},\"line_color\":{\"value\":\"orange\"},\"right\":{\"field\":\"right\"},\"top\":{\"field\":\"top\"}},\"id\":\"67700\",\"type\":\"Quad\"},{\"attributes\":{\"coordinates\":null,\"formatter\":{\"id\":\"67895\"},\"group\":null,\"major_label_policy\":{\"id\":\"67896\"},\"major_label_text_font_size\":\"10pt\",\"ticker\":{\"id\":\"67668\"}},\"id\":\"67667\",\"type\":\"LinearAxis\"},{\"attributes\":{},\"id\":\"67668\",\"type\":\"BasicTicker\"},{\"attributes\":{\"coordinates\":null,\"group\":null},\"id\":\"67892\",\"type\":\"Title\"},{\"attributes\":{},\"id\":\"67657\",\"type\":\"DataRange1d\"},{\"attributes\":{\"coordinates\":null,\"formatter\":{\"id\":\"67898\"},\"group\":null,\"major_label_policy\":{\"id\":\"67899\"},\"major_label_text_font_size\":\"10pt\",\"ticker\":{\"id\":\"67664\"}},\"id\":\"67663\",\"type\":\"LinearAxis\"},{\"attributes\":{},\"id\":\"67720\",\"type\":\"Selection\"},{\"attributes\":{\"line_alpha\":0.2,\"line_color\":\"orange\",\"line_width\":2,\"mode\":\"after\",\"x\":{\"field\":\"x\"},\"y\":{\"field\":\"y\"}},\"id\":\"67694\",\"type\":\"Step\"},{\"attributes\":{\"data\":{\"x\":{\"__ndarray__\":\"AAAAAAAAAAAAAAAAAADgPwAAAAAAAPA/AAAAAAAA+D8AAAAAAAAAQAAAAAAAAARAAAAAAAAACEAAAAAAAAAMQAAAAAAAABBAAAAAAAAAEkAAAAAAAAAUQAAAAAAAABZAAAAAAAAAGEAAAAAAAAAaQAAAAAAAABxAAAAAAAAAHkAAAAAAAAAgQAAAAAAAACFAAAAAAAAAIkAAAAAAAAAjQA==\",\"dtype\":\"float64\",\"order\":\"little\",\"shape\":[20]},\"y\":[0,101,189,57,49,22,33,15,16,7,3,1,2,1,3,0,1,0,0,0]},\"selected\":{\"id\":\"67720\"},\"selection_policy\":{\"id\":\"67719\"}},\"id\":\"67691\",\"type\":\"ColumnDataSource\"},{\"attributes\":{\"coordinates\":null,\"data_source\":{\"id\":\"67685\"},\"glyph\":{\"id\":\"67686\"},\"group\":null,\"hover_glyph\":null,\"muted_glyph\":{\"id\":\"67688\"},\"nonselection_glyph\":{\"id\":\"67687\"},\"view\":{\"id\":\"67690\"}},\"id\":\"67689\",\"type\":\"GlyphRenderer\"},{\"attributes\":{},\"id\":\"67719\",\"type\":\"UnionRenderers\"},{\"attributes\":{\"data\":{\"left\":{\"__ndarray__\":\"AAAAAAAAAAAAAAAAAADgPwAAAAAAAPA/AAAAAAAA+D8AAAAAAAAAQAAAAAAAAARAAAAAAAAACEAAAAAAAAAMQAAAAAAAABBAAAAAAAAAEkAAAAAAAAAUQAAAAAAAABZAAAAAAAAAGEAAAAAAAAAaQAAAAAAAABxAAAAAAAAAHkAAAAAAAAAgQAAAAAAAACFAAAAAAAAAIkAAAAAAAAAjQA==\",\"dtype\":\"float64\",\"order\":\"little\",\"shape\":[20]},\"right\":{\"__ndarray__\":\"AAAAAAAA4D8AAAAAAADwPwAAAAAAAPg/AAAAAAAAAEAAAAAAAAAEQAAAAAAAAAhAAAAAAAAADEAAAAAAAAAQQAAAAAAAABJAAAAAAAAAFEAAAAAAAAAWQAAAAAAAABhAAAAAAAAAGkAAAAAAAAAcQAAAAAAAAB5AAAAAAAAAIEAAAAAAAAAhQAAAAAAAACJAAAAAAAAAI0AAAAAAAAAkQA==\",\"dtype\":\"float64\",\"order\":\"little\",\"shape\":[20]},\"top\":[0,101,189,57,49,22,33,15,16,7,3,1,2,1,3,0,1,0,0,0]},\"selected\":{\"id\":\"67718\"},\"selection_policy\":{\"id\":\"67717\"}},\"id\":\"67685\",\"type\":\"ColumnDataSource\"},{\"attributes\":{\"bottom\":{\"value\":0},\"fill_alpha\":{\"value\":0.2},\"fill_color\":{\"value\":\"orange\"},\"left\":{\"field\":\"left\"},\"line_alpha\":{\"value\":0.0},\"line_color\":{\"value\":\"orange\"},\"right\":{\"field\":\"right\"},\"top\":{\"field\":\"top\"}},\"id\":\"67686\",\"type\":\"Quad\"},{\"attributes\":{},\"id\":\"67645\",\"type\":\"HelpTool\"},{\"attributes\":{},\"id\":\"67644\",\"type\":\"ResetTool\"},{\"attributes\":{},\"id\":\"67641\",\"type\":\"WheelZoomTool\"},{\"attributes\":{\"overlay\":{\"id\":\"67646\"}},\"id\":\"67642\",\"type\":\"BoxZoomTool\"},{\"attributes\":{},\"id\":\"67643\",\"type\":\"SaveTool\"},{\"attributes\":{\"line_alpha\":0.2,\"line_color\":\"orange\",\"line_width\":2,\"mode\":\"after\",\"x\":{\"field\":\"x\"},\"y\":{\"field\":\"y\"}},\"id\":\"67706\",\"type\":\"Step\"},{\"attributes\":{\"coordinates\":null,\"data_source\":{\"id\":\"67703\"},\"glyph\":{\"id\":\"67704\"},\"group\":null,\"hover_glyph\":null,\"muted_glyph\":{\"id\":\"67706\"},\"nonselection_glyph\":{\"id\":\"67705\"},\"view\":{\"id\":\"67708\"}},\"id\":\"67707\",\"type\":\"GlyphRenderer\"},{\"attributes\":{\"below\":[{\"id\":\"67663\"}],\"center\":[{\"id\":\"67666\"},{\"id\":\"67670\"}],\"height\":115,\"left\":[{\"id\":\"67667\"}],\"output_backend\":\"svg\",\"renderers\":[{\"id\":\"67701\"},{\"id\":\"67707\"}],\"title\":{\"id\":\"67892\"},\"toolbar\":{\"id\":\"67678\"},\"width\":150,\"x_range\":{\"id\":\"67655\"},\"x_scale\":{\"id\":\"67659\"},\"y_range\":{\"id\":\"67657\"},\"y_scale\":{\"id\":\"67661\"}},\"id\":\"67654\",\"subtype\":\"Figure\",\"type\":\"Plot\"},{\"attributes\":{\"bottom\":{\"value\":0},\"fill_alpha\":{\"value\":0.1},\"fill_color\":{\"value\":\"orange\"},\"hatch_alpha\":{\"value\":0.1},\"left\":{\"field\":\"left\"},\"line_alpha\":{\"value\":0.1},\"line_color\":{\"value\":\"orange\"},\"right\":{\"field\":\"right\"},\"top\":{\"field\":\"top\"}},\"id\":\"67687\",\"type\":\"Quad\"},{\"attributes\":{},\"id\":\"67630\",\"type\":\"LinearScale\"},{\"attributes\":{\"data\":{\"left\":{\"__ndarray__\":\"AAAAAAAAAACrqqqqqqogQKuqqqqqqjBAAAAAAAAAOUCrqqqqqqpAQFZVVVVV1URAAAAAAAAASUCrqqqqqipNQKuqqqqqqlBAAAAAAADAUkBWVVVVVdVUQKuqqqqq6lZAAAAAAAAAWUBWVVVVVRVbQKuqqqqqKl1AAQAAAABAX0CrqqqqqqpgQFZVVVVVtWFAAAAAAADAYkCrqqqqqspjQFZVVVVV1WRAAAAAAADgZUCrqqqqqupmQFZVVVVV9WdA\",\"dtype\":\"float64\",\"order\":\"little\",\"shape\":[24]},\"right\":{\"__ndarray__\":\"q6qqqqqqIECrqqqqqqowQAAAAAAAADlAq6qqqqqqQEBWVVVVVdVEQAAAAAAAAElAq6qqqqoqTUCrqqqqqqpQQAAAAAAAwFJAVlVVVVXVVECrqqqqqupWQAAAAAAAAFlAVlVVVVUVW0CrqqqqqipdQAEAAAAAQF9Aq6qqqqqqYEBWVVVVVbVhQAAAAAAAwGJAq6qqqqrKY0BWVVVVVdVkQAAAAAAA4GVAq6qqqqrqZkBWVVVVVfVnQAAAAAAAAGlA\",\"dtype\":\"float64\",\"order\":\"little\",\"shape\":[24]},\"top\":[0,2,10,30,61,90,106,96,50,30,15,4,4,2,0,0,0,0,0,0,0,0,0,0]},\"selected\":{\"id\":\"67901\"},\"selection_policy\":{\"id\":\"67900\"}},\"id\":\"67697\",\"type\":\"ColumnDataSource\"},{\"attributes\":{\"line_alpha\":0.1,\"line_color\":\"orange\",\"line_width\":2,\"mode\":\"after\",\"x\":{\"field\":\"x\"},\"y\":{\"field\":\"y\"}},\"id\":\"67693\",\"type\":\"Step\"},{\"attributes\":{\"source\":{\"id\":\"67703\"}},\"id\":\"67708\",\"type\":\"CDSView\"},{\"attributes\":{\"below\":[{\"id\":\"67632\"}],\"center\":[{\"id\":\"67635\"},{\"id\":\"67639\"}],\"height\":115,\"left\":[{\"id\":\"67636\"}],\"output_backend\":\"svg\",\"renderers\":[{\"id\":\"67689\"},{\"id\":\"67695\"}],\"title\":{\"id\":\"67709\"},\"toolbar\":{\"id\":\"67647\"},\"width\":150,\"x_range\":{\"id\":\"67624\"},\"x_scale\":{\"id\":\"67628\"},\"y_range\":{\"id\":\"67626\"},\"y_scale\":{\"id\":\"67630\"}},\"id\":\"67623\",\"subtype\":\"Figure\",\"type\":\"Plot\"},{\"attributes\":{\"bottom\":{\"value\":0},\"fill_alpha\":{\"value\":0.2},\"fill_color\":{\"value\":\"orange\"},\"hatch_alpha\":{\"value\":0.2},\"left\":{\"field\":\"left\"},\"line_alpha\":{\"value\":0.2},\"line_color\":{\"value\":\"orange\"},\"right\":{\"field\":\"right\"},\"top\":{\"field\":\"top\"}},\"id\":\"67688\",\"type\":\"Quad\"},{\"attributes\":{\"line_alpha\":0.1,\"line_color\":\"orange\",\"line_width\":2,\"mode\":\"after\",\"x\":{\"field\":\"x\"},\"y\":{\"field\":\"y\"}},\"id\":\"67705\",\"type\":\"Step\"},{\"attributes\":{\"coordinates\":null,\"group\":null},\"id\":\"67709\",\"type\":\"Title\"},{\"attributes\":{\"coordinates\":null,\"formatter\":{\"id\":\"67715\"},\"group\":null,\"major_label_policy\":{\"id\":\"67716\"},\"major_label_text_font_size\":\"10pt\",\"ticker\":{\"id\":\"67633\"}},\"id\":\"67632\",\"type\":\"LinearAxis\"},{\"attributes\":{},\"id\":\"67624\",\"type\":\"DataRange1d\"},{\"attributes\":{\"coordinates\":null,\"data_source\":{\"id\":\"67691\"},\"glyph\":{\"id\":\"67692\"},\"group\":null,\"hover_glyph\":null,\"muted_glyph\":{\"id\":\"67694\"},\"nonselection_glyph\":{\"id\":\"67693\"},\"view\":{\"id\":\"67696\"}},\"id\":\"67695\",\"type\":\"GlyphRenderer\"},{\"attributes\":{},\"id\":\"67640\",\"type\":\"PanTool\"},{\"attributes\":{\"coordinates\":null,\"formatter\":{\"id\":\"67712\"},\"group\":null,\"major_label_policy\":{\"id\":\"67713\"},\"major_label_text_font_size\":\"10pt\",\"ticker\":{\"id\":\"67637\"}},\"id\":\"67636\",\"type\":\"LinearAxis\"},{\"attributes\":{\"source\":{\"id\":\"67691\"}},\"id\":\"67696\",\"type\":\"CDSView\"},{\"attributes\":{\"bottom\":{\"value\":0},\"fill_alpha\":{\"value\":0.2},\"fill_color\":{\"value\":\"orange\"},\"left\":{\"field\":\"left\"},\"line_alpha\":{\"value\":0.0},\"line_color\":{\"value\":\"orange\"},\"right\":{\"field\":\"right\"},\"top\":{\"field\":\"top\"}},\"id\":\"67698\",\"type\":\"Quad\"},{\"attributes\":{\"source\":{\"id\":\"67685\"}},\"id\":\"67690\",\"type\":\"CDSView\"},{\"attributes\":{},\"id\":\"67626\",\"type\":\"DataRange1d\"},{\"attributes\":{},\"id\":\"67633\",\"type\":\"BasicTicker\"},{\"attributes\":{},\"id\":\"67628\",\"type\":\"LinearScale\"},{\"attributes\":{\"axis\":{\"id\":\"67632\"},\"coordinates\":null,\"group\":null,\"ticker\":null},\"id\":\"67635\",\"type\":\"Grid\"},{\"attributes\":{\"axis\":{\"id\":\"67636\"},\"coordinates\":null,\"dimension\":1,\"group\":null,\"ticker\":null},\"id\":\"67639\",\"type\":\"Grid\"},{\"attributes\":{},\"id\":\"67637\",\"type\":\"BasicTicker\"}],\"root_ids\":[\"68075\"]},\"title\":\"Bokeh Application\",\"version\":\"2.4.1\"}};\n",
       "  const render_items = [{\"docid\":\"e706bece-5d02-4c66-90e7-4e86ee2513d1\",\"root_ids\":[\"68075\"],\"roots\":{\"68075\":\"fd779dae-f532-4146-b2a3-903b53e87eab\"}}];\n",
       "  root.Bokeh.embed.embed_items_notebook(docs_json, render_items);\n",
       "\n",
       "  }\n",
       "  if (root.Bokeh !== undefined) {\n",
       "    embed_document(root);\n",
       "  } else {\n",
       "    let attempts = 0;\n",
       "    const timer = setInterval(function(root) {\n",
       "      if (root.Bokeh !== undefined) {\n",
       "        clearInterval(timer);\n",
       "        embed_document(root);\n",
       "      } else {\n",
       "        attempts++;\n",
       "        if (attempts > 100) {\n",
       "          clearInterval(timer);\n",
       "          console.log(\"Bokeh: ERROR: Unable to run BokehJS code because BokehJS library is missing\");\n",
       "        }\n",
       "      }\n",
       "    }, 10, root)\n",
       "  }\n",
       "})(window);"
      ],
      "application/vnd.bokehjs_exec.v0+json": ""
     },
     "metadata": {
      "application/vnd.bokehjs_exec.v0+json": {
       "id": "68075"
      }
     },
     "output_type": "display_data"
    }
   ],
   "source": [
    "# Set up plots for publication\n",
    "# For two digits 260 by 115 larger and 144 by 115 for half size\n",
    "# For three digits 266 by 115 larger and 150 by 115 for half size\n",
    "fig_size = [150, 115] # tovisualize data (300,200)\n",
    "x_range = (0, time_points[-1])\n",
    "y_range = (0, 400)\n",
    "\n",
    "plots = []\n",
    "for i in range(2):\n",
    "    plots.append(bokeh.plotting.figure(plot_width=fig_size[0], plot_height=fig_size[1],\n",
    "                          #x_range=x_range, y_range=y_range\n",
    "                          ),)\n",
    "    plots[i].axis.major_label_text_font_size = \"10pt\"\n",
    "\n",
    "\n",
    "    \n",
    "idx = 7 # Concentration of recombinase\n",
    "Tf, Af = Find_A_t(time_points,samples, idx)\n",
    "\n",
    "bin0 = np.linspace(0,10,21)\n",
    "hist, bin_edges = np.histogram(Tf, bin0, density=False)\n",
    "#hist1 = hist/hist.sum()\n",
    "plots[0].quad(top=hist, bottom=0, left=bin_edges[:-1], right=bin_edges[1:],fill_color=\"orange\", line_color=\"orange\", fill_alpha=0.2,line_alpha=0.)\n",
    "plots[0].step(bin_edges[:-1],hist, line_width=2, mode=\"after\", color = \"orange\")\n",
    "\n",
    "\n",
    "bin0 = np.linspace(0,200,25)\n",
    "hist, bin_edges = np.histogram(Af, bin0, density=False)\n",
    "#hist2 = hist/hist.sum()\n",
    "plots[1].quad(top=hist, bottom=0, left=bin_edges[:-1], right=bin_edges[1:],fill_color=\"orange\", line_color=\"orange\", fill_alpha=0.2,line_alpha=0.)\n",
    "plots[1].step(bin_edges[:-1],hist, line_width=2, mode=\"after\", color = \"orange\")\n",
    "\n",
    "plots[0].output_backend = \"svg\"\n",
    "export_svgs(plots[0],filename=\"fig/Sim_Hist_Ti.svg\")\n",
    "\n",
    "plots[1].output_backend = \"svg\"\n",
    "export_svgs(plots[1],filename=\"fig/Sim_Hist_Xi.svg\")\n",
    "\n",
    "bokeh.io.show(bokeh.layouts.row(plots))"
   ]
  },
  {
   "cell_type": "code",
   "execution_count": 43,
   "metadata": {
    "id": "tb9r7SKRReGC"
   },
   "outputs": [],
   "source": [
    "def contourf(x, y, z, H, palette=\"Spectral11\"): #Spectral11  Viridis256\n",
    "    \"\"\"Make a filled contour plot given x, y, z data given in 2D arrays.\"\"\"\n",
    "    p = bokeh.plotting.figure(\n",
    "         plot_width=3*48, plot_height=2*55,\n",
    "        x_range=(x.min(), x.max()), y_range=(y.min(), y.max()),\n",
    "        #x_axis_label=\"x1\", y_axis_label=\"x2\",\n",
    "    )\n",
    "    \n",
    "    N = x.shape[1]\n",
    "    z0 = np.c_[z, np.zeros(N)]\n",
    "    z0[-1,-1] = H\n",
    "    \n",
    "    p.image(\n",
    "        image=[z0], x=x.min(), y=y.min(),\n",
    "        dw=(x.max() - x.min())*(1 + 1/N),\n",
    "        dh=x.max() - x.min(),\n",
    "        palette=palette,\n",
    "        alpha=0.8,\n",
    "    )\n",
    "\n",
    "    color = LinearColorMapper(palette = palette, low = z0.min(), high = z0.max())\n",
    "    cb = ColorBar(color_mapper = color, location = (0,0), width=5)\n",
    "    \n",
    "    #p.add_layout(cb, 'right')\n",
    "    return p\n"
   ]
  },
  {
   "cell_type": "markdown",
   "metadata": {
    "id": "d009dAF4LDb2"
   },
   "source": [
    "In the next code, we compute the distributions for different parameters and compare them in a heat plot. We start with the translation rate $\\rho$"
   ]
  },
  {
   "cell_type": "code",
   "execution_count": 84,
   "metadata": {
    "id": "20idjf57RimM"
   },
   "outputs": [
    {
     "name": "stderr",
     "output_type": "stream",
     "text": [
      "100%|██████████| 125/125 [00:25<00:00,  6.15it/s]\n",
      "100%|██████████| 125/125 [00:25<00:00,  4.87it/s]\n",
      "100%|██████████| 125/125 [00:25<00:00,  4.86it/s]\n",
      "100%|██████████| 125/125 [00:25<00:00,  4.85it/s]\n",
      " 98%|█████████▊| 123/125 [00:23<00:00,  7.27it/s]\n",
      "100%|██████████| 125/125 [00:23<00:00,  5.27it/s]\n",
      "100%|██████████| 125/125 [00:23<00:00,  5.26it/s]\n",
      "100%|██████████| 125/125 [00:23<00:00,  5.25it/s]\n",
      "100%|██████████| 125/125 [00:19<00:00,  6.34it/s]\n",
      "100%|██████████| 125/125 [00:19<00:00,  6.29it/s]\n",
      "100%|██████████| 125/125 [00:19<00:00,  6.27it/s]\n",
      "100%|██████████| 125/125 [00:20<00:00,  6.23it/s]\n",
      "100%|██████████| 125/125 [00:22<00:00,  5.49it/s]\n",
      "100%|██████████| 125/125 [00:22<00:00,  5.45it/s]\n",
      "100%|██████████| 125/125 [00:23<00:00,  5.43it/s]\n",
      "100%|██████████| 125/125 [00:23<00:00,  5.35it/s]\n",
      "100%|██████████| 125/125 [00:23<00:00,  5.31it/s]\n",
      "100%|██████████| 125/125 [00:23<00:00,  5.29it/s]\n",
      "100%|██████████| 125/125 [00:23<00:00,  5.27it/s]\n",
      "100%|██████████| 125/125 [00:23<00:00,  5.26it/s]\n",
      "100%|██████████| 125/125 [00:20<00:00,  6.02it/s]\n",
      "100%|██████████| 125/125 [00:20<00:00,  5.99it/s]\n",
      "100%|██████████| 125/125 [00:21<00:00,  5.95it/s]\n",
      "100%|██████████| 125/125 [00:21<00:00,  5.94it/s]\n",
      "100%|██████████| 125/125 [00:22<00:00,  5.44it/s]\n",
      "100%|██████████| 125/125 [00:23<00:00,  5.37it/s]\n",
      "100%|██████████| 125/125 [00:23<00:00,  5.34it/s]\n",
      "100%|██████████| 125/125 [00:23<00:00,  5.29it/s]\n"
     ]
    }
   ],
   "source": [
    "args = (th, rh, ph, d, g, gd, a0, d0, r, Omega, n)\n",
    "time_points = np.linspace(0, 10, 51)\n",
    "population_0 = np.zeros(9, dtype=int)\n",
    "population_0[0] = n\n",
    "\n",
    "size = 125 #125\n",
    "param = (1)\n",
    "scale = (1./4, 1./3, 1./2, 1., 2.,3., 4.)\n",
    "idx = 7 # Concentration of recombinase\n",
    "\n",
    "bin1 = np.linspace(0,10,21)\n",
    "out1 = np.zeros(bin1.shape[0]-1)\n",
    "\n",
    "bin2 = np.linspace(0,200,25)\n",
    "out2 = np.zeros(bin2.shape[0]-1)\n",
    "\n",
    "args_i = np.array((th, rh, ph, d, g, gd, a0, d0, r, Omega, n))\n",
    "for fac in scale:\n",
    "    # Update model para\n",
    "    args_i[param] = args[param]*fac\n",
    "    samples = biocircuits.gillespie_ssa(simple_propensity, simple_update, population_0,time_points, size=size, args=tuple(args_i), n_threads=4,progress_bar=True)\n",
    "               \n",
    "    Tf, Af = Find_A_t(time_points,samples, idx)\n",
    "    hist, bin_edges = np.histogram(Tf, bin1, density=False)\n",
    "    out1 = np.vstack((out1,hist))\n",
    "        \n",
    "    hist, bin_edges = np.histogram(Af, bin2, density=False)\n",
    "    out2 = np.vstack((out2,hist))\n",
    "    "
   ]
  },
  {
   "cell_type": "code",
   "execution_count": 85,
   "metadata": {
    "id": "NAhPFtfDxnub",
    "outputId": "3c3ea91d-d993-4056-c671-e59a4e5d80d4"
   },
   "outputs": [
    {
     "data": {
      "text/html": [
       "\n",
       "\n",
       "\n",
       "\n",
       "\n",
       "\n",
       "  <div class=\"bk-root\" id=\"97aa7c46-53eb-48e8-9944-c39371687f58\" data-root-id=\"156570\"></div>\n"
      ]
     },
     "metadata": {},
     "output_type": "display_data"
    },
    {
     "data": {
      "application/javascript": [
       "(function(root) {\n",
       "  function embed_document(root) {\n",
       "    \n",
       "  const docs_json = {\"90c1080f-bda5-46a1-bb9c-808b70733a19\":{\"defs\":[],\"roots\":{\"references\":[{\"attributes\":{\"children\":[{\"id\":\"156476\"},{\"id\":\"156507\"}]},\"id\":\"156570\",\"type\":\"Row\"},{\"attributes\":{},\"id\":\"159740\",\"type\":\"UnionRenderers\"},{\"attributes\":{\"palette\":[\"#0C0786\",\"#100787\",\"#130689\",\"#15068A\",\"#18068B\",\"#1B068C\",\"#1D068D\",\"#1F058E\",\"#21058F\",\"#230590\",\"#250591\",\"#270592\",\"#290593\",\"#2B0594\",\"#2D0494\",\"#2F0495\",\"#310496\",\"#330497\",\"#340498\",\"#360498\",\"#380499\",\"#3A049A\",\"#3B039A\",\"#3D039B\",\"#3F039C\",\"#40039C\",\"#42039D\",\"#44039E\",\"#45039E\",\"#47029F\",\"#49029F\",\"#4A02A0\",\"#4C02A1\",\"#4E02A1\",\"#4F02A2\",\"#5101A2\",\"#5201A3\",\"#5401A3\",\"#5601A3\",\"#5701A4\",\"#5901A4\",\"#5A00A5\",\"#5C00A5\",\"#5E00A5\",\"#5F00A6\",\"#6100A6\",\"#6200A6\",\"#6400A7\",\"#6500A7\",\"#6700A7\",\"#6800A7\",\"#6A00A7\",\"#6C00A8\",\"#6D00A8\",\"#6F00A8\",\"#7000A8\",\"#7200A8\",\"#7300A8\",\"#7500A8\",\"#7601A8\",\"#7801A8\",\"#7901A8\",\"#7B02A8\",\"#7C02A7\",\"#7E03A7\",\"#7F03A7\",\"#8104A7\",\"#8204A7\",\"#8405A6\",\"#8506A6\",\"#8607A6\",\"#8807A5\",\"#8908A5\",\"#8B09A4\",\"#8C0AA4\",\"#8E0CA4\",\"#8F0DA3\",\"#900EA3\",\"#920FA2\",\"#9310A1\",\"#9511A1\",\"#9612A0\",\"#9713A0\",\"#99149F\",\"#9A159E\",\"#9B179E\",\"#9D189D\",\"#9E199C\",\"#9F1A9B\",\"#A01B9B\",\"#A21C9A\",\"#A31D99\",\"#A41E98\",\"#A51F97\",\"#A72197\",\"#A82296\",\"#A92395\",\"#AA2494\",\"#AC2593\",\"#AD2692\",\"#AE2791\",\"#AF2890\",\"#B02A8F\",\"#B12B8F\",\"#B22C8E\",\"#B42D8D\",\"#B52E8C\",\"#B62F8B\",\"#B7308A\",\"#B83289\",\"#B93388\",\"#BA3487\",\"#BB3586\",\"#BC3685\",\"#BD3784\",\"#BE3883\",\"#BF3982\",\"#C03B81\",\"#C13C80\",\"#C23D80\",\"#C33E7F\",\"#C43F7E\",\"#C5407D\",\"#C6417C\",\"#C7427B\",\"#C8447A\",\"#C94579\",\"#CA4678\",\"#CB4777\",\"#CC4876\",\"#CD4975\",\"#CE4A75\",\"#CF4B74\",\"#D04D73\",\"#D14E72\",\"#D14F71\",\"#D25070\",\"#D3516F\",\"#D4526E\",\"#D5536D\",\"#D6556D\",\"#D7566C\",\"#D7576B\",\"#D8586A\",\"#D95969\",\"#DA5A68\",\"#DB5B67\",\"#DC5D66\",\"#DC5E66\",\"#DD5F65\",\"#DE6064\",\"#DF6163\",\"#DF6262\",\"#E06461\",\"#E16560\",\"#E26660\",\"#E3675F\",\"#E3685E\",\"#E46A5D\",\"#E56B5C\",\"#E56C5B\",\"#E66D5A\",\"#E76E5A\",\"#E87059\",\"#E87158\",\"#E97257\",\"#EA7356\",\"#EA7455\",\"#EB7654\",\"#EC7754\",\"#EC7853\",\"#ED7952\",\"#ED7B51\",\"#EE7C50\",\"#EF7D4F\",\"#EF7E4E\",\"#F0804D\",\"#F0814D\",\"#F1824C\",\"#F2844B\",\"#F2854A\",\"#F38649\",\"#F38748\",\"#F48947\",\"#F48A47\",\"#F58B46\",\"#F58D45\",\"#F68E44\",\"#F68F43\",\"#F69142\",\"#F79241\",\"#F79341\",\"#F89540\",\"#F8963F\",\"#F8983E\",\"#F9993D\",\"#F99A3C\",\"#FA9C3B\",\"#FA9D3A\",\"#FA9F3A\",\"#FAA039\",\"#FBA238\",\"#FBA337\",\"#FBA436\",\"#FCA635\",\"#FCA735\",\"#FCA934\",\"#FCAA33\",\"#FCAC32\",\"#FCAD31\",\"#FDAF31\",\"#FDB030\",\"#FDB22F\",\"#FDB32E\",\"#FDB52D\",\"#FDB62D\",\"#FDB82C\",\"#FDB92B\",\"#FDBB2B\",\"#FDBC2A\",\"#FDBE29\",\"#FDC029\",\"#FDC128\",\"#FDC328\",\"#FDC427\",\"#FDC626\",\"#FCC726\",\"#FCC926\",\"#FCCB25\",\"#FCCC25\",\"#FCCE25\",\"#FBD024\",\"#FBD124\",\"#FBD324\",\"#FAD524\",\"#FAD624\",\"#FAD824\",\"#F9D924\",\"#F9DB24\",\"#F8DD24\",\"#F8DF24\",\"#F7E024\",\"#F7E225\",\"#F6E425\",\"#F6E525\",\"#F5E726\",\"#F5E926\",\"#F4EA26\",\"#F3EC26\",\"#F3EE26\",\"#F2F026\",\"#F2F126\",\"#F1F326\",\"#F0F525\",\"#F0F623\",\"#EFF821\"]},\"id\":\"156540\",\"type\":\"LinearColorMapper\"},{\"attributes\":{\"tools\":[{\"id\":\"156524\"},{\"id\":\"156525\"},{\"id\":\"156526\"},{\"id\":\"156527\"},{\"id\":\"156528\"},{\"id\":\"156529\"}]},\"id\":\"156531\",\"type\":\"Toolbar\"},{\"attributes\":{},\"id\":\"159741\",\"type\":\"Selection\"},{\"attributes\":{\"color_mapper\":{\"id\":\"156546\"},\"dh\":{\"value\":7},\"dw\":{\"value\":10.0},\"global_alpha\":{\"value\":0.2},\"image\":{\"field\":\"image\"},\"x\":{\"value\":0},\"y\":{\"value\":0}},\"id\":\"156545\",\"type\":\"Image\"},{\"attributes\":{},\"id\":\"156528\",\"type\":\"ResetTool\"},{\"attributes\":{\"color_mapper\":{\"id\":\"156550\"},\"coordinates\":null,\"group\":null,\"location\":[0,0],\"major_label_policy\":{\"id\":\"159727\"},\"width\":5},\"id\":\"156551\",\"type\":\"ColorBar\"},{\"attributes\":{\"bottom_units\":\"screen\",\"coordinates\":null,\"fill_alpha\":0.5,\"fill_color\":\"lightgrey\",\"group\":null,\"left_units\":\"screen\",\"level\":\"overlay\",\"line_alpha\":1.0,\"line_color\":\"black\",\"line_dash\":[4,4],\"line_width\":2,\"right_units\":\"screen\",\"syncable\":false,\"top_units\":\"screen\"},\"id\":\"156530\",\"type\":\"BoxAnnotation\"},{\"attributes\":{\"coordinates\":null,\"group\":null},\"id\":\"159723\",\"type\":\"Title\"},{\"attributes\":{\"palette\":[\"#0C0786\",\"#100787\",\"#130689\",\"#15068A\",\"#18068B\",\"#1B068C\",\"#1D068D\",\"#1F058E\",\"#21058F\",\"#230590\",\"#250591\",\"#270592\",\"#290593\",\"#2B0594\",\"#2D0494\",\"#2F0495\",\"#310496\",\"#330497\",\"#340498\",\"#360498\",\"#380499\",\"#3A049A\",\"#3B039A\",\"#3D039B\",\"#3F039C\",\"#40039C\",\"#42039D\",\"#44039E\",\"#45039E\",\"#47029F\",\"#49029F\",\"#4A02A0\",\"#4C02A1\",\"#4E02A1\",\"#4F02A2\",\"#5101A2\",\"#5201A3\",\"#5401A3\",\"#5601A3\",\"#5701A4\",\"#5901A4\",\"#5A00A5\",\"#5C00A5\",\"#5E00A5\",\"#5F00A6\",\"#6100A6\",\"#6200A6\",\"#6400A7\",\"#6500A7\",\"#6700A7\",\"#6800A7\",\"#6A00A7\",\"#6C00A8\",\"#6D00A8\",\"#6F00A8\",\"#7000A8\",\"#7200A8\",\"#7300A8\",\"#7500A8\",\"#7601A8\",\"#7801A8\",\"#7901A8\",\"#7B02A8\",\"#7C02A7\",\"#7E03A7\",\"#7F03A7\",\"#8104A7\",\"#8204A7\",\"#8405A6\",\"#8506A6\",\"#8607A6\",\"#8807A5\",\"#8908A5\",\"#8B09A4\",\"#8C0AA4\",\"#8E0CA4\",\"#8F0DA3\",\"#900EA3\",\"#920FA2\",\"#9310A1\",\"#9511A1\",\"#9612A0\",\"#9713A0\",\"#99149F\",\"#9A159E\",\"#9B179E\",\"#9D189D\",\"#9E199C\",\"#9F1A9B\",\"#A01B9B\",\"#A21C9A\",\"#A31D99\",\"#A41E98\",\"#A51F97\",\"#A72197\",\"#A82296\",\"#A92395\",\"#AA2494\",\"#AC2593\",\"#AD2692\",\"#AE2791\",\"#AF2890\",\"#B02A8F\",\"#B12B8F\",\"#B22C8E\",\"#B42D8D\",\"#B52E8C\",\"#B62F8B\",\"#B7308A\",\"#B83289\",\"#B93388\",\"#BA3487\",\"#BB3586\",\"#BC3685\",\"#BD3784\",\"#BE3883\",\"#BF3982\",\"#C03B81\",\"#C13C80\",\"#C23D80\",\"#C33E7F\",\"#C43F7E\",\"#C5407D\",\"#C6417C\",\"#C7427B\",\"#C8447A\",\"#C94579\",\"#CA4678\",\"#CB4777\",\"#CC4876\",\"#CD4975\",\"#CE4A75\",\"#CF4B74\",\"#D04D73\",\"#D14E72\",\"#D14F71\",\"#D25070\",\"#D3516F\",\"#D4526E\",\"#D5536D\",\"#D6556D\",\"#D7566C\",\"#D7576B\",\"#D8586A\",\"#D95969\",\"#DA5A68\",\"#DB5B67\",\"#DC5D66\",\"#DC5E66\",\"#DD5F65\",\"#DE6064\",\"#DF6163\",\"#DF6262\",\"#E06461\",\"#E16560\",\"#E26660\",\"#E3675F\",\"#E3685E\",\"#E46A5D\",\"#E56B5C\",\"#E56C5B\",\"#E66D5A\",\"#E76E5A\",\"#E87059\",\"#E87158\",\"#E97257\",\"#EA7356\",\"#EA7455\",\"#EB7654\",\"#EC7754\",\"#EC7853\",\"#ED7952\",\"#ED7B51\",\"#EE7C50\",\"#EF7D4F\",\"#EF7E4E\",\"#F0804D\",\"#F0814D\",\"#F1824C\",\"#F2844B\",\"#F2854A\",\"#F38649\",\"#F38748\",\"#F48947\",\"#F48A47\",\"#F58B46\",\"#F58D45\",\"#F68E44\",\"#F68F43\",\"#F69142\",\"#F79241\",\"#F79341\",\"#F89540\",\"#F8963F\",\"#F8983E\",\"#F9993D\",\"#F99A3C\",\"#FA9C3B\",\"#FA9D3A\",\"#FA9F3A\",\"#FAA039\",\"#FBA238\",\"#FBA337\",\"#FBA436\",\"#FCA635\",\"#FCA735\",\"#FCA934\",\"#FCAA33\",\"#FCAC32\",\"#FCAD31\",\"#FDAF31\",\"#FDB030\",\"#FDB22F\",\"#FDB32E\",\"#FDB52D\",\"#FDB62D\",\"#FDB82C\",\"#FDB92B\",\"#FDBB2B\",\"#FDBC2A\",\"#FDBE29\",\"#FDC029\",\"#FDC128\",\"#FDC328\",\"#FDC427\",\"#FDC626\",\"#FCC726\",\"#FCC926\",\"#FCCB25\",\"#FCCC25\",\"#FCCE25\",\"#FBD024\",\"#FBD124\",\"#FBD324\",\"#FAD524\",\"#FAD624\",\"#FAD824\",\"#F9D924\",\"#F9DB24\",\"#F8DD24\",\"#F8DF24\",\"#F7E024\",\"#F7E225\",\"#F6E425\",\"#F6E525\",\"#F5E726\",\"#F5E926\",\"#F4EA26\",\"#F3EC26\",\"#F3EE26\",\"#F2F026\",\"#F2F126\",\"#F1F326\",\"#F0F525\",\"#F0F623\",\"#EFF821\"]},\"id\":\"156546\",\"type\":\"LinearColorMapper\"},{\"attributes\":{\"coordinates\":null,\"data_source\":{\"id\":\"156538\"},\"glyph\":{\"id\":\"156539\"},\"group\":null,\"hover_glyph\":null,\"muted_glyph\":{\"id\":\"156545\"},\"nonselection_glyph\":{\"id\":\"156542\"},\"view\":{\"id\":\"156549\"}},\"id\":\"156548\",\"type\":\"GlyphRenderer\"},{\"attributes\":{\"source\":{\"id\":\"156538\"}},\"id\":\"156549\",\"type\":\"CDSView\"},{\"attributes\":{\"ticks\":[0.5,1.5,2.5,3.5,4.5,5.5,6.5]},\"id\":\"156552\",\"type\":\"FixedTicker\"},{\"attributes\":{\"ticks\":[0.5,1.5,2.5,3.5,4.5,5.5,6.5]},\"id\":\"156568\",\"type\":\"FixedTicker\"},{\"attributes\":{\"color_mapper\":{\"id\":\"156559\"},\"dh\":{\"value\":7},\"dw\":{\"value\":200.0},\"global_alpha\":{\"value\":0.1},\"image\":{\"field\":\"image\"},\"x\":{\"value\":0},\"y\":{\"value\":0}},\"id\":\"156558\",\"type\":\"Image\"},{\"attributes\":{\"data\":{\"image\":[{\"__ndarray__\":\"AAAAAAAA8D8AAAAAAIBNQAAAAAAAUHJAAAAAAADgYEAAAAAAAAAkQAAAAAAAAABAAAAAAAAAAAAAAAAAAAAAAAAAAAAAAAAAAAAAAAAAAAAAAAAAAAAAAAAAAAAAAAAAAAAAAAAAAAAAAAAAAAAAAAAAAAAAAAAAAAAAAAAAAAAAAAAAAAAAAAAAAAAAAAAAAAAAAAAAAAAAAAAAAAAAAAAAAAAAAAAAAAAAAAAAAAAAAAAAAAAAAAAAAAAAAAAAAAAAAAAAAEAAAAAAAAA5QAAAAAAAgGJAAAAAAADAbUAAAAAAAIBSQAAAAAAAACZAAAAAAAAAAEAAAAAAAAAAAAAAAAAAAAAAAAAAAAAAAAAAAAAAAAAAAAAAAAAAAAAAAAAAAAAAAAAAAAAAAAAAAAAAAAAAAAAAAAAAAAAAAAAAAAAAAAAAAAAAAAAAAAAAAAAAAAAAAAAAAAAAAAAAAAAAAAAAAAAAAAAAAAAAAAAAAAAAAAAAAAAAAAAAAAAAAAAAAAAAAEAAAAAAAAAsQAAAAAAAAEJAAAAAAAAgYkAAAAAAAMBhQAAAAAAAwFpAAAAAAACARkAAAAAAAAAiQAAAAAAAAAAAAAAAAAAAAAAAAAAAAAAAAAAAAAAAAAAAAAAAAAAAAAAAAAAAAAAAAAAAAAAAAAAAAAAAAAAAAAAAAAAAAAAAAAAAAAAAAAAAAAAAAAAAAAAAAAAAAAAAAAAAAAAAAAAAAAAAAAAAAAAAAAAAAAAAAAAAAAAAAAAAAAAAAAAAAAAAAAAAAAAAQAAAAAAAACRAAAAAAAAAP0AAAAAAAIBGQAAAAAAAQFVAAAAAAADAWEAAAAAAAEBVQAAAAAAAAExAAAAAAAAARkAAAAAAAAA3QAAAAAAAACpAAAAAAAAAFEAAAAAAAAAAQAAAAAAAAAAAAAAAAAAAAAAAAAAAAAAAAAAAAAAAAAAAAAAAAAAAAAAAAAAAAAAAAAAAAAAAAAAAAAAAAAAAAAAAAAAAAAAAAAAAAAAAAAAAAAAAAAAAAAAAAAAAAAAAAAAAAAAAABBAAAAAAAAAGEAAAAAAAAAsQAAAAAAAADdAAAAAAAAAQUAAAAAAAIBJQAAAAAAAgElAAAAAAAAATEAAAAAAAABKQAAAAAAAgElAAAAAAACAREAAAAAAAAA/QAAAAAAAgEBAAAAAAAAAKkAAAAAAAAAgQAAAAAAAACJAAAAAAAAAHEAAAAAAAAAUQAAAAAAAABBAAAAAAAAACEAAAAAAAAAAQAAAAAAAAAAAAAAAAAAAAAAAAAAAAADwPwAAAAAAAPA/AAAAAAAAGEAAAAAAAAAYQAAAAAAAAC5AAAAAAAAAKkAAAAAAAAA4QAAAAAAAAENAAAAAAAAAQ0AAAAAAAAA+QAAAAAAAgEZAAAAAAAAASEAAAAAAAABEQAAAAAAAgENAAAAAAAAAPUAAAAAAAAA3QAAAAAAAADVAAAAAAAAANkAAAAAAAAAoQAAAAAAAACxAAAAAAAAAIkAAAAAAAAAgQAAAAAAAABRAAAAAAAAAAAAAAAAAAADwPwAAAAAAAABAAAAAAAAACEAAAAAAAAAIQAAAAAAAACJAAAAAAAAAJkAAAAAAAAAwQAAAAAAAADhAAAAAAAAAN0AAAAAAAAA6QAAAAAAAADtAAAAAAACAQUAAAAAAAAA7QAAAAAAAgEFAAAAAAAAAPEAAAAAAAIBAQAAAAAAAADlAAAAAAAAAQEAAAAAAAAA2QAAAAAAAAChAAAAAAAAANEAAAAAAAAAuQAAAAAAAACBA\",\"dtype\":\"float64\",\"order\":\"little\",\"shape\":[7,24]}]},\"selected\":{\"id\":\"159741\"},\"selection_policy\":{\"id\":\"159740\"}},\"id\":\"156554\",\"type\":\"ColumnDataSource\"},{\"attributes\":{},\"id\":\"156529\",\"type\":\"HelpTool\"},{\"attributes\":{\"coordinates\":null,\"group\":null},\"id\":\"159721\",\"type\":\"Title\"},{\"attributes\":{},\"id\":\"156514\",\"type\":\"LinearScale\"},{\"attributes\":{\"palette\":[\"#0C0786\",\"#100787\",\"#130689\",\"#15068A\",\"#18068B\",\"#1B068C\",\"#1D068D\",\"#1F058E\",\"#21058F\",\"#230590\",\"#250591\",\"#270592\",\"#290593\",\"#2B0594\",\"#2D0494\",\"#2F0495\",\"#310496\",\"#330497\",\"#340498\",\"#360498\",\"#380499\",\"#3A049A\",\"#3B039A\",\"#3D039B\",\"#3F039C\",\"#40039C\",\"#42039D\",\"#44039E\",\"#45039E\",\"#47029F\",\"#49029F\",\"#4A02A0\",\"#4C02A1\",\"#4E02A1\",\"#4F02A2\",\"#5101A2\",\"#5201A3\",\"#5401A3\",\"#5601A3\",\"#5701A4\",\"#5901A4\",\"#5A00A5\",\"#5C00A5\",\"#5E00A5\",\"#5F00A6\",\"#6100A6\",\"#6200A6\",\"#6400A7\",\"#6500A7\",\"#6700A7\",\"#6800A7\",\"#6A00A7\",\"#6C00A8\",\"#6D00A8\",\"#6F00A8\",\"#7000A8\",\"#7200A8\",\"#7300A8\",\"#7500A8\",\"#7601A8\",\"#7801A8\",\"#7901A8\",\"#7B02A8\",\"#7C02A7\",\"#7E03A7\",\"#7F03A7\",\"#8104A7\",\"#8204A7\",\"#8405A6\",\"#8506A6\",\"#8607A6\",\"#8807A5\",\"#8908A5\",\"#8B09A4\",\"#8C0AA4\",\"#8E0CA4\",\"#8F0DA3\",\"#900EA3\",\"#920FA2\",\"#9310A1\",\"#9511A1\",\"#9612A0\",\"#9713A0\",\"#99149F\",\"#9A159E\",\"#9B179E\",\"#9D189D\",\"#9E199C\",\"#9F1A9B\",\"#A01B9B\",\"#A21C9A\",\"#A31D99\",\"#A41E98\",\"#A51F97\",\"#A72197\",\"#A82296\",\"#A92395\",\"#AA2494\",\"#AC2593\",\"#AD2692\",\"#AE2791\",\"#AF2890\",\"#B02A8F\",\"#B12B8F\",\"#B22C8E\",\"#B42D8D\",\"#B52E8C\",\"#B62F8B\",\"#B7308A\",\"#B83289\",\"#B93388\",\"#BA3487\",\"#BB3586\",\"#BC3685\",\"#BD3784\",\"#BE3883\",\"#BF3982\",\"#C03B81\",\"#C13C80\",\"#C23D80\",\"#C33E7F\",\"#C43F7E\",\"#C5407D\",\"#C6417C\",\"#C7427B\",\"#C8447A\",\"#C94579\",\"#CA4678\",\"#CB4777\",\"#CC4876\",\"#CD4975\",\"#CE4A75\",\"#CF4B74\",\"#D04D73\",\"#D14E72\",\"#D14F71\",\"#D25070\",\"#D3516F\",\"#D4526E\",\"#D5536D\",\"#D6556D\",\"#D7566C\",\"#D7576B\",\"#D8586A\",\"#D95969\",\"#DA5A68\",\"#DB5B67\",\"#DC5D66\",\"#DC5E66\",\"#DD5F65\",\"#DE6064\",\"#DF6163\",\"#DF6262\",\"#E06461\",\"#E16560\",\"#E26660\",\"#E3675F\",\"#E3685E\",\"#E46A5D\",\"#E56B5C\",\"#E56C5B\",\"#E66D5A\",\"#E76E5A\",\"#E87059\",\"#E87158\",\"#E97257\",\"#EA7356\",\"#EA7455\",\"#EB7654\",\"#EC7754\",\"#EC7853\",\"#ED7952\",\"#ED7B51\",\"#EE7C50\",\"#EF7D4F\",\"#EF7E4E\",\"#F0804D\",\"#F0814D\",\"#F1824C\",\"#F2844B\",\"#F2854A\",\"#F38649\",\"#F38748\",\"#F48947\",\"#F48A47\",\"#F58B46\",\"#F58D45\",\"#F68E44\",\"#F68F43\",\"#F69142\",\"#F79241\",\"#F79341\",\"#F89540\",\"#F8963F\",\"#F8983E\",\"#F9993D\",\"#F99A3C\",\"#FA9C3B\",\"#FA9D3A\",\"#FA9F3A\",\"#FAA039\",\"#FBA238\",\"#FBA337\",\"#FBA436\",\"#FCA635\",\"#FCA735\",\"#FCA934\",\"#FCAA33\",\"#FCAC32\",\"#FCAD31\",\"#FDAF31\",\"#FDB030\",\"#FDB22F\",\"#FDB32E\",\"#FDB52D\",\"#FDB62D\",\"#FDB82C\",\"#FDB92B\",\"#FDBB2B\",\"#FDBC2A\",\"#FDBE29\",\"#FDC029\",\"#FDC128\",\"#FDC328\",\"#FDC427\",\"#FDC626\",\"#FCC726\",\"#FCC926\",\"#FCCB25\",\"#FCCC25\",\"#FCCE25\",\"#FBD024\",\"#FBD124\",\"#FBD324\",\"#FAD524\",\"#FAD624\",\"#FAD824\",\"#F9D924\",\"#F9DB24\",\"#F8DD24\",\"#F8DF24\",\"#F7E024\",\"#F7E225\",\"#F6E425\",\"#F6E525\",\"#F5E726\",\"#F5E926\",\"#F4EA26\",\"#F3EC26\",\"#F3EE26\",\"#F2F026\",\"#F2F126\",\"#F1F326\",\"#F0F525\",\"#F0F623\",\"#EFF821\"]},\"id\":\"156556\",\"type\":\"LinearColorMapper\"},{\"attributes\":{\"end\":200.0},\"id\":\"156508\",\"type\":\"Range1d\"},{\"attributes\":{\"palette\":[\"#0C0786\",\"#100787\",\"#130689\",\"#15068A\",\"#18068B\",\"#1B068C\",\"#1D068D\",\"#1F058E\",\"#21058F\",\"#230590\",\"#250591\",\"#270592\",\"#290593\",\"#2B0594\",\"#2D0494\",\"#2F0495\",\"#310496\",\"#330497\",\"#340498\",\"#360498\",\"#380499\",\"#3A049A\",\"#3B039A\",\"#3D039B\",\"#3F039C\",\"#40039C\",\"#42039D\",\"#44039E\",\"#45039E\",\"#47029F\",\"#49029F\",\"#4A02A0\",\"#4C02A1\",\"#4E02A1\",\"#4F02A2\",\"#5101A2\",\"#5201A3\",\"#5401A3\",\"#5601A3\",\"#5701A4\",\"#5901A4\",\"#5A00A5\",\"#5C00A5\",\"#5E00A5\",\"#5F00A6\",\"#6100A6\",\"#6200A6\",\"#6400A7\",\"#6500A7\",\"#6700A7\",\"#6800A7\",\"#6A00A7\",\"#6C00A8\",\"#6D00A8\",\"#6F00A8\",\"#7000A8\",\"#7200A8\",\"#7300A8\",\"#7500A8\",\"#7601A8\",\"#7801A8\",\"#7901A8\",\"#7B02A8\",\"#7C02A7\",\"#7E03A7\",\"#7F03A7\",\"#8104A7\",\"#8204A7\",\"#8405A6\",\"#8506A6\",\"#8607A6\",\"#8807A5\",\"#8908A5\",\"#8B09A4\",\"#8C0AA4\",\"#8E0CA4\",\"#8F0DA3\",\"#900EA3\",\"#920FA2\",\"#9310A1\",\"#9511A1\",\"#9612A0\",\"#9713A0\",\"#99149F\",\"#9A159E\",\"#9B179E\",\"#9D189D\",\"#9E199C\",\"#9F1A9B\",\"#A01B9B\",\"#A21C9A\",\"#A31D99\",\"#A41E98\",\"#A51F97\",\"#A72197\",\"#A82296\",\"#A92395\",\"#AA2494\",\"#AC2593\",\"#AD2692\",\"#AE2791\",\"#AF2890\",\"#B02A8F\",\"#B12B8F\",\"#B22C8E\",\"#B42D8D\",\"#B52E8C\",\"#B62F8B\",\"#B7308A\",\"#B83289\",\"#B93388\",\"#BA3487\",\"#BB3586\",\"#BC3685\",\"#BD3784\",\"#BE3883\",\"#BF3982\",\"#C03B81\",\"#C13C80\",\"#C23D80\",\"#C33E7F\",\"#C43F7E\",\"#C5407D\",\"#C6417C\",\"#C7427B\",\"#C8447A\",\"#C94579\",\"#CA4678\",\"#CB4777\",\"#CC4876\",\"#CD4975\",\"#CE4A75\",\"#CF4B74\",\"#D04D73\",\"#D14E72\",\"#D14F71\",\"#D25070\",\"#D3516F\",\"#D4526E\",\"#D5536D\",\"#D6556D\",\"#D7566C\",\"#D7576B\",\"#D8586A\",\"#D95969\",\"#DA5A68\",\"#DB5B67\",\"#DC5D66\",\"#DC5E66\",\"#DD5F65\",\"#DE6064\",\"#DF6163\",\"#DF6262\",\"#E06461\",\"#E16560\",\"#E26660\",\"#E3675F\",\"#E3685E\",\"#E46A5D\",\"#E56B5C\",\"#E56C5B\",\"#E66D5A\",\"#E76E5A\",\"#E87059\",\"#E87158\",\"#E97257\",\"#EA7356\",\"#EA7455\",\"#EB7654\",\"#EC7754\",\"#EC7853\",\"#ED7952\",\"#ED7B51\",\"#EE7C50\",\"#EF7D4F\",\"#EF7E4E\",\"#F0804D\",\"#F0814D\",\"#F1824C\",\"#F2844B\",\"#F2854A\",\"#F38649\",\"#F38748\",\"#F48947\",\"#F48A47\",\"#F58B46\",\"#F58D45\",\"#F68E44\",\"#F68F43\",\"#F69142\",\"#F79241\",\"#F79341\",\"#F89540\",\"#F8963F\",\"#F8983E\",\"#F9993D\",\"#F99A3C\",\"#FA9C3B\",\"#FA9D3A\",\"#FA9F3A\",\"#FAA039\",\"#FBA238\",\"#FBA337\",\"#FBA436\",\"#FCA635\",\"#FCA735\",\"#FCA934\",\"#FCAA33\",\"#FCAC32\",\"#FCAD31\",\"#FDAF31\",\"#FDB030\",\"#FDB22F\",\"#FDB32E\",\"#FDB52D\",\"#FDB62D\",\"#FDB82C\",\"#FDB92B\",\"#FDBB2B\",\"#FDBC2A\",\"#FDBE29\",\"#FDC029\",\"#FDC128\",\"#FDC328\",\"#FDC427\",\"#FDC626\",\"#FCC726\",\"#FCC926\",\"#FCCB25\",\"#FCCC25\",\"#FCCE25\",\"#FBD024\",\"#FBD124\",\"#FBD324\",\"#FAD524\",\"#FAD624\",\"#FAD824\",\"#F9D924\",\"#F9DB24\",\"#F8DD24\",\"#F8DF24\",\"#F7E024\",\"#F7E225\",\"#F6E425\",\"#F6E525\",\"#F5E726\",\"#F5E926\",\"#F4EA26\",\"#F3EC26\",\"#F3EE26\",\"#F2F026\",\"#F2F126\",\"#F1F326\",\"#F0F525\",\"#F0F623\",\"#EFF821\"]},\"id\":\"156559\",\"type\":\"LinearColorMapper\"},{\"attributes\":{\"color_mapper\":{\"id\":\"156562\"},\"dh\":{\"value\":7},\"dw\":{\"value\":200.0},\"global_alpha\":{\"value\":0.2},\"image\":{\"field\":\"image\"},\"x\":{\"value\":0},\"y\":{\"value\":0}},\"id\":\"156561\",\"type\":\"Image\"},{\"attributes\":{\"axis\":{\"id\":\"156520\"},\"coordinates\":null,\"dimension\":1,\"group\":null,\"ticker\":null},\"id\":\"156523\",\"type\":\"Grid\"},{\"attributes\":{\"palette\":[\"#0C0786\",\"#100787\",\"#130689\",\"#15068A\",\"#18068B\",\"#1B068C\",\"#1D068D\",\"#1F058E\",\"#21058F\",\"#230590\",\"#250591\",\"#270592\",\"#290593\",\"#2B0594\",\"#2D0494\",\"#2F0495\",\"#310496\",\"#330497\",\"#340498\",\"#360498\",\"#380499\",\"#3A049A\",\"#3B039A\",\"#3D039B\",\"#3F039C\",\"#40039C\",\"#42039D\",\"#44039E\",\"#45039E\",\"#47029F\",\"#49029F\",\"#4A02A0\",\"#4C02A1\",\"#4E02A1\",\"#4F02A2\",\"#5101A2\",\"#5201A3\",\"#5401A3\",\"#5601A3\",\"#5701A4\",\"#5901A4\",\"#5A00A5\",\"#5C00A5\",\"#5E00A5\",\"#5F00A6\",\"#6100A6\",\"#6200A6\",\"#6400A7\",\"#6500A7\",\"#6700A7\",\"#6800A7\",\"#6A00A7\",\"#6C00A8\",\"#6D00A8\",\"#6F00A8\",\"#7000A8\",\"#7200A8\",\"#7300A8\",\"#7500A8\",\"#7601A8\",\"#7801A8\",\"#7901A8\",\"#7B02A8\",\"#7C02A7\",\"#7E03A7\",\"#7F03A7\",\"#8104A7\",\"#8204A7\",\"#8405A6\",\"#8506A6\",\"#8607A6\",\"#8807A5\",\"#8908A5\",\"#8B09A4\",\"#8C0AA4\",\"#8E0CA4\",\"#8F0DA3\",\"#900EA3\",\"#920FA2\",\"#9310A1\",\"#9511A1\",\"#9612A0\",\"#9713A0\",\"#99149F\",\"#9A159E\",\"#9B179E\",\"#9D189D\",\"#9E199C\",\"#9F1A9B\",\"#A01B9B\",\"#A21C9A\",\"#A31D99\",\"#A41E98\",\"#A51F97\",\"#A72197\",\"#A82296\",\"#A92395\",\"#AA2494\",\"#AC2593\",\"#AD2692\",\"#AE2791\",\"#AF2890\",\"#B02A8F\",\"#B12B8F\",\"#B22C8E\",\"#B42D8D\",\"#B52E8C\",\"#B62F8B\",\"#B7308A\",\"#B83289\",\"#B93388\",\"#BA3487\",\"#BB3586\",\"#BC3685\",\"#BD3784\",\"#BE3883\",\"#BF3982\",\"#C03B81\",\"#C13C80\",\"#C23D80\",\"#C33E7F\",\"#C43F7E\",\"#C5407D\",\"#C6417C\",\"#C7427B\",\"#C8447A\",\"#C94579\",\"#CA4678\",\"#CB4777\",\"#CC4876\",\"#CD4975\",\"#CE4A75\",\"#CF4B74\",\"#D04D73\",\"#D14E72\",\"#D14F71\",\"#D25070\",\"#D3516F\",\"#D4526E\",\"#D5536D\",\"#D6556D\",\"#D7566C\",\"#D7576B\",\"#D8586A\",\"#D95969\",\"#DA5A68\",\"#DB5B67\",\"#DC5D66\",\"#DC5E66\",\"#DD5F65\",\"#DE6064\",\"#DF6163\",\"#DF6262\",\"#E06461\",\"#E16560\",\"#E26660\",\"#E3675F\",\"#E3685E\",\"#E46A5D\",\"#E56B5C\",\"#E56C5B\",\"#E66D5A\",\"#E76E5A\",\"#E87059\",\"#E87158\",\"#E97257\",\"#EA7356\",\"#EA7455\",\"#EB7654\",\"#EC7754\",\"#EC7853\",\"#ED7952\",\"#ED7B51\",\"#EE7C50\",\"#EF7D4F\",\"#EF7E4E\",\"#F0804D\",\"#F0814D\",\"#F1824C\",\"#F2844B\",\"#F2854A\",\"#F38649\",\"#F38748\",\"#F48947\",\"#F48A47\",\"#F58B46\",\"#F58D45\",\"#F68E44\",\"#F68F43\",\"#F69142\",\"#F79241\",\"#F79341\",\"#F89540\",\"#F8963F\",\"#F8983E\",\"#F9993D\",\"#F99A3C\",\"#FA9C3B\",\"#FA9D3A\",\"#FA9F3A\",\"#FAA039\",\"#FBA238\",\"#FBA337\",\"#FBA436\",\"#FCA635\",\"#FCA735\",\"#FCA934\",\"#FCAA33\",\"#FCAC32\",\"#FCAD31\",\"#FDAF31\",\"#FDB030\",\"#FDB22F\",\"#FDB32E\",\"#FDB52D\",\"#FDB62D\",\"#FDB82C\",\"#FDB92B\",\"#FDBB2B\",\"#FDBC2A\",\"#FDBE29\",\"#FDC029\",\"#FDC128\",\"#FDC328\",\"#FDC427\",\"#FDC626\",\"#FCC726\",\"#FCC926\",\"#FCCB25\",\"#FCCC25\",\"#FCCE25\",\"#FBD024\",\"#FBD124\",\"#FBD324\",\"#FAD524\",\"#FAD624\",\"#FAD824\",\"#F9D924\",\"#F9DB24\",\"#F8DD24\",\"#F8DF24\",\"#F7E024\",\"#F7E225\",\"#F6E425\",\"#F6E525\",\"#F5E726\",\"#F5E926\",\"#F4EA26\",\"#F3EC26\",\"#F3EE26\",\"#F2F026\",\"#F2F126\",\"#F1F326\",\"#F0F525\",\"#F0F623\",\"#EFF821\"]},\"id\":\"156562\",\"type\":\"LinearColorMapper\"},{\"attributes\":{},\"id\":\"156524\",\"type\":\"PanTool\"},{\"attributes\":{\"coordinates\":null,\"formatter\":{\"id\":\"159735\"},\"group\":null,\"major_label_policy\":{\"id\":\"159736\"},\"major_label_text_font_size\":\"10pt\",\"ticker\":{\"id\":\"156517\"}},\"id\":\"156516\",\"type\":\"LinearAxis\"},{\"attributes\":{\"axis\":{\"id\":\"156516\"},\"coordinates\":null,\"group\":null,\"ticker\":null},\"id\":\"156519\",\"type\":\"Grid\"},{\"attributes\":{},\"id\":\"156498\",\"type\":\"HelpTool\"},{\"attributes\":{\"coordinates\":null,\"formatter\":{\"id\":\"159725\"},\"group\":null,\"major_label_policy\":{\"id\":\"159726\"},\"major_label_text_font_size\":\"10pt\",\"ticker\":{\"id\":\"156552\"}},\"id\":\"156489\",\"type\":\"LinearAxis\"},{\"attributes\":{\"coordinates\":null,\"formatter\":{\"id\":\"159731\"},\"group\":null,\"major_label_policy\":{\"id\":\"159732\"},\"major_label_text_font_size\":\"10pt\",\"ticker\":{\"id\":\"156568\"}},\"id\":\"156520\",\"type\":\"LinearAxis\"},{\"attributes\":{\"axis\":{\"id\":\"156489\"},\"coordinates\":null,\"dimension\":1,\"group\":null,\"ticker\":null},\"id\":\"156492\",\"type\":\"Grid\"},{\"attributes\":{\"data\":{\"image\":[{\"__ndarray__\":\"AAAAAAAAAAAAAAAAAAAgQAAAAAAAAEpAAAAAAACARkAAAAAAAIBMQAAAAAAAgENAAAAAAAAAQ0AAAAAAAAA5QAAAAAAAAEJAAAAAAAAAMkAAAAAAAAA4QAAAAAAAADNAAAAAAAAANkAAAAAAAAAwQAAAAAAAADZAAAAAAAAAMEAAAAAAAAA2QAAAAAAAABBAAAAAAAAAMEAAAAAAAAA1QAAAAAAAAAAAAAAAAAAAIEAAAAAAAEBTQAAAAAAAAE9AAAAAAACAUEAAAAAAAABDQAAAAAAAgEFAAAAAAAAAOUAAAAAAAABFQAAAAAAAADRAAAAAAAAAOUAAAAAAAAAgQAAAAAAAADRAAAAAAAAAIkAAAAAAAAAsQAAAAAAAACpAAAAAAAAAHEAAAAAAAAAcQAAAAAAAACRAAAAAAAAALEAAAAAAAAAAAAAAAAAAADVAAAAAAAAgYUAAAAAAAMBQQAAAAAAAAE5AAAAAAAAAO0AAAAAAAABFQAAAAAAAADFAAAAAAAAAPkAAAAAAAAAzQAAAAAAAADpAAAAAAAAAIEAAAAAAAAAgQAAAAAAAABRAAAAAAAAAKkAAAAAAAAAQQAAAAAAAABxAAAAAAAAAAEAAAAAAAAAQQAAAAAAAAAhAAAAAAAAAAAAAAAAAAIBUQAAAAAAAoGZAAAAAAACAUkAAAAAAAABHQAAAAAAAADVAAAAAAACAQEAAAAAAAAAoQAAAAAAAAC5AAAAAAAAAHEAAAAAAAAAuQAAAAAAAAABAAAAAAAAAAEAAAAAAAAAAQAAAAAAAAAhAAAAAAAAA8D8AAAAAAAAAQAAAAAAAAPA/AAAAAAAAAAAAAAAAAADwPwAAAAAAABBAAAAAAACAa0AAAAAAAMBkQAAAAAAAAENAAAAAAAAAP0AAAAAAAAAoQAAAAAAAADBAAAAAAAAACEAAAAAAAAAQQAAAAAAAAPA/AAAAAAAA8D8AAAAAAADwPwAAAAAAAAhAAAAAAAAAAAAAAAAAAAAAAAAAAAAAAAAAAAAAAAAAAAAAAAAAAAAAAAAAAAAAAAAAAAAAAAAAAAAAAAAAAAAcQAAAAAAAsHFAAAAAAAAgYkAAAAAAAAA8QAAAAAAAADhAAAAAAAAAGEAAAAAAAAAIQAAAAAAAAPA/AAAAAAAACEAAAAAAAAAAAAAAAAAAAAAAAAAAAAAAAAAAAAAAAAAAAAAAAAAAAAAAAAAAAAAAAAAAAAAAAAAAAAAAAAAAAAAAAAAAAAAAAAAAAAAAAAAAAAAAAAAAAAAAAAAAAAAAP0AAAAAAAOBvQAAAAAAAYGFAAAAAAACAREAAAAAAAAA0QAAAAAAAABBAAAAAAAAAEEAAAAAAAAAAQAAAAAAAAABAAAAAAAAA8D8AAAAAAAAAAAAAAAAAAPA/AAAAAAAAAAAAAAAAAAAAAAAAAAAAAAAAAAAAAAAAAAAAAAAAAAAAAAAAAAAAAAAAAAAAAAAAAAAAAAAAAAAAAA==\",\"dtype\":\"float64\",\"order\":\"little\",\"shape\":[7,20]}]},\"selected\":{\"id\":\"159738\"},\"selection_policy\":{\"id\":\"159737\"}},\"id\":\"156538\",\"type\":\"ColumnDataSource\"},{\"attributes\":{},\"id\":\"156517\",\"type\":\"BasicTicker\"},{\"attributes\":{},\"id\":\"156512\",\"type\":\"LinearScale\"},{\"attributes\":{\"end\":7},\"id\":\"156510\",\"type\":\"Range1d\"},{\"attributes\":{},\"id\":\"156494\",\"type\":\"WheelZoomTool\"},{\"attributes\":{\"coordinates\":null,\"data_source\":{\"id\":\"156554\"},\"glyph\":{\"id\":\"156555\"},\"group\":null,\"hover_glyph\":null,\"muted_glyph\":{\"id\":\"156561\"},\"nonselection_glyph\":{\"id\":\"156558\"},\"view\":{\"id\":\"156565\"}},\"id\":\"156564\",\"type\":\"GlyphRenderer\"},{\"attributes\":{},\"id\":\"156493\",\"type\":\"PanTool\"},{\"attributes\":{\"overlay\":{\"id\":\"156499\"}},\"id\":\"156495\",\"type\":\"BoxZoomTool\"},{\"attributes\":{},\"id\":\"159725\",\"type\":\"BasicTickFormatter\"},{\"attributes\":{},\"id\":\"156496\",\"type\":\"SaveTool\"},{\"attributes\":{},\"id\":\"156497\",\"type\":\"ResetTool\"},{\"attributes\":{},\"id\":\"159726\",\"type\":\"AllLabels\"},{\"attributes\":{\"high\":283.0,\"low\":0.0,\"palette\":[\"#0C0786\",\"#100787\",\"#130689\",\"#15068A\",\"#18068B\",\"#1B068C\",\"#1D068D\",\"#1F058E\",\"#21058F\",\"#230590\",\"#250591\",\"#270592\",\"#290593\",\"#2B0594\",\"#2D0494\",\"#2F0495\",\"#310496\",\"#330497\",\"#340498\",\"#360498\",\"#380499\",\"#3A049A\",\"#3B039A\",\"#3D039B\",\"#3F039C\",\"#40039C\",\"#42039D\",\"#44039E\",\"#45039E\",\"#47029F\",\"#49029F\",\"#4A02A0\",\"#4C02A1\",\"#4E02A1\",\"#4F02A2\",\"#5101A2\",\"#5201A3\",\"#5401A3\",\"#5601A3\",\"#5701A4\",\"#5901A4\",\"#5A00A5\",\"#5C00A5\",\"#5E00A5\",\"#5F00A6\",\"#6100A6\",\"#6200A6\",\"#6400A7\",\"#6500A7\",\"#6700A7\",\"#6800A7\",\"#6A00A7\",\"#6C00A8\",\"#6D00A8\",\"#6F00A8\",\"#7000A8\",\"#7200A8\",\"#7300A8\",\"#7500A8\",\"#7601A8\",\"#7801A8\",\"#7901A8\",\"#7B02A8\",\"#7C02A7\",\"#7E03A7\",\"#7F03A7\",\"#8104A7\",\"#8204A7\",\"#8405A6\",\"#8506A6\",\"#8607A6\",\"#8807A5\",\"#8908A5\",\"#8B09A4\",\"#8C0AA4\",\"#8E0CA4\",\"#8F0DA3\",\"#900EA3\",\"#920FA2\",\"#9310A1\",\"#9511A1\",\"#9612A0\",\"#9713A0\",\"#99149F\",\"#9A159E\",\"#9B179E\",\"#9D189D\",\"#9E199C\",\"#9F1A9B\",\"#A01B9B\",\"#A21C9A\",\"#A31D99\",\"#A41E98\",\"#A51F97\",\"#A72197\",\"#A82296\",\"#A92395\",\"#AA2494\",\"#AC2593\",\"#AD2692\",\"#AE2791\",\"#AF2890\",\"#B02A8F\",\"#B12B8F\",\"#B22C8E\",\"#B42D8D\",\"#B52E8C\",\"#B62F8B\",\"#B7308A\",\"#B83289\",\"#B93388\",\"#BA3487\",\"#BB3586\",\"#BC3685\",\"#BD3784\",\"#BE3883\",\"#BF3982\",\"#C03B81\",\"#C13C80\",\"#C23D80\",\"#C33E7F\",\"#C43F7E\",\"#C5407D\",\"#C6417C\",\"#C7427B\",\"#C8447A\",\"#C94579\",\"#CA4678\",\"#CB4777\",\"#CC4876\",\"#CD4975\",\"#CE4A75\",\"#CF4B74\",\"#D04D73\",\"#D14E72\",\"#D14F71\",\"#D25070\",\"#D3516F\",\"#D4526E\",\"#D5536D\",\"#D6556D\",\"#D7566C\",\"#D7576B\",\"#D8586A\",\"#D95969\",\"#DA5A68\",\"#DB5B67\",\"#DC5D66\",\"#DC5E66\",\"#DD5F65\",\"#DE6064\",\"#DF6163\",\"#DF6262\",\"#E06461\",\"#E16560\",\"#E26660\",\"#E3675F\",\"#E3685E\",\"#E46A5D\",\"#E56B5C\",\"#E56C5B\",\"#E66D5A\",\"#E76E5A\",\"#E87059\",\"#E87158\",\"#E97257\",\"#EA7356\",\"#EA7455\",\"#EB7654\",\"#EC7754\",\"#EC7853\",\"#ED7952\",\"#ED7B51\",\"#EE7C50\",\"#EF7D4F\",\"#EF7E4E\",\"#F0804D\",\"#F0814D\",\"#F1824C\",\"#F2844B\",\"#F2854A\",\"#F38649\",\"#F38748\",\"#F48947\",\"#F48A47\",\"#F58B46\",\"#F58D45\",\"#F68E44\",\"#F68F43\",\"#F69142\",\"#F79241\",\"#F79341\",\"#F89540\",\"#F8963F\",\"#F8983E\",\"#F9993D\",\"#F99A3C\",\"#FA9C3B\",\"#FA9D3A\",\"#FA9F3A\",\"#FAA039\",\"#FBA238\",\"#FBA337\",\"#FBA436\",\"#FCA635\",\"#FCA735\",\"#FCA934\",\"#FCAA33\",\"#FCAC32\",\"#FCAD31\",\"#FDAF31\",\"#FDB030\",\"#FDB22F\",\"#FDB32E\",\"#FDB52D\",\"#FDB62D\",\"#FDB82C\",\"#FDB92B\",\"#FDBB2B\",\"#FDBC2A\",\"#FDBE29\",\"#FDC029\",\"#FDC128\",\"#FDC328\",\"#FDC427\",\"#FDC626\",\"#FCC726\",\"#FCC926\",\"#FCCB25\",\"#FCCC25\",\"#FCCE25\",\"#FBD024\",\"#FBD124\",\"#FBD324\",\"#FAD524\",\"#FAD624\",\"#FAD824\",\"#F9D924\",\"#F9DB24\",\"#F8DD24\",\"#F8DF24\",\"#F7E024\",\"#F7E225\",\"#F6E425\",\"#F6E525\",\"#F5E726\",\"#F5E926\",\"#F4EA26\",\"#F3EC26\",\"#F3EE26\",\"#F2F026\",\"#F2F126\",\"#F1F326\",\"#F0F525\",\"#F0F623\",\"#EFF821\"]},\"id\":\"156550\",\"type\":\"LinearColorMapper\"},{\"attributes\":{\"bottom_units\":\"screen\",\"coordinates\":null,\"fill_alpha\":0.5,\"fill_color\":\"lightgrey\",\"group\":null,\"left_units\":\"screen\",\"level\":\"overlay\",\"line_alpha\":1.0,\"line_color\":\"black\",\"line_dash\":[4,4],\"line_width\":2,\"right_units\":\"screen\",\"syncable\":false,\"top_units\":\"screen\"},\"id\":\"156499\",\"type\":\"BoxAnnotation\"},{\"attributes\":{},\"id\":\"159727\",\"type\":\"NoOverlap\"},{\"attributes\":{\"tools\":[{\"id\":\"156493\"},{\"id\":\"156494\"},{\"id\":\"156495\"},{\"id\":\"156496\"},{\"id\":\"156497\"},{\"id\":\"156498\"}]},\"id\":\"156500\",\"type\":\"Toolbar\"},{\"attributes\":{},\"id\":\"159729\",\"type\":\"BasicTickFormatter\"},{\"attributes\":{},\"id\":\"159730\",\"type\":\"AllLabels\"},{\"attributes\":{\"color_mapper\":{\"id\":\"156556\"},\"dh\":{\"value\":7},\"dw\":{\"value\":200.0},\"image\":{\"field\":\"image\"},\"x\":{\"value\":0},\"y\":{\"value\":0}},\"id\":\"156555\",\"type\":\"Image\"},{\"attributes\":{\"below\":[{\"id\":\"156485\"}],\"center\":[{\"id\":\"156488\"},{\"id\":\"156492\"}],\"height\":115,\"left\":[{\"id\":\"156489\"}],\"renderers\":[{\"id\":\"156548\"}],\"right\":[{\"id\":\"156551\"}],\"title\":{\"id\":\"159721\"},\"toolbar\":{\"id\":\"156500\"},\"width\":190,\"x_range\":{\"id\":\"156477\"},\"x_scale\":{\"id\":\"156481\"},\"y_range\":{\"id\":\"156479\"},\"y_scale\":{\"id\":\"156483\"}},\"id\":\"156476\",\"subtype\":\"Figure\",\"type\":\"Plot\"},{\"attributes\":{\"color_mapper\":{\"id\":\"156540\"},\"dh\":{\"value\":7},\"dw\":{\"value\":10.0},\"image\":{\"field\":\"image\"},\"x\":{\"value\":0},\"y\":{\"value\":0}},\"id\":\"156539\",\"type\":\"Image\"},{\"attributes\":{\"color_mapper\":{\"id\":\"156566\"},\"coordinates\":null,\"group\":null,\"location\":[0,0],\"major_label_policy\":{\"id\":\"159733\"},\"width\":5},\"id\":\"156567\",\"type\":\"ColorBar\"},{\"attributes\":{\"source\":{\"id\":\"156554\"}},\"id\":\"156565\",\"type\":\"CDSView\"},{\"attributes\":{\"end\":10.0},\"id\":\"156477\",\"type\":\"Range1d\"},{\"attributes\":{},\"id\":\"159731\",\"type\":\"BasicTickFormatter\"},{\"attributes\":{},\"id\":\"159732\",\"type\":\"AllLabels\"},{\"attributes\":{\"high\":293.0,\"low\":0.0,\"palette\":[\"#0C0786\",\"#100787\",\"#130689\",\"#15068A\",\"#18068B\",\"#1B068C\",\"#1D068D\",\"#1F058E\",\"#21058F\",\"#230590\",\"#250591\",\"#270592\",\"#290593\",\"#2B0594\",\"#2D0494\",\"#2F0495\",\"#310496\",\"#330497\",\"#340498\",\"#360498\",\"#380499\",\"#3A049A\",\"#3B039A\",\"#3D039B\",\"#3F039C\",\"#40039C\",\"#42039D\",\"#44039E\",\"#45039E\",\"#47029F\",\"#49029F\",\"#4A02A0\",\"#4C02A1\",\"#4E02A1\",\"#4F02A2\",\"#5101A2\",\"#5201A3\",\"#5401A3\",\"#5601A3\",\"#5701A4\",\"#5901A4\",\"#5A00A5\",\"#5C00A5\",\"#5E00A5\",\"#5F00A6\",\"#6100A6\",\"#6200A6\",\"#6400A7\",\"#6500A7\",\"#6700A7\",\"#6800A7\",\"#6A00A7\",\"#6C00A8\",\"#6D00A8\",\"#6F00A8\",\"#7000A8\",\"#7200A8\",\"#7300A8\",\"#7500A8\",\"#7601A8\",\"#7801A8\",\"#7901A8\",\"#7B02A8\",\"#7C02A7\",\"#7E03A7\",\"#7F03A7\",\"#8104A7\",\"#8204A7\",\"#8405A6\",\"#8506A6\",\"#8607A6\",\"#8807A5\",\"#8908A5\",\"#8B09A4\",\"#8C0AA4\",\"#8E0CA4\",\"#8F0DA3\",\"#900EA3\",\"#920FA2\",\"#9310A1\",\"#9511A1\",\"#9612A0\",\"#9713A0\",\"#99149F\",\"#9A159E\",\"#9B179E\",\"#9D189D\",\"#9E199C\",\"#9F1A9B\",\"#A01B9B\",\"#A21C9A\",\"#A31D99\",\"#A41E98\",\"#A51F97\",\"#A72197\",\"#A82296\",\"#A92395\",\"#AA2494\",\"#AC2593\",\"#AD2692\",\"#AE2791\",\"#AF2890\",\"#B02A8F\",\"#B12B8F\",\"#B22C8E\",\"#B42D8D\",\"#B52E8C\",\"#B62F8B\",\"#B7308A\",\"#B83289\",\"#B93388\",\"#BA3487\",\"#BB3586\",\"#BC3685\",\"#BD3784\",\"#BE3883\",\"#BF3982\",\"#C03B81\",\"#C13C80\",\"#C23D80\",\"#C33E7F\",\"#C43F7E\",\"#C5407D\",\"#C6417C\",\"#C7427B\",\"#C8447A\",\"#C94579\",\"#CA4678\",\"#CB4777\",\"#CC4876\",\"#CD4975\",\"#CE4A75\",\"#CF4B74\",\"#D04D73\",\"#D14E72\",\"#D14F71\",\"#D25070\",\"#D3516F\",\"#D4526E\",\"#D5536D\",\"#D6556D\",\"#D7566C\",\"#D7576B\",\"#D8586A\",\"#D95969\",\"#DA5A68\",\"#DB5B67\",\"#DC5D66\",\"#DC5E66\",\"#DD5F65\",\"#DE6064\",\"#DF6163\",\"#DF6262\",\"#E06461\",\"#E16560\",\"#E26660\",\"#E3675F\",\"#E3685E\",\"#E46A5D\",\"#E56B5C\",\"#E56C5B\",\"#E66D5A\",\"#E76E5A\",\"#E87059\",\"#E87158\",\"#E97257\",\"#EA7356\",\"#EA7455\",\"#EB7654\",\"#EC7754\",\"#EC7853\",\"#ED7952\",\"#ED7B51\",\"#EE7C50\",\"#EF7D4F\",\"#EF7E4E\",\"#F0804D\",\"#F0814D\",\"#F1824C\",\"#F2844B\",\"#F2854A\",\"#F38649\",\"#F38748\",\"#F48947\",\"#F48A47\",\"#F58B46\",\"#F58D45\",\"#F68E44\",\"#F68F43\",\"#F69142\",\"#F79241\",\"#F79341\",\"#F89540\",\"#F8963F\",\"#F8983E\",\"#F9993D\",\"#F99A3C\",\"#FA9C3B\",\"#FA9D3A\",\"#FA9F3A\",\"#FAA039\",\"#FBA238\",\"#FBA337\",\"#FBA436\",\"#FCA635\",\"#FCA735\",\"#FCA934\",\"#FCAA33\",\"#FCAC32\",\"#FCAD31\",\"#FDAF31\",\"#FDB030\",\"#FDB22F\",\"#FDB32E\",\"#FDB52D\",\"#FDB62D\",\"#FDB82C\",\"#FDB92B\",\"#FDBB2B\",\"#FDBC2A\",\"#FDBE29\",\"#FDC029\",\"#FDC128\",\"#FDC328\",\"#FDC427\",\"#FDC626\",\"#FCC726\",\"#FCC926\",\"#FCCB25\",\"#FCCC25\",\"#FCCE25\",\"#FBD024\",\"#FBD124\",\"#FBD324\",\"#FAD524\",\"#FAD624\",\"#FAD824\",\"#F9D924\",\"#F9DB24\",\"#F8DD24\",\"#F8DF24\",\"#F7E024\",\"#F7E225\",\"#F6E425\",\"#F6E525\",\"#F5E726\",\"#F5E926\",\"#F4EA26\",\"#F3EC26\",\"#F3EE26\",\"#F2F026\",\"#F2F126\",\"#F1F326\",\"#F0F525\",\"#F0F623\",\"#EFF821\"]},\"id\":\"156566\",\"type\":\"LinearColorMapper\"},{\"attributes\":{},\"id\":\"159733\",\"type\":\"NoOverlap\"},{\"attributes\":{},\"id\":\"159735\",\"type\":\"BasicTickFormatter\"},{\"attributes\":{},\"id\":\"159736\",\"type\":\"AllLabels\"},{\"attributes\":{},\"id\":\"159737\",\"type\":\"UnionRenderers\"},{\"attributes\":{},\"id\":\"159738\",\"type\":\"Selection\"},{\"attributes\":{},\"id\":\"156527\",\"type\":\"SaveTool\"},{\"attributes\":{\"end\":7},\"id\":\"156479\",\"type\":\"Range1d\"},{\"attributes\":{\"palette\":[\"#0C0786\",\"#100787\",\"#130689\",\"#15068A\",\"#18068B\",\"#1B068C\",\"#1D068D\",\"#1F058E\",\"#21058F\",\"#230590\",\"#250591\",\"#270592\",\"#290593\",\"#2B0594\",\"#2D0494\",\"#2F0495\",\"#310496\",\"#330497\",\"#340498\",\"#360498\",\"#380499\",\"#3A049A\",\"#3B039A\",\"#3D039B\",\"#3F039C\",\"#40039C\",\"#42039D\",\"#44039E\",\"#45039E\",\"#47029F\",\"#49029F\",\"#4A02A0\",\"#4C02A1\",\"#4E02A1\",\"#4F02A2\",\"#5101A2\",\"#5201A3\",\"#5401A3\",\"#5601A3\",\"#5701A4\",\"#5901A4\",\"#5A00A5\",\"#5C00A5\",\"#5E00A5\",\"#5F00A6\",\"#6100A6\",\"#6200A6\",\"#6400A7\",\"#6500A7\",\"#6700A7\",\"#6800A7\",\"#6A00A7\",\"#6C00A8\",\"#6D00A8\",\"#6F00A8\",\"#7000A8\",\"#7200A8\",\"#7300A8\",\"#7500A8\",\"#7601A8\",\"#7801A8\",\"#7901A8\",\"#7B02A8\",\"#7C02A7\",\"#7E03A7\",\"#7F03A7\",\"#8104A7\",\"#8204A7\",\"#8405A6\",\"#8506A6\",\"#8607A6\",\"#8807A5\",\"#8908A5\",\"#8B09A4\",\"#8C0AA4\",\"#8E0CA4\",\"#8F0DA3\",\"#900EA3\",\"#920FA2\",\"#9310A1\",\"#9511A1\",\"#9612A0\",\"#9713A0\",\"#99149F\",\"#9A159E\",\"#9B179E\",\"#9D189D\",\"#9E199C\",\"#9F1A9B\",\"#A01B9B\",\"#A21C9A\",\"#A31D99\",\"#A41E98\",\"#A51F97\",\"#A72197\",\"#A82296\",\"#A92395\",\"#AA2494\",\"#AC2593\",\"#AD2692\",\"#AE2791\",\"#AF2890\",\"#B02A8F\",\"#B12B8F\",\"#B22C8E\",\"#B42D8D\",\"#B52E8C\",\"#B62F8B\",\"#B7308A\",\"#B83289\",\"#B93388\",\"#BA3487\",\"#BB3586\",\"#BC3685\",\"#BD3784\",\"#BE3883\",\"#BF3982\",\"#C03B81\",\"#C13C80\",\"#C23D80\",\"#C33E7F\",\"#C43F7E\",\"#C5407D\",\"#C6417C\",\"#C7427B\",\"#C8447A\",\"#C94579\",\"#CA4678\",\"#CB4777\",\"#CC4876\",\"#CD4975\",\"#CE4A75\",\"#CF4B74\",\"#D04D73\",\"#D14E72\",\"#D14F71\",\"#D25070\",\"#D3516F\",\"#D4526E\",\"#D5536D\",\"#D6556D\",\"#D7566C\",\"#D7576B\",\"#D8586A\",\"#D95969\",\"#DA5A68\",\"#DB5B67\",\"#DC5D66\",\"#DC5E66\",\"#DD5F65\",\"#DE6064\",\"#DF6163\",\"#DF6262\",\"#E06461\",\"#E16560\",\"#E26660\",\"#E3675F\",\"#E3685E\",\"#E46A5D\",\"#E56B5C\",\"#E56C5B\",\"#E66D5A\",\"#E76E5A\",\"#E87059\",\"#E87158\",\"#E97257\",\"#EA7356\",\"#EA7455\",\"#EB7654\",\"#EC7754\",\"#EC7853\",\"#ED7952\",\"#ED7B51\",\"#EE7C50\",\"#EF7D4F\",\"#EF7E4E\",\"#F0804D\",\"#F0814D\",\"#F1824C\",\"#F2844B\",\"#F2854A\",\"#F38649\",\"#F38748\",\"#F48947\",\"#F48A47\",\"#F58B46\",\"#F58D45\",\"#F68E44\",\"#F68F43\",\"#F69142\",\"#F79241\",\"#F79341\",\"#F89540\",\"#F8963F\",\"#F8983E\",\"#F9993D\",\"#F99A3C\",\"#FA9C3B\",\"#FA9D3A\",\"#FA9F3A\",\"#FAA039\",\"#FBA238\",\"#FBA337\",\"#FBA436\",\"#FCA635\",\"#FCA735\",\"#FCA934\",\"#FCAA33\",\"#FCAC32\",\"#FCAD31\",\"#FDAF31\",\"#FDB030\",\"#FDB22F\",\"#FDB32E\",\"#FDB52D\",\"#FDB62D\",\"#FDB82C\",\"#FDB92B\",\"#FDBB2B\",\"#FDBC2A\",\"#FDBE29\",\"#FDC029\",\"#FDC128\",\"#FDC328\",\"#FDC427\",\"#FDC626\",\"#FCC726\",\"#FCC926\",\"#FCCB25\",\"#FCCC25\",\"#FCCE25\",\"#FBD024\",\"#FBD124\",\"#FBD324\",\"#FAD524\",\"#FAD624\",\"#FAD824\",\"#F9D924\",\"#F9DB24\",\"#F8DD24\",\"#F8DF24\",\"#F7E024\",\"#F7E225\",\"#F6E425\",\"#F6E525\",\"#F5E726\",\"#F5E926\",\"#F4EA26\",\"#F3EC26\",\"#F3EE26\",\"#F2F026\",\"#F2F126\",\"#F1F326\",\"#F0F525\",\"#F0F623\",\"#EFF821\"]},\"id\":\"156543\",\"type\":\"LinearColorMapper\"},{\"attributes\":{\"overlay\":{\"id\":\"156530\"}},\"id\":\"156526\",\"type\":\"BoxZoomTool\"},{\"attributes\":{\"below\":[{\"id\":\"156516\"}],\"center\":[{\"id\":\"156519\"},{\"id\":\"156523\"}],\"height\":115,\"left\":[{\"id\":\"156520\"}],\"renderers\":[{\"id\":\"156564\"}],\"right\":[{\"id\":\"156567\"}],\"title\":{\"id\":\"159723\"},\"toolbar\":{\"id\":\"156531\"},\"width\":190,\"x_range\":{\"id\":\"156508\"},\"x_scale\":{\"id\":\"156512\"},\"y_range\":{\"id\":\"156510\"},\"y_scale\":{\"id\":\"156514\"}},\"id\":\"156507\",\"subtype\":\"Figure\",\"type\":\"Plot\"},{\"attributes\":{},\"id\":\"156481\",\"type\":\"LinearScale\"},{\"attributes\":{\"color_mapper\":{\"id\":\"156543\"},\"dh\":{\"value\":7},\"dw\":{\"value\":10.0},\"global_alpha\":{\"value\":0.1},\"image\":{\"field\":\"image\"},\"x\":{\"value\":0},\"y\":{\"value\":0}},\"id\":\"156542\",\"type\":\"Image\"},{\"attributes\":{\"axis\":{\"id\":\"156485\"},\"coordinates\":null,\"group\":null,\"ticker\":null},\"id\":\"156488\",\"type\":\"Grid\"},{\"attributes\":{},\"id\":\"156486\",\"type\":\"BasicTicker\"},{\"attributes\":{\"coordinates\":null,\"formatter\":{\"id\":\"159729\"},\"group\":null,\"major_label_policy\":{\"id\":\"159730\"},\"major_label_text_font_size\":\"10pt\",\"ticker\":{\"id\":\"156486\"}},\"id\":\"156485\",\"type\":\"LinearAxis\"},{\"attributes\":{},\"id\":\"156525\",\"type\":\"WheelZoomTool\"},{\"attributes\":{},\"id\":\"156483\",\"type\":\"LinearScale\"}],\"root_ids\":[\"156570\"]},\"title\":\"Bokeh Application\",\"version\":\"2.4.1\"}};\n",
       "  const render_items = [{\"docid\":\"90c1080f-bda5-46a1-bb9c-808b70733a19\",\"root_ids\":[\"156570\"],\"roots\":{\"156570\":\"97aa7c46-53eb-48e8-9944-c39371687f58\"}}];\n",
       "  root.Bokeh.embed.embed_items_notebook(docs_json, render_items);\n",
       "\n",
       "  }\n",
       "  if (root.Bokeh !== undefined) {\n",
       "    embed_document(root);\n",
       "  } else {\n",
       "    let attempts = 0;\n",
       "    const timer = setInterval(function(root) {\n",
       "      if (root.Bokeh !== undefined) {\n",
       "        clearInterval(timer);\n",
       "        embed_document(root);\n",
       "      } else {\n",
       "        attempts++;\n",
       "        if (attempts > 100) {\n",
       "          clearInterval(timer);\n",
       "          console.log(\"Bokeh: ERROR: Unable to run BokehJS code because BokehJS library is missing\");\n",
       "        }\n",
       "      }\n",
       "    }, 10, root)\n",
       "  }\n",
       "})(window);"
      ],
      "application/vnd.bokehjs_exec.v0+json": ""
     },
     "metadata": {
      "application/vnd.bokehjs_exec.v0+json": {
       "id": "156570"
      }
     },
     "output_type": "display_data"
    }
   ],
   "source": [
    "# Set up plots for publication\n",
    "# For two digits 260 by 115 larger and 144 by 115 for half size\n",
    "# For three digits 266 by 115 larger and 150 by 115 for half size\n",
    "fig_size = [190, 115] # for paper size (144, 110) # for larger size (144,144)\n",
    "y_range = (0, 7)\n",
    "#palette = \"Spectral11\"\n",
    "palette = \"Plasma256\"\n",
    "\n",
    "x_range = (0, bin1[-1])\n",
    "plots[0] = bokeh.plotting.figure(plot_width=fig_size[0], plot_height=fig_size[1],\n",
    "                          x_range=x_range,y_range=y_range\n",
    "                          )\n",
    "plots[0].axis.major_label_text_font_size = \"10pt\"\n",
    "\n",
    "x_range = (0, bin2[-1])\n",
    "plots[1] = bokeh.plotting.figure(plot_width=fig_size[0], plot_height=fig_size[1],\n",
    "                          x_range=x_range,y_range=y_range\n",
    "                          )\n",
    "plots[1].axis.major_label_text_font_size = \"10pt\"\n",
    "\n",
    "# must give a vector of image data for image parameter\n",
    "# Ploting distributions of peak time\n",
    "plots[0].image(image=[out1[1:,:]], x=0, y=0, dw=bin1[-1], dh=7, palette=palette)\n",
    "color = LinearColorMapper(palette = palette, low = out1.min(), high = out1.max())\n",
    "cb = ColorBar(color_mapper = color, location = (0,0), width=5)\n",
    "plots[0].add_layout(cb, 'right')\n",
    "#plots[0].yaxis.ticker = (0.5,1.5,2.5, 3.5, 4.5, 5.5, 6.5)\n",
    "plots[0].yaxis.ticker = list(np.linspace(0.5,6.5,7))\n",
    "\n",
    "# Ploting distributions of peak/s amplitude\n",
    "plots[1].image(image=[out2[1:,:]], x=0, y=0, dw=bin2[-1], dh=7, palette=palette)\n",
    "color = LinearColorMapper(palette = palette, low = out2.min(), high = out2.max())\n",
    "cb = ColorBar(color_mapper = color, location = (0,0), width=5)\n",
    "plots[1].add_layout(cb, 'right')\n",
    "plots[1].yaxis.ticker = list(np.linspace(0.5,6.5,7))\n",
    "\n",
    "bokeh.io.show(bokeh.layouts.row(plots))"
   ]
  },
  {
   "cell_type": "markdown",
   "metadata": {
    "id": "Ekq23rP1LDb3"
   },
   "source": [
    "In the next code, we compute the distributions for different parameters and compare them in a heat plot. Here, we vary the switching rate $r$"
   ]
  },
  {
   "cell_type": "code",
   "execution_count": 88,
   "metadata": {
    "id": "M4i1Gj3VqgeE"
   },
   "outputs": [
    {
     "name": "stderr",
     "output_type": "stream",
     "text": [
      " 98%|█████████▊| 123/125 [00:32<00:00,  3.97it/s]\n",
      "100%|██████████| 125/125 [00:32<00:00,  3.82it/s]\n",
      "100%|██████████| 125/125 [00:33<00:00,  3.78it/s]\n",
      "100%|██████████| 125/125 [00:33<00:00,  3.77it/s]\n",
      "100%|██████████| 125/125 [00:30<00:00,  4.15it/s]\n",
      "100%|██████████| 125/125 [00:30<00:00,  4.12it/s]\n",
      "100%|██████████| 125/125 [00:30<00:00,  4.08it/s]\n",
      "\n",
      "100%|██████████| 125/125 [00:28<00:00,  4.46it/s]\n",
      "100%|██████████| 125/125 [00:28<00:00,  4.44it/s]\n",
      "100%|██████████| 125/125 [00:28<00:00,  4.43it/s]\n",
      "100%|██████████| 125/125 [00:28<00:00,  4.43it/s]\n",
      "100%|██████████| 125/125 [00:24<00:00,  5.17it/s]\n",
      "\n",
      "100%|██████████| 125/125 [00:24<00:00,  5.19it/s]\n",
      "100%|██████████| 125/125 [00:24<00:00,  5.17it/s]\n",
      "100%|██████████| 125/125 [00:19<00:00,  6.32it/s]\n",
      "100%|██████████| 125/125 [00:19<00:00,  6.31it/s]\n",
      "100%|██████████| 125/125 [00:19<00:00,  6.29it/s]\n",
      "\n",
      "100%|██████████| 125/125 [00:25<00:00,  4.88it/s]\n",
      "100%|██████████| 125/125 [00:25<00:00,  4.88it/s]\n",
      "100%|██████████| 125/125 [00:25<00:00,  4.83it/s]\n",
      "\n",
      "100%|██████████| 125/125 [00:25<00:00,  4.97it/s]\n",
      "100%|██████████| 125/125 [00:25<00:00,  4.93it/s]\n",
      "100%|██████████| 125/125 [00:25<00:00,  4.91it/s]\n",
      "100%|██████████| 125/125 [00:25<00:00,  4.88it/s]\n"
     ]
    }
   ],
   "source": [
    "args = (th, rh, ph, d, g, gd, a0, d0, r, Omega, n)\n",
    "time_points = np.linspace(0, 10, 51)\n",
    "population_0 = np.zeros(9, dtype=int)\n",
    "population_0[0] = n\n",
    "\n",
    "size = 125 #125\n",
    "param = (8)\n",
    "scale = (1./4, 1./3, 1./2, 1., 2.,3., 4.)\n",
    "idx = 7 # Concentration of recombinase\n",
    "\n",
    "bin3 = np.linspace(0,10,21)\n",
    "out3 = np.zeros(bin3.shape[0]-1)\n",
    "\n",
    "bin4 = np.linspace(0,200,25)\n",
    "out4 = np.zeros(bin4.shape[0]-1)\n",
    "\n",
    "args_i = np.array((th, rh, ph, d, g, gd, a0, d0, r, Omega, n))\n",
    "for fac in scale:\n",
    "    # Update model para\n",
    "    args_i[param] = args[param]*fac\n",
    "    samples = biocircuits.gillespie_ssa(simple_propensity, simple_update, population_0,time_points, size=size, args=tuple(args_i), n_threads=4,progress_bar=True)\n",
    "               \n",
    "    Tf, Af = Find_A_t(time_points,samples, idx)\n",
    "    hist, bin_edges = np.histogram(Tf, bin3, density=False)\n",
    "    out3 = np.vstack((out3,hist))\n",
    "        \n",
    "    hist, bin_edges = np.histogram(Af, bin4, density=False)\n",
    "    out4 = np.vstack((out4,hist))"
   ]
  },
  {
   "cell_type": "code",
   "execution_count": 89,
   "metadata": {
    "id": "kY29OtEALDb4",
    "outputId": "5392ad36-a825-4254-a239-4c341d075b4f"
   },
   "outputs": [
    {
     "data": {
      "text/html": [
       "\n",
       "\n",
       "\n",
       "\n",
       "\n",
       "\n",
       "  <div class=\"bk-root\" id=\"23468971-f285-44de-8ebf-4e9b489d4d89\" data-root-id=\"159947\"></div>\n"
      ]
     },
     "metadata": {},
     "output_type": "display_data"
    },
    {
     "data": {
      "application/javascript": [
       "(function(root) {\n",
       "  function embed_document(root) {\n",
       "    \n",
       "  const docs_json = {\"08a13ea8-4387-4b44-bdde-6c4e48ae85ba\":{\"defs\":[],\"roots\":{\"references\":[{\"attributes\":{\"children\":[{\"id\":\"159853\"},{\"id\":\"159884\"}]},\"id\":\"159947\",\"type\":\"Row\"},{\"attributes\":{\"axis\":{\"id\":\"159866\"},\"coordinates\":null,\"dimension\":1,\"group\":null,\"ticker\":null},\"id\":\"159869\",\"type\":\"Grid\"},{\"attributes\":{},\"id\":\"159858\",\"type\":\"LinearScale\"},{\"attributes\":{},\"id\":\"159889\",\"type\":\"LinearScale\"},{\"attributes\":{},\"id\":\"159870\",\"type\":\"PanTool\"},{\"attributes\":{},\"id\":\"159874\",\"type\":\"ResetTool\"},{\"attributes\":{\"axis\":{\"id\":\"159862\"},\"coordinates\":null,\"group\":null,\"ticker\":null},\"id\":\"159865\",\"type\":\"Grid\"},{\"attributes\":{},\"id\":\"159863\",\"type\":\"BasicTicker\"},{\"attributes\":{\"end\":7},\"id\":\"159887\",\"type\":\"Range1d\"},{\"attributes\":{\"bottom_units\":\"screen\",\"coordinates\":null,\"fill_alpha\":0.5,\"fill_color\":\"lightgrey\",\"group\":null,\"left_units\":\"screen\",\"level\":\"overlay\",\"line_alpha\":1.0,\"line_color\":\"black\",\"line_dash\":[4,4],\"line_width\":2,\"right_units\":\"screen\",\"syncable\":false,\"top_units\":\"screen\"},\"id\":\"159876\",\"type\":\"BoxAnnotation\"},{\"attributes\":{\"overlay\":{\"id\":\"159876\"}},\"id\":\"159872\",\"type\":\"BoxZoomTool\"},{\"attributes\":{\"tools\":[{\"id\":\"159870\"},{\"id\":\"159871\"},{\"id\":\"159872\"},{\"id\":\"159873\"},{\"id\":\"159874\"},{\"id\":\"159875\"}]},\"id\":\"159877\",\"type\":\"Toolbar\"},{\"attributes\":{},\"id\":\"159871\",\"type\":\"WheelZoomTool\"},{\"attributes\":{\"data\":{\"image\":[{\"__ndarray__\":\"AAAAAAAAAAAAAAAAAABJQAAAAAAAwF9AAAAAAAAARkAAAAAAAABEQAAAAAAAAEBAAAAAAAAAQ0AAAAAAAAAzQAAAAAAAADFAAAAAAAAAJEAAAAAAAAAxQAAAAAAAADFAAAAAAAAALkAAAAAAAAAgQAAAAAAAACpAAAAAAAAAIkAAAAAAAAAkQAAAAAAAACJAAAAAAAAAJEAAAAAAAAAuQAAAAAAAAAAAAAAAAACARUAAAAAAACBhQAAAAAAAAEZAAAAAAAAATUAAAAAAAAA3QAAAAAAAgERAAAAAAAAAM0AAAAAAAAA6QAAAAAAAADBAAAAAAAAAMUAAAAAAAAAmQAAAAAAAAC5AAAAAAAAAFEAAAAAAAAAYQAAAAAAAACZAAAAAAAAAIkAAAAAAAAAYQAAAAAAAABxAAAAAAAAAGEAAAAAAAAAAAAAAAAAAgE9AAAAAAADAY0AAAAAAAABPQAAAAAAAgEZAAAAAAAAAO0AAAAAAAABEQAAAAAAAAChAAAAAAAAAOkAAAAAAAAAyQAAAAAAAACZAAAAAAAAAHEAAAAAAAAAkQAAAAAAAAABAAAAAAAAAIEAAAAAAAADwPwAAAAAAABBAAAAAAAAAEEAAAAAAAAAAQAAAAAAAAAAAAAAAAAAA8D8AAAAAAABSQAAAAAAAAGlAAAAAAACAUEAAAAAAAIBFQAAAAAAAAD9AAAAAAAAAQUAAAAAAAAAmQAAAAAAAACpAAAAAAAAAIkAAAAAAAAAkQAAAAAAAABRAAAAAAAAAAAAAAAAAAAAAQAAAAAAAAAAAAAAAAAAAAAAAAAAAAAAAQAAAAAAAAAAAAAAAAAAAAAAAAAAAAADwPwAAAAAAAPA/AAAAAAAAWUAAAAAAAKBtQAAAAAAAAE5AAAAAAAAASkAAAAAAAAAsQAAAAAAAADFAAAAAAAAACEAAAAAAAAAUQAAAAAAAAAhAAAAAAAAAEEAAAAAAAADwPwAAAAAAAPA/AAAAAAAAAAAAAAAAAAAAAAAAAAAAAPA/AAAAAAAA8D8AAAAAAAAAAAAAAAAAAAAAAAAAAAAAAAAAAAAAAAAAAAAAAAAAQFhAAAAAAADAb0AAAAAAAIBQQAAAAAAAgEVAAAAAAAAAKkAAAAAAAAAkQAAAAAAAACJAAAAAAAAAFEAAAAAAAADwPwAAAAAAAAAAAAAAAAAAAEAAAAAAAAAAAAAAAAAAAAAAAAAAAAAAAAAAAAAAAAAAAAAAAAAAAAAAAAAAAAAAAAAAAAAAAAAAAAAAAAAAAAAAAAAAAAAAAAAAAAAAAMBdQAAAAAAAoG9AAAAAAACATkAAAAAAAIBBQAAAAAAAAChAAAAAAAAAIkAAAAAAAAAQQAAAAAAAAABAAAAAAAAA8D8AAAAAAAAIQAAAAAAAAPA/AAAAAAAAAAAAAAAAAAAAAAAAAAAAAAAAAAAAAAAAAAAAAAAAAAAAAAAAAAAAAAAAAAAAAAAAAAAAAAAAAAAAAA==\",\"dtype\":\"float64\",\"order\":\"little\",\"shape\":[7,20]}]},\"selected\":{\"id\":\"163137\"},\"selection_policy\":{\"id\":\"163136\"}},\"id\":\"159915\",\"type\":\"ColumnDataSource\"},{\"attributes\":{\"high\":254.0,\"low\":0.0,\"palette\":[\"#0C0786\",\"#100787\",\"#130689\",\"#15068A\",\"#18068B\",\"#1B068C\",\"#1D068D\",\"#1F058E\",\"#21058F\",\"#230590\",\"#250591\",\"#270592\",\"#290593\",\"#2B0594\",\"#2D0494\",\"#2F0495\",\"#310496\",\"#330497\",\"#340498\",\"#360498\",\"#380499\",\"#3A049A\",\"#3B039A\",\"#3D039B\",\"#3F039C\",\"#40039C\",\"#42039D\",\"#44039E\",\"#45039E\",\"#47029F\",\"#49029F\",\"#4A02A0\",\"#4C02A1\",\"#4E02A1\",\"#4F02A2\",\"#5101A2\",\"#5201A3\",\"#5401A3\",\"#5601A3\",\"#5701A4\",\"#5901A4\",\"#5A00A5\",\"#5C00A5\",\"#5E00A5\",\"#5F00A6\",\"#6100A6\",\"#6200A6\",\"#6400A7\",\"#6500A7\",\"#6700A7\",\"#6800A7\",\"#6A00A7\",\"#6C00A8\",\"#6D00A8\",\"#6F00A8\",\"#7000A8\",\"#7200A8\",\"#7300A8\",\"#7500A8\",\"#7601A8\",\"#7801A8\",\"#7901A8\",\"#7B02A8\",\"#7C02A7\",\"#7E03A7\",\"#7F03A7\",\"#8104A7\",\"#8204A7\",\"#8405A6\",\"#8506A6\",\"#8607A6\",\"#8807A5\",\"#8908A5\",\"#8B09A4\",\"#8C0AA4\",\"#8E0CA4\",\"#8F0DA3\",\"#900EA3\",\"#920FA2\",\"#9310A1\",\"#9511A1\",\"#9612A0\",\"#9713A0\",\"#99149F\",\"#9A159E\",\"#9B179E\",\"#9D189D\",\"#9E199C\",\"#9F1A9B\",\"#A01B9B\",\"#A21C9A\",\"#A31D99\",\"#A41E98\",\"#A51F97\",\"#A72197\",\"#A82296\",\"#A92395\",\"#AA2494\",\"#AC2593\",\"#AD2692\",\"#AE2791\",\"#AF2890\",\"#B02A8F\",\"#B12B8F\",\"#B22C8E\",\"#B42D8D\",\"#B52E8C\",\"#B62F8B\",\"#B7308A\",\"#B83289\",\"#B93388\",\"#BA3487\",\"#BB3586\",\"#BC3685\",\"#BD3784\",\"#BE3883\",\"#BF3982\",\"#C03B81\",\"#C13C80\",\"#C23D80\",\"#C33E7F\",\"#C43F7E\",\"#C5407D\",\"#C6417C\",\"#C7427B\",\"#C8447A\",\"#C94579\",\"#CA4678\",\"#CB4777\",\"#CC4876\",\"#CD4975\",\"#CE4A75\",\"#CF4B74\",\"#D04D73\",\"#D14E72\",\"#D14F71\",\"#D25070\",\"#D3516F\",\"#D4526E\",\"#D5536D\",\"#D6556D\",\"#D7566C\",\"#D7576B\",\"#D8586A\",\"#D95969\",\"#DA5A68\",\"#DB5B67\",\"#DC5D66\",\"#DC5E66\",\"#DD5F65\",\"#DE6064\",\"#DF6163\",\"#DF6262\",\"#E06461\",\"#E16560\",\"#E26660\",\"#E3675F\",\"#E3685E\",\"#E46A5D\",\"#E56B5C\",\"#E56C5B\",\"#E66D5A\",\"#E76E5A\",\"#E87059\",\"#E87158\",\"#E97257\",\"#EA7356\",\"#EA7455\",\"#EB7654\",\"#EC7754\",\"#EC7853\",\"#ED7952\",\"#ED7B51\",\"#EE7C50\",\"#EF7D4F\",\"#EF7E4E\",\"#F0804D\",\"#F0814D\",\"#F1824C\",\"#F2844B\",\"#F2854A\",\"#F38649\",\"#F38748\",\"#F48947\",\"#F48A47\",\"#F58B46\",\"#F58D45\",\"#F68E44\",\"#F68F43\",\"#F69142\",\"#F79241\",\"#F79341\",\"#F89540\",\"#F8963F\",\"#F8983E\",\"#F9993D\",\"#F99A3C\",\"#FA9C3B\",\"#FA9D3A\",\"#FA9F3A\",\"#FAA039\",\"#FBA238\",\"#FBA337\",\"#FBA436\",\"#FCA635\",\"#FCA735\",\"#FCA934\",\"#FCAA33\",\"#FCAC32\",\"#FCAD31\",\"#FDAF31\",\"#FDB030\",\"#FDB22F\",\"#FDB32E\",\"#FDB52D\",\"#FDB62D\",\"#FDB82C\",\"#FDB92B\",\"#FDBB2B\",\"#FDBC2A\",\"#FDBE29\",\"#FDC029\",\"#FDC128\",\"#FDC328\",\"#FDC427\",\"#FDC626\",\"#FCC726\",\"#FCC926\",\"#FCCB25\",\"#FCCC25\",\"#FCCE25\",\"#FBD024\",\"#FBD124\",\"#FBD324\",\"#FAD524\",\"#FAD624\",\"#FAD824\",\"#F9D924\",\"#F9DB24\",\"#F8DD24\",\"#F8DF24\",\"#F7E024\",\"#F7E225\",\"#F6E425\",\"#F6E525\",\"#F5E726\",\"#F5E926\",\"#F4EA26\",\"#F3EC26\",\"#F3EE26\",\"#F2F026\",\"#F2F126\",\"#F1F326\",\"#F0F525\",\"#F0F623\",\"#EFF821\"]},\"id\":\"159927\",\"type\":\"LinearColorMapper\"},{\"attributes\":{\"end\":7},\"id\":\"159856\",\"type\":\"Range1d\"},{\"attributes\":{\"end\":200.0},\"id\":\"159885\",\"type\":\"Range1d\"},{\"attributes\":{\"coordinates\":null,\"formatter\":{\"id\":\"163124\"},\"group\":null,\"major_label_policy\":{\"id\":\"163125\"},\"major_label_text_font_size\":\"10pt\",\"ticker\":{\"id\":\"159929\"}},\"id\":\"159866\",\"type\":\"LinearAxis\"},{\"attributes\":{},\"id\":\"159891\",\"type\":\"LinearScale\"},{\"attributes\":{},\"id\":\"159875\",\"type\":\"HelpTool\"},{\"attributes\":{},\"id\":\"159873\",\"type\":\"SaveTool\"},{\"attributes\":{},\"id\":\"159860\",\"type\":\"LinearScale\"},{\"attributes\":{\"coordinates\":null,\"formatter\":{\"id\":\"163128\"},\"group\":null,\"major_label_policy\":{\"id\":\"163129\"},\"major_label_text_font_size\":\"10pt\",\"ticker\":{\"id\":\"159863\"}},\"id\":\"159862\",\"type\":\"LinearAxis\"},{\"attributes\":{},\"id\":\"163131\",\"type\":\"AllLabels\"},{\"attributes\":{\"color_mapper\":{\"id\":\"159917\"},\"dh\":{\"value\":7},\"dw\":{\"value\":10.0},\"image\":{\"field\":\"image\"},\"x\":{\"value\":0},\"y\":{\"value\":0}},\"id\":\"159916\",\"type\":\"Image\"},{\"attributes\":{},\"id\":\"163132\",\"type\":\"NoOverlap\"},{\"attributes\":{\"below\":[{\"id\":\"159893\"}],\"center\":[{\"id\":\"159896\"},{\"id\":\"159900\"}],\"height\":115,\"left\":[{\"id\":\"159897\"}],\"renderers\":[{\"id\":\"159941\"}],\"right\":[{\"id\":\"159944\"}],\"title\":{\"id\":\"163122\"},\"toolbar\":{\"id\":\"159908\"},\"width\":190,\"x_range\":{\"id\":\"159885\"},\"x_scale\":{\"id\":\"159889\"},\"y_range\":{\"id\":\"159887\"},\"y_scale\":{\"id\":\"159891\"}},\"id\":\"159884\",\"subtype\":\"Figure\",\"type\":\"Plot\"},{\"attributes\":{},\"id\":\"163134\",\"type\":\"BasicTickFormatter\"},{\"attributes\":{\"end\":10.0},\"id\":\"159854\",\"type\":\"Range1d\"},{\"attributes\":{\"below\":[{\"id\":\"159862\"}],\"center\":[{\"id\":\"159865\"},{\"id\":\"159869\"}],\"height\":115,\"left\":[{\"id\":\"159866\"}],\"renderers\":[{\"id\":\"159925\"}],\"right\":[{\"id\":\"159928\"}],\"title\":{\"id\":\"163120\"},\"toolbar\":{\"id\":\"159877\"},\"width\":190,\"x_range\":{\"id\":\"159854\"},\"x_scale\":{\"id\":\"159858\"},\"y_range\":{\"id\":\"159856\"},\"y_scale\":{\"id\":\"159860\"}},\"id\":\"159853\",\"subtype\":\"Figure\",\"type\":\"Plot\"},{\"attributes\":{\"tools\":[{\"id\":\"159901\"},{\"id\":\"159902\"},{\"id\":\"159903\"},{\"id\":\"159904\"},{\"id\":\"159905\"},{\"id\":\"159906\"}]},\"id\":\"159908\",\"type\":\"Toolbar\"},{\"attributes\":{},\"id\":\"163135\",\"type\":\"AllLabels\"},{\"attributes\":{\"coordinates\":null,\"formatter\":{\"id\":\"163134\"},\"group\":null,\"major_label_policy\":{\"id\":\"163135\"},\"major_label_text_font_size\":\"10pt\",\"ticker\":{\"id\":\"159894\"}},\"id\":\"159893\",\"type\":\"LinearAxis\"},{\"attributes\":{},\"id\":\"163125\",\"type\":\"AllLabels\"},{\"attributes\":{},\"id\":\"159894\",\"type\":\"BasicTicker\"},{\"attributes\":{},\"id\":\"159906\",\"type\":\"HelpTool\"},{\"attributes\":{\"coordinates\":null,\"formatter\":{\"id\":\"163130\"},\"group\":null,\"major_label_policy\":{\"id\":\"163131\"},\"major_label_text_font_size\":\"10pt\",\"ticker\":{\"id\":\"159945\"}},\"id\":\"159897\",\"type\":\"LinearAxis\"},{\"attributes\":{\"bottom_units\":\"screen\",\"coordinates\":null,\"fill_alpha\":0.5,\"fill_color\":\"lightgrey\",\"group\":null,\"left_units\":\"screen\",\"level\":\"overlay\",\"line_alpha\":1.0,\"line_color\":\"black\",\"line_dash\":[4,4],\"line_width\":2,\"right_units\":\"screen\",\"syncable\":false,\"top_units\":\"screen\"},\"id\":\"159907\",\"type\":\"BoxAnnotation\"},{\"attributes\":{},\"id\":\"163126\",\"type\":\"NoOverlap\"},{\"attributes\":{},\"id\":\"159905\",\"type\":\"ResetTool\"},{\"attributes\":{},\"id\":\"163136\",\"type\":\"UnionRenderers\"},{\"attributes\":{},\"id\":\"159904\",\"type\":\"SaveTool\"},{\"attributes\":{},\"id\":\"163137\",\"type\":\"Selection\"},{\"attributes\":{\"overlay\":{\"id\":\"159907\"}},\"id\":\"159903\",\"type\":\"BoxZoomTool\"},{\"attributes\":{},\"id\":\"159901\",\"type\":\"PanTool\"},{\"attributes\":{},\"id\":\"159902\",\"type\":\"WheelZoomTool\"},{\"attributes\":{\"palette\":[\"#0C0786\",\"#100787\",\"#130689\",\"#15068A\",\"#18068B\",\"#1B068C\",\"#1D068D\",\"#1F058E\",\"#21058F\",\"#230590\",\"#250591\",\"#270592\",\"#290593\",\"#2B0594\",\"#2D0494\",\"#2F0495\",\"#310496\",\"#330497\",\"#340498\",\"#360498\",\"#380499\",\"#3A049A\",\"#3B039A\",\"#3D039B\",\"#3F039C\",\"#40039C\",\"#42039D\",\"#44039E\",\"#45039E\",\"#47029F\",\"#49029F\",\"#4A02A0\",\"#4C02A1\",\"#4E02A1\",\"#4F02A2\",\"#5101A2\",\"#5201A3\",\"#5401A3\",\"#5601A3\",\"#5701A4\",\"#5901A4\",\"#5A00A5\",\"#5C00A5\",\"#5E00A5\",\"#5F00A6\",\"#6100A6\",\"#6200A6\",\"#6400A7\",\"#6500A7\",\"#6700A7\",\"#6800A7\",\"#6A00A7\",\"#6C00A8\",\"#6D00A8\",\"#6F00A8\",\"#7000A8\",\"#7200A8\",\"#7300A8\",\"#7500A8\",\"#7601A8\",\"#7801A8\",\"#7901A8\",\"#7B02A8\",\"#7C02A7\",\"#7E03A7\",\"#7F03A7\",\"#8104A7\",\"#8204A7\",\"#8405A6\",\"#8506A6\",\"#8607A6\",\"#8807A5\",\"#8908A5\",\"#8B09A4\",\"#8C0AA4\",\"#8E0CA4\",\"#8F0DA3\",\"#900EA3\",\"#920FA2\",\"#9310A1\",\"#9511A1\",\"#9612A0\",\"#9713A0\",\"#99149F\",\"#9A159E\",\"#9B179E\",\"#9D189D\",\"#9E199C\",\"#9F1A9B\",\"#A01B9B\",\"#A21C9A\",\"#A31D99\",\"#A41E98\",\"#A51F97\",\"#A72197\",\"#A82296\",\"#A92395\",\"#AA2494\",\"#AC2593\",\"#AD2692\",\"#AE2791\",\"#AF2890\",\"#B02A8F\",\"#B12B8F\",\"#B22C8E\",\"#B42D8D\",\"#B52E8C\",\"#B62F8B\",\"#B7308A\",\"#B83289\",\"#B93388\",\"#BA3487\",\"#BB3586\",\"#BC3685\",\"#BD3784\",\"#BE3883\",\"#BF3982\",\"#C03B81\",\"#C13C80\",\"#C23D80\",\"#C33E7F\",\"#C43F7E\",\"#C5407D\",\"#C6417C\",\"#C7427B\",\"#C8447A\",\"#C94579\",\"#CA4678\",\"#CB4777\",\"#CC4876\",\"#CD4975\",\"#CE4A75\",\"#CF4B74\",\"#D04D73\",\"#D14E72\",\"#D14F71\",\"#D25070\",\"#D3516F\",\"#D4526E\",\"#D5536D\",\"#D6556D\",\"#D7566C\",\"#D7576B\",\"#D8586A\",\"#D95969\",\"#DA5A68\",\"#DB5B67\",\"#DC5D66\",\"#DC5E66\",\"#DD5F65\",\"#DE6064\",\"#DF6163\",\"#DF6262\",\"#E06461\",\"#E16560\",\"#E26660\",\"#E3675F\",\"#E3685E\",\"#E46A5D\",\"#E56B5C\",\"#E56C5B\",\"#E66D5A\",\"#E76E5A\",\"#E87059\",\"#E87158\",\"#E97257\",\"#EA7356\",\"#EA7455\",\"#EB7654\",\"#EC7754\",\"#EC7853\",\"#ED7952\",\"#ED7B51\",\"#EE7C50\",\"#EF7D4F\",\"#EF7E4E\",\"#F0804D\",\"#F0814D\",\"#F1824C\",\"#F2844B\",\"#F2854A\",\"#F38649\",\"#F38748\",\"#F48947\",\"#F48A47\",\"#F58B46\",\"#F58D45\",\"#F68E44\",\"#F68F43\",\"#F69142\",\"#F79241\",\"#F79341\",\"#F89540\",\"#F8963F\",\"#F8983E\",\"#F9993D\",\"#F99A3C\",\"#FA9C3B\",\"#FA9D3A\",\"#FA9F3A\",\"#FAA039\",\"#FBA238\",\"#FBA337\",\"#FBA436\",\"#FCA635\",\"#FCA735\",\"#FCA934\",\"#FCAA33\",\"#FCAC32\",\"#FCAD31\",\"#FDAF31\",\"#FDB030\",\"#FDB22F\",\"#FDB32E\",\"#FDB52D\",\"#FDB62D\",\"#FDB82C\",\"#FDB92B\",\"#FDBB2B\",\"#FDBC2A\",\"#FDBE29\",\"#FDC029\",\"#FDC128\",\"#FDC328\",\"#FDC427\",\"#FDC626\",\"#FCC726\",\"#FCC926\",\"#FCCB25\",\"#FCCC25\",\"#FCCE25\",\"#FBD024\",\"#FBD124\",\"#FBD324\",\"#FAD524\",\"#FAD624\",\"#FAD824\",\"#F9D924\",\"#F9DB24\",\"#F8DD24\",\"#F8DF24\",\"#F7E024\",\"#F7E225\",\"#F6E425\",\"#F6E525\",\"#F5E726\",\"#F5E926\",\"#F4EA26\",\"#F3EC26\",\"#F3EE26\",\"#F2F026\",\"#F2F126\",\"#F1F326\",\"#F0F525\",\"#F0F623\",\"#EFF821\"]},\"id\":\"159920\",\"type\":\"LinearColorMapper\"},{\"attributes\":{\"axis\":{\"id\":\"159897\"},\"coordinates\":null,\"dimension\":1,\"group\":null,\"ticker\":null},\"id\":\"159900\",\"type\":\"Grid\"},{\"attributes\":{\"data\":{\"image\":[{\"__ndarray__\":\"AAAAAAAAAAAAAAAAAAAAQAAAAAAAABRAAAAAAAAAJEAAAAAAAAA6QAAAAAAAgElAAAAAAADAWUAAAAAAAEBYQAAAAAAAQFdAAAAAAAAASUAAAAAAAAA+QAAAAAAAACpAAAAAAAAAJkAAAAAAAAAYQAAAAAAAAPA/AAAAAAAA8D8AAAAAAADwPwAAAAAAAAAAAAAAAAAAAAAAAAAAAAAAAAAAAAAAAAAAAAAAAAAAAAAAAAAAAAAAAAAAAAAAAAAAAAAAAAAAAAAAAAAAAADwPwAAAAAAABxAAAAAAAAANkAAAAAAAIBAQAAAAAAAgEhAAAAAAAAAVkAAAAAAAEBZQAAAAAAAgFJAAAAAAABAUEAAAAAAAAA9QAAAAAAAADBAAAAAAAAAGEAAAAAAAAAcQAAAAAAAAABAAAAAAAAAAAAAAAAAAAAAAAAAAAAAAAAAAAAAAAAAAAAAAAAAAAAAAAAAAAAAAAAAAAAAAAAAAAAAAAAAAAAAAAAAAAAAAAAAAAAAAAAAAAAAAAAAAADwPwAAAAAAACBAAAAAAAAAOUAAAAAAAIBFQAAAAAAAQFFAAAAAAACAWEAAAAAAAMBXQAAAAAAAAE9AAAAAAAAASkAAAAAAAAA5QAAAAAAAABxAAAAAAAAAJEAAAAAAAAAAQAAAAAAAAAAAAAAAAAAACEAAAAAAAAAAAAAAAAAAAAAAAAAAAAAAAAAAAAAAAAAAAAAAAAAAAAAAAAAAAAAAAAAAAAAAAAAAAAAAAAAAAAAAAAAAAAAA8D8AAAAAAAAIQAAAAAAAACBAAAAAAACAQ0AAAAAAAABNQAAAAAAAQFJAAAAAAACAWEAAAAAAAABSQAAAAAAAgFBAAAAAAACARUAAAAAAAAA5QAAAAAAAABxAAAAAAAAAFEAAAAAAAAAAAAAAAAAAAABAAAAAAAAAAAAAAAAAAAAAAAAAAAAAAAAAAAAAAAAAAAAAAAAAAAAAAAAAAAAAAAAAAAAAAAAAAAAAAAAAAAAAAAAAAAAAAAAAAAAAAAAAAAAAAAAAAAAIQAAAAAAAADFAAAAAAAAASUAAAAAAAEBSQAAAAAAAAFdAAAAAAAAAV0AAAAAAAABQQAAAAAAAgEtAAAAAAAAAO0AAAAAAAAAiQAAAAAAAACRAAAAAAAAAGEAAAAAAAADwPwAAAAAAAAAAAAAAAAAAAAAAAAAAAADwPwAAAAAAAAAAAAAAAAAAAAAAAAAAAAAAAAAAAAAAAAAAAAAAAAAAAAAAAAAAAAAAAAAAAAAAAAAAAAAAAAAAAAAAAAAAAADwPwAAAAAAADFAAAAAAAAAR0AAAAAAAEBRQAAAAAAAwFdAAAAAAADAVkAAAAAAAABTQAAAAAAAAExAAAAAAAAANkAAAAAAAAAxQAAAAAAAABRAAAAAAAAAAEAAAAAAAADwPwAAAAAAAABAAAAAAAAAAAAAAAAAAAAAAAAAAAAAAAAAAAAAAAAAAAAAAAAAAAAAAAAAAAAAAAAAAAAAAAAAAAAAAAAAAAAAAAAAAAAAAAAAAAAAAAAAAAAAAAAAAAAiQAAAAAAAAC5AAAAAAAAATEAAAAAAAMBUQAAAAAAAwFNAAAAAAACAWEAAAAAAAABNQAAAAAAAgENAAAAAAAAAPUAAAAAAAAAwQAAAAAAAACRAAAAAAAAAHEAAAAAAAAAAAAAAAAAAAPA/AAAAAAAAAAAAAAAAAAAAAAAAAAAAAAAAAAAAAAAAAAAAAAAAAAAAAAAAAAAAAAAAAAAAAAAAAAAAAAAAAAAAAAAAAAAAAAAA\",\"dtype\":\"float64\",\"order\":\"little\",\"shape\":[7,24]}]},\"selected\":{\"id\":\"163140\"},\"selection_policy\":{\"id\":\"163139\"}},\"id\":\"159931\",\"type\":\"ColumnDataSource\"},{\"attributes\":{\"axis\":{\"id\":\"159893\"},\"coordinates\":null,\"group\":null,\"ticker\":null},\"id\":\"159896\",\"type\":\"Grid\"},{\"attributes\":{},\"id\":\"163129\",\"type\":\"AllLabels\"},{\"attributes\":{\"color_mapper\":{\"id\":\"159933\"},\"dh\":{\"value\":7},\"dw\":{\"value\":200.0},\"image\":{\"field\":\"image\"},\"x\":{\"value\":0},\"y\":{\"value\":0}},\"id\":\"159932\",\"type\":\"Image\"},{\"attributes\":{\"color_mapper\":{\"id\":\"159927\"},\"coordinates\":null,\"group\":null,\"location\":[0,0],\"major_label_policy\":{\"id\":\"163126\"},\"width\":5},\"id\":\"159928\",\"type\":\"ColorBar\"},{\"attributes\":{\"source\":{\"id\":\"159931\"}},\"id\":\"159942\",\"type\":\"CDSView\"},{\"attributes\":{\"coordinates\":null,\"data_source\":{\"id\":\"159931\"},\"glyph\":{\"id\":\"159932\"},\"group\":null,\"hover_glyph\":null,\"muted_glyph\":{\"id\":\"159938\"},\"nonselection_glyph\":{\"id\":\"159935\"},\"view\":{\"id\":\"159942\"}},\"id\":\"159941\",\"type\":\"GlyphRenderer\"},{\"attributes\":{\"ticks\":[0.5,1.5,2.5,3.5,4.5,5.5,6.5]},\"id\":\"159929\",\"type\":\"FixedTicker\"},{\"attributes\":{\"source\":{\"id\":\"159915\"}},\"id\":\"159926\",\"type\":\"CDSView\"},{\"attributes\":{\"palette\":[\"#0C0786\",\"#100787\",\"#130689\",\"#15068A\",\"#18068B\",\"#1B068C\",\"#1D068D\",\"#1F058E\",\"#21058F\",\"#230590\",\"#250591\",\"#270592\",\"#290593\",\"#2B0594\",\"#2D0494\",\"#2F0495\",\"#310496\",\"#330497\",\"#340498\",\"#360498\",\"#380499\",\"#3A049A\",\"#3B039A\",\"#3D039B\",\"#3F039C\",\"#40039C\",\"#42039D\",\"#44039E\",\"#45039E\",\"#47029F\",\"#49029F\",\"#4A02A0\",\"#4C02A1\",\"#4E02A1\",\"#4F02A2\",\"#5101A2\",\"#5201A3\",\"#5401A3\",\"#5601A3\",\"#5701A4\",\"#5901A4\",\"#5A00A5\",\"#5C00A5\",\"#5E00A5\",\"#5F00A6\",\"#6100A6\",\"#6200A6\",\"#6400A7\",\"#6500A7\",\"#6700A7\",\"#6800A7\",\"#6A00A7\",\"#6C00A8\",\"#6D00A8\",\"#6F00A8\",\"#7000A8\",\"#7200A8\",\"#7300A8\",\"#7500A8\",\"#7601A8\",\"#7801A8\",\"#7901A8\",\"#7B02A8\",\"#7C02A7\",\"#7E03A7\",\"#7F03A7\",\"#8104A7\",\"#8204A7\",\"#8405A6\",\"#8506A6\",\"#8607A6\",\"#8807A5\",\"#8908A5\",\"#8B09A4\",\"#8C0AA4\",\"#8E0CA4\",\"#8F0DA3\",\"#900EA3\",\"#920FA2\",\"#9310A1\",\"#9511A1\",\"#9612A0\",\"#9713A0\",\"#99149F\",\"#9A159E\",\"#9B179E\",\"#9D189D\",\"#9E199C\",\"#9F1A9B\",\"#A01B9B\",\"#A21C9A\",\"#A31D99\",\"#A41E98\",\"#A51F97\",\"#A72197\",\"#A82296\",\"#A92395\",\"#AA2494\",\"#AC2593\",\"#AD2692\",\"#AE2791\",\"#AF2890\",\"#B02A8F\",\"#B12B8F\",\"#B22C8E\",\"#B42D8D\",\"#B52E8C\",\"#B62F8B\",\"#B7308A\",\"#B83289\",\"#B93388\",\"#BA3487\",\"#BB3586\",\"#BC3685\",\"#BD3784\",\"#BE3883\",\"#BF3982\",\"#C03B81\",\"#C13C80\",\"#C23D80\",\"#C33E7F\",\"#C43F7E\",\"#C5407D\",\"#C6417C\",\"#C7427B\",\"#C8447A\",\"#C94579\",\"#CA4678\",\"#CB4777\",\"#CC4876\",\"#CD4975\",\"#CE4A75\",\"#CF4B74\",\"#D04D73\",\"#D14E72\",\"#D14F71\",\"#D25070\",\"#D3516F\",\"#D4526E\",\"#D5536D\",\"#D6556D\",\"#D7566C\",\"#D7576B\",\"#D8586A\",\"#D95969\",\"#DA5A68\",\"#DB5B67\",\"#DC5D66\",\"#DC5E66\",\"#DD5F65\",\"#DE6064\",\"#DF6163\",\"#DF6262\",\"#E06461\",\"#E16560\",\"#E26660\",\"#E3675F\",\"#E3685E\",\"#E46A5D\",\"#E56B5C\",\"#E56C5B\",\"#E66D5A\",\"#E76E5A\",\"#E87059\",\"#E87158\",\"#E97257\",\"#EA7356\",\"#EA7455\",\"#EB7654\",\"#EC7754\",\"#EC7853\",\"#ED7952\",\"#ED7B51\",\"#EE7C50\",\"#EF7D4F\",\"#EF7E4E\",\"#F0804D\",\"#F0814D\",\"#F1824C\",\"#F2844B\",\"#F2854A\",\"#F38649\",\"#F38748\",\"#F48947\",\"#F48A47\",\"#F58B46\",\"#F58D45\",\"#F68E44\",\"#F68F43\",\"#F69142\",\"#F79241\",\"#F79341\",\"#F89540\",\"#F8963F\",\"#F8983E\",\"#F9993D\",\"#F99A3C\",\"#FA9C3B\",\"#FA9D3A\",\"#FA9F3A\",\"#FAA039\",\"#FBA238\",\"#FBA337\",\"#FBA436\",\"#FCA635\",\"#FCA735\",\"#FCA934\",\"#FCAA33\",\"#FCAC32\",\"#FCAD31\",\"#FDAF31\",\"#FDB030\",\"#FDB22F\",\"#FDB32E\",\"#FDB52D\",\"#FDB62D\",\"#FDB82C\",\"#FDB92B\",\"#FDBB2B\",\"#FDBC2A\",\"#FDBE29\",\"#FDC029\",\"#FDC128\",\"#FDC328\",\"#FDC427\",\"#FDC626\",\"#FCC726\",\"#FCC926\",\"#FCCB25\",\"#FCCC25\",\"#FCCE25\",\"#FBD024\",\"#FBD124\",\"#FBD324\",\"#FAD524\",\"#FAD624\",\"#FAD824\",\"#F9D924\",\"#F9DB24\",\"#F8DD24\",\"#F8DF24\",\"#F7E024\",\"#F7E225\",\"#F6E425\",\"#F6E525\",\"#F5E726\",\"#F5E926\",\"#F4EA26\",\"#F3EC26\",\"#F3EE26\",\"#F2F026\",\"#F2F126\",\"#F1F326\",\"#F0F525\",\"#F0F623\",\"#EFF821\"]},\"id\":\"159939\",\"type\":\"LinearColorMapper\"},{\"attributes\":{\"ticks\":[0.5,1.5,2.5,3.5,4.5,5.5,6.5]},\"id\":\"159945\",\"type\":\"FixedTicker\"},{\"attributes\":{\"palette\":[\"#0C0786\",\"#100787\",\"#130689\",\"#15068A\",\"#18068B\",\"#1B068C\",\"#1D068D\",\"#1F058E\",\"#21058F\",\"#230590\",\"#250591\",\"#270592\",\"#290593\",\"#2B0594\",\"#2D0494\",\"#2F0495\",\"#310496\",\"#330497\",\"#340498\",\"#360498\",\"#380499\",\"#3A049A\",\"#3B039A\",\"#3D039B\",\"#3F039C\",\"#40039C\",\"#42039D\",\"#44039E\",\"#45039E\",\"#47029F\",\"#49029F\",\"#4A02A0\",\"#4C02A1\",\"#4E02A1\",\"#4F02A2\",\"#5101A2\",\"#5201A3\",\"#5401A3\",\"#5601A3\",\"#5701A4\",\"#5901A4\",\"#5A00A5\",\"#5C00A5\",\"#5E00A5\",\"#5F00A6\",\"#6100A6\",\"#6200A6\",\"#6400A7\",\"#6500A7\",\"#6700A7\",\"#6800A7\",\"#6A00A7\",\"#6C00A8\",\"#6D00A8\",\"#6F00A8\",\"#7000A8\",\"#7200A8\",\"#7300A8\",\"#7500A8\",\"#7601A8\",\"#7801A8\",\"#7901A8\",\"#7B02A8\",\"#7C02A7\",\"#7E03A7\",\"#7F03A7\",\"#8104A7\",\"#8204A7\",\"#8405A6\",\"#8506A6\",\"#8607A6\",\"#8807A5\",\"#8908A5\",\"#8B09A4\",\"#8C0AA4\",\"#8E0CA4\",\"#8F0DA3\",\"#900EA3\",\"#920FA2\",\"#9310A1\",\"#9511A1\",\"#9612A0\",\"#9713A0\",\"#99149F\",\"#9A159E\",\"#9B179E\",\"#9D189D\",\"#9E199C\",\"#9F1A9B\",\"#A01B9B\",\"#A21C9A\",\"#A31D99\",\"#A41E98\",\"#A51F97\",\"#A72197\",\"#A82296\",\"#A92395\",\"#AA2494\",\"#AC2593\",\"#AD2692\",\"#AE2791\",\"#AF2890\",\"#B02A8F\",\"#B12B8F\",\"#B22C8E\",\"#B42D8D\",\"#B52E8C\",\"#B62F8B\",\"#B7308A\",\"#B83289\",\"#B93388\",\"#BA3487\",\"#BB3586\",\"#BC3685\",\"#BD3784\",\"#BE3883\",\"#BF3982\",\"#C03B81\",\"#C13C80\",\"#C23D80\",\"#C33E7F\",\"#C43F7E\",\"#C5407D\",\"#C6417C\",\"#C7427B\",\"#C8447A\",\"#C94579\",\"#CA4678\",\"#CB4777\",\"#CC4876\",\"#CD4975\",\"#CE4A75\",\"#CF4B74\",\"#D04D73\",\"#D14E72\",\"#D14F71\",\"#D25070\",\"#D3516F\",\"#D4526E\",\"#D5536D\",\"#D6556D\",\"#D7566C\",\"#D7576B\",\"#D8586A\",\"#D95969\",\"#DA5A68\",\"#DB5B67\",\"#DC5D66\",\"#DC5E66\",\"#DD5F65\",\"#DE6064\",\"#DF6163\",\"#DF6262\",\"#E06461\",\"#E16560\",\"#E26660\",\"#E3675F\",\"#E3685E\",\"#E46A5D\",\"#E56B5C\",\"#E56C5B\",\"#E66D5A\",\"#E76E5A\",\"#E87059\",\"#E87158\",\"#E97257\",\"#EA7356\",\"#EA7455\",\"#EB7654\",\"#EC7754\",\"#EC7853\",\"#ED7952\",\"#ED7B51\",\"#EE7C50\",\"#EF7D4F\",\"#EF7E4E\",\"#F0804D\",\"#F0814D\",\"#F1824C\",\"#F2844B\",\"#F2854A\",\"#F38649\",\"#F38748\",\"#F48947\",\"#F48A47\",\"#F58B46\",\"#F58D45\",\"#F68E44\",\"#F68F43\",\"#F69142\",\"#F79241\",\"#F79341\",\"#F89540\",\"#F8963F\",\"#F8983E\",\"#F9993D\",\"#F99A3C\",\"#FA9C3B\",\"#FA9D3A\",\"#FA9F3A\",\"#FAA039\",\"#FBA238\",\"#FBA337\",\"#FBA436\",\"#FCA635\",\"#FCA735\",\"#FCA934\",\"#FCAA33\",\"#FCAC32\",\"#FCAD31\",\"#FDAF31\",\"#FDB030\",\"#FDB22F\",\"#FDB32E\",\"#FDB52D\",\"#FDB62D\",\"#FDB82C\",\"#FDB92B\",\"#FDBB2B\",\"#FDBC2A\",\"#FDBE29\",\"#FDC029\",\"#FDC128\",\"#FDC328\",\"#FDC427\",\"#FDC626\",\"#FCC726\",\"#FCC926\",\"#FCCB25\",\"#FCCC25\",\"#FCCE25\",\"#FBD024\",\"#FBD124\",\"#FBD324\",\"#FAD524\",\"#FAD624\",\"#FAD824\",\"#F9D924\",\"#F9DB24\",\"#F8DD24\",\"#F8DF24\",\"#F7E024\",\"#F7E225\",\"#F6E425\",\"#F6E525\",\"#F5E726\",\"#F5E926\",\"#F4EA26\",\"#F3EC26\",\"#F3EE26\",\"#F2F026\",\"#F2F126\",\"#F1F326\",\"#F0F525\",\"#F0F623\",\"#EFF821\"]},\"id\":\"159933\",\"type\":\"LinearColorMapper\"},{\"attributes\":{},\"id\":\"163124\",\"type\":\"BasicTickFormatter\"},{\"attributes\":{\"high\":103.0,\"low\":0.0,\"palette\":[\"#0C0786\",\"#100787\",\"#130689\",\"#15068A\",\"#18068B\",\"#1B068C\",\"#1D068D\",\"#1F058E\",\"#21058F\",\"#230590\",\"#250591\",\"#270592\",\"#290593\",\"#2B0594\",\"#2D0494\",\"#2F0495\",\"#310496\",\"#330497\",\"#340498\",\"#360498\",\"#380499\",\"#3A049A\",\"#3B039A\",\"#3D039B\",\"#3F039C\",\"#40039C\",\"#42039D\",\"#44039E\",\"#45039E\",\"#47029F\",\"#49029F\",\"#4A02A0\",\"#4C02A1\",\"#4E02A1\",\"#4F02A2\",\"#5101A2\",\"#5201A3\",\"#5401A3\",\"#5601A3\",\"#5701A4\",\"#5901A4\",\"#5A00A5\",\"#5C00A5\",\"#5E00A5\",\"#5F00A6\",\"#6100A6\",\"#6200A6\",\"#6400A7\",\"#6500A7\",\"#6700A7\",\"#6800A7\",\"#6A00A7\",\"#6C00A8\",\"#6D00A8\",\"#6F00A8\",\"#7000A8\",\"#7200A8\",\"#7300A8\",\"#7500A8\",\"#7601A8\",\"#7801A8\",\"#7901A8\",\"#7B02A8\",\"#7C02A7\",\"#7E03A7\",\"#7F03A7\",\"#8104A7\",\"#8204A7\",\"#8405A6\",\"#8506A6\",\"#8607A6\",\"#8807A5\",\"#8908A5\",\"#8B09A4\",\"#8C0AA4\",\"#8E0CA4\",\"#8F0DA3\",\"#900EA3\",\"#920FA2\",\"#9310A1\",\"#9511A1\",\"#9612A0\",\"#9713A0\",\"#99149F\",\"#9A159E\",\"#9B179E\",\"#9D189D\",\"#9E199C\",\"#9F1A9B\",\"#A01B9B\",\"#A21C9A\",\"#A31D99\",\"#A41E98\",\"#A51F97\",\"#A72197\",\"#A82296\",\"#A92395\",\"#AA2494\",\"#AC2593\",\"#AD2692\",\"#AE2791\",\"#AF2890\",\"#B02A8F\",\"#B12B8F\",\"#B22C8E\",\"#B42D8D\",\"#B52E8C\",\"#B62F8B\",\"#B7308A\",\"#B83289\",\"#B93388\",\"#BA3487\",\"#BB3586\",\"#BC3685\",\"#BD3784\",\"#BE3883\",\"#BF3982\",\"#C03B81\",\"#C13C80\",\"#C23D80\",\"#C33E7F\",\"#C43F7E\",\"#C5407D\",\"#C6417C\",\"#C7427B\",\"#C8447A\",\"#C94579\",\"#CA4678\",\"#CB4777\",\"#CC4876\",\"#CD4975\",\"#CE4A75\",\"#CF4B74\",\"#D04D73\",\"#D14E72\",\"#D14F71\",\"#D25070\",\"#D3516F\",\"#D4526E\",\"#D5536D\",\"#D6556D\",\"#D7566C\",\"#D7576B\",\"#D8586A\",\"#D95969\",\"#DA5A68\",\"#DB5B67\",\"#DC5D66\",\"#DC5E66\",\"#DD5F65\",\"#DE6064\",\"#DF6163\",\"#DF6262\",\"#E06461\",\"#E16560\",\"#E26660\",\"#E3675F\",\"#E3685E\",\"#E46A5D\",\"#E56B5C\",\"#E56C5B\",\"#E66D5A\",\"#E76E5A\",\"#E87059\",\"#E87158\",\"#E97257\",\"#EA7356\",\"#EA7455\",\"#EB7654\",\"#EC7754\",\"#EC7853\",\"#ED7952\",\"#ED7B51\",\"#EE7C50\",\"#EF7D4F\",\"#EF7E4E\",\"#F0804D\",\"#F0814D\",\"#F1824C\",\"#F2844B\",\"#F2854A\",\"#F38649\",\"#F38748\",\"#F48947\",\"#F48A47\",\"#F58B46\",\"#F58D45\",\"#F68E44\",\"#F68F43\",\"#F69142\",\"#F79241\",\"#F79341\",\"#F89540\",\"#F8963F\",\"#F8983E\",\"#F9993D\",\"#F99A3C\",\"#FA9C3B\",\"#FA9D3A\",\"#FA9F3A\",\"#FAA039\",\"#FBA238\",\"#FBA337\",\"#FBA436\",\"#FCA635\",\"#FCA735\",\"#FCA934\",\"#FCAA33\",\"#FCAC32\",\"#FCAD31\",\"#FDAF31\",\"#FDB030\",\"#FDB22F\",\"#FDB32E\",\"#FDB52D\",\"#FDB62D\",\"#FDB82C\",\"#FDB92B\",\"#FDBB2B\",\"#FDBC2A\",\"#FDBE29\",\"#FDC029\",\"#FDC128\",\"#FDC328\",\"#FDC427\",\"#FDC626\",\"#FCC726\",\"#FCC926\",\"#FCCB25\",\"#FCCC25\",\"#FCCE25\",\"#FBD024\",\"#FBD124\",\"#FBD324\",\"#FAD524\",\"#FAD624\",\"#FAD824\",\"#F9D924\",\"#F9DB24\",\"#F8DD24\",\"#F8DF24\",\"#F7E024\",\"#F7E225\",\"#F6E425\",\"#F6E525\",\"#F5E726\",\"#F5E926\",\"#F4EA26\",\"#F3EC26\",\"#F3EE26\",\"#F2F026\",\"#F2F126\",\"#F1F326\",\"#F0F525\",\"#F0F623\",\"#EFF821\"]},\"id\":\"159943\",\"type\":\"LinearColorMapper\"},{\"attributes\":{\"color_mapper\":{\"id\":\"159943\"},\"coordinates\":null,\"group\":null,\"location\":[0,0],\"major_label_policy\":{\"id\":\"163132\"},\"width\":5},\"id\":\"159944\",\"type\":\"ColorBar\"},{\"attributes\":{},\"id\":\"163130\",\"type\":\"BasicTickFormatter\"},{\"attributes\":{\"coordinates\":null,\"data_source\":{\"id\":\"159915\"},\"glyph\":{\"id\":\"159916\"},\"group\":null,\"hover_glyph\":null,\"muted_glyph\":{\"id\":\"159922\"},\"nonselection_glyph\":{\"id\":\"159919\"},\"view\":{\"id\":\"159926\"}},\"id\":\"159925\",\"type\":\"GlyphRenderer\"},{\"attributes\":{\"palette\":[\"#0C0786\",\"#100787\",\"#130689\",\"#15068A\",\"#18068B\",\"#1B068C\",\"#1D068D\",\"#1F058E\",\"#21058F\",\"#230590\",\"#250591\",\"#270592\",\"#290593\",\"#2B0594\",\"#2D0494\",\"#2F0495\",\"#310496\",\"#330497\",\"#340498\",\"#360498\",\"#380499\",\"#3A049A\",\"#3B039A\",\"#3D039B\",\"#3F039C\",\"#40039C\",\"#42039D\",\"#44039E\",\"#45039E\",\"#47029F\",\"#49029F\",\"#4A02A0\",\"#4C02A1\",\"#4E02A1\",\"#4F02A2\",\"#5101A2\",\"#5201A3\",\"#5401A3\",\"#5601A3\",\"#5701A4\",\"#5901A4\",\"#5A00A5\",\"#5C00A5\",\"#5E00A5\",\"#5F00A6\",\"#6100A6\",\"#6200A6\",\"#6400A7\",\"#6500A7\",\"#6700A7\",\"#6800A7\",\"#6A00A7\",\"#6C00A8\",\"#6D00A8\",\"#6F00A8\",\"#7000A8\",\"#7200A8\",\"#7300A8\",\"#7500A8\",\"#7601A8\",\"#7801A8\",\"#7901A8\",\"#7B02A8\",\"#7C02A7\",\"#7E03A7\",\"#7F03A7\",\"#8104A7\",\"#8204A7\",\"#8405A6\",\"#8506A6\",\"#8607A6\",\"#8807A5\",\"#8908A5\",\"#8B09A4\",\"#8C0AA4\",\"#8E0CA4\",\"#8F0DA3\",\"#900EA3\",\"#920FA2\",\"#9310A1\",\"#9511A1\",\"#9612A0\",\"#9713A0\",\"#99149F\",\"#9A159E\",\"#9B179E\",\"#9D189D\",\"#9E199C\",\"#9F1A9B\",\"#A01B9B\",\"#A21C9A\",\"#A31D99\",\"#A41E98\",\"#A51F97\",\"#A72197\",\"#A82296\",\"#A92395\",\"#AA2494\",\"#AC2593\",\"#AD2692\",\"#AE2791\",\"#AF2890\",\"#B02A8F\",\"#B12B8F\",\"#B22C8E\",\"#B42D8D\",\"#B52E8C\",\"#B62F8B\",\"#B7308A\",\"#B83289\",\"#B93388\",\"#BA3487\",\"#BB3586\",\"#BC3685\",\"#BD3784\",\"#BE3883\",\"#BF3982\",\"#C03B81\",\"#C13C80\",\"#C23D80\",\"#C33E7F\",\"#C43F7E\",\"#C5407D\",\"#C6417C\",\"#C7427B\",\"#C8447A\",\"#C94579\",\"#CA4678\",\"#CB4777\",\"#CC4876\",\"#CD4975\",\"#CE4A75\",\"#CF4B74\",\"#D04D73\",\"#D14E72\",\"#D14F71\",\"#D25070\",\"#D3516F\",\"#D4526E\",\"#D5536D\",\"#D6556D\",\"#D7566C\",\"#D7576B\",\"#D8586A\",\"#D95969\",\"#DA5A68\",\"#DB5B67\",\"#DC5D66\",\"#DC5E66\",\"#DD5F65\",\"#DE6064\",\"#DF6163\",\"#DF6262\",\"#E06461\",\"#E16560\",\"#E26660\",\"#E3675F\",\"#E3685E\",\"#E46A5D\",\"#E56B5C\",\"#E56C5B\",\"#E66D5A\",\"#E76E5A\",\"#E87059\",\"#E87158\",\"#E97257\",\"#EA7356\",\"#EA7455\",\"#EB7654\",\"#EC7754\",\"#EC7853\",\"#ED7952\",\"#ED7B51\",\"#EE7C50\",\"#EF7D4F\",\"#EF7E4E\",\"#F0804D\",\"#F0814D\",\"#F1824C\",\"#F2844B\",\"#F2854A\",\"#F38649\",\"#F38748\",\"#F48947\",\"#F48A47\",\"#F58B46\",\"#F58D45\",\"#F68E44\",\"#F68F43\",\"#F69142\",\"#F79241\",\"#F79341\",\"#F89540\",\"#F8963F\",\"#F8983E\",\"#F9993D\",\"#F99A3C\",\"#FA9C3B\",\"#FA9D3A\",\"#FA9F3A\",\"#FAA039\",\"#FBA238\",\"#FBA337\",\"#FBA436\",\"#FCA635\",\"#FCA735\",\"#FCA934\",\"#FCAA33\",\"#FCAC32\",\"#FCAD31\",\"#FDAF31\",\"#FDB030\",\"#FDB22F\",\"#FDB32E\",\"#FDB52D\",\"#FDB62D\",\"#FDB82C\",\"#FDB92B\",\"#FDBB2B\",\"#FDBC2A\",\"#FDBE29\",\"#FDC029\",\"#FDC128\",\"#FDC328\",\"#FDC427\",\"#FDC626\",\"#FCC726\",\"#FCC926\",\"#FCCB25\",\"#FCCC25\",\"#FCCE25\",\"#FBD024\",\"#FBD124\",\"#FBD324\",\"#FAD524\",\"#FAD624\",\"#FAD824\",\"#F9D924\",\"#F9DB24\",\"#F8DD24\",\"#F8DF24\",\"#F7E024\",\"#F7E225\",\"#F6E425\",\"#F6E525\",\"#F5E726\",\"#F5E926\",\"#F4EA26\",\"#F3EC26\",\"#F3EE26\",\"#F2F026\",\"#F2F126\",\"#F1F326\",\"#F0F525\",\"#F0F623\",\"#EFF821\"]},\"id\":\"159923\",\"type\":\"LinearColorMapper\"},{\"attributes\":{\"color_mapper\":{\"id\":\"159939\"},\"dh\":{\"value\":7},\"dw\":{\"value\":200.0},\"global_alpha\":{\"value\":0.2},\"image\":{\"field\":\"image\"},\"x\":{\"value\":0},\"y\":{\"value\":0}},\"id\":\"159938\",\"type\":\"Image\"},{\"attributes\":{\"coordinates\":null,\"group\":null},\"id\":\"163120\",\"type\":\"Title\"},{\"attributes\":{},\"id\":\"163139\",\"type\":\"UnionRenderers\"},{\"attributes\":{\"color_mapper\":{\"id\":\"159936\"},\"dh\":{\"value\":7},\"dw\":{\"value\":200.0},\"global_alpha\":{\"value\":0.1},\"image\":{\"field\":\"image\"},\"x\":{\"value\":0},\"y\":{\"value\":0}},\"id\":\"159935\",\"type\":\"Image\"},{\"attributes\":{},\"id\":\"163140\",\"type\":\"Selection\"},{\"attributes\":{\"color_mapper\":{\"id\":\"159923\"},\"dh\":{\"value\":7},\"dw\":{\"value\":10.0},\"global_alpha\":{\"value\":0.2},\"image\":{\"field\":\"image\"},\"x\":{\"value\":0},\"y\":{\"value\":0}},\"id\":\"159922\",\"type\":\"Image\"},{\"attributes\":{\"palette\":[\"#0C0786\",\"#100787\",\"#130689\",\"#15068A\",\"#18068B\",\"#1B068C\",\"#1D068D\",\"#1F058E\",\"#21058F\",\"#230590\",\"#250591\",\"#270592\",\"#290593\",\"#2B0594\",\"#2D0494\",\"#2F0495\",\"#310496\",\"#330497\",\"#340498\",\"#360498\",\"#380499\",\"#3A049A\",\"#3B039A\",\"#3D039B\",\"#3F039C\",\"#40039C\",\"#42039D\",\"#44039E\",\"#45039E\",\"#47029F\",\"#49029F\",\"#4A02A0\",\"#4C02A1\",\"#4E02A1\",\"#4F02A2\",\"#5101A2\",\"#5201A3\",\"#5401A3\",\"#5601A3\",\"#5701A4\",\"#5901A4\",\"#5A00A5\",\"#5C00A5\",\"#5E00A5\",\"#5F00A6\",\"#6100A6\",\"#6200A6\",\"#6400A7\",\"#6500A7\",\"#6700A7\",\"#6800A7\",\"#6A00A7\",\"#6C00A8\",\"#6D00A8\",\"#6F00A8\",\"#7000A8\",\"#7200A8\",\"#7300A8\",\"#7500A8\",\"#7601A8\",\"#7801A8\",\"#7901A8\",\"#7B02A8\",\"#7C02A7\",\"#7E03A7\",\"#7F03A7\",\"#8104A7\",\"#8204A7\",\"#8405A6\",\"#8506A6\",\"#8607A6\",\"#8807A5\",\"#8908A5\",\"#8B09A4\",\"#8C0AA4\",\"#8E0CA4\",\"#8F0DA3\",\"#900EA3\",\"#920FA2\",\"#9310A1\",\"#9511A1\",\"#9612A0\",\"#9713A0\",\"#99149F\",\"#9A159E\",\"#9B179E\",\"#9D189D\",\"#9E199C\",\"#9F1A9B\",\"#A01B9B\",\"#A21C9A\",\"#A31D99\",\"#A41E98\",\"#A51F97\",\"#A72197\",\"#A82296\",\"#A92395\",\"#AA2494\",\"#AC2593\",\"#AD2692\",\"#AE2791\",\"#AF2890\",\"#B02A8F\",\"#B12B8F\",\"#B22C8E\",\"#B42D8D\",\"#B52E8C\",\"#B62F8B\",\"#B7308A\",\"#B83289\",\"#B93388\",\"#BA3487\",\"#BB3586\",\"#BC3685\",\"#BD3784\",\"#BE3883\",\"#BF3982\",\"#C03B81\",\"#C13C80\",\"#C23D80\",\"#C33E7F\",\"#C43F7E\",\"#C5407D\",\"#C6417C\",\"#C7427B\",\"#C8447A\",\"#C94579\",\"#CA4678\",\"#CB4777\",\"#CC4876\",\"#CD4975\",\"#CE4A75\",\"#CF4B74\",\"#D04D73\",\"#D14E72\",\"#D14F71\",\"#D25070\",\"#D3516F\",\"#D4526E\",\"#D5536D\",\"#D6556D\",\"#D7566C\",\"#D7576B\",\"#D8586A\",\"#D95969\",\"#DA5A68\",\"#DB5B67\",\"#DC5D66\",\"#DC5E66\",\"#DD5F65\",\"#DE6064\",\"#DF6163\",\"#DF6262\",\"#E06461\",\"#E16560\",\"#E26660\",\"#E3675F\",\"#E3685E\",\"#E46A5D\",\"#E56B5C\",\"#E56C5B\",\"#E66D5A\",\"#E76E5A\",\"#E87059\",\"#E87158\",\"#E97257\",\"#EA7356\",\"#EA7455\",\"#EB7654\",\"#EC7754\",\"#EC7853\",\"#ED7952\",\"#ED7B51\",\"#EE7C50\",\"#EF7D4F\",\"#EF7E4E\",\"#F0804D\",\"#F0814D\",\"#F1824C\",\"#F2844B\",\"#F2854A\",\"#F38649\",\"#F38748\",\"#F48947\",\"#F48A47\",\"#F58B46\",\"#F58D45\",\"#F68E44\",\"#F68F43\",\"#F69142\",\"#F79241\",\"#F79341\",\"#F89540\",\"#F8963F\",\"#F8983E\",\"#F9993D\",\"#F99A3C\",\"#FA9C3B\",\"#FA9D3A\",\"#FA9F3A\",\"#FAA039\",\"#FBA238\",\"#FBA337\",\"#FBA436\",\"#FCA635\",\"#FCA735\",\"#FCA934\",\"#FCAA33\",\"#FCAC32\",\"#FCAD31\",\"#FDAF31\",\"#FDB030\",\"#FDB22F\",\"#FDB32E\",\"#FDB52D\",\"#FDB62D\",\"#FDB82C\",\"#FDB92B\",\"#FDBB2B\",\"#FDBC2A\",\"#FDBE29\",\"#FDC029\",\"#FDC128\",\"#FDC328\",\"#FDC427\",\"#FDC626\",\"#FCC726\",\"#FCC926\",\"#FCCB25\",\"#FCCC25\",\"#FCCE25\",\"#FBD024\",\"#FBD124\",\"#FBD324\",\"#FAD524\",\"#FAD624\",\"#FAD824\",\"#F9D924\",\"#F9DB24\",\"#F8DD24\",\"#F8DF24\",\"#F7E024\",\"#F7E225\",\"#F6E425\",\"#F6E525\",\"#F5E726\",\"#F5E926\",\"#F4EA26\",\"#F3EC26\",\"#F3EE26\",\"#F2F026\",\"#F2F126\",\"#F1F326\",\"#F0F525\",\"#F0F623\",\"#EFF821\"]},\"id\":\"159936\",\"type\":\"LinearColorMapper\"},{\"attributes\":{\"coordinates\":null,\"group\":null},\"id\":\"163122\",\"type\":\"Title\"},{\"attributes\":{\"color_mapper\":{\"id\":\"159920\"},\"dh\":{\"value\":7},\"dw\":{\"value\":10.0},\"global_alpha\":{\"value\":0.1},\"image\":{\"field\":\"image\"},\"x\":{\"value\":0},\"y\":{\"value\":0}},\"id\":\"159919\",\"type\":\"Image\"},{\"attributes\":{},\"id\":\"163128\",\"type\":\"BasicTickFormatter\"},{\"attributes\":{\"palette\":[\"#0C0786\",\"#100787\",\"#130689\",\"#15068A\",\"#18068B\",\"#1B068C\",\"#1D068D\",\"#1F058E\",\"#21058F\",\"#230590\",\"#250591\",\"#270592\",\"#290593\",\"#2B0594\",\"#2D0494\",\"#2F0495\",\"#310496\",\"#330497\",\"#340498\",\"#360498\",\"#380499\",\"#3A049A\",\"#3B039A\",\"#3D039B\",\"#3F039C\",\"#40039C\",\"#42039D\",\"#44039E\",\"#45039E\",\"#47029F\",\"#49029F\",\"#4A02A0\",\"#4C02A1\",\"#4E02A1\",\"#4F02A2\",\"#5101A2\",\"#5201A3\",\"#5401A3\",\"#5601A3\",\"#5701A4\",\"#5901A4\",\"#5A00A5\",\"#5C00A5\",\"#5E00A5\",\"#5F00A6\",\"#6100A6\",\"#6200A6\",\"#6400A7\",\"#6500A7\",\"#6700A7\",\"#6800A7\",\"#6A00A7\",\"#6C00A8\",\"#6D00A8\",\"#6F00A8\",\"#7000A8\",\"#7200A8\",\"#7300A8\",\"#7500A8\",\"#7601A8\",\"#7801A8\",\"#7901A8\",\"#7B02A8\",\"#7C02A7\",\"#7E03A7\",\"#7F03A7\",\"#8104A7\",\"#8204A7\",\"#8405A6\",\"#8506A6\",\"#8607A6\",\"#8807A5\",\"#8908A5\",\"#8B09A4\",\"#8C0AA4\",\"#8E0CA4\",\"#8F0DA3\",\"#900EA3\",\"#920FA2\",\"#9310A1\",\"#9511A1\",\"#9612A0\",\"#9713A0\",\"#99149F\",\"#9A159E\",\"#9B179E\",\"#9D189D\",\"#9E199C\",\"#9F1A9B\",\"#A01B9B\",\"#A21C9A\",\"#A31D99\",\"#A41E98\",\"#A51F97\",\"#A72197\",\"#A82296\",\"#A92395\",\"#AA2494\",\"#AC2593\",\"#AD2692\",\"#AE2791\",\"#AF2890\",\"#B02A8F\",\"#B12B8F\",\"#B22C8E\",\"#B42D8D\",\"#B52E8C\",\"#B62F8B\",\"#B7308A\",\"#B83289\",\"#B93388\",\"#BA3487\",\"#BB3586\",\"#BC3685\",\"#BD3784\",\"#BE3883\",\"#BF3982\",\"#C03B81\",\"#C13C80\",\"#C23D80\",\"#C33E7F\",\"#C43F7E\",\"#C5407D\",\"#C6417C\",\"#C7427B\",\"#C8447A\",\"#C94579\",\"#CA4678\",\"#CB4777\",\"#CC4876\",\"#CD4975\",\"#CE4A75\",\"#CF4B74\",\"#D04D73\",\"#D14E72\",\"#D14F71\",\"#D25070\",\"#D3516F\",\"#D4526E\",\"#D5536D\",\"#D6556D\",\"#D7566C\",\"#D7576B\",\"#D8586A\",\"#D95969\",\"#DA5A68\",\"#DB5B67\",\"#DC5D66\",\"#DC5E66\",\"#DD5F65\",\"#DE6064\",\"#DF6163\",\"#DF6262\",\"#E06461\",\"#E16560\",\"#E26660\",\"#E3675F\",\"#E3685E\",\"#E46A5D\",\"#E56B5C\",\"#E56C5B\",\"#E66D5A\",\"#E76E5A\",\"#E87059\",\"#E87158\",\"#E97257\",\"#EA7356\",\"#EA7455\",\"#EB7654\",\"#EC7754\",\"#EC7853\",\"#ED7952\",\"#ED7B51\",\"#EE7C50\",\"#EF7D4F\",\"#EF7E4E\",\"#F0804D\",\"#F0814D\",\"#F1824C\",\"#F2844B\",\"#F2854A\",\"#F38649\",\"#F38748\",\"#F48947\",\"#F48A47\",\"#F58B46\",\"#F58D45\",\"#F68E44\",\"#F68F43\",\"#F69142\",\"#F79241\",\"#F79341\",\"#F89540\",\"#F8963F\",\"#F8983E\",\"#F9993D\",\"#F99A3C\",\"#FA9C3B\",\"#FA9D3A\",\"#FA9F3A\",\"#FAA039\",\"#FBA238\",\"#FBA337\",\"#FBA436\",\"#FCA635\",\"#FCA735\",\"#FCA934\",\"#FCAA33\",\"#FCAC32\",\"#FCAD31\",\"#FDAF31\",\"#FDB030\",\"#FDB22F\",\"#FDB32E\",\"#FDB52D\",\"#FDB62D\",\"#FDB82C\",\"#FDB92B\",\"#FDBB2B\",\"#FDBC2A\",\"#FDBE29\",\"#FDC029\",\"#FDC128\",\"#FDC328\",\"#FDC427\",\"#FDC626\",\"#FCC726\",\"#FCC926\",\"#FCCB25\",\"#FCCC25\",\"#FCCE25\",\"#FBD024\",\"#FBD124\",\"#FBD324\",\"#FAD524\",\"#FAD624\",\"#FAD824\",\"#F9D924\",\"#F9DB24\",\"#F8DD24\",\"#F8DF24\",\"#F7E024\",\"#F7E225\",\"#F6E425\",\"#F6E525\",\"#F5E726\",\"#F5E926\",\"#F4EA26\",\"#F3EC26\",\"#F3EE26\",\"#F2F026\",\"#F2F126\",\"#F1F326\",\"#F0F525\",\"#F0F623\",\"#EFF821\"]},\"id\":\"159917\",\"type\":\"LinearColorMapper\"}],\"root_ids\":[\"159947\"]},\"title\":\"Bokeh Application\",\"version\":\"2.4.1\"}};\n",
       "  const render_items = [{\"docid\":\"08a13ea8-4387-4b44-bdde-6c4e48ae85ba\",\"root_ids\":[\"159947\"],\"roots\":{\"159947\":\"23468971-f285-44de-8ebf-4e9b489d4d89\"}}];\n",
       "  root.Bokeh.embed.embed_items_notebook(docs_json, render_items);\n",
       "\n",
       "  }\n",
       "  if (root.Bokeh !== undefined) {\n",
       "    embed_document(root);\n",
       "  } else {\n",
       "    let attempts = 0;\n",
       "    const timer = setInterval(function(root) {\n",
       "      if (root.Bokeh !== undefined) {\n",
       "        clearInterval(timer);\n",
       "        embed_document(root);\n",
       "      } else {\n",
       "        attempts++;\n",
       "        if (attempts > 100) {\n",
       "          clearInterval(timer);\n",
       "          console.log(\"Bokeh: ERROR: Unable to run BokehJS code because BokehJS library is missing\");\n",
       "        }\n",
       "      }\n",
       "    }, 10, root)\n",
       "  }\n",
       "})(window);"
      ],
      "application/vnd.bokehjs_exec.v0+json": ""
     },
     "metadata": {
      "application/vnd.bokehjs_exec.v0+json": {
       "id": "159947"
      }
     },
     "output_type": "display_data"
    }
   ],
   "source": [
    "fig_size = [190, 115] # for paper size (144, 110) # for larger size (144,144)\n",
    "y_range = (0, 7)\n",
    "palette = \"Plasma256\"\n",
    "\n",
    "x_range = (0, bin3[-1])\n",
    "plots[0] = bokeh.plotting.figure(plot_width=fig_size[0], plot_height=fig_size[1],\n",
    "                          x_range=x_range,y_range=y_range\n",
    "                          )\n",
    "plots[0].axis.major_label_text_font_size = \"10pt\"\n",
    "\n",
    "x_range = (0, bin4[-1])\n",
    "plots[1] = bokeh.plotting.figure(plot_width=fig_size[0], plot_height=fig_size[1],\n",
    "                          x_range=x_range,y_range=y_range\n",
    "                          )\n",
    "plots[1].axis.major_label_text_font_size = \"10pt\"\n",
    "\n",
    "# must give a vector of image data for image parameter\n",
    "plots[0].image(image=[out3[1:,:]], x=0, y=0, dw=bin3[-1], dh=7, palette=palette)\n",
    "color = LinearColorMapper(palette = palette, low = out3.min(), high = out3.max())\n",
    "cb = ColorBar(color_mapper = color, location = (0,0), width=5)\n",
    "plots[0].add_layout(cb, 'right')\n",
    "plots[0].yaxis.ticker = list(np.linspace(0.5,6.5,7))\n",
    "\n",
    "plots[1].image(image=[out4[1:,:]], x=0, y=0, dw=bin4[-1], dh=7, palette=palette)\n",
    "color = LinearColorMapper(palette = palette, low = out4.min(), high = out4.max())\n",
    "cb = ColorBar(color_mapper = color, location = (0,0), width=5)\n",
    "plots[1].add_layout(cb, 'right')\n",
    "plots[1].yaxis.ticker = list(np.linspace(0.5,6.5,7))\n",
    "\n",
    "bokeh.io.show(bokeh.layouts.row(plots))"
   ]
  },
  {
   "cell_type": "markdown",
   "metadata": {
    "id": "PB33GJkSLDb4"
   },
   "source": [
    "In the next code, we compute the distributions for different parameters and compare them in a heat plot. Here, we vary the initial conditions"
   ]
  },
  {
   "cell_type": "code",
   "execution_count": 93,
   "metadata": {
    "id": "l1_FfcUjLDb4"
   },
   "outputs": [
    {
     "name": "stderr",
     "output_type": "stream",
     "text": [
      "100%|██████████| 125/125 [00:35<00:00,  3.53it/s]\n",
      "100%|██████████| 125/125 [00:35<00:00,  3.49it/s]\n",
      "100%|██████████| 125/125 [00:35<00:00,  3.47it/s]\n",
      "100%|██████████| 125/125 [00:36<00:00,  3.46it/s]\n",
      "100%|██████████| 125/125 [00:34<00:00,  3.67it/s]\n",
      "100%|██████████| 125/125 [00:35<00:00,  3.54it/s]\n",
      "100%|██████████| 125/125 [00:35<00:00,  3.53it/s]\n",
      "100%|██████████| 125/125 [00:35<00:00,  3.50it/s]\n",
      "100%|██████████| 125/125 [00:35<00:00,  3.54it/s]\n",
      "100%|██████████| 125/125 [00:35<00:00,  3.49it/s]\n",
      "100%|██████████| 125/125 [00:36<00:00,  3.45it/s]\n",
      "100%|██████████| 125/125 [00:36<00:00,  3.41it/s]\n",
      "100%|██████████| 125/125 [00:34<00:00,  3.58it/s]\n",
      "100%|██████████| 125/125 [00:35<00:00,  3.53it/s]\n",
      "100%|██████████| 125/125 [00:35<00:00,  3.49it/s]\n",
      "100%|██████████| 125/125 [00:35<00:00,  3.48it/s]\n",
      "100%|██████████| 125/125 [00:31<00:00,  4.01it/s]\n",
      "100%|██████████| 125/125 [00:31<00:00,  4.01it/s]\n",
      "100%|██████████| 125/125 [00:31<00:00,  3.99it/s]\n",
      "100%|██████████| 125/125 [00:31<00:00,  3.97it/s]\n",
      " 98%|█████████▊| 123/125 [00:32<00:00,  4.62it/s]\n",
      "100%|██████████| 125/125 [00:32<00:00,  3.85it/s]\n",
      "100%|██████████| 125/125 [00:32<00:00,  3.82it/s]\n",
      "100%|██████████| 125/125 [00:32<00:00,  3.82it/s]\n",
      "100%|██████████| 125/125 [00:29<00:00,  4.19it/s]\n",
      "100%|██████████| 125/125 [00:31<00:00,  4.00it/s]\n",
      "100%|██████████| 125/125 [00:31<00:00,  3.97it/s]\n",
      "100%|██████████| 125/125 [00:31<00:00,  3.91it/s]\n"
     ]
    }
   ],
   "source": [
    "args = (th, rh, ph, d, g, gd, a0, d0, r, Omega, n)\n",
    "time_points = np.linspace(0, 10, 51)\n",
    "\n",
    "size = 125 #125\n",
    "par = 7 # corresponds to the state 7 (recombinase)\n",
    "#scale = (0,3,6,9,12,15,18)\n",
    "scale = (0,5,10,15,20,25,30)\n",
    "idx = 7 # Concentration of recombinase\n",
    "\n",
    "bin5 = np.linspace(0,10,21)\n",
    "out5 = np.zeros(bin5.shape[0]-1)\n",
    "\n",
    "bin6 = np.linspace(0,200,25)\n",
    "out6 = np.zeros(bin6.shape[0]-1)\n",
    "\n",
    "population_i = np.zeros(9, dtype=int)\n",
    "population_i[0] = n\n",
    "\n",
    "for x0 in scale:\n",
    "    # Update model para\n",
    "    population_i[par] = x0\n",
    "    samples = biocircuits.gillespie_ssa(simple_propensity, simple_update, population_i,time_points, size=size, args=args, n_threads=4,progress_bar=True)\n",
    "               \n",
    "    Tf, Af = Find_A_t(time_points,samples, idx)\n",
    "    hist, bin_edges = np.histogram(Tf, bin5, density=False)\n",
    "    out5 = np.vstack((out5,hist))\n",
    "        \n",
    "    hist, bin_edges = np.histogram(Af, bin6, density=False)\n",
    "    out6 = np.vstack((out6,hist))"
   ]
  },
  {
   "cell_type": "code",
   "execution_count": 100,
   "metadata": {
    "id": "fnVWAbK2LDb5",
    "outputId": "ea7d65f5-fc4d-4deb-95be-9ae08d5ea04f"
   },
   "outputs": [
    {
     "data": {
      "text/html": [
       "\n",
       "\n",
       "\n",
       "\n",
       "\n",
       "\n",
       "  <div class=\"bk-root\" id=\"14dce8b4-61c4-47d9-b959-9709afa8ef61\" data-root-id=\"187755\"></div>\n"
      ]
     },
     "metadata": {},
     "output_type": "display_data"
    },
    {
     "data": {
      "application/javascript": [
       "(function(root) {\n",
       "  function embed_document(root) {\n",
       "    \n",
       "  const docs_json = {\"f8e26ee1-c6e3-4492-8c15-e1cb4a6b3b99\":{\"defs\":[],\"roots\":{\"references\":[{\"attributes\":{\"children\":[{\"id\":\"187661\"},{\"id\":\"187692\"}]},\"id\":\"187755\",\"type\":\"Row\"},{\"attributes\":{},\"id\":\"191108\",\"type\":\"BasicTickFormatter\"},{\"attributes\":{\"bottom_units\":\"screen\",\"coordinates\":null,\"fill_alpha\":0.5,\"fill_color\":\"lightgrey\",\"group\":null,\"left_units\":\"screen\",\"level\":\"overlay\",\"line_alpha\":1.0,\"line_color\":\"black\",\"line_dash\":[4,4],\"line_width\":2,\"right_units\":\"screen\",\"syncable\":false,\"top_units\":\"screen\"},\"id\":\"187715\",\"type\":\"BoxAnnotation\"},{\"attributes\":{},\"id\":\"191109\",\"type\":\"AllLabels\"},{\"attributes\":{\"high\":112.0,\"low\":0.0,\"palette\":[\"#0C0786\",\"#100787\",\"#130689\",\"#15068A\",\"#18068B\",\"#1B068C\",\"#1D068D\",\"#1F058E\",\"#21058F\",\"#230590\",\"#250591\",\"#270592\",\"#290593\",\"#2B0594\",\"#2D0494\",\"#2F0495\",\"#310496\",\"#330497\",\"#340498\",\"#360498\",\"#380499\",\"#3A049A\",\"#3B039A\",\"#3D039B\",\"#3F039C\",\"#40039C\",\"#42039D\",\"#44039E\",\"#45039E\",\"#47029F\",\"#49029F\",\"#4A02A0\",\"#4C02A1\",\"#4E02A1\",\"#4F02A2\",\"#5101A2\",\"#5201A3\",\"#5401A3\",\"#5601A3\",\"#5701A4\",\"#5901A4\",\"#5A00A5\",\"#5C00A5\",\"#5E00A5\",\"#5F00A6\",\"#6100A6\",\"#6200A6\",\"#6400A7\",\"#6500A7\",\"#6700A7\",\"#6800A7\",\"#6A00A7\",\"#6C00A8\",\"#6D00A8\",\"#6F00A8\",\"#7000A8\",\"#7200A8\",\"#7300A8\",\"#7500A8\",\"#7601A8\",\"#7801A8\",\"#7901A8\",\"#7B02A8\",\"#7C02A7\",\"#7E03A7\",\"#7F03A7\",\"#8104A7\",\"#8204A7\",\"#8405A6\",\"#8506A6\",\"#8607A6\",\"#8807A5\",\"#8908A5\",\"#8B09A4\",\"#8C0AA4\",\"#8E0CA4\",\"#8F0DA3\",\"#900EA3\",\"#920FA2\",\"#9310A1\",\"#9511A1\",\"#9612A0\",\"#9713A0\",\"#99149F\",\"#9A159E\",\"#9B179E\",\"#9D189D\",\"#9E199C\",\"#9F1A9B\",\"#A01B9B\",\"#A21C9A\",\"#A31D99\",\"#A41E98\",\"#A51F97\",\"#A72197\",\"#A82296\",\"#A92395\",\"#AA2494\",\"#AC2593\",\"#AD2692\",\"#AE2791\",\"#AF2890\",\"#B02A8F\",\"#B12B8F\",\"#B22C8E\",\"#B42D8D\",\"#B52E8C\",\"#B62F8B\",\"#B7308A\",\"#B83289\",\"#B93388\",\"#BA3487\",\"#BB3586\",\"#BC3685\",\"#BD3784\",\"#BE3883\",\"#BF3982\",\"#C03B81\",\"#C13C80\",\"#C23D80\",\"#C33E7F\",\"#C43F7E\",\"#C5407D\",\"#C6417C\",\"#C7427B\",\"#C8447A\",\"#C94579\",\"#CA4678\",\"#CB4777\",\"#CC4876\",\"#CD4975\",\"#CE4A75\",\"#CF4B74\",\"#D04D73\",\"#D14E72\",\"#D14F71\",\"#D25070\",\"#D3516F\",\"#D4526E\",\"#D5536D\",\"#D6556D\",\"#D7566C\",\"#D7576B\",\"#D8586A\",\"#D95969\",\"#DA5A68\",\"#DB5B67\",\"#DC5D66\",\"#DC5E66\",\"#DD5F65\",\"#DE6064\",\"#DF6163\",\"#DF6262\",\"#E06461\",\"#E16560\",\"#E26660\",\"#E3675F\",\"#E3685E\",\"#E46A5D\",\"#E56B5C\",\"#E56C5B\",\"#E66D5A\",\"#E76E5A\",\"#E87059\",\"#E87158\",\"#E97257\",\"#EA7356\",\"#EA7455\",\"#EB7654\",\"#EC7754\",\"#EC7853\",\"#ED7952\",\"#ED7B51\",\"#EE7C50\",\"#EF7D4F\",\"#EF7E4E\",\"#F0804D\",\"#F0814D\",\"#F1824C\",\"#F2844B\",\"#F2854A\",\"#F38649\",\"#F38748\",\"#F48947\",\"#F48A47\",\"#F58B46\",\"#F58D45\",\"#F68E44\",\"#F68F43\",\"#F69142\",\"#F79241\",\"#F79341\",\"#F89540\",\"#F8963F\",\"#F8983E\",\"#F9993D\",\"#F99A3C\",\"#FA9C3B\",\"#FA9D3A\",\"#FA9F3A\",\"#FAA039\",\"#FBA238\",\"#FBA337\",\"#FBA436\",\"#FCA635\",\"#FCA735\",\"#FCA934\",\"#FCAA33\",\"#FCAC32\",\"#FCAD31\",\"#FDAF31\",\"#FDB030\",\"#FDB22F\",\"#FDB32E\",\"#FDB52D\",\"#FDB62D\",\"#FDB82C\",\"#FDB92B\",\"#FDBB2B\",\"#FDBC2A\",\"#FDBE29\",\"#FDC029\",\"#FDC128\",\"#FDC328\",\"#FDC427\",\"#FDC626\",\"#FCC726\",\"#FCC926\",\"#FCCB25\",\"#FCCC25\",\"#FCCE25\",\"#FBD024\",\"#FBD124\",\"#FBD324\",\"#FAD524\",\"#FAD624\",\"#FAD824\",\"#F9D924\",\"#F9DB24\",\"#F8DD24\",\"#F8DF24\",\"#F7E024\",\"#F7E225\",\"#F6E425\",\"#F6E525\",\"#F5E726\",\"#F5E926\",\"#F4EA26\",\"#F3EC26\",\"#F3EE26\",\"#F2F026\",\"#F2F126\",\"#F1F326\",\"#F0F525\",\"#F0F623\",\"#EFF821\"]},\"id\":\"187751\",\"type\":\"LinearColorMapper\"},{\"attributes\":{},\"id\":\"191110\",\"type\":\"NoOverlap\"},{\"attributes\":{\"palette\":[\"#0C0786\",\"#100787\",\"#130689\",\"#15068A\",\"#18068B\",\"#1B068C\",\"#1D068D\",\"#1F058E\",\"#21058F\",\"#230590\",\"#250591\",\"#270592\",\"#290593\",\"#2B0594\",\"#2D0494\",\"#2F0495\",\"#310496\",\"#330497\",\"#340498\",\"#360498\",\"#380499\",\"#3A049A\",\"#3B039A\",\"#3D039B\",\"#3F039C\",\"#40039C\",\"#42039D\",\"#44039E\",\"#45039E\",\"#47029F\",\"#49029F\",\"#4A02A0\",\"#4C02A1\",\"#4E02A1\",\"#4F02A2\",\"#5101A2\",\"#5201A3\",\"#5401A3\",\"#5601A3\",\"#5701A4\",\"#5901A4\",\"#5A00A5\",\"#5C00A5\",\"#5E00A5\",\"#5F00A6\",\"#6100A6\",\"#6200A6\",\"#6400A7\",\"#6500A7\",\"#6700A7\",\"#6800A7\",\"#6A00A7\",\"#6C00A8\",\"#6D00A8\",\"#6F00A8\",\"#7000A8\",\"#7200A8\",\"#7300A8\",\"#7500A8\",\"#7601A8\",\"#7801A8\",\"#7901A8\",\"#7B02A8\",\"#7C02A7\",\"#7E03A7\",\"#7F03A7\",\"#8104A7\",\"#8204A7\",\"#8405A6\",\"#8506A6\",\"#8607A6\",\"#8807A5\",\"#8908A5\",\"#8B09A4\",\"#8C0AA4\",\"#8E0CA4\",\"#8F0DA3\",\"#900EA3\",\"#920FA2\",\"#9310A1\",\"#9511A1\",\"#9612A0\",\"#9713A0\",\"#99149F\",\"#9A159E\",\"#9B179E\",\"#9D189D\",\"#9E199C\",\"#9F1A9B\",\"#A01B9B\",\"#A21C9A\",\"#A31D99\",\"#A41E98\",\"#A51F97\",\"#A72197\",\"#A82296\",\"#A92395\",\"#AA2494\",\"#AC2593\",\"#AD2692\",\"#AE2791\",\"#AF2890\",\"#B02A8F\",\"#B12B8F\",\"#B22C8E\",\"#B42D8D\",\"#B52E8C\",\"#B62F8B\",\"#B7308A\",\"#B83289\",\"#B93388\",\"#BA3487\",\"#BB3586\",\"#BC3685\",\"#BD3784\",\"#BE3883\",\"#BF3982\",\"#C03B81\",\"#C13C80\",\"#C23D80\",\"#C33E7F\",\"#C43F7E\",\"#C5407D\",\"#C6417C\",\"#C7427B\",\"#C8447A\",\"#C94579\",\"#CA4678\",\"#CB4777\",\"#CC4876\",\"#CD4975\",\"#CE4A75\",\"#CF4B74\",\"#D04D73\",\"#D14E72\",\"#D14F71\",\"#D25070\",\"#D3516F\",\"#D4526E\",\"#D5536D\",\"#D6556D\",\"#D7566C\",\"#D7576B\",\"#D8586A\",\"#D95969\",\"#DA5A68\",\"#DB5B67\",\"#DC5D66\",\"#DC5E66\",\"#DD5F65\",\"#DE6064\",\"#DF6163\",\"#DF6262\",\"#E06461\",\"#E16560\",\"#E26660\",\"#E3675F\",\"#E3685E\",\"#E46A5D\",\"#E56B5C\",\"#E56C5B\",\"#E66D5A\",\"#E76E5A\",\"#E87059\",\"#E87158\",\"#E97257\",\"#EA7356\",\"#EA7455\",\"#EB7654\",\"#EC7754\",\"#EC7853\",\"#ED7952\",\"#ED7B51\",\"#EE7C50\",\"#EF7D4F\",\"#EF7E4E\",\"#F0804D\",\"#F0814D\",\"#F1824C\",\"#F2844B\",\"#F2854A\",\"#F38649\",\"#F38748\",\"#F48947\",\"#F48A47\",\"#F58B46\",\"#F58D45\",\"#F68E44\",\"#F68F43\",\"#F69142\",\"#F79241\",\"#F79341\",\"#F89540\",\"#F8963F\",\"#F8983E\",\"#F9993D\",\"#F99A3C\",\"#FA9C3B\",\"#FA9D3A\",\"#FA9F3A\",\"#FAA039\",\"#FBA238\",\"#FBA337\",\"#FBA436\",\"#FCA635\",\"#FCA735\",\"#FCA934\",\"#FCAA33\",\"#FCAC32\",\"#FCAD31\",\"#FDAF31\",\"#FDB030\",\"#FDB22F\",\"#FDB32E\",\"#FDB52D\",\"#FDB62D\",\"#FDB82C\",\"#FDB92B\",\"#FDBB2B\",\"#FDBC2A\",\"#FDBE29\",\"#FDC029\",\"#FDC128\",\"#FDC328\",\"#FDC427\",\"#FDC626\",\"#FCC726\",\"#FCC926\",\"#FCCB25\",\"#FCCC25\",\"#FCCE25\",\"#FBD024\",\"#FBD124\",\"#FBD324\",\"#FAD524\",\"#FAD624\",\"#FAD824\",\"#F9D924\",\"#F9DB24\",\"#F8DD24\",\"#F8DF24\",\"#F7E024\",\"#F7E225\",\"#F6E425\",\"#F6E525\",\"#F5E726\",\"#F5E926\",\"#F4EA26\",\"#F3EC26\",\"#F3EE26\",\"#F2F026\",\"#F2F126\",\"#F1F326\",\"#F0F525\",\"#F0F623\",\"#EFF821\"]},\"id\":\"187725\",\"type\":\"LinearColorMapper\"},{\"attributes\":{\"color_mapper\":{\"id\":\"187751\"},\"coordinates\":null,\"group\":null,\"location\":[0,0],\"major_label_policy\":{\"id\":\"191116\"},\"width\":5},\"id\":\"187752\",\"type\":\"ColorBar\"},{\"attributes\":{},\"id\":\"191112\",\"type\":\"BasicTickFormatter\"},{\"attributes\":{},\"id\":\"191113\",\"type\":\"AllLabels\"},{\"attributes\":{\"color_mapper\":{\"id\":\"187735\"},\"coordinates\":null,\"group\":null,\"location\":[0,0],\"major_label_policy\":{\"id\":\"191110\"},\"width\":5},\"id\":\"187736\",\"type\":\"ColorBar\"},{\"attributes\":{\"color_mapper\":{\"id\":\"187728\"},\"dh\":{\"value\":7},\"dw\":{\"value\":10.0},\"global_alpha\":{\"value\":0.1},\"image\":{\"field\":\"image\"},\"x\":{\"value\":0},\"y\":{\"value\":0}},\"id\":\"187727\",\"type\":\"Image\"},{\"attributes\":{\"palette\":[\"#0C0786\",\"#100787\",\"#130689\",\"#15068A\",\"#18068B\",\"#1B068C\",\"#1D068D\",\"#1F058E\",\"#21058F\",\"#230590\",\"#250591\",\"#270592\",\"#290593\",\"#2B0594\",\"#2D0494\",\"#2F0495\",\"#310496\",\"#330497\",\"#340498\",\"#360498\",\"#380499\",\"#3A049A\",\"#3B039A\",\"#3D039B\",\"#3F039C\",\"#40039C\",\"#42039D\",\"#44039E\",\"#45039E\",\"#47029F\",\"#49029F\",\"#4A02A0\",\"#4C02A1\",\"#4E02A1\",\"#4F02A2\",\"#5101A2\",\"#5201A3\",\"#5401A3\",\"#5601A3\",\"#5701A4\",\"#5901A4\",\"#5A00A5\",\"#5C00A5\",\"#5E00A5\",\"#5F00A6\",\"#6100A6\",\"#6200A6\",\"#6400A7\",\"#6500A7\",\"#6700A7\",\"#6800A7\",\"#6A00A7\",\"#6C00A8\",\"#6D00A8\",\"#6F00A8\",\"#7000A8\",\"#7200A8\",\"#7300A8\",\"#7500A8\",\"#7601A8\",\"#7801A8\",\"#7901A8\",\"#7B02A8\",\"#7C02A7\",\"#7E03A7\",\"#7F03A7\",\"#8104A7\",\"#8204A7\",\"#8405A6\",\"#8506A6\",\"#8607A6\",\"#8807A5\",\"#8908A5\",\"#8B09A4\",\"#8C0AA4\",\"#8E0CA4\",\"#8F0DA3\",\"#900EA3\",\"#920FA2\",\"#9310A1\",\"#9511A1\",\"#9612A0\",\"#9713A0\",\"#99149F\",\"#9A159E\",\"#9B179E\",\"#9D189D\",\"#9E199C\",\"#9F1A9B\",\"#A01B9B\",\"#A21C9A\",\"#A31D99\",\"#A41E98\",\"#A51F97\",\"#A72197\",\"#A82296\",\"#A92395\",\"#AA2494\",\"#AC2593\",\"#AD2692\",\"#AE2791\",\"#AF2890\",\"#B02A8F\",\"#B12B8F\",\"#B22C8E\",\"#B42D8D\",\"#B52E8C\",\"#B62F8B\",\"#B7308A\",\"#B83289\",\"#B93388\",\"#BA3487\",\"#BB3586\",\"#BC3685\",\"#BD3784\",\"#BE3883\",\"#BF3982\",\"#C03B81\",\"#C13C80\",\"#C23D80\",\"#C33E7F\",\"#C43F7E\",\"#C5407D\",\"#C6417C\",\"#C7427B\",\"#C8447A\",\"#C94579\",\"#CA4678\",\"#CB4777\",\"#CC4876\",\"#CD4975\",\"#CE4A75\",\"#CF4B74\",\"#D04D73\",\"#D14E72\",\"#D14F71\",\"#D25070\",\"#D3516F\",\"#D4526E\",\"#D5536D\",\"#D6556D\",\"#D7566C\",\"#D7576B\",\"#D8586A\",\"#D95969\",\"#DA5A68\",\"#DB5B67\",\"#DC5D66\",\"#DC5E66\",\"#DD5F65\",\"#DE6064\",\"#DF6163\",\"#DF6262\",\"#E06461\",\"#E16560\",\"#E26660\",\"#E3675F\",\"#E3685E\",\"#E46A5D\",\"#E56B5C\",\"#E56C5B\",\"#E66D5A\",\"#E76E5A\",\"#E87059\",\"#E87158\",\"#E97257\",\"#EA7356\",\"#EA7455\",\"#EB7654\",\"#EC7754\",\"#EC7853\",\"#ED7952\",\"#ED7B51\",\"#EE7C50\",\"#EF7D4F\",\"#EF7E4E\",\"#F0804D\",\"#F0814D\",\"#F1824C\",\"#F2844B\",\"#F2854A\",\"#F38649\",\"#F38748\",\"#F48947\",\"#F48A47\",\"#F58B46\",\"#F58D45\",\"#F68E44\",\"#F68F43\",\"#F69142\",\"#F79241\",\"#F79341\",\"#F89540\",\"#F8963F\",\"#F8983E\",\"#F9993D\",\"#F99A3C\",\"#FA9C3B\",\"#FA9D3A\",\"#FA9F3A\",\"#FAA039\",\"#FBA238\",\"#FBA337\",\"#FBA436\",\"#FCA635\",\"#FCA735\",\"#FCA934\",\"#FCAA33\",\"#FCAC32\",\"#FCAD31\",\"#FDAF31\",\"#FDB030\",\"#FDB22F\",\"#FDB32E\",\"#FDB52D\",\"#FDB62D\",\"#FDB82C\",\"#FDB92B\",\"#FDBB2B\",\"#FDBC2A\",\"#FDBE29\",\"#FDC029\",\"#FDC128\",\"#FDC328\",\"#FDC427\",\"#FDC626\",\"#FCC726\",\"#FCC926\",\"#FCCB25\",\"#FCCC25\",\"#FCCE25\",\"#FBD024\",\"#FBD124\",\"#FBD324\",\"#FAD524\",\"#FAD624\",\"#FAD824\",\"#F9D924\",\"#F9DB24\",\"#F8DD24\",\"#F8DF24\",\"#F7E024\",\"#F7E225\",\"#F6E425\",\"#F6E525\",\"#F5E726\",\"#F5E926\",\"#F4EA26\",\"#F3EC26\",\"#F3EE26\",\"#F2F026\",\"#F2F126\",\"#F1F326\",\"#F0F525\",\"#F0F623\",\"#EFF821\"]},\"id\":\"187728\",\"type\":\"LinearColorMapper\"},{\"attributes\":{\"end\":7},\"id\":\"187664\",\"type\":\"Range1d\"},{\"attributes\":{\"color_mapper\":{\"id\":\"187731\"},\"dh\":{\"value\":7},\"dw\":{\"value\":10.0},\"global_alpha\":{\"value\":0.2},\"image\":{\"field\":\"image\"},\"x\":{\"value\":0},\"y\":{\"value\":0}},\"id\":\"187730\",\"type\":\"Image\"},{\"attributes\":{\"palette\":[\"#0C0786\",\"#100787\",\"#130689\",\"#15068A\",\"#18068B\",\"#1B068C\",\"#1D068D\",\"#1F058E\",\"#21058F\",\"#230590\",\"#250591\",\"#270592\",\"#290593\",\"#2B0594\",\"#2D0494\",\"#2F0495\",\"#310496\",\"#330497\",\"#340498\",\"#360498\",\"#380499\",\"#3A049A\",\"#3B039A\",\"#3D039B\",\"#3F039C\",\"#40039C\",\"#42039D\",\"#44039E\",\"#45039E\",\"#47029F\",\"#49029F\",\"#4A02A0\",\"#4C02A1\",\"#4E02A1\",\"#4F02A2\",\"#5101A2\",\"#5201A3\",\"#5401A3\",\"#5601A3\",\"#5701A4\",\"#5901A4\",\"#5A00A5\",\"#5C00A5\",\"#5E00A5\",\"#5F00A6\",\"#6100A6\",\"#6200A6\",\"#6400A7\",\"#6500A7\",\"#6700A7\",\"#6800A7\",\"#6A00A7\",\"#6C00A8\",\"#6D00A8\",\"#6F00A8\",\"#7000A8\",\"#7200A8\",\"#7300A8\",\"#7500A8\",\"#7601A8\",\"#7801A8\",\"#7901A8\",\"#7B02A8\",\"#7C02A7\",\"#7E03A7\",\"#7F03A7\",\"#8104A7\",\"#8204A7\",\"#8405A6\",\"#8506A6\",\"#8607A6\",\"#8807A5\",\"#8908A5\",\"#8B09A4\",\"#8C0AA4\",\"#8E0CA4\",\"#8F0DA3\",\"#900EA3\",\"#920FA2\",\"#9310A1\",\"#9511A1\",\"#9612A0\",\"#9713A0\",\"#99149F\",\"#9A159E\",\"#9B179E\",\"#9D189D\",\"#9E199C\",\"#9F1A9B\",\"#A01B9B\",\"#A21C9A\",\"#A31D99\",\"#A41E98\",\"#A51F97\",\"#A72197\",\"#A82296\",\"#A92395\",\"#AA2494\",\"#AC2593\",\"#AD2692\",\"#AE2791\",\"#AF2890\",\"#B02A8F\",\"#B12B8F\",\"#B22C8E\",\"#B42D8D\",\"#B52E8C\",\"#B62F8B\",\"#B7308A\",\"#B83289\",\"#B93388\",\"#BA3487\",\"#BB3586\",\"#BC3685\",\"#BD3784\",\"#BE3883\",\"#BF3982\",\"#C03B81\",\"#C13C80\",\"#C23D80\",\"#C33E7F\",\"#C43F7E\",\"#C5407D\",\"#C6417C\",\"#C7427B\",\"#C8447A\",\"#C94579\",\"#CA4678\",\"#CB4777\",\"#CC4876\",\"#CD4975\",\"#CE4A75\",\"#CF4B74\",\"#D04D73\",\"#D14E72\",\"#D14F71\",\"#D25070\",\"#D3516F\",\"#D4526E\",\"#D5536D\",\"#D6556D\",\"#D7566C\",\"#D7576B\",\"#D8586A\",\"#D95969\",\"#DA5A68\",\"#DB5B67\",\"#DC5D66\",\"#DC5E66\",\"#DD5F65\",\"#DE6064\",\"#DF6163\",\"#DF6262\",\"#E06461\",\"#E16560\",\"#E26660\",\"#E3675F\",\"#E3685E\",\"#E46A5D\",\"#E56B5C\",\"#E56C5B\",\"#E66D5A\",\"#E76E5A\",\"#E87059\",\"#E87158\",\"#E97257\",\"#EA7356\",\"#EA7455\",\"#EB7654\",\"#EC7754\",\"#EC7853\",\"#ED7952\",\"#ED7B51\",\"#EE7C50\",\"#EF7D4F\",\"#EF7E4E\",\"#F0804D\",\"#F0814D\",\"#F1824C\",\"#F2844B\",\"#F2854A\",\"#F38649\",\"#F38748\",\"#F48947\",\"#F48A47\",\"#F58B46\",\"#F58D45\",\"#F68E44\",\"#F68F43\",\"#F69142\",\"#F79241\",\"#F79341\",\"#F89540\",\"#F8963F\",\"#F8983E\",\"#F9993D\",\"#F99A3C\",\"#FA9C3B\",\"#FA9D3A\",\"#FA9F3A\",\"#FAA039\",\"#FBA238\",\"#FBA337\",\"#FBA436\",\"#FCA635\",\"#FCA735\",\"#FCA934\",\"#FCAA33\",\"#FCAC32\",\"#FCAD31\",\"#FDAF31\",\"#FDB030\",\"#FDB22F\",\"#FDB32E\",\"#FDB52D\",\"#FDB62D\",\"#FDB82C\",\"#FDB92B\",\"#FDBB2B\",\"#FDBC2A\",\"#FDBE29\",\"#FDC029\",\"#FDC128\",\"#FDC328\",\"#FDC427\",\"#FDC626\",\"#FCC726\",\"#FCC926\",\"#FCCB25\",\"#FCCC25\",\"#FCCE25\",\"#FBD024\",\"#FBD124\",\"#FBD324\",\"#FAD524\",\"#FAD624\",\"#FAD824\",\"#F9D924\",\"#F9DB24\",\"#F8DD24\",\"#F8DF24\",\"#F7E024\",\"#F7E225\",\"#F6E425\",\"#F6E525\",\"#F5E726\",\"#F5E926\",\"#F4EA26\",\"#F3EC26\",\"#F3EE26\",\"#F2F026\",\"#F2F126\",\"#F1F326\",\"#F0F525\",\"#F0F623\",\"#EFF821\"]},\"id\":\"187731\",\"type\":\"LinearColorMapper\"},{\"attributes\":{},\"id\":\"187666\",\"type\":\"LinearScale\"},{\"attributes\":{},\"id\":\"191123\",\"type\":\"UnionRenderers\"},{\"attributes\":{\"coordinates\":null,\"formatter\":{\"id\":\"191108\"},\"group\":null,\"major_label_policy\":{\"id\":\"191109\"},\"major_label_text_font_size\":\"10pt\",\"ticker\":{\"id\":\"187737\"}},\"id\":\"187674\",\"type\":\"LinearAxis\"},{\"attributes\":{\"coordinates\":null,\"data_source\":{\"id\":\"187723\"},\"glyph\":{\"id\":\"187724\"},\"group\":null,\"hover_glyph\":null,\"muted_glyph\":{\"id\":\"187730\"},\"nonselection_glyph\":{\"id\":\"187727\"},\"view\":{\"id\":\"187734\"}},\"id\":\"187733\",\"type\":\"GlyphRenderer\"},{\"attributes\":{\"below\":[{\"id\":\"187701\"}],\"center\":[{\"id\":\"187704\"},{\"id\":\"187708\"}],\"height\":115,\"left\":[{\"id\":\"187705\"}],\"renderers\":[{\"id\":\"187749\"}],\"right\":[{\"id\":\"187752\"}],\"title\":{\"id\":\"191106\"},\"toolbar\":{\"id\":\"187716\"},\"width\":190,\"x_range\":{\"id\":\"187693\"},\"x_scale\":{\"id\":\"187697\"},\"y_range\":{\"id\":\"187695\"},\"y_scale\":{\"id\":\"187699\"}},\"id\":\"187692\",\"subtype\":\"Figure\",\"type\":\"Plot\"},{\"attributes\":{\"source\":{\"id\":\"187723\"}},\"id\":\"187734\",\"type\":\"CDSView\"},{\"attributes\":{\"coordinates\":null,\"group\":null},\"id\":\"191104\",\"type\":\"Title\"},{\"attributes\":{\"ticks\":[0.5,1.5,2.5,3.5,4.5,5.5,6.5]},\"id\":\"187737\",\"type\":\"FixedTicker\"},{\"attributes\":{\"color_mapper\":{\"id\":\"187744\"},\"dh\":{\"value\":7},\"dw\":{\"value\":200.0},\"global_alpha\":{\"value\":0.1},\"image\":{\"field\":\"image\"},\"x\":{\"value\":0},\"y\":{\"value\":0}},\"id\":\"187743\",\"type\":\"Image\"},{\"attributes\":{},\"id\":\"191124\",\"type\":\"Selection\"},{\"attributes\":{\"data\":{\"image\":[{\"__ndarray__\":\"AAAAAAAAAAAAAAAAAAAIQAAAAAAAACRAAAAAAACAQEAAAAAAAIBIQAAAAAAAwFRAAAAAAAAAXEAAAAAAAMBVQAAAAAAAgElAAAAAAACARUAAAAAAAAAxQAAAAAAAACBAAAAAAAAACEAAAAAAAADwPwAAAAAAAAAAAAAAAAAAAAAAAAAAAAAAAAAAAAAAAAAAAAAAAAAAAAAAAAAAAAAAAAAAAAAAAAAAAAAAAAAAAAAAAAAAAAAAAAAAAAAAAAAAAAAAAAAA8D8AAAAAAAAQQAAAAAAAABRAAAAAAAAAPkAAAAAAAIBIQAAAAAAAwFZAAAAAAABAWEAAAAAAAIBXQAAAAAAAgElAAAAAAACAREAAAAAAAAAsQAAAAAAAAC5AAAAAAAAAHEAAAAAAAAAAAAAAAAAAAAAAAAAAAAAA8D8AAAAAAAAAAAAAAAAAAAAAAAAAAAAAAAAAAAAAAAAAAAAAAAAAAAAAAAAAAAAAAAAAAAAAAAAAAAAAAAAAAAAAAAAAAAAAAAAAAAAAAAAcQAAAAAAAACRAAAAAAACAQUAAAAAAAIBKQAAAAAAAwFZAAAAAAAAAWEAAAAAAAIBRQAAAAAAAAFJAAAAAAACAQEAAAAAAAAA0QAAAAAAAABBAAAAAAAAAGEAAAAAAAADwPwAAAAAAAAAAAAAAAAAA8D8AAAAAAADwPwAAAAAAAAAAAAAAAAAAAAAAAAAAAAAAAAAAAAAAAAAAAAAAAAAAAAAAAAAAAAAAAAAAAAAAAAAAAAAAAAAAAAAAAAAAAAAmQAAAAAAAADJAAAAAAACAREAAAAAAAIBHQAAAAAAAQFRAAAAAAACAVkAAAAAAAABSQAAAAAAAgElAAAAAAAAAR0AAAAAAAAA9QAAAAAAAACBAAAAAAAAAAEAAAAAAAAAIQAAAAAAAAPA/AAAAAAAAAAAAAAAAAAAAAAAAAAAAAAAAAAAAAAAAAAAAAAAAAAAAAAAAAAAAAAAAAAAAAAAAAAAAAAAAAAAAAAAAAAAAAAAAAAAAAAAAAAAAAAAAAAAAAAAAAAAAAD1AAAAAAACARUAAAAAAAIBHQAAAAAAAgFRAAAAAAAAAW0AAAAAAAIBRQAAAAAAAgElAAAAAAAAARkAAAAAAAAAqQAAAAAAAABxAAAAAAAAACEAAAAAAAAAAQAAAAAAAAPA/AAAAAAAAAAAAAAAAAAAAAAAAAAAAAAAAAAAAAAAAAAAAAAAAAAAAAAAAAAAAAAAAAAAAAAAAAAAAAAAAAAAAAAAAAAAAAAAAAAAAAAAAAAAAAAAAAAAAAAAAAAAAAAAAAAAAAADAU0AAAAAAAIBQQAAAAAAAAFJAAAAAAABAWEAAAAAAAEBSQAAAAAAAgEhAAAAAAAAAO0AAAAAAAAAuQAAAAAAAACpAAAAAAAAAGEAAAAAAAAAAQAAAAAAAAPA/AAAAAAAAAAAAAAAAAAAAAAAAAAAAAAAAAAAAAAAAAAAAAAAAAAAAAAAAAAAAAAAAAAAAAAAAAAAAAAAAAAAAAAAAAAAAAAAAAAAAAAAAAAAAAAAAAAAAAAAAAAAAAAAAAAAAAADAVkAAAAAAAIBJQAAAAAAAQFNAAAAAAABAVEAAAAAAAMBVQAAAAAAAAEtAAAAAAAAAP0AAAAAAAAAuQAAAAAAAACRAAAAAAAAAAEAAAAAAAADwPwAAAAAAAAAAAAAAAAAAAAAAAAAAAAAAAAAAAAAAAAAAAAAAAAAAAAAAAAAAAAAAAAAAAAAAAAAAAAAAAAAAAAAAAAAAAAAAAAAAAAAAAAAA\",\"dtype\":\"float64\",\"order\":\"little\",\"shape\":[7,24]}]},\"selected\":{\"id\":\"191124\"},\"selection_policy\":{\"id\":\"191123\"}},\"id\":\"187739\",\"type\":\"ColumnDataSource\"},{\"attributes\":{\"below\":[{\"id\":\"187670\"}],\"center\":[{\"id\":\"187673\"},{\"id\":\"187677\"}],\"height\":115,\"left\":[{\"id\":\"187674\"}],\"renderers\":[{\"id\":\"187733\"}],\"right\":[{\"id\":\"187736\"}],\"title\":{\"id\":\"191104\"},\"toolbar\":{\"id\":\"187685\"},\"width\":190,\"x_range\":{\"id\":\"187662\"},\"x_scale\":{\"id\":\"187666\"},\"y_range\":{\"id\":\"187664\"},\"y_scale\":{\"id\":\"187668\"}},\"id\":\"187661\",\"subtype\":\"Figure\",\"type\":\"Plot\"},{\"attributes\":{\"palette\":[\"#0C0786\",\"#100787\",\"#130689\",\"#15068A\",\"#18068B\",\"#1B068C\",\"#1D068D\",\"#1F058E\",\"#21058F\",\"#230590\",\"#250591\",\"#270592\",\"#290593\",\"#2B0594\",\"#2D0494\",\"#2F0495\",\"#310496\",\"#330497\",\"#340498\",\"#360498\",\"#380499\",\"#3A049A\",\"#3B039A\",\"#3D039B\",\"#3F039C\",\"#40039C\",\"#42039D\",\"#44039E\",\"#45039E\",\"#47029F\",\"#49029F\",\"#4A02A0\",\"#4C02A1\",\"#4E02A1\",\"#4F02A2\",\"#5101A2\",\"#5201A3\",\"#5401A3\",\"#5601A3\",\"#5701A4\",\"#5901A4\",\"#5A00A5\",\"#5C00A5\",\"#5E00A5\",\"#5F00A6\",\"#6100A6\",\"#6200A6\",\"#6400A7\",\"#6500A7\",\"#6700A7\",\"#6800A7\",\"#6A00A7\",\"#6C00A8\",\"#6D00A8\",\"#6F00A8\",\"#7000A8\",\"#7200A8\",\"#7300A8\",\"#7500A8\",\"#7601A8\",\"#7801A8\",\"#7901A8\",\"#7B02A8\",\"#7C02A7\",\"#7E03A7\",\"#7F03A7\",\"#8104A7\",\"#8204A7\",\"#8405A6\",\"#8506A6\",\"#8607A6\",\"#8807A5\",\"#8908A5\",\"#8B09A4\",\"#8C0AA4\",\"#8E0CA4\",\"#8F0DA3\",\"#900EA3\",\"#920FA2\",\"#9310A1\",\"#9511A1\",\"#9612A0\",\"#9713A0\",\"#99149F\",\"#9A159E\",\"#9B179E\",\"#9D189D\",\"#9E199C\",\"#9F1A9B\",\"#A01B9B\",\"#A21C9A\",\"#A31D99\",\"#A41E98\",\"#A51F97\",\"#A72197\",\"#A82296\",\"#A92395\",\"#AA2494\",\"#AC2593\",\"#AD2692\",\"#AE2791\",\"#AF2890\",\"#B02A8F\",\"#B12B8F\",\"#B22C8E\",\"#B42D8D\",\"#B52E8C\",\"#B62F8B\",\"#B7308A\",\"#B83289\",\"#B93388\",\"#BA3487\",\"#BB3586\",\"#BC3685\",\"#BD3784\",\"#BE3883\",\"#BF3982\",\"#C03B81\",\"#C13C80\",\"#C23D80\",\"#C33E7F\",\"#C43F7E\",\"#C5407D\",\"#C6417C\",\"#C7427B\",\"#C8447A\",\"#C94579\",\"#CA4678\",\"#CB4777\",\"#CC4876\",\"#CD4975\",\"#CE4A75\",\"#CF4B74\",\"#D04D73\",\"#D14E72\",\"#D14F71\",\"#D25070\",\"#D3516F\",\"#D4526E\",\"#D5536D\",\"#D6556D\",\"#D7566C\",\"#D7576B\",\"#D8586A\",\"#D95969\",\"#DA5A68\",\"#DB5B67\",\"#DC5D66\",\"#DC5E66\",\"#DD5F65\",\"#DE6064\",\"#DF6163\",\"#DF6262\",\"#E06461\",\"#E16560\",\"#E26660\",\"#E3675F\",\"#E3685E\",\"#E46A5D\",\"#E56B5C\",\"#E56C5B\",\"#E66D5A\",\"#E76E5A\",\"#E87059\",\"#E87158\",\"#E97257\",\"#EA7356\",\"#EA7455\",\"#EB7654\",\"#EC7754\",\"#EC7853\",\"#ED7952\",\"#ED7B51\",\"#EE7C50\",\"#EF7D4F\",\"#EF7E4E\",\"#F0804D\",\"#F0814D\",\"#F1824C\",\"#F2844B\",\"#F2854A\",\"#F38649\",\"#F38748\",\"#F48947\",\"#F48A47\",\"#F58B46\",\"#F58D45\",\"#F68E44\",\"#F68F43\",\"#F69142\",\"#F79241\",\"#F79341\",\"#F89540\",\"#F8963F\",\"#F8983E\",\"#F9993D\",\"#F99A3C\",\"#FA9C3B\",\"#FA9D3A\",\"#FA9F3A\",\"#FAA039\",\"#FBA238\",\"#FBA337\",\"#FBA436\",\"#FCA635\",\"#FCA735\",\"#FCA934\",\"#FCAA33\",\"#FCAC32\",\"#FCAD31\",\"#FDAF31\",\"#FDB030\",\"#FDB22F\",\"#FDB32E\",\"#FDB52D\",\"#FDB62D\",\"#FDB82C\",\"#FDB92B\",\"#FDBB2B\",\"#FDBC2A\",\"#FDBE29\",\"#FDC029\",\"#FDC128\",\"#FDC328\",\"#FDC427\",\"#FDC626\",\"#FCC726\",\"#FCC926\",\"#FCCB25\",\"#FCCC25\",\"#FCCE25\",\"#FBD024\",\"#FBD124\",\"#FBD324\",\"#FAD524\",\"#FAD624\",\"#FAD824\",\"#F9D924\",\"#F9DB24\",\"#F8DD24\",\"#F8DF24\",\"#F7E024\",\"#F7E225\",\"#F6E425\",\"#F6E525\",\"#F5E726\",\"#F5E926\",\"#F4EA26\",\"#F3EC26\",\"#F3EE26\",\"#F2F026\",\"#F2F126\",\"#F1F326\",\"#F0F525\",\"#F0F623\",\"#EFF821\"]},\"id\":\"187741\",\"type\":\"LinearColorMapper\"},{\"attributes\":{\"palette\":[\"#0C0786\",\"#100787\",\"#130689\",\"#15068A\",\"#18068B\",\"#1B068C\",\"#1D068D\",\"#1F058E\",\"#21058F\",\"#230590\",\"#250591\",\"#270592\",\"#290593\",\"#2B0594\",\"#2D0494\",\"#2F0495\",\"#310496\",\"#330497\",\"#340498\",\"#360498\",\"#380499\",\"#3A049A\",\"#3B039A\",\"#3D039B\",\"#3F039C\",\"#40039C\",\"#42039D\",\"#44039E\",\"#45039E\",\"#47029F\",\"#49029F\",\"#4A02A0\",\"#4C02A1\",\"#4E02A1\",\"#4F02A2\",\"#5101A2\",\"#5201A3\",\"#5401A3\",\"#5601A3\",\"#5701A4\",\"#5901A4\",\"#5A00A5\",\"#5C00A5\",\"#5E00A5\",\"#5F00A6\",\"#6100A6\",\"#6200A6\",\"#6400A7\",\"#6500A7\",\"#6700A7\",\"#6800A7\",\"#6A00A7\",\"#6C00A8\",\"#6D00A8\",\"#6F00A8\",\"#7000A8\",\"#7200A8\",\"#7300A8\",\"#7500A8\",\"#7601A8\",\"#7801A8\",\"#7901A8\",\"#7B02A8\",\"#7C02A7\",\"#7E03A7\",\"#7F03A7\",\"#8104A7\",\"#8204A7\",\"#8405A6\",\"#8506A6\",\"#8607A6\",\"#8807A5\",\"#8908A5\",\"#8B09A4\",\"#8C0AA4\",\"#8E0CA4\",\"#8F0DA3\",\"#900EA3\",\"#920FA2\",\"#9310A1\",\"#9511A1\",\"#9612A0\",\"#9713A0\",\"#99149F\",\"#9A159E\",\"#9B179E\",\"#9D189D\",\"#9E199C\",\"#9F1A9B\",\"#A01B9B\",\"#A21C9A\",\"#A31D99\",\"#A41E98\",\"#A51F97\",\"#A72197\",\"#A82296\",\"#A92395\",\"#AA2494\",\"#AC2593\",\"#AD2692\",\"#AE2791\",\"#AF2890\",\"#B02A8F\",\"#B12B8F\",\"#B22C8E\",\"#B42D8D\",\"#B52E8C\",\"#B62F8B\",\"#B7308A\",\"#B83289\",\"#B93388\",\"#BA3487\",\"#BB3586\",\"#BC3685\",\"#BD3784\",\"#BE3883\",\"#BF3982\",\"#C03B81\",\"#C13C80\",\"#C23D80\",\"#C33E7F\",\"#C43F7E\",\"#C5407D\",\"#C6417C\",\"#C7427B\",\"#C8447A\",\"#C94579\",\"#CA4678\",\"#CB4777\",\"#CC4876\",\"#CD4975\",\"#CE4A75\",\"#CF4B74\",\"#D04D73\",\"#D14E72\",\"#D14F71\",\"#D25070\",\"#D3516F\",\"#D4526E\",\"#D5536D\",\"#D6556D\",\"#D7566C\",\"#D7576B\",\"#D8586A\",\"#D95969\",\"#DA5A68\",\"#DB5B67\",\"#DC5D66\",\"#DC5E66\",\"#DD5F65\",\"#DE6064\",\"#DF6163\",\"#DF6262\",\"#E06461\",\"#E16560\",\"#E26660\",\"#E3675F\",\"#E3685E\",\"#E46A5D\",\"#E56B5C\",\"#E56C5B\",\"#E66D5A\",\"#E76E5A\",\"#E87059\",\"#E87158\",\"#E97257\",\"#EA7356\",\"#EA7455\",\"#EB7654\",\"#EC7754\",\"#EC7853\",\"#ED7952\",\"#ED7B51\",\"#EE7C50\",\"#EF7D4F\",\"#EF7E4E\",\"#F0804D\",\"#F0814D\",\"#F1824C\",\"#F2844B\",\"#F2854A\",\"#F38649\",\"#F38748\",\"#F48947\",\"#F48A47\",\"#F58B46\",\"#F58D45\",\"#F68E44\",\"#F68F43\",\"#F69142\",\"#F79241\",\"#F79341\",\"#F89540\",\"#F8963F\",\"#F8983E\",\"#F9993D\",\"#F99A3C\",\"#FA9C3B\",\"#FA9D3A\",\"#FA9F3A\",\"#FAA039\",\"#FBA238\",\"#FBA337\",\"#FBA436\",\"#FCA635\",\"#FCA735\",\"#FCA934\",\"#FCAA33\",\"#FCAC32\",\"#FCAD31\",\"#FDAF31\",\"#FDB030\",\"#FDB22F\",\"#FDB32E\",\"#FDB52D\",\"#FDB62D\",\"#FDB82C\",\"#FDB92B\",\"#FDBB2B\",\"#FDBC2A\",\"#FDBE29\",\"#FDC029\",\"#FDC128\",\"#FDC328\",\"#FDC427\",\"#FDC626\",\"#FCC726\",\"#FCC926\",\"#FCCB25\",\"#FCCC25\",\"#FCCE25\",\"#FBD024\",\"#FBD124\",\"#FBD324\",\"#FAD524\",\"#FAD624\",\"#FAD824\",\"#F9D924\",\"#F9DB24\",\"#F8DD24\",\"#F8DF24\",\"#F7E024\",\"#F7E225\",\"#F6E425\",\"#F6E525\",\"#F5E726\",\"#F5E926\",\"#F4EA26\",\"#F3EC26\",\"#F3EE26\",\"#F2F026\",\"#F2F126\",\"#F1F326\",\"#F0F525\",\"#F0F623\",\"#EFF821\"]},\"id\":\"187744\",\"type\":\"LinearColorMapper\"},{\"attributes\":{},\"id\":\"191114\",\"type\":\"BasicTickFormatter\"},{\"attributes\":{\"color_mapper\":{\"id\":\"187747\"},\"dh\":{\"value\":7},\"dw\":{\"value\":200.0},\"global_alpha\":{\"value\":0.2},\"image\":{\"field\":\"image\"},\"x\":{\"value\":0},\"y\":{\"value\":0}},\"id\":\"187746\",\"type\":\"Image\"},{\"attributes\":{},\"id\":\"191115\",\"type\":\"AllLabels\"},{\"attributes\":{\"palette\":[\"#0C0786\",\"#100787\",\"#130689\",\"#15068A\",\"#18068B\",\"#1B068C\",\"#1D068D\",\"#1F058E\",\"#21058F\",\"#230590\",\"#250591\",\"#270592\",\"#290593\",\"#2B0594\",\"#2D0494\",\"#2F0495\",\"#310496\",\"#330497\",\"#340498\",\"#360498\",\"#380499\",\"#3A049A\",\"#3B039A\",\"#3D039B\",\"#3F039C\",\"#40039C\",\"#42039D\",\"#44039E\",\"#45039E\",\"#47029F\",\"#49029F\",\"#4A02A0\",\"#4C02A1\",\"#4E02A1\",\"#4F02A2\",\"#5101A2\",\"#5201A3\",\"#5401A3\",\"#5601A3\",\"#5701A4\",\"#5901A4\",\"#5A00A5\",\"#5C00A5\",\"#5E00A5\",\"#5F00A6\",\"#6100A6\",\"#6200A6\",\"#6400A7\",\"#6500A7\",\"#6700A7\",\"#6800A7\",\"#6A00A7\",\"#6C00A8\",\"#6D00A8\",\"#6F00A8\",\"#7000A8\",\"#7200A8\",\"#7300A8\",\"#7500A8\",\"#7601A8\",\"#7801A8\",\"#7901A8\",\"#7B02A8\",\"#7C02A7\",\"#7E03A7\",\"#7F03A7\",\"#8104A7\",\"#8204A7\",\"#8405A6\",\"#8506A6\",\"#8607A6\",\"#8807A5\",\"#8908A5\",\"#8B09A4\",\"#8C0AA4\",\"#8E0CA4\",\"#8F0DA3\",\"#900EA3\",\"#920FA2\",\"#9310A1\",\"#9511A1\",\"#9612A0\",\"#9713A0\",\"#99149F\",\"#9A159E\",\"#9B179E\",\"#9D189D\",\"#9E199C\",\"#9F1A9B\",\"#A01B9B\",\"#A21C9A\",\"#A31D99\",\"#A41E98\",\"#A51F97\",\"#A72197\",\"#A82296\",\"#A92395\",\"#AA2494\",\"#AC2593\",\"#AD2692\",\"#AE2791\",\"#AF2890\",\"#B02A8F\",\"#B12B8F\",\"#B22C8E\",\"#B42D8D\",\"#B52E8C\",\"#B62F8B\",\"#B7308A\",\"#B83289\",\"#B93388\",\"#BA3487\",\"#BB3586\",\"#BC3685\",\"#BD3784\",\"#BE3883\",\"#BF3982\",\"#C03B81\",\"#C13C80\",\"#C23D80\",\"#C33E7F\",\"#C43F7E\",\"#C5407D\",\"#C6417C\",\"#C7427B\",\"#C8447A\",\"#C94579\",\"#CA4678\",\"#CB4777\",\"#CC4876\",\"#CD4975\",\"#CE4A75\",\"#CF4B74\",\"#D04D73\",\"#D14E72\",\"#D14F71\",\"#D25070\",\"#D3516F\",\"#D4526E\",\"#D5536D\",\"#D6556D\",\"#D7566C\",\"#D7576B\",\"#D8586A\",\"#D95969\",\"#DA5A68\",\"#DB5B67\",\"#DC5D66\",\"#DC5E66\",\"#DD5F65\",\"#DE6064\",\"#DF6163\",\"#DF6262\",\"#E06461\",\"#E16560\",\"#E26660\",\"#E3675F\",\"#E3685E\",\"#E46A5D\",\"#E56B5C\",\"#E56C5B\",\"#E66D5A\",\"#E76E5A\",\"#E87059\",\"#E87158\",\"#E97257\",\"#EA7356\",\"#EA7455\",\"#EB7654\",\"#EC7754\",\"#EC7853\",\"#ED7952\",\"#ED7B51\",\"#EE7C50\",\"#EF7D4F\",\"#EF7E4E\",\"#F0804D\",\"#F0814D\",\"#F1824C\",\"#F2844B\",\"#F2854A\",\"#F38649\",\"#F38748\",\"#F48947\",\"#F48A47\",\"#F58B46\",\"#F58D45\",\"#F68E44\",\"#F68F43\",\"#F69142\",\"#F79241\",\"#F79341\",\"#F89540\",\"#F8963F\",\"#F8983E\",\"#F9993D\",\"#F99A3C\",\"#FA9C3B\",\"#FA9D3A\",\"#FA9F3A\",\"#FAA039\",\"#FBA238\",\"#FBA337\",\"#FBA436\",\"#FCA635\",\"#FCA735\",\"#FCA934\",\"#FCAA33\",\"#FCAC32\",\"#FCAD31\",\"#FDAF31\",\"#FDB030\",\"#FDB22F\",\"#FDB32E\",\"#FDB52D\",\"#FDB62D\",\"#FDB82C\",\"#FDB92B\",\"#FDBB2B\",\"#FDBC2A\",\"#FDBE29\",\"#FDC029\",\"#FDC128\",\"#FDC328\",\"#FDC427\",\"#FDC626\",\"#FCC726\",\"#FCC926\",\"#FCCB25\",\"#FCCC25\",\"#FCCE25\",\"#FBD024\",\"#FBD124\",\"#FBD324\",\"#FAD524\",\"#FAD624\",\"#FAD824\",\"#F9D924\",\"#F9DB24\",\"#F8DD24\",\"#F8DF24\",\"#F7E024\",\"#F7E225\",\"#F6E425\",\"#F6E525\",\"#F5E726\",\"#F5E926\",\"#F4EA26\",\"#F3EC26\",\"#F3EE26\",\"#F2F026\",\"#F2F126\",\"#F1F326\",\"#F0F525\",\"#F0F623\",\"#EFF821\"]},\"id\":\"187747\",\"type\":\"LinearColorMapper\"},{\"attributes\":{\"coordinates\":null,\"data_source\":{\"id\":\"187739\"},\"glyph\":{\"id\":\"187740\"},\"group\":null,\"hover_glyph\":null,\"muted_glyph\":{\"id\":\"187746\"},\"nonselection_glyph\":{\"id\":\"187743\"},\"view\":{\"id\":\"187750\"}},\"id\":\"187749\",\"type\":\"GlyphRenderer\"},{\"attributes\":{\"source\":{\"id\":\"187739\"}},\"id\":\"187750\",\"type\":\"CDSView\"},{\"attributes\":{\"ticks\":[0.5,1.5,2.5,3.5,4.5,5.5,6.5]},\"id\":\"187753\",\"type\":\"FixedTicker\"},{\"attributes\":{},\"id\":\"191116\",\"type\":\"NoOverlap\"},{\"attributes\":{\"end\":10.0},\"id\":\"187662\",\"type\":\"Range1d\"},{\"attributes\":{\"color_mapper\":{\"id\":\"187741\"},\"dh\":{\"value\":7},\"dw\":{\"value\":200.0},\"image\":{\"field\":\"image\"},\"x\":{\"value\":0},\"y\":{\"value\":0}},\"id\":\"187740\",\"type\":\"Image\"},{\"attributes\":{\"color_mapper\":{\"id\":\"187725\"},\"dh\":{\"value\":7},\"dw\":{\"value\":10.0},\"image\":{\"field\":\"image\"},\"x\":{\"value\":0},\"y\":{\"value\":0}},\"id\":\"187724\",\"type\":\"Image\"},{\"attributes\":{},\"id\":\"191118\",\"type\":\"BasicTickFormatter\"},{\"attributes\":{\"coordinates\":null,\"formatter\":{\"id\":\"191112\"},\"group\":null,\"major_label_policy\":{\"id\":\"191113\"},\"major_label_text_font_size\":\"10pt\",\"ticker\":{\"id\":\"187671\"}},\"id\":\"187670\",\"type\":\"LinearAxis\"},{\"attributes\":{},\"id\":\"191119\",\"type\":\"AllLabels\"},{\"attributes\":{},\"id\":\"187668\",\"type\":\"LinearScale\"},{\"attributes\":{},\"id\":\"191120\",\"type\":\"UnionRenderers\"},{\"attributes\":{},\"id\":\"191121\",\"type\":\"Selection\"},{\"attributes\":{\"axis\":{\"id\":\"187670\"},\"coordinates\":null,\"group\":null,\"ticker\":null},\"id\":\"187673\",\"type\":\"Grid\"},{\"attributes\":{\"coordinates\":null,\"group\":null},\"id\":\"191106\",\"type\":\"Title\"},{\"attributes\":{\"axis\":{\"id\":\"187674\"},\"coordinates\":null,\"dimension\":1,\"group\":null,\"ticker\":null},\"id\":\"187677\",\"type\":\"Grid\"},{\"attributes\":{},\"id\":\"187671\",\"type\":\"BasicTicker\"},{\"attributes\":{},\"id\":\"187678\",\"type\":\"PanTool\"},{\"attributes\":{\"tools\":[{\"id\":\"187678\"},{\"id\":\"187679\"},{\"id\":\"187680\"},{\"id\":\"187681\"},{\"id\":\"187682\"},{\"id\":\"187683\"}]},\"id\":\"187685\",\"type\":\"Toolbar\"},{\"attributes\":{},\"id\":\"187713\",\"type\":\"ResetTool\"},{\"attributes\":{\"tools\":[{\"id\":\"187709\"},{\"id\":\"187710\"},{\"id\":\"187711\"},{\"id\":\"187712\"},{\"id\":\"187713\"},{\"id\":\"187714\"}]},\"id\":\"187716\",\"type\":\"Toolbar\"},{\"attributes\":{},\"id\":\"187710\",\"type\":\"WheelZoomTool\"},{\"attributes\":{},\"id\":\"187709\",\"type\":\"PanTool\"},{\"attributes\":{\"overlay\":{\"id\":\"187715\"}},\"id\":\"187711\",\"type\":\"BoxZoomTool\"},{\"attributes\":{\"overlay\":{\"id\":\"187684\"}},\"id\":\"187680\",\"type\":\"BoxZoomTool\"},{\"attributes\":{},\"id\":\"187699\",\"type\":\"LinearScale\"},{\"attributes\":{\"coordinates\":null,\"formatter\":{\"id\":\"191118\"},\"group\":null,\"major_label_policy\":{\"id\":\"191119\"},\"major_label_text_font_size\":\"10pt\",\"ticker\":{\"id\":\"187702\"}},\"id\":\"187701\",\"type\":\"LinearAxis\"},{\"attributes\":{},\"id\":\"187679\",\"type\":\"WheelZoomTool\"},{\"attributes\":{},\"id\":\"187683\",\"type\":\"HelpTool\"},{\"attributes\":{\"data\":{\"image\":[{\"__ndarray__\":\"AAAAAAAAAAAAAAAAAABWQAAAAAAAgGlAAAAAAACASEAAAAAAAABMQAAAAAAAADVAAAAAAAAAPkAAAAAAAAAUQAAAAAAAADBAAAAAAAAAFEAAAAAAAAAkQAAAAAAAAABAAAAAAAAACEAAAAAAAAAAAAAAAAAAABhAAAAAAAAA8D8AAAAAAADwPwAAAAAAAABAAAAAAAAAAAAAAAAAAADwPwAAAAAAAPA/AAAAAAAAU0AAAAAAAIBqQAAAAAAAgE9AAAAAAAAASkAAAAAAAAAzQAAAAAAAAD5AAAAAAAAAJEAAAAAAAAAkQAAAAAAAABBAAAAAAAAAHEAAAAAAAAAQQAAAAAAAAAhAAAAAAAAA8D8AAAAAAAAAQAAAAAAAAABAAAAAAAAAAEAAAAAAAADwPwAAAAAAAPA/AAAAAAAAAAAAAAAAAAAIQAAAAAAAwFNAAAAAAAAgaUAAAAAAAIBNQAAAAAAAAE9AAAAAAAAAN0AAAAAAAAA1QAAAAAAAACJAAAAAAAAANkAAAAAAAAAIQAAAAAAAABhAAAAAAAAACEAAAAAAAAAAQAAAAAAAABBAAAAAAAAA8D8AAAAAAADwPwAAAAAAAAAAAAAAAAAAAAAAAAAAAADwPwAAAAAAAAAAAAAAAAAALkAAAAAAAMBSQAAAAAAAgGdAAAAAAACAUEAAAAAAAEBQQAAAAAAAADRAAAAAAAAAOkAAAAAAAAAkQAAAAAAAACZAAAAAAAAAIkAAAAAAAAAcQAAAAAAAAAAAAAAAAAAAEEAAAAAAAADwPwAAAAAAAPA/AAAAAAAAAAAAAAAAAADwPwAAAAAAAAAAAAAAAAAA8D8AAAAAAAAAAAAAAAAAADpAAAAAAAAAVUAAAAAAAKBkQAAAAAAAQFBAAAAAAAAATEAAAAAAAAA6QAAAAAAAADZAAAAAAAAAKEAAAAAAAAAsQAAAAAAAABBAAAAAAAAAGEAAAAAAAAAiQAAAAAAAABBAAAAAAAAACEAAAAAAAADwPwAAAAAAAAAAAAAAAAAA8D8AAAAAAADwPwAAAAAAAAAAAAAAAAAA8D8AAAAAAABIQAAAAAAAgFFAAAAAAADgYUAAAAAAAIBLQAAAAAAAwFFAAAAAAAAAPEAAAAAAAABDQAAAAAAAAChAAAAAAAAAHEAAAAAAAAAcQAAAAAAAACJAAAAAAAAACEAAAAAAAAAAQAAAAAAAABRAAAAAAAAAAAAAAAAAAAAAAAAAAAAAAPA/AAAAAAAAAAAAAAAAAAAAAAAAAAAAAPA/AAAAAACAVEAAAAAAAEBTQAAAAAAAIGBAAAAAAACASEAAAAAAAABJQAAAAAAAgEBAAAAAAAAAPkAAAAAAAAAmQAAAAAAAADBAAAAAAAAAHEAAAAAAAAAYQAAAAAAAAAhAAAAAAAAAFEAAAAAAAAAAAAAAAAAAAAAAAAAAAAAA8D8AAAAAAADwPwAAAAAAAAAAAAAAAAAAAAAAAAAAAAAAAA==\",\"dtype\":\"float64\",\"order\":\"little\",\"shape\":[7,20]}]},\"selected\":{\"id\":\"191121\"},\"selection_policy\":{\"id\":\"191120\"}},\"id\":\"187723\",\"type\":\"ColumnDataSource\"},{\"attributes\":{\"end\":200.0},\"id\":\"187693\",\"type\":\"Range1d\"},{\"attributes\":{},\"id\":\"187702\",\"type\":\"BasicTicker\"},{\"attributes\":{},\"id\":\"187697\",\"type\":\"LinearScale\"},{\"attributes\":{},\"id\":\"187712\",\"type\":\"SaveTool\"},{\"attributes\":{\"high\":212.0,\"low\":0.0,\"palette\":[\"#0C0786\",\"#100787\",\"#130689\",\"#15068A\",\"#18068B\",\"#1B068C\",\"#1D068D\",\"#1F058E\",\"#21058F\",\"#230590\",\"#250591\",\"#270592\",\"#290593\",\"#2B0594\",\"#2D0494\",\"#2F0495\",\"#310496\",\"#330497\",\"#340498\",\"#360498\",\"#380499\",\"#3A049A\",\"#3B039A\",\"#3D039B\",\"#3F039C\",\"#40039C\",\"#42039D\",\"#44039E\",\"#45039E\",\"#47029F\",\"#49029F\",\"#4A02A0\",\"#4C02A1\",\"#4E02A1\",\"#4F02A2\",\"#5101A2\",\"#5201A3\",\"#5401A3\",\"#5601A3\",\"#5701A4\",\"#5901A4\",\"#5A00A5\",\"#5C00A5\",\"#5E00A5\",\"#5F00A6\",\"#6100A6\",\"#6200A6\",\"#6400A7\",\"#6500A7\",\"#6700A7\",\"#6800A7\",\"#6A00A7\",\"#6C00A8\",\"#6D00A8\",\"#6F00A8\",\"#7000A8\",\"#7200A8\",\"#7300A8\",\"#7500A8\",\"#7601A8\",\"#7801A8\",\"#7901A8\",\"#7B02A8\",\"#7C02A7\",\"#7E03A7\",\"#7F03A7\",\"#8104A7\",\"#8204A7\",\"#8405A6\",\"#8506A6\",\"#8607A6\",\"#8807A5\",\"#8908A5\",\"#8B09A4\",\"#8C0AA4\",\"#8E0CA4\",\"#8F0DA3\",\"#900EA3\",\"#920FA2\",\"#9310A1\",\"#9511A1\",\"#9612A0\",\"#9713A0\",\"#99149F\",\"#9A159E\",\"#9B179E\",\"#9D189D\",\"#9E199C\",\"#9F1A9B\",\"#A01B9B\",\"#A21C9A\",\"#A31D99\",\"#A41E98\",\"#A51F97\",\"#A72197\",\"#A82296\",\"#A92395\",\"#AA2494\",\"#AC2593\",\"#AD2692\",\"#AE2791\",\"#AF2890\",\"#B02A8F\",\"#B12B8F\",\"#B22C8E\",\"#B42D8D\",\"#B52E8C\",\"#B62F8B\",\"#B7308A\",\"#B83289\",\"#B93388\",\"#BA3487\",\"#BB3586\",\"#BC3685\",\"#BD3784\",\"#BE3883\",\"#BF3982\",\"#C03B81\",\"#C13C80\",\"#C23D80\",\"#C33E7F\",\"#C43F7E\",\"#C5407D\",\"#C6417C\",\"#C7427B\",\"#C8447A\",\"#C94579\",\"#CA4678\",\"#CB4777\",\"#CC4876\",\"#CD4975\",\"#CE4A75\",\"#CF4B74\",\"#D04D73\",\"#D14E72\",\"#D14F71\",\"#D25070\",\"#D3516F\",\"#D4526E\",\"#D5536D\",\"#D6556D\",\"#D7566C\",\"#D7576B\",\"#D8586A\",\"#D95969\",\"#DA5A68\",\"#DB5B67\",\"#DC5D66\",\"#DC5E66\",\"#DD5F65\",\"#DE6064\",\"#DF6163\",\"#DF6262\",\"#E06461\",\"#E16560\",\"#E26660\",\"#E3675F\",\"#E3685E\",\"#E46A5D\",\"#E56B5C\",\"#E56C5B\",\"#E66D5A\",\"#E76E5A\",\"#E87059\",\"#E87158\",\"#E97257\",\"#EA7356\",\"#EA7455\",\"#EB7654\",\"#EC7754\",\"#EC7853\",\"#ED7952\",\"#ED7B51\",\"#EE7C50\",\"#EF7D4F\",\"#EF7E4E\",\"#F0804D\",\"#F0814D\",\"#F1824C\",\"#F2844B\",\"#F2854A\",\"#F38649\",\"#F38748\",\"#F48947\",\"#F48A47\",\"#F58B46\",\"#F58D45\",\"#F68E44\",\"#F68F43\",\"#F69142\",\"#F79241\",\"#F79341\",\"#F89540\",\"#F8963F\",\"#F8983E\",\"#F9993D\",\"#F99A3C\",\"#FA9C3B\",\"#FA9D3A\",\"#FA9F3A\",\"#FAA039\",\"#FBA238\",\"#FBA337\",\"#FBA436\",\"#FCA635\",\"#FCA735\",\"#FCA934\",\"#FCAA33\",\"#FCAC32\",\"#FCAD31\",\"#FDAF31\",\"#FDB030\",\"#FDB22F\",\"#FDB32E\",\"#FDB52D\",\"#FDB62D\",\"#FDB82C\",\"#FDB92B\",\"#FDBB2B\",\"#FDBC2A\",\"#FDBE29\",\"#FDC029\",\"#FDC128\",\"#FDC328\",\"#FDC427\",\"#FDC626\",\"#FCC726\",\"#FCC926\",\"#FCCB25\",\"#FCCC25\",\"#FCCE25\",\"#FBD024\",\"#FBD124\",\"#FBD324\",\"#FAD524\",\"#FAD624\",\"#FAD824\",\"#F9D924\",\"#F9DB24\",\"#F8DD24\",\"#F8DF24\",\"#F7E024\",\"#F7E225\",\"#F6E425\",\"#F6E525\",\"#F5E726\",\"#F5E926\",\"#F4EA26\",\"#F3EC26\",\"#F3EE26\",\"#F2F026\",\"#F2F126\",\"#F1F326\",\"#F0F525\",\"#F0F623\",\"#EFF821\"]},\"id\":\"187735\",\"type\":\"LinearColorMapper\"},{\"attributes\":{\"axis\":{\"id\":\"187701\"},\"coordinates\":null,\"group\":null,\"ticker\":null},\"id\":\"187704\",\"type\":\"Grid\"},{\"attributes\":{\"axis\":{\"id\":\"187705\"},\"coordinates\":null,\"dimension\":1,\"group\":null,\"ticker\":null},\"id\":\"187708\",\"type\":\"Grid\"},{\"attributes\":{\"end\":7},\"id\":\"187695\",\"type\":\"Range1d\"},{\"attributes\":{\"coordinates\":null,\"formatter\":{\"id\":\"191114\"},\"group\":null,\"major_label_policy\":{\"id\":\"191115\"},\"major_label_text_font_size\":\"10pt\",\"ticker\":{\"id\":\"187753\"}},\"id\":\"187705\",\"type\":\"LinearAxis\"},{\"attributes\":{},\"id\":\"187714\",\"type\":\"HelpTool\"},{\"attributes\":{\"bottom_units\":\"screen\",\"coordinates\":null,\"fill_alpha\":0.5,\"fill_color\":\"lightgrey\",\"group\":null,\"left_units\":\"screen\",\"level\":\"overlay\",\"line_alpha\":1.0,\"line_color\":\"black\",\"line_dash\":[4,4],\"line_width\":2,\"right_units\":\"screen\",\"syncable\":false,\"top_units\":\"screen\"},\"id\":\"187684\",\"type\":\"BoxAnnotation\"},{\"attributes\":{},\"id\":\"187682\",\"type\":\"ResetTool\"},{\"attributes\":{},\"id\":\"187681\",\"type\":\"SaveTool\"}],\"root_ids\":[\"187755\"]},\"title\":\"Bokeh Application\",\"version\":\"2.4.1\"}};\n",
       "  const render_items = [{\"docid\":\"f8e26ee1-c6e3-4492-8c15-e1cb4a6b3b99\",\"root_ids\":[\"187755\"],\"roots\":{\"187755\":\"14dce8b4-61c4-47d9-b959-9709afa8ef61\"}}];\n",
       "  root.Bokeh.embed.embed_items_notebook(docs_json, render_items);\n",
       "\n",
       "  }\n",
       "  if (root.Bokeh !== undefined) {\n",
       "    embed_document(root);\n",
       "  } else {\n",
       "    let attempts = 0;\n",
       "    const timer = setInterval(function(root) {\n",
       "      if (root.Bokeh !== undefined) {\n",
       "        clearInterval(timer);\n",
       "        embed_document(root);\n",
       "      } else {\n",
       "        attempts++;\n",
       "        if (attempts > 100) {\n",
       "          clearInterval(timer);\n",
       "          console.log(\"Bokeh: ERROR: Unable to run BokehJS code because BokehJS library is missing\");\n",
       "        }\n",
       "      }\n",
       "    }, 10, root)\n",
       "  }\n",
       "})(window);"
      ],
      "application/vnd.bokehjs_exec.v0+json": ""
     },
     "metadata": {
      "application/vnd.bokehjs_exec.v0+json": {
       "id": "187755"
      }
     },
     "output_type": "display_data"
    }
   ],
   "source": [
    "fig_size = [190, 115] # for paper size (144, 110) # for larger size (144,144)\n",
    "y_range = (0, 7)\n",
    "\n",
    "palette = \"Plasma256\"\n",
    "\n",
    "x_range = (0, bin5[-1])\n",
    "plots[0] = bokeh.plotting.figure(plot_width=fig_size[0], plot_height=fig_size[1],\n",
    "                          x_range=x_range,y_range=y_range\n",
    "                          )\n",
    "plots[0].axis.major_label_text_font_size = \"10pt\"\n",
    "\n",
    "x_range = (0, bin6[-1])\n",
    "plots[1] = bokeh.plotting.figure(plot_width=fig_size[0], plot_height=fig_size[1],\n",
    "                          x_range=x_range,y_range=y_range\n",
    "                          )\n",
    "plots[1].axis.major_label_text_font_size = \"10pt\"\n",
    "\n",
    "# must give a vector of image data for image parameter\n",
    "plots[0].image(image=[out5[1:,:]], x=0, y=0, dw=bin5[-1], dh=7, palette=palette)\n",
    "color = LinearColorMapper(palette = palette, low = out5.min(), high = out5.max())\n",
    "cb = ColorBar(color_mapper = color, location = (0,0), width=5)\n",
    "plots[0].add_layout(cb, 'right')\n",
    "plots[0].yaxis.ticker = list(np.linspace(0.5,6.5,7))\n",
    "\n",
    "plots[1].image(image=[out6[1:,:]], x=0, y=0, dw=bin6[-1], dh=7, palette=palette)\n",
    "color = LinearColorMapper(palette = palette, low = out6.min(), high = out6.max())\n",
    "cb = ColorBar(color_mapper = color, location = (0,0), width=5)\n",
    "plots[1].add_layout(cb, 'right')\n",
    "plots[1].yaxis.ticker = list(np.linspace(0.5,6.5,7))\n",
    "\n",
    "bokeh.io.show(bokeh.layouts.row(plots))"
   ]
  },
  {
   "cell_type": "code",
   "execution_count": null,
   "metadata": {
    "id": "zp-n7KLtLDb5",
    "outputId": "a2806923-d98a-45eb-e002-863a17f20fe3"
   },
   "outputs": [
    {
     "data": {
      "text/plain": [
       "array([1, 0, 0, 0, 0, 0, 0, 0, 0])"
      ]
     },
     "execution_count": 310,
     "metadata": {},
     "output_type": "execute_result"
    }
   ],
   "source": [
    "population_0i"
   ]
  },
  {
   "cell_type": "code",
   "execution_count": null,
   "metadata": {
    "id": "SEeGkFDhLDb6"
   },
   "outputs": [],
   "source": []
  }
 ],
 "metadata": {
  "colab": {
   "collapsed_sections": [],
   "name": "SelfInhibitingModel.ipynb",
   "provenance": []
  },
  "kernelspec": {
   "display_name": "Python 3 (ipykernel)",
   "language": "python",
   "name": "python3"
  },
  "language_info": {
   "codemirror_mode": {
    "name": "ipython",
    "version": 3
   },
   "file_extension": ".py",
   "mimetype": "text/x-python",
   "name": "python",
   "nbconvert_exporter": "python",
   "pygments_lexer": "ipython3",
   "version": "3.9.7"
  }
 },
 "nbformat": 4,
 "nbformat_minor": 4
}
