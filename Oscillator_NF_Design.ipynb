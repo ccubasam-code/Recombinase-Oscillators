{
 "cells": [
  {
   "cell_type": "markdown",
   "metadata": {
    "id": "knIklix4oThN"
   },
   "source": [
    "# Stochastic Analysis of a Negative Feedback Recombinase oscillator: NF-Design\n",
    "\n",
    "In this Jupyterbook, we implement the Gilleaspy algorithm of a recombinase-based oscillator at a single copy "
   ]
  },
  {
   "cell_type": "code",
   "execution_count": 1,
   "metadata": {
    "colab": {
     "base_uri": "https://localhost:8080/"
    },
    "executionInfo": {
     "elapsed": 178750,
     "status": "ok",
     "timestamp": 1652457228340,
     "user": {
      "displayName": "Christian Cuba",
      "userId": "05812622177105967845"
     },
     "user_tz": 240
    },
    "id": "lHy71zVrtgCI",
    "outputId": "2d52f1f0-3236-4e6e-bf7b-f13780817e7e"
   },
   "outputs": [
    {
     "data": {
      "text/html": [
       "\n",
       "    <div class=\"bk-root\">\n",
       "        <a href=\"https://bokeh.org\" target=\"_blank\" class=\"bk-logo bk-logo-small bk-logo-notebook\"></a>\n",
       "        <span id=\"1002\">Loading BokehJS ...</span>\n",
       "    </div>"
      ]
     },
     "metadata": {},
     "output_type": "display_data"
    },
    {
     "data": {
      "application/javascript": [
       "\n",
       "(function(root) {\n",
       "  function now() {\n",
       "    return new Date();\n",
       "  }\n",
       "\n",
       "  const force = true;\n",
       "\n",
       "  if (typeof root._bokeh_onload_callbacks === \"undefined\" || force === true) {\n",
       "    root._bokeh_onload_callbacks = [];\n",
       "    root._bokeh_is_loading = undefined;\n",
       "  }\n",
       "\n",
       "  const JS_MIME_TYPE = 'application/javascript';\n",
       "  const HTML_MIME_TYPE = 'text/html';\n",
       "  const EXEC_MIME_TYPE = 'application/vnd.bokehjs_exec.v0+json';\n",
       "  const CLASS_NAME = 'output_bokeh rendered_html';\n",
       "\n",
       "  /**\n",
       "   * Render data to the DOM node\n",
       "   */\n",
       "  function render(props, node) {\n",
       "    const script = document.createElement(\"script\");\n",
       "    node.appendChild(script);\n",
       "  }\n",
       "\n",
       "  /**\n",
       "   * Handle when an output is cleared or removed\n",
       "   */\n",
       "  function handleClearOutput(event, handle) {\n",
       "    const cell = handle.cell;\n",
       "\n",
       "    const id = cell.output_area._bokeh_element_id;\n",
       "    const server_id = cell.output_area._bokeh_server_id;\n",
       "    // Clean up Bokeh references\n",
       "    if (id != null && id in Bokeh.index) {\n",
       "      Bokeh.index[id].model.document.clear();\n",
       "      delete Bokeh.index[id];\n",
       "    }\n",
       "\n",
       "    if (server_id !== undefined) {\n",
       "      // Clean up Bokeh references\n",
       "      const cmd_clean = \"from bokeh.io.state import curstate; print(curstate().uuid_to_server['\" + server_id + \"'].get_sessions()[0].document.roots[0]._id)\";\n",
       "      cell.notebook.kernel.execute(cmd_clean, {\n",
       "        iopub: {\n",
       "          output: function(msg) {\n",
       "            const id = msg.content.text.trim();\n",
       "            if (id in Bokeh.index) {\n",
       "              Bokeh.index[id].model.document.clear();\n",
       "              delete Bokeh.index[id];\n",
       "            }\n",
       "          }\n",
       "        }\n",
       "      });\n",
       "      // Destroy server and session\n",
       "      const cmd_destroy = \"import bokeh.io.notebook as ion; ion.destroy_server('\" + server_id + \"')\";\n",
       "      cell.notebook.kernel.execute(cmd_destroy);\n",
       "    }\n",
       "  }\n",
       "\n",
       "  /**\n",
       "   * Handle when a new output is added\n",
       "   */\n",
       "  function handleAddOutput(event, handle) {\n",
       "    const output_area = handle.output_area;\n",
       "    const output = handle.output;\n",
       "\n",
       "    // limit handleAddOutput to display_data with EXEC_MIME_TYPE content only\n",
       "    if ((output.output_type != \"display_data\") || (!Object.prototype.hasOwnProperty.call(output.data, EXEC_MIME_TYPE))) {\n",
       "      return\n",
       "    }\n",
       "\n",
       "    const toinsert = output_area.element.find(\".\" + CLASS_NAME.split(' ')[0]);\n",
       "\n",
       "    if (output.metadata[EXEC_MIME_TYPE][\"id\"] !== undefined) {\n",
       "      toinsert[toinsert.length - 1].firstChild.textContent = output.data[JS_MIME_TYPE];\n",
       "      // store reference to embed id on output_area\n",
       "      output_area._bokeh_element_id = output.metadata[EXEC_MIME_TYPE][\"id\"];\n",
       "    }\n",
       "    if (output.metadata[EXEC_MIME_TYPE][\"server_id\"] !== undefined) {\n",
       "      const bk_div = document.createElement(\"div\");\n",
       "      bk_div.innerHTML = output.data[HTML_MIME_TYPE];\n",
       "      const script_attrs = bk_div.children[0].attributes;\n",
       "      for (let i = 0; i < script_attrs.length; i++) {\n",
       "        toinsert[toinsert.length - 1].firstChild.setAttribute(script_attrs[i].name, script_attrs[i].value);\n",
       "        toinsert[toinsert.length - 1].firstChild.textContent = bk_div.children[0].textContent\n",
       "      }\n",
       "      // store reference to server id on output_area\n",
       "      output_area._bokeh_server_id = output.metadata[EXEC_MIME_TYPE][\"server_id\"];\n",
       "    }\n",
       "  }\n",
       "\n",
       "  function register_renderer(events, OutputArea) {\n",
       "\n",
       "    function append_mime(data, metadata, element) {\n",
       "      // create a DOM node to render to\n",
       "      const toinsert = this.create_output_subarea(\n",
       "        metadata,\n",
       "        CLASS_NAME,\n",
       "        EXEC_MIME_TYPE\n",
       "      );\n",
       "      this.keyboard_manager.register_events(toinsert);\n",
       "      // Render to node\n",
       "      const props = {data: data, metadata: metadata[EXEC_MIME_TYPE]};\n",
       "      render(props, toinsert[toinsert.length - 1]);\n",
       "      element.append(toinsert);\n",
       "      return toinsert\n",
       "    }\n",
       "\n",
       "    /* Handle when an output is cleared or removed */\n",
       "    events.on('clear_output.CodeCell', handleClearOutput);\n",
       "    events.on('delete.Cell', handleClearOutput);\n",
       "\n",
       "    /* Handle when a new output is added */\n",
       "    events.on('output_added.OutputArea', handleAddOutput);\n",
       "\n",
       "    /**\n",
       "     * Register the mime type and append_mime function with output_area\n",
       "     */\n",
       "    OutputArea.prototype.register_mime_type(EXEC_MIME_TYPE, append_mime, {\n",
       "      /* Is output safe? */\n",
       "      safe: true,\n",
       "      /* Index of renderer in `output_area.display_order` */\n",
       "      index: 0\n",
       "    });\n",
       "  }\n",
       "\n",
       "  // register the mime type if in Jupyter Notebook environment and previously unregistered\n",
       "  if (root.Jupyter !== undefined) {\n",
       "    const events = require('base/js/events');\n",
       "    const OutputArea = require('notebook/js/outputarea').OutputArea;\n",
       "\n",
       "    if (OutputArea.prototype.mime_types().indexOf(EXEC_MIME_TYPE) == -1) {\n",
       "      register_renderer(events, OutputArea);\n",
       "    }\n",
       "  }\n",
       "\n",
       "  \n",
       "  if (typeof (root._bokeh_timeout) === \"undefined\" || force === true) {\n",
       "    root._bokeh_timeout = Date.now() + 5000;\n",
       "    root._bokeh_failed_load = false;\n",
       "  }\n",
       "\n",
       "  const NB_LOAD_WARNING = {'data': {'text/html':\n",
       "     \"<div style='background-color: #fdd'>\\n\"+\n",
       "     \"<p>\\n\"+\n",
       "     \"BokehJS does not appear to have successfully loaded. If loading BokehJS from CDN, this \\n\"+\n",
       "     \"may be due to a slow or bad network connection. Possible fixes:\\n\"+\n",
       "     \"</p>\\n\"+\n",
       "     \"<ul>\\n\"+\n",
       "     \"<li>re-rerun `output_notebook()` to attempt to load from CDN again, or</li>\\n\"+\n",
       "     \"<li>use INLINE resources instead, as so:</li>\\n\"+\n",
       "     \"</ul>\\n\"+\n",
       "     \"<code>\\n\"+\n",
       "     \"from bokeh.resources import INLINE\\n\"+\n",
       "     \"output_notebook(resources=INLINE)\\n\"+\n",
       "     \"</code>\\n\"+\n",
       "     \"</div>\"}};\n",
       "\n",
       "  function display_loaded() {\n",
       "    const el = document.getElementById(\"1002\");\n",
       "    if (el != null) {\n",
       "      el.textContent = \"BokehJS is loading...\";\n",
       "    }\n",
       "    if (root.Bokeh !== undefined) {\n",
       "      if (el != null) {\n",
       "        el.textContent = \"BokehJS \" + root.Bokeh.version + \" successfully loaded.\";\n",
       "      }\n",
       "    } else if (Date.now() < root._bokeh_timeout) {\n",
       "      setTimeout(display_loaded, 100)\n",
       "    }\n",
       "  }\n",
       "\n",
       "\n",
       "  function run_callbacks() {\n",
       "    try {\n",
       "      root._bokeh_onload_callbacks.forEach(function(callback) {\n",
       "        if (callback != null)\n",
       "          callback();\n",
       "      });\n",
       "    } finally {\n",
       "      delete root._bokeh_onload_callbacks\n",
       "    }\n",
       "    console.debug(\"Bokeh: all callbacks have finished\");\n",
       "  }\n",
       "\n",
       "  function load_libs(css_urls, js_urls, callback) {\n",
       "    if (css_urls == null) css_urls = [];\n",
       "    if (js_urls == null) js_urls = [];\n",
       "\n",
       "    root._bokeh_onload_callbacks.push(callback);\n",
       "    if (root._bokeh_is_loading > 0) {\n",
       "      console.debug(\"Bokeh: BokehJS is being loaded, scheduling callback at\", now());\n",
       "      return null;\n",
       "    }\n",
       "    if (js_urls == null || js_urls.length === 0) {\n",
       "      run_callbacks();\n",
       "      return null;\n",
       "    }\n",
       "    console.debug(\"Bokeh: BokehJS not loaded, scheduling load and callback at\", now());\n",
       "    root._bokeh_is_loading = css_urls.length + js_urls.length;\n",
       "\n",
       "    function on_load() {\n",
       "      root._bokeh_is_loading--;\n",
       "      if (root._bokeh_is_loading === 0) {\n",
       "        console.debug(\"Bokeh: all BokehJS libraries/stylesheets loaded\");\n",
       "        run_callbacks()\n",
       "      }\n",
       "    }\n",
       "\n",
       "    function on_error(url) {\n",
       "      console.error(\"failed to load \" + url);\n",
       "    }\n",
       "\n",
       "    for (let i = 0; i < css_urls.length; i++) {\n",
       "      const url = css_urls[i];\n",
       "      const element = document.createElement(\"link\");\n",
       "      element.onload = on_load;\n",
       "      element.onerror = on_error.bind(null, url);\n",
       "      element.rel = \"stylesheet\";\n",
       "      element.type = \"text/css\";\n",
       "      element.href = url;\n",
       "      console.debug(\"Bokeh: injecting link tag for BokehJS stylesheet: \", url);\n",
       "      document.body.appendChild(element);\n",
       "    }\n",
       "\n",
       "    for (let i = 0; i < js_urls.length; i++) {\n",
       "      const url = js_urls[i];\n",
       "      const element = document.createElement('script');\n",
       "      element.onload = on_load;\n",
       "      element.onerror = on_error.bind(null, url);\n",
       "      element.async = false;\n",
       "      element.src = url;\n",
       "      console.debug(\"Bokeh: injecting script tag for BokehJS library: \", url);\n",
       "      document.head.appendChild(element);\n",
       "    }\n",
       "  };\n",
       "\n",
       "  function inject_raw_css(css) {\n",
       "    const element = document.createElement(\"style\");\n",
       "    element.appendChild(document.createTextNode(css));\n",
       "    document.body.appendChild(element);\n",
       "  }\n",
       "\n",
       "  \n",
       "  const js_urls = [\"https://cdn.bokeh.org/bokeh/release/bokeh-2.4.1.min.js\", \"https://cdn.bokeh.org/bokeh/release/bokeh-gl-2.4.1.min.js\", \"https://cdn.bokeh.org/bokeh/release/bokeh-widgets-2.4.1.min.js\", \"https://cdn.bokeh.org/bokeh/release/bokeh-tables-2.4.1.min.js\", \"https://cdn.bokeh.org/bokeh/release/bokeh-mathjax-2.4.1.min.js\"];\n",
       "  const css_urls = [];\n",
       "  \n",
       "\n",
       "  const inline_js = [\n",
       "    function(Bokeh) {\n",
       "      Bokeh.set_log_level(\"info\");\n",
       "    },\n",
       "    function(Bokeh) {\n",
       "    \n",
       "    \n",
       "    }\n",
       "  ];\n",
       "\n",
       "  function run_inline_js() {\n",
       "    \n",
       "    if (root.Bokeh !== undefined || force === true) {\n",
       "      \n",
       "    for (let i = 0; i < inline_js.length; i++) {\n",
       "      inline_js[i].call(root, root.Bokeh);\n",
       "    }\n",
       "    if (force === true) {\n",
       "        display_loaded();\n",
       "      }} else if (Date.now() < root._bokeh_timeout) {\n",
       "      setTimeout(run_inline_js, 100);\n",
       "    } else if (!root._bokeh_failed_load) {\n",
       "      console.log(\"Bokeh: BokehJS failed to load within specified timeout.\");\n",
       "      root._bokeh_failed_load = true;\n",
       "    } else if (force !== true) {\n",
       "      const cell = $(document.getElementById(\"1002\")).parents('.cell').data().cell;\n",
       "      cell.output_area.append_execute_result(NB_LOAD_WARNING)\n",
       "    }\n",
       "\n",
       "  }\n",
       "\n",
       "  if (root._bokeh_is_loading === 0) {\n",
       "    console.debug(\"Bokeh: BokehJS loaded, going straight to plotting\");\n",
       "    run_inline_js();\n",
       "  } else {\n",
       "    load_libs(css_urls, js_urls, function() {\n",
       "      console.debug(\"Bokeh: BokehJS plotting callback run at\", now());\n",
       "      run_inline_js();\n",
       "    });\n",
       "  }\n",
       "}(window));"
      ],
      "application/vnd.bokehjs_load.v0+json": "\n(function(root) {\n  function now() {\n    return new Date();\n  }\n\n  const force = true;\n\n  if (typeof root._bokeh_onload_callbacks === \"undefined\" || force === true) {\n    root._bokeh_onload_callbacks = [];\n    root._bokeh_is_loading = undefined;\n  }\n\n  \n\n  \n  if (typeof (root._bokeh_timeout) === \"undefined\" || force === true) {\n    root._bokeh_timeout = Date.now() + 5000;\n    root._bokeh_failed_load = false;\n  }\n\n  const NB_LOAD_WARNING = {'data': {'text/html':\n     \"<div style='background-color: #fdd'>\\n\"+\n     \"<p>\\n\"+\n     \"BokehJS does not appear to have successfully loaded. If loading BokehJS from CDN, this \\n\"+\n     \"may be due to a slow or bad network connection. Possible fixes:\\n\"+\n     \"</p>\\n\"+\n     \"<ul>\\n\"+\n     \"<li>re-rerun `output_notebook()` to attempt to load from CDN again, or</li>\\n\"+\n     \"<li>use INLINE resources instead, as so:</li>\\n\"+\n     \"</ul>\\n\"+\n     \"<code>\\n\"+\n     \"from bokeh.resources import INLINE\\n\"+\n     \"output_notebook(resources=INLINE)\\n\"+\n     \"</code>\\n\"+\n     \"</div>\"}};\n\n  function display_loaded() {\n    const el = document.getElementById(\"1002\");\n    if (el != null) {\n      el.textContent = \"BokehJS is loading...\";\n    }\n    if (root.Bokeh !== undefined) {\n      if (el != null) {\n        el.textContent = \"BokehJS \" + root.Bokeh.version + \" successfully loaded.\";\n      }\n    } else if (Date.now() < root._bokeh_timeout) {\n      setTimeout(display_loaded, 100)\n    }\n  }\n\n\n  function run_callbacks() {\n    try {\n      root._bokeh_onload_callbacks.forEach(function(callback) {\n        if (callback != null)\n          callback();\n      });\n    } finally {\n      delete root._bokeh_onload_callbacks\n    }\n    console.debug(\"Bokeh: all callbacks have finished\");\n  }\n\n  function load_libs(css_urls, js_urls, callback) {\n    if (css_urls == null) css_urls = [];\n    if (js_urls == null) js_urls = [];\n\n    root._bokeh_onload_callbacks.push(callback);\n    if (root._bokeh_is_loading > 0) {\n      console.debug(\"Bokeh: BokehJS is being loaded, scheduling callback at\", now());\n      return null;\n    }\n    if (js_urls == null || js_urls.length === 0) {\n      run_callbacks();\n      return null;\n    }\n    console.debug(\"Bokeh: BokehJS not loaded, scheduling load and callback at\", now());\n    root._bokeh_is_loading = css_urls.length + js_urls.length;\n\n    function on_load() {\n      root._bokeh_is_loading--;\n      if (root._bokeh_is_loading === 0) {\n        console.debug(\"Bokeh: all BokehJS libraries/stylesheets loaded\");\n        run_callbacks()\n      }\n    }\n\n    function on_error(url) {\n      console.error(\"failed to load \" + url);\n    }\n\n    for (let i = 0; i < css_urls.length; i++) {\n      const url = css_urls[i];\n      const element = document.createElement(\"link\");\n      element.onload = on_load;\n      element.onerror = on_error.bind(null, url);\n      element.rel = \"stylesheet\";\n      element.type = \"text/css\";\n      element.href = url;\n      console.debug(\"Bokeh: injecting link tag for BokehJS stylesheet: \", url);\n      document.body.appendChild(element);\n    }\n\n    for (let i = 0; i < js_urls.length; i++) {\n      const url = js_urls[i];\n      const element = document.createElement('script');\n      element.onload = on_load;\n      element.onerror = on_error.bind(null, url);\n      element.async = false;\n      element.src = url;\n      console.debug(\"Bokeh: injecting script tag for BokehJS library: \", url);\n      document.head.appendChild(element);\n    }\n  };\n\n  function inject_raw_css(css) {\n    const element = document.createElement(\"style\");\n    element.appendChild(document.createTextNode(css));\n    document.body.appendChild(element);\n  }\n\n  \n  const js_urls = [\"https://cdn.bokeh.org/bokeh/release/bokeh-2.4.1.min.js\", \"https://cdn.bokeh.org/bokeh/release/bokeh-gl-2.4.1.min.js\", \"https://cdn.bokeh.org/bokeh/release/bokeh-widgets-2.4.1.min.js\", \"https://cdn.bokeh.org/bokeh/release/bokeh-tables-2.4.1.min.js\", \"https://cdn.bokeh.org/bokeh/release/bokeh-mathjax-2.4.1.min.js\"];\n  const css_urls = [];\n  \n\n  const inline_js = [\n    function(Bokeh) {\n      Bokeh.set_log_level(\"info\");\n    },\n    function(Bokeh) {\n    \n    \n    }\n  ];\n\n  function run_inline_js() {\n    \n    if (root.Bokeh !== undefined || force === true) {\n      \n    for (let i = 0; i < inline_js.length; i++) {\n      inline_js[i].call(root, root.Bokeh);\n    }\n    if (force === true) {\n        display_loaded();\n      }} else if (Date.now() < root._bokeh_timeout) {\n      setTimeout(run_inline_js, 100);\n    } else if (!root._bokeh_failed_load) {\n      console.log(\"Bokeh: BokehJS failed to load within specified timeout.\");\n      root._bokeh_failed_load = true;\n    } else if (force !== true) {\n      const cell = $(document.getElementById(\"1002\")).parents('.cell').data().cell;\n      cell.output_area.append_execute_result(NB_LOAD_WARNING)\n    }\n\n  }\n\n  if (root._bokeh_is_loading === 0) {\n    console.debug(\"Bokeh: BokehJS loaded, going straight to plotting\");\n    run_inline_js();\n  } else {\n    load_libs(css_urls, js_urls, function() {\n      console.debug(\"Bokeh: BokehJS plotting callback run at\", now());\n      run_inline_js();\n    });\n  }\n}(window));"
     },
     "metadata": {},
     "output_type": "display_data"
    }
   ],
   "source": [
    "# Colab setup\n",
    "import os, sys, subprocess\n",
    "if \"google.colab\" in sys.modules:\n",
    "    cmd = \"pip install --upgrade biocircuits bokeh-catplot watermark blackcellmagic\"\n",
    "    process = subprocess.Popen(cmd.split(), stdout=subprocess.PIPE, stderr=subprocess.PIPE)\n",
    "    stdout, stderr = process.communicate()\n",
    "  \n",
    "    from google.colab import drive\n",
    "    drive.mount('/content/drive')\n",
    "    dir = \"/content/drive/My Drive/Research/2022/RecombinaseOscillator/NF_Recombinase/\"\n",
    "else:\n",
    "    dir = \"/Users/christian/My Drive/Research/2022/RecombinaseOscillator/NF_Recombinase/\"\n",
    "\n",
    "# ------\n",
    "\n",
    "# This check the number of processors in the computer\n",
    "#% cat /proc/cpuinfo | grep processor | wc -l\n",
    "\n",
    "# % pip install biocircuits bokeh-catplot watermark blackcellmagic\n",
    "import multiprocessing\n",
    "import tqdm\n",
    "\n",
    "import numpy as np\n",
    "import scipy.stats as st\n",
    "import numba\n",
    "import math\n",
    "\n",
    "from scipy.signal import argrelextrema\n",
    "import scipy.fftpack\n",
    "import os.path\n",
    "\n",
    "import biocircuits\n",
    "\n",
    "# Plotting modules\n",
    "import bokeh.io\n",
    "import bokeh.plotting\n",
    "from bokeh.models import LinearColorMapper, ColorBar\n",
    "from bokeh.io import export_svgs\n",
    "\n",
    "bokeh.io.output_notebook()"
   ]
  },
  {
   "cell_type": "code",
   "execution_count": 8,
   "metadata": {
    "executionInfo": {
     "elapsed": 329,
     "status": "ok",
     "timestamp": 1652457228660,
     "user": {
      "displayName": "Christian Cuba",
      "userId": "05812622177105967845"
     },
     "user_tz": 240
    },
    "id": "mBdSOG9ZswrO"
   },
   "outputs": [],
   "source": [
    "def JoinMatrices(A,B):\n",
    "  n1, m1 = A.shape\n",
    "  n2, m2 = B.shape\n",
    "  ZA = np.zeros((n1,m2))\n",
    "  ZB = np.zeros((n2,m1))\n",
    "  tmp1 = np.hstack((A,ZA))\n",
    "  tmp2 = np.hstack((ZB,B)) \n",
    "  return np.vstack((tmp1,tmp2))"
   ]
  },
  {
   "cell_type": "code",
   "execution_count": 9,
   "metadata": {
    "executionInfo": {
     "elapsed": 6,
     "status": "ok",
     "timestamp": 1652457228661,
     "user": {
      "displayName": "Christian Cuba",
      "userId": "05812622177105967845"
     },
     "user_tz": 240
    },
    "id": "lZiIkHTMuCdq"
   },
   "outputs": [],
   "source": [
    "# Stoichiometry  matrix of a single switch\n",
    "# R00, R10, R01, R11\n",
    "S1 = np.array(\n",
    "    [\n",
    "     [-1, 1, 0, 0],  # R00 -> R10\n",
    "     [ 1, -1, 0, 0], # R10 -> R00 \n",
    "     [ 0, -1, 0, 1], # R10 -> R11\n",
    "     [ 0, 1, 0, -1], # R11 -> R10\n",
    "\n",
    "     [-1, 0, 1, 0],  # R00 -> R01\n",
    "     [ 1, 0, -1, 0], # R01 -> R00 \n",
    "     [ 0, 0, -1, 1], # R01 -> R11\n",
    "     [ 0, 0, 1, -1], # R11 -> R01 \n",
    "\n",
    "     [ 0, 0,  0, -1], # R11 -> L00\n",
    "    ],\n",
    "    dtype=int,\n",
    ")\n",
    "# Stoichiometry  matrix of two switches\n",
    "S2 = JoinMatrices(S1,S1)\n",
    "S2[8,4] = 1\n",
    "S2[17,0] = 1\n",
    "#print(S2)"
   ]
  },
  {
   "cell_type": "code",
   "execution_count": 10,
   "metadata": {
    "colab": {
     "base_uri": "https://localhost:8080/"
    },
    "executionInfo": {
     "elapsed": 5,
     "status": "ok",
     "timestamp": 1652457228661,
     "user": {
      "displayName": "Christian Cuba",
      "userId": "05812622177105967845"
     },
     "user_tz": 240
    },
    "id": "e_Siugd85ioK",
    "outputId": "c76e1f64-3eb9-4189-f963-1dc3bc7eb907"
   },
   "outputs": [
    {
     "data": {
      "text/plain": [
       "(35, 15)"
      ]
     },
     "execution_count": 10,
     "metadata": {},
     "output_type": "execute_result"
    }
   ],
   "source": [
    "# Stoichiometry  matrix of transcription and translation\n",
    "# m1, x1, y1, m2, x2, y2, c\n",
    "S3 = np.array(\n",
    "    [\n",
    "     [ 1, 0, 0, 0, 0, 0, 0], # m1 production (TX)\n",
    "     [-1, 0, 0, 0, 0, 0, 0], # m1 decay\n",
    "     [ 0, 1, 0, 0, 0, 0, 0], # x1 production (TL)\n",
    "     [ 0,-1, 0, 0, 0, 0, 0], # x1 decay\n",
    "     [ 0,-2, 1, 0, 0, 0, 0], # y1 production (dimerization)\n",
    "     [ 0, 2,-1, 0, 0, 0, 0], # y1 dissociation\n",
    "     [ 0, 0,-1, 0, 0, 0, 0], # y1 decay\n",
    "\n",
    "     [ 0, 0, 0, 1, 0, 0, 0], # m2 production (TX)\n",
    "     [ 0, 0, 0,-1, 0, 0, 0], # m2 decay\n",
    "     [ 0, 0, 0, 0, 1, 0, 0], # x2 production (TL)\n",
    "     [ 0, 0, 0, 0,-1, 0, 0], # x2 decay\n",
    "     [ 0, 0, 0, 0,-2, 1, 0], # y2 production (dimerization)\n",
    "     [ 0, 0, 0, 0, 2,-1, 0], # y2 dissociation\n",
    "     [ 0, 0, 0, 0, 0,-1, 0], # y2 decay\n",
    "\n",
    "     [ 0,-1, 0, 0,-1, 0, 1], # c production (heterodimer formation)\n",
    "     [ 0, 1, 0, 0, 1, 0,-1], # c heterodimer dissociation\n",
    "     [ 0, 0, 0, 0, 0, 0,-1], # c decay\n",
    "    ],\n",
    "    dtype=int,\n",
    ")\n",
    "# Stoichiometry  matrix of two switches\n",
    "simple_update = JoinMatrices(S2,S3)\n",
    "# Updating the consumption of recombinase in the switches\n",
    "S0 = np.array(\n",
    "    [\n",
    "     [-1, 1, -1, 1,-1, 1, -1, 1, 2],  # R00 -> R10\n",
    "    ],\n",
    "    dtype=int,\n",
    ")\n",
    "simple_update[0:9,10] = S0\n",
    "simple_update[9:18,13] = S0\n",
    "\n",
    "#print(simple_update)\n",
    "simple_update.shape"
   ]
  },
  {
   "cell_type": "code",
   "execution_count": 11,
   "metadata": {
    "executionInfo": {
     "elapsed": 208,
     "status": "ok",
     "timestamp": 1652457244858,
     "user": {
      "displayName": "Christian Cuba",
      "userId": "05812622177105967845"
     },
     "user_tz": 240
    },
    "id": "q1mIj035Nts5"
   },
   "outputs": [],
   "source": [
    "def simple_propensity(propensities, x, t, th, rh, ph, d, g, gd, a0, d0, r, th2, Omega, n):\n",
    "    #x, y, c = population\n",
    "    # Switch 1 (Promoter pointing to the right R)\n",
    "    propensities[0] = a0 * x[0] * x[10]  / Omega # R00 -> R10\n",
    "    propensities[1] = d0 * x[1] # R10 -> R00\n",
    "    propensities[2] = a0 * x[1] * x[10]  / Omega # R10 -> R11\n",
    "    propensities[3] = d0 * x[3] # R11 -> R10\n",
    "    propensities[4] = a0 * x[0] * x[10]  / Omega # R00 -> R01\n",
    "    propensities[5] = d0 * x[2] # R01 -> R00\n",
    "    propensities[6] = a0 * x[2] * x[10]  / Omega # R01 -> R11\n",
    "    propensities[7] = d0 * x[3] # R11 -> R01\n",
    "    propensities[8] = r * x[3] # R11 -> L00\n",
    "\n",
    "    # Switch 2 (Promoter pointing to the left L)\n",
    "    propensities[ 9] = a0 * x[4] * x[13]  / Omega # L00 -> L10\n",
    "    propensities[10] = d0 * x[5] # L10 -> L00\n",
    "    propensities[11] = a0 * x[5] * x[13]  / Omega # R10 -> R11\n",
    "    propensities[12] = d0 * x[7] # R11 -> R10\n",
    "    propensities[13] = a0 * x[4] * x[13]  / Omega # R00 -> R01\n",
    "    propensities[14] = d0 * x[6] # R01 -> R00\n",
    "    propensities[15] = a0 * x[6] * x[13]  / Omega # R01 -> R11\n",
    "    propensities[16] = d0 * x[7] # R11 -> R01\n",
    "    propensities[17] = r * x[7] # R11 -> L00\n",
    "\n",
    "    # TX-TL of recombinase 1\n",
    "    propensities[18] = th  # R00 -> R00 + M1\n",
    "    propensities[19] = ph * x[8] # M1 -> 0\n",
    "    propensities[20] = rh * x[8] # M1 -> M1 + X1\n",
    "    propensities[21] = d * x[9] # X1 -> 0\n",
    "    propensities[22] = g * x[9] * (x[9]-1)  / 2 / Omega # X1 + X1 -> Y1\n",
    "    propensities[23] = gd * x[10] # Y1 -> X1 + X1\n",
    "    propensities[24] = d * x[10] # Y1 -> 0\n",
    "\n",
    "    # TX-TL of recombinase 2\n",
    "    propensities[25] = th2 * x[4] # L00 -> L00 + M2\n",
    "    propensities[26] = ph * x[11] # M2 -> 0\n",
    "    propensities[27] = rh * x[11] # M2 -> M2 + X2\n",
    "    propensities[28] = d * x[12] # X2 -> 0\n",
    "    propensities[29] = g * x[12] * (x[12]-1)  / 2 / Omega # X2 + X2 -> Y2\n",
    "    propensities[30] = gd * x[13] # Y2 -> X2 + X2\n",
    "    propensities[31] = d * x[13] # Y2 -> 0\n",
    "\n",
    "    # Heterodimmer reaction\n",
    "    propensities[32] = g * x[9] * x[12] / Omega # L00 -> L00 + M2\n",
    "    propensities[33] = gd * x[14] # M2 -> 0\n",
    "    propensities[34] = d * x[14] # M2 -> M2 + X2                   "
   ]
  },
  {
   "cell_type": "code",
   "execution_count": 54,
   "metadata": {
    "colab": {
     "base_uri": "https://localhost:8080/",
     "height": 217
    },
    "executionInfo": {
     "elapsed": 2924,
     "status": "ok",
     "timestamp": 1652457371324,
     "user": {
      "displayName": "Christian Cuba",
      "userId": "05812622177105967845"
     },
     "user_tz": 240
    },
    "id": "WPPDzJe6SOOL",
    "outputId": "ab8b4471-25a8-47d2-8f4a-6fca66b5df35"
   },
   "outputs": [
    {
     "data": {
      "text/html": [
       "\n",
       "\n",
       "\n",
       "\n",
       "\n",
       "\n",
       "  <div class=\"bk-root\" id=\"48bde730-2771-4a83-b7f2-2d724177289c\" data-root-id=\"37467\"></div>\n"
      ]
     },
     "metadata": {},
     "output_type": "display_data"
    },
    {
     "data": {
      "application/javascript": [
       "(function(root) {\n",
       "  function embed_document(root) {\n",
       "    \n",
       "  const docs_json = {\"c2111a99-bafa-4b56-a439-2caa1ae616bc\":{\"defs\":[],\"roots\":{\"references\":[{\"attributes\":{\"children\":[{\"id\":\"37424\"}]},\"id\":\"37467\",\"type\":\"Row\"},{\"attributes\":{},\"id\":\"37446\",\"type\":\"HelpTool\"},{\"attributes\":{\"coordinates\":null,\"group\":null},\"id\":\"38494\",\"type\":\"Title\"},{\"attributes\":{\"coordinates\":null,\"formatter\":{\"id\":\"38500\"},\"group\":null,\"major_label_policy\":{\"id\":\"38501\"},\"major_label_text_font_size\":\"10pt\",\"ticker\":{\"id\":\"37434\"}},\"id\":\"37433\",\"type\":\"LinearAxis\"},{\"attributes\":{\"source\":{\"id\":\"37455\"}},\"id\":\"37460\",\"type\":\"CDSView\"},{\"attributes\":{\"line_alpha\":0.2,\"line_color\":\"grey\",\"line_width\":2,\"x\":{\"field\":\"x\"},\"y\":{\"field\":\"y\"}},\"id\":\"37458\",\"type\":\"Step\"},{\"attributes\":{\"coordinates\":null,\"formatter\":{\"id\":\"38497\"},\"group\":null,\"major_label_policy\":{\"id\":\"38498\"},\"major_label_text_font_size\":\"10pt\",\"ticker\":{\"id\":\"37438\"}},\"id\":\"37437\",\"type\":\"LinearAxis\"},{\"attributes\":{},\"id\":\"37438\",\"type\":\"BasicTicker\"},{\"attributes\":{},\"id\":\"37429\",\"type\":\"LinearScale\"},{\"attributes\":{\"overlay\":{\"id\":\"37447\"}},\"id\":\"37443\",\"type\":\"BoxZoomTool\"},{\"attributes\":{\"axis\":{\"id\":\"37437\"},\"coordinates\":null,\"dimension\":1,\"group\":null,\"ticker\":null},\"id\":\"37440\",\"type\":\"Grid\"},{\"attributes\":{\"line_alpha\":0.2,\"line_color\":\"orange\",\"line_width\":2,\"x\":{\"field\":\"x\"},\"y\":{\"field\":\"y\"}},\"id\":\"37464\",\"type\":\"Step\"},{\"attributes\":{},\"id\":\"37442\",\"type\":\"WheelZoomTool\"},{\"attributes\":{\"line_alpha\":0.1,\"line_color\":\"orange\",\"line_width\":2,\"x\":{\"field\":\"x\"},\"y\":{\"field\":\"y\"}},\"id\":\"37463\",\"type\":\"Step\"},{\"attributes\":{\"coordinates\":null,\"data_source\":{\"id\":\"37455\"},\"glyph\":{\"id\":\"37456\"},\"group\":null,\"hover_glyph\":null,\"muted_glyph\":{\"id\":\"37458\"},\"nonselection_glyph\":{\"id\":\"37457\"},\"view\":{\"id\":\"37460\"}},\"id\":\"37459\",\"type\":\"GlyphRenderer\"},{\"attributes\":{},\"id\":\"37434\",\"type\":\"BasicTicker\"},{\"attributes\":{\"line_color\":\"orange\",\"line_width\":2,\"x\":{\"field\":\"x\"},\"y\":{\"field\":\"y\"}},\"id\":\"37462\",\"type\":\"Step\"},{\"attributes\":{},\"id\":\"37444\",\"type\":\"SaveTool\"},{\"attributes\":{},\"id\":\"38498\",\"type\":\"AllLabels\"},{\"attributes\":{},\"id\":\"38503\",\"type\":\"Selection\"},{\"attributes\":{\"coordinates\":null,\"data_source\":{\"id\":\"37461\"},\"glyph\":{\"id\":\"37462\"},\"group\":null,\"hover_glyph\":null,\"muted_glyph\":{\"id\":\"37464\"},\"nonselection_glyph\":{\"id\":\"37463\"},\"view\":{\"id\":\"37466\"}},\"id\":\"37465\",\"type\":\"GlyphRenderer\"},{\"attributes\":{\"line_alpha\":0.1,\"line_color\":\"grey\",\"line_width\":2,\"x\":{\"field\":\"x\"},\"y\":{\"field\":\"y\"}},\"id\":\"37457\",\"type\":\"Step\"},{\"attributes\":{\"bottom_units\":\"screen\",\"coordinates\":null,\"fill_alpha\":0.5,\"fill_color\":\"lightgrey\",\"group\":null,\"left_units\":\"screen\",\"level\":\"overlay\",\"line_alpha\":1.0,\"line_color\":\"black\",\"line_dash\":[4,4],\"line_width\":2,\"right_units\":\"screen\",\"syncable\":false,\"top_units\":\"screen\"},\"id\":\"37447\",\"type\":\"BoxAnnotation\"},{\"attributes\":{\"data\":{\"x\":{\"__ndarray__\":\"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\",\"dtype\":\"float64\",\"order\":\"little\",\"shape\":[401]},\"y\":[0,0,0,0,0,0,0,0,0,0,0,0,0,0,0,0,0,0,0,0,0,0,0,0,0,0,0,0,0,0,1,5,9,25,27,25,30,30,26,24,22,19,22,25,28,31,32,40,36,40,37,36,40,39,38,42,42,43,36,37,44,43,43,38,29,22,17,14,13,14,18,13,15,13,9,9,12,14,16,31,30,33,32,42,45,52,49,54,51,47,47,43,43,36,32,26,22,21,19,16,14,14,16,16,14,12,12,9,10,13,22,39,51,63,72,66,65,54,50,46,43,30,26,18,16,15,12,12,9,7,6,5,5,4,3,3,3,3,2,0,0,0,0,0,0,0,0,0,0,0,0,0,0,0,0,0,0,0,0,0,0,0,0,0,0,0,0,0,0,0,1,4,7,6,5,8,11,13,23,23,34,50,52,49,49,44,34,35,35,34,37,38,35,30,26,30,38,40,43,45,44,43,37,36,32,25,25,23,18,22,24,22,21,21,22,24,21,22,22,21,20,23,20,25,31,37,36,36,32,31,27,25,20,17,16,12,11,10,8,7,6,4,3,3,3,3,3,2,2,2,2,2,2,2,2,2,1,1,1,1,0,0,0,0,0,0,4,18,28,33,32,32,28,24,17,18,17,16,13,12,8,7,6,3,2,2,2,1,2,3,11,13,10,10,14,17,14,11,10,14,17,22,35,35,39,36,33,28,22,20,20,17,11,11,9,8,8,7,6,6,3,3,3,3,3,3,2,2,2,2,1,0,0,0,0,0,0,0,0,0,0,0,0,0,0,0,0,0,0,0,0,0,0,0,0,0,0,0,0,0,0,0,0,0,0,0,0,0,0,0,0,0,0,0,0,0,0,0,0,0,0,0,0,0,0,0,0,0,0,0,0,0,0,0,0,0,0,0,0,0,0]},\"selected\":{\"id\":\"38505\"},\"selection_policy\":{\"id\":\"38504\"}},\"id\":\"37461\",\"type\":\"ColumnDataSource\"},{\"attributes\":{},\"id\":\"37441\",\"type\":\"PanTool\"},{\"attributes\":{\"axis\":{\"id\":\"37433\"},\"coordinates\":null,\"group\":null,\"ticker\":null},\"id\":\"37436\",\"type\":\"Grid\"},{\"attributes\":{},\"id\":\"38505\",\"type\":\"Selection\"},{\"attributes\":{},\"id\":\"38501\",\"type\":\"AllLabels\"},{\"attributes\":{},\"id\":\"38500\",\"type\":\"BasicTickFormatter\"},{\"attributes\":{\"source\":{\"id\":\"37461\"}},\"id\":\"37466\",\"type\":\"CDSView\"},{\"attributes\":{},\"id\":\"37431\",\"type\":\"LinearScale\"},{\"attributes\":{},\"id\":\"37445\",\"type\":\"ResetTool\"},{\"attributes\":{\"data\":{\"x\":{\"__ndarray__\":\"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\",\"dtype\":\"float64\",\"order\":\"little\",\"shape\":[401]},\"y\":[0,0,0,0,0,0,0,0,0,0,0,1,0,1,1,1,2,8,9,12,12,12,15,16,13,14,13,12,14,14,15,17,15,14,15,19,19,18,20,19,18,15,11,9,8,7,8,8,7,7,8,4,6,8,15,21,21,20,20,19,19,15,15,16,14,16,19,14,9,11,11,9,9,14,10,10,11,10,11,13,18,18,13,11,12,10,9,11,12,13,11,13,10,12,12,11,16,22,27,30,28,26,28,25,23,21,21,21,19,17,14,12,9,6,6,7,6,7,5,5,4,4,4,4,5,4,5,6,3,5,6,7,7,6,11,10,17,20,22,25,20,16,12,14,12,16,14,10,15,17,14,9,10,12,14,14,10,14,22,23,22,23,24,25,32,31,29,32,32,35,36,42,39,40,36,31,33,30,32,35,32,26,27,29,27,25,25,24,25,25,28,33,34,32,32,29,26,27,30,38,40,37,34,29,28,24,21,18,14,15,13,8,6,7,9,11,13,20,23,23,18,13,13,12,10,11,11,8,8,8,6,5,8,10,15,15,16,18,15,15,20,22,19,24,27,26,28,36,40,38,38,32,29,28,25,23,25,26,31,28,20,23,30,37,38,42,43,45,40,32,31,36,37,33,30,27,32,32,39,37,43,43,39,42,37,37,43,43,38,38,29,22,28,28,24,18,15,14,10,8,6,7,9,8,7,6,7,6,5,3,1,2,3,3,6,5,9,12,17,23,30,27,27,26,24,24,24,20,19,16,13,14,13,11,17,16,17,20,25,25,27,24,19,17,15,15,14,17,25,23,28,30,36,33,27,27,22,16,14,10,9,10,10,9,8,7,7,10,13,20,19,20,20,20,19,19,23,24,28,27,29,29,25,21,18,23,24,24,27,25,34,40,48,44,42,33,36,34,38,34,34]},\"selected\":{\"id\":\"38503\"},\"selection_policy\":{\"id\":\"38502\"}},\"id\":\"37455\",\"type\":\"ColumnDataSource\"},{\"attributes\":{\"line_color\":\"grey\",\"line_width\":2,\"x\":{\"field\":\"x\"},\"y\":{\"field\":\"y\"}},\"id\":\"37456\",\"type\":\"Step\"},{\"attributes\":{},\"id\":\"37425\",\"type\":\"DataRange1d\"},{\"attributes\":{\"tools\":[{\"id\":\"37441\"},{\"id\":\"37442\"},{\"id\":\"37443\"},{\"id\":\"37444\"},{\"id\":\"37445\"},{\"id\":\"37446\"}]},\"id\":\"37448\",\"type\":\"Toolbar\"},{\"attributes\":{},\"id\":\"38497\",\"type\":\"BasicTickFormatter\"},{\"attributes\":{},\"id\":\"38504\",\"type\":\"UnionRenderers\"},{\"attributes\":{},\"id\":\"38502\",\"type\":\"UnionRenderers\"},{\"attributes\":{},\"id\":\"37427\",\"type\":\"DataRange1d\"},{\"attributes\":{\"below\":[{\"id\":\"37433\"}],\"center\":[{\"id\":\"37436\"},{\"id\":\"37440\"}],\"height\":200,\"left\":[{\"id\":\"37437\"}],\"renderers\":[{\"id\":\"37459\"},{\"id\":\"37465\"}],\"title\":{\"id\":\"38494\"},\"toolbar\":{\"id\":\"37448\"},\"x_range\":{\"id\":\"37425\"},\"x_scale\":{\"id\":\"37429\"},\"y_range\":{\"id\":\"37427\"},\"y_scale\":{\"id\":\"37431\"}},\"id\":\"37424\",\"subtype\":\"Figure\",\"type\":\"Plot\"}],\"root_ids\":[\"37467\"]},\"title\":\"Bokeh Application\",\"version\":\"2.4.1\"}};\n",
       "  const render_items = [{\"docid\":\"c2111a99-bafa-4b56-a439-2caa1ae616bc\",\"root_ids\":[\"37467\"],\"roots\":{\"37467\":\"48bde730-2771-4a83-b7f2-2d724177289c\"}}];\n",
       "  root.Bokeh.embed.embed_items_notebook(docs_json, render_items);\n",
       "\n",
       "  }\n",
       "  if (root.Bokeh !== undefined) {\n",
       "    embed_document(root);\n",
       "  } else {\n",
       "    let attempts = 0;\n",
       "    const timer = setInterval(function(root) {\n",
       "      if (root.Bokeh !== undefined) {\n",
       "        clearInterval(timer);\n",
       "        embed_document(root);\n",
       "      } else {\n",
       "        attempts++;\n",
       "        if (attempts > 100) {\n",
       "          clearInterval(timer);\n",
       "          console.log(\"Bokeh: ERROR: Unable to run BokehJS code because BokehJS library is missing\");\n",
       "        }\n",
       "      }\n",
       "    }, 10, root)\n",
       "  }\n",
       "})(window);"
      ],
      "application/vnd.bokehjs_exec.v0+json": ""
     },
     "metadata": {
      "application/vnd.bokehjs_exec.v0+json": {
       "id": "37467"
      }
     },
     "output_type": "display_data"
    }
   ],
   "source": [
    "# Specify parameters for calculation\n",
    "n = 1 # copy number of promoter\n",
    "th = .3*60/n/3 # 1/h\n",
    "rh = 80 # 1/h\n",
    "ph = 0.6931/10*60 # 1/h log(2)=0.6931\n",
    "d = 0.6931/30*60 # 1/h log(2)=0.6931\n",
    "g = 2.1*36 # 1/uM/h \n",
    "gd = g*0.01 # 1/h\n",
    "r = 5 # 1/h Switching rate\n",
    "a0 = 2.1*36\n",
    "d0 = 0.1*a0\n",
    "\n",
    "th2 = .3*60/n # 1/h\n",
    "\n",
    "Omega = 600 # 600\n",
    "\n",
    "args = (th, rh, ph, d, g, gd, a0, d0, r, th2, Omega, n)\n",
    "time_points = np.linspace(0, 40, 401)\n",
    "population_0 = np.zeros(15, dtype=int)\n",
    "population_0[0] = n\n",
    "\n",
    "samples = biocircuits.gillespie_ssa(simple_propensity, simple_update, population_0,time_points, size=1, args=args, n_threads=1,progress_bar=False)\n",
    "\n",
    "# Set up plots\n",
    "fig_size = [600, 200] # for paper size (144, 110) # for larger size (144,144)\n",
    "x_range = (0, time_points[-1])\n",
    "y_range = (0, 400)\n",
    "\n",
    "plots = []\n",
    "for i in range(1):\n",
    "    plots.append(bokeh.plotting.figure(plot_width=fig_size[0], plot_height=fig_size[1],\n",
    "                          #x_range=x_range, y_range=y_range\n",
    "                          ),)\n",
    "    plots[i].axis.major_label_text_font_size = \"10pt\"\n",
    "\n",
    "\n",
    "# Plot trajectories of recombinase 1 and 2\n",
    "y1 = samples[0,:,10] # samples[:,:,10][0]\n",
    "plots[0].step(time_points, y1, line_width=2, alpha= 1, line_join=\"bevel\",color=\"grey\")\n",
    "\n",
    "y2 = samples[0,:,13]\n",
    "plots[0].step(time_points, y2, line_width=2, alpha= 1, line_join=\"bevel\",color=\"orange\")\n",
    "# Link axes\n",
    "\n",
    "bokeh.io.show(bokeh.layouts.row(plots))"
   ]
  },
  {
   "cell_type": "code",
   "execution_count": 49,
   "metadata": {},
   "outputs": [
    {
     "data": {
      "text/html": [
       "\n",
       "\n",
       "\n",
       "\n",
       "\n",
       "\n",
       "  <div class=\"bk-root\" id=\"7dfe9011-a173-4c79-9776-f7a48feff2af\" data-root-id=\"31701\"></div>\n"
      ]
     },
     "metadata": {},
     "output_type": "display_data"
    },
    {
     "data": {
      "application/javascript": [
       "(function(root) {\n",
       "  function embed_document(root) {\n",
       "    \n",
       "  const docs_json = {\"43601886-b172-44b3-8e76-cdfaf4a2b494\":{\"defs\":[],\"roots\":{\"references\":[{\"attributes\":{\"children\":[{\"id\":\"31652\"}]},\"id\":\"31701\",\"type\":\"Row\"},{\"attributes\":{\"line_alpha\":0.5,\"line_color\":\"#999999\",\"line_width\":2,\"x\":{\"field\":\"x\"},\"y\":{\"field\":\"y\"}},\"id\":\"31690\",\"type\":\"Step\"},{\"attributes\":{},\"id\":\"31657\",\"type\":\"LinearScale\"},{\"attributes\":{},\"id\":\"31672\",\"type\":\"SaveTool\"},{\"attributes\":{\"source\":{\"id\":\"31683\"}},\"id\":\"31688\",\"type\":\"CDSView\"},{\"attributes\":{\"axis\":{\"id\":\"31661\"},\"coordinates\":null,\"group\":null,\"ticker\":null},\"id\":\"31664\",\"type\":\"Grid\"},{\"attributes\":{\"line_color\":\"#90bd31\",\"line_width\":2,\"x\":{\"field\":\"x\"},\"y\":{\"field\":\"y\"}},\"id\":\"31696\",\"type\":\"Step\"},{\"attributes\":{\"fill_alpha\":0.1,\"fill_color\":\"#f4f8ea\",\"hatch_alpha\":{\"value\":0.1},\"x\":{\"field\":\"x\"},\"y1\":{\"field\":\"y1\"},\"y2\":{\"field\":\"y2\"}},\"id\":\"31685\",\"type\":\"VArea\"},{\"attributes\":{},\"id\":\"32667\",\"type\":\"BasicTickFormatter\"},{\"attributes\":{\"overlay\":{\"id\":\"31675\"}},\"id\":\"31671\",\"type\":\"BoxZoomTool\"},{\"attributes\":{\"coordinates\":null,\"data_source\":{\"id\":\"31689\"},\"glyph\":{\"id\":\"31690\"},\"group\":null,\"hover_glyph\":null,\"muted_glyph\":{\"id\":\"31692\"},\"nonselection_glyph\":{\"id\":\"31691\"},\"view\":{\"id\":\"31694\"}},\"id\":\"31693\",\"type\":\"GlyphRenderer\"},{\"attributes\":{},\"id\":\"32664\",\"type\":\"BasicTickFormatter\"},{\"attributes\":{},\"id\":\"31670\",\"type\":\"WheelZoomTool\"},{\"attributes\":{},\"id\":\"32665\",\"type\":\"AllLabels\"},{\"attributes\":{\"bottom_units\":\"screen\",\"coordinates\":null,\"fill_alpha\":0.5,\"fill_color\":\"lightgrey\",\"group\":null,\"left_units\":\"screen\",\"level\":\"overlay\",\"line_alpha\":1.0,\"line_color\":\"black\",\"line_dash\":[4,4],\"line_width\":2,\"right_units\":\"screen\",\"syncable\":false,\"top_units\":\"screen\"},\"id\":\"31675\",\"type\":\"BoxAnnotation\"},{\"attributes\":{},\"id\":\"31669\",\"type\":\"PanTool\"},{\"attributes\":{},\"id\":\"32673\",\"type\":\"UnionRenderers\"},{\"attributes\":{},\"id\":\"32670\",\"type\":\"Selection\"},{\"attributes\":{},\"id\":\"32672\",\"type\":\"Selection\"},{\"attributes\":{\"fill_color\":\"#f4f8ea\",\"x\":{\"field\":\"x\"},\"y1\":{\"field\":\"y1\"},\"y2\":{\"field\":\"y2\"}},\"id\":\"31684\",\"type\":\"VArea\"},{\"attributes\":{},\"id\":\"31673\",\"type\":\"ResetTool\"},{\"attributes\":{\"line_alpha\":0.2,\"line_color\":\"#999999\",\"line_width\":2,\"x\":{\"field\":\"x\"},\"y\":{\"field\":\"y\"}},\"id\":\"31692\",\"type\":\"Step\"},{\"attributes\":{},\"id\":\"31659\",\"type\":\"LinearScale\"},{\"attributes\":{},\"id\":\"32674\",\"type\":\"Selection\"},{\"attributes\":{},\"id\":\"32668\",\"type\":\"AllLabels\"},{\"attributes\":{\"end\":120},\"id\":\"31655\",\"type\":\"Range1d\"},{\"attributes\":{\"below\":[{\"id\":\"31661\"}],\"center\":[{\"id\":\"31664\"},{\"id\":\"31668\"}],\"height\":115,\"left\":[{\"id\":\"31665\"}],\"renderers\":[{\"id\":\"31687\"},{\"id\":\"31693\"},{\"id\":\"31699\"}],\"title\":{\"id\":\"32661\"},\"toolbar\":{\"id\":\"31676\"},\"width\":266,\"x_range\":{\"id\":\"31653\"},\"x_scale\":{\"id\":\"31657\"},\"y_range\":{\"id\":\"31655\"},\"y_scale\":{\"id\":\"31659\"}},\"id\":\"31652\",\"subtype\":\"Figure\",\"type\":\"Plot\"},{\"attributes\":{\"coordinates\":null,\"data_source\":{\"id\":\"31683\"},\"glyph\":{\"id\":\"31684\"},\"group\":null,\"hover_glyph\":null,\"muted_glyph\":{\"id\":\"31686\"},\"nonselection_glyph\":{\"id\":\"31685\"},\"view\":{\"id\":\"31688\"}},\"id\":\"31687\",\"type\":\"GlyphRenderer\"},{\"attributes\":{\"data\":{\"x\":{\"__ndarray__\":\"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\",\"dtype\":\"float64\",\"order\":\"little\",\"shape\":[401]},\"y\":[0,0,0,4,8,15,20,23,22,26,28,33,31,38,38,33,36,31,32,28,24,25,21,22,20,20,18,14,13,13,12,16,14,14,16,21,24,26,27,23,18,16,18,17,16,17,13,14,14,14,14,11,9,8,8,9,11,16,10,8,9,12,21,23,19,21,19,17,16,18,24,29,32,39,39,35,32,30,26,24,20,14,13,8,6,7,6,4,6,5,8,4,8,10,10,12,7,12,14,9,16,21,23,27,28,27,32,38,39,43,41,42,34,25,22,18,18,12,9,9,7,7,7,6,5,3,4,3,5,6,10,8,10,18,19,17,19,14,16,18,20,25,26,27,32,37,37,34,30,33,31,34,32,31,31,35,33,34,28,25,30,26,31,29,26,27,33,31,30,25,18,17,14,13,11,9,5,3,7,6,7,9,16,16,15,15,16,15,18,20,23,21,22,23,26,25,19,13,11,10,9,6,5,5,4,3,3,5,6,5,5,4,3,3,3,2,6,5,14,19,19,15,16,16,14,16,19,21,18,15,18,18,14,11,7,6,11,18,25,37,50,60,54,58,57,55,49,44,35,33,30,32,30,37,40,45,62,71,78,80,70,63,52,42,41,38,35,31,26,23,24,20,14,16,10,11,10,9,7,7,9,7,8,12,13,13,15,13,15,16,14,16,12,11,9,12,11,11,11,10,9,8,10,9,10,9,10,9,8,6,5,5,6,7,14,16,20,24,25,28,22,20,26,32,31,28,26,17,15,17,19,23,23,24,24,25,23,18,19,18,20,18,11,10,10,8,8,7,8,7,6,4,4,7,10,12,15,16,26,24,21,18,18,20,17,14,16,19,21,21,26,26,27,26,31,34,36,34,37,34,28,23,19,19,16,14,12,11,11,13,21,22,26,36,41,62,69,72,70,73,73]},\"selected\":{\"id\":\"32672\"},\"selection_policy\":{\"id\":\"32671\"}},\"id\":\"31689\",\"type\":\"ColumnDataSource\"},{\"attributes\":{\"data\":{\"x\":{\"__ndarray__\":\"AAAAAAAAAACamZmZmZm5P5qZmZmZmck/NDMzMzMz0z+amZmZmZnZPwAAAAAAAOA/NDMzMzMz4z9nZmZmZmbmP5qZmZmZmek/zczMzMzM7D8AAAAAAADwP5qZmZmZmfE/NDMzMzMz8z/NzMzMzMz0P2dmZmZmZvY/AAAAAAAA+D+amZmZmZn5PzQzMzMzM/s/zczMzMzM/D9nZmZmZmb+PwAAAAAAAABAzczMzMzMAECamZmZmZkBQGdmZmZmZgJANDMzMzMzA0AAAAAAAAAEQM3MzMzMzARAmpmZmZmZBUBnZmZmZmYGQDQzMzMzMwdAAAAAAAAACEDNzMzMzMwIQJqZmZmZmQlAZ2ZmZmZmCkA0MzMzMzMLQAAAAAAAAAxAzczMzMzMDECamZmZmZkNQGdmZmZmZg5ANDMzMzMzD0AAAAAAAAAQQGdmZmZmZhBAzczMzMzMEEAzMzMzMzMRQJqZmZmZmRFAAAAAAAAAEkBnZmZmZmYSQM3MzMzMzBJANDMzMzMzE0CamZmZmZkTQAAAAAAAABRAZ2ZmZmZmFEDNzMzMzMwUQDQzMzMzMxVAmpmZmZmZFUAAAAAAAAAWQGdmZmZmZhZAzczMzMzMFkA0MzMzMzMXQJqZmZmZmRdAAAAAAAAAGEBnZmZmZmYYQM3MzMzMzBhANDMzMzMzGUCamZmZmZkZQAAAAAAAABpAZ2ZmZmZmGkDNzMzMzMwaQDQzMzMzMxtAmpmZmZmZG0AAAAAAAAAcQGdmZmZmZhxAzczMzMzMHEA0MzMzMzMdQJqZmZmZmR1AAAAAAAAAHkBnZmZmZmYeQM3MzMzMzB5ANDMzMzMzH0CamZmZmZkfQAAAAAAAACBAMzMzMzMzIEBnZmZmZmYgQJqZmZmZmSBAzczMzMzMIEAAAAAAAAAhQDMzMzMzMyFAZ2ZmZmZmIUCamZmZmZkhQM3MzMzMzCFAAAAAAAAAIkAzMzMzMzMiQGdmZmZmZiJAmpmZmZmZIkDNzMzMzMwiQAAAAAAAACNANDMzMzMzI0BnZmZmZmYjQJqZmZmZmSNAzczMzMzMI0AAAAAAAAAkQDQzMzMzMyRAZ2ZmZmZmJECamZmZmZkkQM3MzMzMzCRAAAAAAAAAJUA0MzMzMzMlQGdmZmZmZiVAmpmZmZmZJUDNzMzMzMwlQAAAAAAAACZANDMzMzMzJkBnZmZmZmYmQJqZmZmZmSZAzczMzMzMJkAAAAAAAAAnQDQzMzMzMydAZ2ZmZmZmJ0CamZmZmZknQM3MzMzMzCdAAAAAAAAAKEA0MzMzMzMoQGdmZmZmZihAmpmZmZmZKEDNzMzMzMwoQAAAAAAAAClANDMzMzMzKUBnZmZmZmYpQJqZmZmZmSlAzczMzMzMKUAAAAAAAAAqQDQzMzMzMypAZ2ZmZmZmKkCamZmZmZkqQM3MzMzMzCpAAAAAAAAAK0A0MzMzMzMrQGdmZmZmZitAmpmZmZmZK0DNzMzMzMwrQAAAAAAAACxANDMzMzMzLEBnZmZmZmYsQJqZmZmZmSxAzczMzMzMLEAAAAAAAAAtQDQzMzMzMy1AZ2ZmZmZmLUCamZmZmZktQM3MzMzMzC1AAAAAAAAALkA0MzMzMzMuQGdmZmZmZi5AmpmZmZmZLkDNzMzMzMwuQAAAAAAAAC9ANDMzMzMzL0BnZmZmZmYvQJqZmZmZmS9AzczMzMzML0AAAAAAAAAwQJqZmZmZGTBAMzMzMzMzMEDNzMzMzEwwQGdmZmZmZjBAAAAAAACAMECamZmZmZkwQDMzMzMzszBAzczMzMzMMEBnZmZmZuYwQAAAAAAAADFAmpmZmZkZMUAzMzMzMzMxQM3MzMzMTDFAZ2ZmZmZmMUAAAAAAAIAxQJqZmZmZmTFAMzMzMzOzMUDNzMzMzMwxQGdmZmZm5jFAAAAAAAAAMkCamZmZmRkyQDMzMzMzMzJAzczMzMxMMkBnZmZmZmYyQAAAAAAAgDJAmpmZmZmZMkAzMzMzM7MyQM3MzMzMzDJAZ2ZmZmbmMkAAAAAAAAAzQJqZmZmZGTNANDMzMzMzM0DNzMzMzEwzQGdmZmZmZjNAAAAAAACAM0CamZmZmZkzQDQzMzMzszNAzczMzMzMM0BnZmZmZuYzQAAAAAAAADRAmpmZmZkZNEA0MzMzMzM0QM3MzMzMTDRAZ2ZmZmZmNEAAAAAAAIA0QJqZmZmZmTRANDMzMzOzNEDNzMzMzMw0QGdmZmZm5jRAAAAAAAAANUCamZmZmRk1QDQzMzMzMzVAzczMzMxMNUBnZmZmZmY1QAAAAAAAgDVAmpmZmZmZNUA0MzMzM7M1QM3MzMzMzDVAZ2ZmZmbmNUAAAAAAAAA2QJqZmZmZGTZANDMzMzMzNkDNzMzMzEw2QGdmZmZmZjZAAAAAAACANkCamZmZmZk2QDQzMzMzszZAzczMzMzMNkBnZmZmZuY2QAAAAAAAADdAmpmZmZkZN0A0MzMzMzM3QM3MzMzMTDdAZ2ZmZmZmN0AAAAAAAIA3QJqZmZmZmTdANDMzMzOzN0DNzMzMzMw3QGdmZmZm5jdAAAAAAAAAOECamZmZmRk4QDQzMzMzMzhAzczMzMxMOEBnZmZmZmY4QAAAAAAAgDhAmpmZmZmZOEA0MzMzM7M4QM3MzMzMzDhAZ2ZmZmbmOEAAAAAAAAA5QJqZmZmZGTlANDMzMzMzOUDNzMzMzEw5QGdmZmZmZjlAAAAAAACAOUCamZmZmZk5QDQzMzMzszlAzczMzMzMOUBnZmZmZuY5QAAAAAAAADpAmpmZmZkZOkA0MzMzMzM6QM3MzMzMTDpAZ2ZmZmZmOkAAAAAAAIA6QJqZmZmZmTpANDMzMzOzOkDNzMzMzMw6QGdmZmZm5jpAAAAAAAAAO0CamZmZmRk7QDQzMzMzMztAzczMzMxMO0BnZmZmZmY7QAAAAAAAgDtAmpmZmZmZO0A0MzMzM7M7QM3MzMzMzDtAZ2ZmZmbmO0AAAAAAAAA8QJqZmZmZGTxANDMzMzMzPEDNzMzMzEw8QGdmZmZmZjxAAAAAAACAPECamZmZmZk8QDQzMzMzszxAzczMzMzMPEBnZmZmZuY8QAAAAAAAAD1AmpmZmZkZPUA0MzMzMzM9QM3MzMzMTD1AZ2ZmZmZmPUAAAAAAAIA9QJqZmZmZmT1ANDMzMzOzPUDNzMzMzMw9QGdmZmZm5j1AAAAAAAAAPkCamZmZmRk+QDQzMzMzMz5AzczMzMxMPkBnZmZmZmY+QAAAAAAAgD5AmpmZmZmZPkA0MzMzM7M+QM3MzMzMzD5AZ2ZmZmbmPkAAAAAAAAA/QJqZmZmZGT9ANDMzMzMzP0DNzMzMzEw/QGdmZmZmZj9AAAAAAACAP0CamZmZmZk/QDQzMzMzsz9AzczMzMzMP0BnZmZmZuY/QAAAAAAAAEBAzczMzMwMQECamZmZmRlAQGdmZmZmJkBAMzMzMzMzQEAAAAAAAEBAQM3MzMzMTEBAmpmZmZlZQEBnZmZmZmZAQDMzMzMzc0BAAAAAAACAQEDNzMzMzIxAQJqZmZmZmUBAZ2ZmZmamQEAzMzMzM7NAQAAAAAAAwEBAzczMzMzMQECamZmZmdlAQGdmZmZm5kBAMzMzMzPzQEAAAAAAAABBQM3MzMzMDEFAmpmZmZkZQUBnZmZmZiZBQDMzMzMzM0FAAAAAAABAQUDNzMzMzExBQJqZmZmZWUFAZ2ZmZmZmQUAzMzMzM3NBQAAAAAAAgEFAzczMzMyMQUCamZmZmZlBQGdmZmZmpkFAMzMzMzOzQUAAAAAAAMBBQM3MzMzMzEFAmpmZmZnZQUBnZmZmZuZBQDMzMzMz80FAAAAAAAAAQkDNzMzMzAxCQJqZmZmZGUJAZ2ZmZmYmQkAzMzMzMzNCQAAAAAAAQEJAzczMzMxMQkCamZmZmVlCQGdmZmZmZkJAMzMzMzNzQkAAAAAAAIBCQM3MzMzMjEJAmpmZmZmZQkBnZmZmZqZCQDMzMzMzs0JAAAAAAADAQkDNzMzMzMxCQJqZmZmZ2UJAZ2ZmZmbmQkAzMzMzM/NCQAAAAAAAAENAzczMzMwMQ0CamZmZmRlDQGdmZmZmJkNANDMzMzMzQ0AAAAAAAEBDQM3MzMzMTENAmpmZmZlZQ0BnZmZmZmZDQDQzMzMzc0NAAAAAAACAQ0DNzMzMzIxDQJqZmZmZmUNAZ2ZmZmamQ0A0MzMzM7NDQAAAAAAAwENAzczMzMzMQ0CamZmZmdlDQGdmZmZm5kNANDMzMzPzQ0AAAAAAAABEQA==\",\"dtype\":\"float64\",\"order\":\"little\",\"shape\":[401]},\"y\":[0,0,0,0,0,0,0,0,0,0,0,0,0,0,0,2,5,16,22,22,20,18,19,18,16,17,15,12,13,13,10,10,9,9,14,17,24,24,32,35,36,33,34,28,26,28,26,26,26,29,34,45,60,73,76,75,72,64,68,72,67,65,49,44,37,35,29,27,19,18,13,12,9,7,10,14,18,30,35,56,61,75,94,81,82,76,73,66,65,57,48,40,36,35,28,23,22,22,20,17,13,9,7,5,4,4,3,3,1,1,1,3,11,30,55,71,79,93,89,88,76,63,55,50,42,33,31,24,20,22,18,16,13,11,9,7,6,5,4,3,4,4,4,3,3,2,2,2,0,0,0,0,0,0,0,0,0,0,0,0,0,0,0,2,10,15,28,34,36,47,68,63,70,79,90,90,79,82,69,60,56,42,39,35,30,25,20,18,14,14,7,6,5,4,4,4,20,38,65,95,108,110,102,99,90,76,68,61,54,40,32,26,22,18,16,13,12,10,10,6,4,4,2,2,2,2,3,2,1,1,1,1,1,1,1,1,1,0,0,0,0,0,0,0,0,1,6,19,28,53,82,96,92,82,68,57,44,39,34,31,44,53,61,58,60,51,57,53,50,43,39,35,32,32,32,42,48,47,46,40,38,29,26,19,12,10,11,12,21,28,26,35,42,42,43,39,38,32,26,24,26,25,24,28,25,24,24,28,40,48,58,57,67,66,57,44,35,29,21,17,14,12,11,10,7,6,6,3,2,2,2,2,2,1,0,0,0,0,1,13,31,55,71,84,86,92,84,81,78,76,70,56,49,48,43,40,32,22,20,14,13,12,11,9,7,6,6,6,4,3,1,0,0,0,0,0,0,0,12,32,48,68,72,76,72,59,65,73,70,53,49,38,33,28,29,22,18,15,11,10,14]},\"selected\":{\"id\":\"32674\"},\"selection_policy\":{\"id\":\"32673\"}},\"id\":\"31695\",\"type\":\"ColumnDataSource\"},{\"attributes\":{\"end\":40},\"id\":\"31653\",\"type\":\"Range1d\"},{\"attributes\":{\"line_alpha\":0.2,\"line_color\":\"#90bd31\",\"line_width\":2,\"x\":{\"field\":\"x\"},\"y\":{\"field\":\"y\"}},\"id\":\"31698\",\"type\":\"Step\"},{\"attributes\":{},\"id\":\"32671\",\"type\":\"UnionRenderers\"},{\"attributes\":{\"coordinates\":null,\"formatter\":{\"id\":\"32664\"},\"group\":null,\"major_label_policy\":{\"id\":\"32665\"},\"major_label_text_font_size\":\"10pt\",\"ticker\":{\"id\":\"31666\"}},\"id\":\"31665\",\"type\":\"LinearAxis\"},{\"attributes\":{\"fill_alpha\":0.2,\"fill_color\":\"#f4f8ea\",\"hatch_alpha\":{\"value\":0.2},\"x\":{\"field\":\"x\"},\"y1\":{\"field\":\"y1\"},\"y2\":{\"field\":\"y2\"}},\"id\":\"31686\",\"type\":\"VArea\"},{\"attributes\":{\"source\":{\"id\":\"31695\"}},\"id\":\"31700\",\"type\":\"CDSView\"},{\"attributes\":{\"axis\":{\"id\":\"31665\"},\"coordinates\":null,\"dimension\":1,\"group\":null,\"ticker\":null},\"id\":\"31668\",\"type\":\"Grid\"},{\"attributes\":{},\"id\":\"31674\",\"type\":\"HelpTool\"},{\"attributes\":{},\"id\":\"31662\",\"type\":\"BasicTicker\"},{\"attributes\":{\"line_alpha\":0.1,\"line_color\":\"#90bd31\",\"line_width\":2,\"x\":{\"field\":\"x\"},\"y\":{\"field\":\"y\"}},\"id\":\"31697\",\"type\":\"Step\"},{\"attributes\":{\"data\":{\"x\":{\"__ndarray__\":\"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\",\"dtype\":\"float64\",\"order\":\"little\",\"shape\":[401]},\"y1\":[0,0,0,0,0,0,0,0,0,0,0,0,0,0,0,0,0,0,0,0,0,0,0,0,0,0,0,0,0,0,0,0,0,0,0,0,0,0,0,0,0,0,0,0,0,0,0,0,0,0,0,0,0,0,0,0,0,0,0,0,0,0,0,0,0,0,0,0,0,0,0,0,0,0,0,0,0,0,0,0,0,0,0,0,0,0,0,0,0,0,0,0,0,0,0,0,0,0,0,0,0,0,0,0,0,0,0,0,0,0,0,0,0,0,0,0,0,0,0,0,0,0,0,0,0,0,0,0,0,0,0,0,0,0,0,0,0,0,0,0,0,0,0,0,0,0,0,0,0,0,0,0,0,0,0,0,0,0,0,0,0,0,0,0,0,0,0,0,0,0,0,0,0,0,0,0,0,0,0,0,0,0,0,0,0,0,0,0,0,0,0,0,0,0,0,0,0,0,0,0,0,0,0,0,0,0,0,0,0,0,0,0,0,0,0,0,0,0,0,0,0,0,0,0,0,0,0,0,0,0,0,0,0,0,0,0,0,0,0,0,0,0,0,0,0,0,0,0,0,0,0,0,0,0,0,0,0,0,0,0,0,0,0,0,0,0,0,0,0,0,0,0,0,0,0,0,0,0,0,0,0,0,0,0,0,0,0,0,0,0,0,0,0,0,0,0,0,0,0,0,0,0,0,0,0,0,0,0,0,0,0,0,0,0,0,0,0,0,0,0,0,0,0,0,0,0,0,0,0,0,0,0,0,0,0,0,0,0,0,0,0,0,0,0,0,0,0,0,0,0,0,0,0,0,0,0,0,0,0,0,0,0,0,0,0,0,0,0,0,0,0,0,0,0,0,0,0,0,0,0,0,0,0,0,0,0,0,0,0,0,0,0,0,0,0,0,0,0,0,0,0],\"y2\":[0,0,0,0,0,0,0,0,0,0,0,0,0,120,120,120,120,120,120,120,120,120,120,120,120,120,120,120,120,120,120,120,120,120,120,120,120,120,120,120,120,120,120,120,120,120,120,120,120,120,120,120,120,120,120,120,120,120,120,120,120,0,0,0,0,0,0,0,0,0,0,0,120,120,120,120,120,120,120,120,120,0,0,0,0,120,0,0,0,0,0,0,0,0,0,0,0,0,0,0,0,0,0,0,0,0,0,0,0,120,120,120,120,120,120,120,0,0,0,0,0,0,0,0,0,0,0,0,0,0,0,0,0,0,0,0,0,0,0,0,0,0,0,0,0,0,0,0,0,0,0,0,0,0,0,0,0,0,0,0,0,0,120,120,120,120,120,120,120,120,120,120,120,120,0,0,0,0,0,0,0,0,0,0,0,0,0,0,0,0,0,0,0,0,120,120,120,120,120,120,120,0,0,0,0,0,0,0,0,0,0,0,0,0,0,0,0,0,0,0,0,0,0,0,0,0,0,0,0,0,0,0,0,0,0,0,0,0,0,0,0,0,120,120,120,120,120,120,120,120,120,120,120,120,120,120,120,120,120,120,120,120,120,120,120,120,120,120,120,120,120,120,120,120,120,120,120,120,120,120,120,120,120,120,120,120,120,120,120,120,120,120,120,120,120,120,120,120,120,120,120,120,120,120,120,120,120,120,120,120,120,120,0,0,0,0,0,0,0,0,0,0,0,0,0,0,0,0,0,0,0,0,0,0,0,0,0,0,120,120,120,120,120,120,120,120,120,120,0,0,0,0,0,0,0,0,0,0,0,0,0,0,0,0,0,0,0,0,0,0,0,0,0,0,0,0,120,120,120,120,120,120,120,120,120,120,120,120,120,120,120,120,120,120,120,120,120,120,120,120,120]},\"selected\":{\"id\":\"32670\"},\"selection_policy\":{\"id\":\"32669\"}},\"id\":\"31683\",\"type\":\"ColumnDataSource\"},{\"attributes\":{\"coordinates\":null,\"formatter\":{\"id\":\"32667\"},\"group\":null,\"major_label_policy\":{\"id\":\"32668\"},\"major_label_text_font_size\":\"10pt\",\"ticker\":{\"id\":\"31662\"}},\"id\":\"31661\",\"type\":\"LinearAxis\"},{\"attributes\":{\"line_alpha\":0.1,\"line_color\":\"#999999\",\"line_width\":2,\"x\":{\"field\":\"x\"},\"y\":{\"field\":\"y\"}},\"id\":\"31691\",\"type\":\"Step\"},{\"attributes\":{\"coordinates\":null,\"data_source\":{\"id\":\"31695\"},\"glyph\":{\"id\":\"31696\"},\"group\":null,\"hover_glyph\":null,\"muted_glyph\":{\"id\":\"31698\"},\"nonselection_glyph\":{\"id\":\"31697\"},\"view\":{\"id\":\"31700\"}},\"id\":\"31699\",\"type\":\"GlyphRenderer\"},{\"attributes\":{},\"id\":\"31666\",\"type\":\"BasicTicker\"},{\"attributes\":{},\"id\":\"32669\",\"type\":\"UnionRenderers\"},{\"attributes\":{\"source\":{\"id\":\"31689\"}},\"id\":\"31694\",\"type\":\"CDSView\"},{\"attributes\":{\"coordinates\":null,\"group\":null},\"id\":\"32661\",\"type\":\"Title\"},{\"attributes\":{\"tools\":[{\"id\":\"31669\"},{\"id\":\"31670\"},{\"id\":\"31671\"},{\"id\":\"31672\"},{\"id\":\"31673\"},{\"id\":\"31674\"}]},\"id\":\"31676\",\"type\":\"Toolbar\"}],\"root_ids\":[\"31701\"]},\"title\":\"Bokeh Application\",\"version\":\"2.4.1\"}};\n",
       "  const render_items = [{\"docid\":\"43601886-b172-44b3-8e76-cdfaf4a2b494\",\"root_ids\":[\"31701\"],\"roots\":{\"31701\":\"7dfe9011-a173-4c79-9776-f7a48feff2af\"}}];\n",
       "  root.Bokeh.embed.embed_items_notebook(docs_json, render_items);\n",
       "\n",
       "  }\n",
       "  if (root.Bokeh !== undefined) {\n",
       "    embed_document(root);\n",
       "  } else {\n",
       "    let attempts = 0;\n",
       "    const timer = setInterval(function(root) {\n",
       "      if (root.Bokeh !== undefined) {\n",
       "        clearInterval(timer);\n",
       "        embed_document(root);\n",
       "      } else {\n",
       "        attempts++;\n",
       "        if (attempts > 100) {\n",
       "          clearInterval(timer);\n",
       "          console.log(\"Bokeh: ERROR: Unable to run BokehJS code because BokehJS library is missing\");\n",
       "        }\n",
       "      }\n",
       "    }, 10, root)\n",
       "  }\n",
       "})(window);"
      ],
      "application/vnd.bokehjs_exec.v0+json": ""
     },
     "metadata": {
      "application/vnd.bokehjs_exec.v0+json": {
       "id": "31701"
      }
     },
     "output_type": "display_data"
    },
    {
     "data": {
      "text/plain": [
       "['fig/SingleTrajectory.svg']"
      ]
     },
     "execution_count": 49,
     "metadata": {},
     "output_type": "execute_result"
    }
   ],
   "source": [
    "# Set up plots\n",
    "# For two digits 260 by 115 larger and 144 by 115 for half size\n",
    "# For three digits 266 by 115 larger and 150 by 115 for half size\n",
    "fig_size = [266, 115] # visualize (600/200)\n",
    "x_range = (0, 40)\n",
    "y_range = (0, 120)\n",
    "\n",
    "plots = []\n",
    "for i in range(1):\n",
    "    plots.append(bokeh.plotting.figure(plot_width=fig_size[0], plot_height=fig_size[1],\n",
    "                          x_range=x_range, y_range=y_range\n",
    "                          ),)\n",
    "    plots[i].axis.major_label_text_font_size = \"10pt\"\n",
    "\n",
    "# Plot trajectories of recombinase 1 and 2\n",
    "sR = samples[0,:,4:8].sum(axis=1)\n",
    "#print(sR.size)\n",
    "\n",
    "plots[0].varea(time_points, sR*0, sR*y_range[1], fill_color=\"#f4f8ea\")\n",
    "\n",
    "y1 = samples[0,:,10] # samples[:,:,10][0]\n",
    "plots[0].step(time_points, y1, line_width=2, alpha= 0.5, line_join=\"bevel\",color=\"#999999\")\n",
    "\n",
    "y2 = samples[0,:,13]\n",
    "plots[0].step(time_points, y2, line_width=2, alpha= 1, line_join=\"bevel\",color=\"#90bd31\")\n",
    "# Link axes\n",
    "\n",
    "bokeh.io.show(bokeh.layouts.row(plots))\n",
    "\n",
    "plots[0].output_backend = \"svg\"\n",
    "export_svgs(plots,filename=\"fig/SingleTrajectory.svg\")"
   ]
  },
  {
   "cell_type": "code",
   "execution_count": 14,
   "metadata": {
    "executionInfo": {
     "elapsed": 192,
     "status": "ok",
     "timestamp": 1652457375316,
     "user": {
      "displayName": "Christian Cuba",
      "userId": "05812622177105967845"
     },
     "user_tz": 240
    },
    "id": "tb9r7SKRReGC"
   },
   "outputs": [],
   "source": [
    "# Computing the auto-correlation\n",
    "\n",
    "def correlate(x, y, dt):\n",
    "    # Compute correlation with max correlation being unity\n",
    "    corr = np.correlate(x, y, \"full\")\n",
    "    corr /= corr.max()\n",
    "\n",
    "    idx = np.where(corr==1.)[0][0]\n",
    "    corr = corr[idx:]\n",
    "    lags = np.arange(0, len(corr))*dt\n",
    "    return lags, corr\n"
   ]
  },
  {
   "cell_type": "code",
   "execution_count": 44,
   "metadata": {
    "colab": {
     "base_uri": "https://localhost:8080/",
     "height": 447
    },
    "executionInfo": {
     "elapsed": 614,
     "status": "ok",
     "timestamp": 1652380378837,
     "user": {
      "displayName": "Christian Cuba",
      "userId": "05812622177105967845"
     },
     "user_tz": 240
    },
    "id": "20idjf57RimM",
    "outputId": "7743e258-a06b-4309-f7fc-034a9a70698c"
   },
   "outputs": [
    {
     "data": {
      "text/html": [
       "\n",
       "\n",
       "\n",
       "\n",
       "\n",
       "\n",
       "  <div class=\"bk-root\" id=\"4864a7d6-cf0c-4eca-9bf4-af4cd9c10a95\" data-root-id=\"25643\"></div>\n"
      ]
     },
     "metadata": {},
     "output_type": "display_data"
    },
    {
     "data": {
      "application/javascript": [
       "(function(root) {\n",
       "  function embed_document(root) {\n",
       "    \n",
       "  const docs_json = {\"00ce6232-99fe-4fe5-9a74-88d6e0250cf0\":{\"defs\":[],\"roots\":{\"references\":[{\"attributes\":{\"children\":[{\"id\":\"25642\"},{\"id\":\"25640\"}]},\"id\":\"25643\",\"type\":\"Column\"},{\"attributes\":{},\"id\":\"25446\",\"type\":\"WheelZoomTool\"},{\"attributes\":{},\"id\":\"25512\",\"type\":\"HelpTool\"},{\"attributes\":{},\"id\":\"25464\",\"type\":\"LinearScale\"},{\"attributes\":{},\"id\":\"25603\",\"type\":\"BasicTickFormatter\"},{\"attributes\":{},\"id\":\"25462\",\"type\":\"DataRange1d\"},{\"attributes\":{},\"id\":\"25504\",\"type\":\"BasicTicker\"},{\"attributes\":{},\"id\":\"25604\",\"type\":\"AllLabels\"},{\"attributes\":{},\"id\":\"25511\",\"type\":\"ResetTool\"},{\"attributes\":{\"end\":40.0},\"id\":\"25460\",\"type\":\"Range1d\"},{\"attributes\":{},\"id\":\"25606\",\"type\":\"BasicTickFormatter\"},{\"attributes\":{\"tools\":[{\"id\":\"25445\"},{\"id\":\"25446\"},{\"id\":\"25447\"},{\"id\":\"25448\"},{\"id\":\"25449\"},{\"id\":\"25450\"}]},\"id\":\"25452\",\"type\":\"Toolbar\"},{\"attributes\":{},\"id\":\"25636\",\"type\":\"UnionRenderers\"},{\"attributes\":{},\"id\":\"25607\",\"type\":\"AllLabels\"},{\"attributes\":{},\"id\":\"25637\",\"type\":\"Selection\"},{\"attributes\":{\"bottom_units\":\"screen\",\"coordinates\":null,\"fill_alpha\":0.5,\"fill_color\":\"lightgrey\",\"group\":null,\"left_units\":\"screen\",\"level\":\"overlay\",\"line_alpha\":1.0,\"line_color\":\"black\",\"line_dash\":[4,4],\"line_width\":2,\"right_units\":\"screen\",\"syncable\":false,\"top_units\":\"screen\"},\"id\":\"25513\",\"type\":\"BoxAnnotation\"},{\"attributes\":{\"data\":{\"x\":{\"__ndarray__\":\"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\",\"dtype\":\"float64\",\"order\":\"little\",\"shape\":[401]},\"y\":{\"__ndarray__\":\"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\",\"dtype\":\"float64\",\"order\":\"little\",\"shape\":[401]}},\"selected\":{\"id\":\"25609\"},\"selection_policy\":{\"id\":\"25608\"}},\"id\":\"25558\",\"type\":\"ColumnDataSource\"},{\"attributes\":{\"coordinates\":null,\"formatter\":{\"id\":\"25620\"},\"group\":null,\"major_label_policy\":{\"id\":\"25621\"},\"major_label_text_font_size\":\"10pt\",\"ticker\":{\"id\":\"25500\"}},\"id\":\"25499\",\"type\":\"LinearAxis\"},{\"attributes\":{\"axis\":{\"id\":\"25499\"},\"coordinates\":null,\"group\":null,\"ticker\":null},\"id\":\"25502\",\"type\":\"Grid\"},{\"attributes\":{},\"id\":\"25500\",\"type\":\"BasicTicker\"},{\"attributes\":{},\"id\":\"25493\",\"type\":\"DataRange1d\"},{\"attributes\":{},\"id\":\"25608\",\"type\":\"UnionRenderers\"},{\"attributes\":{},\"id\":\"25497\",\"type\":\"LinearScale\"},{\"attributes\":{},\"id\":\"25495\",\"type\":\"LinearScale\"},{\"attributes\":{},\"id\":\"25609\",\"type\":\"Selection\"},{\"attributes\":{\"coordinates\":null,\"group\":null},\"id\":\"25626\",\"type\":\"Title\"},{\"attributes\":{\"line_alpha\":0.2,\"line_color\":\"orange\",\"line_width\":2,\"x\":{\"field\":\"x\"},\"y\":{\"field\":\"y\"}},\"id\":\"25555\",\"type\":\"Step\"},{\"attributes\":{},\"id\":\"25610\",\"type\":\"UnionRenderers\"},{\"attributes\":{},\"id\":\"25611\",\"type\":\"Selection\"},{\"attributes\":{\"bottom_units\":\"screen\",\"coordinates\":null,\"fill_alpha\":0.5,\"fill_color\":\"lightgrey\",\"group\":null,\"left_units\":\"screen\",\"level\":\"overlay\",\"line_alpha\":1.0,\"line_color\":\"black\",\"line_dash\":[4,4],\"line_width\":2,\"right_units\":\"screen\",\"syncable\":false,\"top_units\":\"screen\"},\"id\":\"25482\",\"type\":\"BoxAnnotation\"},{\"attributes\":{},\"id\":\"25510\",\"type\":\"SaveTool\"},{\"attributes\":{\"overlay\":{\"id\":\"25513\"}},\"id\":\"25509\",\"type\":\"BoxZoomTool\"},{\"attributes\":{},\"id\":\"25507\",\"type\":\"PanTool\"},{\"attributes\":{},\"id\":\"25594\",\"type\":\"BasicTickFormatter\"},{\"attributes\":{},\"id\":\"25629\",\"type\":\"BasicTickFormatter\"},{\"attributes\":{\"coordinates\":null,\"formatter\":{\"id\":\"25617\"},\"group\":null,\"major_label_policy\":{\"id\":\"25618\"},\"major_label_text_font_size\":\"10pt\",\"ticker\":{\"id\":\"25504\"}},\"id\":\"25503\",\"type\":\"LinearAxis\"},{\"attributes\":{},\"id\":\"25630\",\"type\":\"AllLabels\"},{\"attributes\":{\"axis\":{\"id\":\"25503\"},\"coordinates\":null,\"dimension\":1,\"group\":null,\"ticker\":null},\"id\":\"25506\",\"type\":\"Grid\"},{\"attributes\":{},\"id\":\"25632\",\"type\":\"BasicTickFormatter\"},{\"attributes\":{},\"id\":\"25508\",\"type\":\"WheelZoomTool\"},{\"attributes\":{},\"id\":\"25633\",\"type\":\"AllLabels\"},{\"attributes\":{\"end\":40.0},\"id\":\"25491\",\"type\":\"Range1d\"},{\"attributes\":{},\"id\":\"25634\",\"type\":\"UnionRenderers\"},{\"attributes\":{},\"id\":\"25635\",\"type\":\"Selection\"},{\"attributes\":{\"tools\":[{\"id\":\"25476\"},{\"id\":\"25477\"},{\"id\":\"25478\"},{\"id\":\"25479\"},{\"id\":\"25480\"},{\"id\":\"25481\"}]},\"id\":\"25483\",\"type\":\"Toolbar\"},{\"attributes\":{\"coordinates\":null,\"data_source\":{\"id\":\"25570\"},\"glyph\":{\"id\":\"25571\"},\"group\":null,\"hover_glyph\":null,\"muted_glyph\":{\"id\":\"25573\"},\"nonselection_glyph\":{\"id\":\"25572\"},\"view\":{\"id\":\"25575\"}},\"id\":\"25574\",\"type\":\"GlyphRenderer\"},{\"attributes\":{},\"id\":\"25595\",\"type\":\"AllLabels\"},{\"attributes\":{\"fill_alpha\":{\"value\":0.1},\"fill_color\":{\"value\":\"red\"},\"hatch_alpha\":{\"value\":0.1},\"hatch_color\":{\"value\":\"red\"},\"line_alpha\":{\"value\":0.1},\"line_color\":{\"value\":\"red\"},\"line_width\":{\"value\":2},\"x\":{\"field\":\"x\"},\"y\":{\"field\":\"y\"}},\"id\":\"25566\",\"type\":\"Circle\"},{\"attributes\":{\"coordinates\":null,\"data_source\":{\"id\":\"25564\"},\"glyph\":{\"id\":\"25565\"},\"group\":null,\"hover_glyph\":null,\"muted_glyph\":{\"id\":\"25567\"},\"nonselection_glyph\":{\"id\":\"25566\"},\"view\":{\"id\":\"25569\"}},\"id\":\"25568\",\"type\":\"GlyphRenderer\"},{\"attributes\":{\"line_alpha\":0.1,\"line_color\":\"orange\",\"line_width\":2,\"x\":{\"field\":\"x\"},\"y\":{\"field\":\"y\"}},\"id\":\"25554\",\"type\":\"Step\"},{\"attributes\":{\"source\":{\"id\":\"25570\"}},\"id\":\"25575\",\"type\":\"CDSView\"},{\"attributes\":{\"line_width\":2,\"x\":{\"field\":\"x\"},\"y\":{\"field\":\"y\"}},\"id\":\"25577\",\"type\":\"Line\"},{\"attributes\":{\"data\":{\"x\":{\"__ndarray__\":\"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\",\"dtype\":\"float64\",\"order\":\"little\",\"shape\":[401]},\"y\":{\"__ndarray__\":\"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\",\"dtype\":\"float64\",\"order\":\"little\",\"shape\":[401]}},\"selected\":{\"id\":\"25635\"},\"selection_policy\":{\"id\":\"25634\"}},\"id\":\"25576\",\"type\":\"ColumnDataSource\"},{\"attributes\":{},\"id\":\"25596\",\"type\":\"UnionRenderers\"},{\"attributes\":{\"coordinates\":null,\"data_source\":{\"id\":\"25576\"},\"glyph\":{\"id\":\"25577\"},\"group\":null,\"hover_glyph\":null,\"muted_glyph\":{\"id\":\"25579\"},\"nonselection_glyph\":{\"id\":\"25578\"},\"view\":{\"id\":\"25581\"}},\"id\":\"25580\",\"type\":\"GlyphRenderer\"},{\"attributes\":{\"end\":40.0},\"id\":\"25429\",\"type\":\"Range1d\"},{\"attributes\":{\"coordinates\":null,\"data_source\":{\"id\":\"25552\"},\"glyph\":{\"id\":\"25553\"},\"group\":null,\"hover_glyph\":null,\"muted_glyph\":{\"id\":\"25555\"},\"nonselection_glyph\":{\"id\":\"25554\"},\"view\":{\"id\":\"25557\"}},\"id\":\"25556\",\"type\":\"GlyphRenderer\"},{\"attributes\":{\"source\":{\"id\":\"25564\"}},\"id\":\"25569\",\"type\":\"CDSView\"},{\"attributes\":{},\"id\":\"25597\",\"type\":\"Selection\"},{\"attributes\":{\"below\":[{\"id\":\"25437\"}],\"center\":[{\"id\":\"25440\"},{\"id\":\"25444\"}],\"height\":200,\"left\":[{\"id\":\"25441\"}],\"renderers\":[{\"id\":\"25556\"}],\"title\":{\"id\":\"25588\"},\"toolbar\":{\"id\":\"25452\"},\"toolbar_location\":null,\"width\":300,\"x_range\":{\"id\":\"25429\"},\"x_scale\":{\"id\":\"25433\"},\"y_range\":{\"id\":\"25431\"},\"y_scale\":{\"id\":\"25435\"}},\"id\":\"25428\",\"subtype\":\"Figure\",\"type\":\"Plot\"},{\"attributes\":{\"fill_color\":{\"value\":\"red\"},\"hatch_color\":{\"value\":\"red\"},\"line_color\":{\"value\":\"red\"},\"line_width\":{\"value\":2},\"x\":{\"field\":\"x\"},\"y\":{\"field\":\"y\"}},\"id\":\"25583\",\"type\":\"Circle\"},{\"attributes\":{\"data\":{\"x\":{\"__ndarray__\":\"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\",\"dtype\":\"float64\",\"order\":\"little\",\"shape\":[401]},\"y\":[0,0,2,1,0,0,3,3,3,2,6,8,9,12,13,16,15,18,27,31,34,32,28,27,32,26,25,28,26,25,22,19,16,12,14,17,15,17,17,19,19,20,18,16,15,13,16,15,11,15,14,13,22,22,16,13,12,13,13,10,12,9,8,5,5,3,1,1,2,6,11,13,14,13,14,15,21,19,21,19,21,20,16,18,16,12,16,18,27,33,33,44,48,48,54,65,59,61,60,56,49,39,41,40,41,43,46,44,50,50,52,47,51,55,60,54,55,50,46,42,38,36,33,31,28,26,25,21,21,19,17,16,14,10,7,7,8,5,12,14,13,11,9,9,5,4,4,4,4,4,1,0,2,5,5,3,3,3,3,7,6,13,15,27,37,42,38,41,34,33,29,30,32,28,31,33,30,26,24,25,19,24,25,23,31,31,28,28,26,23,24,20,16,12,14,14,10,8,10,6,9,14,19,14,13,15,17,22,27,20,22,26,25,27,22,22,18,19,13,14,9,9,8,9,9,11,13,17,14,22,24,31,30,41,55,52,51,44,40,32,29,26,25,21,18,18,19,17,24,23,31,35,37,37,38,47,42,46,49,51,49,51,54,52,46,49,45,52,43,38,35,33,26,25,27,29,25,28,36,40,47,52,45,39,33,26,22,21,17,16,16,17,20,25,20,22,23,22,29,35,35,32,28,24,22,20,17,16,13,14,12,9,9,10,8,5,10,12,14,19,16,16,17,20,24,31,28,25,29,30,23,25,24,26,29,33,38,34,42,42,37,33,33,31,31,26,23,20,17,18,17,15,17,19,21,17,14,9,6,9,8,6,7,15,19,22,20,16,15,17,21,19,16,18,19,20,19,20,20,20,23,28,34,43,41,41,35,30,28,33,34,40,34,31,23,21,21,20,14,17,13]},\"selected\":{\"id\":\"25597\"},\"selection_policy\":{\"id\":\"25596\"}},\"id\":\"25552\",\"type\":\"ColumnDataSource\"},{\"attributes\":{\"line_alpha\":0.2,\"line_color\":\"orange\",\"line_width\":2,\"x\":{\"field\":\"x\"},\"y\":{\"field\":\"y\"}},\"id\":\"25573\",\"type\":\"Step\"},{\"attributes\":{\"coordinates\":null,\"group\":null},\"id\":\"25614\",\"type\":\"Title\"},{\"attributes\":{\"line_alpha\":0.1,\"line_color\":\"orange\",\"line_width\":2,\"x\":{\"field\":\"x\"},\"y\":{\"field\":\"y\"}},\"id\":\"25572\",\"type\":\"Step\"},{\"attributes\":{\"fill_alpha\":{\"value\":0.2},\"fill_color\":{\"value\":\"red\"},\"hatch_alpha\":{\"value\":0.2},\"hatch_color\":{\"value\":\"red\"},\"line_alpha\":{\"value\":0.2},\"line_color\":{\"value\":\"red\"},\"line_width\":{\"value\":2},\"x\":{\"field\":\"x\"},\"y\":{\"field\":\"y\"}},\"id\":\"25585\",\"type\":\"Circle\"},{\"attributes\":{\"data\":{\"x\":{\"__ndarray__\":\"zczMzMzMEkBnZmZmZmYaQJqZmZmZmSZAAAAAAAAAMEDNzMzMzEwyQAAAAAAAgDRAzczMzMzMNkAAAAAAAAA5QGdmZmZmZj1AzczMzMwMQEA=\",\"dtype\":\"float64\",\"order\":\"little\",\"shape\":[10]},\"y\":{\"__ndarray__\":\"9AERwZyPPr82S4c9egjTP7OUihQNxru/hOqI58E8xz84Nfgi/5a1P1EFnmZn1aS/vbT4dqJOyz9dRn8Kpl3HPwcX7LsuE52/ZZxxxs5ckr8=\",\"dtype\":\"float64\",\"order\":\"little\",\"shape\":[10]}},\"selected\":{\"id\":\"25637\"},\"selection_policy\":{\"id\":\"25636\"}},\"id\":\"25582\",\"type\":\"ColumnDataSource\"},{\"attributes\":{\"toolbars\":[{\"id\":\"25452\"},{\"id\":\"25483\"},{\"id\":\"25514\"},{\"id\":\"25545\"}],\"tools\":[{\"id\":\"25445\"},{\"id\":\"25446\"},{\"id\":\"25447\"},{\"id\":\"25448\"},{\"id\":\"25449\"},{\"id\":\"25450\"},{\"id\":\"25476\"},{\"id\":\"25477\"},{\"id\":\"25478\"},{\"id\":\"25479\"},{\"id\":\"25480\"},{\"id\":\"25481\"},{\"id\":\"25507\"},{\"id\":\"25508\"},{\"id\":\"25509\"},{\"id\":\"25510\"},{\"id\":\"25511\"},{\"id\":\"25512\"},{\"id\":\"25538\"},{\"id\":\"25539\"},{\"id\":\"25540\"},{\"id\":\"25541\"},{\"id\":\"25542\"},{\"id\":\"25543\"}]},\"id\":\"25641\",\"type\":\"ProxyToolbar\"},{\"attributes\":{\"source\":{\"id\":\"25558\"}},\"id\":\"25563\",\"type\":\"CDSView\"},{\"attributes\":{\"line_alpha\":0.2,\"line_width\":2,\"x\":{\"field\":\"x\"},\"y\":{\"field\":\"y\"}},\"id\":\"25579\",\"type\":\"Line\"},{\"attributes\":{\"line_alpha\":0.1,\"line_width\":2,\"x\":{\"field\":\"x\"},\"y\":{\"field\":\"y\"}},\"id\":\"25578\",\"type\":\"Line\"},{\"attributes\":{\"source\":{\"id\":\"25576\"}},\"id\":\"25581\",\"type\":\"CDSView\"},{\"attributes\":{\"coordinates\":null,\"data_source\":{\"id\":\"25582\"},\"glyph\":{\"id\":\"25583\"},\"group\":null,\"hover_glyph\":null,\"muted_glyph\":{\"id\":\"25585\"},\"nonselection_glyph\":{\"id\":\"25584\"},\"view\":{\"id\":\"25587\"}},\"id\":\"25586\",\"type\":\"GlyphRenderer\"},{\"attributes\":{\"bottom_units\":\"screen\",\"coordinates\":null,\"fill_alpha\":0.5,\"fill_color\":\"lightgrey\",\"group\":null,\"left_units\":\"screen\",\"level\":\"overlay\",\"line_alpha\":1.0,\"line_color\":\"black\",\"line_dash\":[4,4],\"line_width\":2,\"right_units\":\"screen\",\"syncable\":false,\"top_units\":\"screen\"},\"id\":\"25544\",\"type\":\"BoxAnnotation\"},{\"attributes\":{\"children\":[[{\"id\":\"25428\"},0,0],[{\"id\":\"25459\"},0,1],[{\"id\":\"25490\"},1,0],[{\"id\":\"25521\"},1,1]]},\"id\":\"25640\",\"type\":\"GridBox\"},{\"attributes\":{\"line_alpha\":0.2,\"line_width\":2,\"x\":{\"field\":\"x\"},\"y\":{\"field\":\"y\"}},\"id\":\"25561\",\"type\":\"Line\"},{\"attributes\":{\"coordinates\":null,\"formatter\":{\"id\":\"25632\"},\"group\":null,\"major_label_policy\":{\"id\":\"25633\"},\"major_label_text_font_size\":\"10pt\",\"ticker\":{\"id\":\"25531\"}},\"id\":\"25530\",\"type\":\"LinearAxis\"},{\"attributes\":{\"toolbar\":{\"id\":\"25641\"},\"toolbar_location\":\"above\"},\"id\":\"25642\",\"type\":\"ToolbarBox\"},{\"attributes\":{\"data\":{\"x\":{\"__ndarray__\":\"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\",\"dtype\":\"float64\",\"order\":\"little\",\"shape\":[401]},\"y\":[0,0,0,0,0,0,0,0,0,0,0,0,0,0,0,0,0,0,0,0,0,0,0,0,0,0,0,0,0,0,0,0,0,0,0,0,0,0,0,0,0,0,0,0,0,0,0,0,0,0,0,0,0,0,7,21,34,48,58,60,53,53,48,46,46,39,36,31,28,26,20,18,15,13,12,9,8,7,6,5,4,4,4,4,3,3,2,0,0,0,0,0,0,0,0,0,0,0,0,0,0,0,0,0,0,0,0,0,0,0,0,0,0,0,0,0,0,0,14,31,42,41,51,61,84,113,118,120,126,120,103,93,85,74,70,62,56,53,46,46,49,63,65,74,81,92,87,65,57,46,39,35,32,26,20,18,13,11,8,6,3,2,1,1,1,1,1,1,1,1,1,0,0,0,0,0,0,0,0,0,0,0,0,0,0,1,3,16,42,56,76,74,80,80,71,75,65,53,44,34,29,26,19,17,14,11,9,8,8,6,6,5,4,3,2,2,2,2,1,0,0,0,0,0,0,0,0,0,0,0,0,0,0,0,0,1,4,11,15,23,29,37,42,30,28,20,19,19,17,14,13,11,6,6,5,4,4,4,3,1,1,0,0,0,0,0,0,0,0,0,0,0,0,0,0,0,0,0,0,2,1,9,21,50,68,71,70,73,69,63,59,44,38,31,25,15,14,10,9,8,9,11,15,33,39,38,37,41,54,54,56,55,71,70,74,65,57,47,39,30,24,20,17,17,12,11,9,6,5,3,3,1,1,1,1,1,1,1,1,1,1,1,1,0,2,5,13,32,54,57,61,58,51,56,58,58,54,61,61,53,65,61,62,58,58,56,53,51,45,34,37,41,39,40,47,45,44,51,55,59,57,47,46,50,43,48,43,41,39,40,46,40,46,58,69,88,86,68,59,54,49]},\"selected\":{\"id\":\"25623\"},\"selection_policy\":{\"id\":\"25622\"}},\"id\":\"25570\",\"type\":\"ColumnDataSource\"},{\"attributes\":{\"line_color\":\"orange\",\"line_width\":2,\"x\":{\"field\":\"x\"},\"y\":{\"field\":\"y\"}},\"id\":\"25571\",\"type\":\"Step\"},{\"attributes\":{\"coordinates\":null,\"data_source\":{\"id\":\"25558\"},\"glyph\":{\"id\":\"25559\"},\"group\":null,\"hover_glyph\":null,\"muted_glyph\":{\"id\":\"25561\"},\"nonselection_glyph\":{\"id\":\"25560\"},\"view\":{\"id\":\"25563\"}},\"id\":\"25562\",\"type\":\"GlyphRenderer\"},{\"attributes\":{},\"id\":\"25526\",\"type\":\"LinearScale\"},{\"attributes\":{},\"id\":\"25469\",\"type\":\"BasicTicker\"},{\"attributes\":{},\"id\":\"25617\",\"type\":\"BasicTickFormatter\"},{\"attributes\":{\"data\":{\"x\":{\"__ndarray__\":\"NDMzMzMzE0AAAAAAAAAcQAAAAAAAACFAAAAAAAAAL0DNzMzMzMw1QAAAAAAAADZAAAAAAAAAOEDNzMzMzMw8QJqZmZmZGT9AAAAAAACAQEDNzMzMzMxBQM3MzMzMDEJAAAAAAADAQ0A=\",\"dtype\":\"float64\",\"order\":\"little\",\"shape\":[13]},\"y\":{\"__ndarray__\":\"nAi13LWJxr8wLMAFki3EP/4W060PUpW/N3C0Tbgl0j/qHFAJ7nNQP4Nj4H7GoFs/8RUnOhFMaz8dPwmppo6sPwabVey1cqw/l2ypAktQo78SDnD9bVejP4KLea5HXaI/ojfA0uIHhT8=\",\"dtype\":\"float64\",\"order\":\"little\",\"shape\":[13]}},\"selected\":{\"id\":\"25611\"},\"selection_policy\":{\"id\":\"25610\"}},\"id\":\"25564\",\"type\":\"ColumnDataSource\"},{\"attributes\":{\"fill_alpha\":{\"value\":0.1},\"fill_color\":{\"value\":\"red\"},\"hatch_alpha\":{\"value\":0.1},\"hatch_color\":{\"value\":\"red\"},\"line_alpha\":{\"value\":0.1},\"line_color\":{\"value\":\"red\"},\"line_width\":{\"value\":2},\"x\":{\"field\":\"x\"},\"y\":{\"field\":\"y\"}},\"id\":\"25584\",\"type\":\"Circle\"},{\"attributes\":{},\"id\":\"25541\",\"type\":\"SaveTool\"},{\"attributes\":{},\"id\":\"25618\",\"type\":\"AllLabels\"},{\"attributes\":{\"source\":{\"id\":\"25582\"}},\"id\":\"25587\",\"type\":\"CDSView\"},{\"attributes\":{},\"id\":\"25479\",\"type\":\"SaveTool\"},{\"attributes\":{\"tools\":[{\"id\":\"25538\"},{\"id\":\"25539\"},{\"id\":\"25540\"},{\"id\":\"25541\"},{\"id\":\"25542\"},{\"id\":\"25543\"}]},\"id\":\"25545\",\"type\":\"Toolbar\"},{\"attributes\":{},\"id\":\"25477\",\"type\":\"WheelZoomTool\"},{\"attributes\":{},\"id\":\"25481\",\"type\":\"HelpTool\"},{\"attributes\":{\"below\":[{\"id\":\"25530\"}],\"center\":[{\"id\":\"25533\"},{\"id\":\"25537\"}],\"height\":200,\"left\":[{\"id\":\"25534\"}],\"renderers\":[{\"id\":\"25580\"},{\"id\":\"25586\"}],\"title\":{\"id\":\"25626\"},\"toolbar\":{\"id\":\"25545\"},\"toolbar_location\":null,\"width\":300,\"x_range\":{\"id\":\"25522\"},\"x_scale\":{\"id\":\"25526\"},\"y_range\":{\"id\":\"25524\"},\"y_scale\":{\"id\":\"25528\"}},\"id\":\"25521\",\"subtype\":\"Figure\",\"type\":\"Plot\"},{\"attributes\":{\"coordinates\":null,\"group\":null},\"id\":\"25588\",\"type\":\"Title\"},{\"attributes\":{\"coordinates\":null,\"formatter\":{\"id\":\"25629\"},\"group\":null,\"major_label_policy\":{\"id\":\"25630\"},\"major_label_text_font_size\":\"10pt\",\"ticker\":{\"id\":\"25535\"}},\"id\":\"25534\",\"type\":\"LinearAxis\"},{\"attributes\":{},\"id\":\"25620\",\"type\":\"BasicTickFormatter\"},{\"attributes\":{\"bottom_units\":\"screen\",\"coordinates\":null,\"fill_alpha\":0.5,\"fill_color\":\"lightgrey\",\"group\":null,\"left_units\":\"screen\",\"level\":\"overlay\",\"line_alpha\":1.0,\"line_color\":\"black\",\"line_dash\":[4,4],\"line_width\":2,\"right_units\":\"screen\",\"syncable\":false,\"top_units\":\"screen\"},\"id\":\"25451\",\"type\":\"BoxAnnotation\"},{\"attributes\":{},\"id\":\"25621\",\"type\":\"AllLabels\"},{\"attributes\":{\"line_color\":\"orange\",\"line_width\":2,\"x\":{\"field\":\"x\"},\"y\":{\"field\":\"y\"}},\"id\":\"25553\",\"type\":\"Step\"},{\"attributes\":{},\"id\":\"25543\",\"type\":\"HelpTool\"},{\"attributes\":{},\"id\":\"25449\",\"type\":\"ResetTool\"},{\"attributes\":{},\"id\":\"25448\",\"type\":\"SaveTool\"},{\"attributes\":{},\"id\":\"25524\",\"type\":\"DataRange1d\"},{\"attributes\":{\"overlay\":{\"id\":\"25451\"}},\"id\":\"25447\",\"type\":\"BoxZoomTool\"},{\"attributes\":{},\"id\":\"25591\",\"type\":\"BasicTickFormatter\"},{\"attributes\":{},\"id\":\"25445\",\"type\":\"PanTool\"},{\"attributes\":{\"coordinates\":null,\"group\":null},\"id\":\"25600\",\"type\":\"Title\"},{\"attributes\":{\"line_alpha\":0.1,\"line_width\":2,\"x\":{\"field\":\"x\"},\"y\":{\"field\":\"y\"}},\"id\":\"25560\",\"type\":\"Line\"},{\"attributes\":{},\"id\":\"25622\",\"type\":\"UnionRenderers\"},{\"attributes\":{},\"id\":\"25531\",\"type\":\"BasicTicker\"},{\"attributes\":{},\"id\":\"25535\",\"type\":\"BasicTicker\"},{\"attributes\":{\"source\":{\"id\":\"25552\"}},\"id\":\"25557\",\"type\":\"CDSView\"},{\"attributes\":{},\"id\":\"25623\",\"type\":\"Selection\"},{\"attributes\":{},\"id\":\"25450\",\"type\":\"HelpTool\"},{\"attributes\":{\"axis\":{\"id\":\"25534\"},\"coordinates\":null,\"dimension\":1,\"group\":null,\"ticker\":null},\"id\":\"25537\",\"type\":\"Grid\"},{\"attributes\":{\"end\":40.0},\"id\":\"25522\",\"type\":\"Range1d\"},{\"attributes\":{\"tools\":[{\"id\":\"25507\"},{\"id\":\"25508\"},{\"id\":\"25509\"},{\"id\":\"25510\"},{\"id\":\"25511\"},{\"id\":\"25512\"}]},\"id\":\"25514\",\"type\":\"Toolbar\"},{\"attributes\":{},\"id\":\"25435\",\"type\":\"LinearScale\"},{\"attributes\":{\"overlay\":{\"id\":\"25544\"}},\"id\":\"25540\",\"type\":\"BoxZoomTool\"},{\"attributes\":{\"axis\":{\"id\":\"25472\"},\"coordinates\":null,\"dimension\":1,\"group\":null,\"ticker\":null},\"id\":\"25475\",\"type\":\"Grid\"},{\"attributes\":{\"fill_color\":{\"value\":\"red\"},\"hatch_color\":{\"value\":\"red\"},\"line_color\":{\"value\":\"red\"},\"line_width\":{\"value\":2},\"x\":{\"field\":\"x\"},\"y\":{\"field\":\"y\"}},\"id\":\"25565\",\"type\":\"Circle\"},{\"attributes\":{},\"id\":\"25431\",\"type\":\"DataRange1d\"},{\"attributes\":{\"fill_alpha\":{\"value\":0.2},\"fill_color\":{\"value\":\"red\"},\"hatch_alpha\":{\"value\":0.2},\"hatch_color\":{\"value\":\"red\"},\"line_alpha\":{\"value\":0.2},\"line_color\":{\"value\":\"red\"},\"line_width\":{\"value\":2},\"x\":{\"field\":\"x\"},\"y\":{\"field\":\"y\"}},\"id\":\"25567\",\"type\":\"Circle\"},{\"attributes\":{},\"id\":\"25538\",\"type\":\"PanTool\"},{\"attributes\":{\"coordinates\":null,\"formatter\":{\"id\":\"25591\"},\"group\":null,\"major_label_policy\":{\"id\":\"25592\"},\"major_label_text_font_size\":\"10pt\",\"ticker\":{\"id\":\"25442\"}},\"id\":\"25441\",\"type\":\"LinearAxis\"},{\"attributes\":{\"coordinates\":null,\"formatter\":{\"id\":\"25603\"},\"group\":null,\"major_label_policy\":{\"id\":\"25604\"},\"major_label_text_font_size\":\"10pt\",\"ticker\":{\"id\":\"25473\"}},\"id\":\"25472\",\"type\":\"LinearAxis\"},{\"attributes\":{},\"id\":\"25539\",\"type\":\"WheelZoomTool\"},{\"attributes\":{},\"id\":\"25433\",\"type\":\"LinearScale\"},{\"attributes\":{\"overlay\":{\"id\":\"25482\"}},\"id\":\"25478\",\"type\":\"BoxZoomTool\"},{\"attributes\":{\"coordinates\":null,\"formatter\":{\"id\":\"25594\"},\"group\":null,\"major_label_policy\":{\"id\":\"25595\"},\"major_label_text_font_size\":\"10pt\",\"ticker\":{\"id\":\"25438\"}},\"id\":\"25437\",\"type\":\"LinearAxis\"},{\"attributes\":{},\"id\":\"25438\",\"type\":\"BasicTicker\"},{\"attributes\":{},\"id\":\"25473\",\"type\":\"BasicTicker\"},{\"attributes\":{\"below\":[{\"id\":\"25499\"}],\"center\":[{\"id\":\"25502\"},{\"id\":\"25506\"}],\"height\":200,\"left\":[{\"id\":\"25503\"}],\"renderers\":[{\"id\":\"25574\"}],\"title\":{\"id\":\"25614\"},\"toolbar\":{\"id\":\"25514\"},\"toolbar_location\":null,\"width\":300,\"x_range\":{\"id\":\"25491\"},\"x_scale\":{\"id\":\"25495\"},\"y_range\":{\"id\":\"25493\"},\"y_scale\":{\"id\":\"25497\"}},\"id\":\"25490\",\"subtype\":\"Figure\",\"type\":\"Plot\"},{\"attributes\":{\"axis\":{\"id\":\"25437\"},\"coordinates\":null,\"group\":null,\"ticker\":null},\"id\":\"25440\",\"type\":\"Grid\"},{\"attributes\":{},\"id\":\"25528\",\"type\":\"LinearScale\"},{\"attributes\":{},\"id\":\"25466\",\"type\":\"LinearScale\"},{\"attributes\":{\"coordinates\":null,\"formatter\":{\"id\":\"25606\"},\"group\":null,\"major_label_policy\":{\"id\":\"25607\"},\"major_label_text_font_size\":\"10pt\",\"ticker\":{\"id\":\"25469\"}},\"id\":\"25468\",\"type\":\"LinearAxis\"},{\"attributes\":{},\"id\":\"25476\",\"type\":\"PanTool\"},{\"attributes\":{},\"id\":\"25542\",\"type\":\"ResetTool\"},{\"attributes\":{},\"id\":\"25592\",\"type\":\"AllLabels\"},{\"attributes\":{},\"id\":\"25480\",\"type\":\"ResetTool\"},{\"attributes\":{\"axis\":{\"id\":\"25441\"},\"coordinates\":null,\"dimension\":1,\"group\":null,\"ticker\":null},\"id\":\"25444\",\"type\":\"Grid\"},{\"attributes\":{\"line_width\":2,\"x\":{\"field\":\"x\"},\"y\":{\"field\":\"y\"}},\"id\":\"25559\",\"type\":\"Line\"},{\"attributes\":{},\"id\":\"25442\",\"type\":\"BasicTicker\"},{\"attributes\":{\"below\":[{\"id\":\"25468\"}],\"center\":[{\"id\":\"25471\"},{\"id\":\"25475\"}],\"height\":200,\"left\":[{\"id\":\"25472\"}],\"renderers\":[{\"id\":\"25562\"},{\"id\":\"25568\"}],\"title\":{\"id\":\"25600\"},\"toolbar\":{\"id\":\"25483\"},\"toolbar_location\":null,\"width\":300,\"x_range\":{\"id\":\"25460\"},\"x_scale\":{\"id\":\"25464\"},\"y_range\":{\"id\":\"25462\"},\"y_scale\":{\"id\":\"25466\"}},\"id\":\"25459\",\"subtype\":\"Figure\",\"type\":\"Plot\"},{\"attributes\":{\"axis\":{\"id\":\"25468\"},\"coordinates\":null,\"group\":null,\"ticker\":null},\"id\":\"25471\",\"type\":\"Grid\"},{\"attributes\":{\"axis\":{\"id\":\"25530\"},\"coordinates\":null,\"group\":null,\"ticker\":null},\"id\":\"25533\",\"type\":\"Grid\"}],\"root_ids\":[\"25643\"]},\"title\":\"Bokeh Application\",\"version\":\"2.4.1\"}};\n",
       "  const render_items = [{\"docid\":\"00ce6232-99fe-4fe5-9a74-88d6e0250cf0\",\"root_ids\":[\"25643\"],\"roots\":{\"25643\":\"4864a7d6-cf0c-4eca-9bf4-af4cd9c10a95\"}}];\n",
       "  root.Bokeh.embed.embed_items_notebook(docs_json, render_items);\n",
       "\n",
       "  }\n",
       "  if (root.Bokeh !== undefined) {\n",
       "    embed_document(root);\n",
       "  } else {\n",
       "    let attempts = 0;\n",
       "    const timer = setInterval(function(root) {\n",
       "      if (root.Bokeh !== undefined) {\n",
       "        clearInterval(timer);\n",
       "        embed_document(root);\n",
       "      } else {\n",
       "        attempts++;\n",
       "        if (attempts > 100) {\n",
       "          clearInterval(timer);\n",
       "          console.log(\"Bokeh: ERROR: Unable to run BokehJS code because BokehJS library is missing\");\n",
       "        }\n",
       "      }\n",
       "    }, 10, root)\n",
       "  }\n",
       "})(window);"
      ],
      "application/vnd.bokehjs_exec.v0+json": ""
     },
     "metadata": {
      "application/vnd.bokehjs_exec.v0+json": {
       "id": "25643"
      }
     },
     "output_type": "display_data"
    }
   ],
   "source": [
    "fig_size = [300, 200] # for paper size (144, 110) # for larger size (144,144)\n",
    "x_range = (0, time_points[-1])\n",
    "y_range = (0, 200)\n",
    "\n",
    "plots = []\n",
    "for i in range(4):\n",
    "    plots.append(bokeh.plotting.figure(plot_width=fig_size[0], plot_height=fig_size[1],\n",
    "                          x_range=x_range, \n",
    "                          #y_range=y_range\n",
    "                          ),)\n",
    "    plots[i].axis.major_label_text_font_size = \"10pt\"\n",
    "\n",
    "dt = time_points[1] - time_points[0]\n",
    "y1 = samples[0,:,10] # samples[:,:,10][0]\n",
    "y1s = y1 - y1.mean()\n",
    "lags, auto_corr = correlate(y1s, y1s, dt)\n",
    "max_id = argrelextrema(auto_corr, np.greater)\n",
    "\n",
    "plots[0].step(time_points, y1, line_width=2, alpha= 1, line_join=\"bevel\",color=\"orange\")\n",
    "#plots[0].line(lags, auto_corr*130, line_width=2, alpha= 1, line_join=\"bevel\",color=\"black\")\n",
    "\n",
    "plots[1].line(lags, auto_corr, line_width=2, alpha= 1, line_join=\"bevel\",color=\"black\")\n",
    "plots[1].circle(lags[max_id], auto_corr[max_id], line_width=2, alpha= 1, line_join=\"bevel\",color=\"red\")\n",
    "\n",
    "\n",
    "y1 = samples[0,:,13] # samples[:,:,10][0]\n",
    "y1s = y1 - y1.mean()\n",
    "lags, auto_corr = correlate(y1s, y1s, dt)\n",
    "max_id = argrelextrema(auto_corr, np.greater)\n",
    "\n",
    "plots[2].step(time_points, y1, line_width=2, alpha= 1, line_join=\"bevel\",color=\"orange\")\n",
    "#plots[2].line(lags, auto_corr*130, line_width=2, alpha= 1, line_join=\"bevel\",color=\"black\")\n",
    "\n",
    "plots[3].line(lags, auto_corr, line_width=2, alpha= 1, line_join=\"bevel\",color=\"black\")\n",
    "plots[3].circle(lags[max_id], auto_corr[max_id], line_width=2, alpha= 1, line_join=\"bevel\",color=\"red\")\n",
    "\n",
    "bokeh.io.show(bokeh.layouts.gridplot(plots, ncols=2))"
   ]
  },
  {
   "cell_type": "code",
   "execution_count": null,
   "metadata": {
    "id": "NAhPFtfDxnub"
   },
   "outputs": [],
   "source": [
    "def FFT(t1,x1,fr):\n",
    "  n = len(x1)\n",
    "  if n % 2:\n",
    "    x = x1[:-2]\n",
    "    t = t1[:-2]\n",
    "    n = len(x)\n",
    "  else:\n",
    "    x = x1[:-1]\n",
    "    t = t1[:-1]\n",
    "\n",
    "  dt = (t[1]-t[0])\n",
    "  tf = scipy.fftpack.fftfreq(x.size, d=dt)\n",
    "  xf = scipy.fftpack.fft(x)\n",
    "  xf = np.abs(xf)**2\n",
    "  idx = np.where((tf >= fr[0]) & (tf <=fr[1]))\n",
    "  return tf[idx],xf[idx]"
   ]
  },
  {
   "cell_type": "code",
   "execution_count": null,
   "metadata": {
    "colab": {
     "base_uri": "https://localhost:8080/",
     "height": 217
    },
    "executionInfo": {
     "elapsed": 155,
     "status": "ok",
     "timestamp": 1652092237592,
     "user": {
      "displayName": "Christian Cuba",
      "userId": "05812622177105967845"
     },
     "user_tz": 240
    },
    "id": "M4i1Gj3VqgeE",
    "outputId": "8a727a4c-db25-4b85-c26f-961f1896e178"
   },
   "outputs": [
    {
     "data": {
      "text/html": [
       "\n",
       "\n",
       "\n",
       "\n",
       "\n",
       "\n",
       "  <div class=\"bk-root\" id=\"a21bc5e4-60de-404c-8910-9743c3ed3479\" data-root-id=\"2811\"></div>\n"
      ]
     },
     "metadata": {},
     "output_type": "display_data"
    },
    {
     "data": {
      "application/javascript": [
       "(function(root) {\n",
       "  function embed_document(root) {\n",
       "    \n",
       "  const docs_json = {\"5fd3b996-78b5-42c9-b5b9-6ed800a0a08f\":{\"defs\":[],\"roots\":{\"references\":[{\"attributes\":{\"children\":[{\"id\":\"2725\"},{\"id\":\"2756\"}]},\"id\":\"2811\",\"type\":\"Row\"},{\"attributes\":{\"line_alpha\":0.2,\"line_width\":2,\"x\":{\"field\":\"x\"},\"y\":{\"field\":\"y\"}},\"id\":\"2802\",\"type\":\"Line\"},{\"attributes\":{\"line_alpha\":0.2,\"line_width\":2,\"x\":{\"field\":\"x\"},\"y\":{\"field\":\"y\"}},\"id\":\"2808\",\"type\":\"Line\"},{\"attributes\":{\"line_alpha\":0.2,\"line_color\":\"orange\",\"line_width\":2,\"x\":{\"field\":\"x\"},\"y\":{\"field\":\"y\"}},\"id\":\"2796\",\"type\":\"Line\"},{\"attributes\":{\"data\":{\"x\":{\"__ndarray__\":\"AAAAAAAAAACfmoFqBqqZP5+agWoGqqk/9zPhz4Q/sz+fmoFqBqq5P6MAkQJECsA/9zPhz4Q/wz9LZzGdxXTGP5+agWoGqsk/883RN0ffzD+jAJECRArQP00aOWnkpNE/9zPhz4Q/0z+hTYk2JdrUP0tnMZ3FdNY/9YDZA2YP2D+fmoFqBqrZP0m0KdGmRNs/883RN0ff3D+d53me53neP6MAkQJECuA/eA3lNZTX4D9NGjlp5KThPyInjZw0cuI/9zPhz4Q/4z/MQDUD1QzkP6FNiTYl2uQ/dlrdaXWn5T9LZzGdxXTmPyB0hdAVQuc/9YDZA2YP6D/KjS03ttzoP5+agWoGquk/dKfVnVZ36j9JtCnRpkTrPx7BfQT3Eew/883RN0ff7D/I2iVrl6ztP53neZ7nee4/cvTN0TdH7z+jAJECRArwPw4HOxzscPA/eA3lNZTX8D/jE49PPD7xP00aOWnkpPE/uCDjgowL8j8iJ42cNHLyP40tN7bc2PI/9zPhz4Q/8z9iOovpLKbzP8xANQPVDPQ/N0ffHH1z9D+hTYk2Jdr0PwxUM1DNQPU/dlrdaXWn9T/hYIeDHQ72P0tnMZ3FdPY/tm3btm3b9j8gdIXQFUL3P4t6L+q9qPc/9YDZA2YP+D9gh4MdDnb4P8qNLTe23Pg/NZTXUF5D+T+fmoFqBqr5PwmhK4SuEPo/dKfVnVZ3+j/erX+3/t36P0m0KdGmRPs/s7rT6k6r+z8ewX0E9xH8P4jHJx6fePw/883RN0ff/D9d1HtR70X9P8jaJWuXrP0/MuHPhD8T/j+d53me53n+PwfuI7iP4P4/cvTN0TdH/z/c+nfr363/Pw==\",\"dtype\":\"float64\",\"order\":\"little\",\"shape\":[80]},\"y\":{\"__ndarray__\":\"kXq/7Tkf0D8KJfTb5bhvQDfodqgzxztAFrpuLWn9QkAKRzWkl6dwQPsEvdU+xDlAjUvQLjxULEDcWLunUIFAQG498T3gfjBARBfBKV5iZ0Ad0m6AbSo5QB2tUARawGJAhiP1R6F2S0BqtUSptn1gQJRLFzEQ60ZAR8OTodIUOEDnFq+HX0AvQCXpozxeiiJA1BBfSRN0R0AGEsk0t1c2QPmEEw/KGDJA5FdwaRyLKkBnKaS9t5wlQMP1jro9HCBAfC8kNleuIEAR2SsmltcVQINupU3hMhtA0/Y2GdoFHECno3H08egiQMsvteytiiRAlctXA1XGE0DDPeH7guweQJog1HTi7xZAKG9kB3GBE0Adx39AfR8SQAvXdScSTg1A4kbdcIP6DkABzeCVCCAHQAIAMhjqoRVAa4TX1OurDUDqiJW8cBkJQFzJsn4mqAVAFHwoAcT6B0Ar+gFrA4sEQGKIB+fcqQFAWApXWZDLBEDmx14BSg0CQNrecWY/dABAadyp9N+9AEBmR6uoTiL/P6ByKfopvP4/lUyTqkfx/j8FXtAXVwv/P0W7xH5Qz/o/GMzpwyXb+T8e1SvtHIL2P9Buqz2Rsvs/CY9GY6sz9z942hwUs9T2P/UyMSIQv/Q/Chfbs6Yf9T/KaFDmNTn1P9AnAwkgS/M/+RpdQNHi8T9hSTeGwonyP1a/b9j4P/E/dGYVHuq98j9L/OdShk7wP4947T0vCPA/iuxONNWs8D+oRp+jGivtP2ulSLtkYfA/9EUefEYB7T+USScle1TqP7QksM1wHPA/lR15E3oL6z99OCLE4MvrPwKOlQxljOk/bn7tRomO7T8Gnu3q3zTpPw==\",\"dtype\":\"float64\",\"order\":\"little\",\"shape\":[80]}},\"selected\":{\"id\":\"2973\"},\"selection_policy\":{\"id\":\"2972\"}},\"id\":\"2793\",\"type\":\"ColumnDataSource\"},{\"attributes\":{},\"id\":\"2742\",\"type\":\"PanTool\"},{\"attributes\":{},\"id\":\"2956\",\"type\":\"BasicTickFormatter\"},{\"attributes\":{},\"id\":\"2962\",\"type\":\"BasicTickFormatter\"},{\"attributes\":{},\"id\":\"2963\",\"type\":\"AllLabels\"},{\"attributes\":{},\"id\":\"2957\",\"type\":\"AllLabels\"},{\"attributes\":{},\"id\":\"2965\",\"type\":\"BasicTickFormatter\"},{\"attributes\":{\"bottom_units\":\"screen\",\"coordinates\":null,\"fill_alpha\":0.5,\"fill_color\":\"lightgrey\",\"group\":null,\"left_units\":\"screen\",\"level\":\"overlay\",\"line_alpha\":1.0,\"line_color\":\"black\",\"line_dash\":[4,4],\"line_width\":2,\"right_units\":\"screen\",\"syncable\":false,\"top_units\":\"screen\"},\"id\":\"2779\",\"type\":\"BoxAnnotation\"},{\"attributes\":{\"source\":{\"id\":\"2793\"}},\"id\":\"2798\",\"type\":\"CDSView\"},{\"attributes\":{},\"id\":\"2966\",\"type\":\"AllLabels\"},{\"attributes\":{\"line_alpha\":0.1,\"line_width\":2,\"x\":{\"field\":\"x\"},\"y\":{\"field\":\"y\"}},\"id\":\"2807\",\"type\":\"Line\"},{\"attributes\":{\"source\":{\"id\":\"2799\"}},\"id\":\"2804\",\"type\":\"CDSView\"},{\"attributes\":{},\"id\":\"2959\",\"type\":\"BasicTickFormatter\"},{\"attributes\":{\"line_alpha\":0.1,\"line_color\":\"orange\",\"line_width\":2,\"x\":{\"field\":\"x\"},\"y\":{\"field\":\"y\"}},\"id\":\"2795\",\"type\":\"Line\"},{\"attributes\":{},\"id\":\"2960\",\"type\":\"AllLabels\"},{\"attributes\":{\"line_alpha\":0.1,\"line_width\":2,\"x\":{\"field\":\"x\"},\"y\":{\"field\":\"y\"}},\"id\":\"2801\",\"type\":\"Line\"},{\"attributes\":{\"coordinates\":null,\"data_source\":{\"id\":\"2793\"},\"glyph\":{\"id\":\"2794\"},\"group\":null,\"hover_glyph\":null,\"muted_glyph\":{\"id\":\"2796\"},\"nonselection_glyph\":{\"id\":\"2795\"},\"view\":{\"id\":\"2798\"}},\"id\":\"2797\",\"type\":\"GlyphRenderer\"},{\"attributes\":{\"line_width\":2,\"x\":{\"field\":\"x\"},\"y\":{\"field\":\"y\"}},\"id\":\"2806\",\"type\":\"Line\"},{\"attributes\":{\"line_width\":2,\"x\":{\"field\":\"x\"},\"y\":{\"field\":\"y\"}},\"id\":\"2800\",\"type\":\"Line\"},{\"attributes\":{\"data\":{\"x\":{\"__ndarray__\":\"AAAAAAAAAACfmoFqBqqZP5+agWoGqqk/9zPhz4Q/sz+fmoFqBqq5P6MAkQJECsA/9zPhz4Q/wz9LZzGdxXTGP5+agWoGqsk/883RN0ffzD+jAJECRArQP00aOWnkpNE/9zPhz4Q/0z+hTYk2JdrUP0tnMZ3FdNY/9YDZA2YP2D+fmoFqBqrZP0m0KdGmRNs/883RN0ff3D+d53me53neP6MAkQJECuA/eA3lNZTX4D9NGjlp5KThPyInjZw0cuI/9zPhz4Q/4z/MQDUD1QzkP6FNiTYl2uQ/dlrdaXWn5T9LZzGdxXTmPyB0hdAVQuc/9YDZA2YP6D/KjS03ttzoP5+agWoGquk/dKfVnVZ36j9JtCnRpkTrPx7BfQT3Eew/883RN0ff7D/I2iVrl6ztP53neZ7nee4/cvTN0TdH7z+jAJECRArwPw4HOxzscPA/eA3lNZTX8D/jE49PPD7xP00aOWnkpPE/uCDjgowL8j8iJ42cNHLyP40tN7bc2PI/9zPhz4Q/8z9iOovpLKbzP8xANQPVDPQ/N0ffHH1z9D+hTYk2Jdr0PwxUM1DNQPU/dlrdaXWn9T/hYIeDHQ72P0tnMZ3FdPY/tm3btm3b9j8gdIXQFUL3P4t6L+q9qPc/9YDZA2YP+D9gh4MdDnb4P8qNLTe23Pg/NZTXUF5D+T+fmoFqBqr5PwmhK4SuEPo/dKfVnVZ3+j/erX+3/t36P0m0KdGmRPs/s7rT6k6r+z8ewX0E9xH8P4jHJx6fePw/883RN0ff/D9d1HtR70X9P8jaJWuXrP0/MuHPhD8T/j+d53me53n+PwfuI7iP4P4/cvTN0TdH/z/c+nfr363/Pw==\",\"dtype\":\"float64\",\"order\":\"little\",\"shape\":[80]},\"y\":{\"__ndarray__\":\"hQ5X0w74zz8ZLk84zy8WQATUOpkxPS1ADGLxMd7UPkCkqI2IOXlrQLdY4+Qa8gtAw3KHQSnKLkDeyXNL9UBMQJSEgJrdZFdAnVH3G5aWAUB1LFdB+4o6QCyPr6LYfUBAw4ySn0u2gUB8mjN0nuxiQBOsybehCk9Aknnf5CP8RUDBRjEPIgdUQAP52Hbryy5Ax1JqGTNwSUAjc+07mOlAQGvs4M+JFjRAr6XtrXWKLUDM2lm8zwcfQHyH5b6mGzFAM1ExN+SnLEBjWkzZB+khQO3EVNz+TytA/G8bAey7IECjrqy48g0WQDJAQuUcqSNAVp+eUZ1eF0ArvTw7yuUbQEVcZ091ExpAU0WzHB/GFUB8RmSs0GgRQE9M4pXGKBJAE4kA+vRIEEBCLCzeKmQTQLjklUPpXQ1AIN9Ph3pECEA+R8oAK4ALQBX/SBIS8wdAZYdeQ2qBAUDNQdRnX4AOQHtZ5tkCdgZAVHr88BxCBUAqzPLkWU4CQKPBkm+PoQNA1sN7MMJWAkAbuRj7JG8AQFi1q5LJVv0/ESL8Deii/z+fJB1soKv+P1xey3i/kvo/J94U/nMD/D9uzu6ACLj7P2jzx3jl+fg/Lk6ZvR6c9z/q9RdeoN73P0g7jA4CMPY/aSw+KHSk9T/Ij23iHk70P9G2KfqQd/I/ULKdXpAA9z+NBT4NwJHzP1NoLXHE/PI/RdoiWocu8j9nN70Gdi/xP0nvvemEx/A/X6NKdKYr8D8lnB0f2hnwP2k3yMEtfu4/lHes+mF97T8mcvhnL6ztPxlaEkiG1Os/qhqQQaTO6z8/1cF2bgzrP2h6YQoWGeo/PXKixgNP6T9uk5z4qYLoPw==\",\"dtype\":\"float64\",\"order\":\"little\",\"shape\":[80]}},\"selected\":{\"id\":\"2975\"},\"selection_policy\":{\"id\":\"2974\"}},\"id\":\"2805\",\"type\":\"ColumnDataSource\"},{\"attributes\":{},\"id\":\"2967\",\"type\":\"UnionRenderers\"},{\"attributes\":{\"data\":{\"x\":{\"__ndarray__\":\"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\",\"dtype\":\"float64\",\"order\":\"little\",\"shape\":[401]},\"y\":{\"__ndarray__\":\"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\",\"dtype\":\"float64\",\"order\":\"little\",\"shape\":[401]}},\"selected\":{\"id\":\"2970\"},\"selection_policy\":{\"id\":\"2969\"}},\"id\":\"2799\",\"type\":\"ColumnDataSource\"},{\"attributes\":{},\"id\":\"2968\",\"type\":\"Selection\"},{\"attributes\":{},\"id\":\"2743\",\"type\":\"WheelZoomTool\"},{\"attributes\":{\"bottom_units\":\"screen\",\"coordinates\":null,\"fill_alpha\":0.5,\"fill_color\":\"lightgrey\",\"group\":null,\"left_units\":\"screen\",\"level\":\"overlay\",\"line_alpha\":1.0,\"line_color\":\"black\",\"line_dash\":[4,4],\"line_width\":2,\"right_units\":\"screen\",\"syncable\":false,\"top_units\":\"screen\"},\"id\":\"2748\",\"type\":\"BoxAnnotation\"},{\"attributes\":{},\"id\":\"2969\",\"type\":\"UnionRenderers\"},{\"attributes\":{},\"id\":\"2970\",\"type\":\"Selection\"},{\"attributes\":{\"overlay\":{\"id\":\"2748\"}},\"id\":\"2744\",\"type\":\"BoxZoomTool\"},{\"attributes\":{},\"id\":\"2745\",\"type\":\"SaveTool\"},{\"attributes\":{},\"id\":\"2739\",\"type\":\"BasicTicker\"},{\"attributes\":{\"axis\":{\"id\":\"2738\"},\"coordinates\":null,\"dimension\":1,\"group\":null,\"ticker\":null},\"id\":\"2741\",\"type\":\"Grid\"},{\"attributes\":{\"axis\":{\"id\":\"2734\"},\"coordinates\":null,\"group\":null,\"ticker\":null},\"id\":\"2737\",\"type\":\"Grid\"},{\"attributes\":{},\"id\":\"2735\",\"type\":\"BasicTicker\"},{\"attributes\":{},\"id\":\"2746\",\"type\":\"ResetTool\"},{\"attributes\":{},\"id\":\"2730\",\"type\":\"LinearScale\"},{\"attributes\":{},\"id\":\"2732\",\"type\":\"LinearScale\"},{\"attributes\":{\"line_alpha\":0.1,\"line_color\":\"orange\",\"line_width\":2,\"x\":{\"field\":\"x\"},\"y\":{\"field\":\"y\"}},\"id\":\"2789\",\"type\":\"Line\"},{\"attributes\":{\"coordinates\":null,\"formatter\":{\"id\":\"2959\"},\"group\":null,\"major_label_policy\":{\"id\":\"2960\"},\"major_label_text_font_size\":\"10pt\",\"ticker\":{\"id\":\"2735\"}},\"id\":\"2734\",\"type\":\"LinearAxis\"},{\"attributes\":{\"coordinates\":null,\"formatter\":{\"id\":\"2956\"},\"group\":null,\"major_label_policy\":{\"id\":\"2957\"},\"major_label_text_font_size\":\"10pt\",\"ticker\":{\"id\":\"2739\"}},\"id\":\"2738\",\"type\":\"LinearAxis\"},{\"attributes\":{},\"id\":\"2726\",\"type\":\"DataRange1d\"},{\"attributes\":{\"line_alpha\":0.2,\"line_color\":\"orange\",\"line_width\":2,\"x\":{\"field\":\"x\"},\"y\":{\"field\":\"y\"}},\"id\":\"2790\",\"type\":\"Line\"},{\"attributes\":{},\"id\":\"2728\",\"type\":\"DataRange1d\"},{\"attributes\":{\"below\":[{\"id\":\"2765\"}],\"center\":[{\"id\":\"2768\"},{\"id\":\"2772\"}],\"height\":200,\"left\":[{\"id\":\"2769\"}],\"renderers\":[{\"id\":\"2797\"},{\"id\":\"2809\"}],\"title\":{\"id\":\"2953\"},\"toolbar\":{\"id\":\"2780\"},\"width\":400,\"x_range\":{\"id\":\"2757\"},\"x_scale\":{\"id\":\"2761\"},\"y_range\":{\"id\":\"2759\"},\"y_scale\":{\"id\":\"2763\"}},\"id\":\"2756\",\"subtype\":\"Figure\",\"type\":\"Plot\"},{\"attributes\":{\"below\":[{\"id\":\"2734\"}],\"center\":[{\"id\":\"2737\"},{\"id\":\"2741\"}],\"height\":200,\"left\":[{\"id\":\"2738\"}],\"renderers\":[{\"id\":\"2791\"},{\"id\":\"2803\"}],\"title\":{\"id\":\"2951\"},\"toolbar\":{\"id\":\"2749\"},\"width\":400,\"x_range\":{\"id\":\"2726\"},\"x_scale\":{\"id\":\"2730\"},\"y_range\":{\"id\":\"2728\"},\"y_scale\":{\"id\":\"2732\"}},\"id\":\"2725\",\"subtype\":\"Figure\",\"type\":\"Plot\"},{\"attributes\":{},\"id\":\"2763\",\"type\":\"LinearScale\"},{\"attributes\":{},\"id\":\"2972\",\"type\":\"UnionRenderers\"},{\"attributes\":{},\"id\":\"2747\",\"type\":\"HelpTool\"},{\"attributes\":{},\"id\":\"2973\",\"type\":\"Selection\"},{\"attributes\":{},\"id\":\"2778\",\"type\":\"HelpTool\"},{\"attributes\":{\"data\":{\"x\":{\"__ndarray__\":\"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\",\"dtype\":\"float64\",\"order\":\"little\",\"shape\":[401]},\"y\":{\"__ndarray__\":\"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\",\"dtype\":\"float64\",\"order\":\"little\",\"shape\":[401]}},\"selected\":{\"id\":\"2968\"},\"selection_policy\":{\"id\":\"2967\"}},\"id\":\"2787\",\"type\":\"ColumnDataSource\"},{\"attributes\":{\"coordinates\":null,\"group\":null},\"id\":\"2951\",\"type\":\"Title\"},{\"attributes\":{\"coordinates\":null,\"group\":null},\"id\":\"2953\",\"type\":\"Title\"},{\"attributes\":{},\"id\":\"2974\",\"type\":\"UnionRenderers\"},{\"attributes\":{\"source\":{\"id\":\"2805\"}},\"id\":\"2810\",\"type\":\"CDSView\"},{\"attributes\":{\"coordinates\":null,\"formatter\":{\"id\":\"2965\"},\"group\":null,\"major_label_policy\":{\"id\":\"2966\"},\"major_label_text_font_size\":\"10pt\",\"ticker\":{\"id\":\"2766\"}},\"id\":\"2765\",\"type\":\"LinearAxis\"},{\"attributes\":{},\"id\":\"2975\",\"type\":\"Selection\"},{\"attributes\":{},\"id\":\"2777\",\"type\":\"ResetTool\"},{\"attributes\":{},\"id\":\"2770\",\"type\":\"BasicTicker\"},{\"attributes\":{\"tools\":[{\"id\":\"2773\"},{\"id\":\"2774\"},{\"id\":\"2775\"},{\"id\":\"2776\"},{\"id\":\"2777\"},{\"id\":\"2778\"}]},\"id\":\"2780\",\"type\":\"Toolbar\"},{\"attributes\":{},\"id\":\"2776\",\"type\":\"SaveTool\"},{\"attributes\":{},\"id\":\"2773\",\"type\":\"PanTool\"},{\"attributes\":{\"line_color\":\"orange\",\"line_width\":2,\"x\":{\"field\":\"x\"},\"y\":{\"field\":\"y\"}},\"id\":\"2788\",\"type\":\"Line\"},{\"attributes\":{\"axis\":{\"id\":\"2765\"},\"coordinates\":null,\"group\":null,\"ticker\":null},\"id\":\"2768\",\"type\":\"Grid\"},{\"attributes\":{\"coordinates\":null,\"data_source\":{\"id\":\"2799\"},\"glyph\":{\"id\":\"2800\"},\"group\":null,\"hover_glyph\":null,\"muted_glyph\":{\"id\":\"2802\"},\"nonselection_glyph\":{\"id\":\"2801\"},\"view\":{\"id\":\"2804\"}},\"id\":\"2803\",\"type\":\"GlyphRenderer\"},{\"attributes\":{},\"id\":\"2759\",\"type\":\"DataRange1d\"},{\"attributes\":{\"coordinates\":null,\"formatter\":{\"id\":\"2962\"},\"group\":null,\"major_label_policy\":{\"id\":\"2963\"},\"major_label_text_font_size\":\"10pt\",\"ticker\":{\"id\":\"2770\"}},\"id\":\"2769\",\"type\":\"LinearAxis\"},{\"attributes\":{},\"id\":\"2757\",\"type\":\"DataRange1d\"},{\"attributes\":{},\"id\":\"2761\",\"type\":\"LinearScale\"},{\"attributes\":{\"source\":{\"id\":\"2787\"}},\"id\":\"2792\",\"type\":\"CDSView\"},{\"attributes\":{\"axis\":{\"id\":\"2769\"},\"coordinates\":null,\"dimension\":1,\"group\":null,\"ticker\":null},\"id\":\"2772\",\"type\":\"Grid\"},{\"attributes\":{\"tools\":[{\"id\":\"2742\"},{\"id\":\"2743\"},{\"id\":\"2744\"},{\"id\":\"2745\"},{\"id\":\"2746\"},{\"id\":\"2747\"}]},\"id\":\"2749\",\"type\":\"Toolbar\"},{\"attributes\":{\"line_color\":\"orange\",\"line_width\":2,\"x\":{\"field\":\"x\"},\"y\":{\"field\":\"y\"}},\"id\":\"2794\",\"type\":\"Line\"},{\"attributes\":{},\"id\":\"2774\",\"type\":\"WheelZoomTool\"},{\"attributes\":{},\"id\":\"2766\",\"type\":\"BasicTicker\"},{\"attributes\":{\"coordinates\":null,\"data_source\":{\"id\":\"2805\"},\"glyph\":{\"id\":\"2806\"},\"group\":null,\"hover_glyph\":null,\"muted_glyph\":{\"id\":\"2808\"},\"nonselection_glyph\":{\"id\":\"2807\"},\"view\":{\"id\":\"2810\"}},\"id\":\"2809\",\"type\":\"GlyphRenderer\"},{\"attributes\":{\"coordinates\":null,\"data_source\":{\"id\":\"2787\"},\"glyph\":{\"id\":\"2788\"},\"group\":null,\"hover_glyph\":null,\"muted_glyph\":{\"id\":\"2790\"},\"nonselection_glyph\":{\"id\":\"2789\"},\"view\":{\"id\":\"2792\"}},\"id\":\"2791\",\"type\":\"GlyphRenderer\"},{\"attributes\":{\"overlay\":{\"id\":\"2779\"}},\"id\":\"2775\",\"type\":\"BoxZoomTool\"}],\"root_ids\":[\"2811\"]},\"title\":\"Bokeh Application\",\"version\":\"2.4.1\"}};\n",
       "  const render_items = [{\"docid\":\"5fd3b996-78b5-42c9-b5b9-6ed800a0a08f\",\"root_ids\":[\"2811\"],\"roots\":{\"2811\":\"a21bc5e4-60de-404c-8910-9743c3ed3479\"}}];\n",
       "  root.Bokeh.embed.embed_items_notebook(docs_json, render_items);\n",
       "\n",
       "  }\n",
       "  if (root.Bokeh !== undefined) {\n",
       "    embed_document(root);\n",
       "  } else {\n",
       "    let attempts = 0;\n",
       "    const timer = setInterval(function(root) {\n",
       "      if (root.Bokeh !== undefined) {\n",
       "        clearInterval(timer);\n",
       "        embed_document(root);\n",
       "      } else {\n",
       "        attempts++;\n",
       "        if (attempts > 100) {\n",
       "          clearInterval(timer);\n",
       "          console.log(\"Bokeh: ERROR: Unable to run BokehJS code because BokehJS library is missing\");\n",
       "        }\n",
       "      }\n",
       "    }, 10, root)\n",
       "  }\n",
       "})(window);"
      ],
      "application/vnd.bokehjs_exec.v0+json": ""
     },
     "metadata": {
      "application/vnd.bokehjs_exec.v0+json": {
       "id": "2811"
      }
     },
     "output_type": "display_data"
    }
   ],
   "source": [
    "fig_size = [400, 200] # for paper size (144, 110) # for larger size (144,144)\n",
    "x_range = (0, time_points[-1])\n",
    "y_range = (0, 200)\n",
    "\n",
    "plots = []\n",
    "for i in range(2):\n",
    "    plots.append(bokeh.plotting.figure(plot_width=fig_size[0], plot_height=fig_size[1],\n",
    "                          #x_range=x_range,y_range=y_range\n",
    "                          ),)\n",
    "    plots[i].axis.major_label_text_font_size = \"10pt\"\n",
    "\n",
    "dt = time_points[1] - time_points[0]\n",
    "\n",
    "y1 = samples[0,:,10] # samples[:,:,10][0]\n",
    "y1s = y1 - y1.mean()\n",
    "lags, auto_corr = correlate(y1s, y1s, dt)\n",
    "f,Mf = FFT(lags, auto_corr, (0, 2))\n",
    "\n",
    "plots[0].line(lags, auto_corr, line_width=2, alpha= 1, line_join=\"bevel\",color=\"orange\")\n",
    "plots[1].line(f, Mf, line_width=2, alpha= 1, line_join=\"bevel\",color=\"orange\")\n",
    "\n",
    "y1 = samples[0,:,13] # samples[:,:,10][0]\n",
    "y1s = y1 - y1.mean()\n",
    "lags, auto_corr = correlate(y1s, y1s, dt)\n",
    "f,Mf = FFT(lags, auto_corr, (0, 2))\n",
    "\n",
    "plots[0].line(lags, auto_corr, line_width=2, alpha= 1, line_join=\"bevel\",color=\"black\")\n",
    "plots[1].line(f, Mf, line_width=2, alpha= 1, line_join=\"bevel\",color=\"black\")\n",
    "\n",
    "bokeh.io.show(bokeh.layouts.row(plots))"
   ]
  },
  {
   "cell_type": "code",
   "execution_count": null,
   "metadata": {
    "id": "gIq0JFaxvREs"
   },
   "outputs": [],
   "source": [
    "# Specify parameters for calculation\n",
    "n = 1 # copy number of promoter\n",
    "th = .1*600/n # 1/h\n",
    "rh = 80 # 1/h\n",
    "ph = 0.6931/10*60 # 1/h log(2)=0.6931\n",
    "d = 0.6931/30*60 # 1/h log(2)=0.6931\n",
    "g = 2.1*36 # 1/uM/h \n",
    "gd = g*0.01 # 1/h\n",
    "r = 5 # 1/h Switching rate\n",
    "a0 = 2.1*36\n",
    "d0 = 0.2*a0\n",
    "\n",
    "Omega = 600 # 600\n",
    "size = 250\n",
    "#dir = \"/content/drive/My Drive/Research/2022/RecombinaseOscillator/\"\n",
    "f_name = dir+\"Nodel_1_Data_\"+str(size)+\".npy\"\n",
    "\n",
    "args = (th, rh, ph, d, g, gd, a0, d0, r, Omega, n)\n",
    "time_points = np.linspace(0, 40, 401)\n",
    "population_0 = np.zeros(15, dtype=int)\n",
    "population_0[0] = n\n",
    "\n",
    "if os.path.exists(f_name):\n",
    "  samples = np.load(f_name)\n",
    "else:\n",
    "  samples = biocircuits.gillespie_ssa(simple_propensity, simple_update, population_0,time_points, size=size, args=args, n_threads=2,progress_bar=False)\n",
    "  #np.savetxt(f_name, samples, fmt='%d')\n",
    "  np.save(f_name, samples)\n"
   ]
  },
  {
   "cell_type": "code",
   "execution_count": null,
   "metadata": {
    "id": "p9TmQcH5mma5"
   },
   "outputs": [],
   "source": [
    "# This function finds the time of the peak\n",
    "def FindPicks(t,samples):\n",
    "  ys = samples - samples.mean()\n",
    "  lags, auto_corr = correlate(ys, ys, t[1]-t[0])\n",
    "  max_id = argrelextrema(auto_corr, np.greater)\n",
    "  return t[max_id[0][0:4]]"
   ]
  },
  {
   "cell_type": "code",
   "execution_count": null,
   "metadata": {
    "id": "BaoCDS_fnnLY"
   },
   "outputs": [],
   "source": [
    "t_peaks = FindPicks(time_points,samples[0,:,10])\n",
    "for i in range(1,samples.shape[0]):\n",
    "  t_peaks = np.vstack((t_peaks,FindPicks(time_points,samples[i,:,10])))\n",
    "\n",
    "#print(tmp)"
   ]
  },
  {
   "cell_type": "code",
   "execution_count": null,
   "metadata": {
    "id": "yz1UOcgir_kU"
   },
   "outputs": [],
   "source": [
    "fig_size = [300, 200] # for paper size (144, 110) # for larger size (144,144)\n",
    "x_range = (0, time_points[-1])\n",
    "y_range = (0, 200)\n",
    "\n",
    "plots = []\n",
    "for i in range(3):\n",
    "    plots.append(bokeh.plotting.figure(plot_width=fig_size[0], plot_height=fig_size[1],\n",
    "                          #x_range=x_range,y_range=y_range\n",
    "                          ),)\n",
    "    plots[i].axis.major_label_text_font_size = \"10pt\"\n",
    "\n",
    "x = np.linspace(0,20,41)\n",
    "\n",
    "for j in range(3):\n",
    "  hist, bin_edges = np.histogram(t_peaks[:,j], x, density=True)\n",
    "  plots[j].quad(top=hist, bottom=0, left=bin_edges[:-1], right=bin_edges[1:],fill_color=\"grey\", line_color=\"grey\", fill_alpha=0.2,line_alpha=0.)\n",
    "  plots[j].step(bin_edges[:-1],hist, line_width=2, mode=\"after\", color = \"grey\")\n",
    "\n",
    "bokeh.io.show(bokeh.layouts.row(plots))"
   ]
  },
  {
   "cell_type": "code",
   "execution_count": 11,
   "metadata": {
    "executionInfo": {
     "elapsed": 3,
     "status": "ok",
     "timestamp": 1652457384618,
     "user": {
      "displayName": "Christian Cuba",
      "userId": "05812622177105967845"
     },
     "user_tz": 240
    },
    "id": "8-pcHov6F58J"
   },
   "outputs": [],
   "source": [
    "# This function finds the Delta T between peak times\n",
    "def FindDeltaT(t,samples):\n",
    "  ys = samples - samples.mean()\n",
    "  lags, auto_corr = correlate(ys, ys, t[1]-t[0])\n",
    "  max_id = argrelextrema(auto_corr, np.greater)\n",
    "  return t[max_id[0][1:5]]-t[max_id[0][0]]"
   ]
  },
  {
   "cell_type": "code",
   "execution_count": null,
   "metadata": {
    "id": "gC_TCHbJysdl"
   },
   "outputs": [],
   "source": [
    "Delta_T = FindDeltaT(time_points,samples[0,:,10])\n",
    "for i in range(1,samples.shape[0]):\n",
    "  Delta_T = np.vstack((Delta_T,FindDeltaT(time_points,samples[i,:,10])))"
   ]
  },
  {
   "cell_type": "code",
   "execution_count": null,
   "metadata": {
    "id": "z5LeyEZcyvQ1"
   },
   "outputs": [],
   "source": [
    "fig_size = [300, 200] # for paper size (144, 110) # for larger size (144,144)\n",
    "x_range = (0, time_points[-1])\n",
    "y_range = (0, 200)\n",
    "\n",
    "plots = []\n",
    "for i in range(3):\n",
    "    plots.append(bokeh.plotting.figure(plot_width=fig_size[0], plot_height=fig_size[1],\n",
    "                          #x_range=x_range,y_range=y_range\n",
    "                          ),)\n",
    "    plots[i].axis.major_label_text_font_size = \"10pt\"\n",
    "\n",
    "x = np.linspace(0,20,41)\n",
    "\n",
    "for j in range(3):\n",
    "  hist, bin_edges = np.histogram(Delta_T[:,j], x, density=True)\n",
    "  plots[j].quad(top=hist, bottom=0, left=bin_edges[:-1], right=bin_edges[1:],fill_color=\"grey\", line_color=\"grey\", fill_alpha=0.2,line_alpha=0.)\n",
    "  plots[j].step(bin_edges[:-1],hist, line_width=2, mode=\"after\", color = \"grey\")\n",
    "\n",
    "bokeh.io.show(bokeh.layouts.row(plots))"
   ]
  },
  {
   "cell_type": "code",
   "execution_count": null,
   "metadata": {
    "id": "RPHurCE6zQX8"
   },
   "outputs": [],
   "source": [
    "# Computing the peak vs the variance\n",
    "\n",
    "fig_size = [300, 200] # for paper size (144, 110) # for larger size (144,144)\n",
    "x_range = (0, time_points[-1])\n",
    "y_range = (0, 200)\n",
    "\n",
    "plots = []\n",
    "for i in range(1):\n",
    "    plots.append(bokeh.plotting.figure(plot_width=fig_size[0], plot_height=fig_size[1],\n",
    "                          #x_range=x_range,y_range=y_range\n",
    "                          ),)\n",
    "    plots[i].axis.major_label_text_font_size = \"10pt\"\n",
    "\n",
    "vx = range(1,5)\n",
    "vy = np.var(Delta_T, axis=0)\n",
    "\n",
    "plots[0].circle(vx,vy, line_width=2)\n",
    "\n",
    "L_eq = np.polyfit(vx,vy,1)\n",
    "plots[0].line(vx, np.poly1d(L_eq)(vx), line_width=2, alpha= 0.5, line_join=\"bevel\",color=\"grey\")\n",
    "\n",
    "bokeh.io.show(bokeh.layouts.row(plots))"
   ]
  },
  {
   "cell_type": "code",
   "execution_count": null,
   "metadata": {
    "id": "knalF4eVAqxI"
   },
   "outputs": [],
   "source": [
    "L_eq"
   ]
  },
  {
   "cell_type": "code",
   "execution_count": 2,
   "metadata": {
    "colab": {
     "base_uri": "https://localhost:8080/"
    },
    "executionInfo": {
     "elapsed": 180,
     "status": "ok",
     "timestamp": 1651707135525,
     "user": {
      "displayName": "Christian Cuba",
      "userId": "05812622177105967845"
     },
     "user_tz": 240
    },
    "id": "dbiQvnVC4zNb",
    "outputId": "b8dc7058-c0a2-4845-979f-7649ceeca9ed"
   },
   "outputs": [
    {
     "ename": "ValueError",
     "evalue": "sequence.index(x): x not in sequence",
     "output_type": "error",
     "traceback": [
      "\u001b[0;31m---------------------------------------------------------------------------\u001b[0m",
      "\u001b[0;31mValueError\u001b[0m                                Traceback (most recent call last)",
      "\u001b[0;32m/var/folders/bk/5xyc8xk10g797965m1svdb300000gn/T/ipykernel_68207/4248087489.py\u001b[0m in \u001b[0;36m<module>\u001b[0;34m\u001b[0m\n\u001b[1;32m     34\u001b[0m \u001b[0;32mif\u001b[0m \u001b[0mos\u001b[0m\u001b[0;34m.\u001b[0m\u001b[0mpath\u001b[0m\u001b[0;34m.\u001b[0m\u001b[0mexists\u001b[0m\u001b[0;34m(\u001b[0m\u001b[0mf_name2\u001b[0m\u001b[0;34m)\u001b[0m\u001b[0;34m:\u001b[0m\u001b[0;34m\u001b[0m\u001b[0;34m\u001b[0m\u001b[0m\n\u001b[1;32m     35\u001b[0m   \u001b[0mout\u001b[0m \u001b[0;34m=\u001b[0m \u001b[0mnp\u001b[0m\u001b[0;34m.\u001b[0m\u001b[0mload\u001b[0m\u001b[0;34m(\u001b[0m\u001b[0mf_name2\u001b[0m\u001b[0;34m)\u001b[0m\u001b[0;34m\u001b[0m\u001b[0;34m\u001b[0m\u001b[0m\n\u001b[0;32m---> 36\u001b[0;31m   \u001b[0midx\u001b[0m \u001b[0;34m=\u001b[0m \u001b[0mparam\u001b[0m\u001b[0;34m.\u001b[0m\u001b[0mindex\u001b[0m\u001b[0;34m(\u001b[0m\u001b[0mout\u001b[0m\u001b[0;34m[\u001b[0m\u001b[0;34m-\u001b[0m\u001b[0;36m1\u001b[0m\u001b[0;34m,\u001b[0m\u001b[0;36m0\u001b[0m\u001b[0;34m]\u001b[0m\u001b[0;34m)\u001b[0m\u001b[0;34m+\u001b[0m\u001b[0;36m1\u001b[0m\u001b[0;34m\u001b[0m\u001b[0;34m\u001b[0m\u001b[0m\n\u001b[0m\u001b[1;32m     37\u001b[0m \u001b[0;32melse\u001b[0m\u001b[0;34m:\u001b[0m\u001b[0;34m\u001b[0m\u001b[0;34m\u001b[0m\u001b[0m\n\u001b[1;32m     38\u001b[0m   \u001b[0midx\u001b[0m \u001b[0;34m=\u001b[0m \u001b[0;36m0\u001b[0m\u001b[0;34m\u001b[0m\u001b[0;34m\u001b[0m\u001b[0m\n",
      "\u001b[0;31mValueError\u001b[0m: sequence.index(x): x not in sequence"
     ]
    }
   ],
   "source": [
    "# Specify parameters for calculation\n",
    "n = 1 # copy number of promoter\n",
    "th = .3*60/n # 1/h\n",
    "rh = 80 # 1/h\n",
    "ph = 0.6931/10*60 # 1/h log(2)=0.6931\n",
    "d = 0.6931/30*60 # 1/h log(2)=0.6931\n",
    "g = 2.1*36 # 1/uM/h \n",
    "gd = g*0.01 # 1/h\n",
    "r = 5 # 1/h Switching rate\n",
    "a0 = 2.1*36/2\n",
    "d0 = 0.1*a0\n",
    "\n",
    "th2 = .6*60/n # 1/h\n",
    "\n",
    "Omega = 600 # 600\n",
    "size = 1\n",
    "state = 13 # 10 (recombinase 1) or 13 (recombinase 2)\n",
    "args = (th, rh, ph, d, g, gd, a0, d0, r, th2, Omega, n)\n",
    "\n",
    "time_points = np.linspace(0, 40, 401) # 40 by 401\n",
    "population_0 = np.zeros(15, dtype=int)\n",
    "population_0[0] = n\n",
    "\n",
    "#param = (0,1,2)\n",
    "param = range(0,8)\n",
    "scale = (1./4, 1./3, 1./2, 1., 2.,3., 4.)\n",
    "vx = range(1,5)\n",
    "\n",
    "out = np.array((0., 1./4, 1./3, 1./2, 1., 2., 3., 4.))\n",
    "\n",
    "#dir = \"/content/drive/My Drive/Research/2022/RecombinaseOscillator/\"\n",
    "f_name2 = dir+\"Model_1_AllSensitivity_\"+str(size)+\".npy\"\n",
    "\n",
    "if os.path.exists(f_name2):\n",
    "  out = np.load(f_name2)\n",
    "  idx = param.index(out[-1,0])+1\n",
    "else:\n",
    "  idx = 0\n",
    "\n",
    "if idx<len(param):\n",
    "  for par in param[idx:]:\n",
    "    print(par)\n",
    "    tmp = np.array((par))\n",
    "    args_i = np.array((th, rh, ph, d, g, gd, a0, d0, r, th2, Omega, n))\n",
    "    for fac in scale:\n",
    "      # Update model para\n",
    "      args_i[par] = args[par]*fac\n",
    "      samples = biocircuits.gillespie_ssa(simple_propensity, simple_update, population_0,time_points, size=size, args=tuple(args), n_threads=2,progress_bar=False)\n",
    "\n",
    "      # Stack T1, T2, T3, T4\n",
    "      Delta_T = FindDeltaT(time_points,samples[0,:,state])\n",
    "      for i in range(1,samples.shape[0]):\n",
    "        Delta_T = np.vstack((Delta_T,FindDeltaT(time_points,samples[i,:,state])))\n",
    "\n",
    "      # Compute variance and find slope (incoherent metric)\n",
    "      vy = np.var(Delta_T, axis=0)\n",
    "      L_eq = np.polyfit(vx,vy,1)\n",
    "      tmp = np.append(tmp,L_eq[0])\n",
    "    \n",
    "    out = np.vstack((out,tmp))\n",
    "    np.save(f_name2, out)\n",
    "\n",
    "print(out)"
   ]
  },
  {
   "cell_type": "code",
   "execution_count": 3,
   "metadata": {
    "colab": {
     "base_uri": "https://localhost:8080/"
    },
    "executionInfo": {
     "elapsed": 24059287,
     "status": "ok",
     "timestamp": 1652481472866,
     "user": {
      "displayName": "Christian Cuba",
      "userId": "05812622177105967845"
     },
     "user_tz": 240
    },
    "id": "NuhGPSAdS7qI",
    "outputId": "75136762-87ae-41e5-a433-5bf7b0467be5"
   },
   "outputs": [
    {
     "name": "stdout",
     "output_type": "stream",
     "text": [
      "[[0.         0.25       0.33333333 0.5        1.         2.\n",
      "  3.         4.        ]\n",
      " [1.         8.39009002 6.28722815 3.16373113 1.50040158 0.89018002\n",
      "  0.78136803 0.78391763]\n",
      " [3.         5.35924301 3.23845069 2.18389575 1.62207287 1.50954015\n",
      "  2.34254389 5.45779751]\n",
      " [4.         1.76349067 1.64965605 1.49473097 1.45766881 1.74354328\n",
      "  1.44392341 1.30910135]\n",
      " [6.         6.47638352 4.71571099 2.9459839  1.41437861 0.90347705\n",
      "  0.90275334 0.91507792]\n",
      " [8.         2.10672112 2.37768114 2.00170438 1.45965129 1.15668204\n",
      "  0.99708442 1.02437458]]\n"
     ]
    }
   ],
   "source": [
    "# Specify parameters for calculation\n",
    "n = 1 # copy number of promoter\n",
    "th = .3*60/n # 1/h\n",
    "rh = 80 # 1/h\n",
    "ph = 0.6931/10*60 # 1/h log(2)=0.6931\n",
    "d = 0.6931/30*60 # 1/h log(2)=0.6931\n",
    "g = 2.1*36 # 1/uM/h \n",
    "gd = g*0.01 # 1/h\n",
    "r = 5 # 1/h Switching rate\n",
    "a0 = 2.1*36\n",
    "d0 = 0.1*a0\n",
    "\n",
    "th2 = .6*60/n # 1/h\n",
    "\n",
    "Omega = 600 # 600\n",
    "size = 500\n",
    "state = 13 # 10 (recombinase 1) or 13 (recombinase 2)\n",
    "args = (th, rh, ph, d, g, gd, a0, d0, r, th2, Omega, n)\n",
    "\n",
    "time_points = np.linspace(0, 40, 401) # 40 by 401\n",
    "population_0 = np.zeros(15, dtype=int)\n",
    "population_0[0] = n\n",
    "\n",
    "param = (1,3,4,6,8)\n",
    "#param = range(0,8)\n",
    "scale = (1./4, 1./3, 1./2, 1., 2.,3., 4.)\n",
    "vx = range(1,5)\n",
    "\n",
    "out = np.array((0., 1./4, 1./3, 1./2, 1., 2., 3., 4.))\n",
    "\n",
    "#dir = \"/content/drive/My Drive/Research/2022/RecombinaseOscillator/\"\n",
    "f_name2 = dir+\"Model_1_AllSensitivity_\"+str(size)+\".npy\"\n",
    "\n",
    "if os.path.exists(f_name2):\n",
    "    out = np.load(f_name2)\n",
    "    idx = param.index(out[-1,0])+1\n",
    "else:\n",
    "    idx = 0\n",
    "\n",
    "if idx<len(param):\n",
    "    for par in param[idx:]:\n",
    "        print(par)\n",
    "        tmp = np.array((par))\n",
    "        args_i = np.array((th, rh, ph, d, g, gd, a0, d0, r, th2, Omega, n))\n",
    "        for fac in scale:\n",
    "            # Update model para\n",
    "            args_i[par] = args[par]*fac\n",
    "            ii = 0\n",
    "            Delta_T = np.array((0.,0.,0.,0.))\n",
    "            while ii<size+1:\n",
    "                samples = biocircuits.gillespie_ssa(simple_propensity, simple_update, population_0,time_points, size=1, args=tuple(args_i), n_threads=1,progress_bar=False)\n",
    "                try:\n",
    "                  tmp_0 = FindDeltaT(time_points,samples[0,:,state])\n",
    "                  if len(tmp_0) == 4:\n",
    "                      Delta_T = np.vstack((Delta_T,tmp_0[0:4]))\n",
    "                      ii = ii + 1\n",
    "                except: tmp_0 = 0\n",
    "\n",
    "            # Compute variance and find slope (incoherent metric)\n",
    "            vy = np.var(Delta_T[1:,:], axis=0)\n",
    "            L_eq = np.polyfit(vx,vy,1)\n",
    "            tmp = np.append(tmp,L_eq[0])\n",
    "    \n",
    "        out = np.vstack((out,tmp))\n",
    "        np.save(f_name2, out)\n",
    "\n",
    "print(out)"
   ]
  },
  {
   "cell_type": "code",
   "execution_count": 4,
   "metadata": {
    "colab": {
     "base_uri": "https://localhost:8080/",
     "height": 240
    },
    "executionInfo": {
     "elapsed": 214,
     "status": "error",
     "timestamp": 1652491651087,
     "user": {
      "displayName": "Christian Cuba",
      "userId": "05812622177105967845"
     },
     "user_tz": 240
    },
    "id": "KW7GwDcXWeru",
    "outputId": "8e29825c-8139-45fe-d054-9090661127de"
   },
   "outputs": [
    {
     "data": {
      "text/html": [
       "\n",
       "\n",
       "\n",
       "\n",
       "\n",
       "\n",
       "  <div class=\"bk-root\" id=\"5eaf9590-cc97-47b6-85cc-23a287822850\" data-root-id=\"2133\"></div>\n"
      ]
     },
     "metadata": {},
     "output_type": "display_data"
    },
    {
     "data": {
      "application/javascript": [
       "(function(root) {\n",
       "  function embed_document(root) {\n",
       "    \n",
       "  const docs_json = {\"06bef541-6651-4e4f-a561-7d75de4f54ec\":{\"defs\":[],\"roots\":{\"references\":[{\"attributes\":{\"children\":[{\"id\":\"1003\"},{\"id\":\"1034\"},{\"id\":\"1065\"},{\"id\":\"1096\"},{\"id\":\"1127\"}]},\"id\":\"2133\",\"type\":\"Row\"},{\"attributes\":{},\"id\":\"1177\",\"type\":\"AllLabels\"},{\"attributes\":{},\"id\":\"1369\",\"type\":\"AllLabels\"},{\"attributes\":{},\"id\":\"1085\",\"type\":\"SaveTool\"},{\"attributes\":{},\"id\":\"1371\",\"type\":\"BasicTickFormatter\"},{\"attributes\":{\"below\":[{\"id\":\"1043\"}],\"center\":[{\"id\":\"1046\"},{\"id\":\"1050\"}],\"height\":115,\"left\":[{\"id\":\"1047\"}],\"output_backend\":\"svg\",\"renderers\":[{\"id\":\"1357\"},{\"id\":\"1363\"}],\"title\":{\"id\":\"1365\"},\"toolbar\":{\"id\":\"1058\"},\"width\":144,\"x_range\":{\"id\":\"1035\"},\"x_scale\":{\"id\":\"1039\"},\"y_range\":{\"id\":\"1037\"},\"y_scale\":{\"id\":\"1041\"}},\"id\":\"1034\",\"subtype\":\"Figure\",\"type\":\"Plot\"},{\"attributes\":{},\"id\":\"1072\",\"type\":\"LinearScale\"},{\"attributes\":{},\"id\":\"1372\",\"type\":\"AllLabels\"},{\"attributes\":{\"axis\":{\"id\":\"1016\"},\"coordinates\":null,\"dimension\":1,\"group\":null,\"ticker\":null},\"id\":\"1019\",\"type\":\"Grid\"},{\"attributes\":{},\"id\":\"1178\",\"type\":\"UnionRenderers\"},{\"attributes\":{},\"id\":\"1764\",\"type\":\"Selection\"},{\"attributes\":{},\"id\":\"1179\",\"type\":\"Selection\"},{\"attributes\":{\"axis\":{\"id\":\"1074\"},\"coordinates\":null,\"group\":null,\"ticker\":null},\"id\":\"1077\",\"type\":\"Grid\"},{\"attributes\":{},\"id\":\"1763\",\"type\":\"UnionRenderers\"},{\"attributes\":{},\"id\":\"1087\",\"type\":\"HelpTool\"},{\"attributes\":{},\"id\":\"1075\",\"type\":\"BasicTicker\"},{\"attributes\":{},\"id\":\"1373\",\"type\":\"UnionRenderers\"},{\"attributes\":{\"end\":4.2},\"id\":\"1097\",\"type\":\"Range1d\"},{\"attributes\":{\"end\":4.2},\"id\":\"1035\",\"type\":\"Range1d\"},{\"attributes\":{\"tools\":[{\"id\":\"1051\"},{\"id\":\"1052\"},{\"id\":\"1053\"},{\"id\":\"1054\"},{\"id\":\"1055\"},{\"id\":\"1056\"}]},\"id\":\"1058\",\"type\":\"Toolbar\"},{\"attributes\":{},\"id\":\"1374\",\"type\":\"Selection\"},{\"attributes\":{\"axis\":{\"id\":\"1078\"},\"coordinates\":null,\"dimension\":1,\"group\":null,\"ticker\":null},\"id\":\"1081\",\"type\":\"Grid\"},{\"attributes\":{\"overlay\":{\"id\":\"1026\"}},\"id\":\"1022\",\"type\":\"BoxZoomTool\"},{\"attributes\":{},\"id\":\"1083\",\"type\":\"WheelZoomTool\"},{\"attributes\":{\"tools\":[{\"id\":\"1082\"},{\"id\":\"1083\"},{\"id\":\"1084\"},{\"id\":\"1085\"},{\"id\":\"1086\"},{\"id\":\"1087\"}]},\"id\":\"1089\",\"type\":\"Toolbar\"},{\"attributes\":{},\"id\":\"1020\",\"type\":\"PanTool\"},{\"attributes\":{},\"id\":\"1762\",\"type\":\"AllLabels\"},{\"attributes\":{},\"id\":\"1024\",\"type\":\"ResetTool\"},{\"attributes\":{},\"id\":\"1082\",\"type\":\"PanTool\"},{\"attributes\":{},\"id\":\"1368\",\"type\":\"BasicTickFormatter\"},{\"attributes\":{},\"id\":\"1079\",\"type\":\"BasicTicker\"},{\"attributes\":{},\"id\":\"1180\",\"type\":\"UnionRenderers\"},{\"attributes\":{},\"id\":\"1021\",\"type\":\"WheelZoomTool\"},{\"attributes\":{},\"id\":\"1761\",\"type\":\"BasicTickFormatter\"},{\"attributes\":{},\"id\":\"1765\",\"type\":\"UnionRenderers\"},{\"attributes\":{\"end\":20},\"id\":\"1099\",\"type\":\"Range1d\"},{\"attributes\":{\"coordinates\":null,\"formatter\":{\"id\":\"1173\"},\"group\":null,\"major_label_policy\":{\"id\":\"1174\"},\"major_label_text_font_size\":\"10pt\",\"ticker\":{\"id\":\"1017\"}},\"id\":\"1016\",\"type\":\"LinearAxis\"},{\"attributes\":{\"overlay\":{\"id\":\"1088\"}},\"id\":\"1084\",\"type\":\"BoxZoomTool\"},{\"attributes\":{},\"id\":\"1181\",\"type\":\"Selection\"},{\"attributes\":{},\"id\":\"1759\",\"type\":\"AllLabels\"},{\"attributes\":{},\"id\":\"1570\",\"type\":\"UnionRenderers\"},{\"attributes\":{},\"id\":\"1766\",\"type\":\"Selection\"},{\"attributes\":{\"coordinates\":null,\"formatter\":{\"id\":\"1761\"},\"group\":null,\"major_label_policy\":{\"id\":\"1762\"},\"major_label_text_font_size\":\"10pt\",\"ticker\":{\"id\":\"1106\"}},\"id\":\"1105\",\"type\":\"LinearAxis\"},{\"attributes\":{},\"id\":\"1960\",\"type\":\"UnionRenderers\"},{\"attributes\":{},\"id\":\"1758\",\"type\":\"BasicTickFormatter\"},{\"attributes\":{},\"id\":\"1070\",\"type\":\"LinearScale\"},{\"attributes\":{},\"id\":\"1961\",\"type\":\"Selection\"},{\"attributes\":{},\"id\":\"1025\",\"type\":\"HelpTool\"},{\"attributes\":{},\"id\":\"1375\",\"type\":\"UnionRenderers\"},{\"attributes\":{},\"id\":\"1101\",\"type\":\"LinearScale\"},{\"attributes\":{\"coordinates\":null,\"formatter\":{\"id\":\"1758\"},\"group\":null,\"major_label_policy\":{\"id\":\"1759\"},\"major_label_text_font_size\":\"10pt\",\"ticker\":{\"id\":\"1110\"}},\"id\":\"1109\",\"type\":\"LinearAxis\"},{\"attributes\":{\"axis\":{\"id\":\"1012\"},\"coordinates\":null,\"group\":null,\"ticker\":null},\"id\":\"1015\",\"type\":\"Grid\"},{\"attributes\":{},\"id\":\"1023\",\"type\":\"SaveTool\"},{\"attributes\":{},\"id\":\"1376\",\"type\":\"Selection\"},{\"attributes\":{},\"id\":\"1571\",\"type\":\"Selection\"},{\"attributes\":{\"bottom_units\":\"screen\",\"coordinates\":null,\"fill_alpha\":0.5,\"fill_color\":\"lightgrey\",\"group\":null,\"left_units\":\"screen\",\"level\":\"overlay\",\"line_alpha\":1.0,\"line_color\":\"black\",\"line_dash\":[4,4],\"line_width\":2,\"right_units\":\"screen\",\"syncable\":false,\"top_units\":\"screen\"},\"id\":\"1026\",\"type\":\"BoxAnnotation\"},{\"attributes\":{\"below\":[{\"id\":\"1136\"}],\"center\":[{\"id\":\"1139\"},{\"id\":\"1143\"}],\"height\":115,\"left\":[{\"id\":\"1140\"}],\"output_backend\":\"svg\",\"renderers\":[{\"id\":\"1942\"},{\"id\":\"1948\"}],\"title\":{\"id\":\"1950\"},\"toolbar\":{\"id\":\"1151\"},\"width\":144,\"x_range\":{\"id\":\"1128\"},\"x_scale\":{\"id\":\"1132\"},\"y_range\":{\"id\":\"1130\"},\"y_scale\":{\"id\":\"1134\"}},\"id\":\"1127\",\"subtype\":\"Figure\",\"type\":\"Plot\"},{\"attributes\":{},\"id\":\"1106\",\"type\":\"BasicTicker\"},{\"attributes\":{},\"id\":\"1086\",\"type\":\"ResetTool\"},{\"attributes\":{\"coordinates\":null,\"group\":null},\"id\":\"1755\",\"type\":\"Title\"},{\"attributes\":{\"source\":{\"id\":\"1944\"}},\"id\":\"1949\",\"type\":\"CDSView\"},{\"attributes\":{\"bottom_units\":\"screen\",\"coordinates\":null,\"fill_alpha\":0.5,\"fill_color\":\"lightgrey\",\"group\":null,\"left_units\":\"screen\",\"level\":\"overlay\",\"line_alpha\":1.0,\"line_color\":\"black\",\"line_dash\":[4,4],\"line_width\":2,\"right_units\":\"screen\",\"syncable\":false,\"top_units\":\"screen\"},\"id\":\"1057\",\"type\":\"BoxAnnotation\"},{\"attributes\":{\"coordinates\":null,\"formatter\":{\"id\":\"1563\"},\"group\":null,\"major_label_policy\":{\"id\":\"1564\"},\"major_label_text_font_size\":\"10pt\",\"ticker\":{\"id\":\"1079\"}},\"id\":\"1078\",\"type\":\"LinearAxis\"},{\"attributes\":{\"data\":{\"x\":{\"__ndarray__\":\"AAAAAAAA0D9VVVVVVVXVPwAAAAAAAOA/AAAAAAAA8D8AAAAAAAAAQAAAAAAAAAhAAAAAAAAAEEA=\",\"dtype\":\"float64\",\"order\":\"little\",\"shape\":[7]},\"y\":{\"__ndarray__\":\"BEpXmpDaAECNaZ2wfQUDQB9wbpV9AwBAwMo6ULta9z81DBUGxYHyP47V05Qd6O8/7LGLmdZj8D8=\",\"dtype\":\"float64\",\"order\":\"little\",\"shape\":[7]}},\"selected\":{\"id\":\"1961\"},\"selection_policy\":{\"id\":\"1960\"}},\"id\":\"1944\",\"type\":\"ColumnDataSource\"},{\"attributes\":{\"fill_color\":{\"value\":\"#90bd31\"},\"hatch_color\":{\"value\":\"#90bd31\"},\"line_color\":{\"value\":\"#90bd31\"},\"line_width\":{\"value\":2},\"x\":{\"field\":\"x\"},\"y\":{\"field\":\"y\"}},\"id\":\"1945\",\"type\":\"Circle\"},{\"attributes\":{\"source\":{\"id\":\"1938\"}},\"id\":\"1943\",\"type\":\"CDSView\"},{\"attributes\":{\"end\":20},\"id\":\"1068\",\"type\":\"Range1d\"},{\"attributes\":{\"coordinates\":null,\"data_source\":{\"id\":\"1944\"},\"glyph\":{\"id\":\"1945\"},\"group\":null,\"hover_glyph\":null,\"muted_glyph\":{\"id\":\"1947\"},\"nonselection_glyph\":{\"id\":\"1946\"},\"view\":{\"id\":\"1949\"}},\"id\":\"1948\",\"type\":\"GlyphRenderer\"},{\"attributes\":{\"tools\":[{\"id\":\"1020\"},{\"id\":\"1021\"},{\"id\":\"1022\"},{\"id\":\"1023\"},{\"id\":\"1024\"},{\"id\":\"1025\"}]},\"id\":\"1027\",\"type\":\"Toolbar\"},{\"attributes\":{\"line_alpha\":0.2,\"line_color\":\"#90bd31\",\"line_width\":2,\"x\":{\"field\":\"x\"},\"y\":{\"field\":\"y\"}},\"id\":\"1941\",\"type\":\"Line\"},{\"attributes\":{\"axis\":{\"id\":\"1105\"},\"coordinates\":null,\"group\":null,\"ticker\":null},\"id\":\"1108\",\"type\":\"Grid\"},{\"attributes\":{},\"id\":\"1017\",\"type\":\"BasicTicker\"},{\"attributes\":{\"fill_alpha\":{\"value\":0.1},\"fill_color\":{\"value\":\"#90bd31\"},\"hatch_alpha\":{\"value\":0.1},\"hatch_color\":{\"value\":\"#90bd31\"},\"line_alpha\":{\"value\":0.1},\"line_color\":{\"value\":\"#90bd31\"},\"line_width\":{\"value\":2},\"x\":{\"field\":\"x\"},\"y\":{\"field\":\"y\"}},\"id\":\"1946\",\"type\":\"Circle\"},{\"attributes\":{\"coordinates\":null,\"formatter\":{\"id\":\"1566\"},\"group\":null,\"major_label_policy\":{\"id\":\"1567\"},\"major_label_text_font_size\":\"10pt\",\"ticker\":{\"id\":\"1075\"}},\"id\":\"1074\",\"type\":\"LinearAxis\"},{\"attributes\":{\"fill_alpha\":{\"value\":0.2},\"fill_color\":{\"value\":\"#90bd31\"},\"hatch_alpha\":{\"value\":0.2},\"hatch_color\":{\"value\":\"#90bd31\"},\"line_alpha\":{\"value\":0.2},\"line_color\":{\"value\":\"#90bd31\"},\"line_width\":{\"value\":2},\"x\":{\"field\":\"x\"},\"y\":{\"field\":\"y\"}},\"id\":\"1947\",\"type\":\"Circle\"},{\"attributes\":{\"coordinates\":null,\"data_source\":{\"id\":\"1938\"},\"glyph\":{\"id\":\"1939\"},\"group\":null,\"hover_glyph\":null,\"muted_glyph\":{\"id\":\"1941\"},\"nonselection_glyph\":{\"id\":\"1940\"},\"view\":{\"id\":\"1943\"}},\"id\":\"1942\",\"type\":\"GlyphRenderer\"},{\"attributes\":{},\"id\":\"1103\",\"type\":\"LinearScale\"},{\"attributes\":{\"end\":4.2},\"id\":\"1066\",\"type\":\"Range1d\"},{\"attributes\":{},\"id\":\"1013\",\"type\":\"BasicTicker\"},{\"attributes\":{\"source\":{\"id\":\"1158\"}},\"id\":\"1163\",\"type\":\"CDSView\"},{\"attributes\":{},\"id\":\"1137\",\"type\":\"BasicTicker\"},{\"attributes\":{\"axis\":{\"id\":\"1043\"},\"coordinates\":null,\"group\":null,\"ticker\":null},\"id\":\"1046\",\"type\":\"Grid\"},{\"attributes\":{},\"id\":\"1008\",\"type\":\"LinearScale\"},{\"attributes\":{\"coordinates\":null,\"data_source\":{\"id\":\"1164\"},\"glyph\":{\"id\":\"1165\"},\"group\":null,\"hover_glyph\":null,\"muted_glyph\":{\"id\":\"1167\"},\"nonselection_glyph\":{\"id\":\"1166\"},\"view\":{\"id\":\"1169\"}},\"id\":\"1168\",\"type\":\"GlyphRenderer\"},{\"attributes\":{\"coordinates\":null,\"formatter\":{\"id\":\"1176\"},\"group\":null,\"major_label_policy\":{\"id\":\"1177\"},\"major_label_text_font_size\":\"10pt\",\"ticker\":{\"id\":\"1013\"}},\"id\":\"1012\",\"type\":\"LinearAxis\"},{\"attributes\":{\"bottom_units\":\"screen\",\"coordinates\":null,\"fill_alpha\":0.5,\"fill_color\":\"lightgrey\",\"group\":null,\"left_units\":\"screen\",\"level\":\"overlay\",\"line_alpha\":1.0,\"line_color\":\"black\",\"line_dash\":[4,4],\"line_width\":2,\"right_units\":\"screen\",\"syncable\":false,\"top_units\":\"screen\"},\"id\":\"1150\",\"type\":\"BoxAnnotation\"},{\"attributes\":{\"fill_color\":{\"value\":\"#90bd31\"},\"hatch_color\":{\"value\":\"#90bd31\"},\"line_color\":{\"value\":\"#90bd31\"},\"line_width\":{\"value\":2},\"x\":{\"field\":\"x\"},\"y\":{\"field\":\"y\"}},\"id\":\"1165\",\"type\":\"Circle\"},{\"attributes\":{\"coordinates\":null,\"data_source\":{\"id\":\"1158\"},\"glyph\":{\"id\":\"1159\"},\"group\":null,\"hover_glyph\":null,\"muted_glyph\":{\"id\":\"1161\"},\"nonselection_glyph\":{\"id\":\"1160\"},\"view\":{\"id\":\"1163\"}},\"id\":\"1162\",\"type\":\"GlyphRenderer\"},{\"attributes\":{\"end\":20},\"id\":\"1037\",\"type\":\"Range1d\"},{\"attributes\":{\"line_alpha\":0.2,\"line_color\":\"#90bd31\",\"line_width\":2,\"x\":{\"field\":\"x\"},\"y\":{\"field\":\"y\"}},\"id\":\"1161\",\"type\":\"Line\"},{\"attributes\":{\"line_alpha\":0.1,\"line_color\":\"#90bd31\",\"line_width\":2,\"x\":{\"field\":\"x\"},\"y\":{\"field\":\"y\"}},\"id\":\"1160\",\"type\":\"Line\"},{\"attributes\":{},\"id\":\"1959\",\"type\":\"Selection\"},{\"attributes\":{\"coordinates\":null,\"formatter\":{\"id\":\"1368\"},\"group\":null,\"major_label_policy\":{\"id\":\"1369\"},\"major_label_text_font_size\":\"10pt\",\"ticker\":{\"id\":\"1048\"}},\"id\":\"1047\",\"type\":\"LinearAxis\"},{\"attributes\":{},\"id\":\"1132\",\"type\":\"LinearScale\"},{\"attributes\":{},\"id\":\"1569\",\"type\":\"Selection\"},{\"attributes\":{\"fill_alpha\":{\"value\":0.2},\"fill_color\":{\"value\":\"#90bd31\"},\"hatch_alpha\":{\"value\":0.2},\"hatch_color\":{\"value\":\"#90bd31\"},\"line_alpha\":{\"value\":0.2},\"line_color\":{\"value\":\"#90bd31\"},\"line_width\":{\"value\":2},\"x\":{\"field\":\"x\"},\"y\":{\"field\":\"y\"}},\"id\":\"1167\",\"type\":\"Circle\"},{\"attributes\":{\"data\":{\"x\":{\"__ndarray__\":\"AAAAAAAA0D9VVVVVVVXVPwAAAAAAAOA/AAAAAAAA8D8AAAAAAAAAQAAAAAAAAAhAAAAAAAAAEEA=\",\"dtype\":\"float64\",\"order\":\"little\",\"shape\":[7]},\"y\":{\"__ndarray__\":\"5D8r4bnHIEBuvycjHyYZQNbznERSTwlAnLpCFaUB+D8MhuTQWnzsPyXz84T3AOk/iM61atoV6T8=\",\"dtype\":\"float64\",\"order\":\"little\",\"shape\":[7]}},\"selected\":{\"id\":\"1181\"},\"selection_policy\":{\"id\":\"1180\"}},\"id\":\"1164\",\"type\":\"ColumnDataSource\"},{\"attributes\":{\"overlay\":{\"id\":\"1119\"}},\"id\":\"1115\",\"type\":\"BoxZoomTool\"},{\"attributes\":{},\"id\":\"1958\",\"type\":\"UnionRenderers\"},{\"attributes\":{\"line_color\":\"#90bd31\",\"line_width\":2,\"x\":{\"field\":\"x\"},\"y\":{\"field\":\"y\"}},\"id\":\"1159\",\"type\":\"Line\"},{\"attributes\":{},\"id\":\"1145\",\"type\":\"WheelZoomTool\"},{\"attributes\":{},\"id\":\"1568\",\"type\":\"UnionRenderers\"},{\"attributes\":{},\"id\":\"1114\",\"type\":\"WheelZoomTool\"},{\"attributes\":{\"line_color\":\"#90bd31\",\"line_width\":2,\"x\":{\"field\":\"x\"},\"y\":{\"field\":\"y\"}},\"id\":\"1354\",\"type\":\"Line\"},{\"attributes\":{\"overlay\":{\"id\":\"1057\"}},\"id\":\"1053\",\"type\":\"BoxZoomTool\"},{\"attributes\":{},\"id\":\"1116\",\"type\":\"SaveTool\"},{\"attributes\":{\"axis\":{\"id\":\"1047\"},\"coordinates\":null,\"dimension\":1,\"group\":null,\"ticker\":null},\"id\":\"1050\",\"type\":\"Grid\"},{\"attributes\":{\"fill_alpha\":{\"value\":0.1},\"fill_color\":{\"value\":\"#90bd31\"},\"hatch_alpha\":{\"value\":0.1},\"hatch_color\":{\"value\":\"#90bd31\"},\"line_alpha\":{\"value\":0.1},\"line_color\":{\"value\":\"#90bd31\"},\"line_width\":{\"value\":2},\"x\":{\"field\":\"x\"},\"y\":{\"field\":\"y\"}},\"id\":\"1166\",\"type\":\"Circle\"},{\"attributes\":{\"line_color\":\"#90bd31\",\"line_width\":2,\"x\":{\"field\":\"x\"},\"y\":{\"field\":\"y\"}},\"id\":\"1744\",\"type\":\"Line\"},{\"attributes\":{\"source\":{\"id\":\"1164\"}},\"id\":\"1169\",\"type\":\"CDSView\"},{\"attributes\":{\"line_alpha\":0.1,\"line_color\":\"#90bd31\",\"line_width\":2,\"x\":{\"field\":\"x\"},\"y\":{\"field\":\"y\"}},\"id\":\"1355\",\"type\":\"Line\"},{\"attributes\":{},\"id\":\"1134\",\"type\":\"LinearScale\"},{\"attributes\":{\"coordinates\":null,\"formatter\":{\"id\":\"1953\"},\"group\":null,\"major_label_policy\":{\"id\":\"1954\"},\"major_label_text_font_size\":\"10pt\",\"ticker\":{\"id\":\"1141\"}},\"id\":\"1140\",\"type\":\"LinearAxis\"},{\"attributes\":{},\"id\":\"1957\",\"type\":\"AllLabels\"},{\"attributes\":{},\"id\":\"1567\",\"type\":\"AllLabels\"},{\"attributes\":{\"end\":20},\"id\":\"1130\",\"type\":\"Range1d\"},{\"attributes\":{},\"id\":\"1956\",\"type\":\"BasicTickFormatter\"},{\"attributes\":{},\"id\":\"1566\",\"type\":\"BasicTickFormatter\"},{\"attributes\":{\"axis\":{\"id\":\"1136\"},\"coordinates\":null,\"group\":null,\"ticker\":null},\"id\":\"1139\",\"type\":\"Grid\"},{\"attributes\":{\"axis\":{\"id\":\"1140\"},\"coordinates\":null,\"dimension\":1,\"group\":null,\"ticker\":null},\"id\":\"1143\",\"type\":\"Grid\"},{\"attributes\":{},\"id\":\"1954\",\"type\":\"AllLabels\"},{\"attributes\":{\"below\":[{\"id\":\"1012\"}],\"center\":[{\"id\":\"1015\"},{\"id\":\"1019\"}],\"height\":115,\"left\":[{\"id\":\"1016\"}],\"output_backend\":\"svg\",\"renderers\":[{\"id\":\"1162\"},{\"id\":\"1168\"}],\"title\":{\"id\":\"1170\"},\"toolbar\":{\"id\":\"1027\"},\"width\":144,\"x_range\":{\"id\":\"1004\"},\"x_scale\":{\"id\":\"1008\"},\"y_range\":{\"id\":\"1006\"},\"y_scale\":{\"id\":\"1010\"}},\"id\":\"1003\",\"subtype\":\"Figure\",\"type\":\"Plot\"},{\"attributes\":{\"line_alpha\":0.1,\"line_color\":\"#90bd31\",\"line_width\":2,\"x\":{\"field\":\"x\"},\"y\":{\"field\":\"y\"}},\"id\":\"1940\",\"type\":\"Line\"},{\"attributes\":{\"line_alpha\":0.2,\"line_color\":\"#90bd31\",\"line_width\":2,\"x\":{\"field\":\"x\"},\"y\":{\"field\":\"y\"}},\"id\":\"1356\",\"type\":\"Line\"},{\"attributes\":{\"line_color\":\"#90bd31\",\"line_width\":2,\"x\":{\"field\":\"x\"},\"y\":{\"field\":\"y\"}},\"id\":\"1939\",\"type\":\"Line\"},{\"attributes\":{},\"id\":\"1141\",\"type\":\"BasicTicker\"},{\"attributes\":{\"coordinates\":null,\"data_source\":{\"id\":\"1353\"},\"glyph\":{\"id\":\"1354\"},\"group\":null,\"hover_glyph\":null,\"muted_glyph\":{\"id\":\"1356\"},\"nonselection_glyph\":{\"id\":\"1355\"},\"view\":{\"id\":\"1358\"}},\"id\":\"1357\",\"type\":\"GlyphRenderer\"},{\"attributes\":{\"fill_color\":{\"value\":\"#90bd31\"},\"hatch_color\":{\"value\":\"#90bd31\"},\"line_color\":{\"value\":\"#90bd31\"},\"line_width\":{\"value\":2},\"x\":{\"field\":\"x\"},\"y\":{\"field\":\"y\"}},\"id\":\"1360\",\"type\":\"Circle\"},{\"attributes\":{\"data\":{\"x\":{\"__ndarray__\":\"AAAAAAAA0D9VVVVVVVXVPwAAAAAAAOA/AAAAAAAA8D8AAAAAAAAAQAAAAAAAAAhAAAAAAAAAEEA=\",\"dtype\":\"float64\",\"order\":\"little\",\"shape\":[7]},\"y\":{\"__ndarray__\":\"8Z3hFNHnGUCP/m9X49wSQM8fYQJgkQdA48ytd0uh9j9XmJuxSOnsP/Vn5fpa4+w/07VTe1FI7T8=\",\"dtype\":\"float64\",\"order\":\"little\",\"shape\":[7]}},\"selected\":{\"id\":\"1766\"},\"selection_policy\":{\"id\":\"1765\"}},\"id\":\"1749\",\"type\":\"ColumnDataSource\"},{\"attributes\":{\"tools\":[{\"id\":\"1144\"},{\"id\":\"1145\"},{\"id\":\"1146\"},{\"id\":\"1147\"},{\"id\":\"1148\"},{\"id\":\"1149\"}]},\"id\":\"1151\",\"type\":\"Toolbar\"},{\"attributes\":{},\"id\":\"1953\",\"type\":\"BasicTickFormatter\"},{\"attributes\":{\"fill_alpha\":{\"value\":0.1},\"fill_color\":{\"value\":\"#90bd31\"},\"hatch_alpha\":{\"value\":0.1},\"hatch_color\":{\"value\":\"#90bd31\"},\"line_alpha\":{\"value\":0.1},\"line_color\":{\"value\":\"#90bd31\"},\"line_width\":{\"value\":2},\"x\":{\"field\":\"x\"},\"y\":{\"field\":\"y\"}},\"id\":\"1751\",\"type\":\"Circle\"},{\"attributes\":{\"source\":{\"id\":\"1353\"}},\"id\":\"1358\",\"type\":\"CDSView\"},{\"attributes\":{},\"id\":\"1052\",\"type\":\"WheelZoomTool\"},{\"attributes\":{\"fill_alpha\":{\"value\":0.2},\"fill_color\":{\"value\":\"#90bd31\"},\"hatch_alpha\":{\"value\":0.2},\"hatch_color\":{\"value\":\"#90bd31\"},\"line_alpha\":{\"value\":0.2},\"line_color\":{\"value\":\"#90bd31\"},\"line_width\":{\"value\":2},\"x\":{\"field\":\"x\"},\"y\":{\"field\":\"y\"}},\"id\":\"1752\",\"type\":\"Circle\"},{\"attributes\":{\"tools\":[{\"id\":\"1113\"},{\"id\":\"1114\"},{\"id\":\"1115\"},{\"id\":\"1116\"},{\"id\":\"1117\"},{\"id\":\"1118\"}]},\"id\":\"1120\",\"type\":\"Toolbar\"},{\"attributes\":{\"data\":{\"x\":{\"__ndarray__\":\"AAAAAAAA0D9VVVVVVVXVPwAAAAAAAOA/AAAAAAAA8D8AAAAAAAAAQAAAAAAAAAhAAAAAAAAAEEA=\",\"dtype\":\"float64\",\"order\":\"little\",\"shape\":[7]},\"y\":{\"__ndarray__\":\"vYYZZt1vFUBeQQvWWOgJQAAlJFWeeAFA7s8MrgL0+T9+tGGTEyf4P9HlOaeHvQJAaS4o38jUFUA=\",\"dtype\":\"float64\",\"order\":\"little\",\"shape\":[7]}},\"selected\":{\"id\":\"1376\"},\"selection_policy\":{\"id\":\"1375\"}},\"id\":\"1359\",\"type\":\"ColumnDataSource\"},{\"attributes\":{},\"id\":\"1044\",\"type\":\"BasicTicker\"},{\"attributes\":{\"coordinates\":null,\"data_source\":{\"id\":\"1548\"},\"glyph\":{\"id\":\"1549\"},\"group\":null,\"hover_glyph\":null,\"muted_glyph\":{\"id\":\"1551\"},\"nonselection_glyph\":{\"id\":\"1550\"},\"view\":{\"id\":\"1553\"}},\"id\":\"1552\",\"type\":\"GlyphRenderer\"},{\"attributes\":{\"fill_color\":{\"value\":\"#90bd31\"},\"hatch_color\":{\"value\":\"#90bd31\"},\"line_color\":{\"value\":\"#90bd31\"},\"line_width\":{\"value\":2},\"x\":{\"field\":\"x\"},\"y\":{\"field\":\"y\"}},\"id\":\"1750\",\"type\":\"Circle\"},{\"attributes\":{\"data\":{\"x\":{\"__ndarray__\":\"AAAAAAAA0D9VVVVVVVXVPwAAAAAAAOA/AAAAAAAA8D8AAAAAAAAAQAAAAAAAAAhAAAAAAAAAEEA=\",\"dtype\":\"float64\",\"order\":\"little\",\"shape\":[7]},\"y\":{\"__ndarray__\":\"BEpXmpDaAECNaZ2wfQUDQB9wbpV9AwBAwMo6ULta9z81DBUGxYHyP47V05Qd6O8/7LGLmdZj8D8=\",\"dtype\":\"float64\",\"order\":\"little\",\"shape\":[7]}},\"selected\":{\"id\":\"1959\"},\"selection_policy\":{\"id\":\"1958\"}},\"id\":\"1938\",\"type\":\"ColumnDataSource\"},{\"attributes\":{\"coordinates\":null,\"group\":null},\"id\":\"1170\",\"type\":\"Title\"},{\"attributes\":{\"source\":{\"id\":\"1548\"}},\"id\":\"1553\",\"type\":\"CDSView\"},{\"attributes\":{\"source\":{\"id\":\"1743\"}},\"id\":\"1748\",\"type\":\"CDSView\"},{\"attributes\":{},\"id\":\"1051\",\"type\":\"PanTool\"},{\"attributes\":{\"coordinates\":null,\"data_source\":{\"id\":\"1743\"},\"glyph\":{\"id\":\"1744\"},\"group\":null,\"hover_glyph\":null,\"muted_glyph\":{\"id\":\"1746\"},\"nonselection_glyph\":{\"id\":\"1745\"},\"view\":{\"id\":\"1748\"}},\"id\":\"1747\",\"type\":\"GlyphRenderer\"},{\"attributes\":{\"data\":{\"x\":{\"__ndarray__\":\"AAAAAAAA0D9VVVVVVVXVPwAAAAAAAOA/AAAAAAAA8D8AAAAAAAAAQAAAAAAAAAhAAAAAAAAAEEA=\",\"dtype\":\"float64\",\"order\":\"little\",\"shape\":[7]},\"y\":{\"__ndarray__\":\"8Z3hFNHnGUCP/m9X49wSQM8fYQJgkQdA48ytd0uh9j9XmJuxSOnsP/Vn5fpa4+w/07VTe1FI7T8=\",\"dtype\":\"float64\",\"order\":\"little\",\"shape\":[7]}},\"selected\":{\"id\":\"1764\"},\"selection_policy\":{\"id\":\"1763\"}},\"id\":\"1743\",\"type\":\"ColumnDataSource\"},{\"attributes\":{\"line_color\":\"#90bd31\",\"line_width\":2,\"x\":{\"field\":\"x\"},\"y\":{\"field\":\"y\"}},\"id\":\"1549\",\"type\":\"Line\"},{\"attributes\":{\"source\":{\"id\":\"1749\"}},\"id\":\"1754\",\"type\":\"CDSView\"},{\"attributes\":{},\"id\":\"1113\",\"type\":\"PanTool\"},{\"attributes\":{\"below\":[{\"id\":\"1105\"}],\"center\":[{\"id\":\"1108\"},{\"id\":\"1112\"}],\"height\":115,\"left\":[{\"id\":\"1109\"}],\"output_backend\":\"svg\",\"renderers\":[{\"id\":\"1747\"},{\"id\":\"1753\"}],\"title\":{\"id\":\"1755\"},\"toolbar\":{\"id\":\"1120\"},\"width\":144,\"x_range\":{\"id\":\"1097\"},\"x_scale\":{\"id\":\"1101\"},\"y_range\":{\"id\":\"1099\"},\"y_scale\":{\"id\":\"1103\"}},\"id\":\"1096\",\"subtype\":\"Figure\",\"type\":\"Plot\"},{\"attributes\":{\"coordinates\":null,\"group\":null},\"id\":\"1560\",\"type\":\"Title\"},{\"attributes\":{\"source\":{\"id\":\"1359\"}},\"id\":\"1364\",\"type\":\"CDSView\"},{\"attributes\":{\"end\":4.2},\"id\":\"1128\",\"type\":\"Range1d\"},{\"attributes\":{},\"id\":\"1118\",\"type\":\"HelpTool\"},{\"attributes\":{\"end\":4.2},\"id\":\"1004\",\"type\":\"Range1d\"},{\"attributes\":{\"axis\":{\"id\":\"1109\"},\"coordinates\":null,\"dimension\":1,\"group\":null,\"ticker\":null},\"id\":\"1112\",\"type\":\"Grid\"},{\"attributes\":{\"fill_alpha\":{\"value\":0.1},\"fill_color\":{\"value\":\"#90bd31\"},\"hatch_alpha\":{\"value\":0.1},\"hatch_color\":{\"value\":\"#90bd31\"},\"line_alpha\":{\"value\":0.1},\"line_color\":{\"value\":\"#90bd31\"},\"line_width\":{\"value\":2},\"x\":{\"field\":\"x\"},\"y\":{\"field\":\"y\"}},\"id\":\"1361\",\"type\":\"Circle\"},{\"attributes\":{},\"id\":\"1048\",\"type\":\"BasicTicker\"},{\"attributes\":{\"data\":{\"x\":{\"__ndarray__\":\"AAAAAAAA0D9VVVVVVVXVPwAAAAAAAOA/AAAAAAAA8D8AAAAAAAAAQAAAAAAAAAhAAAAAAAAAEEA=\",\"dtype\":\"float64\",\"order\":\"little\",\"shape\":[7]},\"y\":{\"__ndarray__\":\"0h6E/kE3/D/J9s29/WT6P794UAVr6vc/kZuphpxS9z8exYqijeX7P4qrK29PGvc/+bXjQRTy9D8=\",\"dtype\":\"float64\",\"order\":\"little\",\"shape\":[7]}},\"selected\":{\"id\":\"1571\"},\"selection_policy\":{\"id\":\"1570\"}},\"id\":\"1554\",\"type\":\"ColumnDataSource\"},{\"attributes\":{\"data\":{\"x\":{\"__ndarray__\":\"AAAAAAAA0D9VVVVVVVXVPwAAAAAAAOA/AAAAAAAA8D8AAAAAAAAAQAAAAAAAAAhAAAAAAAAAEEA=\",\"dtype\":\"float64\",\"order\":\"little\",\"shape\":[7]},\"y\":{\"__ndarray__\":\"0h6E/kE3/D/J9s29/WT6P794UAVr6vc/kZuphpxS9z8exYqijeX7P4qrK29PGvc/+bXjQRTy9D8=\",\"dtype\":\"float64\",\"order\":\"little\",\"shape\":[7]}},\"selected\":{\"id\":\"1569\"},\"selection_policy\":{\"id\":\"1568\"}},\"id\":\"1548\",\"type\":\"ColumnDataSource\"},{\"attributes\":{\"fill_alpha\":{\"value\":0.2},\"fill_color\":{\"value\":\"#90bd31\"},\"hatch_alpha\":{\"value\":0.2},\"hatch_color\":{\"value\":\"#90bd31\"},\"line_alpha\":{\"value\":0.2},\"line_color\":{\"value\":\"#90bd31\"},\"line_width\":{\"value\":2},\"x\":{\"field\":\"x\"},\"y\":{\"field\":\"y\"}},\"id\":\"1362\",\"type\":\"Circle\"},{\"attributes\":{},\"id\":\"1110\",\"type\":\"BasicTicker\"},{\"attributes\":{\"line_alpha\":0.1,\"line_color\":\"#90bd31\",\"line_width\":2,\"x\":{\"field\":\"x\"},\"y\":{\"field\":\"y\"}},\"id\":\"1550\",\"type\":\"Line\"},{\"attributes\":{},\"id\":\"1117\",\"type\":\"ResetTool\"},{\"attributes\":{\"data\":{\"x\":{\"__ndarray__\":\"AAAAAAAA0D9VVVVVVVXVPwAAAAAAAOA/AAAAAAAA8D8AAAAAAAAAQAAAAAAAAAhAAAAAAAAAEEA=\",\"dtype\":\"float64\",\"order\":\"little\",\"shape\":[7]},\"y\":{\"__ndarray__\":\"vYYZZt1vFUBeQQvWWOgJQAAlJFWeeAFA7s8MrgL0+T9+tGGTEyf4P9HlOaeHvQJAaS4o38jUFUA=\",\"dtype\":\"float64\",\"order\":\"little\",\"shape\":[7]}},\"selected\":{\"id\":\"1374\"},\"selection_policy\":{\"id\":\"1373\"}},\"id\":\"1353\",\"type\":\"ColumnDataSource\"},{\"attributes\":{\"end\":20},\"id\":\"1006\",\"type\":\"Range1d\"},{\"attributes\":{\"fill_alpha\":{\"value\":0.2},\"fill_color\":{\"value\":\"#90bd31\"},\"hatch_alpha\":{\"value\":0.2},\"hatch_color\":{\"value\":\"#90bd31\"},\"line_alpha\":{\"value\":0.2},\"line_color\":{\"value\":\"#90bd31\"},\"line_width\":{\"value\":2},\"x\":{\"field\":\"x\"},\"y\":{\"field\":\"y\"}},\"id\":\"1557\",\"type\":\"Circle\"},{\"attributes\":{\"bottom_units\":\"screen\",\"coordinates\":null,\"fill_alpha\":0.5,\"fill_color\":\"lightgrey\",\"group\":null,\"left_units\":\"screen\",\"level\":\"overlay\",\"line_alpha\":1.0,\"line_color\":\"black\",\"line_dash\":[4,4],\"line_width\":2,\"right_units\":\"screen\",\"syncable\":false,\"top_units\":\"screen\"},\"id\":\"1119\",\"type\":\"BoxAnnotation\"},{\"attributes\":{\"source\":{\"id\":\"1554\"}},\"id\":\"1559\",\"type\":\"CDSView\"},{\"attributes\":{\"fill_alpha\":{\"value\":0.1},\"fill_color\":{\"value\":\"#90bd31\"},\"hatch_alpha\":{\"value\":0.1},\"hatch_color\":{\"value\":\"#90bd31\"},\"line_alpha\":{\"value\":0.1},\"line_color\":{\"value\":\"#90bd31\"},\"line_width\":{\"value\":2},\"x\":{\"field\":\"x\"},\"y\":{\"field\":\"y\"}},\"id\":\"1556\",\"type\":\"Circle\"},{\"attributes\":{\"data\":{\"x\":{\"__ndarray__\":\"AAAAAAAA0D9VVVVVVVXVPwAAAAAAAOA/AAAAAAAA8D8AAAAAAAAAQAAAAAAAAAhAAAAAAAAAEEA=\",\"dtype\":\"float64\",\"order\":\"little\",\"shape\":[7]},\"y\":{\"__ndarray__\":\"5D8r4bnHIEBuvycjHyYZQNbznERSTwlAnLpCFaUB+D8MhuTQWnzsPyXz84T3AOk/iM61atoV6T8=\",\"dtype\":\"float64\",\"order\":\"little\",\"shape\":[7]}},\"selected\":{\"id\":\"1179\"},\"selection_policy\":{\"id\":\"1178\"}},\"id\":\"1158\",\"type\":\"ColumnDataSource\"},{\"attributes\":{},\"id\":\"1039\",\"type\":\"LinearScale\"},{\"attributes\":{},\"id\":\"1564\",\"type\":\"AllLabels\"},{\"attributes\":{},\"id\":\"1149\",\"type\":\"HelpTool\"},{\"attributes\":{},\"id\":\"1055\",\"type\":\"ResetTool\"},{\"attributes\":{},\"id\":\"1144\",\"type\":\"PanTool\"},{\"attributes\":{\"coordinates\":null,\"data_source\":{\"id\":\"1359\"},\"glyph\":{\"id\":\"1360\"},\"group\":null,\"hover_glyph\":null,\"muted_glyph\":{\"id\":\"1362\"},\"nonselection_glyph\":{\"id\":\"1361\"},\"view\":{\"id\":\"1364\"}},\"id\":\"1363\",\"type\":\"GlyphRenderer\"},{\"attributes\":{\"overlay\":{\"id\":\"1150\"}},\"id\":\"1146\",\"type\":\"BoxZoomTool\"},{\"attributes\":{},\"id\":\"1041\",\"type\":\"LinearScale\"},{\"attributes\":{\"coordinates\":null,\"data_source\":{\"id\":\"1554\"},\"glyph\":{\"id\":\"1555\"},\"group\":null,\"hover_glyph\":null,\"muted_glyph\":{\"id\":\"1557\"},\"nonselection_glyph\":{\"id\":\"1556\"},\"view\":{\"id\":\"1559\"}},\"id\":\"1558\",\"type\":\"GlyphRenderer\"},{\"attributes\":{},\"id\":\"1563\",\"type\":\"BasicTickFormatter\"},{\"attributes\":{},\"id\":\"1147\",\"type\":\"SaveTool\"},{\"attributes\":{},\"id\":\"1148\",\"type\":\"ResetTool\"},{\"attributes\":{\"line_alpha\":0.1,\"line_color\":\"#90bd31\",\"line_width\":2,\"x\":{\"field\":\"x\"},\"y\":{\"field\":\"y\"}},\"id\":\"1745\",\"type\":\"Line\"},{\"attributes\":{},\"id\":\"1054\",\"type\":\"SaveTool\"},{\"attributes\":{\"fill_color\":{\"value\":\"#90bd31\"},\"hatch_color\":{\"value\":\"#90bd31\"},\"line_color\":{\"value\":\"#90bd31\"},\"line_width\":{\"value\":2},\"x\":{\"field\":\"x\"},\"y\":{\"field\":\"y\"}},\"id\":\"1555\",\"type\":\"Circle\"},{\"attributes\":{\"line_alpha\":0.2,\"line_color\":\"#90bd31\",\"line_width\":2,\"x\":{\"field\":\"x\"},\"y\":{\"field\":\"y\"}},\"id\":\"1551\",\"type\":\"Line\"},{\"attributes\":{\"below\":[{\"id\":\"1074\"}],\"center\":[{\"id\":\"1077\"},{\"id\":\"1081\"}],\"height\":115,\"left\":[{\"id\":\"1078\"}],\"output_backend\":\"svg\",\"renderers\":[{\"id\":\"1552\"},{\"id\":\"1558\"}],\"title\":{\"id\":\"1560\"},\"toolbar\":{\"id\":\"1089\"},\"width\":144,\"x_range\":{\"id\":\"1066\"},\"x_scale\":{\"id\":\"1070\"},\"y_range\":{\"id\":\"1068\"},\"y_scale\":{\"id\":\"1072\"}},\"id\":\"1065\",\"subtype\":\"Figure\",\"type\":\"Plot\"},{\"attributes\":{\"line_alpha\":0.2,\"line_color\":\"#90bd31\",\"line_width\":2,\"x\":{\"field\":\"x\"},\"y\":{\"field\":\"y\"}},\"id\":\"1746\",\"type\":\"Line\"},{\"attributes\":{\"coordinates\":null,\"group\":null},\"id\":\"1365\",\"type\":\"Title\"},{\"attributes\":{\"coordinates\":null,\"group\":null},\"id\":\"1950\",\"type\":\"Title\"},{\"attributes\":{},\"id\":\"1173\",\"type\":\"BasicTickFormatter\"},{\"attributes\":{},\"id\":\"1010\",\"type\":\"LinearScale\"},{\"attributes\":{},\"id\":\"1174\",\"type\":\"AllLabels\"},{\"attributes\":{\"coordinates\":null,\"formatter\":{\"id\":\"1956\"},\"group\":null,\"major_label_policy\":{\"id\":\"1957\"},\"major_label_text_font_size\":\"10pt\",\"ticker\":{\"id\":\"1137\"}},\"id\":\"1136\",\"type\":\"LinearAxis\"},{\"attributes\":{},\"id\":\"1176\",\"type\":\"BasicTickFormatter\"},{\"attributes\":{\"bottom_units\":\"screen\",\"coordinates\":null,\"fill_alpha\":0.5,\"fill_color\":\"lightgrey\",\"group\":null,\"left_units\":\"screen\",\"level\":\"overlay\",\"line_alpha\":1.0,\"line_color\":\"black\",\"line_dash\":[4,4],\"line_width\":2,\"right_units\":\"screen\",\"syncable\":false,\"top_units\":\"screen\"},\"id\":\"1088\",\"type\":\"BoxAnnotation\"},{\"attributes\":{\"coordinates\":null,\"data_source\":{\"id\":\"1749\"},\"glyph\":{\"id\":\"1750\"},\"group\":null,\"hover_glyph\":null,\"muted_glyph\":{\"id\":\"1752\"},\"nonselection_glyph\":{\"id\":\"1751\"},\"view\":{\"id\":\"1754\"}},\"id\":\"1753\",\"type\":\"GlyphRenderer\"},{\"attributes\":{\"coordinates\":null,\"formatter\":{\"id\":\"1371\"},\"group\":null,\"major_label_policy\":{\"id\":\"1372\"},\"major_label_text_font_size\":\"10pt\",\"ticker\":{\"id\":\"1044\"}},\"id\":\"1043\",\"type\":\"LinearAxis\"},{\"attributes\":{},\"id\":\"1056\",\"type\":\"HelpTool\"}],\"root_ids\":[\"2133\"]},\"title\":\"Bokeh Application\",\"version\":\"2.4.1\"}};\n",
       "  const render_items = [{\"docid\":\"06bef541-6651-4e4f-a561-7d75de4f54ec\",\"root_ids\":[\"2133\"],\"roots\":{\"2133\":\"5eaf9590-cc97-47b6-85cc-23a287822850\"}}];\n",
       "  root.Bokeh.embed.embed_items_notebook(docs_json, render_items);\n",
       "\n",
       "  }\n",
       "  if (root.Bokeh !== undefined) {\n",
       "    embed_document(root);\n",
       "  } else {\n",
       "    let attempts = 0;\n",
       "    const timer = setInterval(function(root) {\n",
       "      if (root.Bokeh !== undefined) {\n",
       "        clearInterval(timer);\n",
       "        embed_document(root);\n",
       "      } else {\n",
       "        attempts++;\n",
       "        if (attempts > 100) {\n",
       "          clearInterval(timer);\n",
       "          console.log(\"Bokeh: ERROR: Unable to run BokehJS code because BokehJS library is missing\");\n",
       "        }\n",
       "      }\n",
       "    }, 10, root)\n",
       "  }\n",
       "})(window);"
      ],
      "application/vnd.bokehjs_exec.v0+json": ""
     },
     "metadata": {
      "application/vnd.bokehjs_exec.v0+json": {
       "id": "2133"
      }
     },
     "output_type": "display_data"
    }
   ],
   "source": [
    "# Set up plots\n",
    "# For two digits 260 by 115 larger and 144 by 115 for half size\n",
    "# For three digits 266 by 115 larger and 150 by 115 for half size\n",
    "fig_size = [144, 115] # for paper size (260/115), half size (144,115), visualize (600/200)\n",
    "\n",
    "x_range = (0, 4.2)\n",
    "y_range = (0, 20)\n",
    "\n",
    "plots = []\n",
    "for i in range(out.shape[0]-1):\n",
    "    #print(i)\n",
    "    plots.append(bokeh.plotting.figure(plot_width=fig_size[0], plot_height=fig_size[1],\n",
    "                          x_range=x_range,y_range=y_range\n",
    "                          ),)\n",
    "    plots[i].axis.major_label_text_font_size = \"10pt\"\n",
    "\n",
    "color=\"#90bd31\"    \n",
    "for i in range(out.shape[0]-1):\n",
    "    plots[i].line(out[0,1:], out[i+1,1:], line_width=2, alpha= 1, line_join=\"bevel\",color=color)\n",
    "    plots[i].circle(out[0,1:], out[i+1,1:], line_width=2, alpha= 1, line_join=\"bevel\",color=color)\n",
    "    #plots[i].xaxis.ticker = list(np.linspace(0,4,5))\n",
    "    #plots[i].x_range = Range1d(0, 4)\n",
    "    plots[i].output_backend = \"svg\"\n",
    "    export_svgs(plots[i],filename=\"fig/Sensitivity_Param_\" + str(out[i+1,0]) + \".svg\")\n",
    "\n",
    "bokeh.io.show(bokeh.layouts.row(plots))"
   ]
  },
  {
   "cell_type": "code",
   "execution_count": null,
   "metadata": {
    "id": "-4WweYMlCLkN"
   },
   "outputs": [],
   "source": []
  }
 ],
 "metadata": {
  "colab": {
   "collapsed_sections": [],
   "name": "Oscillator_NF_Design.ipynb",
   "provenance": []
  },
  "kernelspec": {
   "display_name": "Python 3 (ipykernel)",
   "language": "python",
   "name": "python3"
  },
  "language_info": {
   "codemirror_mode": {
    "name": "ipython",
    "version": 3
   },
   "file_extension": ".py",
   "mimetype": "text/x-python",
   "name": "python",
   "nbconvert_exporter": "python",
   "pygments_lexer": "ipython3",
   "version": "3.9.7"
  }
 },
 "nbformat": 4,
 "nbformat_minor": 4
}
