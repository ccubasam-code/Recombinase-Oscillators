{
 "cells": [
  {
   "cell_type": "markdown",
   "metadata": {
    "id": "knIklix4oThN"
   },
   "source": [
    "# Stochastic Analysis of a simple recombinase-based oscillator\n",
    "\n",
    "In this Jupyterbook, we implement the Gilleaspy algorithm of a recombinase-based oscillator at a single copy "
   ]
  },
  {
   "cell_type": "code",
   "execution_count": 15,
   "metadata": {
    "colab": {
     "base_uri": "https://localhost:8080/"
    },
    "executionInfo": {
     "elapsed": 29015,
     "status": "ok",
     "timestamp": 1652456038646,
     "user": {
      "displayName": "Christian Cuba",
      "userId": "05812622177105967845"
     },
     "user_tz": 240
    },
    "id": "lHy71zVrtgCI",
    "outputId": "911deee4-fd9a-4182-c44e-b385b5df13ca"
   },
   "outputs": [
    {
     "data": {
      "text/html": [
       "\n",
       "    <div class=\"bk-root\">\n",
       "        <a href=\"https://bokeh.org\" target=\"_blank\" class=\"bk-logo bk-logo-small bk-logo-notebook\"></a>\n",
       "        <span id=\"9173\">Loading BokehJS ...</span>\n",
       "    </div>"
      ]
     },
     "metadata": {},
     "output_type": "display_data"
    },
    {
     "data": {
      "application/javascript": [
       "\n",
       "(function(root) {\n",
       "  function now() {\n",
       "    return new Date();\n",
       "  }\n",
       "\n",
       "  const force = true;\n",
       "\n",
       "  if (typeof root._bokeh_onload_callbacks === \"undefined\" || force === true) {\n",
       "    root._bokeh_onload_callbacks = [];\n",
       "    root._bokeh_is_loading = undefined;\n",
       "  }\n",
       "\n",
       "  const JS_MIME_TYPE = 'application/javascript';\n",
       "  const HTML_MIME_TYPE = 'text/html';\n",
       "  const EXEC_MIME_TYPE = 'application/vnd.bokehjs_exec.v0+json';\n",
       "  const CLASS_NAME = 'output_bokeh rendered_html';\n",
       "\n",
       "  /**\n",
       "   * Render data to the DOM node\n",
       "   */\n",
       "  function render(props, node) {\n",
       "    const script = document.createElement(\"script\");\n",
       "    node.appendChild(script);\n",
       "  }\n",
       "\n",
       "  /**\n",
       "   * Handle when an output is cleared or removed\n",
       "   */\n",
       "  function handleClearOutput(event, handle) {\n",
       "    const cell = handle.cell;\n",
       "\n",
       "    const id = cell.output_area._bokeh_element_id;\n",
       "    const server_id = cell.output_area._bokeh_server_id;\n",
       "    // Clean up Bokeh references\n",
       "    if (id != null && id in Bokeh.index) {\n",
       "      Bokeh.index[id].model.document.clear();\n",
       "      delete Bokeh.index[id];\n",
       "    }\n",
       "\n",
       "    if (server_id !== undefined) {\n",
       "      // Clean up Bokeh references\n",
       "      const cmd_clean = \"from bokeh.io.state import curstate; print(curstate().uuid_to_server['\" + server_id + \"'].get_sessions()[0].document.roots[0]._id)\";\n",
       "      cell.notebook.kernel.execute(cmd_clean, {\n",
       "        iopub: {\n",
       "          output: function(msg) {\n",
       "            const id = msg.content.text.trim();\n",
       "            if (id in Bokeh.index) {\n",
       "              Bokeh.index[id].model.document.clear();\n",
       "              delete Bokeh.index[id];\n",
       "            }\n",
       "          }\n",
       "        }\n",
       "      });\n",
       "      // Destroy server and session\n",
       "      const cmd_destroy = \"import bokeh.io.notebook as ion; ion.destroy_server('\" + server_id + \"')\";\n",
       "      cell.notebook.kernel.execute(cmd_destroy);\n",
       "    }\n",
       "  }\n",
       "\n",
       "  /**\n",
       "   * Handle when a new output is added\n",
       "   */\n",
       "  function handleAddOutput(event, handle) {\n",
       "    const output_area = handle.output_area;\n",
       "    const output = handle.output;\n",
       "\n",
       "    // limit handleAddOutput to display_data with EXEC_MIME_TYPE content only\n",
       "    if ((output.output_type != \"display_data\") || (!Object.prototype.hasOwnProperty.call(output.data, EXEC_MIME_TYPE))) {\n",
       "      return\n",
       "    }\n",
       "\n",
       "    const toinsert = output_area.element.find(\".\" + CLASS_NAME.split(' ')[0]);\n",
       "\n",
       "    if (output.metadata[EXEC_MIME_TYPE][\"id\"] !== undefined) {\n",
       "      toinsert[toinsert.length - 1].firstChild.textContent = output.data[JS_MIME_TYPE];\n",
       "      // store reference to embed id on output_area\n",
       "      output_area._bokeh_element_id = output.metadata[EXEC_MIME_TYPE][\"id\"];\n",
       "    }\n",
       "    if (output.metadata[EXEC_MIME_TYPE][\"server_id\"] !== undefined) {\n",
       "      const bk_div = document.createElement(\"div\");\n",
       "      bk_div.innerHTML = output.data[HTML_MIME_TYPE];\n",
       "      const script_attrs = bk_div.children[0].attributes;\n",
       "      for (let i = 0; i < script_attrs.length; i++) {\n",
       "        toinsert[toinsert.length - 1].firstChild.setAttribute(script_attrs[i].name, script_attrs[i].value);\n",
       "        toinsert[toinsert.length - 1].firstChild.textContent = bk_div.children[0].textContent\n",
       "      }\n",
       "      // store reference to server id on output_area\n",
       "      output_area._bokeh_server_id = output.metadata[EXEC_MIME_TYPE][\"server_id\"];\n",
       "    }\n",
       "  }\n",
       "\n",
       "  function register_renderer(events, OutputArea) {\n",
       "\n",
       "    function append_mime(data, metadata, element) {\n",
       "      // create a DOM node to render to\n",
       "      const toinsert = this.create_output_subarea(\n",
       "        metadata,\n",
       "        CLASS_NAME,\n",
       "        EXEC_MIME_TYPE\n",
       "      );\n",
       "      this.keyboard_manager.register_events(toinsert);\n",
       "      // Render to node\n",
       "      const props = {data: data, metadata: metadata[EXEC_MIME_TYPE]};\n",
       "      render(props, toinsert[toinsert.length - 1]);\n",
       "      element.append(toinsert);\n",
       "      return toinsert\n",
       "    }\n",
       "\n",
       "    /* Handle when an output is cleared or removed */\n",
       "    events.on('clear_output.CodeCell', handleClearOutput);\n",
       "    events.on('delete.Cell', handleClearOutput);\n",
       "\n",
       "    /* Handle when a new output is added */\n",
       "    events.on('output_added.OutputArea', handleAddOutput);\n",
       "\n",
       "    /**\n",
       "     * Register the mime type and append_mime function with output_area\n",
       "     */\n",
       "    OutputArea.prototype.register_mime_type(EXEC_MIME_TYPE, append_mime, {\n",
       "      /* Is output safe? */\n",
       "      safe: true,\n",
       "      /* Index of renderer in `output_area.display_order` */\n",
       "      index: 0\n",
       "    });\n",
       "  }\n",
       "\n",
       "  // register the mime type if in Jupyter Notebook environment and previously unregistered\n",
       "  if (root.Jupyter !== undefined) {\n",
       "    const events = require('base/js/events');\n",
       "    const OutputArea = require('notebook/js/outputarea').OutputArea;\n",
       "\n",
       "    if (OutputArea.prototype.mime_types().indexOf(EXEC_MIME_TYPE) == -1) {\n",
       "      register_renderer(events, OutputArea);\n",
       "    }\n",
       "  }\n",
       "\n",
       "  \n",
       "  if (typeof (root._bokeh_timeout) === \"undefined\" || force === true) {\n",
       "    root._bokeh_timeout = Date.now() + 5000;\n",
       "    root._bokeh_failed_load = false;\n",
       "  }\n",
       "\n",
       "  const NB_LOAD_WARNING = {'data': {'text/html':\n",
       "     \"<div style='background-color: #fdd'>\\n\"+\n",
       "     \"<p>\\n\"+\n",
       "     \"BokehJS does not appear to have successfully loaded. If loading BokehJS from CDN, this \\n\"+\n",
       "     \"may be due to a slow or bad network connection. Possible fixes:\\n\"+\n",
       "     \"</p>\\n\"+\n",
       "     \"<ul>\\n\"+\n",
       "     \"<li>re-rerun `output_notebook()` to attempt to load from CDN again, or</li>\\n\"+\n",
       "     \"<li>use INLINE resources instead, as so:</li>\\n\"+\n",
       "     \"</ul>\\n\"+\n",
       "     \"<code>\\n\"+\n",
       "     \"from bokeh.resources import INLINE\\n\"+\n",
       "     \"output_notebook(resources=INLINE)\\n\"+\n",
       "     \"</code>\\n\"+\n",
       "     \"</div>\"}};\n",
       "\n",
       "  function display_loaded() {\n",
       "    const el = document.getElementById(\"9173\");\n",
       "    if (el != null) {\n",
       "      el.textContent = \"BokehJS is loading...\";\n",
       "    }\n",
       "    if (root.Bokeh !== undefined) {\n",
       "      if (el != null) {\n",
       "        el.textContent = \"BokehJS \" + root.Bokeh.version + \" successfully loaded.\";\n",
       "      }\n",
       "    } else if (Date.now() < root._bokeh_timeout) {\n",
       "      setTimeout(display_loaded, 100)\n",
       "    }\n",
       "  }\n",
       "\n",
       "\n",
       "  function run_callbacks() {\n",
       "    try {\n",
       "      root._bokeh_onload_callbacks.forEach(function(callback) {\n",
       "        if (callback != null)\n",
       "          callback();\n",
       "      });\n",
       "    } finally {\n",
       "      delete root._bokeh_onload_callbacks\n",
       "    }\n",
       "    console.debug(\"Bokeh: all callbacks have finished\");\n",
       "  }\n",
       "\n",
       "  function load_libs(css_urls, js_urls, callback) {\n",
       "    if (css_urls == null) css_urls = [];\n",
       "    if (js_urls == null) js_urls = [];\n",
       "\n",
       "    root._bokeh_onload_callbacks.push(callback);\n",
       "    if (root._bokeh_is_loading > 0) {\n",
       "      console.debug(\"Bokeh: BokehJS is being loaded, scheduling callback at\", now());\n",
       "      return null;\n",
       "    }\n",
       "    if (js_urls == null || js_urls.length === 0) {\n",
       "      run_callbacks();\n",
       "      return null;\n",
       "    }\n",
       "    console.debug(\"Bokeh: BokehJS not loaded, scheduling load and callback at\", now());\n",
       "    root._bokeh_is_loading = css_urls.length + js_urls.length;\n",
       "\n",
       "    function on_load() {\n",
       "      root._bokeh_is_loading--;\n",
       "      if (root._bokeh_is_loading === 0) {\n",
       "        console.debug(\"Bokeh: all BokehJS libraries/stylesheets loaded\");\n",
       "        run_callbacks()\n",
       "      }\n",
       "    }\n",
       "\n",
       "    function on_error(url) {\n",
       "      console.error(\"failed to load \" + url);\n",
       "    }\n",
       "\n",
       "    for (let i = 0; i < css_urls.length; i++) {\n",
       "      const url = css_urls[i];\n",
       "      const element = document.createElement(\"link\");\n",
       "      element.onload = on_load;\n",
       "      element.onerror = on_error.bind(null, url);\n",
       "      element.rel = \"stylesheet\";\n",
       "      element.type = \"text/css\";\n",
       "      element.href = url;\n",
       "      console.debug(\"Bokeh: injecting link tag for BokehJS stylesheet: \", url);\n",
       "      document.body.appendChild(element);\n",
       "    }\n",
       "\n",
       "    for (let i = 0; i < js_urls.length; i++) {\n",
       "      const url = js_urls[i];\n",
       "      const element = document.createElement('script');\n",
       "      element.onload = on_load;\n",
       "      element.onerror = on_error.bind(null, url);\n",
       "      element.async = false;\n",
       "      element.src = url;\n",
       "      console.debug(\"Bokeh: injecting script tag for BokehJS library: \", url);\n",
       "      document.head.appendChild(element);\n",
       "    }\n",
       "  };\n",
       "\n",
       "  function inject_raw_css(css) {\n",
       "    const element = document.createElement(\"style\");\n",
       "    element.appendChild(document.createTextNode(css));\n",
       "    document.body.appendChild(element);\n",
       "  }\n",
       "\n",
       "  \n",
       "  const js_urls = [\"https://cdn.bokeh.org/bokeh/release/bokeh-2.4.1.min.js\", \"https://cdn.bokeh.org/bokeh/release/bokeh-gl-2.4.1.min.js\", \"https://cdn.bokeh.org/bokeh/release/bokeh-widgets-2.4.1.min.js\", \"https://cdn.bokeh.org/bokeh/release/bokeh-tables-2.4.1.min.js\", \"https://cdn.bokeh.org/bokeh/release/bokeh-mathjax-2.4.1.min.js\"];\n",
       "  const css_urls = [];\n",
       "  \n",
       "\n",
       "  const inline_js = [\n",
       "    function(Bokeh) {\n",
       "      Bokeh.set_log_level(\"info\");\n",
       "    },\n",
       "    function(Bokeh) {\n",
       "    \n",
       "    \n",
       "    }\n",
       "  ];\n",
       "\n",
       "  function run_inline_js() {\n",
       "    \n",
       "    if (root.Bokeh !== undefined || force === true) {\n",
       "      \n",
       "    for (let i = 0; i < inline_js.length; i++) {\n",
       "      inline_js[i].call(root, root.Bokeh);\n",
       "    }\n",
       "    if (force === true) {\n",
       "        display_loaded();\n",
       "      }} else if (Date.now() < root._bokeh_timeout) {\n",
       "      setTimeout(run_inline_js, 100);\n",
       "    } else if (!root._bokeh_failed_load) {\n",
       "      console.log(\"Bokeh: BokehJS failed to load within specified timeout.\");\n",
       "      root._bokeh_failed_load = true;\n",
       "    } else if (force !== true) {\n",
       "      const cell = $(document.getElementById(\"9173\")).parents('.cell').data().cell;\n",
       "      cell.output_area.append_execute_result(NB_LOAD_WARNING)\n",
       "    }\n",
       "\n",
       "  }\n",
       "\n",
       "  if (root._bokeh_is_loading === 0) {\n",
       "    console.debug(\"Bokeh: BokehJS loaded, going straight to plotting\");\n",
       "    run_inline_js();\n",
       "  } else {\n",
       "    load_libs(css_urls, js_urls, function() {\n",
       "      console.debug(\"Bokeh: BokehJS plotting callback run at\", now());\n",
       "      run_inline_js();\n",
       "    });\n",
       "  }\n",
       "}(window));"
      ],
      "application/vnd.bokehjs_load.v0+json": "\n(function(root) {\n  function now() {\n    return new Date();\n  }\n\n  const force = true;\n\n  if (typeof root._bokeh_onload_callbacks === \"undefined\" || force === true) {\n    root._bokeh_onload_callbacks = [];\n    root._bokeh_is_loading = undefined;\n  }\n\n  \n\n  \n  if (typeof (root._bokeh_timeout) === \"undefined\" || force === true) {\n    root._bokeh_timeout = Date.now() + 5000;\n    root._bokeh_failed_load = false;\n  }\n\n  const NB_LOAD_WARNING = {'data': {'text/html':\n     \"<div style='background-color: #fdd'>\\n\"+\n     \"<p>\\n\"+\n     \"BokehJS does not appear to have successfully loaded. If loading BokehJS from CDN, this \\n\"+\n     \"may be due to a slow or bad network connection. Possible fixes:\\n\"+\n     \"</p>\\n\"+\n     \"<ul>\\n\"+\n     \"<li>re-rerun `output_notebook()` to attempt to load from CDN again, or</li>\\n\"+\n     \"<li>use INLINE resources instead, as so:</li>\\n\"+\n     \"</ul>\\n\"+\n     \"<code>\\n\"+\n     \"from bokeh.resources import INLINE\\n\"+\n     \"output_notebook(resources=INLINE)\\n\"+\n     \"</code>\\n\"+\n     \"</div>\"}};\n\n  function display_loaded() {\n    const el = document.getElementById(\"9173\");\n    if (el != null) {\n      el.textContent = \"BokehJS is loading...\";\n    }\n    if (root.Bokeh !== undefined) {\n      if (el != null) {\n        el.textContent = \"BokehJS \" + root.Bokeh.version + \" successfully loaded.\";\n      }\n    } else if (Date.now() < root._bokeh_timeout) {\n      setTimeout(display_loaded, 100)\n    }\n  }\n\n\n  function run_callbacks() {\n    try {\n      root._bokeh_onload_callbacks.forEach(function(callback) {\n        if (callback != null)\n          callback();\n      });\n    } finally {\n      delete root._bokeh_onload_callbacks\n    }\n    console.debug(\"Bokeh: all callbacks have finished\");\n  }\n\n  function load_libs(css_urls, js_urls, callback) {\n    if (css_urls == null) css_urls = [];\n    if (js_urls == null) js_urls = [];\n\n    root._bokeh_onload_callbacks.push(callback);\n    if (root._bokeh_is_loading > 0) {\n      console.debug(\"Bokeh: BokehJS is being loaded, scheduling callback at\", now());\n      return null;\n    }\n    if (js_urls == null || js_urls.length === 0) {\n      run_callbacks();\n      return null;\n    }\n    console.debug(\"Bokeh: BokehJS not loaded, scheduling load and callback at\", now());\n    root._bokeh_is_loading = css_urls.length + js_urls.length;\n\n    function on_load() {\n      root._bokeh_is_loading--;\n      if (root._bokeh_is_loading === 0) {\n        console.debug(\"Bokeh: all BokehJS libraries/stylesheets loaded\");\n        run_callbacks()\n      }\n    }\n\n    function on_error(url) {\n      console.error(\"failed to load \" + url);\n    }\n\n    for (let i = 0; i < css_urls.length; i++) {\n      const url = css_urls[i];\n      const element = document.createElement(\"link\");\n      element.onload = on_load;\n      element.onerror = on_error.bind(null, url);\n      element.rel = \"stylesheet\";\n      element.type = \"text/css\";\n      element.href = url;\n      console.debug(\"Bokeh: injecting link tag for BokehJS stylesheet: \", url);\n      document.body.appendChild(element);\n    }\n\n    for (let i = 0; i < js_urls.length; i++) {\n      const url = js_urls[i];\n      const element = document.createElement('script');\n      element.onload = on_load;\n      element.onerror = on_error.bind(null, url);\n      element.async = false;\n      element.src = url;\n      console.debug(\"Bokeh: injecting script tag for BokehJS library: \", url);\n      document.head.appendChild(element);\n    }\n  };\n\n  function inject_raw_css(css) {\n    const element = document.createElement(\"style\");\n    element.appendChild(document.createTextNode(css));\n    document.body.appendChild(element);\n  }\n\n  \n  const js_urls = [\"https://cdn.bokeh.org/bokeh/release/bokeh-2.4.1.min.js\", \"https://cdn.bokeh.org/bokeh/release/bokeh-gl-2.4.1.min.js\", \"https://cdn.bokeh.org/bokeh/release/bokeh-widgets-2.4.1.min.js\", \"https://cdn.bokeh.org/bokeh/release/bokeh-tables-2.4.1.min.js\", \"https://cdn.bokeh.org/bokeh/release/bokeh-mathjax-2.4.1.min.js\"];\n  const css_urls = [];\n  \n\n  const inline_js = [\n    function(Bokeh) {\n      Bokeh.set_log_level(\"info\");\n    },\n    function(Bokeh) {\n    \n    \n    }\n  ];\n\n  function run_inline_js() {\n    \n    if (root.Bokeh !== undefined || force === true) {\n      \n    for (let i = 0; i < inline_js.length; i++) {\n      inline_js[i].call(root, root.Bokeh);\n    }\n    if (force === true) {\n        display_loaded();\n      }} else if (Date.now() < root._bokeh_timeout) {\n      setTimeout(run_inline_js, 100);\n    } else if (!root._bokeh_failed_load) {\n      console.log(\"Bokeh: BokehJS failed to load within specified timeout.\");\n      root._bokeh_failed_load = true;\n    } else if (force !== true) {\n      const cell = $(document.getElementById(\"9173\")).parents('.cell').data().cell;\n      cell.output_area.append_execute_result(NB_LOAD_WARNING)\n    }\n\n  }\n\n  if (root._bokeh_is_loading === 0) {\n    console.debug(\"Bokeh: BokehJS loaded, going straight to plotting\");\n    run_inline_js();\n  } else {\n    load_libs(css_urls, js_urls, function() {\n      console.debug(\"Bokeh: BokehJS plotting callback run at\", now());\n      run_inline_js();\n    });\n  }\n}(window));"
     },
     "metadata": {},
     "output_type": "display_data"
    }
   ],
   "source": [
    "# Colab setup\n",
    "import os, sys, subprocess\n",
    "if \"google.colab\" in sys.modules:\n",
    "    cmd = \"pip install --upgrade biocircuits bokeh-catplot watermark blackcellmagic\"\n",
    "    process = subprocess.Popen(cmd.split(), stdout=subprocess.PIPE, stderr=subprocess.PIPE)\n",
    "    stdout, stderr = process.communicate()\n",
    "  \n",
    "    from google.colab import drive\n",
    "    drive.mount('/content/drive')\n",
    "    dir = \"/content/drive/My Drive/Research/2022/RecombinaseOscillator/SimpleRecombinase/\"\n",
    "else:\n",
    "    dir = \"/Users/christian/My Drive/Research/2022/RecombinaseOscillator/SimpleRecombinase/\"\n",
    "# ------\n",
    "\n",
    "# This check the number of processors in the computer\n",
    "#% cat /proc/cpuinfo | grep processor | wc -l\n",
    "\n",
    "# % pip install biocircuits bokeh-catplot watermark blackcellmagic\n",
    "import multiprocessing\n",
    "import tqdm\n",
    "\n",
    "import numpy as np\n",
    "import scipy.stats as st\n",
    "import numba\n",
    "import math\n",
    "\n",
    "from scipy.signal import argrelextrema\n",
    "import scipy.fftpack\n",
    "import os.path\n",
    "\n",
    "import biocircuits\n",
    "\n",
    "# Plotting modules\n",
    "import bokeh.io\n",
    "import bokeh.plotting\n",
    "from bokeh.models import LinearColorMapper, ColorBar\n",
    "from bokeh.io import export_svgs\n",
    "from bokeh.models import Range1d\n",
    "\n",
    "bokeh.io.output_notebook()"
   ]
  },
  {
   "cell_type": "code",
   "execution_count": 2,
   "metadata": {
    "executionInfo": {
     "elapsed": 12,
     "status": "ok",
     "timestamp": 1652456038648,
     "user": {
      "displayName": "Christian Cuba",
      "userId": "05812622177105967845"
     },
     "user_tz": 240
    },
    "id": "mBdSOG9ZswrO"
   },
   "outputs": [],
   "source": [
    "def JoinMatrices(A,B):\n",
    "    n1, m1 = A.shape\n",
    "    n2, m2 = B.shape\n",
    "    ZA = np.zeros((n1,m2))\n",
    "    ZB = np.zeros((n2,m1))\n",
    "    tmp1 = np.hstack((A,ZA))\n",
    "    tmp2 = np.hstack((ZB,B)) \n",
    "    return np.vstack((tmp1,tmp2))"
   ]
  },
  {
   "cell_type": "code",
   "execution_count": 3,
   "metadata": {
    "executionInfo": {
     "elapsed": 10,
     "status": "ok",
     "timestamp": 1652456038648,
     "user": {
      "displayName": "Christian Cuba",
      "userId": "05812622177105967845"
     },
     "user_tz": 240
    },
    "id": "lZiIkHTMuCdq"
   },
   "outputs": [],
   "source": [
    "# Stoichiometry  matrix of a single switch\n",
    "# R00, R10, R01, R11\n",
    "S1 = np.array(\n",
    "    [\n",
    "     [-1, 1, 0, 0],  # R00 -> R10\n",
    "     [ 1, -1, 0, 0], # R10 -> R00 \n",
    "     [ 0, -1, 0, 1], # R10 -> R11\n",
    "     [ 0, 1, 0, -1], # R11 -> R10\n",
    "\n",
    "     [-1, 0, 1, 0],  # R00 -> R01\n",
    "     [ 1, 0, -1, 0], # R01 -> R00 \n",
    "     [ 0, 0, -1, 1], # R01 -> R11\n",
    "     [ 0, 0, 1, -1], # R11 -> R01 \n",
    "\n",
    "     [ 0, 0,  0, -1], # R11 -> L00\n",
    "    ],\n",
    "    dtype=int,\n",
    ")\n",
    "# Stoichiometry  matrix of two switches\n",
    "S2 = JoinMatrices(S1,S1)\n",
    "S2[8,4] = 1\n",
    "S2[17,0] = 1\n",
    "#print(S2)"
   ]
  },
  {
   "cell_type": "code",
   "execution_count": 4,
   "metadata": {
    "colab": {
     "base_uri": "https://localhost:8080/"
    },
    "executionInfo": {
     "elapsed": 10,
     "status": "ok",
     "timestamp": 1652456038649,
     "user": {
      "displayName": "Christian Cuba",
      "userId": "05812622177105967845"
     },
     "user_tz": 240
    },
    "id": "e_Siugd85ioK",
    "outputId": "afb8d004-138b-4c0a-b5ee-50df6077353d"
   },
   "outputs": [
    {
     "data": {
      "text/plain": [
       "(35, 15)"
      ]
     },
     "execution_count": 4,
     "metadata": {},
     "output_type": "execute_result"
    }
   ],
   "source": [
    "# Stoichiometry  matrix of transcription and translation\n",
    "# m1, x1, y1, m2, x2, y2, c\n",
    "S3 = np.array(\n",
    "    [\n",
    "     [ 1, 0, 0, 0, 0, 0, 0], # m1 production (TX)\n",
    "     [-1, 0, 0, 0, 0, 0, 0], # m1 decay\n",
    "     [ 0, 1, 0, 0, 0, 0, 0], # x1 production (TL)\n",
    "     [ 0,-1, 0, 0, 0, 0, 0], # x1 decay\n",
    "     [ 0,-2, 1, 0, 0, 0, 0], # y1 production (dimerization)\n",
    "     [ 0, 2,-1, 0, 0, 0, 0], # y1 dissociation\n",
    "     [ 0, 0,-1, 0, 0, 0, 0], # y1 decay\n",
    "\n",
    "     [ 0, 0, 0, 1, 0, 0, 0], # m2 production (TX)\n",
    "     [ 0, 0, 0,-1, 0, 0, 0], # m2 decay\n",
    "     [ 0, 0, 0, 0, 1, 0, 0], # x2 production (TL)\n",
    "     [ 0, 0, 0, 0,-1, 0, 0], # x2 decay\n",
    "     [ 0, 0, 0, 0,-2, 1, 0], # y2 production (dimerization)\n",
    "     [ 0, 0, 0, 0, 2,-1, 0], # y2 dissociation\n",
    "     [ 0, 0, 0, 0, 0,-1, 0], # y2 decay\n",
    "\n",
    "     [ 0,-1, 0, 0,-1, 0, 1], # c production (heterodimer formation)\n",
    "     [ 0, 1, 0, 0, 1, 0,-1], # c heterodimer dissociation\n",
    "     [ 0, 0, 0, 0, 0, 0,-1], # c decay\n",
    "    ],\n",
    "    dtype=int,\n",
    ")\n",
    "# Stoichiometry  matrix of two switches\n",
    "simple_update = JoinMatrices(S2,S3)\n",
    "# Updating the consumption of recombinase in the switches\n",
    "S0 = np.array(\n",
    "    [\n",
    "     [-1, 1, -1, 1,-1, 1, -1, 1, 2],  # R00 -> R10\n",
    "    ],\n",
    "    dtype=int,\n",
    ")\n",
    "simple_update[0:9,10] = S0\n",
    "simple_update[9:18,13] = S0\n",
    "\n",
    "#print(simple_update)\n",
    "simple_update.shape"
   ]
  },
  {
   "cell_type": "code",
   "execution_count": 5,
   "metadata": {
    "executionInfo": {
     "elapsed": 170,
     "status": "ok",
     "timestamp": 1652456049622,
     "user": {
      "displayName": "Christian Cuba",
      "userId": "05812622177105967845"
     },
     "user_tz": 240
    },
    "id": "q1mIj035Nts5"
   },
   "outputs": [],
   "source": [
    "def simple_propensity(propensities, x, t, th, rh, ph, d, g, gd, a0, d0, r, Omega, n):\n",
    "    #x, y, c = population\n",
    "    # Switch 1 (Promoter pointing to the right R)\n",
    "    propensities[0] = a0 * x[0] * x[10]  / Omega # R00 -> R10\n",
    "    propensities[1] = d0 * x[1] # R10 -> R00\n",
    "    propensities[2] = a0 * x[1] * x[10]  / Omega # R10 -> R11\n",
    "    propensities[3] = d0 * x[3] # R11 -> R10\n",
    "    propensities[4] = a0 * x[0] * x[10]  / Omega # R00 -> R01\n",
    "    propensities[5] = d0 * x[2] # R01 -> R00\n",
    "    propensities[6] = a0 * x[2] * x[10]  / Omega # R01 -> R11\n",
    "    propensities[7] = d0 * x[3] # R11 -> R01\n",
    "    propensities[8] = r * x[3] # R11 -> L00\n",
    "\n",
    "    # Switch 2 (Promoter pointing to the left L)\n",
    "    propensities[ 9] = a0 * x[4] * x[13]  / Omega # L00 -> L10\n",
    "    propensities[10] = d0 * x[5] # L10 -> L00\n",
    "    propensities[11] = a0 * x[5] * x[13]  / Omega # R10 -> R11\n",
    "    propensities[12] = d0 * x[7] # R11 -> R10\n",
    "    propensities[13] = a0 * x[4] * x[13]  / Omega # R00 -> R01\n",
    "    propensities[14] = d0 * x[6] # R01 -> R00\n",
    "    propensities[15] = a0 * x[6] * x[13]  / Omega # R01 -> R11\n",
    "    propensities[16] = d0 * x[7] # R11 -> R01\n",
    "    propensities[17] = r * x[7] # R11 -> L00\n",
    "\n",
    "    # TX-TL of recombinase 1\n",
    "    propensities[18] = th * x[0] # R00 -> R00 + M1\n",
    "    propensities[19] = ph * x[8] # M1 -> 0\n",
    "    propensities[20] = rh * x[8] # M1 -> M1 + X1\n",
    "    propensities[21] = d * x[9] # X1 -> 0\n",
    "    propensities[22] = g * x[9] * (x[9]-1)  / 2 / Omega # X1 + X1 -> Y1\n",
    "    propensities[23] = gd * x[10] # Y1 -> X1 + X1\n",
    "    propensities[24] = d * x[10] # Y1 -> 0\n",
    "\n",
    "    # TX-TL of recombinase 2\n",
    "    propensities[25] = th * x[4] # L00 -> L00 + M2\n",
    "    propensities[26] = ph * x[11] # M2 -> 0\n",
    "    propensities[27] = rh * x[11] # M2 -> M2 + X2\n",
    "    propensities[28] = d * x[12] # X2 -> 0\n",
    "    propensities[29] = g * x[12] * (x[12]-1)  / 2 / Omega # X2 + X2 -> Y2\n",
    "    propensities[30] = gd * x[13] # Y2 -> X2 + X2\n",
    "    propensities[31] = d * x[13] # Y2 -> 0\n",
    "\n",
    "    # Heterodimmer reaction\n",
    "    propensities[32] = g * x[9] * x[12] / Omega # L00 -> L00 + M2\n",
    "    propensities[33] = gd * x[14] # M2 -> 0\n",
    "    propensities[34] = d * x[14] # M2 -> M2 + X2                   "
   ]
  },
  {
   "cell_type": "code",
   "execution_count": 93,
   "metadata": {
    "colab": {
     "base_uri": "https://localhost:8080/",
     "height": 132
    },
    "executionInfo": {
     "elapsed": 1199,
     "status": "ok",
     "timestamp": 1652456126246,
     "user": {
      "displayName": "Christian Cuba",
      "userId": "05812622177105967845"
     },
     "user_tz": 240
    },
    "id": "WPPDzJe6SOOL",
    "outputId": "ef8f3493-7246-4157-d7d2-05a174b3e6b4"
   },
   "outputs": [
    {
     "data": {
      "text/html": [
       "\n",
       "\n",
       "\n",
       "\n",
       "\n",
       "\n",
       "  <div class=\"bk-root\" id=\"292d525a-a4ee-4c79-822a-7151faa452dc\" data-root-id=\"119953\"></div>\n"
      ]
     },
     "metadata": {},
     "output_type": "display_data"
    },
    {
     "data": {
      "application/javascript": [
       "(function(root) {\n",
       "  function embed_document(root) {\n",
       "    \n",
       "  const docs_json = {\"c42f4c40-fc32-4d0c-9645-02adacf1e679\":{\"defs\":[],\"roots\":{\"references\":[{\"attributes\":{\"children\":[{\"id\":\"119910\"}]},\"id\":\"119953\",\"type\":\"Row\"},{\"attributes\":{},\"id\":\"121701\",\"type\":\"UnionRenderers\"},{\"attributes\":{},\"id\":\"121696\",\"type\":\"BasicTickFormatter\"},{\"attributes\":{\"below\":[{\"id\":\"119919\"}],\"center\":[{\"id\":\"119922\"},{\"id\":\"119926\"}],\"height\":200,\"left\":[{\"id\":\"119923\"}],\"renderers\":[{\"id\":\"119945\"},{\"id\":\"119951\"}],\"title\":{\"id\":\"121693\"},\"toolbar\":{\"id\":\"119934\"},\"width\":400,\"x_range\":{\"id\":\"119911\"},\"x_scale\":{\"id\":\"119915\"},\"y_range\":{\"id\":\"119913\"},\"y_scale\":{\"id\":\"119917\"}},\"id\":\"119910\",\"subtype\":\"Figure\",\"type\":\"Plot\"},{\"attributes\":{\"data\":{\"x\":{\"__ndarray__\":\"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\",\"dtype\":\"float64\",\"order\":\"little\",\"shape\":[401]},\"y\":[0,0,0,0,0,0,0,0,0,0,0,0,0,0,0,0,0,0,0,0,0,0,0,0,2,2,7,12,12,11,10,10,8,8,6,5,6,8,7,9,15,21,34,44,52,61,56,50,51,43,35,35,34,29,23,30,33,32,34,36,39,47,48,48,49,48,48,41,37,32,34,34,38,46,52,47,54,58,48,45,45,44,52,48,47,45,39,35,32,28,26,26,21,15,11,10,13,15,14,23,21,22,29,44,47,52,51,53,61,66,56,57,62,62,59,56,52,49,45,41,38,27,21,18,17,21,24,26,31,28,36,39,46,37,42,36,44,38,40,42,40,38,39,32,27,25,25,33,31,29,21,23,21,16,19,18,19,19,18,24,38,42,44,52,51,50,44,39,32,31,31,27,29,27,33,40,45,51,44,38,43,36,33,28,31,35,38,38,38,35,33,37,40,45,42,38,33,36,36,38,39,37,37,33,28,33,29,18,15,11,7,5,5,4,4,4,3,2,2,2,2,2,2,1,1,1,1,0,0,0,0,0,0,0,0,0,0,0,0,0,0,0,0,0,0,0,0,0,0,0,0,0,0,0,0,0,0,0,0,0,0,0,0,0,0,0,0,0,0,0,0,0,0,0,0,0,0,0,0,0,0,0,0,0,0,0,0,0,0,0,0,0,0,0,0,0,0,0,3,7,12,27,31,33,36,31,29,23,25,26,28,36,41,37,39,38,39,34,30,30,29,25,23,17,15,13,11,10,7,5,3,3,3,3,2,1,1,1,1,1,1,1,1,6,12,16,23,33,42,52,64,65,70,68,68,58,50,45,38,32,33,29,24,23,22,25,28,27,29,32,37,31,27,21,28,36,40,36,31,27,18,16,11,8,8,7,4,4,3,3,3,1,1,1,0,0,0,0,0,0,0]},\"selected\":{\"id\":\"121704\"},\"selection_policy\":{\"id\":\"121703\"}},\"id\":\"119947\",\"type\":\"ColumnDataSource\"},{\"attributes\":{\"line_alpha\":0.1,\"line_color\":\"orange\",\"line_width\":2,\"x\":{\"field\":\"x\"},\"y\":{\"field\":\"y\"}},\"id\":\"119949\",\"type\":\"Step\"},{\"attributes\":{\"line_alpha\":0.2,\"line_color\":\"orange\",\"line_width\":2,\"x\":{\"field\":\"x\"},\"y\":{\"field\":\"y\"}},\"id\":\"119950\",\"type\":\"Step\"},{\"attributes\":{\"coordinates\":null,\"data_source\":{\"id\":\"119947\"},\"glyph\":{\"id\":\"119948\"},\"group\":null,\"hover_glyph\":null,\"muted_glyph\":{\"id\":\"119950\"},\"nonselection_glyph\":{\"id\":\"119949\"},\"view\":{\"id\":\"119952\"}},\"id\":\"119951\",\"type\":\"GlyphRenderer\"},{\"attributes\":{},\"id\":\"121699\",\"type\":\"BasicTickFormatter\"},{\"attributes\":{\"coordinates\":null,\"group\":null},\"id\":\"121693\",\"type\":\"Title\"},{\"attributes\":{},\"id\":\"119913\",\"type\":\"DataRange1d\"},{\"attributes\":{},\"id\":\"121703\",\"type\":\"UnionRenderers\"},{\"attributes\":{},\"id\":\"119911\",\"type\":\"DataRange1d\"},{\"attributes\":{\"coordinates\":null,\"formatter\":{\"id\":\"121699\"},\"group\":null,\"major_label_policy\":{\"id\":\"121700\"},\"major_label_text_font_size\":\"10pt\",\"ticker\":{\"id\":\"119920\"}},\"id\":\"119919\",\"type\":\"LinearAxis\"},{\"attributes\":{\"line_alpha\":0.2,\"line_color\":\"grey\",\"line_width\":2,\"x\":{\"field\":\"x\"},\"y\":{\"field\":\"y\"}},\"id\":\"119944\",\"type\":\"Step\"},{\"attributes\":{},\"id\":\"121697\",\"type\":\"AllLabels\"},{\"attributes\":{\"source\":{\"id\":\"119947\"}},\"id\":\"119952\",\"type\":\"CDSView\"},{\"attributes\":{},\"id\":\"119915\",\"type\":\"LinearScale\"},{\"attributes\":{},\"id\":\"121700\",\"type\":\"AllLabels\"},{\"attributes\":{},\"id\":\"119924\",\"type\":\"BasicTicker\"},{\"attributes\":{\"line_alpha\":0.1,\"line_color\":\"grey\",\"line_width\":2,\"x\":{\"field\":\"x\"},\"y\":{\"field\":\"y\"}},\"id\":\"119943\",\"type\":\"Step\"},{\"attributes\":{},\"id\":\"119920\",\"type\":\"BasicTicker\"},{\"attributes\":{\"coordinates\":null,\"data_source\":{\"id\":\"119941\"},\"glyph\":{\"id\":\"119942\"},\"group\":null,\"hover_glyph\":null,\"muted_glyph\":{\"id\":\"119944\"},\"nonselection_glyph\":{\"id\":\"119943\"},\"view\":{\"id\":\"119946\"}},\"id\":\"119945\",\"type\":\"GlyphRenderer\"},{\"attributes\":{},\"id\":\"121704\",\"type\":\"Selection\"},{\"attributes\":{\"source\":{\"id\":\"119941\"}},\"id\":\"119946\",\"type\":\"CDSView\"},{\"attributes\":{\"overlay\":{\"id\":\"119933\"}},\"id\":\"119929\",\"type\":\"BoxZoomTool\"},{\"attributes\":{},\"id\":\"119931\",\"type\":\"ResetTool\"},{\"attributes\":{\"line_color\":\"orange\",\"line_width\":2,\"x\":{\"field\":\"x\"},\"y\":{\"field\":\"y\"}},\"id\":\"119948\",\"type\":\"Step\"},{\"attributes\":{\"axis\":{\"id\":\"119923\"},\"coordinates\":null,\"dimension\":1,\"group\":null,\"ticker\":null},\"id\":\"119926\",\"type\":\"Grid\"},{\"attributes\":{},\"id\":\"119928\",\"type\":\"WheelZoomTool\"},{\"attributes\":{\"coordinates\":null,\"formatter\":{\"id\":\"121696\"},\"group\":null,\"major_label_policy\":{\"id\":\"121697\"},\"major_label_text_font_size\":\"10pt\",\"ticker\":{\"id\":\"119924\"}},\"id\":\"119923\",\"type\":\"LinearAxis\"},{\"attributes\":{},\"id\":\"119927\",\"type\":\"PanTool\"},{\"attributes\":{\"axis\":{\"id\":\"119919\"},\"coordinates\":null,\"group\":null,\"ticker\":null},\"id\":\"119922\",\"type\":\"Grid\"},{\"attributes\":{},\"id\":\"119930\",\"type\":\"SaveTool\"},{\"attributes\":{\"data\":{\"x\":{\"__ndarray__\":\"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\",\"dtype\":\"float64\",\"order\":\"little\",\"shape\":[401]},\"y\":[0,0,0,2,5,12,17,21,28,37,47,58,65,72,74,68,67,63,64,56,48,44,45,42,37,36,34,24,20,20,16,17,15,16,13,10,7,6,4,4,3,3,3,2,1,1,1,1,0,0,0,0,0,0,0,0,0,0,0,0,0,0,0,0,0,0,0,0,0,0,0,0,0,0,0,0,0,0,0,0,0,0,0,0,0,0,0,0,0,0,0,0,0,0,0,0,0,0,0,0,0,0,0,0,0,0,0,0,0,0,0,0,0,0,0,0,0,0,0,0,0,0,0,0,0,0,0,0,0,0,0,0,0,0,0,0,0,0,0,0,0,0,0,0,0,0,0,0,0,0,0,0,0,0,0,0,0,0,0,0,0,0,0,0,0,0,0,0,0,0,0,0,0,0,0,0,0,0,0,0,0,0,0,0,0,0,0,0,0,0,0,0,0,0,0,0,0,0,0,0,0,0,0,1,2,5,7,15,24,34,35,35,32,25,23,17,14,13,10,8,8,8,7,6,10,12,20,23,38,58,77,94,101,104,98,77,69,63,46,43,37,39,40,44,47,47,42,45,50,45,41,42,44,46,40,37,32,28,29,29,30,34,32,28,29,25,24,23,24,24,25,29,29,26,32,35,36,37,35,43,61,74,81,80,77,72,72,77,68,61,59,42,37,40,44,39,32,28,23,17,15,13,10,10,8,6,4,4,3,3,1,0,1,1,1,1,0,0,0,0,1,2,6,12,21,41,44,56,46,38,35,28,26,26,27,29,31,32,32,29,28,27,25,22,17,14,14,11,9,7,5,4,4,4,4,4,3,3,2,2,1,1,1,1,0,0,0,0,0,0,0,0,0,0,0,0,0,0,0,2,13,22,27,44,52,53,48,44,43,33,29,26,23,18,17,16,14,10,13,11,13]},\"selected\":{\"id\":\"121702\"},\"selection_policy\":{\"id\":\"121701\"}},\"id\":\"119941\",\"type\":\"ColumnDataSource\"},{\"attributes\":{},\"id\":\"119932\",\"type\":\"HelpTool\"},{\"attributes\":{},\"id\":\"119917\",\"type\":\"LinearScale\"},{\"attributes\":{\"tools\":[{\"id\":\"119927\"},{\"id\":\"119928\"},{\"id\":\"119929\"},{\"id\":\"119930\"},{\"id\":\"119931\"},{\"id\":\"119932\"}]},\"id\":\"119934\",\"type\":\"Toolbar\"},{\"attributes\":{\"line_color\":\"grey\",\"line_width\":2,\"x\":{\"field\":\"x\"},\"y\":{\"field\":\"y\"}},\"id\":\"119942\",\"type\":\"Step\"},{\"attributes\":{\"bottom_units\":\"screen\",\"coordinates\":null,\"fill_alpha\":0.5,\"fill_color\":\"lightgrey\",\"group\":null,\"left_units\":\"screen\",\"level\":\"overlay\",\"line_alpha\":1.0,\"line_color\":\"black\",\"line_dash\":[4,4],\"line_width\":2,\"right_units\":\"screen\",\"syncable\":false,\"top_units\":\"screen\"},\"id\":\"119933\",\"type\":\"BoxAnnotation\"},{\"attributes\":{},\"id\":\"121702\",\"type\":\"Selection\"}],\"root_ids\":[\"119953\"]},\"title\":\"Bokeh Application\",\"version\":\"2.4.1\"}};\n",
       "  const render_items = [{\"docid\":\"c42f4c40-fc32-4d0c-9645-02adacf1e679\",\"root_ids\":[\"119953\"],\"roots\":{\"119953\":\"292d525a-a4ee-4c79-822a-7151faa452dc\"}}];\n",
       "  root.Bokeh.embed.embed_items_notebook(docs_json, render_items);\n",
       "\n",
       "  }\n",
       "  if (root.Bokeh !== undefined) {\n",
       "    embed_document(root);\n",
       "  } else {\n",
       "    let attempts = 0;\n",
       "    const timer = setInterval(function(root) {\n",
       "      if (root.Bokeh !== undefined) {\n",
       "        clearInterval(timer);\n",
       "        embed_document(root);\n",
       "      } else {\n",
       "        attempts++;\n",
       "        if (attempts > 100) {\n",
       "          clearInterval(timer);\n",
       "          console.log(\"Bokeh: ERROR: Unable to run BokehJS code because BokehJS library is missing\");\n",
       "        }\n",
       "      }\n",
       "    }, 10, root)\n",
       "  }\n",
       "})(window);"
      ],
      "application/vnd.bokehjs_exec.v0+json": ""
     },
     "metadata": {
      "application/vnd.bokehjs_exec.v0+json": {
       "id": "119953"
      }
     },
     "output_type": "display_data"
    }
   ],
   "source": [
    "# Specify parameters for calculation\n",
    "n = 1 # copy number of promoter\n",
    "th = .3*60/n # 1/h\n",
    "rh = 80 # 1/h\n",
    "ph = 0.6931/10*60 # 1/h log(2)=0.6931\n",
    "d = 0.6931/30*60 # 1/h log(2)=0.6931\n",
    "g = 2.1*36 # 1/uM/h \n",
    "gd = g*0.01 # 1/h\n",
    "r = 5/5 # 1/h Switching -- rate 5 and 1 for paper\n",
    "a0 = 2.1*36\n",
    "d0 = 0.1*a0\n",
    "\n",
    "Omega = 600 # 600\n",
    "\n",
    "args = (th, rh, ph, d, g, gd, a0, d0, r, Omega, n)\n",
    "time_points = np.linspace(0, 40, 401)\n",
    "population_0 = np.zeros(15, dtype=int)\n",
    "population_0[0] = n\n",
    "\n",
    "samples = biocircuits.gillespie_ssa(simple_propensity, simple_update, population_0,time_points, size=1, args=args, n_threads=1,progress_bar=False)\n",
    "\n",
    "# Set up plots\n",
    "fig_size = [400, 200] # for paper size (260/115), half size (144,115), visualize (600/200)\n",
    "x_range = (0, time_points[-1])\n",
    "y_range = (0, 150)\n",
    "\n",
    "plots = []\n",
    "for i in range(1):\n",
    "    plots.append(bokeh.plotting.figure(plot_width=fig_size[0], plot_height=fig_size[1],\n",
    "                          #x_range=x_range, y_range=y_range\n",
    "                          ),)\n",
    "    plots[i].axis.major_label_text_font_size = \"10pt\"\n",
    "\n",
    "# Plot trajectories of recombinase 1 and 2\n",
    "y1 = samples[0,:,10] # samples[:,:,10][0]\n",
    "plots[0].step(time_points, y1, line_width=2, alpha= 1, line_join=\"bevel\",color=\"grey\")\n",
    "\n",
    "y2 = samples[0,:,13]\n",
    "plots[0].step(time_points, y2, line_width=2, alpha= 1, line_join=\"bevel\",color=\"orange\")\n",
    "# Link axes\n",
    "\n",
    "bokeh.io.show(bokeh.layouts.row(plots))\n",
    "\n",
    "#plots[0].output_backend = \"svg\"\n",
    "#export_svgs(plots,filename=\"fig/SingleTrajectory.svg\")"
   ]
  },
  {
   "cell_type": "code",
   "execution_count": 88,
   "metadata": {},
   "outputs": [
    {
     "data": {
      "text/html": [
       "\n",
       "\n",
       "\n",
       "\n",
       "\n",
       "\n",
       "  <div class=\"bk-root\" id=\"7a796866-bee7-4806-a3b2-304378ac6df1\" data-root-id=\"110051\"></div>\n"
      ]
     },
     "metadata": {},
     "output_type": "display_data"
    },
    {
     "data": {
      "application/javascript": [
       "(function(root) {\n",
       "  function embed_document(root) {\n",
       "    \n",
       "  const docs_json = {\"add240fb-9038-4fd2-a355-75f3f2b960a6\":{\"defs\":[],\"roots\":{\"references\":[{\"attributes\":{\"children\":[{\"id\":\"110002\"}]},\"id\":\"110051\",\"type\":\"Row\"},{\"attributes\":{\"source\":{\"id\":\"110045\"}},\"id\":\"110050\",\"type\":\"CDSView\"},{\"attributes\":{\"data\":{\"x\":{\"__ndarray__\":\"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\",\"dtype\":\"float64\",\"order\":\"little\",\"shape\":[401]},\"y\":[0,0,0,4,8,17,16,26,26,41,46,51,58,49,44,37,31,30,24,22,20,16,12,12,11,9,8,6,4,5,3,3,10,14,24,35,42,38,38,36,31,28,27,25,25,21,26,26,20,17,13,15,20,26,26,38,42,49,57,57,49,44,43,43,54,52,51,46,43,46,59,60,62,64,66,56,52,52,40,40,41,36,31,26,21,21,19,14,14,9,7,7,5,4,2,3,3,3,2,2,1,2,2,2,2,1,1,1,1,1,1,1,1,1,1,1,1,0,0,0,0,0,0,0,0,0,0,0,0,0,0,0,0,0,0,0,0,0,0,0,0,0,0,0,0,0,0,0,0,0,0,0,0,0,0,0,0,0,0,0,0,0,0,0,0,0,0,0,0,0,0,0,0,0,0,0,0,0,0,0,0,0,0,0,0,0,0,0,0,0,0,0,0,0,0,0,0,0,0,0,0,0,0,0,0,0,0,0,0,0,0,0,0,0,0,0,0,0,0,0,0,0,0,0,0,0,0,0,0,0,0,0,0,0,0,0,0,0,0,0,0,0,0,0,0,0,0,0,0,0,0,0,0,0,0,0,0,0,0,0,0,0,0,0,0,0,0,4,9,10,11,16,20,25,25,24,23,16,12,12,17,19,36,53,50,45,45,51,53,50,48,43,48,50,54,56,58,52,40,32,23,21,17,15,12,9,6,6,3,2,2,2,2,2,1,0,0,0,0,0,0,0,0,0,0,0,0,0,0,0,0,0,0,0,0,0,0,0,0,0,0,0,0,0,0,0,0,0,0,0,0,0,0,0,0,0,0,0,0,0,0,0,0,0,0,0,0,0,0,0,0,0,0,0,0,0,0,0,0,0,0,0,0,0,0,0,0,0,0,0,0,0,0,0,0,0,0,0,0,0,0]},\"selected\":{\"id\":\"111705\"},\"selection_policy\":{\"id\":\"111704\"}},\"id\":\"110039\",\"type\":\"ColumnDataSource\"},{\"attributes\":{\"coordinates\":null,\"data_source\":{\"id\":\"110033\"},\"glyph\":{\"id\":\"110034\"},\"group\":null,\"hover_glyph\":null,\"muted_glyph\":{\"id\":\"110036\"},\"nonselection_glyph\":{\"id\":\"110035\"},\"view\":{\"id\":\"110038\"}},\"id\":\"110037\",\"type\":\"GlyphRenderer\"},{\"attributes\":{},\"id\":\"111702\",\"type\":\"UnionRenderers\"},{\"attributes\":{\"fill_alpha\":0.2,\"fill_color\":\"#fef2e9\",\"hatch_alpha\":{\"value\":0.2},\"x\":{\"field\":\"x\"},\"y1\":{\"field\":\"y1\"},\"y2\":{\"field\":\"y2\"}},\"id\":\"110036\",\"type\":\"VArea\"},{\"attributes\":{},\"id\":\"110012\",\"type\":\"BasicTicker\"},{\"attributes\":{\"line_alpha\":0.1,\"line_color\":\"#999999\",\"line_width\":2,\"x\":{\"field\":\"x\"},\"y\":{\"field\":\"y\"}},\"id\":\"110041\",\"type\":\"Step\"},{\"attributes\":{\"data\":{\"x\":{\"__ndarray__\":\"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\",\"dtype\":\"float64\",\"order\":\"little\",\"shape\":[401]},\"y1\":[0,0,0,0,0,0,0,0,0,0,0,0,0,0,0,0,0,0,0,0,0,0,0,0,0,0,0,0,0,0,0,0,0,0,0,0,0,0,0,0,0,0,0,0,0,0,0,0,0,0,0,0,0,0,0,0,0,0,0,0,0,0,0,0,0,0,0,0,0,0,0,0,0,0,0,0,0,0,0,0,0,0,0,0,0,0,0,0,0,0,0,0,0,0,0,0,0,0,0,0,0,0,0,0,0,0,0,0,0,0,0,0,0,0,0,0,0,0,0,0,0,0,0,0,0,0,0,0,0,0,0,0,0,0,0,0,0,0,0,0,0,0,0,0,0,0,0,0,0,0,0,0,0,0,0,0,0,0,0,0,0,0,0,0,0,0,0,0,0,0,0,0,0,0,0,0,0,0,0,0,0,0,0,0,0,0,0,0,0,0,0,0,0,0,0,0,0,0,0,0,0,0,0,0,0,0,0,0,0,0,0,0,0,0,0,0,0,0,0,0,0,0,0,0,0,0,0,0,0,0,0,0,0,0,0,0,0,0,0,0,0,0,0,0,0,0,0,0,0,0,0,0,0,0,0,0,0,0,0,0,0,0,0,0,0,0,0,0,0,0,0,0,0,0,0,0,0,0,0,0,0,0,0,0,0,0,0,0,0,0,0,0,0,0,0,0,0,0,0,0,0,0,0,0,0,0,0,0,0,0,0,0,0,0,0,0,0,0,0,0,0,0,0,0,0,0,0,0,0,0,0,0,0,0,0,0,0,0,0,0,0,0,0,0,0,0,0,0,0,0,0,0,0,0,0,0,0,0,0,0,0,0,0,0,0,0,0,0,0,0,0,0,0,0,0,0,0,0,0,0,0,0,0,0,0,0,0,0,0,0,0,0,0,0,0,0,0,0,0,0,0],\"y2\":[0,0,0,0,0,0,0,0,0,0,0,0,0,0,0,0,0,100,100,100,100,100,100,100,100,100,100,100,0,0,0,0,0,0,0,0,0,0,0,0,0,0,0,0,0,0,0,0,0,0,0,0,0,0,0,0,0,0,0,0,0,0,0,0,0,0,0,0,0,0,0,0,0,0,0,0,0,0,0,100,100,100,100,100,100,100,100,100,100,100,100,100,100,100,100,100,100,100,100,100,100,100,100,100,100,100,100,100,100,100,100,100,100,100,100,100,100,100,100,100,100,100,100,100,100,100,100,100,100,100,100,100,100,100,100,100,100,100,100,100,100,100,100,100,100,100,100,100,100,100,100,100,100,100,100,100,100,100,100,100,100,100,100,100,100,100,100,100,100,100,100,100,100,100,100,100,100,100,100,100,100,100,100,100,100,100,100,100,100,100,100,100,100,100,100,100,100,100,100,100,100,100,100,100,100,100,100,100,100,100,100,100,100,100,100,100,100,100,100,100,100,100,100,100,100,100,100,100,100,100,100,100,100,100,100,100,100,100,100,100,100,100,100,100,100,100,100,100,100,100,100,100,100,100,100,100,100,100,100,100,100,100,100,100,100,0,0,0,0,0,0,0,0,0,0,0,0,0,0,0,0,0,0,0,0,0,0,0,0,0,0,0,0,0,0,0,0,100,100,100,100,100,100,100,100,100,100,100,100,100,100,100,100,100,100,100,100,100,100,100,100,100,100,100,100,100,100,100,100,100,100,100,100,100,100,100,100,100,100,100,100,100,100,100,100,100,100,100,100,100,100,100,100,100,100,100,100,100,100,100,100,100,100,100,100,100,100,100,100,100,100,100,100,100,100,100,100,100,100,100,100,100,100,100,100,100,100,100,100,100,100,100,100,100,100,100,100,100,100,100,100]},\"selected\":{\"id\":\"111703\"},\"selection_policy\":{\"id\":\"111702\"}},\"id\":\"110033\",\"type\":\"ColumnDataSource\"},{\"attributes\":{},\"id\":\"111700\",\"type\":\"BasicTickFormatter\"},{\"attributes\":{},\"id\":\"111704\",\"type\":\"UnionRenderers\"},{\"attributes\":{\"tools\":[{\"id\":\"110019\"},{\"id\":\"110020\"},{\"id\":\"110021\"},{\"id\":\"110022\"},{\"id\":\"110023\"},{\"id\":\"110024\"}]},\"id\":\"110026\",\"type\":\"Toolbar\"},{\"attributes\":{},\"id\":\"110024\",\"type\":\"HelpTool\"},{\"attributes\":{\"axis\":{\"id\":\"110011\"},\"coordinates\":null,\"group\":null,\"ticker\":null},\"id\":\"110014\",\"type\":\"Grid\"},{\"attributes\":{\"end\":100},\"id\":\"110005\",\"type\":\"Range1d\"},{\"attributes\":{},\"id\":\"111698\",\"type\":\"AllLabels\"},{\"attributes\":{\"coordinates\":null,\"group\":null},\"id\":\"111694\",\"type\":\"Title\"},{\"attributes\":{\"fill_alpha\":0.1,\"fill_color\":\"#fef2e9\",\"hatch_alpha\":{\"value\":0.1},\"x\":{\"field\":\"x\"},\"y1\":{\"field\":\"y1\"},\"y2\":{\"field\":\"y2\"}},\"id\":\"110035\",\"type\":\"VArea\"},{\"attributes\":{\"source\":{\"id\":\"110033\"}},\"id\":\"110038\",\"type\":\"CDSView\"},{\"attributes\":{},\"id\":\"111706\",\"type\":\"UnionRenderers\"},{\"attributes\":{\"coordinates\":null,\"formatter\":{\"id\":\"111697\"},\"group\":null,\"major_label_policy\":{\"id\":\"111698\"},\"major_label_text_font_size\":\"10pt\",\"ticker\":{\"id\":\"110016\"}},\"id\":\"110015\",\"type\":\"LinearAxis\"},{\"attributes\":{\"line_alpha\":0.1,\"line_color\":\"#f48024\",\"line_width\":2,\"x\":{\"field\":\"x\"},\"y\":{\"field\":\"y\"}},\"id\":\"110047\",\"type\":\"Step\"},{\"attributes\":{\"line_alpha\":0.2,\"line_color\":\"#999999\",\"line_width\":2,\"x\":{\"field\":\"x\"},\"y\":{\"field\":\"y\"}},\"id\":\"110042\",\"type\":\"Step\"},{\"attributes\":{},\"id\":\"111705\",\"type\":\"Selection\"},{\"attributes\":{},\"id\":\"110023\",\"type\":\"ResetTool\"},{\"attributes\":{\"end\":40},\"id\":\"110003\",\"type\":\"Range1d\"},{\"attributes\":{},\"id\":\"110020\",\"type\":\"WheelZoomTool\"},{\"attributes\":{},\"id\":\"110022\",\"type\":\"SaveTool\"},{\"attributes\":{},\"id\":\"110019\",\"type\":\"PanTool\"},{\"attributes\":{},\"id\":\"110009\",\"type\":\"LinearScale\"},{\"attributes\":{\"line_alpha\":0.2,\"line_color\":\"#f48024\",\"line_width\":2,\"x\":{\"field\":\"x\"},\"y\":{\"field\":\"y\"}},\"id\":\"110048\",\"type\":\"Step\"},{\"attributes\":{\"bottom_units\":\"screen\",\"coordinates\":null,\"fill_alpha\":0.5,\"fill_color\":\"lightgrey\",\"group\":null,\"left_units\":\"screen\",\"level\":\"overlay\",\"line_alpha\":1.0,\"line_color\":\"black\",\"line_dash\":[4,4],\"line_width\":2,\"right_units\":\"screen\",\"syncable\":false,\"top_units\":\"screen\"},\"id\":\"110025\",\"type\":\"BoxAnnotation\"},{\"attributes\":{\"data\":{\"x\":{\"__ndarray__\":\"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\",\"dtype\":\"float64\",\"order\":\"little\",\"shape\":[401]},\"y\":[0,0,0,0,0,0,0,0,0,0,0,0,0,0,0,0,0,0,1,2,7,15,25,34,39,39,40,38,33,32,27,23,21,17,13,12,9,6,5,3,2,2,3,1,1,1,1,1,1,0,0,0,0,0,0,0,0,0,0,0,0,0,0,0,0,0,0,0,0,0,0,0,0,0,0,0,0,0,0,0,0,0,0,6,13,28,44,55,65,67,67,65,60,53,51,46,42,41,34,34,28,24,22,26,28,25,30,29,29,29,28,31,28,25,22,18,17,11,11,12,24,28,29,24,22,28,33,39,41,43,38,34,32,32,27,28,30,29,25,21,23,31,37,40,37,39,44,40,43,40,38,39,35,28,27,23,22,16,18,18,18,19,18,28,33,38,45,47,49,47,42,34,31,25,20,16,11,10,9,9,10,8,9,8,7,6,18,30,35,43,52,60,61,66,66,62,53,42,36,32,29,27,27,29,31,26,28,24,27,24,24,24,19,16,14,14,12,12,9,13,13,12,14,19,20,20,14,16,20,20,22,22,22,21,18,13,20,27,29,39,46,54,64,63,68,60,63,54,53,51,51,56,52,50,49,40,33,37,39,46,47,42,41,46,46,37,39,33,30,26,20,16,14,16,13,12,10,10,9,7,6,5,4,2,2,1,1,1,1,1,0,0,0,0,0,0,0,0,2,3,8,11,20,29,34,45,50,60,66,67,69,65,62,55,55,52,40,37,44,45,41,39,34,32,28,27,28,31,29,27,30,29,27,26,23,18,18,15,11,11,10,12,15,14,18,21,20,16,20,21,28,36,41,49,51,48,42,40,38,33,36,35,28,33,31,31,31,29,28,38,41,37,29,38,41,41,36,43,52,57,53,41,37,29,26,23,24,21,21,17,12,8,10,10,7,6,5,5,5,3,3]},\"selected\":{\"id\":\"111707\"},\"selection_policy\":{\"id\":\"111706\"}},\"id\":\"110045\",\"type\":\"ColumnDataSource\"},{\"attributes\":{\"overlay\":{\"id\":\"110025\"}},\"id\":\"110021\",\"type\":\"BoxZoomTool\"},{\"attributes\":{\"below\":[{\"id\":\"110011\"}],\"center\":[{\"id\":\"110014\"},{\"id\":\"110018\"}],\"height\":115,\"left\":[{\"id\":\"110015\"}],\"renderers\":[{\"id\":\"110037\"},{\"id\":\"110043\"},{\"id\":\"110049\"}],\"title\":{\"id\":\"111694\"},\"toolbar\":{\"id\":\"110026\"},\"width\":266,\"x_range\":{\"id\":\"110003\"},\"x_scale\":{\"id\":\"110007\"},\"y_range\":{\"id\":\"110005\"},\"y_scale\":{\"id\":\"110009\"}},\"id\":\"110002\",\"subtype\":\"Figure\",\"type\":\"Plot\"},{\"attributes\":{\"coordinates\":null,\"data_source\":{\"id\":\"110045\"},\"glyph\":{\"id\":\"110046\"},\"group\":null,\"hover_glyph\":null,\"muted_glyph\":{\"id\":\"110048\"},\"nonselection_glyph\":{\"id\":\"110047\"},\"view\":{\"id\":\"110050\"}},\"id\":\"110049\",\"type\":\"GlyphRenderer\"},{\"attributes\":{},\"id\":\"110016\",\"type\":\"BasicTicker\"},{\"attributes\":{\"source\":{\"id\":\"110039\"}},\"id\":\"110044\",\"type\":\"CDSView\"},{\"attributes\":{},\"id\":\"111701\",\"type\":\"AllLabels\"},{\"attributes\":{},\"id\":\"111697\",\"type\":\"BasicTickFormatter\"},{\"attributes\":{},\"id\":\"111703\",\"type\":\"Selection\"},{\"attributes\":{\"line_color\":\"#f48024\",\"line_width\":2,\"x\":{\"field\":\"x\"},\"y\":{\"field\":\"y\"}},\"id\":\"110046\",\"type\":\"Step\"},{\"attributes\":{},\"id\":\"111707\",\"type\":\"Selection\"},{\"attributes\":{\"coordinates\":null,\"data_source\":{\"id\":\"110039\"},\"glyph\":{\"id\":\"110040\"},\"group\":null,\"hover_glyph\":null,\"muted_glyph\":{\"id\":\"110042\"},\"nonselection_glyph\":{\"id\":\"110041\"},\"view\":{\"id\":\"110044\"}},\"id\":\"110043\",\"type\":\"GlyphRenderer\"},{\"attributes\":{\"fill_color\":\"#fef2e9\",\"x\":{\"field\":\"x\"},\"y1\":{\"field\":\"y1\"},\"y2\":{\"field\":\"y2\"}},\"id\":\"110034\",\"type\":\"VArea\"},{\"attributes\":{\"coordinates\":null,\"formatter\":{\"id\":\"111700\"},\"group\":null,\"major_label_policy\":{\"id\":\"111701\"},\"major_label_text_font_size\":\"10pt\",\"ticker\":{\"id\":\"110012\"}},\"id\":\"110011\",\"type\":\"LinearAxis\"},{\"attributes\":{\"line_alpha\":0.5,\"line_color\":\"#999999\",\"line_width\":2,\"x\":{\"field\":\"x\"},\"y\":{\"field\":\"y\"}},\"id\":\"110040\",\"type\":\"Step\"},{\"attributes\":{},\"id\":\"110007\",\"type\":\"LinearScale\"},{\"attributes\":{\"axis\":{\"id\":\"110015\"},\"coordinates\":null,\"dimension\":1,\"group\":null,\"ticker\":null},\"id\":\"110018\",\"type\":\"Grid\"}],\"root_ids\":[\"110051\"]},\"title\":\"Bokeh Application\",\"version\":\"2.4.1\"}};\n",
       "  const render_items = [{\"docid\":\"add240fb-9038-4fd2-a355-75f3f2b960a6\",\"root_ids\":[\"110051\"],\"roots\":{\"110051\":\"7a796866-bee7-4806-a3b2-304378ac6df1\"}}];\n",
       "  root.Bokeh.embed.embed_items_notebook(docs_json, render_items);\n",
       "\n",
       "  }\n",
       "  if (root.Bokeh !== undefined) {\n",
       "    embed_document(root);\n",
       "  } else {\n",
       "    let attempts = 0;\n",
       "    const timer = setInterval(function(root) {\n",
       "      if (root.Bokeh !== undefined) {\n",
       "        clearInterval(timer);\n",
       "        embed_document(root);\n",
       "      } else {\n",
       "        attempts++;\n",
       "        if (attempts > 100) {\n",
       "          clearInterval(timer);\n",
       "          console.log(\"Bokeh: ERROR: Unable to run BokehJS code because BokehJS library is missing\");\n",
       "        }\n",
       "      }\n",
       "    }, 10, root)\n",
       "  }\n",
       "})(window);"
      ],
      "application/vnd.bokehjs_exec.v0+json": ""
     },
     "metadata": {
      "application/vnd.bokehjs_exec.v0+json": {
       "id": "110051"
      }
     },
     "output_type": "display_data"
    },
    {
     "data": {
      "text/plain": [
       "['fig/SingleTrajectory.svg']"
      ]
     },
     "execution_count": 88,
     "metadata": {},
     "output_type": "execute_result"
    }
   ],
   "source": [
    "# Set up plots\n",
    "# For two digits 260 by 115 larger and 144 by 115 for half size\n",
    "# For three digits 266 by 115 larger and 150 by 115 for half size\n",
    "fig_size = [266, 115] # visualize (600/200)\n",
    "x_range = (0, 40)\n",
    "y_range = (0, 100)\n",
    "\n",
    "plots = []\n",
    "for i in range(1):\n",
    "    plots.append(bokeh.plotting.figure(plot_width=fig_size[0], plot_height=fig_size[1],\n",
    "                          x_range=x_range, y_range=y_range\n",
    "                          ),)\n",
    "    plots[i].axis.major_label_text_font_size = \"10pt\"\n",
    "\n",
    "# Plot trajectories of recombinase 1 and 2\n",
    "sR = samples[0,:,4:8].sum(axis=1)\n",
    "#print(sR.size)\n",
    "\n",
    "plots[0].varea(time_points, sR*0, sR*y_range[1], fill_color=\"#fef2e9\")\n",
    "\n",
    "y1 = samples[0,:,10] # samples[:,:,10][0]\n",
    "plots[0].step(time_points, y1, line_width=2, alpha= 0.5, line_join=\"bevel\",color=\"#999999\")\n",
    "\n",
    "y2 = samples[0,:,13]\n",
    "plots[0].step(time_points, y2, line_width=2, alpha= 1, line_join=\"bevel\",color=\"#f48024\")\n",
    "# Link axes\n",
    "\n",
    "bokeh.io.show(bokeh.layouts.row(plots))\n",
    "\n",
    "plots[0].output_backend = \"svg\"\n",
    "export_svgs(plots,filename=\"fig/SingleTrajectory.svg\")"
   ]
  },
  {
   "cell_type": "code",
   "execution_count": 65,
   "metadata": {
    "executionInfo": {
     "elapsed": 283,
     "status": "ok",
     "timestamp": 1652456394043,
     "user": {
      "displayName": "Christian Cuba",
      "userId": "05812622177105967845"
     },
     "user_tz": 240
    },
    "id": "tb9r7SKRReGC"
   },
   "outputs": [],
   "source": [
    "# Computing the auto-correlation\n",
    "\n",
    "def correlate(x, y, dt):\n",
    "    # Compute correlation with max correlation being unity\n",
    "    corr = np.correlate(x, y, \"full\")\n",
    "    corr /= corr.max()\n",
    "\n",
    "    idx = np.where(corr==1.)[0][0]\n",
    "    corr = corr[idx:]\n",
    "    lags = np.arange(0, len(corr))*dt\n",
    "    return lags, corr"
   ]
  },
  {
   "cell_type": "code",
   "execution_count": 89,
   "metadata": {
    "colab": {
     "base_uri": "https://localhost:8080/",
     "height": 447
    },
    "executionInfo": {
     "elapsed": 689,
     "status": "ok",
     "timestamp": 1652092910501,
     "user": {
      "displayName": "Christian Cuba",
      "userId": "05812622177105967845"
     },
     "user_tz": 240
    },
    "id": "20idjf57RimM",
    "outputId": "6cf9986a-13c0-4071-e72e-d3f62f97650e"
   },
   "outputs": [
    {
     "data": {
      "text/html": [
       "\n",
       "\n",
       "\n",
       "\n",
       "\n",
       "\n",
       "  <div class=\"bk-root\" id=\"75e0cc3f-8e0e-471b-bae1-039591b989dd\" data-root-id=\"112093\"></div>\n"
      ]
     },
     "metadata": {},
     "output_type": "display_data"
    },
    {
     "data": {
      "application/javascript": [
       "(function(root) {\n",
       "  function embed_document(root) {\n",
       "    \n",
       "  const docs_json = {\"fbc6df68-99b0-478c-93b7-befc3b5fa6d4\":{\"defs\":[],\"roots\":{\"references\":[{\"attributes\":{\"children\":[{\"id\":\"111995\"},{\"id\":\"112026\"}]},\"id\":\"112093\",\"type\":\"Row\"},{\"attributes\":{\"tools\":[{\"id\":\"112012\"},{\"id\":\"112013\"},{\"id\":\"112014\"},{\"id\":\"112015\"},{\"id\":\"112016\"},{\"id\":\"112017\"}]},\"id\":\"112019\",\"type\":\"Toolbar\"},{\"attributes\":{},\"id\":\"112000\",\"type\":\"LinearScale\"},{\"attributes\":{\"below\":[{\"id\":\"112004\"}],\"center\":[{\"id\":\"112007\"},{\"id\":\"112011\"}],\"height\":115,\"left\":[{\"id\":\"112008\"}],\"renderers\":[{\"id\":\"112061\"},{\"id\":\"112079\"}],\"title\":{\"id\":\"113751\"},\"toolbar\":{\"id\":\"112019\"},\"width\":260,\"x_range\":{\"id\":\"111996\"},\"x_scale\":{\"id\":\"112000\"},\"y_range\":{\"id\":\"111998\"},\"y_scale\":{\"id\":\"112002\"}},\"id\":\"111995\",\"subtype\":\"Figure\",\"type\":\"Plot\"},{\"attributes\":{},\"id\":\"113760\",\"type\":\"AllLabels\"},{\"attributes\":{},\"id\":\"112017\",\"type\":\"HelpTool\"},{\"attributes\":{},\"id\":\"113770\",\"type\":\"Selection\"},{\"attributes\":{},\"id\":\"113779\",\"type\":\"Selection\"},{\"attributes\":{},\"id\":\"113756\",\"type\":\"BasicTickFormatter\"},{\"attributes\":{\"data\":{\"x\":{\"__ndarray__\":\"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\",\"dtype\":\"float64\",\"order\":\"little\",\"shape\":[401]},\"y\":[0,0,0,4,8,17,16,26,26,41,46,51,58,49,44,37,31,30,24,22,20,16,12,12,11,9,8,6,4,5,3,3,10,14,24,35,42,38,38,36,31,28,27,25,25,21,26,26,20,17,13,15,20,26,26,38,42,49,57,57,49,44,43,43,54,52,51,46,43,46,59,60,62,64,66,56,52,52,40,40,41,36,31,26,21,21,19,14,14,9,7,7,5,4,2,3,3,3,2,2,1,2,2,2,2,1,1,1,1,1,1,1,1,1,1,1,1,0,0,0,0,0,0,0,0,0,0,0,0,0,0,0,0,0,0,0,0,0,0,0,0,0,0,0,0,0,0,0,0,0,0,0,0,0,0,0,0,0,0,0,0,0,0,0,0,0,0,0,0,0,0,0,0,0,0,0,0,0,0,0,0,0,0,0,0,0,0,0,0,0,0,0,0,0,0,0,0,0,0,0,0,0,0,0,0,0,0,0,0,0,0,0,0,0,0,0,0,0,0,0,0,0,0,0,0,0,0,0,0,0,0,0,0,0,0,0,0,0,0,0,0,0,0,0,0,0,0,0,0,0,0,0,0,0,0,0,0,0,0,0,0,0,0,0,0,0,0,4,9,10,11,16,20,25,25,24,23,16,12,12,17,19,36,53,50,45,45,51,53,50,48,43,48,50,54,56,58,52,40,32,23,21,17,15,12,9,6,6,3,2,2,2,2,2,1,0,0,0,0,0,0,0,0,0,0,0,0,0,0,0,0,0,0,0,0,0,0,0,0,0,0,0,0,0,0,0,0,0,0,0,0,0,0,0,0,0,0,0,0,0,0,0,0,0,0,0,0,0,0,0,0,0,0,0,0,0,0,0,0,0,0,0,0,0,0,0,0,0,0,0,0,0,0,0,0,0,0,0,0,0,0]},\"selected\":{\"id\":\"113768\"},\"selection_policy\":{\"id\":\"113767\"}},\"id\":\"112057\",\"type\":\"ColumnDataSource\"},{\"attributes\":{},\"id\":\"112013\",\"type\":\"WheelZoomTool\"},{\"attributes\":{\"fill_alpha\":{\"value\":0.2},\"fill_color\":{\"value\":\"red\"},\"hatch_alpha\":{\"value\":0.2},\"hatch_color\":{\"value\":\"red\"},\"line_alpha\":{\"value\":0.2},\"line_color\":{\"value\":\"red\"},\"line_width\":{\"value\":2},\"x\":{\"field\":\"x\"},\"y\":{\"field\":\"y\"}},\"id\":\"112072\",\"type\":\"Circle\"},{\"attributes\":{},\"id\":\"113762\",\"type\":\"BasicTickFormatter\"},{\"attributes\":{\"line_color\":\"grey\",\"line_width\":2,\"x\":{\"field\":\"x\"},\"y\":{\"field\":\"y\"}},\"id\":\"112064\",\"type\":\"Line\"},{\"attributes\":{\"end\":40.0},\"id\":\"111996\",\"type\":\"Range1d\"},{\"attributes\":{\"coordinates\":null,\"data_source\":{\"id\":\"112087\"},\"glyph\":{\"id\":\"112088\"},\"group\":null,\"hover_glyph\":null,\"muted_glyph\":{\"id\":\"112090\"},\"nonselection_glyph\":{\"id\":\"112089\"},\"view\":{\"id\":\"112092\"}},\"id\":\"112091\",\"type\":\"GlyphRenderer\"},{\"attributes\":{\"line_alpha\":0.2,\"line_color\":\"orange\",\"line_width\":2,\"x\":{\"field\":\"x\"},\"y\":{\"field\":\"y\"}},\"id\":\"112078\",\"type\":\"Step\"},{\"attributes\":{},\"id\":\"113776\",\"type\":\"UnionRenderers\"},{\"attributes\":{},\"id\":\"113759\",\"type\":\"BasicTickFormatter\"},{\"attributes\":{},\"id\":\"113763\",\"type\":\"AllLabels\"},{\"attributes\":{},\"id\":\"113767\",\"type\":\"UnionRenderers\"},{\"attributes\":{\"coordinates\":null,\"formatter\":{\"id\":\"113756\"},\"group\":null,\"major_label_policy\":{\"id\":\"113757\"},\"major_label_text_font_size\":\"10pt\",\"ticker\":{\"id\":\"112009\"}},\"id\":\"112008\",\"type\":\"LinearAxis\"},{\"attributes\":{},\"id\":\"112009\",\"type\":\"BasicTicker\"},{\"attributes\":{},\"id\":\"113769\",\"type\":\"UnionRenderers\"},{\"attributes\":{},\"id\":\"113757\",\"type\":\"AllLabels\"},{\"attributes\":{},\"id\":\"112012\",\"type\":\"PanTool\"},{\"attributes\":{\"bottom_units\":\"screen\",\"coordinates\":null,\"fill_alpha\":0.5,\"fill_color\":\"lightgrey\",\"group\":null,\"left_units\":\"screen\",\"level\":\"overlay\",\"line_alpha\":1.0,\"line_color\":\"black\",\"line_dash\":[4,4],\"line_width\":2,\"right_units\":\"screen\",\"syncable\":false,\"top_units\":\"screen\"},\"id\":\"112018\",\"type\":\"BoxAnnotation\"},{\"attributes\":{},\"id\":\"113777\",\"type\":\"Selection\"},{\"attributes\":{\"overlay\":{\"id\":\"112018\"}},\"id\":\"112014\",\"type\":\"BoxZoomTool\"},{\"attributes\":{},\"id\":\"111998\",\"type\":\"DataRange1d\"},{\"attributes\":{},\"id\":\"113774\",\"type\":\"UnionRenderers\"},{\"attributes\":{},\"id\":\"113772\",\"type\":\"UnionRenderers\"},{\"attributes\":{\"axis\":{\"id\":\"112008\"},\"coordinates\":null,\"dimension\":1,\"group\":null,\"ticker\":null},\"id\":\"112011\",\"type\":\"Grid\"},{\"attributes\":{\"coordinates\":null,\"data_source\":{\"id\":\"112081\"},\"glyph\":{\"id\":\"112082\"},\"group\":null,\"hover_glyph\":null,\"muted_glyph\":{\"id\":\"112084\"},\"nonselection_glyph\":{\"id\":\"112083\"},\"view\":{\"id\":\"112086\"}},\"id\":\"112085\",\"type\":\"GlyphRenderer\"},{\"attributes\":{\"line_color\":\"grey\",\"line_width\":2,\"x\":{\"field\":\"x\"},\"y\":{\"field\":\"y\"}},\"id\":\"112058\",\"type\":\"Step\"},{\"attributes\":{\"coordinates\":null,\"formatter\":{\"id\":\"113759\"},\"group\":null,\"major_label_policy\":{\"id\":\"113760\"},\"major_label_text_font_size\":\"10pt\",\"ticker\":{\"id\":\"112005\"}},\"id\":\"112004\",\"type\":\"LinearAxis\"},{\"attributes\":{\"axis\":{\"id\":\"112004\"},\"coordinates\":null,\"group\":null,\"ticker\":null},\"id\":\"112007\",\"type\":\"Grid\"},{\"attributes\":{\"data\":{\"x\":{\"__ndarray__\":\"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\",\"dtype\":\"float64\",\"order\":\"little\",\"shape\":[401]},\"y\":[0,0,0,0,0,0,0,0,0,0,0,0,0,0,0,0,0,0,1,2,7,15,25,34,39,39,40,38,33,32,27,23,21,17,13,12,9,6,5,3,2,2,3,1,1,1,1,1,1,0,0,0,0,0,0,0,0,0,0,0,0,0,0,0,0,0,0,0,0,0,0,0,0,0,0,0,0,0,0,0,0,0,0,6,13,28,44,55,65,67,67,65,60,53,51,46,42,41,34,34,28,24,22,26,28,25,30,29,29,29,28,31,28,25,22,18,17,11,11,12,24,28,29,24,22,28,33,39,41,43,38,34,32,32,27,28,30,29,25,21,23,31,37,40,37,39,44,40,43,40,38,39,35,28,27,23,22,16,18,18,18,19,18,28,33,38,45,47,49,47,42,34,31,25,20,16,11,10,9,9,10,8,9,8,7,6,18,30,35,43,52,60,61,66,66,62,53,42,36,32,29,27,27,29,31,26,28,24,27,24,24,24,19,16,14,14,12,12,9,13,13,12,14,19,20,20,14,16,20,20,22,22,22,21,18,13,20,27,29,39,46,54,64,63,68,60,63,54,53,51,51,56,52,50,49,40,33,37,39,46,47,42,41,46,46,37,39,33,30,26,20,16,14,16,13,12,10,10,9,7,6,5,4,2,2,1,1,1,1,1,0,0,0,0,0,0,0,0,2,3,8,11,20,29,34,45,50,60,66,67,69,65,62,55,55,52,40,37,44,45,41,39,34,32,28,27,28,31,29,27,30,29,27,26,23,18,18,15,11,11,10,12,15,14,18,21,20,16,20,21,28,36,41,49,51,48,42,40,38,33,36,35,28,33,31,31,31,29,28,38,41,37,29,38,41,41,36,43,52,57,53,41,37,29,26,23,24,21,21,17,12,8,10,10,7,6,5,5,5,3,3]},\"selected\":{\"id\":\"113770\"},\"selection_policy\":{\"id\":\"113769\"}},\"id\":\"112075\",\"type\":\"ColumnDataSource\"},{\"attributes\":{},\"id\":\"113765\",\"type\":\"BasicTickFormatter\"},{\"attributes\":{\"fill_alpha\":{\"value\":0.2},\"fill_color\":{\"value\":\"black\"},\"hatch_alpha\":{\"value\":0.2},\"line_alpha\":{\"value\":0.2},\"line_width\":{\"value\":2},\"x\":{\"field\":\"x\"},\"y\":{\"field\":\"y\"}},\"id\":\"112090\",\"type\":\"Circle\"},{\"attributes\":{\"below\":[{\"id\":\"112035\"}],\"center\":[{\"id\":\"112038\"},{\"id\":\"112042\"}],\"height\":115,\"left\":[{\"id\":\"112039\"}],\"renderers\":[{\"id\":\"112067\"},{\"id\":\"112073\"},{\"id\":\"112085\"},{\"id\":\"112091\"}],\"title\":{\"id\":\"113753\"},\"toolbar\":{\"id\":\"112050\"},\"width\":260,\"x_range\":{\"id\":\"112027\"},\"x_scale\":{\"id\":\"112031\"},\"y_range\":{\"id\":\"112029\"},\"y_scale\":{\"id\":\"112033\"}},\"id\":\"112026\",\"subtype\":\"Figure\",\"type\":\"Plot\"},{\"attributes\":{\"source\":{\"id\":\"112081\"}},\"id\":\"112086\",\"type\":\"CDSView\"},{\"attributes\":{\"bottom_units\":\"screen\",\"coordinates\":null,\"fill_alpha\":0.5,\"fill_color\":\"lightgrey\",\"group\":null,\"left_units\":\"screen\",\"level\":\"overlay\",\"line_alpha\":1.0,\"line_color\":\"black\",\"line_dash\":[4,4],\"line_width\":2,\"right_units\":\"screen\",\"syncable\":false,\"top_units\":\"screen\"},\"id\":\"112049\",\"type\":\"BoxAnnotation\"},{\"attributes\":{\"line_color\":\"orange\",\"line_width\":2,\"x\":{\"field\":\"x\"},\"y\":{\"field\":\"y\"}},\"id\":\"112076\",\"type\":\"Step\"},{\"attributes\":{},\"id\":\"112005\",\"type\":\"BasicTicker\"},{\"attributes\":{},\"id\":\"113766\",\"type\":\"AllLabels\"},{\"attributes\":{\"data\":{\"x\":{\"__ndarray__\":\"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\",\"dtype\":\"float64\",\"order\":\"little\",\"shape\":[401]},\"y\":{\"__ndarray__\":\"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\",\"dtype\":\"float64\",\"order\":\"little\",\"shape\":[401]}},\"selected\":{\"id\":\"113773\"},\"selection_policy\":{\"id\":\"113772\"}},\"id\":\"112063\",\"type\":\"ColumnDataSource\"},{\"attributes\":{},\"id\":\"113778\",\"type\":\"UnionRenderers\"},{\"attributes\":{},\"id\":\"112002\",\"type\":\"LinearScale\"},{\"attributes\":{},\"id\":\"113775\",\"type\":\"Selection\"},{\"attributes\":{},\"id\":\"113773\",\"type\":\"Selection\"},{\"attributes\":{\"overlay\":{\"id\":\"112049\"}},\"id\":\"112045\",\"type\":\"BoxZoomTool\"},{\"attributes\":{\"coordinates\":null,\"group\":null},\"id\":\"113751\",\"type\":\"Title\"},{\"attributes\":{\"source\":{\"id\":\"112075\"}},\"id\":\"112080\",\"type\":\"CDSView\"},{\"attributes\":{\"source\":{\"id\":\"112069\"}},\"id\":\"112074\",\"type\":\"CDSView\"},{\"attributes\":{\"source\":{\"id\":\"112087\"}},\"id\":\"112092\",\"type\":\"CDSView\"},{\"attributes\":{\"coordinates\":null,\"group\":null},\"id\":\"113753\",\"type\":\"Title\"},{\"attributes\":{},\"id\":\"112016\",\"type\":\"ResetTool\"},{\"attributes\":{\"coordinates\":null,\"formatter\":{\"id\":\"113765\"},\"group\":null,\"major_label_policy\":{\"id\":\"113766\"},\"major_label_text_font_size\":\"10pt\",\"ticker\":{\"id\":\"112036\"}},\"id\":\"112035\",\"type\":\"LinearAxis\"},{\"attributes\":{\"data\":{\"x\":{\"__ndarray__\":\"Z2ZmZmZmGEAAAAAAAAAnQM3MzMzMzCtAZ2ZmZmZmMEBnZmZmZuY1QM3MzMzMzDpAzczMzMxMPEAAAAAAAIBAQJqZmZmZWUFAMzMzMzOzQUAAAAAAAEBDQA==\",\"dtype\":\"float64\",\"order\":\"little\",\"shape\":[11]},\"y\":{\"__ndarray__\":\"cHoLabl30z8OGWaIB83HP/Q1h6bW27K/8H1tPQ/kvj8DLPaOlcDMP+ERXVt2KWy/OQ1VeiX1uz/Mf6dcgkaVP/ZtaTMgulw/tEmE70JAUz9vA0JDOOaiPw==\",\"dtype\":\"float64\",\"order\":\"little\",\"shape\":[11]}},\"selected\":{\"id\":\"113779\"},\"selection_policy\":{\"id\":\"113778\"}},\"id\":\"112087\",\"type\":\"ColumnDataSource\"},{\"attributes\":{},\"id\":\"112048\",\"type\":\"HelpTool\"},{\"attributes\":{},\"id\":\"112033\",\"type\":\"LinearScale\"},{\"attributes\":{\"axis\":{\"id\":\"112035\"},\"coordinates\":null,\"group\":null,\"ticker\":null},\"id\":\"112038\",\"type\":\"Grid\"},{\"attributes\":{},\"id\":\"112036\",\"type\":\"BasicTicker\"},{\"attributes\":{\"coordinates\":null,\"data_source\":{\"id\":\"112075\"},\"glyph\":{\"id\":\"112076\"},\"group\":null,\"hover_glyph\":null,\"muted_glyph\":{\"id\":\"112078\"},\"nonselection_glyph\":{\"id\":\"112077\"},\"view\":{\"id\":\"112080\"}},\"id\":\"112079\",\"type\":\"GlyphRenderer\"},{\"attributes\":{\"line_alpha\":0.2,\"line_color\":\"grey\",\"line_width\":2,\"x\":{\"field\":\"x\"},\"y\":{\"field\":\"y\"}},\"id\":\"112060\",\"type\":\"Step\"},{\"attributes\":{\"fill_color\":{\"value\":\"black\"},\"line_width\":{\"value\":2},\"x\":{\"field\":\"x\"},\"y\":{\"field\":\"y\"}},\"id\":\"112088\",\"type\":\"Circle\"},{\"attributes\":{\"source\":{\"id\":\"112063\"}},\"id\":\"112068\",\"type\":\"CDSView\"},{\"attributes\":{\"line_color\":\"orange\",\"line_width\":2,\"x\":{\"field\":\"x\"},\"y\":{\"field\":\"y\"}},\"id\":\"112082\",\"type\":\"Line\"},{\"attributes\":{\"data\":{\"x\":{\"__ndarray__\":\"Z2ZmZmZmEkAAAAAAAAAYQGdmZmZmZipAZ2ZmZmbmNUA0MzMzMzM2QDQzMzMzsztAMzMzMzNzQkDNzMzMzMxDQA==\",\"dtype\":\"float64\",\"order\":\"little\",\"shape\":[8]},\"y\":{\"__ndarray__\":\"RaWjnqwspT/RQxcQVFuMPwPWCMvDt7y/IyDI3we10j++a4qQGKTSP977RWdaSpo/eRvG+mWEm7//hPeNZTFqPw==\",\"dtype\":\"float64\",\"order\":\"little\",\"shape\":[8]}},\"selected\":{\"id\":\"113775\"},\"selection_policy\":{\"id\":\"113774\"}},\"id\":\"112069\",\"type\":\"ColumnDataSource\"},{\"attributes\":{},\"id\":\"112046\",\"type\":\"SaveTool\"},{\"attributes\":{\"fill_alpha\":{\"value\":0.1},\"fill_color\":{\"value\":\"black\"},\"hatch_alpha\":{\"value\":0.1},\"line_alpha\":{\"value\":0.1},\"line_width\":{\"value\":2},\"x\":{\"field\":\"x\"},\"y\":{\"field\":\"y\"}},\"id\":\"112089\",\"type\":\"Circle\"},{\"attributes\":{\"fill_color\":{\"value\":\"red\"},\"hatch_color\":{\"value\":\"red\"},\"line_color\":{\"value\":\"red\"},\"line_width\":{\"value\":2},\"x\":{\"field\":\"x\"},\"y\":{\"field\":\"y\"}},\"id\":\"112070\",\"type\":\"Circle\"},{\"attributes\":{},\"id\":\"112043\",\"type\":\"PanTool\"},{\"attributes\":{},\"id\":\"112047\",\"type\":\"ResetTool\"},{\"attributes\":{\"line_alpha\":0.2,\"line_color\":\"orange\",\"line_width\":2,\"x\":{\"field\":\"x\"},\"y\":{\"field\":\"y\"}},\"id\":\"112084\",\"type\":\"Line\"},{\"attributes\":{\"fill_alpha\":{\"value\":0.1},\"fill_color\":{\"value\":\"red\"},\"hatch_alpha\":{\"value\":0.1},\"hatch_color\":{\"value\":\"red\"},\"line_alpha\":{\"value\":0.1},\"line_color\":{\"value\":\"red\"},\"line_width\":{\"value\":2},\"x\":{\"field\":\"x\"},\"y\":{\"field\":\"y\"}},\"id\":\"112071\",\"type\":\"Circle\"},{\"attributes\":{},\"id\":\"112015\",\"type\":\"SaveTool\"},{\"attributes\":{\"coordinates\":null,\"data_source\":{\"id\":\"112069\"},\"glyph\":{\"id\":\"112070\"},\"group\":null,\"hover_glyph\":null,\"muted_glyph\":{\"id\":\"112072\"},\"nonselection_glyph\":{\"id\":\"112071\"},\"view\":{\"id\":\"112074\"}},\"id\":\"112073\",\"type\":\"GlyphRenderer\"},{\"attributes\":{},\"id\":\"112044\",\"type\":\"WheelZoomTool\"},{\"attributes\":{\"coordinates\":null,\"data_source\":{\"id\":\"112063\"},\"glyph\":{\"id\":\"112064\"},\"group\":null,\"hover_glyph\":null,\"muted_glyph\":{\"id\":\"112066\"},\"nonselection_glyph\":{\"id\":\"112065\"},\"view\":{\"id\":\"112068\"}},\"id\":\"112067\",\"type\":\"GlyphRenderer\"},{\"attributes\":{\"axis\":{\"id\":\"112039\"},\"coordinates\":null,\"dimension\":1,\"group\":null,\"ticker\":null},\"id\":\"112042\",\"type\":\"Grid\"},{\"attributes\":{},\"id\":\"112031\",\"type\":\"LinearScale\"},{\"attributes\":{\"coordinates\":null,\"formatter\":{\"id\":\"113762\"},\"group\":null,\"major_label_policy\":{\"id\":\"113763\"},\"major_label_text_font_size\":\"10pt\",\"ticker\":{\"id\":\"112040\"}},\"id\":\"112039\",\"type\":\"LinearAxis\"},{\"attributes\":{\"data\":{\"x\":{\"__ndarray__\":\"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\",\"dtype\":\"float64\",\"order\":\"little\",\"shape\":[401]},\"y\":{\"__ndarray__\":\"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\",\"dtype\":\"float64\",\"order\":\"little\",\"shape\":[401]}},\"selected\":{\"id\":\"113777\"},\"selection_policy\":{\"id\":\"113776\"}},\"id\":\"112081\",\"type\":\"ColumnDataSource\"},{\"attributes\":{},\"id\":\"112040\",\"type\":\"BasicTicker\"},{\"attributes\":{\"tools\":[{\"id\":\"112043\"},{\"id\":\"112044\"},{\"id\":\"112045\"},{\"id\":\"112046\"},{\"id\":\"112047\"},{\"id\":\"112048\"}]},\"id\":\"112050\",\"type\":\"Toolbar\"},{\"attributes\":{\"source\":{\"id\":\"112057\"}},\"id\":\"112062\",\"type\":\"CDSView\"},{\"attributes\":{\"end\":40.0},\"id\":\"112027\",\"type\":\"Range1d\"},{\"attributes\":{\"line_alpha\":0.1,\"line_color\":\"grey\",\"line_width\":2,\"x\":{\"field\":\"x\"},\"y\":{\"field\":\"y\"}},\"id\":\"112065\",\"type\":\"Line\"},{\"attributes\":{\"coordinates\":null,\"data_source\":{\"id\":\"112057\"},\"glyph\":{\"id\":\"112058\"},\"group\":null,\"hover_glyph\":null,\"muted_glyph\":{\"id\":\"112060\"},\"nonselection_glyph\":{\"id\":\"112059\"},\"view\":{\"id\":\"112062\"}},\"id\":\"112061\",\"type\":\"GlyphRenderer\"},{\"attributes\":{\"line_alpha\":0.1,\"line_color\":\"grey\",\"line_width\":2,\"x\":{\"field\":\"x\"},\"y\":{\"field\":\"y\"}},\"id\":\"112059\",\"type\":\"Step\"},{\"attributes\":{},\"id\":\"113768\",\"type\":\"Selection\"},{\"attributes\":{\"line_alpha\":0.1,\"line_color\":\"orange\",\"line_width\":2,\"x\":{\"field\":\"x\"},\"y\":{\"field\":\"y\"}},\"id\":\"112077\",\"type\":\"Step\"},{\"attributes\":{\"line_alpha\":0.2,\"line_color\":\"grey\",\"line_width\":2,\"x\":{\"field\":\"x\"},\"y\":{\"field\":\"y\"}},\"id\":\"112066\",\"type\":\"Line\"},{\"attributes\":{},\"id\":\"112029\",\"type\":\"DataRange1d\"},{\"attributes\":{\"line_alpha\":0.1,\"line_color\":\"orange\",\"line_width\":2,\"x\":{\"field\":\"x\"},\"y\":{\"field\":\"y\"}},\"id\":\"112083\",\"type\":\"Line\"}],\"root_ids\":[\"112093\"]},\"title\":\"Bokeh Application\",\"version\":\"2.4.1\"}};\n",
       "  const render_items = [{\"docid\":\"fbc6df68-99b0-478c-93b7-befc3b5fa6d4\",\"root_ids\":[\"112093\"],\"roots\":{\"112093\":\"75e0cc3f-8e0e-471b-bae1-039591b989dd\"}}];\n",
       "  root.Bokeh.embed.embed_items_notebook(docs_json, render_items);\n",
       "\n",
       "  }\n",
       "  if (root.Bokeh !== undefined) {\n",
       "    embed_document(root);\n",
       "  } else {\n",
       "    let attempts = 0;\n",
       "    const timer = setInterval(function(root) {\n",
       "      if (root.Bokeh !== undefined) {\n",
       "        clearInterval(timer);\n",
       "        embed_document(root);\n",
       "      } else {\n",
       "        attempts++;\n",
       "        if (attempts > 100) {\n",
       "          clearInterval(timer);\n",
       "          console.log(\"Bokeh: ERROR: Unable to run BokehJS code because BokehJS library is missing\");\n",
       "        }\n",
       "      }\n",
       "    }, 10, root)\n",
       "  }\n",
       "})(window);"
      ],
      "application/vnd.bokehjs_exec.v0+json": ""
     },
     "metadata": {
      "application/vnd.bokehjs_exec.v0+json": {
       "id": "112093"
      }
     },
     "output_type": "display_data"
    }
   ],
   "source": [
    "fig_size = [260, 115] # for paper size (260/115), half size (144,115), visualize (600/200)\n",
    "x_range = (0, time_points[-1])\n",
    "y_range = (0, 200)\n",
    "\n",
    "plots = []\n",
    "for i in range(2):\n",
    "    plots.append(bokeh.plotting.figure(plot_width=fig_size[0], plot_height=fig_size[1],\n",
    "                          x_range=x_range, \n",
    "                          #y_range=y_range\n",
    "                          ),)\n",
    "    plots[i].axis.major_label_text_font_size = \"10pt\"\n",
    "\n",
    "dt = time_points[1] - time_points[0]\n",
    "y1 = samples[0,:,10] # samples[:,:,10][0]\n",
    "y1s = y1 - y1.mean()\n",
    "lags, auto_corr = correlate(y1s, y1s, dt)\n",
    "max_id = argrelextrema(auto_corr, np.greater)\n",
    "\n",
    "plots[0].step(time_points, y1, line_width=2, alpha= 1, line_join=\"bevel\",color=\"grey\")\n",
    "#plots[0].line(lags, auto_corr*130, line_width=2, alpha= 1, line_join=\"bevel\",color=\"black\")\n",
    "\n",
    "plots[1].line(lags, auto_corr, line_width=2, alpha= 1, line_join=\"bevel\",color=\"grey\")\n",
    "plots[1].circle(lags[max_id], auto_corr[max_id], line_width=2, alpha= 1, line_join=\"bevel\",color=\"red\")\n",
    "\n",
    "y1 = samples[0,:,13] # samples[:,:,10][0]\n",
    "y1s = y1 - y1.mean()\n",
    "lags, auto_corr = correlate(y1s, y1s, dt)\n",
    "max_id = argrelextrema(auto_corr, np.greater)\n",
    "\n",
    "plots[0].step(time_points, y1, line_width=2, alpha= 1, line_join=\"bevel\",color=\"orange\")\n",
    "#plots[0].line(lags, auto_corr*130, line_width=2, alpha= 1, line_join=\"bevel\",color=\"black\")\n",
    "plots[1].line(lags, auto_corr, line_width=2, alpha= 1, line_join=\"bevel\",color=\"orange\")\n",
    "plots[1].circle(lags[max_id], auto_corr[max_id], line_width=2, alpha= 1, line_join=\"bevel\",color=\"black\")\n",
    "\n",
    "#bokeh.io.show(bokeh.layouts.gridplot(plots, ncols=2))\n",
    "bokeh.io.show(bokeh.layouts.row(plots))"
   ]
  },
  {
   "cell_type": "code",
   "execution_count": 67,
   "metadata": {
    "id": "NAhPFtfDxnub"
   },
   "outputs": [],
   "source": [
    "def FFT(t1,x1,fr):\n",
    "    n = len(x1)\n",
    "    if n % 2:\n",
    "        x = x1[:-2]\n",
    "        t = t1[:-2]\n",
    "        n = len(x)\n",
    "    else:\n",
    "        x = x1[:-1]\n",
    "        t = t1[:-1]\n",
    "\n",
    "    dt = (t[1]-t[0])\n",
    "    tf = scipy.fftpack.fftfreq(x.size, d=dt)\n",
    "    xf = scipy.fftpack.fft(x)\n",
    "    xf = np.abs(xf)**2\n",
    "    idx = np.where((tf >= fr[0]) & (tf <=fr[1]))\n",
    "    return tf[idx],xf[idx]"
   ]
  },
  {
   "cell_type": "code",
   "execution_count": 90,
   "metadata": {
    "colab": {
     "base_uri": "https://localhost:8080/",
     "height": 217
    },
    "executionInfo": {
     "elapsed": 155,
     "status": "ok",
     "timestamp": 1652092237592,
     "user": {
      "displayName": "Christian Cuba",
      "userId": "05812622177105967845"
     },
     "user_tz": 240
    },
    "id": "M4i1Gj3VqgeE",
    "outputId": "8a727a4c-db25-4b85-c26f-961f1896e178"
   },
   "outputs": [
    {
     "data": {
      "text/html": [
       "\n",
       "\n",
       "\n",
       "\n",
       "\n",
       "\n",
       "  <div class=\"bk-root\" id=\"242514a5-800b-46bc-a1ea-cc6224c97347\" data-root-id=\"114383\"></div>\n"
      ]
     },
     "metadata": {},
     "output_type": "display_data"
    },
    {
     "data": {
      "application/javascript": [
       "(function(root) {\n",
       "  function embed_document(root) {\n",
       "    \n",
       "  const docs_json = {\"c4a8392b-70a9-4921-bb63-86b25f596cab\":{\"defs\":[],\"roots\":{\"references\":[{\"attributes\":{\"children\":[{\"id\":\"113931\"},{\"id\":\"113962\"}]},\"id\":\"114383\",\"type\":\"Row\"},{\"attributes\":{},\"id\":\"114025\",\"type\":\"UnionRenderers\"},{\"attributes\":{},\"id\":\"113963\",\"type\":\"DataRange1d\"},{\"attributes\":{\"coordinates\":null,\"data_source\":{\"id\":\"114011\"},\"glyph\":{\"id\":\"114012\"},\"group\":null,\"hover_glyph\":null,\"muted_glyph\":{\"id\":\"114014\"},\"nonselection_glyph\":{\"id\":\"114013\"},\"view\":{\"id\":\"114016\"}},\"id\":\"114015\",\"type\":\"GlyphRenderer\"},{\"attributes\":{\"axis\":{\"id\":\"113971\"},\"coordinates\":null,\"group\":null,\"ticker\":null},\"id\":\"113974\",\"type\":\"Grid\"},{\"attributes\":{},\"id\":\"114027\",\"type\":\"UnionRenderers\"},{\"attributes\":{\"source\":{\"id\":\"113999\"}},\"id\":\"114004\",\"type\":\"CDSView\"},{\"attributes\":{},\"id\":\"114028\",\"type\":\"Selection\"},{\"attributes\":{\"line_color\":\"orange\",\"line_width\":2,\"x\":{\"field\":\"x\"},\"y\":{\"field\":\"y\"}},\"id\":\"114012\",\"type\":\"Line\"},{\"attributes\":{\"data\":{\"x\":{\"__ndarray__\":\"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\",\"dtype\":\"float64\",\"order\":\"little\",\"shape\":[401]},\"y\":{\"__ndarray__\":\"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\",\"dtype\":\"float64\",\"order\":\"little\",\"shape\":[401]}},\"selected\":{\"id\":\"114026\"},\"selection_policy\":{\"id\":\"114025\"}},\"id\":\"113993\",\"type\":\"ColumnDataSource\"},{\"attributes\":{},\"id\":\"113952\",\"type\":\"ResetTool\"},{\"attributes\":{},\"id\":\"113972\",\"type\":\"BasicTicker\"},{\"attributes\":{\"coordinates\":null,\"data_source\":{\"id\":\"114005\"},\"glyph\":{\"id\":\"114006\"},\"group\":null,\"hover_glyph\":null,\"muted_glyph\":{\"id\":\"114008\"},\"nonselection_glyph\":{\"id\":\"114007\"},\"view\":{\"id\":\"114010\"}},\"id\":\"114009\",\"type\":\"GlyphRenderer\"},{\"attributes\":{},\"id\":\"114208\",\"type\":\"UnionRenderers\"},{\"attributes\":{\"tools\":[{\"id\":\"113948\"},{\"id\":\"113949\"},{\"id\":\"113950\"},{\"id\":\"113951\"},{\"id\":\"113952\"},{\"id\":\"113953\"}]},\"id\":\"113955\",\"type\":\"Toolbar\"},{\"attributes\":{},\"id\":\"114024\",\"type\":\"AllLabels\"},{\"attributes\":{\"overlay\":{\"id\":\"113954\"}},\"id\":\"113950\",\"type\":\"BoxZoomTool\"},{\"attributes\":{},\"id\":\"114206\",\"type\":\"BasicTickFormatter\"},{\"attributes\":{\"coordinates\":null,\"formatter\":{\"id\":\"114203\"},\"group\":null,\"major_label_policy\":{\"id\":\"114204\"},\"major_label_text_font_size\":\"10pt\",\"ticker\":{\"id\":\"113976\"}},\"id\":\"113975\",\"type\":\"LinearAxis\"},{\"attributes\":{\"line_alpha\":0.2,\"line_color\":\"orange\",\"line_width\":2,\"x\":{\"field\":\"x\"},\"y\":{\"field\":\"y\"}},\"id\":\"114008\",\"type\":\"Line\"},{\"attributes\":{\"axis\":{\"id\":\"113975\"},\"coordinates\":null,\"dimension\":1,\"group\":null,\"ticker\":null},\"id\":\"113978\",\"type\":\"Grid\"},{\"attributes\":{},\"id\":\"114210\",\"type\":\"UnionRenderers\"},{\"attributes\":{\"data\":{\"x\":{\"__ndarray__\":\"AAAAAAAAAACfmoFqBqqZP5+agWoGqqk/9zPhz4Q/sz+fmoFqBqq5P6MAkQJECsA/9zPhz4Q/wz9LZzGdxXTGP5+agWoGqsk/883RN0ffzD+jAJECRArQP00aOWnkpNE/9zPhz4Q/0z+hTYk2JdrUP0tnMZ3FdNY/9YDZA2YP2D+fmoFqBqrZP0m0KdGmRNs/883RN0ff3D+d53me53neP6MAkQJECuA/eA3lNZTX4D9NGjlp5KThPyInjZw0cuI/9zPhz4Q/4z/MQDUD1QzkP6FNiTYl2uQ/dlrdaXWn5T9LZzGdxXTmPyB0hdAVQuc/9YDZA2YP6D/KjS03ttzoP5+agWoGquk/dKfVnVZ36j9JtCnRpkTrPx7BfQT3Eew/883RN0ff7D/I2iVrl6ztP53neZ7nee4/cvTN0TdH7z8=\",\"dtype\":\"float64\",\"order\":\"little\",\"shape\":[40]},\"y\":{\"__ndarray__\":\"HmdqbheRzj8eAlBl/XVfQPIme2aygVVAZyV7IATWSEDnVZlSJ04TQIgorMWUaEhAGR/n/J0CVUDeoi6+/4CPQNUrKL75tHJAM9RCUyxdS0CnTAoFRM0wQAhFusNgk1FA/rpUNGucM0DVU8xGvb1HQIp/ZVu/6ylAmnKzcxxbOUByaws5+AEXQEm+Ro2VlERAHMII1tqkOECqy8cu4J4UQKiDxe1x50JAicGEmbE5QEAPqWzABycvQJ6qlWxuIiFAaSr+BzhbK0CCWZ6KBswgQH05hgiZ1SVA/LnBTiBXIEDqFwbC/W4aQNWLEhf8lxdAj9++eBAXEUDteLF4FBwTQBSCshAY1xZAbP29wwZnFEDDJYcjS10QQB0axPlj7xRAK8stkxc/EUDXcu4wUjAPQK3wJqW60glAD/nZoQtZCkA=\",\"dtype\":\"float64\",\"order\":\"little\",\"shape\":[40]}},\"selected\":{\"id\":\"114211\"},\"selection_policy\":{\"id\":\"114210\"}},\"id\":\"114011\",\"type\":\"ColumnDataSource\"},{\"attributes\":{},\"id\":\"114023\",\"type\":\"BasicTickFormatter\"},{\"attributes\":{},\"id\":\"113967\",\"type\":\"LinearScale\"},{\"attributes\":{\"coordinates\":null,\"data_source\":{\"id\":\"113999\"},\"glyph\":{\"id\":\"114000\"},\"group\":null,\"hover_glyph\":null,\"muted_glyph\":{\"id\":\"114002\"},\"nonselection_glyph\":{\"id\":\"114001\"},\"view\":{\"id\":\"114004\"}},\"id\":\"114003\",\"type\":\"GlyphRenderer\"},{\"attributes\":{},\"id\":\"114207\",\"type\":\"AllLabels\"},{\"attributes\":{\"data\":{\"x\":{\"__ndarray__\":\"AAAAAAAAAACfmoFqBqqZP5+agWoGqqk/9zPhz4Q/sz+fmoFqBqq5P6MAkQJECsA/9zPhz4Q/wz9LZzGdxXTGP5+agWoGqsk/883RN0ffzD+jAJECRArQP00aOWnkpNE/9zPhz4Q/0z+hTYk2JdrUP0tnMZ3FdNY/9YDZA2YP2D+fmoFqBqrZP0m0KdGmRNs/883RN0ff3D+d53me53neP6MAkQJECuA/eA3lNZTX4D9NGjlp5KThPyInjZw0cuI/9zPhz4Q/4z/MQDUD1QzkP6FNiTYl2uQ/dlrdaXWn5T9LZzGdxXTmPyB0hdAVQuc/9YDZA2YP6D/KjS03ttzoP5+agWoGquk/dKfVnVZ36j9JtCnRpkTrPx7BfQT3Eew/883RN0ff7D/I2iVrl6ztP53neZ7nee4/cvTN0TdH7z8=\",\"dtype\":\"float64\",\"order\":\"little\",\"shape\":[40]},\"y\":{\"__ndarray__\":\"UtqGMXutzz/ZfpEcPVpmQCOI/m7UbJdAX3RkgPt/ZEDfjrsVZ3N1QCWvXB13tztAkEswf/H7bkDLAcvm7HldQO3pdIqO5VdAffyh2phnUkBn50oojXFFQJSZfubW2ThAcjLul64VNkCCFimdUgBCQIgwIDscazNAGEV9lm8DMUDkxICuDY80QM8PJJ7HyC5AmqrhXhhtJkA8dsENMfkyQK4emPOqbipA4ZUK3YWzKECeask6UAgkQNdHsb8wPiBActLAV6PfGkAuc0JWjVwcQGim1LAyuhhAE8jcO9LVGEDLzesz2W4YQIlF2y6TMRNA4ekNlHHnDUBmmsQ3q6ITQDnwiF8VchJAHeAmm+9PDECW0W94mgsVQNTmtzMGSg5A31XN9SxYDUASKIpHvhsOQPdl9oPAzAhA3PXUO+hXCUA=\",\"dtype\":\"float64\",\"order\":\"little\",\"shape\":[40]}},\"selected\":{\"id\":\"114209\"},\"selection_policy\":{\"id\":\"114208\"}},\"id\":\"113999\",\"type\":\"ColumnDataSource\"},{\"attributes\":{\"source\":{\"id\":\"114011\"}},\"id\":\"114016\",\"type\":\"CDSView\"},{\"attributes\":{\"line_alpha\":0.2,\"line_color\":\"grey\",\"line_width\":2,\"x\":{\"field\":\"x\"},\"y\":{\"field\":\"y\"}},\"id\":\"113996\",\"type\":\"Line\"},{\"attributes\":{},\"id\":\"113969\",\"type\":\"LinearScale\"},{\"attributes\":{\"line_alpha\":0.1,\"line_color\":\"grey\",\"line_width\":2,\"x\":{\"field\":\"x\"},\"y\":{\"field\":\"y\"}},\"id\":\"113995\",\"type\":\"Line\"},{\"attributes\":{\"line_alpha\":0.1,\"line_color\":\"orange\",\"line_width\":2,\"x\":{\"field\":\"x\"},\"y\":{\"field\":\"y\"}},\"id\":\"114013\",\"type\":\"Line\"},{\"attributes\":{\"line_alpha\":0.1,\"line_color\":\"orange\",\"line_width\":2,\"x\":{\"field\":\"x\"},\"y\":{\"field\":\"y\"}},\"id\":\"114007\",\"type\":\"Line\"},{\"attributes\":{},\"id\":\"113976\",\"type\":\"BasicTicker\"},{\"attributes\":{},\"id\":\"114209\",\"type\":\"Selection\"},{\"attributes\":{},\"id\":\"114203\",\"type\":\"BasicTickFormatter\"},{\"attributes\":{},\"id\":\"113949\",\"type\":\"WheelZoomTool\"},{\"attributes\":{},\"id\":\"113984\",\"type\":\"HelpTool\"},{\"attributes\":{\"source\":{\"id\":\"114005\"}},\"id\":\"114010\",\"type\":\"CDSView\"},{\"attributes\":{\"line_alpha\":0.2,\"line_color\":\"grey\",\"line_width\":2,\"x\":{\"field\":\"x\"},\"y\":{\"field\":\"y\"}},\"id\":\"114002\",\"type\":\"Line\"},{\"attributes\":{\"bottom_units\":\"screen\",\"coordinates\":null,\"fill_alpha\":0.5,\"fill_color\":\"lightgrey\",\"group\":null,\"left_units\":\"screen\",\"level\":\"overlay\",\"line_alpha\":1.0,\"line_color\":\"black\",\"line_dash\":[4,4],\"line_width\":2,\"right_units\":\"screen\",\"syncable\":false,\"top_units\":\"screen\"},\"id\":\"113985\",\"type\":\"BoxAnnotation\"},{\"attributes\":{},\"id\":\"114211\",\"type\":\"Selection\"},{\"attributes\":{},\"id\":\"114204\",\"type\":\"AllLabels\"},{\"attributes\":{},\"id\":\"114026\",\"type\":\"Selection\"},{\"attributes\":{\"coordinates\":null,\"group\":null},\"id\":\"114200\",\"type\":\"Title\"},{\"attributes\":{\"line_color\":\"grey\",\"line_width\":2,\"x\":{\"field\":\"x\"},\"y\":{\"field\":\"y\"}},\"id\":\"114000\",\"type\":\"Line\"},{\"attributes\":{},\"id\":\"114020\",\"type\":\"BasicTickFormatter\"},{\"attributes\":{\"line_alpha\":0.2,\"line_color\":\"orange\",\"line_width\":2,\"x\":{\"field\":\"x\"},\"y\":{\"field\":\"y\"}},\"id\":\"114014\",\"type\":\"Line\"},{\"attributes\":{},\"id\":\"113951\",\"type\":\"SaveTool\"},{\"attributes\":{},\"id\":\"113965\",\"type\":\"DataRange1d\"},{\"attributes\":{\"line_alpha\":0.1,\"line_color\":\"grey\",\"line_width\":2,\"x\":{\"field\":\"x\"},\"y\":{\"field\":\"y\"}},\"id\":\"114001\",\"type\":\"Line\"},{\"attributes\":{\"tools\":[{\"id\":\"113979\"},{\"id\":\"113980\"},{\"id\":\"113981\"},{\"id\":\"113982\"},{\"id\":\"113983\"},{\"id\":\"113984\"}]},\"id\":\"113986\",\"type\":\"Toolbar\"},{\"attributes\":{\"coordinates\":null,\"formatter\":{\"id\":\"114020\"},\"group\":null,\"major_label_policy\":{\"id\":\"114021\"},\"major_label_text_font_size\":\"10pt\",\"ticker\":{\"id\":\"113945\"}},\"id\":\"113944\",\"type\":\"LinearAxis\"},{\"attributes\":{},\"id\":\"114021\",\"type\":\"AllLabels\"},{\"attributes\":{\"coordinates\":null,\"formatter\":{\"id\":\"114206\"},\"group\":null,\"major_label_policy\":{\"id\":\"114207\"},\"major_label_text_font_size\":\"10pt\",\"ticker\":{\"id\":\"113972\"}},\"id\":\"113971\",\"type\":\"LinearAxis\"},{\"attributes\":{\"bottom_units\":\"screen\",\"coordinates\":null,\"fill_alpha\":0.5,\"fill_color\":\"lightgrey\",\"group\":null,\"left_units\":\"screen\",\"level\":\"overlay\",\"line_alpha\":1.0,\"line_color\":\"black\",\"line_dash\":[4,4],\"line_width\":2,\"right_units\":\"screen\",\"syncable\":false,\"top_units\":\"screen\"},\"id\":\"113954\",\"type\":\"BoxAnnotation\"},{\"attributes\":{},\"id\":\"113953\",\"type\":\"HelpTool\"},{\"attributes\":{},\"id\":\"113936\",\"type\":\"LinearScale\"},{\"attributes\":{},\"id\":\"113938\",\"type\":\"LinearScale\"},{\"attributes\":{},\"id\":\"113941\",\"type\":\"BasicTicker\"},{\"attributes\":{},\"id\":\"113934\",\"type\":\"DataRange1d\"},{\"attributes\":{},\"id\":\"113983\",\"type\":\"ResetTool\"},{\"attributes\":{},\"id\":\"113980\",\"type\":\"WheelZoomTool\"},{\"attributes\":{\"axis\":{\"id\":\"113940\"},\"coordinates\":null,\"group\":null,\"ticker\":null},\"id\":\"113943\",\"type\":\"Grid\"},{\"attributes\":{\"coordinates\":null,\"group\":null},\"id\":\"114017\",\"type\":\"Title\"},{\"attributes\":{\"axis\":{\"id\":\"113944\"},\"coordinates\":null,\"dimension\":1,\"group\":null,\"ticker\":null},\"id\":\"113947\",\"type\":\"Grid\"},{\"attributes\":{},\"id\":\"113982\",\"type\":\"SaveTool\"},{\"attributes\":{},\"id\":\"113948\",\"type\":\"PanTool\"},{\"attributes\":{\"line_color\":\"orange\",\"line_width\":2,\"x\":{\"field\":\"x\"},\"y\":{\"field\":\"y\"}},\"id\":\"114006\",\"type\":\"Line\"},{\"attributes\":{\"source\":{\"id\":\"113993\"}},\"id\":\"113998\",\"type\":\"CDSView\"},{\"attributes\":{\"overlay\":{\"id\":\"113985\"}},\"id\":\"113981\",\"type\":\"BoxZoomTool\"},{\"attributes\":{},\"id\":\"113945\",\"type\":\"BasicTicker\"},{\"attributes\":{\"below\":[{\"id\":\"113971\"}],\"center\":[{\"id\":\"113974\"},{\"id\":\"113978\"}],\"height\":115,\"left\":[{\"id\":\"113975\"}],\"output_backend\":\"svg\",\"renderers\":[{\"id\":\"114003\"},{\"id\":\"114015\"}],\"title\":{\"id\":\"114200\"},\"toolbar\":{\"id\":\"113986\"},\"width\":150,\"x_range\":{\"id\":\"113963\"},\"x_scale\":{\"id\":\"113967\"},\"y_range\":{\"id\":\"113965\"},\"y_scale\":{\"id\":\"113969\"}},\"id\":\"113962\",\"subtype\":\"Figure\",\"type\":\"Plot\"},{\"attributes\":{},\"id\":\"113932\",\"type\":\"DataRange1d\"},{\"attributes\":{},\"id\":\"113979\",\"type\":\"PanTool\"},{\"attributes\":{\"coordinates\":null,\"data_source\":{\"id\":\"113993\"},\"glyph\":{\"id\":\"113994\"},\"group\":null,\"hover_glyph\":null,\"muted_glyph\":{\"id\":\"113996\"},\"nonselection_glyph\":{\"id\":\"113995\"},\"view\":{\"id\":\"113998\"}},\"id\":\"113997\",\"type\":\"GlyphRenderer\"},{\"attributes\":{\"below\":[{\"id\":\"113940\"}],\"center\":[{\"id\":\"113943\"},{\"id\":\"113947\"}],\"height\":115,\"left\":[{\"id\":\"113944\"}],\"output_backend\":\"svg\",\"renderers\":[{\"id\":\"113997\"},{\"id\":\"114009\"}],\"title\":{\"id\":\"114017\"},\"toolbar\":{\"id\":\"113955\"},\"width\":150,\"x_range\":{\"id\":\"113932\"},\"x_scale\":{\"id\":\"113936\"},\"y_range\":{\"id\":\"113934\"},\"y_scale\":{\"id\":\"113938\"}},\"id\":\"113931\",\"subtype\":\"Figure\",\"type\":\"Plot\"},{\"attributes\":{\"coordinates\":null,\"formatter\":{\"id\":\"114023\"},\"group\":null,\"major_label_policy\":{\"id\":\"114024\"},\"major_label_text_font_size\":\"10pt\",\"ticker\":{\"id\":\"113941\"}},\"id\":\"113940\",\"type\":\"LinearAxis\"},{\"attributes\":{\"line_color\":\"grey\",\"line_width\":2,\"x\":{\"field\":\"x\"},\"y\":{\"field\":\"y\"}},\"id\":\"113994\",\"type\":\"Line\"},{\"attributes\":{\"data\":{\"x\":{\"__ndarray__\":\"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\",\"dtype\":\"float64\",\"order\":\"little\",\"shape\":[401]},\"y\":{\"__ndarray__\":\"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\",\"dtype\":\"float64\",\"order\":\"little\",\"shape\":[401]}},\"selected\":{\"id\":\"114028\"},\"selection_policy\":{\"id\":\"114027\"}},\"id\":\"114005\",\"type\":\"ColumnDataSource\"}],\"root_ids\":[\"114383\"]},\"title\":\"Bokeh Application\",\"version\":\"2.4.1\"}};\n",
       "  const render_items = [{\"docid\":\"c4a8392b-70a9-4921-bb63-86b25f596cab\",\"root_ids\":[\"114383\"],\"roots\":{\"114383\":\"242514a5-800b-46bc-a1ea-cc6224c97347\"}}];\n",
       "  root.Bokeh.embed.embed_items_notebook(docs_json, render_items);\n",
       "\n",
       "  }\n",
       "  if (root.Bokeh !== undefined) {\n",
       "    embed_document(root);\n",
       "  } else {\n",
       "    let attempts = 0;\n",
       "    const timer = setInterval(function(root) {\n",
       "      if (root.Bokeh !== undefined) {\n",
       "        clearInterval(timer);\n",
       "        embed_document(root);\n",
       "      } else {\n",
       "        attempts++;\n",
       "        if (attempts > 100) {\n",
       "          clearInterval(timer);\n",
       "          console.log(\"Bokeh: ERROR: Unable to run BokehJS code because BokehJS library is missing\");\n",
       "        }\n",
       "      }\n",
       "    }, 10, root)\n",
       "  }\n",
       "})(window);"
      ],
      "application/vnd.bokehjs_exec.v0+json": ""
     },
     "metadata": {
      "application/vnd.bokehjs_exec.v0+json": {
       "id": "114383"
      }
     },
     "output_type": "display_data"
    }
   ],
   "source": [
    "fig_size = [150, 115] # for paper size (260/115), half size (144,115), visualize (600/200)\n",
    "x_range = (0, time_points[-1])\n",
    "y_range = (0, 200)\n",
    "\n",
    "plots = []\n",
    "for i in range(2):\n",
    "    plots.append(bokeh.plotting.figure(plot_width=fig_size[0], plot_height=fig_size[1],\n",
    "                          #x_range=x_range,y_range=y_range\n",
    "                          ),)\n",
    "    plots[i].axis.major_label_text_font_size = \"10pt\"\n",
    "\n",
    "dt = time_points[1] - time_points[0]\n",
    "\n",
    "y1 = samples[0,:,10] # samples[:,:,10][0]\n",
    "y1s = y1 - y1.mean()\n",
    "lags, auto_corr = correlate(y1s, y1s, dt)\n",
    "f,Mf = FFT(lags, auto_corr, (0, 1))\n",
    "\n",
    "plots[0].line(lags, auto_corr, line_width=2, alpha= 1, line_join=\"bevel\",color=\"grey\")\n",
    "plots[1].line(f, Mf, line_width=2, alpha= 1, line_join=\"bevel\",color=\"grey\")\n",
    "\n",
    "y1 = samples[0,:,13] # samples[:,:,10][0]\n",
    "y1s = y1 - y1.mean()\n",
    "lags, auto_corr = correlate(y1s, y1s, dt)\n",
    "\n",
    "f,Mf = FFT(lags, auto_corr, (0, 1))\n",
    "#f,Mf = FFT(time_points, y1s, (0, 1))\n",
    "\n",
    "plots[0].line(lags, auto_corr, line_width=2, alpha= 1, line_join=\"bevel\",color=\"orange\")\n",
    "plots[1].line(f, Mf, line_width=2, alpha= 1, line_join=\"bevel\",color=\"orange\")\n",
    "\n",
    "plots[0].output_backend = \"svg\"\n",
    "export_svgs(plots[0],filename=\"fig/Plot_ACC.svg\")\n",
    "\n",
    "plots[1].output_backend = \"svg\"\n",
    "export_svgs(plots[1],filename=\"fig/Plot_freq.svg\")\n",
    "\n",
    "bokeh.io.show(bokeh.layouts.row(plots))"
   ]
  },
  {
   "cell_type": "code",
   "execution_count": null,
   "metadata": {
    "id": "gIq0JFaxvREs"
   },
   "outputs": [],
   "source": [
    "# Specify parameters for calculation\n",
    "n = 1 # copy number of promoter\n",
    "th = .3*60/n # 1/h\n",
    "rh = 80 # 1/h\n",
    "ph = 0.6931/10*60 # 1/h log(2)=0.6931\n",
    "d = 0.6931/30*60 # 1/h log(2)=0.6931\n",
    "g = 2.1*36 # 1/uM/h \n",
    "gd = g*0.01 # 1/h\n",
    "r = 1 # 1/h Switching -- rate 5 and 1 for paper\n",
    "a0 = 2.1*36\n",
    "d0 = 0.1*a0\n",
    "\n",
    "Omega = 600 # 600\n",
    "size = 125\n",
    "#dir = \"/content/drive/My Drive/Research/2022/RecombinaseOscillator/\"\n",
    "f_name = dir+\"Model_1_Data_\"+str(size)+\"_r\"+str(r)+\".npy\"\n",
    "\n",
    "args = (th, rh, ph, d, g, gd, a0, d0, r, Omega, n)\n",
    "time_points = np.linspace(0, 40, 401)\n",
    "population_0 = np.zeros(15, dtype=int)\n",
    "population_0[0] = n\n",
    "\n",
    "if os.path.exists(f_name):\n",
    "    samples = np.load(f_name)\n",
    "else:\n",
    "    samples = biocircuits.gillespie_ssa(simple_propensity, simple_update, population_0,time_points, size=size, args=args, n_threads=4,progress_bar=True)\n",
    "    #np.savetxt(f_name, samples, fmt='%d')\n",
    "    np.save(f_name, samples)\n"
   ]
  },
  {
   "cell_type": "code",
   "execution_count": null,
   "metadata": {
    "id": "p9TmQcH5mma5"
   },
   "outputs": [],
   "source": [
    "# This function finds the time of the peak\n",
    "def FindPicks(t,samples):\n",
    "    ys = samples - samples.mean()\n",
    "    lags, auto_corr = correlate(ys, ys, t[1]-t[0])\n",
    "    max_id = argrelextrema(auto_corr, np.greater)\n",
    "    return t[max_id[0][0:4]]"
   ]
  },
  {
   "cell_type": "code",
   "execution_count": null,
   "metadata": {
    "id": "BaoCDS_fnnLY"
   },
   "outputs": [],
   "source": [
    "t_peaks = FindPicks(time_points,samples[0,:,10])\n",
    "for i in range(1,samples.shape[0]):\n",
    "    t_peaks = np.vstack((t_peaks,FindPicks(time_points,samples[i,:,10])))\n",
    "\n",
    "#print(tmp)"
   ]
  },
  {
   "cell_type": "code",
   "execution_count": null,
   "metadata": {
    "id": "yz1UOcgir_kU"
   },
   "outputs": [],
   "source": [
    "fig_size = [300, 200] # for paper size (144, 110) # for larger size (144,144)\n",
    "x_range = (0, time_points[-1])\n",
    "y_range = (0, 200)\n",
    "\n",
    "plots = []\n",
    "for i in range(3):\n",
    "    plots.append(bokeh.plotting.figure(plot_width=fig_size[0], plot_height=fig_size[1],\n",
    "                          #x_range=x_range,y_range=y_range\n",
    "                          ),)\n",
    "    plots[i].axis.major_label_text_font_size = \"10pt\"\n",
    "\n",
    "x = np.linspace(0,20,41)\n",
    "\n",
    "for j in range(3):\n",
    "    hist, bin_edges = np.histogram(t_peaks[:,j], x, density=True)\n",
    "    plots[j].quad(top=hist, bottom=0, left=bin_edges[:-1], right=bin_edges[1:],fill_color=\"grey\", line_color=\"grey\", fill_alpha=0.2,line_alpha=0.)\n",
    "    plots[j].step(bin_edges[:-1],hist, line_width=2, mode=\"after\", color = \"grey\")\n",
    "\n",
    "bokeh.io.show(bokeh.layouts.row(plots))"
   ]
  },
  {
   "cell_type": "code",
   "execution_count": 8,
   "metadata": {
    "executionInfo": {
     "elapsed": 204,
     "status": "ok",
     "timestamp": 1652456408708,
     "user": {
      "displayName": "Christian Cuba",
      "userId": "05812622177105967845"
     },
     "user_tz": 240
    },
    "id": "8-pcHov6F58J"
   },
   "outputs": [],
   "source": [
    "# This function finds the Delta T between peak times\n",
    "def FindDeltaT(t,samples):\n",
    "    ys = samples - samples.mean()\n",
    "    lags, auto_corr = correlate(ys, ys, t[1]-t[0])\n",
    "    max_id = argrelextrema(auto_corr, np.greater)\n",
    "    return t[max_id[0][1:5]]-t[max_id[0][0]]"
   ]
  },
  {
   "cell_type": "code",
   "execution_count": null,
   "metadata": {
    "colab": {
     "base_uri": "https://localhost:8080/",
     "height": 204
    },
    "executionInfo": {
     "elapsed": 180,
     "status": "error",
     "timestamp": 1652456402970,
     "user": {
      "displayName": "Christian Cuba",
      "userId": "05812622177105967845"
     },
     "user_tz": 240
    },
    "id": "gC_TCHbJysdl",
    "outputId": "6ec5a6c0-6c66-4bd4-9abe-39b1e0db88d6"
   },
   "outputs": [],
   "source": [
    "Delta_T = FindDeltaT(time_points,samples[0,:,10])\n",
    "for i in range(1,samples.shape[0]):\n",
    "    tmp = FindDeltaT(time_points,samples[i,:,10])\n",
    "    if len(tmp)>3:\n",
    "        Delta_T = np.vstack((Delta_T,tmp))"
   ]
  },
  {
   "cell_type": "code",
   "execution_count": null,
   "metadata": {
    "id": "z5LeyEZcyvQ1"
   },
   "outputs": [],
   "source": [
    "fig_size = [150, 115] # for paper size (144, 115) # for larger size (144,144)\n",
    "x_range = (0, 40)\n",
    "y_range = (0, 140)\n",
    "\n",
    "plots = []\n",
    "for i in range(4):\n",
    "    plots.append(bokeh.plotting.figure(plot_width=fig_size[0], plot_height=fig_size[1],\n",
    "                          x_range=x_range,y_range=y_range\n",
    "                          ),)\n",
    "    plots[i].axis.major_label_text_font_size = \"10pt\"\n",
    "\n",
    "x = np.linspace(0,50,51)\n",
    "\n",
    "for j in range(4):\n",
    "    hist, bin_edges = np.histogram(Delta_T[:,j], x, density=False)\n",
    "    plots[j].quad(top=hist, bottom=0, left=bin_edges[:-1], right=bin_edges[1:],fill_color=\"grey\", line_color=\"grey\", fill_alpha=0.2,line_alpha=0.)\n",
    "    plots[j].step(bin_edges[:-1],hist, line_width=2, mode=\"after\", color = \"grey\")\n",
    "\n",
    "bokeh.io.show(bokeh.layouts.row(plots))"
   ]
  },
  {
   "cell_type": "markdown",
   "metadata": {},
   "source": [
    "#### Computing the peak vs the variance"
   ]
  },
  {
   "cell_type": "code",
   "execution_count": null,
   "metadata": {
    "id": "RPHurCE6zQX8"
   },
   "outputs": [],
   "source": [
    "# Set up plots\n",
    "# For two digits 260 by 115 larger and 144 by 115 for half size\n",
    "# For three digits 266 by 115 larger and 150 by 115 for half size\n",
    "fig_size = [144, 115] # for paper size (144, 110) # for larger size (144,144)\n",
    "x_range = (0, 5)\n",
    "y_range = (0, 40)\n",
    "\n",
    "plots = []\n",
    "for i in range(1):\n",
    "    plots.append(bokeh.plotting.figure(plot_width=fig_size[0], plot_height=fig_size[1],\n",
    "                          x_range=x_range,y_range=y_range\n",
    "                          ),)\n",
    "    plots[i].axis.major_label_text_font_size = \"10pt\"\n",
    "\n",
    "vx = range(1,5)\n",
    "vy = np.var(Delta_T, axis=0)\n",
    "\n",
    "plots[0].circle(vx,vy, line_width=2,color=\"black\")\n",
    "\n",
    "L_eq = np.polyfit(vx,vy,1)\n",
    "plots[0].line(vx, np.poly1d(L_eq)(vx), line_width=2, alpha= 0.5, line_join=\"bevel\",color=\"blue\")\n",
    "\n",
    "plots[0].output_backend = \"svg\"\n",
    "#export_svgs(plots[0],filename=\"fig/Plot_IncoherentMetric_r1.svg\")\n",
    "\n",
    "bokeh.io.show(bokeh.layouts.row(plots))"
   ]
  },
  {
   "cell_type": "code",
   "execution_count": null,
   "metadata": {
    "id": "knalF4eVAqxI"
   },
   "outputs": [],
   "source": [
    "L_eq"
   ]
  },
  {
   "cell_type": "code",
   "execution_count": null,
   "metadata": {
    "colab": {
     "base_uri": "https://localhost:8080/"
    },
    "executionInfo": {
     "elapsed": 180,
     "status": "ok",
     "timestamp": 1651707135525,
     "user": {
      "displayName": "Christian Cuba",
      "userId": "05812622177105967845"
     },
     "user_tz": 240
    },
    "id": "dbiQvnVC4zNb",
    "outputId": "b8dc7058-c0a2-4845-979f-7649ceeca9ed"
   },
   "outputs": [],
   "source": [
    "# Specify parameters for calculation\n",
    "n = 1 # copy number of promoter\n",
    "th = .3*60/n # 1/h\n",
    "rh = 80 # 1/h\n",
    "ph = 0.6931/10*60 # 1/h log(2)=0.6931\n",
    "d = 0.6931/30*60 # 1/h log(2)=0.6931\n",
    "g = 2.1*36 # 1/uM/h \n",
    "gd = g*0.01 # 1/h\n",
    "r = 5 # 1/h Switching rate\n",
    "a0 = 2.1*36/2\n",
    "d0 = 0.1*a0\n",
    "\n",
    "Omega = 600 # 600\n",
    "size = 250\n",
    "state = 10 # 10 (recombinase 1) or 13 (recombinase 2)\n",
    "args = (th, rh, ph, d, g, gd, a0, d0, r, Omega, n)\n",
    "\n",
    "time_points = np.linspace(0, 40, 401) # 40 by 401\n",
    "population_0 = np.zeros(15, dtype=int)\n",
    "population_0[0] = n\n",
    "\n",
    "param = (2,3,4,6,8)\n",
    "#param = range(0,8)\n",
    "scale = (1./4, 1./3, 1./2, 1., 2.,3., 4.)\n",
    "vx = range(1,5)\n",
    "\n",
    "out = np.array((0., 1./4, 1./3, 1./2, 1., 2., 3., 4.))\n",
    "\n",
    "#dir = \"/content/drive/My Drive/Research/2022/RecombinaseOscillator/\"\n",
    "f_name2 = dir+\"Model_1_AllSensitivity_\"+str(size)+\".npy\"\n",
    "\n",
    "if os.path.exists(f_name2):\n",
    "    out = np.load(f_name2)\n",
    "    idx = param.index(out[-1,0])+1\n",
    "else:\n",
    "    idx = 0\n",
    "\n",
    "if idx<len(param):\n",
    "    for par in param[idx:]:\n",
    "        print(par)\n",
    "        tmp = np.array((par))\n",
    "        args_i = np.array((th, rh, ph, d, g, gd, a0, d0, r, Omega, n))\n",
    "        for fac in scale:\n",
    "            # Update model para\n",
    "            args_i[par] = args[par]*fac\n",
    "            samples = biocircuits.gillespie_ssa(simple_propensity, simple_update, population_0,time_points, size=size, args=tuple(args_i), n_threads=2,progress_bar=False)\n",
    "\n",
    "            # Stack T1, T2, T3, T4\n",
    "            Delta_T = FindDeltaT(time_points,samples[0,:,state])\n",
    "            for i in range(1,samples.shape[0]):\n",
    "                Delta_T = np.vstack((Delta_T,FindDeltaT(time_points,samples[i,:,state])))\n",
    "\n",
    "            # Compute variance and find slope (incoherent metric)\n",
    "            vy = np.var(Delta_T, axis=0)\n",
    "            L_eq = np.polyfit(vx,vy,1)\n",
    "            tmp = np.append(tmp,L_eq[0])\n",
    "    \n",
    "        out = np.vstack((out,tmp))\n",
    "        np.save(f_name2, out)\n",
    "\n",
    "print(out)"
   ]
  },
  {
   "cell_type": "code",
   "execution_count": 9,
   "metadata": {
    "colab": {
     "base_uri": "https://localhost:8080/"
    },
    "executionInfo": {
     "elapsed": 9343286,
     "status": "ok",
     "timestamp": 1652466154887,
     "user": {
      "displayName": "Christian Cuba",
      "userId": "05812622177105967845"
     },
     "user_tz": 240
    },
    "id": "NuhGPSAdS7qI",
    "outputId": "4e5df6fa-dc87-4db0-ce18-8249fcf3954c"
   },
   "outputs": [
    {
     "name": "stdout",
     "output_type": "stream",
     "text": [
      "[[ 0.          0.25        0.33333333  0.5         1.          2.\n",
      "   3.          4.        ]\n",
      " [ 1.         12.83558447 11.79239205  6.76452934  2.98824684  1.61599742\n",
      "   1.07275514  0.90741528]\n",
      " [ 3.          5.22142211  4.8216865   3.33126811  3.62861846  3.06977179\n",
      "   4.84423328  8.48520341]\n",
      " [ 4.          3.89562113  4.31143058  3.38738121  3.1867966   2.72459149\n",
      "   2.62950143  2.60968535]\n",
      " [ 6.          9.65578581  7.53441439  6.4584155   3.37714512  1.71646245\n",
      "   1.51597959  1.17473634]\n",
      " [ 8.          8.72614077  6.68594031  4.32332672  3.04000587  1.97349312\n",
      "   1.63066181  1.54622361]]\n"
     ]
    }
   ],
   "source": [
    "# Specify parameters for calculation\n",
    "n = 1 # copy number of promoter\n",
    "th = .3*60/n # 1/h\n",
    "rh = 80 # 1/h\n",
    "ph = 0.6931/10*60 # 1/h log(2)=0.6931\n",
    "d = 0.6931/30*60 # 1/h log(2)=0.6931\n",
    "g = 2.1*36 # 1/uM/h \n",
    "gd = g*0.01 # 1/h\n",
    "r = 5 # 1/h Switching rate\n",
    "a0 = 2.1*36\n",
    "d0 = 0.1*a0\n",
    "\n",
    "Omega = 600 # 600\n",
    "size = 500\n",
    "state = 13 # 10 (recombinase 1) or 13 (recombinase 2)\n",
    "args = (th, rh, ph, d, g, gd, a0, d0, r, Omega, n)\n",
    "\n",
    "time_points = np.linspace(0, 40, 401) # 40 by 401\n",
    "population_0 = np.zeros(15, dtype=int)\n",
    "population_0[0] = n\n",
    "\n",
    "param = (1,3,4,6,8)\n",
    "#param = range(0,8)\n",
    "scale = (1./4, 1./3, 1./2, 1., 2.,3., 4.)\n",
    "vx = range(1,5)\n",
    "\n",
    "out = np.array((0., 1./4, 1./3, 1./2, 1., 2., 3., 4.))\n",
    "\n",
    "#dir = \"/content/drive/My Drive/Research/2022/RecombinaseOscillator/\"\n",
    "f_name2 = dir+\"Model_1_AllSensitivity_\"+str(size)+\".npy\"\n",
    "\n",
    "if os.path.exists(f_name2):\n",
    "    out = np.load(f_name2)\n",
    "    idx = param.index(out[-1,0])+1\n",
    "else:\n",
    "    idx = 0\n",
    "\n",
    "if idx<len(param):\n",
    "    for par in param[idx:]:\n",
    "        print(par)\n",
    "        tmp = np.array((par))\n",
    "        args_i = np.array((th, rh, ph, d, g, gd, a0, d0, r, Omega, n))\n",
    "        for fac in scale:\n",
    "            # Update model para\n",
    "            args_i[par] = args[par]*fac\n",
    "            ii = 0\n",
    "            Delta_T = np.array((0.,0.,0.,0.))\n",
    "            while ii<size+1:\n",
    "                samples = biocircuits.gillespie_ssa(simple_propensity, simple_update, population_0,time_points, size=1, args=tuple(args_i), n_threads=1,progress_bar=False)\n",
    "                try:\n",
    "                    tmp_0 = FindDeltaT(time_points,samples[0,:,state])\n",
    "                    if len(tmp_0) == 4:\n",
    "                        Delta_T = np.vstack((Delta_T,tmp_0[0:4]))\n",
    "                        ii = ii + 1\n",
    "                except: tmp_0 = 0\n",
    "                            \n",
    "            # Compute variance and find slope (incoherent metric)\n",
    "            vy = np.var(Delta_T[1:,:], axis=0)\n",
    "            L_eq = np.polyfit(vx,vy,1)\n",
    "            tmp = np.append(tmp,L_eq[0])\n",
    "    \n",
    "        out = np.vstack((out,tmp))\n",
    "        np.save(f_name2, out)\n",
    "\n",
    "print(out)"
   ]
  },
  {
   "cell_type": "code",
   "execution_count": null,
   "metadata": {
    "id": "CPXgqbXdDUWS",
    "outputId": "98972f5c-fe36-41ff-bddb-4af06b95d0e4"
   },
   "outputs": [],
   "source": [
    "i"
   ]
  },
  {
   "cell_type": "code",
   "execution_count": 24,
   "metadata": {
    "colab": {
     "base_uri": "https://localhost:8080/",
     "height": 132
    },
    "executionInfo": {
     "elapsed": 396,
     "status": "ok",
     "timestamp": 1652466718000,
     "user": {
      "displayName": "Christian Cuba",
      "userId": "05812622177105967845"
     },
     "user_tz": 240
    },
    "id": "KW7GwDcXWeru",
    "outputId": "98dcdb10-fb90-4628-8d9a-fa53880b6f7a"
   },
   "outputs": [
    {
     "data": {
      "text/html": [
       "\n",
       "\n",
       "\n",
       "\n",
       "\n",
       "\n",
       "  <div class=\"bk-root\" id=\"9be85578-d22f-47f4-83d5-51dfae1480be\" data-root-id=\"22647\"></div>\n"
      ]
     },
     "metadata": {},
     "output_type": "display_data"
    },
    {
     "data": {
      "application/javascript": [
       "(function(root) {\n",
       "  function embed_document(root) {\n",
       "    \n",
       "  const docs_json = {\"e98cc244-a3a2-45ec-9a68-403358f2bff1\":{\"defs\":[],\"roots\":{\"references\":[{\"attributes\":{\"children\":[{\"id\":\"21517\"},{\"id\":\"21548\"},{\"id\":\"21579\"},{\"id\":\"21610\"},{\"id\":\"21641\"}]},\"id\":\"22647\",\"type\":\"Row\"},{\"attributes\":{},\"id\":\"21889\",\"type\":\"UnionRenderers\"},{\"attributes\":{},\"id\":\"21658\",\"type\":\"PanTool\"},{\"attributes\":{},\"id\":\"21890\",\"type\":\"Selection\"},{\"attributes\":{\"coordinates\":null,\"data_source\":{\"id\":\"21678\"},\"glyph\":{\"id\":\"21679\"},\"group\":null,\"hover_glyph\":null,\"muted_glyph\":{\"id\":\"21681\"},\"nonselection_glyph\":{\"id\":\"21680\"},\"view\":{\"id\":\"21683\"}},\"id\":\"21682\",\"type\":\"GlyphRenderer\"},{\"attributes\":{\"coordinates\":null,\"data_source\":{\"id\":\"21672\"},\"glyph\":{\"id\":\"21673\"},\"group\":null,\"hover_glyph\":null,\"muted_glyph\":{\"id\":\"21675\"},\"nonselection_glyph\":{\"id\":\"21674\"},\"view\":{\"id\":\"21677\"}},\"id\":\"21676\",\"type\":\"GlyphRenderer\"},{\"attributes\":{\"end\":20},\"id\":\"21613\",\"type\":\"Range1d\"},{\"attributes\":{},\"id\":\"22473\",\"type\":\"Selection\"},{\"attributes\":{},\"id\":\"21646\",\"type\":\"LinearScale\"},{\"attributes\":{\"end\":4.2},\"id\":\"21580\",\"type\":\"Range1d\"},{\"attributes\":{\"end\":4.2},\"id\":\"21642\",\"type\":\"Range1d\"},{\"attributes\":{},\"id\":\"21531\",\"type\":\"BasicTicker\"},{\"attributes\":{},\"id\":\"21695\",\"type\":\"Selection\"},{\"attributes\":{\"coordinates\":null,\"formatter\":{\"id\":\"21687\"},\"group\":null,\"major_label_policy\":{\"id\":\"21688\"},\"major_label_text_font_size\":\"10pt\",\"ticker\":{\"id\":\"21531\"}},\"id\":\"21530\",\"type\":\"LinearAxis\"},{\"attributes\":{\"axis\":{\"id\":\"21650\"},\"coordinates\":null,\"group\":null,\"ticker\":null},\"id\":\"21653\",\"type\":\"Grid\"},{\"attributes\":{},\"id\":\"22471\",\"type\":\"AllLabels\"},{\"attributes\":{},\"id\":\"21888\",\"type\":\"Selection\"},{\"attributes\":{\"axis\":{\"id\":\"21530\"},\"coordinates\":null,\"dimension\":1,\"group\":null,\"ticker\":null},\"id\":\"21533\",\"type\":\"Grid\"},{\"attributes\":{\"coordinates\":null,\"formatter\":{\"id\":\"22467\"},\"group\":null,\"major_label_policy\":{\"id\":\"22468\"},\"major_label_text_font_size\":\"10pt\",\"ticker\":{\"id\":\"21655\"}},\"id\":\"21654\",\"type\":\"LinearAxis\"},{\"attributes\":{},\"id\":\"22083\",\"type\":\"Selection\"},{\"attributes\":{\"below\":[{\"id\":\"21557\"}],\"center\":[{\"id\":\"21560\"},{\"id\":\"21564\"}],\"height\":115,\"left\":[{\"id\":\"21561\"}],\"output_backend\":\"svg\",\"renderers\":[{\"id\":\"21871\"},{\"id\":\"21877\"}],\"title\":{\"id\":\"21879\"},\"toolbar\":{\"id\":\"21572\"},\"width\":144,\"x_range\":{\"id\":\"21549\"},\"x_scale\":{\"id\":\"21553\"},\"y_range\":{\"id\":\"21551\"},\"y_scale\":{\"id\":\"21555\"}},\"id\":\"21548\",\"subtype\":\"Figure\",\"type\":\"Plot\"},{\"attributes\":{\"coordinates\":null,\"formatter\":{\"id\":\"22275\"},\"group\":null,\"major_label_policy\":{\"id\":\"22276\"},\"major_label_text_font_size\":\"10pt\",\"ticker\":{\"id\":\"21620\"}},\"id\":\"21619\",\"type\":\"LinearAxis\"},{\"attributes\":{\"line_alpha\":0.1,\"line_color\":\"#f48024\",\"line_width\":2,\"x\":{\"field\":\"x\"},\"y\":{\"field\":\"y\"}},\"id\":\"21674\",\"type\":\"Line\"},{\"attributes\":{\"source\":{\"id\":\"21672\"}},\"id\":\"21677\",\"type\":\"CDSView\"},{\"attributes\":{},\"id\":\"22470\",\"type\":\"BasicTickFormatter\"},{\"attributes\":{},\"id\":\"21887\",\"type\":\"UnionRenderers\"},{\"attributes\":{\"fill_alpha\":{\"value\":0.2},\"fill_color\":{\"value\":\"#f48024\"},\"hatch_alpha\":{\"value\":0.2},\"hatch_color\":{\"value\":\"#f48024\"},\"line_alpha\":{\"value\":0.2},\"line_color\":{\"value\":\"#f48024\"},\"line_width\":{\"value\":2},\"x\":{\"field\":\"x\"},\"y\":{\"field\":\"y\"}},\"id\":\"21681\",\"type\":\"Circle\"},{\"attributes\":{},\"id\":\"21534\",\"type\":\"PanTool\"},{\"attributes\":{},\"id\":\"22082\",\"type\":\"UnionRenderers\"},{\"attributes\":{\"data\":{\"x\":{\"__ndarray__\":\"AAAAAAAA0D9VVVVVVVXVPwAAAAAAAOA/AAAAAAAA8D8AAAAAAAAAQAAAAAAAAAhAAAAAAAAAEEA=\",\"dtype\":\"float64\",\"order\":\"little\",\"shape\":[7]},\"y\":{\"__ndarray__\":\"YaNWutGrKUA4ewhptJUnQBPrzcfgDhtAyZ/89O3nB0AX2OIbINv5P9OUOUoBKvE/Dv5yw4sJ7T8=\",\"dtype\":\"float64\",\"order\":\"little\",\"shape\":[7]}},\"selected\":{\"id\":\"21695\"},\"selection_policy\":{\"id\":\"21694\"}},\"id\":\"21678\",\"type\":\"ColumnDataSource\"},{\"attributes\":{},\"id\":\"22277\",\"type\":\"UnionRenderers\"},{\"attributes\":{},\"id\":\"22472\",\"type\":\"UnionRenderers\"},{\"attributes\":{\"data\":{\"x\":{\"__ndarray__\":\"AAAAAAAA0D9VVVVVVVXVPwAAAAAAAOA/AAAAAAAA8D8AAAAAAAAAQAAAAAAAAAhAAAAAAAAAEEA=\",\"dtype\":\"float64\",\"order\":\"little\",\"shape\":[7]},\"y\":{\"__ndarray__\":\"LX6GerziFEBYDEMvaEkTQKLWruVvpgpAkydwHWkHDUCHhJCC5I4IQDh+gLB+YBNAkQ7ylGz4IEA=\",\"dtype\":\"float64\",\"order\":\"little\",\"shape\":[7]}},\"selected\":{\"id\":\"21890\"},\"selection_policy\":{\"id\":\"21889\"}},\"id\":\"21873\",\"type\":\"ColumnDataSource\"},{\"attributes\":{},\"id\":\"21659\",\"type\":\"WheelZoomTool\"},{\"attributes\":{},\"id\":\"22468\",\"type\":\"AllLabels\"},{\"attributes\":{\"end\":20},\"id\":\"21582\",\"type\":\"Range1d\"},{\"attributes\":{\"fill_color\":{\"value\":\"#f48024\"},\"hatch_color\":{\"value\":\"#f48024\"},\"line_color\":{\"value\":\"#f48024\"},\"line_width\":{\"value\":2},\"x\":{\"field\":\"x\"},\"y\":{\"field\":\"y\"}},\"id\":\"21874\",\"type\":\"Circle\"},{\"attributes\":{},\"id\":\"21662\",\"type\":\"ResetTool\"},{\"attributes\":{\"fill_alpha\":{\"value\":0.2},\"fill_color\":{\"value\":\"#f48024\"},\"hatch_alpha\":{\"value\":0.2},\"hatch_color\":{\"value\":\"#f48024\"},\"line_alpha\":{\"value\":0.2},\"line_color\":{\"value\":\"#f48024\"},\"line_width\":{\"value\":2},\"x\":{\"field\":\"x\"},\"y\":{\"field\":\"y\"}},\"id\":\"21876\",\"type\":\"Circle\"},{\"attributes\":{},\"id\":\"22467\",\"type\":\"BasicTickFormatter\"},{\"attributes\":{},\"id\":\"21648\",\"type\":\"LinearScale\"},{\"attributes\":{\"tools\":[{\"id\":\"21658\"},{\"id\":\"21659\"},{\"id\":\"21660\"},{\"id\":\"21661\"},{\"id\":\"21662\"},{\"id\":\"21663\"}]},\"id\":\"21665\",\"type\":\"Toolbar\"},{\"attributes\":{\"coordinates\":null,\"formatter\":{\"id\":\"22470\"},\"group\":null,\"major_label_policy\":{\"id\":\"22471\"},\"major_label_text_font_size\":\"10pt\",\"ticker\":{\"id\":\"21651\"}},\"id\":\"21650\",\"type\":\"LinearAxis\"},{\"attributes\":{\"fill_alpha\":{\"value\":0.1},\"fill_color\":{\"value\":\"#f48024\"},\"hatch_alpha\":{\"value\":0.1},\"hatch_color\":{\"value\":\"#f48024\"},\"line_alpha\":{\"value\":0.1},\"line_color\":{\"value\":\"#f48024\"},\"line_width\":{\"value\":2},\"x\":{\"field\":\"x\"},\"y\":{\"field\":\"y\"}},\"id\":\"21680\",\"type\":\"Circle\"},{\"attributes\":{\"source\":{\"id\":\"21678\"}},\"id\":\"21683\",\"type\":\"CDSView\"},{\"attributes\":{\"coordinates\":null,\"data_source\":{\"id\":\"21873\"},\"glyph\":{\"id\":\"21874\"},\"group\":null,\"hover_glyph\":null,\"muted_glyph\":{\"id\":\"21876\"},\"nonselection_glyph\":{\"id\":\"21875\"},\"view\":{\"id\":\"21878\"}},\"id\":\"21877\",\"type\":\"GlyphRenderer\"},{\"attributes\":{\"end\":20},\"id\":\"21644\",\"type\":\"Range1d\"},{\"attributes\":{},\"id\":\"21886\",\"type\":\"AllLabels\"},{\"attributes\":{\"fill_alpha\":{\"value\":0.1},\"fill_color\":{\"value\":\"#f48024\"},\"hatch_alpha\":{\"value\":0.1},\"hatch_color\":{\"value\":\"#f48024\"},\"line_alpha\":{\"value\":0.1},\"line_color\":{\"value\":\"#f48024\"},\"line_width\":{\"value\":2},\"x\":{\"field\":\"x\"},\"y\":{\"field\":\"y\"}},\"id\":\"21875\",\"type\":\"Circle\"},{\"attributes\":{},\"id\":\"22081\",\"type\":\"AllLabels\"},{\"attributes\":{\"tools\":[{\"id\":\"21565\"},{\"id\":\"21566\"},{\"id\":\"21567\"},{\"id\":\"21568\"},{\"id\":\"21569\"},{\"id\":\"21570\"}]},\"id\":\"21572\",\"type\":\"Toolbar\"},{\"attributes\":{\"tools\":[{\"id\":\"21627\"},{\"id\":\"21628\"},{\"id\":\"21629\"},{\"id\":\"21630\"},{\"id\":\"21631\"},{\"id\":\"21632\"}]},\"id\":\"21634\",\"type\":\"Toolbar\"},{\"attributes\":{},\"id\":\"21885\",\"type\":\"BasicTickFormatter\"},{\"attributes\":{},\"id\":\"22080\",\"type\":\"BasicTickFormatter\"},{\"attributes\":{},\"id\":\"21651\",\"type\":\"BasicTicker\"},{\"attributes\":{\"coordinates\":null,\"group\":null},\"id\":\"21684\",\"type\":\"Title\"},{\"attributes\":{},\"id\":\"21624\",\"type\":\"BasicTicker\"},{\"attributes\":{\"bottom_units\":\"screen\",\"coordinates\":null,\"fill_alpha\":0.5,\"fill_color\":\"lightgrey\",\"group\":null,\"left_units\":\"screen\",\"level\":\"overlay\",\"line_alpha\":1.0,\"line_color\":\"black\",\"line_dash\":[4,4],\"line_width\":2,\"right_units\":\"screen\",\"syncable\":false,\"top_units\":\"screen\"},\"id\":\"21571\",\"type\":\"BoxAnnotation\"},{\"attributes\":{\"axis\":{\"id\":\"21623\"},\"coordinates\":null,\"dimension\":1,\"group\":null,\"ticker\":null},\"id\":\"21626\",\"type\":\"Grid\"},{\"attributes\":{},\"id\":\"21883\",\"type\":\"AllLabels\"},{\"attributes\":{},\"id\":\"22078\",\"type\":\"AllLabels\"},{\"attributes\":{},\"id\":\"21632\",\"type\":\"HelpTool\"},{\"attributes\":{},\"id\":\"21584\",\"type\":\"LinearScale\"},{\"attributes\":{},\"id\":\"21882\",\"type\":\"BasicTickFormatter\"},{\"attributes\":{},\"id\":\"22077\",\"type\":\"BasicTickFormatter\"},{\"attributes\":{\"coordinates\":null,\"formatter\":{\"id\":\"22272\"},\"group\":null,\"major_label_policy\":{\"id\":\"22273\"},\"major_label_text_font_size\":\"10pt\",\"ticker\":{\"id\":\"21624\"}},\"id\":\"21623\",\"type\":\"LinearAxis\"},{\"attributes\":{\"data\":{\"x\":{\"__ndarray__\":\"AAAAAAAA0D9VVVVVVVXVPwAAAAAAAOA/AAAAAAAA8D8AAAAAAAAAQAAAAAAAAAhAAAAAAAAAEEA=\",\"dtype\":\"float64\",\"order\":\"little\",\"shape\":[7]},\"y\":{\"__ndarray__\":\"LX6GerziFEBYDEMvaEkTQKLWruVvpgpAkydwHWkHDUCHhJCC5I4IQDh+gLB+YBNAkQ7ylGz4IEA=\",\"dtype\":\"float64\",\"order\":\"little\",\"shape\":[7]}},\"selected\":{\"id\":\"21888\"},\"selection_policy\":{\"id\":\"21887\"}},\"id\":\"21867\",\"type\":\"ColumnDataSource\"},{\"attributes\":{\"coordinates\":null,\"group\":null},\"id\":\"22269\",\"type\":\"Title\"},{\"attributes\":{\"line_color\":\"#f48024\",\"line_width\":2,\"x\":{\"field\":\"x\"},\"y\":{\"field\":\"y\"}},\"id\":\"22063\",\"type\":\"Line\"},{\"attributes\":{},\"id\":\"21599\",\"type\":\"SaveTool\"},{\"attributes\":{\"line_alpha\":0.2,\"line_color\":\"#f48024\",\"line_width\":2,\"x\":{\"field\":\"x\"},\"y\":{\"field\":\"y\"}},\"id\":\"21675\",\"type\":\"Line\"},{\"attributes\":{},\"id\":\"21617\",\"type\":\"LinearScale\"},{\"attributes\":{\"axis\":{\"id\":\"21654\"},\"coordinates\":null,\"dimension\":1,\"group\":null,\"ticker\":null},\"id\":\"21657\",\"type\":\"Grid\"},{\"attributes\":{},\"id\":\"21601\",\"type\":\"HelpTool\"},{\"attributes\":{\"data\":{\"x\":{\"__ndarray__\":\"AAAAAAAA0D9VVVVVVVXVPwAAAAAAAOA/AAAAAAAA8D8AAAAAAAAAQAAAAAAAAAhAAAAAAAAAEEA=\",\"dtype\":\"float64\",\"order\":\"little\",\"shape\":[7]},\"y\":{\"__ndarray__\":\"iSqeaTsqD0CnICuo5z4RQBbnSlFbGQtAyKGSN49+CUCOejSf9ssFQOkFegs4CQVAn4QvtqLgBEA=\",\"dtype\":\"float64\",\"order\":\"little\",\"shape\":[7]}},\"selected\":{\"id\":\"22083\"},\"selection_policy\":{\"id\":\"22082\"}},\"id\":\"22062\",\"type\":\"ColumnDataSource\"},{\"attributes\":{},\"id\":\"21600\",\"type\":\"ResetTool\"},{\"attributes\":{\"bottom_units\":\"screen\",\"coordinates\":null,\"fill_alpha\":0.5,\"fill_color\":\"lightgrey\",\"group\":null,\"left_units\":\"screen\",\"level\":\"overlay\",\"line_alpha\":1.0,\"line_color\":\"black\",\"line_dash\":[4,4],\"line_width\":2,\"right_units\":\"screen\",\"syncable\":false,\"top_units\":\"screen\"},\"id\":\"21664\",\"type\":\"BoxAnnotation\"},{\"attributes\":{\"line_alpha\":0.1,\"line_color\":\"#f48024\",\"line_width\":2,\"x\":{\"field\":\"x\"},\"y\":{\"field\":\"y\"}},\"id\":\"22064\",\"type\":\"Line\"},{\"attributes\":{},\"id\":\"22279\",\"type\":\"UnionRenderers\"},{\"attributes\":{},\"id\":\"21687\",\"type\":\"BasicTickFormatter\"},{\"attributes\":{\"source\":{\"id\":\"21873\"}},\"id\":\"21878\",\"type\":\"CDSView\"},{\"attributes\":{\"axis\":{\"id\":\"21619\"},\"coordinates\":null,\"group\":null,\"ticker\":null},\"id\":\"21622\",\"type\":\"Grid\"},{\"attributes\":{},\"id\":\"21538\",\"type\":\"ResetTool\"},{\"attributes\":{},\"id\":\"22280\",\"type\":\"Selection\"},{\"attributes\":{\"below\":[{\"id\":\"21588\"}],\"center\":[{\"id\":\"21591\"},{\"id\":\"21595\"}],\"height\":115,\"left\":[{\"id\":\"21592\"}],\"output_backend\":\"svg\",\"renderers\":[{\"id\":\"22066\"},{\"id\":\"22072\"}],\"title\":{\"id\":\"22074\"},\"toolbar\":{\"id\":\"21603\"},\"width\":144,\"x_range\":{\"id\":\"21580\"},\"x_scale\":{\"id\":\"21584\"},\"y_range\":{\"id\":\"21582\"},\"y_scale\":{\"id\":\"21586\"}},\"id\":\"21579\",\"subtype\":\"Figure\",\"type\":\"Plot\"},{\"attributes\":{\"source\":{\"id\":\"22257\"}},\"id\":\"22262\",\"type\":\"CDSView\"},{\"attributes\":{\"coordinates\":null,\"group\":null},\"id\":\"22464\",\"type\":\"Title\"},{\"attributes\":{\"line_color\":\"#f48024\",\"line_width\":2,\"x\":{\"field\":\"x\"},\"y\":{\"field\":\"y\"}},\"id\":\"22453\",\"type\":\"Line\"},{\"attributes\":{},\"id\":\"21663\",\"type\":\"HelpTool\"},{\"attributes\":{\"fill_alpha\":{\"value\":0.2},\"fill_color\":{\"value\":\"#f48024\"},\"hatch_alpha\":{\"value\":0.2},\"hatch_color\":{\"value\":\"#f48024\"},\"line_alpha\":{\"value\":0.2},\"line_color\":{\"value\":\"#f48024\"},\"line_width\":{\"value\":2},\"x\":{\"field\":\"x\"},\"y\":{\"field\":\"y\"}},\"id\":\"22266\",\"type\":\"Circle\"},{\"attributes\":{},\"id\":\"21655\",\"type\":\"BasicTicker\"},{\"attributes\":{\"fill_color\":{\"value\":\"#f48024\"},\"hatch_color\":{\"value\":\"#f48024\"},\"line_color\":{\"value\":\"#f48024\"},\"line_width\":{\"value\":2},\"x\":{\"field\":\"x\"},\"y\":{\"field\":\"y\"}},\"id\":\"21679\",\"type\":\"Circle\"},{\"attributes\":{\"data\":{\"x\":{\"__ndarray__\":\"AAAAAAAA0D9VVVVVVVXVPwAAAAAAAOA/AAAAAAAA8D8AAAAAAAAAQAAAAAAAAAhAAAAAAAAAEEA=\",\"dtype\":\"float64\",\"order\":\"little\",\"shape\":[7]},\"y\":{\"__ndarray__\":\"rAwruchzIUAq7AojZ74aQBEY3igWSxFAZtJPme5RCECMouyEbZP/PwMUptcwF/o/Z7Z491S9+D8=\",\"dtype\":\"float64\",\"order\":\"little\",\"shape\":[7]}},\"selected\":{\"id\":\"22473\"},\"selection_policy\":{\"id\":\"22472\"}},\"id\":\"22452\",\"type\":\"ColumnDataSource\"},{\"attributes\":{},\"id\":\"21688\",\"type\":\"AllLabels\"},{\"attributes\":{\"fill_alpha\":{\"value\":0.1},\"fill_color\":{\"value\":\"#f48024\"},\"hatch_alpha\":{\"value\":0.1},\"hatch_color\":{\"value\":\"#f48024\"},\"line_alpha\":{\"value\":0.1},\"line_color\":{\"value\":\"#f48024\"},\"line_width\":{\"value\":2},\"x\":{\"field\":\"x\"},\"y\":{\"field\":\"y\"}},\"id\":\"22265\",\"type\":\"Circle\"},{\"attributes\":{},\"id\":\"21535\",\"type\":\"WheelZoomTool\"},{\"attributes\":{},\"id\":\"22474\",\"type\":\"UnionRenderers\"},{\"attributes\":{\"source\":{\"id\":\"22263\"}},\"id\":\"22268\",\"type\":\"CDSView\"},{\"attributes\":{},\"id\":\"21661\",\"type\":\"SaveTool\"},{\"attributes\":{\"tools\":[{\"id\":\"21534\"},{\"id\":\"21535\"},{\"id\":\"21536\"},{\"id\":\"21537\"},{\"id\":\"21538\"},{\"id\":\"21539\"}]},\"id\":\"21541\",\"type\":\"Toolbar\"},{\"attributes\":{},\"id\":\"21631\",\"type\":\"ResetTool\"},{\"attributes\":{\"line_alpha\":0.1,\"line_color\":\"#f48024\",\"line_width\":2,\"x\":{\"field\":\"x\"},\"y\":{\"field\":\"y\"}},\"id\":\"22454\",\"type\":\"Line\"},{\"attributes\":{\"coordinates\":null,\"data_source\":{\"id\":\"22263\"},\"glyph\":{\"id\":\"22264\"},\"group\":null,\"hover_glyph\":null,\"muted_glyph\":{\"id\":\"22266\"},\"nonselection_glyph\":{\"id\":\"22265\"},\"view\":{\"id\":\"22268\"}},\"id\":\"22267\",\"type\":\"GlyphRenderer\"},{\"attributes\":{\"overlay\":{\"id\":\"21664\"}},\"id\":\"21660\",\"type\":\"BoxZoomTool\"},{\"attributes\":{\"bottom_units\":\"screen\",\"coordinates\":null,\"fill_alpha\":0.5,\"fill_color\":\"lightgrey\",\"group\":null,\"left_units\":\"screen\",\"level\":\"overlay\",\"line_alpha\":1.0,\"line_color\":\"black\",\"line_dash\":[4,4],\"line_width\":2,\"right_units\":\"screen\",\"syncable\":false,\"top_units\":\"screen\"},\"id\":\"21540\",\"type\":\"BoxAnnotation\"},{\"attributes\":{\"coordinates\":null,\"data_source\":{\"id\":\"22257\"},\"glyph\":{\"id\":\"22258\"},\"group\":null,\"hover_glyph\":null,\"muted_glyph\":{\"id\":\"22260\"},\"nonselection_glyph\":{\"id\":\"22259\"},\"view\":{\"id\":\"22262\"}},\"id\":\"22261\",\"type\":\"GlyphRenderer\"},{\"attributes\":{\"line_alpha\":0.2,\"line_color\":\"#f48024\",\"line_width\":2,\"x\":{\"field\":\"x\"},\"y\":{\"field\":\"y\"}},\"id\":\"21870\",\"type\":\"Line\"},{\"attributes\":{},\"id\":\"22276\",\"type\":\"AllLabels\"},{\"attributes\":{\"bottom_units\":\"screen\",\"coordinates\":null,\"fill_alpha\":0.5,\"fill_color\":\"lightgrey\",\"group\":null,\"left_units\":\"screen\",\"level\":\"overlay\",\"line_alpha\":1.0,\"line_color\":\"black\",\"line_dash\":[4,4],\"line_width\":2,\"right_units\":\"screen\",\"syncable\":false,\"top_units\":\"screen\"},\"id\":\"21633\",\"type\":\"BoxAnnotation\"},{\"attributes\":{},\"id\":\"22275\",\"type\":\"BasicTickFormatter\"},{\"attributes\":{\"line_alpha\":0.2,\"line_color\":\"#f48024\",\"line_width\":2,\"x\":{\"field\":\"x\"},\"y\":{\"field\":\"y\"}},\"id\":\"22455\",\"type\":\"Line\"},{\"attributes\":{\"line_alpha\":0.2,\"line_color\":\"#f48024\",\"line_width\":2,\"x\":{\"field\":\"x\"},\"y\":{\"field\":\"y\"}},\"id\":\"22065\",\"type\":\"Line\"},{\"attributes\":{\"data\":{\"x\":{\"__ndarray__\":\"AAAAAAAA0D9VVVVVVVXVPwAAAAAAAOA/AAAAAAAA8D8AAAAAAAAAQAAAAAAAAAhAAAAAAAAAEEA=\",\"dtype\":\"float64\",\"order\":\"little\",\"shape\":[7]},\"y\":{\"__ndarray__\":\"l/taKMNPI0CpaYmGPSMeQJpBM99q1RlA6az9qGQEC0Bd2hlVoXb7P/FrYs9zQfg/yKkGVbjL8j8=\",\"dtype\":\"float64\",\"order\":\"little\",\"shape\":[7]}},\"selected\":{\"id\":\"22280\"},\"selection_policy\":{\"id\":\"22279\"}},\"id\":\"22263\",\"type\":\"ColumnDataSource\"},{\"attributes\":{},\"id\":\"21630\",\"type\":\"SaveTool\"},{\"attributes\":{},\"id\":\"21615\",\"type\":\"LinearScale\"},{\"attributes\":{\"fill_color\":{\"value\":\"#f48024\"},\"hatch_color\":{\"value\":\"#f48024\"},\"line_color\":{\"value\":\"#f48024\"},\"line_width\":{\"value\":2},\"x\":{\"field\":\"x\"},\"y\":{\"field\":\"y\"}},\"id\":\"22264\",\"type\":\"Circle\"},{\"attributes\":{\"coordinates\":null,\"group\":null},\"id\":\"22074\",\"type\":\"Title\"},{\"attributes\":{},\"id\":\"22273\",\"type\":\"AllLabels\"},{\"attributes\":{\"data\":{\"x\":{\"__ndarray__\":\"AAAAAAAA0D9VVVVVVVXVPwAAAAAAAOA/AAAAAAAA8D8AAAAAAAAAQAAAAAAAAAhAAAAAAAAAEEA=\",\"dtype\":\"float64\",\"order\":\"little\",\"shape\":[7]},\"y\":{\"__ndarray__\":\"rAwruchzIUAq7AojZ74aQBEY3igWSxFAZtJPme5RCECMouyEbZP/PwMUptcwF/o/Z7Z491S9+D8=\",\"dtype\":\"float64\",\"order\":\"little\",\"shape\":[7]}},\"selected\":{\"id\":\"22475\"},\"selection_policy\":{\"id\":\"22474\"}},\"id\":\"22458\",\"type\":\"ColumnDataSource\"},{\"attributes\":{},\"id\":\"21537\",\"type\":\"SaveTool\"},{\"attributes\":{\"line_alpha\":0.1,\"line_color\":\"#f48024\",\"line_width\":2,\"x\":{\"field\":\"x\"},\"y\":{\"field\":\"y\"}},\"id\":\"22259\",\"type\":\"Line\"},{\"attributes\":{\"source\":{\"id\":\"22452\"}},\"id\":\"22457\",\"type\":\"CDSView\"},{\"attributes\":{\"line_color\":\"#f48024\",\"line_width\":2,\"x\":{\"field\":\"x\"},\"y\":{\"field\":\"y\"}},\"id\":\"22258\",\"type\":\"Line\"},{\"attributes\":{},\"id\":\"21627\",\"type\":\"PanTool\"},{\"attributes\":{},\"id\":\"22272\",\"type\":\"BasicTickFormatter\"},{\"attributes\":{\"fill_alpha\":{\"value\":0.2},\"fill_color\":{\"value\":\"#f48024\"},\"hatch_alpha\":{\"value\":0.2},\"hatch_color\":{\"value\":\"#f48024\"},\"line_alpha\":{\"value\":0.2},\"line_color\":{\"value\":\"#f48024\"},\"line_width\":{\"value\":2},\"x\":{\"field\":\"x\"},\"y\":{\"field\":\"y\"}},\"id\":\"22071\",\"type\":\"Circle\"},{\"attributes\":{\"source\":{\"id\":\"22062\"}},\"id\":\"22067\",\"type\":\"CDSView\"},{\"attributes\":{\"overlay\":{\"id\":\"21633\"}},\"id\":\"21629\",\"type\":\"BoxZoomTool\"},{\"attributes\":{},\"id\":\"22084\",\"type\":\"UnionRenderers\"},{\"attributes\":{\"fill_alpha\":{\"value\":0.1},\"fill_color\":{\"value\":\"#f48024\"},\"hatch_alpha\":{\"value\":0.1},\"hatch_color\":{\"value\":\"#f48024\"},\"line_alpha\":{\"value\":0.1},\"line_color\":{\"value\":\"#f48024\"},\"line_width\":{\"value\":2},\"x\":{\"field\":\"x\"},\"y\":{\"field\":\"y\"}},\"id\":\"22070\",\"type\":\"Circle\"},{\"attributes\":{},\"id\":\"21628\",\"type\":\"WheelZoomTool\"},{\"attributes\":{\"end\":4.2},\"id\":\"21611\",\"type\":\"Range1d\"},{\"attributes\":{},\"id\":\"22085\",\"type\":\"Selection\"},{\"attributes\":{\"line_alpha\":0.1,\"line_color\":\"#f48024\",\"line_width\":2,\"x\":{\"field\":\"x\"},\"y\":{\"field\":\"y\"}},\"id\":\"21869\",\"type\":\"Line\"},{\"attributes\":{\"fill_color\":{\"value\":\"#f48024\"},\"hatch_color\":{\"value\":\"#f48024\"},\"line_color\":{\"value\":\"#f48024\"},\"line_width\":{\"value\":2},\"x\":{\"field\":\"x\"},\"y\":{\"field\":\"y\"}},\"id\":\"22069\",\"type\":\"Circle\"},{\"attributes\":{\"coordinates\":null,\"data_source\":{\"id\":\"22458\"},\"glyph\":{\"id\":\"22459\"},\"group\":null,\"hover_glyph\":null,\"muted_glyph\":{\"id\":\"22461\"},\"nonselection_glyph\":{\"id\":\"22460\"},\"view\":{\"id\":\"22463\"}},\"id\":\"22462\",\"type\":\"GlyphRenderer\"},{\"attributes\":{\"data\":{\"x\":{\"__ndarray__\":\"AAAAAAAA0D9VVVVVVVXVPwAAAAAAAOA/AAAAAAAA8D8AAAAAAAAAQAAAAAAAAAhAAAAAAAAAEEA=\",\"dtype\":\"float64\",\"order\":\"little\",\"shape\":[7]},\"y\":{\"__ndarray__\":\"l/taKMNPI0CpaYmGPSMeQJpBM99q1RlA6az9qGQEC0Bd2hlVoXb7P/FrYs9zQfg/yKkGVbjL8j8=\",\"dtype\":\"float64\",\"order\":\"little\",\"shape\":[7]}},\"selected\":{\"id\":\"22278\"},\"selection_policy\":{\"id\":\"22277\"}},\"id\":\"22257\",\"type\":\"ColumnDataSource\"},{\"attributes\":{\"coordinates\":null,\"data_source\":{\"id\":\"22062\"},\"glyph\":{\"id\":\"22063\"},\"group\":null,\"hover_glyph\":null,\"muted_glyph\":{\"id\":\"22065\"},\"nonselection_glyph\":{\"id\":\"22064\"},\"view\":{\"id\":\"22067\"}},\"id\":\"22066\",\"type\":\"GlyphRenderer\"},{\"attributes\":{},\"id\":\"21690\",\"type\":\"BasicTickFormatter\"},{\"attributes\":{},\"id\":\"21620\",\"type\":\"BasicTicker\"},{\"attributes\":{\"coordinates\":null,\"data_source\":{\"id\":\"22068\"},\"glyph\":{\"id\":\"22069\"},\"group\":null,\"hover_glyph\":null,\"muted_glyph\":{\"id\":\"22071\"},\"nonselection_glyph\":{\"id\":\"22070\"},\"view\":{\"id\":\"22073\"}},\"id\":\"22072\",\"type\":\"GlyphRenderer\"},{\"attributes\":{\"coordinates\":null,\"data_source\":{\"id\":\"22452\"},\"glyph\":{\"id\":\"22453\"},\"group\":null,\"hover_glyph\":null,\"muted_glyph\":{\"id\":\"22455\"},\"nonselection_glyph\":{\"id\":\"22454\"},\"view\":{\"id\":\"22457\"}},\"id\":\"22456\",\"type\":\"GlyphRenderer\"},{\"attributes\":{\"fill_color\":{\"value\":\"#f48024\"},\"hatch_color\":{\"value\":\"#f48024\"},\"line_color\":{\"value\":\"#f48024\"},\"line_width\":{\"value\":2},\"x\":{\"field\":\"x\"},\"y\":{\"field\":\"y\"}},\"id\":\"22459\",\"type\":\"Circle\"},{\"attributes\":{},\"id\":\"21539\",\"type\":\"HelpTool\"},{\"attributes\":{\"data\":{\"x\":{\"__ndarray__\":\"AAAAAAAA0D9VVVVVVVXVPwAAAAAAAOA/AAAAAAAA8D8AAAAAAAAAQAAAAAAAAAhAAAAAAAAAEEA=\",\"dtype\":\"float64\",\"order\":\"little\",\"shape\":[7]},\"y\":{\"__ndarray__\":\"iSqeaTsqD0CnICuo5z4RQBbnSlFbGQtAyKGSN49+CUCOejSf9ssFQOkFegs4CQVAn4QvtqLgBEA=\",\"dtype\":\"float64\",\"order\":\"little\",\"shape\":[7]}},\"selected\":{\"id\":\"22085\"},\"selection_policy\":{\"id\":\"22084\"}},\"id\":\"22068\",\"type\":\"ColumnDataSource\"},{\"attributes\":{\"source\":{\"id\":\"22068\"}},\"id\":\"22073\",\"type\":\"CDSView\"},{\"attributes\":{\"line_alpha\":0.2,\"line_color\":\"#f48024\",\"line_width\":2,\"x\":{\"field\":\"x\"},\"y\":{\"field\":\"y\"}},\"id\":\"22260\",\"type\":\"Line\"},{\"attributes\":{\"fill_alpha\":{\"value\":0.2},\"fill_color\":{\"value\":\"#f48024\"},\"hatch_alpha\":{\"value\":0.2},\"hatch_color\":{\"value\":\"#f48024\"},\"line_alpha\":{\"value\":0.2},\"line_color\":{\"value\":\"#f48024\"},\"line_width\":{\"value\":2},\"x\":{\"field\":\"x\"},\"y\":{\"field\":\"y\"}},\"id\":\"22461\",\"type\":\"Circle\"},{\"attributes\":{\"coordinates\":null,\"group\":null},\"id\":\"21879\",\"type\":\"Title\"},{\"attributes\":{\"below\":[{\"id\":\"21650\"}],\"center\":[{\"id\":\"21653\"},{\"id\":\"21657\"}],\"height\":115,\"left\":[{\"id\":\"21654\"}],\"output_backend\":\"svg\",\"renderers\":[{\"id\":\"22456\"},{\"id\":\"22462\"}],\"title\":{\"id\":\"22464\"},\"toolbar\":{\"id\":\"21665\"},\"width\":144,\"x_range\":{\"id\":\"21642\"},\"x_scale\":{\"id\":\"21646\"},\"y_range\":{\"id\":\"21644\"},\"y_scale\":{\"id\":\"21648\"}},\"id\":\"21641\",\"subtype\":\"Figure\",\"type\":\"Plot\"},{\"attributes\":{\"fill_alpha\":{\"value\":0.1},\"fill_color\":{\"value\":\"#f48024\"},\"hatch_alpha\":{\"value\":0.1},\"hatch_color\":{\"value\":\"#f48024\"},\"line_alpha\":{\"value\":0.1},\"line_color\":{\"value\":\"#f48024\"},\"line_width\":{\"value\":2},\"x\":{\"field\":\"x\"},\"y\":{\"field\":\"y\"}},\"id\":\"22460\",\"type\":\"Circle\"},{\"attributes\":{\"overlay\":{\"id\":\"21540\"}},\"id\":\"21536\",\"type\":\"BoxZoomTool\"},{\"attributes\":{\"source\":{\"id\":\"22458\"}},\"id\":\"22463\",\"type\":\"CDSView\"},{\"attributes\":{},\"id\":\"22278\",\"type\":\"Selection\"},{\"attributes\":{},\"id\":\"22475\",\"type\":\"Selection\"},{\"attributes\":{},\"id\":\"21691\",\"type\":\"AllLabels\"},{\"attributes\":{\"line_color\":\"#f48024\",\"line_width\":2,\"x\":{\"field\":\"x\"},\"y\":{\"field\":\"y\"}},\"id\":\"21868\",\"type\":\"Line\"},{\"attributes\":{\"coordinates\":null,\"data_source\":{\"id\":\"21867\"},\"glyph\":{\"id\":\"21868\"},\"group\":null,\"hover_glyph\":null,\"muted_glyph\":{\"id\":\"21870\"},\"nonselection_glyph\":{\"id\":\"21869\"},\"view\":{\"id\":\"21872\"}},\"id\":\"21871\",\"type\":\"GlyphRenderer\"},{\"attributes\":{\"end\":20},\"id\":\"21520\",\"type\":\"Range1d\"},{\"attributes\":{\"axis\":{\"id\":\"21592\"},\"coordinates\":null,\"dimension\":1,\"group\":null,\"ticker\":null},\"id\":\"21595\",\"type\":\"Grid\"},{\"attributes\":{\"line_color\":\"#f48024\",\"line_width\":2,\"x\":{\"field\":\"x\"},\"y\":{\"field\":\"y\"}},\"id\":\"21673\",\"type\":\"Line\"},{\"attributes\":{\"below\":[{\"id\":\"21526\"}],\"center\":[{\"id\":\"21529\"},{\"id\":\"21533\"}],\"height\":115,\"left\":[{\"id\":\"21530\"}],\"output_backend\":\"svg\",\"renderers\":[{\"id\":\"21676\"},{\"id\":\"21682\"}],\"title\":{\"id\":\"21684\"},\"toolbar\":{\"id\":\"21541\"},\"width\":144,\"x_range\":{\"id\":\"21518\"},\"x_scale\":{\"id\":\"21522\"},\"y_range\":{\"id\":\"21520\"},\"y_scale\":{\"id\":\"21524\"}},\"id\":\"21517\",\"subtype\":\"Figure\",\"type\":\"Plot\"},{\"attributes\":{},\"id\":\"21524\",\"type\":\"LinearScale\"},{\"attributes\":{},\"id\":\"21522\",\"type\":\"LinearScale\"},{\"attributes\":{\"data\":{\"x\":{\"__ndarray__\":\"AAAAAAAA0D9VVVVVVVXVPwAAAAAAAOA/AAAAAAAA8D8AAAAAAAAAQAAAAAAAAAhAAAAAAAAAEEA=\",\"dtype\":\"float64\",\"order\":\"little\",\"shape\":[7]},\"y\":{\"__ndarray__\":\"YaNWutGrKUA4ewhptJUnQBPrzcfgDhtAyZ/89O3nB0AX2OIbINv5P9OUOUoBKvE/Dv5yw4sJ7T8=\",\"dtype\":\"float64\",\"order\":\"little\",\"shape\":[7]}},\"selected\":{\"id\":\"21693\"},\"selection_policy\":{\"id\":\"21692\"}},\"id\":\"21672\",\"type\":\"ColumnDataSource\"},{\"attributes\":{\"coordinates\":null,\"formatter\":{\"id\":\"21690\"},\"group\":null,\"major_label_policy\":{\"id\":\"21691\"},\"major_label_text_font_size\":\"10pt\",\"ticker\":{\"id\":\"21527\"}},\"id\":\"21526\",\"type\":\"LinearAxis\"},{\"attributes\":{\"end\":4.2},\"id\":\"21518\",\"type\":\"Range1d\"},{\"attributes\":{},\"id\":\"21692\",\"type\":\"UnionRenderers\"},{\"attributes\":{},\"id\":\"21527\",\"type\":\"BasicTicker\"},{\"attributes\":{},\"id\":\"21693\",\"type\":\"Selection\"},{\"attributes\":{\"axis\":{\"id\":\"21526\"},\"coordinates\":null,\"group\":null,\"ticker\":null},\"id\":\"21529\",\"type\":\"Grid\"},{\"attributes\":{\"bottom_units\":\"screen\",\"coordinates\":null,\"fill_alpha\":0.5,\"fill_color\":\"lightgrey\",\"group\":null,\"left_units\":\"screen\",\"level\":\"overlay\",\"line_alpha\":1.0,\"line_color\":\"black\",\"line_dash\":[4,4],\"line_width\":2,\"right_units\":\"screen\",\"syncable\":false,\"top_units\":\"screen\"},\"id\":\"21602\",\"type\":\"BoxAnnotation\"},{\"attributes\":{\"axis\":{\"id\":\"21588\"},\"coordinates\":null,\"group\":null,\"ticker\":null},\"id\":\"21591\",\"type\":\"Grid\"},{\"attributes\":{},\"id\":\"21566\",\"type\":\"WheelZoomTool\"},{\"attributes\":{\"tools\":[{\"id\":\"21596\"},{\"id\":\"21597\"},{\"id\":\"21598\"},{\"id\":\"21599\"},{\"id\":\"21600\"},{\"id\":\"21601\"}]},\"id\":\"21603\",\"type\":\"Toolbar\"},{\"attributes\":{},\"id\":\"21596\",\"type\":\"PanTool\"},{\"attributes\":{\"coordinates\":null,\"formatter\":{\"id\":\"22080\"},\"group\":null,\"major_label_policy\":{\"id\":\"22081\"},\"major_label_text_font_size\":\"10pt\",\"ticker\":{\"id\":\"21589\"}},\"id\":\"21588\",\"type\":\"LinearAxis\"},{\"attributes\":{},\"id\":\"21555\",\"type\":\"LinearScale\"},{\"attributes\":{},\"id\":\"21694\",\"type\":\"UnionRenderers\"},{\"attributes\":{},\"id\":\"21597\",\"type\":\"WheelZoomTool\"},{\"attributes\":{},\"id\":\"21553\",\"type\":\"LinearScale\"},{\"attributes\":{\"axis\":{\"id\":\"21561\"},\"coordinates\":null,\"dimension\":1,\"group\":null,\"ticker\":null},\"id\":\"21564\",\"type\":\"Grid\"},{\"attributes\":{},\"id\":\"21565\",\"type\":\"PanTool\"},{\"attributes\":{\"below\":[{\"id\":\"21619\"}],\"center\":[{\"id\":\"21622\"},{\"id\":\"21626\"}],\"height\":115,\"left\":[{\"id\":\"21623\"}],\"output_backend\":\"svg\",\"renderers\":[{\"id\":\"22261\"},{\"id\":\"22267\"}],\"title\":{\"id\":\"22269\"},\"toolbar\":{\"id\":\"21634\"},\"width\":144,\"x_range\":{\"id\":\"21611\"},\"x_scale\":{\"id\":\"21615\"},\"y_range\":{\"id\":\"21613\"},\"y_scale\":{\"id\":\"21617\"}},\"id\":\"21610\",\"subtype\":\"Figure\",\"type\":\"Plot\"},{\"attributes\":{},\"id\":\"21558\",\"type\":\"BasicTicker\"},{\"attributes\":{},\"id\":\"21569\",\"type\":\"ResetTool\"},{\"attributes\":{},\"id\":\"21570\",\"type\":\"HelpTool\"},{\"attributes\":{\"coordinates\":null,\"formatter\":{\"id\":\"21885\"},\"group\":null,\"major_label_policy\":{\"id\":\"21886\"},\"major_label_text_font_size\":\"10pt\",\"ticker\":{\"id\":\"21558\"}},\"id\":\"21557\",\"type\":\"LinearAxis\"},{\"attributes\":{\"end\":4.2},\"id\":\"21549\",\"type\":\"Range1d\"},{\"attributes\":{},\"id\":\"21562\",\"type\":\"BasicTicker\"},{\"attributes\":{\"end\":20},\"id\":\"21551\",\"type\":\"Range1d\"},{\"attributes\":{\"source\":{\"id\":\"21867\"}},\"id\":\"21872\",\"type\":\"CDSView\"},{\"attributes\":{},\"id\":\"21586\",\"type\":\"LinearScale\"},{\"attributes\":{},\"id\":\"21593\",\"type\":\"BasicTicker\"},{\"attributes\":{\"coordinates\":null,\"formatter\":{\"id\":\"21882\"},\"group\":null,\"major_label_policy\":{\"id\":\"21883\"},\"major_label_text_font_size\":\"10pt\",\"ticker\":{\"id\":\"21562\"}},\"id\":\"21561\",\"type\":\"LinearAxis\"},{\"attributes\":{\"axis\":{\"id\":\"21557\"},\"coordinates\":null,\"group\":null,\"ticker\":null},\"id\":\"21560\",\"type\":\"Grid\"},{\"attributes\":{},\"id\":\"21589\",\"type\":\"BasicTicker\"},{\"attributes\":{},\"id\":\"21568\",\"type\":\"SaveTool\"},{\"attributes\":{\"overlay\":{\"id\":\"21571\"}},\"id\":\"21567\",\"type\":\"BoxZoomTool\"},{\"attributes\":{\"coordinates\":null,\"formatter\":{\"id\":\"22077\"},\"group\":null,\"major_label_policy\":{\"id\":\"22078\"},\"major_label_text_font_size\":\"10pt\",\"ticker\":{\"id\":\"21593\"}},\"id\":\"21592\",\"type\":\"LinearAxis\"},{\"attributes\":{\"overlay\":{\"id\":\"21602\"}},\"id\":\"21598\",\"type\":\"BoxZoomTool\"}],\"root_ids\":[\"22647\"]},\"title\":\"Bokeh Application\",\"version\":\"2.4.1\"}};\n",
       "  const render_items = [{\"docid\":\"e98cc244-a3a2-45ec-9a68-403358f2bff1\",\"root_ids\":[\"22647\"],\"roots\":{\"22647\":\"9be85578-d22f-47f4-83d5-51dfae1480be\"}}];\n",
       "  root.Bokeh.embed.embed_items_notebook(docs_json, render_items);\n",
       "\n",
       "  }\n",
       "  if (root.Bokeh !== undefined) {\n",
       "    embed_document(root);\n",
       "  } else {\n",
       "    let attempts = 0;\n",
       "    const timer = setInterval(function(root) {\n",
       "      if (root.Bokeh !== undefined) {\n",
       "        clearInterval(timer);\n",
       "        embed_document(root);\n",
       "      } else {\n",
       "        attempts++;\n",
       "        if (attempts > 100) {\n",
       "          clearInterval(timer);\n",
       "          console.log(\"Bokeh: ERROR: Unable to run BokehJS code because BokehJS library is missing\");\n",
       "        }\n",
       "      }\n",
       "    }, 10, root)\n",
       "  }\n",
       "})(window);"
      ],
      "application/vnd.bokehjs_exec.v0+json": ""
     },
     "metadata": {
      "application/vnd.bokehjs_exec.v0+json": {
       "id": "22647"
      }
     },
     "output_type": "display_data"
    }
   ],
   "source": [
    "# Set up plots\n",
    "# For two digits 260 by 115 larger and 144 by 115 for half size\n",
    "# For three digits 266 by 115 larger and 150 by 115 for half size\n",
    "fig_size = [144, 115] # for paper size (260/115), half size (144,115), visualize (600/200)\n",
    "\n",
    "x_range = (0, 4.2)\n",
    "y_range = (0, 20)\n",
    "\n",
    "plots = []\n",
    "for i in range(out.shape[0]-1):\n",
    "    #print(i)\n",
    "    plots.append(bokeh.plotting.figure(plot_width=fig_size[0], plot_height=fig_size[1],\n",
    "                          x_range=x_range,y_range=y_range\n",
    "                          ),)\n",
    "    plots[i].axis.major_label_text_font_size = \"10pt\"\n",
    "\n",
    "color=\"#f48024\"    \n",
    "for i in range(out.shape[0]-1):\n",
    "    plots[i].line(out[0,1:], out[i+1,1:], line_width=2, alpha= 1, line_join=\"bevel\",color=color)\n",
    "    plots[i].circle(out[0,1:], out[i+1,1:], line_width=2, alpha= 1, line_join=\"bevel\",color=color)\n",
    "    #plots[i].xaxis.ticker = list(np.linspace(0,4,5))\n",
    "    #plots[i].x_range = Range1d(0, 4)\n",
    "    plots[i].output_backend = \"svg\"\n",
    "    export_svgs(plots[i],filename=\"fig/Sensitivity_Param_\" + str(out[i+1,0]) + \".svg\")\n",
    "\n",
    "bokeh.io.show(bokeh.layouts.row(plots))"
   ]
  },
  {
   "cell_type": "markdown",
   "metadata": {
    "id": "Z7BaLGrSDUWT"
   },
   "source": [
    "#### "
   ]
  }
 ],
 "metadata": {
  "colab": {
   "collapsed_sections": [],
   "name": "Oscillator_S_Design.ipynb",
   "provenance": []
  },
  "kernelspec": {
   "display_name": "Python 3 (ipykernel)",
   "language": "python",
   "name": "python3"
  },
  "language_info": {
   "codemirror_mode": {
    "name": "ipython",
    "version": 3
   },
   "file_extension": ".py",
   "mimetype": "text/x-python",
   "name": "python",
   "nbconvert_exporter": "python",
   "pygments_lexer": "ipython3",
   "version": "3.9.7"
  }
 },
 "nbformat": 4,
 "nbformat_minor": 4
}
