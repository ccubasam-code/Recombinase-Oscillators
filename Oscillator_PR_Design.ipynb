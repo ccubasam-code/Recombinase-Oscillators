{
 "cells": [
  {
   "cell_type": "markdown",
   "metadata": {
    "id": "knIklix4oThN"
   },
   "source": [
    "# Stochastic Analysis of a simple Protease-Recombinase oscillator: PR Design\n",
    "\n",
    "In this Jupyterbook, we implement the Gilleaspy algorithm of a recombinase-based oscillator at a single copy "
   ]
  },
  {
   "cell_type": "code",
   "execution_count": 23,
   "metadata": {
    "colab": {
     "base_uri": "https://localhost:8080/"
    },
    "executionInfo": {
     "elapsed": 41419,
     "status": "ok",
     "timestamp": 1652533520480,
     "user": {
      "displayName": "Christian Cuba",
      "userId": "05812622177105967845"
     },
     "user_tz": 240
    },
    "id": "lHy71zVrtgCI",
    "outputId": "e52c860f-ec8d-45da-8a36-ac62cd4b246b"
   },
   "outputs": [
    {
     "data": {
      "text/html": [
       "\n",
       "    <div class=\"bk-root\">\n",
       "        <a href=\"https://bokeh.org\" target=\"_blank\" class=\"bk-logo bk-logo-small bk-logo-notebook\"></a>\n",
       "        <span id=\"6458\">Loading BokehJS ...</span>\n",
       "    </div>"
      ]
     },
     "metadata": {},
     "output_type": "display_data"
    },
    {
     "data": {
      "application/javascript": [
       "\n",
       "(function(root) {\n",
       "  function now() {\n",
       "    return new Date();\n",
       "  }\n",
       "\n",
       "  const force = true;\n",
       "\n",
       "  if (typeof root._bokeh_onload_callbacks === \"undefined\" || force === true) {\n",
       "    root._bokeh_onload_callbacks = [];\n",
       "    root._bokeh_is_loading = undefined;\n",
       "  }\n",
       "\n",
       "  const JS_MIME_TYPE = 'application/javascript';\n",
       "  const HTML_MIME_TYPE = 'text/html';\n",
       "  const EXEC_MIME_TYPE = 'application/vnd.bokehjs_exec.v0+json';\n",
       "  const CLASS_NAME = 'output_bokeh rendered_html';\n",
       "\n",
       "  /**\n",
       "   * Render data to the DOM node\n",
       "   */\n",
       "  function render(props, node) {\n",
       "    const script = document.createElement(\"script\");\n",
       "    node.appendChild(script);\n",
       "  }\n",
       "\n",
       "  /**\n",
       "   * Handle when an output is cleared or removed\n",
       "   */\n",
       "  function handleClearOutput(event, handle) {\n",
       "    const cell = handle.cell;\n",
       "\n",
       "    const id = cell.output_area._bokeh_element_id;\n",
       "    const server_id = cell.output_area._bokeh_server_id;\n",
       "    // Clean up Bokeh references\n",
       "    if (id != null && id in Bokeh.index) {\n",
       "      Bokeh.index[id].model.document.clear();\n",
       "      delete Bokeh.index[id];\n",
       "    }\n",
       "\n",
       "    if (server_id !== undefined) {\n",
       "      // Clean up Bokeh references\n",
       "      const cmd_clean = \"from bokeh.io.state import curstate; print(curstate().uuid_to_server['\" + server_id + \"'].get_sessions()[0].document.roots[0]._id)\";\n",
       "      cell.notebook.kernel.execute(cmd_clean, {\n",
       "        iopub: {\n",
       "          output: function(msg) {\n",
       "            const id = msg.content.text.trim();\n",
       "            if (id in Bokeh.index) {\n",
       "              Bokeh.index[id].model.document.clear();\n",
       "              delete Bokeh.index[id];\n",
       "            }\n",
       "          }\n",
       "        }\n",
       "      });\n",
       "      // Destroy server and session\n",
       "      const cmd_destroy = \"import bokeh.io.notebook as ion; ion.destroy_server('\" + server_id + \"')\";\n",
       "      cell.notebook.kernel.execute(cmd_destroy);\n",
       "    }\n",
       "  }\n",
       "\n",
       "  /**\n",
       "   * Handle when a new output is added\n",
       "   */\n",
       "  function handleAddOutput(event, handle) {\n",
       "    const output_area = handle.output_area;\n",
       "    const output = handle.output;\n",
       "\n",
       "    // limit handleAddOutput to display_data with EXEC_MIME_TYPE content only\n",
       "    if ((output.output_type != \"display_data\") || (!Object.prototype.hasOwnProperty.call(output.data, EXEC_MIME_TYPE))) {\n",
       "      return\n",
       "    }\n",
       "\n",
       "    const toinsert = output_area.element.find(\".\" + CLASS_NAME.split(' ')[0]);\n",
       "\n",
       "    if (output.metadata[EXEC_MIME_TYPE][\"id\"] !== undefined) {\n",
       "      toinsert[toinsert.length - 1].firstChild.textContent = output.data[JS_MIME_TYPE];\n",
       "      // store reference to embed id on output_area\n",
       "      output_area._bokeh_element_id = output.metadata[EXEC_MIME_TYPE][\"id\"];\n",
       "    }\n",
       "    if (output.metadata[EXEC_MIME_TYPE][\"server_id\"] !== undefined) {\n",
       "      const bk_div = document.createElement(\"div\");\n",
       "      bk_div.innerHTML = output.data[HTML_MIME_TYPE];\n",
       "      const script_attrs = bk_div.children[0].attributes;\n",
       "      for (let i = 0; i < script_attrs.length; i++) {\n",
       "        toinsert[toinsert.length - 1].firstChild.setAttribute(script_attrs[i].name, script_attrs[i].value);\n",
       "        toinsert[toinsert.length - 1].firstChild.textContent = bk_div.children[0].textContent\n",
       "      }\n",
       "      // store reference to server id on output_area\n",
       "      output_area._bokeh_server_id = output.metadata[EXEC_MIME_TYPE][\"server_id\"];\n",
       "    }\n",
       "  }\n",
       "\n",
       "  function register_renderer(events, OutputArea) {\n",
       "\n",
       "    function append_mime(data, metadata, element) {\n",
       "      // create a DOM node to render to\n",
       "      const toinsert = this.create_output_subarea(\n",
       "        metadata,\n",
       "        CLASS_NAME,\n",
       "        EXEC_MIME_TYPE\n",
       "      );\n",
       "      this.keyboard_manager.register_events(toinsert);\n",
       "      // Render to node\n",
       "      const props = {data: data, metadata: metadata[EXEC_MIME_TYPE]};\n",
       "      render(props, toinsert[toinsert.length - 1]);\n",
       "      element.append(toinsert);\n",
       "      return toinsert\n",
       "    }\n",
       "\n",
       "    /* Handle when an output is cleared or removed */\n",
       "    events.on('clear_output.CodeCell', handleClearOutput);\n",
       "    events.on('delete.Cell', handleClearOutput);\n",
       "\n",
       "    /* Handle when a new output is added */\n",
       "    events.on('output_added.OutputArea', handleAddOutput);\n",
       "\n",
       "    /**\n",
       "     * Register the mime type and append_mime function with output_area\n",
       "     */\n",
       "    OutputArea.prototype.register_mime_type(EXEC_MIME_TYPE, append_mime, {\n",
       "      /* Is output safe? */\n",
       "      safe: true,\n",
       "      /* Index of renderer in `output_area.display_order` */\n",
       "      index: 0\n",
       "    });\n",
       "  }\n",
       "\n",
       "  // register the mime type if in Jupyter Notebook environment and previously unregistered\n",
       "  if (root.Jupyter !== undefined) {\n",
       "    const events = require('base/js/events');\n",
       "    const OutputArea = require('notebook/js/outputarea').OutputArea;\n",
       "\n",
       "    if (OutputArea.prototype.mime_types().indexOf(EXEC_MIME_TYPE) == -1) {\n",
       "      register_renderer(events, OutputArea);\n",
       "    }\n",
       "  }\n",
       "\n",
       "  \n",
       "  if (typeof (root._bokeh_timeout) === \"undefined\" || force === true) {\n",
       "    root._bokeh_timeout = Date.now() + 5000;\n",
       "    root._bokeh_failed_load = false;\n",
       "  }\n",
       "\n",
       "  const NB_LOAD_WARNING = {'data': {'text/html':\n",
       "     \"<div style='background-color: #fdd'>\\n\"+\n",
       "     \"<p>\\n\"+\n",
       "     \"BokehJS does not appear to have successfully loaded. If loading BokehJS from CDN, this \\n\"+\n",
       "     \"may be due to a slow or bad network connection. Possible fixes:\\n\"+\n",
       "     \"</p>\\n\"+\n",
       "     \"<ul>\\n\"+\n",
       "     \"<li>re-rerun `output_notebook()` to attempt to load from CDN again, or</li>\\n\"+\n",
       "     \"<li>use INLINE resources instead, as so:</li>\\n\"+\n",
       "     \"</ul>\\n\"+\n",
       "     \"<code>\\n\"+\n",
       "     \"from bokeh.resources import INLINE\\n\"+\n",
       "     \"output_notebook(resources=INLINE)\\n\"+\n",
       "     \"</code>\\n\"+\n",
       "     \"</div>\"}};\n",
       "\n",
       "  function display_loaded() {\n",
       "    const el = document.getElementById(\"6458\");\n",
       "    if (el != null) {\n",
       "      el.textContent = \"BokehJS is loading...\";\n",
       "    }\n",
       "    if (root.Bokeh !== undefined) {\n",
       "      if (el != null) {\n",
       "        el.textContent = \"BokehJS \" + root.Bokeh.version + \" successfully loaded.\";\n",
       "      }\n",
       "    } else if (Date.now() < root._bokeh_timeout) {\n",
       "      setTimeout(display_loaded, 100)\n",
       "    }\n",
       "  }\n",
       "\n",
       "\n",
       "  function run_callbacks() {\n",
       "    try {\n",
       "      root._bokeh_onload_callbacks.forEach(function(callback) {\n",
       "        if (callback != null)\n",
       "          callback();\n",
       "      });\n",
       "    } finally {\n",
       "      delete root._bokeh_onload_callbacks\n",
       "    }\n",
       "    console.debug(\"Bokeh: all callbacks have finished\");\n",
       "  }\n",
       "\n",
       "  function load_libs(css_urls, js_urls, callback) {\n",
       "    if (css_urls == null) css_urls = [];\n",
       "    if (js_urls == null) js_urls = [];\n",
       "\n",
       "    root._bokeh_onload_callbacks.push(callback);\n",
       "    if (root._bokeh_is_loading > 0) {\n",
       "      console.debug(\"Bokeh: BokehJS is being loaded, scheduling callback at\", now());\n",
       "      return null;\n",
       "    }\n",
       "    if (js_urls == null || js_urls.length === 0) {\n",
       "      run_callbacks();\n",
       "      return null;\n",
       "    }\n",
       "    console.debug(\"Bokeh: BokehJS not loaded, scheduling load and callback at\", now());\n",
       "    root._bokeh_is_loading = css_urls.length + js_urls.length;\n",
       "\n",
       "    function on_load() {\n",
       "      root._bokeh_is_loading--;\n",
       "      if (root._bokeh_is_loading === 0) {\n",
       "        console.debug(\"Bokeh: all BokehJS libraries/stylesheets loaded\");\n",
       "        run_callbacks()\n",
       "      }\n",
       "    }\n",
       "\n",
       "    function on_error(url) {\n",
       "      console.error(\"failed to load \" + url);\n",
       "    }\n",
       "\n",
       "    for (let i = 0; i < css_urls.length; i++) {\n",
       "      const url = css_urls[i];\n",
       "      const element = document.createElement(\"link\");\n",
       "      element.onload = on_load;\n",
       "      element.onerror = on_error.bind(null, url);\n",
       "      element.rel = \"stylesheet\";\n",
       "      element.type = \"text/css\";\n",
       "      element.href = url;\n",
       "      console.debug(\"Bokeh: injecting link tag for BokehJS stylesheet: \", url);\n",
       "      document.body.appendChild(element);\n",
       "    }\n",
       "\n",
       "    for (let i = 0; i < js_urls.length; i++) {\n",
       "      const url = js_urls[i];\n",
       "      const element = document.createElement('script');\n",
       "      element.onload = on_load;\n",
       "      element.onerror = on_error.bind(null, url);\n",
       "      element.async = false;\n",
       "      element.src = url;\n",
       "      console.debug(\"Bokeh: injecting script tag for BokehJS library: \", url);\n",
       "      document.head.appendChild(element);\n",
       "    }\n",
       "  };\n",
       "\n",
       "  function inject_raw_css(css) {\n",
       "    const element = document.createElement(\"style\");\n",
       "    element.appendChild(document.createTextNode(css));\n",
       "    document.body.appendChild(element);\n",
       "  }\n",
       "\n",
       "  \n",
       "  const js_urls = [\"https://cdn.bokeh.org/bokeh/release/bokeh-2.4.1.min.js\", \"https://cdn.bokeh.org/bokeh/release/bokeh-gl-2.4.1.min.js\", \"https://cdn.bokeh.org/bokeh/release/bokeh-widgets-2.4.1.min.js\", \"https://cdn.bokeh.org/bokeh/release/bokeh-tables-2.4.1.min.js\", \"https://cdn.bokeh.org/bokeh/release/bokeh-mathjax-2.4.1.min.js\"];\n",
       "  const css_urls = [];\n",
       "  \n",
       "\n",
       "  const inline_js = [\n",
       "    function(Bokeh) {\n",
       "      Bokeh.set_log_level(\"info\");\n",
       "    },\n",
       "    function(Bokeh) {\n",
       "    \n",
       "    \n",
       "    }\n",
       "  ];\n",
       "\n",
       "  function run_inline_js() {\n",
       "    \n",
       "    if (root.Bokeh !== undefined || force === true) {\n",
       "      \n",
       "    for (let i = 0; i < inline_js.length; i++) {\n",
       "      inline_js[i].call(root, root.Bokeh);\n",
       "    }\n",
       "    if (force === true) {\n",
       "        display_loaded();\n",
       "      }} else if (Date.now() < root._bokeh_timeout) {\n",
       "      setTimeout(run_inline_js, 100);\n",
       "    } else if (!root._bokeh_failed_load) {\n",
       "      console.log(\"Bokeh: BokehJS failed to load within specified timeout.\");\n",
       "      root._bokeh_failed_load = true;\n",
       "    } else if (force !== true) {\n",
       "      const cell = $(document.getElementById(\"6458\")).parents('.cell').data().cell;\n",
       "      cell.output_area.append_execute_result(NB_LOAD_WARNING)\n",
       "    }\n",
       "\n",
       "  }\n",
       "\n",
       "  if (root._bokeh_is_loading === 0) {\n",
       "    console.debug(\"Bokeh: BokehJS loaded, going straight to plotting\");\n",
       "    run_inline_js();\n",
       "  } else {\n",
       "    load_libs(css_urls, js_urls, function() {\n",
       "      console.debug(\"Bokeh: BokehJS plotting callback run at\", now());\n",
       "      run_inline_js();\n",
       "    });\n",
       "  }\n",
       "}(window));"
      ],
      "application/vnd.bokehjs_load.v0+json": "\n(function(root) {\n  function now() {\n    return new Date();\n  }\n\n  const force = true;\n\n  if (typeof root._bokeh_onload_callbacks === \"undefined\" || force === true) {\n    root._bokeh_onload_callbacks = [];\n    root._bokeh_is_loading = undefined;\n  }\n\n  \n\n  \n  if (typeof (root._bokeh_timeout) === \"undefined\" || force === true) {\n    root._bokeh_timeout = Date.now() + 5000;\n    root._bokeh_failed_load = false;\n  }\n\n  const NB_LOAD_WARNING = {'data': {'text/html':\n     \"<div style='background-color: #fdd'>\\n\"+\n     \"<p>\\n\"+\n     \"BokehJS does not appear to have successfully loaded. If loading BokehJS from CDN, this \\n\"+\n     \"may be due to a slow or bad network connection. Possible fixes:\\n\"+\n     \"</p>\\n\"+\n     \"<ul>\\n\"+\n     \"<li>re-rerun `output_notebook()` to attempt to load from CDN again, or</li>\\n\"+\n     \"<li>use INLINE resources instead, as so:</li>\\n\"+\n     \"</ul>\\n\"+\n     \"<code>\\n\"+\n     \"from bokeh.resources import INLINE\\n\"+\n     \"output_notebook(resources=INLINE)\\n\"+\n     \"</code>\\n\"+\n     \"</div>\"}};\n\n  function display_loaded() {\n    const el = document.getElementById(\"6458\");\n    if (el != null) {\n      el.textContent = \"BokehJS is loading...\";\n    }\n    if (root.Bokeh !== undefined) {\n      if (el != null) {\n        el.textContent = \"BokehJS \" + root.Bokeh.version + \" successfully loaded.\";\n      }\n    } else if (Date.now() < root._bokeh_timeout) {\n      setTimeout(display_loaded, 100)\n    }\n  }\n\n\n  function run_callbacks() {\n    try {\n      root._bokeh_onload_callbacks.forEach(function(callback) {\n        if (callback != null)\n          callback();\n      });\n    } finally {\n      delete root._bokeh_onload_callbacks\n    }\n    console.debug(\"Bokeh: all callbacks have finished\");\n  }\n\n  function load_libs(css_urls, js_urls, callback) {\n    if (css_urls == null) css_urls = [];\n    if (js_urls == null) js_urls = [];\n\n    root._bokeh_onload_callbacks.push(callback);\n    if (root._bokeh_is_loading > 0) {\n      console.debug(\"Bokeh: BokehJS is being loaded, scheduling callback at\", now());\n      return null;\n    }\n    if (js_urls == null || js_urls.length === 0) {\n      run_callbacks();\n      return null;\n    }\n    console.debug(\"Bokeh: BokehJS not loaded, scheduling load and callback at\", now());\n    root._bokeh_is_loading = css_urls.length + js_urls.length;\n\n    function on_load() {\n      root._bokeh_is_loading--;\n      if (root._bokeh_is_loading === 0) {\n        console.debug(\"Bokeh: all BokehJS libraries/stylesheets loaded\");\n        run_callbacks()\n      }\n    }\n\n    function on_error(url) {\n      console.error(\"failed to load \" + url);\n    }\n\n    for (let i = 0; i < css_urls.length; i++) {\n      const url = css_urls[i];\n      const element = document.createElement(\"link\");\n      element.onload = on_load;\n      element.onerror = on_error.bind(null, url);\n      element.rel = \"stylesheet\";\n      element.type = \"text/css\";\n      element.href = url;\n      console.debug(\"Bokeh: injecting link tag for BokehJS stylesheet: \", url);\n      document.body.appendChild(element);\n    }\n\n    for (let i = 0; i < js_urls.length; i++) {\n      const url = js_urls[i];\n      const element = document.createElement('script');\n      element.onload = on_load;\n      element.onerror = on_error.bind(null, url);\n      element.async = false;\n      element.src = url;\n      console.debug(\"Bokeh: injecting script tag for BokehJS library: \", url);\n      document.head.appendChild(element);\n    }\n  };\n\n  function inject_raw_css(css) {\n    const element = document.createElement(\"style\");\n    element.appendChild(document.createTextNode(css));\n    document.body.appendChild(element);\n  }\n\n  \n  const js_urls = [\"https://cdn.bokeh.org/bokeh/release/bokeh-2.4.1.min.js\", \"https://cdn.bokeh.org/bokeh/release/bokeh-gl-2.4.1.min.js\", \"https://cdn.bokeh.org/bokeh/release/bokeh-widgets-2.4.1.min.js\", \"https://cdn.bokeh.org/bokeh/release/bokeh-tables-2.4.1.min.js\", \"https://cdn.bokeh.org/bokeh/release/bokeh-mathjax-2.4.1.min.js\"];\n  const css_urls = [];\n  \n\n  const inline_js = [\n    function(Bokeh) {\n      Bokeh.set_log_level(\"info\");\n    },\n    function(Bokeh) {\n    \n    \n    }\n  ];\n\n  function run_inline_js() {\n    \n    if (root.Bokeh !== undefined || force === true) {\n      \n    for (let i = 0; i < inline_js.length; i++) {\n      inline_js[i].call(root, root.Bokeh);\n    }\n    if (force === true) {\n        display_loaded();\n      }} else if (Date.now() < root._bokeh_timeout) {\n      setTimeout(run_inline_js, 100);\n    } else if (!root._bokeh_failed_load) {\n      console.log(\"Bokeh: BokehJS failed to load within specified timeout.\");\n      root._bokeh_failed_load = true;\n    } else if (force !== true) {\n      const cell = $(document.getElementById(\"6458\")).parents('.cell').data().cell;\n      cell.output_area.append_execute_result(NB_LOAD_WARNING)\n    }\n\n  }\n\n  if (root._bokeh_is_loading === 0) {\n    console.debug(\"Bokeh: BokehJS loaded, going straight to plotting\");\n    run_inline_js();\n  } else {\n    load_libs(css_urls, js_urls, function() {\n      console.debug(\"Bokeh: BokehJS plotting callback run at\", now());\n      run_inline_js();\n    });\n  }\n}(window));"
     },
     "metadata": {},
     "output_type": "display_data"
    }
   ],
   "source": [
    "# Colab setup\n",
    "import os, sys, subprocess\n",
    "if \"google.colab\" in sys.modules:\n",
    "    cmd = \"pip install --upgrade biocircuits bokeh-catplot watermark blackcellmagic\"\n",
    "    process = subprocess.Popen(cmd.split(), stdout=subprocess.PIPE, stderr=subprocess.PIPE)\n",
    "    stdout, stderr = process.communicate()\n",
    "  \n",
    "    from google.colab import drive\n",
    "    drive.mount('/content/drive')\n",
    "    dir = \"/content/drive/My Drive/Research/2022/RecombinaseOscillator/ProteaseRecombinase/\"\n",
    "else:\n",
    "    dir = \"/Users/christian/My Drive/Research/2022/RecombinaseOscillator/ProteaseRecombinase/\"\n",
    "\n",
    "# ------\n",
    "\n",
    "# This check the number of processors in the computer\n",
    "#% cat /proc/cpuinfo | grep processor | wc -l\n",
    "\n",
    "# % pip install biocircuits bokeh-catplot watermark blackcellmagic\n",
    "import multiprocessing\n",
    "import tqdm\n",
    "\n",
    "import numpy as np\n",
    "import scipy.stats as st\n",
    "import numba\n",
    "import math\n",
    "\n",
    "from scipy.signal import argrelextrema\n",
    "import scipy.fftpack\n",
    "import os.path\n",
    "\n",
    "import biocircuits\n",
    "\n",
    "# Plotting modules\n",
    "import bokeh.io\n",
    "import bokeh.plotting\n",
    "from bokeh.models import LinearColorMapper, ColorBar\n",
    "from bokeh.io import export_svgs\n",
    "\n",
    "bokeh.io.output_notebook()"
   ]
  },
  {
   "cell_type": "markdown",
   "metadata": {
    "id": "iO98GulFKv6T"
   },
   "source": [
    "We start by writing a function to create two matrices of differense size by placing them in a diagonal [A, 0 ; 0, B]"
   ]
  },
  {
   "cell_type": "code",
   "execution_count": 24,
   "metadata": {
    "executionInfo": {
     "elapsed": 151,
     "status": "ok",
     "timestamp": 1652533531937,
     "user": {
      "displayName": "Christian Cuba",
      "userId": "05812622177105967845"
     },
     "user_tz": 240
    },
    "id": "mBdSOG9ZswrO"
   },
   "outputs": [],
   "source": [
    "def JoinMatrices(A,B):\n",
    "    n1, m1 = A.shape\n",
    "    n2, m2 = B.shape\n",
    "    ZA = np.zeros((n1,m2))\n",
    "    ZB = np.zeros((n2,m1))\n",
    "    tmp1 = np.hstack((A,ZA))\n",
    "    tmp2 = np.hstack((ZB,B)) \n",
    "    return np.vstack((tmp1,tmp2))"
   ]
  },
  {
   "cell_type": "markdown",
   "metadata": {
    "id": "-I_2MyZXKv6U"
   },
   "source": [
    "Next, we write down the stoichiometry matrices for all the reactions. We beging with the stoichiometry matrix for a single switch $S_1$, and then use the function \"Join Matrixes\" to create the stoichiometry matrix for two switches $S_2$. $S_2$ represent the promoter pointing to the right and the left. Therefore, we also add the transition between these two states (the last part of the code)."
   ]
  },
  {
   "cell_type": "code",
   "execution_count": 25,
   "metadata": {
    "colab": {
     "base_uri": "https://localhost:8080/"
    },
    "executionInfo": {
     "elapsed": 169,
     "status": "ok",
     "timestamp": 1652533533333,
     "user": {
      "displayName": "Christian Cuba",
      "userId": "05812622177105967845"
     },
     "user_tz": 240
    },
    "id": "lZiIkHTMuCdq",
    "outputId": "f8a62dc7-a003-4e5f-a7bd-792e95c457f0"
   },
   "outputs": [
    {
     "name": "stdout",
     "output_type": "stream",
     "text": [
      "(18, 8)\n"
     ]
    }
   ],
   "source": [
    "# Stoichiometry  matrix of a single switch\n",
    "# R00, R10, R01, R11\n",
    "S1 = np.array(\n",
    "    [\n",
    "     [-1, 1, 0, 0],  # R00 -> R10\n",
    "     [ 1,-1, 0, 0], # R10 -> R00 \n",
    "     [ 0,-1, 0, 1], # R10 -> R11\n",
    "     [ 0, 1, 0,-1], # R11 -> R10\n",
    "\n",
    "     [-1, 0, 1, 0],  # R00 -> R01\n",
    "     [ 1, 0,-1, 0], # R01 -> R00 \n",
    "     [ 0, 0,-1, 1], # R01 -> R11\n",
    "     [ 0, 0, 1,-1], # R11 -> R01 \n",
    "\n",
    "     [ 0, 0, 0,-1], # R11 -> L00\n",
    "    ],\n",
    "    dtype=int,\n",
    ")\n",
    "# Stoichiometry  matrix of two switches\n",
    "S2 = JoinMatrices(S1,S1)\n",
    "S2[8,4] = 1\n",
    "S2[17,0] = 1\n",
    "print(S2.shape)"
   ]
  },
  {
   "cell_type": "markdown",
   "metadata": {
    "id": "-AKnLPbjKv6W"
   },
   "source": [
    "Now, we describe the stoichiometry matrix $S_3$. it describe the trsnscription of mRNA recombinase, translation of recombianse, and the decays of mRNA and protein. It also incorporates the heterodimer formation between both recombinases $S_4$. In addition, it updates the number of recombinases require for each flip. Finally, we define the transcription, translation, and decays of mRNA and protein of repressprs $S_5$. Combining all of them results in the stoichiometry matrix of the whole system."
   ]
  },
  {
   "cell_type": "code",
   "execution_count": 26,
   "metadata": {
    "colab": {
     "base_uri": "https://localhost:8080/"
    },
    "executionInfo": {
     "elapsed": 298,
     "status": "ok",
     "timestamp": 1652533535440,
     "user": {
      "displayName": "Christian Cuba",
      "userId": "05812622177105967845"
     },
     "user_tz": 240
    },
    "id": "e_Siugd85ioK",
    "outputId": "ed58d5ad-8915-4909-d3b0-7850d394a286"
   },
   "outputs": [
    {
     "name": "stdout",
     "output_type": "stream",
     "text": [
      "(35, 15)\n",
      "(47, 19)\n"
     ]
    }
   ],
   "source": [
    "# Stoichiometry  matrix of transcription and translation\n",
    "# m1, x1, y1, m2, x2, y2, c\n",
    "S3 = np.array(\n",
    "    [\n",
    "     [ 1, 0, 0, 0, 0, 0, 0], # m1 production (TX)\n",
    "     [-1, 0, 0, 0, 0, 0, 0], # m1 decay\n",
    "     [ 0, 1, 0, 0, 0, 0, 0], # x1 production (TL)\n",
    "     [ 0,-1, 0, 0, 0, 0, 0], # x1 decay\n",
    "     [ 0,-2, 1, 0, 0, 0, 0], # y1 production (dimerization)\n",
    "     [ 0, 2,-1, 0, 0, 0, 0], # y1 dissociation\n",
    "     [ 0, 0,-1, 0, 0, 0, 0], # y1 decay\n",
    "\n",
    "     [ 0, 0, 0, 1, 0, 0, 0], # m2 production (TX)\n",
    "     [ 0, 0, 0,-1, 0, 0, 0], # m2 decay\n",
    "     [ 0, 0, 0, 0, 1, 0, 0], # x2 production (TL)\n",
    "     [ 0, 0, 0, 0,-1, 0, 0], # x2 decay\n",
    "     [ 0, 0, 0, 0,-2, 1, 0], # y2 production (dimerization)\n",
    "     [ 0, 0, 0, 0, 2,-1, 0], # y2 dissociation\n",
    "     [ 0, 0, 0, 0, 0,-1, 0], # y2 decay\n",
    "\n",
    "     [ 0,-1, 0, 0,-1, 0, 1], # c production (heterodimer formation)\n",
    "     [ 0, 1, 0, 0, 1, 0,-1], # c heterodimer dissociation\n",
    "     [ 0, 0, 0, 0, 0, 0,-1], # c decay\n",
    "    ],\n",
    "    dtype=int,\n",
    ")\n",
    "# Stoichiometry  matrix of two switches\n",
    "S4 = JoinMatrices(S2,S3)\n",
    "# Updating the consumption of recombinase in the switches\n",
    "S0 = np.array(\n",
    "    [\n",
    "     [-1, 1, -1, 1,-1, 1, -1, 1, 2],  # R00 -> R10\n",
    "    ],\n",
    "    dtype=int,\n",
    ")\n",
    "S4[0:9,10] = S0\n",
    "S4[9:18,13] = S0\n",
    "\n",
    "S5 = np.array(\n",
    "    [\n",
    "     [ 1, 0], # mRNA production Protease (TX)\n",
    "     [-1, 0], # mRNA decay\n",
    "        \n",
    "     [ 0, 1], # Protease production (TL)\n",
    "     [ 0,-1], # Protein decay\n",
    "        \n",
    "     [ 0, 0], # Decay recombinase monomer 1 by Protease 1\n",
    "     [ 0, 0], # Decay recombinase dimer 1 by Protease 1\n",
    " \n",
    "    ],\n",
    "    dtype=int,\n",
    ")\n",
    "\n",
    "simple_update = JoinMatrices(S4,JoinMatrices(S5,S5))\n",
    "\n",
    "simple_update[39, 9] = -1\n",
    "simple_update[40,10] = -1\n",
    "\n",
    "simple_update[45,12] = -1\n",
    "simple_update[46,13] = -1\n",
    "\n",
    "#print(simple_update)\n",
    "print(S4.shape)\n",
    "print(simple_update.shape)\n"
   ]
  },
  {
   "cell_type": "markdown",
   "metadata": {
    "id": "Ds41tIp3Kv6c"
   },
   "source": [
    "In this part of the code, we write down the propensity of all reactions. In addition, we convert the rates from concentration to molecules throught the parameter Omega. "
   ]
  },
  {
   "cell_type": "code",
   "execution_count": 27,
   "metadata": {
    "executionInfo": {
     "elapsed": 195,
     "status": "ok",
     "timestamp": 1652533541670,
     "user": {
      "displayName": "Christian Cuba",
      "userId": "05812622177105967845"
     },
     "user_tz": 240
    },
    "id": "q1mIj035Nts5"
   },
   "outputs": [],
   "source": [
    "def simple_propensity(propensities, x, t, th, rh, ph, d, g, gd, a0, d0, r, b, rh2, xi, Kd, Omega, n):\n",
    "    #x, y, c = population\n",
    "    # Switch 1 (Promoter pointing to the right R)\n",
    "    propensities[0] = a0 * x[0] * x[10]  / Omega # R00 -> R10\n",
    "    propensities[1] = d0 * x[1] # R10 -> R00\n",
    "    propensities[2] = a0 * x[1] * x[10]  / Omega # R10 -> R11\n",
    "    propensities[3] = d0 * x[3] # R11 -> R10\n",
    "    propensities[4] = a0 * x[0] * x[10]  / Omega # R00 -> R01\n",
    "    propensities[5] = d0 * x[2] # R01 -> R00\n",
    "    propensities[6] = a0 * x[2] * x[10]  / Omega # R01 -> R11\n",
    "    propensities[7] = d0 * x[3] # R11 -> R01\n",
    "    propensities[8] = r * x[3] # R11 -> L00\n",
    "\n",
    "    # Switch 2 (Promoter pointing to the left L)\n",
    "    propensities[ 9] = a0 * x[4] * x[13]  / Omega # L00 -> L10\n",
    "    propensities[10] = d0 * x[5] # L10 -> L00\n",
    "    propensities[11] = a0 * x[5] * x[13]  / Omega # R10 -> R11\n",
    "    propensities[12] = d0 * x[7] # R11 -> R10\n",
    "    propensities[13] = a0 * x[4] * x[13]  / Omega # R00 -> R01\n",
    "    propensities[14] = d0 * x[6] # R01 -> R00\n",
    "    propensities[15] = a0 * x[6] * x[13]  / Omega # R01 -> R11\n",
    "    propensities[16] = d0 * x[7] # R11 -> R01\n",
    "    propensities[17] = r * x[7] # R11 -> L00\n",
    "\n",
    "    # TX-TL of recombinase 1\n",
    "    propensities[18] = th # R00 -> R00 + M1\n",
    "    propensities[19] = ph * x[8] # M1 -> 0\n",
    "    propensities[20] = rh * x[8] # M1 -> M1 + X1\n",
    "    propensities[21] = d * x[9] # X1 -> 0\n",
    "    propensities[22] = g * x[9] * (x[9]-1)  / 2 / Omega # X1 + X1 -> Y1\n",
    "    propensities[23] = gd * x[10] # Y1 -> X1 + X1\n",
    "    propensities[24] = d * x[10] # Y1 -> 0\n",
    "\n",
    "    # TX-TL of recombinase 2\n",
    "    propensities[25] = th # L00 -> L00 + M2\n",
    "    propensities[26] = ph * x[11] # M2 -> 0\n",
    "    propensities[27] = rh * x[11] # M2 -> M2 + X2\n",
    "    propensities[28] = d * x[12] # X2 -> 0\n",
    "    propensities[29] = g * x[12] * (x[12]-1)  / 2 / Omega # X2 + X2 -> Y2\n",
    "    propensities[30] = gd * x[13] # Y2 -> X2 + X2\n",
    "    propensities[31] = d * x[13] # Y2 -> 0\n",
    "\n",
    "    # Heterodimmer reaction\n",
    "    propensities[32] = g * x[9] * x[12] / Omega # L00 -> L00 + M2\n",
    "    propensities[33] = gd * x[14] # M2 -> 0\n",
    "    propensities[34] = d * x[14] # M2 -> M2 + X2 \n",
    "    \n",
    "    # Protease 1\n",
    "    propensities[35] = b * x[4] # mRNA Y1 repressor 1 (TX)\n",
    "    propensities[36] = ph * x[15] # mRNA Y1 -> 0\n",
    "    propensities[37] = rh2 * x[15] # mRNA -> mRNA + Y1 (TL) \n",
    "    propensities[38] = d * x[16] # Y1 decay\n",
    "    propensities[39] = xi * x[9]/(x[9] + x[10] + Kd*Omega) * x[16] # X1 degradation\n",
    "    propensities[40] = xi * x[10]/(x[9] + x[10] + Kd*Omega) * x[16] # Y1 degradation\n",
    "    #propensities[39] = xi * x[16]/(x[16] + Kd*Omega) * x[9] # X1 degradation\n",
    "    #propensities[40] = xi * x[16]/(x[16] + Kd*Omega) * x[10] # Y1 degradation\n",
    "\n",
    "    # Protease 2\n",
    "    propensities[41] = b * x[0] # mRNA Y2 repressor 2 (TX)\n",
    "    propensities[42] = ph * x[17] # mRNA -> 0\n",
    "    propensities[43] = rh2 * x[17] # mRNA -> mRNA + Y2 (TL) \n",
    "    propensities[44] = d * x[18] # Y2 decay\n",
    "    propensities[45] = xi * x[12]/(x[12] + x[13] + Kd*Omega) * x[18] # X1 degradation\n",
    "    propensities[46] = xi * x[13]/(x[12] + x[13] + Kd*Omega) * x[18] # Y1 degradation\n",
    "    #propensities[45] = xi * x[18]/(x[18] + Kd*Omega) * x[12] # X1 degradation\n",
    "    #propensities[46] = xi * x[18]/(x[18] + Kd*Omega) * x[13] # Y1 degradation"
   ]
  },
  {
   "cell_type": "markdown",
   "metadata": {
    "id": "0Gs7BD-KKv6d"
   },
   "source": [
    "Now, we are ready to realize the stochastic simulations of the whole system."
   ]
  },
  {
   "cell_type": "code",
   "execution_count": 35,
   "metadata": {
    "colab": {
     "base_uri": "https://localhost:8080/",
     "height": 217
    },
    "executionInfo": {
     "elapsed": 6050,
     "status": "ok",
     "timestamp": 1652533556258,
     "user": {
      "displayName": "Christian Cuba",
      "userId": "05812622177105967845"
     },
     "user_tz": 240
    },
    "id": "WPPDzJe6SOOL",
    "outputId": "51ed2f2a-64ea-45c5-db86-b2178d4e13f1"
   },
   "outputs": [
    {
     "data": {
      "text/html": [
       "\n",
       "\n",
       "\n",
       "\n",
       "\n",
       "\n",
       "  <div class=\"bk-root\" id=\"a030e2ff-92aa-498a-b998-3668e7d95f47\" data-root-id=\"10378\"></div>\n"
      ]
     },
     "metadata": {},
     "output_type": "display_data"
    },
    {
     "data": {
      "application/javascript": [
       "(function(root) {\n",
       "  function embed_document(root) {\n",
       "    \n",
       "  const docs_json = {\"53b17349-2002-4fa5-8477-4657b037e884\":{\"defs\":[],\"roots\":{\"references\":[{\"attributes\":{\"children\":[{\"id\":\"10335\"}]},\"id\":\"10378\",\"type\":\"Row\"},{\"attributes\":{\"line_alpha\":0.2,\"line_color\":\"orange\",\"line_width\":2,\"x\":{\"field\":\"x\"},\"y\":{\"field\":\"y\"}},\"id\":\"10375\",\"type\":\"Step\"},{\"attributes\":{\"axis\":{\"id\":\"10344\"},\"coordinates\":null,\"group\":null,\"ticker\":null},\"id\":\"10347\",\"type\":\"Grid\"},{\"attributes\":{\"data\":{\"x\":{\"__ndarray__\":\"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\",\"dtype\":\"float64\",\"order\":\"little\",\"shape\":[401]},\"y\":[0,0,0,4,6,19,32,51,62,67,46,21,10,3,1,1,0,0,0,0,0,1,0,1,0,0,0,0,0,0,0,0,0,0,0,0,0,2,1,1,1,2,2,1,7,11,10,18,15,21,22,17,4,2,0,0,0,0,0,0,0,0,0,0,0,0,0,0,0,0,1,1,0,0,0,0,0,2,6,10,11,15,17,16,16,24,18,9,5,0,0,0,0,1,6,13,6,10,7,2,1,0,2,0,0,0,0,0,0,0,1,2,1,5,5,5,2,5,5,4,6,7,15,17,25,18,26,26,38,45,50,55,49,48,57,61,57,39,15,1,0,0,0,0,0,0,0,1,3,9,11,12,16,22,13,7,14,17,16,5,2,0,0,1,0,1,0,1,0,0,0,0,1,0,0,2,0,1,3,3,6,10,8,5,11,8,9,10,11,13,12,9,10,11,16,24,41,53,46,58,58,63,60,33,9,1,0,0,0,0,0,0,0,0,0,0,0,0,0,0,0,0,1,0,0,0,0,0,0,0,0,0,1,7,12,17,18,16,9,3,3,0,0,0,0,0,0,0,0,0,0,0,0,0,0,0,0,0,0,0,0,0,0,1,3,2,1,0,3,1,2,1,1,1,0,0,0,0,0,0,0,0,0,0,0,0,0,0,0,0,1,0,0,0,0,0,3,8,10,11,11,13,22,25,28,29,20,28,27,31,32,29,26,21,23,18,13,12,4,1,2,0,0,0,0,0,0,0,0,0,0,0,0,0,0,0,0,0,0,0,0,0,0,0,1,1,1,4,7,4,6,10,4,6,11,7,7,6,4,4,6,13,17,19,21,23,29,32,27,6,0,0,0,0,0,0,0,0,0,0,0,0,0,0,0,0,0,0,0,1,0,1,1,0,0,0,1,0,0,3,5]},\"selected\":{\"id\":\"10746\"},\"selection_policy\":{\"id\":\"10745\"}},\"id\":\"10366\",\"type\":\"ColumnDataSource\"},{\"attributes\":{},\"id\":\"10357\",\"type\":\"HelpTool\"},{\"attributes\":{\"coordinates\":null,\"formatter\":{\"id\":\"10743\"},\"group\":null,\"major_label_policy\":{\"id\":\"10744\"},\"major_label_text_font_size\":\"10pt\",\"ticker\":{\"id\":\"10345\"}},\"id\":\"10344\",\"type\":\"LinearAxis\"},{\"attributes\":{\"line_alpha\":0.1,\"line_color\":\"orange\",\"line_width\":2,\"x\":{\"field\":\"x\"},\"y\":{\"field\":\"y\"}},\"id\":\"10374\",\"type\":\"Step\"},{\"attributes\":{\"bottom_units\":\"screen\",\"coordinates\":null,\"fill_alpha\":0.5,\"fill_color\":\"lightgrey\",\"group\":null,\"left_units\":\"screen\",\"level\":\"overlay\",\"line_alpha\":1.0,\"line_color\":\"black\",\"line_dash\":[4,4],\"line_width\":2,\"right_units\":\"screen\",\"syncable\":false,\"top_units\":\"screen\"},\"id\":\"10358\",\"type\":\"BoxAnnotation\"},{\"attributes\":{\"line_alpha\":0.1,\"line_color\":\"grey\",\"line_width\":2,\"x\":{\"field\":\"x\"},\"y\":{\"field\":\"y\"}},\"id\":\"10368\",\"type\":\"Step\"},{\"attributes\":{},\"id\":\"10355\",\"type\":\"SaveTool\"},{\"attributes\":{\"coordinates\":null,\"data_source\":{\"id\":\"10366\"},\"glyph\":{\"id\":\"10367\"},\"group\":null,\"hover_glyph\":null,\"muted_glyph\":{\"id\":\"10369\"},\"nonselection_glyph\":{\"id\":\"10368\"},\"view\":{\"id\":\"10371\"}},\"id\":\"10370\",\"type\":\"GlyphRenderer\"},{\"attributes\":{},\"id\":\"10338\",\"type\":\"DataRange1d\"},{\"attributes\":{\"below\":[{\"id\":\"10344\"}],\"center\":[{\"id\":\"10347\"},{\"id\":\"10351\"}],\"height\":200,\"left\":[{\"id\":\"10348\"}],\"renderers\":[{\"id\":\"10370\"},{\"id\":\"10376\"}],\"title\":{\"id\":\"10737\"},\"toolbar\":{\"id\":\"10359\"},\"width\":300,\"x_range\":{\"id\":\"10336\"},\"x_scale\":{\"id\":\"10340\"},\"y_range\":{\"id\":\"10338\"},\"y_scale\":{\"id\":\"10342\"}},\"id\":\"10335\",\"subtype\":\"Figure\",\"type\":\"Plot\"},{\"attributes\":{},\"id\":\"10356\",\"type\":\"ResetTool\"},{\"attributes\":{},\"id\":\"10741\",\"type\":\"AllLabels\"},{\"attributes\":{},\"id\":\"10746\",\"type\":\"Selection\"},{\"attributes\":{\"source\":{\"id\":\"10366\"}},\"id\":\"10371\",\"type\":\"CDSView\"},{\"attributes\":{\"line_color\":\"orange\",\"line_width\":2,\"x\":{\"field\":\"x\"},\"y\":{\"field\":\"y\"}},\"id\":\"10373\",\"type\":\"Step\"},{\"attributes\":{},\"id\":\"10352\",\"type\":\"PanTool\"},{\"attributes\":{},\"id\":\"10743\",\"type\":\"BasicTickFormatter\"},{\"attributes\":{},\"id\":\"10349\",\"type\":\"BasicTicker\"},{\"attributes\":{},\"id\":\"10740\",\"type\":\"BasicTickFormatter\"},{\"attributes\":{},\"id\":\"10340\",\"type\":\"LinearScale\"},{\"attributes\":{\"coordinates\":null,\"data_source\":{\"id\":\"10372\"},\"glyph\":{\"id\":\"10373\"},\"group\":null,\"hover_glyph\":null,\"muted_glyph\":{\"id\":\"10375\"},\"nonselection_glyph\":{\"id\":\"10374\"},\"view\":{\"id\":\"10377\"}},\"id\":\"10376\",\"type\":\"GlyphRenderer\"},{\"attributes\":{},\"id\":\"10342\",\"type\":\"LinearScale\"},{\"attributes\":{\"line_alpha\":0.2,\"line_color\":\"grey\",\"line_width\":2,\"x\":{\"field\":\"x\"},\"y\":{\"field\":\"y\"}},\"id\":\"10369\",\"type\":\"Step\"},{\"attributes\":{\"axis\":{\"id\":\"10348\"},\"coordinates\":null,\"dimension\":1,\"group\":null,\"ticker\":null},\"id\":\"10351\",\"type\":\"Grid\"},{\"attributes\":{},\"id\":\"10747\",\"type\":\"UnionRenderers\"},{\"attributes\":{},\"id\":\"10744\",\"type\":\"AllLabels\"},{\"attributes\":{},\"id\":\"10353\",\"type\":\"WheelZoomTool\"},{\"attributes\":{},\"id\":\"10748\",\"type\":\"Selection\"},{\"attributes\":{\"tools\":[{\"id\":\"10352\"},{\"id\":\"10353\"},{\"id\":\"10354\"},{\"id\":\"10355\"},{\"id\":\"10356\"},{\"id\":\"10357\"}]},\"id\":\"10359\",\"type\":\"Toolbar\"},{\"attributes\":{\"coordinates\":null,\"group\":null},\"id\":\"10737\",\"type\":\"Title\"},{\"attributes\":{\"line_color\":\"grey\",\"line_width\":2,\"x\":{\"field\":\"x\"},\"y\":{\"field\":\"y\"}},\"id\":\"10367\",\"type\":\"Step\"},{\"attributes\":{\"coordinates\":null,\"formatter\":{\"id\":\"10740\"},\"group\":null,\"major_label_policy\":{\"id\":\"10741\"},\"major_label_text_font_size\":\"10pt\",\"ticker\":{\"id\":\"10349\"}},\"id\":\"10348\",\"type\":\"LinearAxis\"},{\"attributes\":{\"source\":{\"id\":\"10372\"}},\"id\":\"10377\",\"type\":\"CDSView\"},{\"attributes\":{\"data\":{\"x\":{\"__ndarray__\":\"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\",\"dtype\":\"float64\",\"order\":\"little\",\"shape\":[401]},\"y\":[0,0,0,0,0,0,0,0,0,0,0,0,0,0,0,0,1,6,1,5,12,9,6,13,19,16,27,41,49,46,42,43,45,43,47,33,20,8,1,3,0,0,0,0,0,0,0,0,0,0,0,0,0,1,0,0,0,2,0,1,2,2,2,5,3,13,13,13,12,27,19,11,6,4,2,0,0,0,0,0,0,0,0,0,1,5,9,5,2,1,5,3,7,10,9,13,13,9,10,12,20,25,33,43,51,67,66,46,25,7,1,0,0,0,0,0,0,0,0,0,0,0,0,0,0,0,0,0,0,0,0,2,0,0,4,3,3,4,5,9,8,7,16,11,7,1,2,0,0,0,0,0,0,0,0,0,1,0,0,1,1,0,0,1,1,0,4,7,9,12,20,21,34,44,69,70,38,12,8,4,1,0,1,1,1,0,1,0,0,0,1,0,0,0,0,1,0,0,0,0,0,0,1,1,0,0,0,1,1,2,1,3,6,14,14,12,14,11,22,31,26,29,23,7,2,3,2,1,0,2,0,1,2,0,0,1,0,0,0,0,1,0,0,0,0,0,0,0,0,0,1,4,6,6,11,21,29,32,40,42,32,32,35,35,35,29,25,24,21,23,12,17,10,8,7,5,3,1,6,6,7,11,14,17,21,20,23,27,29,16,10,4,2,0,0,0,0,0,0,0,0,0,0,0,0,0,0,0,0,0,0,0,0,0,0,0,0,0,0,0,3,1,1,5,4,7,10,15,7,7,11,21,38,57,63,75,69,76,81,74,72,75,71,62,59,43,23,9,2,0,0,0,0,0,0,0,0,0,0,0,0,0,0,0,0,0,0,0,0,3,0,0,2,0,1,9,5,3,9,10,16,18,18,14,26,28,30,34,38,53,59,66,77,84,83,69,40,13,0,0,1]},\"selected\":{\"id\":\"10748\"},\"selection_policy\":{\"id\":\"10747\"}},\"id\":\"10372\",\"type\":\"ColumnDataSource\"},{\"attributes\":{},\"id\":\"10745\",\"type\":\"UnionRenderers\"},{\"attributes\":{\"overlay\":{\"id\":\"10358\"}},\"id\":\"10354\",\"type\":\"BoxZoomTool\"},{\"attributes\":{},\"id\":\"10336\",\"type\":\"DataRange1d\"},{\"attributes\":{},\"id\":\"10345\",\"type\":\"BasicTicker\"}],\"root_ids\":[\"10378\"]},\"title\":\"Bokeh Application\",\"version\":\"2.4.1\"}};\n",
       "  const render_items = [{\"docid\":\"53b17349-2002-4fa5-8477-4657b037e884\",\"root_ids\":[\"10378\"],\"roots\":{\"10378\":\"a030e2ff-92aa-498a-b998-3668e7d95f47\"}}];\n",
       "  root.Bokeh.embed.embed_items_notebook(docs_json, render_items);\n",
       "\n",
       "  }\n",
       "  if (root.Bokeh !== undefined) {\n",
       "    embed_document(root);\n",
       "  } else {\n",
       "    let attempts = 0;\n",
       "    const timer = setInterval(function(root) {\n",
       "      if (root.Bokeh !== undefined) {\n",
       "        clearInterval(timer);\n",
       "        embed_document(root);\n",
       "      } else {\n",
       "        attempts++;\n",
       "        if (attempts > 100) {\n",
       "          clearInterval(timer);\n",
       "          console.log(\"Bokeh: ERROR: Unable to run BokehJS code because BokehJS library is missing\");\n",
       "        }\n",
       "      }\n",
       "    }, 10, root)\n",
       "  }\n",
       "})(window);"
      ],
      "application/vnd.bokehjs_exec.v0+json": ""
     },
     "metadata": {
      "application/vnd.bokehjs_exec.v0+json": {
       "id": "10378"
      }
     },
     "output_type": "display_data"
    }
   ],
   "source": [
    "# Specify parameters for calculation\n",
    "n = 1 # copy number of promoter\n",
    "th = 0.3*60/n # 1/h\n",
    "rh = 80 # 1/h\n",
    "ph = 0.6931/10*60 # 1/h log(2)=0.6931\n",
    "d = 0.6931/30*60 # 1/h log(2)=0.6931\n",
    "g = 2.1*36 # 1/uM/h \n",
    "gd = g*0.01 # 1/h\n",
    "r = 5 # 1/h Switching rate\n",
    "a0 = 2.1*36\n",
    "d0 = 0.01*a0\n",
    "\n",
    "b = 0.3*60/n\n",
    "rh2 = 80\n",
    "xi = 20\n",
    "Kd = 0.1\n",
    "\n",
    "Omega = 600 # 600\n",
    "state = (10,13) # 10/13(R1/R2) Y1/Y2 (16/20) C1/C2 (17/21)\n",
    "\n",
    "args = (th, rh, ph, d, g, gd, a0, d0, r, b, rh2, xi, Kd, Omega, n)\n",
    "time_points = np.linspace(0, 40, 401)\n",
    "population_0 = np.zeros(19, dtype=int)\n",
    "population_0[0] = n\n",
    "\n",
    "samples = biocircuits.gillespie_ssa(simple_propensity, simple_update, population_0,time_points, size=1, args=args, n_threads=1,progress_bar=False)\n",
    "\n",
    "# Set up plots\n",
    "fig_size = [300, 200] # for paper size (144, 110) # for larger size (144,144)\n",
    "x_range = (0, time_points[-1])\n",
    "y_range = (0, 400)\n",
    "\n",
    "plots = []\n",
    "for i in range(1):\n",
    "    plots.append(bokeh.plotting.figure(plot_width=fig_size[0], plot_height=fig_size[1],\n",
    "                          #x_range=x_range, y_range=y_range\n",
    "                          ),)\n",
    "    plots[i].axis.major_label_text_font_size = \"10pt\"\n",
    "\n",
    "\n",
    "# Plot trajectories of recombinase 1 and 2\n",
    "y1 = samples[0,:,state[0]] # samples[:,:,10][0]\n",
    "plots[0].step(time_points, y1, line_width=2, alpha= 1, line_join=\"bevel\",color=\"grey\")\n",
    "\n",
    "y2 = samples[0,:,state[1]]\n",
    "plots[0].step(time_points, y2, line_width=2, alpha= 1, line_join=\"bevel\",color=\"orange\")\n",
    "# Link axes\n",
    "\n",
    "bokeh.io.show(bokeh.layouts.row(plots))"
   ]
  },
  {
   "cell_type": "code",
   "execution_count": 36,
   "metadata": {},
   "outputs": [
    {
     "data": {
      "text/html": [
       "\n",
       "\n",
       "\n",
       "\n",
       "\n",
       "\n",
       "  <div class=\"bk-root\" id=\"3fafa8b8-1113-471c-a203-c53022e9e2dd\" data-root-id=\"10864\"></div>\n"
      ]
     },
     "metadata": {},
     "output_type": "display_data"
    },
    {
     "data": {
      "application/javascript": [
       "(function(root) {\n",
       "  function embed_document(root) {\n",
       "    \n",
       "  const docs_json = {\"2975b891-5200-4c26-b445-3df3d8889441\":{\"defs\":[],\"roots\":{\"references\":[{\"attributes\":{\"children\":[{\"id\":\"10815\"}]},\"id\":\"10864\",\"type\":\"Row\"},{\"attributes\":{\"tools\":[{\"id\":\"10832\"},{\"id\":\"10833\"},{\"id\":\"10834\"},{\"id\":\"10835\"},{\"id\":\"10836\"},{\"id\":\"10837\"}]},\"id\":\"10839\",\"type\":\"Toolbar\"},{\"attributes\":{\"below\":[{\"id\":\"10824\"}],\"center\":[{\"id\":\"10827\"},{\"id\":\"10831\"}],\"height\":115,\"left\":[{\"id\":\"10828\"}],\"renderers\":[{\"id\":\"10850\"},{\"id\":\"10856\"},{\"id\":\"10862\"}],\"title\":{\"id\":\"11236\"},\"toolbar\":{\"id\":\"10839\"},\"width\":266,\"x_range\":{\"id\":\"10816\"},\"x_scale\":{\"id\":\"10820\"},\"y_range\":{\"id\":\"10818\"},\"y_scale\":{\"id\":\"10822\"}},\"id\":\"10815\",\"subtype\":\"Figure\",\"type\":\"Plot\"},{\"attributes\":{},\"id\":\"10835\",\"type\":\"SaveTool\"},{\"attributes\":{\"line_color\":\"#18a3ac\",\"line_width\":2,\"x\":{\"field\":\"x\"},\"y\":{\"field\":\"y\"}},\"id\":\"10859\",\"type\":\"Step\"},{\"attributes\":{},\"id\":\"11240\",\"type\":\"AllLabels\"},{\"attributes\":{\"coordinates\":null,\"formatter\":{\"id\":\"11239\"},\"group\":null,\"major_label_policy\":{\"id\":\"11240\"},\"major_label_text_font_size\":\"10pt\",\"ticker\":{\"id\":\"10829\"}},\"id\":\"10828\",\"type\":\"LinearAxis\"},{\"attributes\":{},\"id\":\"10837\",\"type\":\"HelpTool\"},{\"attributes\":{},\"id\":\"11242\",\"type\":\"BasicTickFormatter\"},{\"attributes\":{\"overlay\":{\"id\":\"10838\"}},\"id\":\"10834\",\"type\":\"BoxZoomTool\"},{\"attributes\":{\"fill_alpha\":0.2,\"fill_color\":\"#e8f6f7\",\"hatch_alpha\":{\"value\":0.2},\"x\":{\"field\":\"x\"},\"y1\":{\"field\":\"y1\"},\"y2\":{\"field\":\"y2\"}},\"id\":\"10849\",\"type\":\"VArea\"},{\"attributes\":{},\"id\":\"10822\",\"type\":\"LinearScale\"},{\"attributes\":{\"end\":100},\"id\":\"10818\",\"type\":\"Range1d\"},{\"attributes\":{},\"id\":\"11245\",\"type\":\"Selection\"},{\"attributes\":{\"coordinates\":null,\"data_source\":{\"id\":\"10858\"},\"glyph\":{\"id\":\"10859\"},\"group\":null,\"hover_glyph\":null,\"muted_glyph\":{\"id\":\"10861\"},\"nonselection_glyph\":{\"id\":\"10860\"},\"view\":{\"id\":\"10863\"}},\"id\":\"10862\",\"type\":\"GlyphRenderer\"},{\"attributes\":{},\"id\":\"10820\",\"type\":\"LinearScale\"},{\"attributes\":{},\"id\":\"11246\",\"type\":\"UnionRenderers\"},{\"attributes\":{\"coordinates\":null,\"formatter\":{\"id\":\"11242\"},\"group\":null,\"major_label_policy\":{\"id\":\"11243\"},\"major_label_text_font_size\":\"10pt\",\"ticker\":{\"id\":\"10825\"}},\"id\":\"10824\",\"type\":\"LinearAxis\"},{\"attributes\":{\"data\":{\"x\":{\"__ndarray__\":\"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\",\"dtype\":\"float64\",\"order\":\"little\",\"shape\":[401]},\"y1\":[0,0,0,0,0,0,0,0,0,0,0,0,0,0,0,0,0,0,0,0,0,0,0,0,0,0,0,0,0,0,0,0,0,0,0,0,0,0,0,0,0,0,0,0,0,0,0,0,0,0,0,0,0,0,0,0,0,0,0,0,0,0,0,0,0,0,0,0,0,0,0,0,0,0,0,0,0,0,0,0,0,0,0,0,0,0,0,0,0,0,0,0,0,0,0,0,0,0,0,0,0,0,0,0,0,0,0,0,0,0,0,0,0,0,0,0,0,0,0,0,0,0,0,0,0,0,0,0,0,0,0,0,0,0,0,0,0,0,0,0,0,0,0,0,0,0,0,0,0,0,0,0,0,0,0,0,0,0,0,0,0,0,0,0,0,0,0,0,0,0,0,0,0,0,0,0,0,0,0,0,0,0,0,0,0,0,0,0,0,0,0,0,0,0,0,0,0,0,0,0,0,0,0,0,0,0,0,0,0,0,0,0,0,0,0,0,0,0,0,0,0,0,0,0,0,0,0,0,0,0,0,0,0,0,0,0,0,0,0,0,0,0,0,0,0,0,0,0,0,0,0,0,0,0,0,0,0,0,0,0,0,0,0,0,0,0,0,0,0,0,0,0,0,0,0,0,0,0,0,0,0,0,0,0,0,0,0,0,0,0,0,0,0,0,0,0,0,0,0,0,0,0,0,0,0,0,0,0,0,0,0,0,0,0,0,0,0,0,0,0,0,0,0,0,0,0,0,0,0,0,0,0,0,0,0,0,0,0,0,0,0,0,0,0,0,0,0,0,0,0,0,0,0,0,0,0,0,0,0,0,0,0,0,0,0,0,0,0,0,0,0,0,0,0,0,0,0,0,0,0,0,0,0,0,0,0,0,0,0,0,0,0,0,0,0,0,0,0,0,0,0],\"y2\":[0,0,0,0,0,0,0,100,100,100,100,100,100,100,100,100,100,100,100,100,100,100,100,100,100,100,100,100,100,100,100,100,100,100,0,0,0,0,0,0,0,0,0,0,0,0,0,0,0,100,100,100,100,100,100,100,100,100,100,100,100,100,100,100,100,100,100,100,100,0,0,0,0,0,0,0,0,0,0,0,0,0,0,0,0,100,100,100,100,100,100,100,100,100,100,100,100,100,100,100,100,100,100,100,100,0,0,0,0,0,0,0,0,0,0,0,0,0,0,0,0,0,0,0,0,0,0,0,0,0,0,0,0,0,100,100,100,100,100,100,100,100,0,0,0,0,0,0,0,0,0,0,0,0,0,0,0,100,100,100,100,100,100,100,100,100,100,100,100,100,100,100,100,0,0,0,0,0,0,0,0,0,0,0,0,0,0,0,0,0,0,0,0,0,0,0,0,0,0,0,0,100,100,100,100,100,100,100,100,100,100,100,100,100,100,100,100,100,100,100,100,0,0,0,0,0,0,0,0,0,0,0,0,0,0,0,100,100,100,100,100,100,100,100,100,100,100,100,100,100,100,100,100,100,100,100,100,100,100,100,100,100,100,100,0,0,0,0,0,0,0,0,100,100,100,100,100,100,100,100,100,100,100,100,100,100,100,0,0,0,0,0,0,0,0,0,0,0,0,0,0,0,0,0,0,0,0,0,0,0,0,0,100,100,100,100,100,100,100,100,100,100,100,100,100,100,100,100,100,100,100,100,100,100,100,100,100,100,100,100,100,0,0,0,0,0,0,0,0,0,0,0,0,0,0,0,0,0,0,0,0,0,0,0,0,0,0,100,100,100,100,100,100,100,100,100,100,100,100,100,100,100,100,100,100,100,100,100,100,100,100,100,0,0,0,0,0,0,0,0,0]},\"selected\":{\"id\":\"11245\"},\"selection_policy\":{\"id\":\"11244\"}},\"id\":\"10846\",\"type\":\"ColumnDataSource\"},{\"attributes\":{},\"id\":\"11244\",\"type\":\"UnionRenderers\"},{\"attributes\":{},\"id\":\"11247\",\"type\":\"Selection\"},{\"attributes\":{\"line_alpha\":0.1,\"line_color\":\"#18a3ac\",\"line_width\":2,\"x\":{\"field\":\"x\"},\"y\":{\"field\":\"y\"}},\"id\":\"10860\",\"type\":\"Step\"},{\"attributes\":{},\"id\":\"10825\",\"type\":\"BasicTicker\"},{\"attributes\":{\"fill_alpha\":0.1,\"fill_color\":\"#e8f6f7\",\"hatch_alpha\":{\"value\":0.1},\"x\":{\"field\":\"x\"},\"y1\":{\"field\":\"y1\"},\"y2\":{\"field\":\"y2\"}},\"id\":\"10848\",\"type\":\"VArea\"},{\"attributes\":{\"line_alpha\":0.2,\"line_color\":\"#999999\",\"line_width\":2,\"x\":{\"field\":\"x\"},\"y\":{\"field\":\"y\"}},\"id\":\"10855\",\"type\":\"Step\"},{\"attributes\":{},\"id\":\"10836\",\"type\":\"ResetTool\"},{\"attributes\":{},\"id\":\"11243\",\"type\":\"AllLabels\"},{\"attributes\":{\"line_alpha\":0.1,\"line_color\":\"#999999\",\"line_width\":2,\"x\":{\"field\":\"x\"},\"y\":{\"field\":\"y\"}},\"id\":\"10854\",\"type\":\"Step\"},{\"attributes\":{},\"id\":\"10833\",\"type\":\"WheelZoomTool\"},{\"attributes\":{\"axis\":{\"id\":\"10824\"},\"coordinates\":null,\"group\":null,\"ticker\":null},\"id\":\"10827\",\"type\":\"Grid\"},{\"attributes\":{\"bottom_units\":\"screen\",\"coordinates\":null,\"fill_alpha\":0.5,\"fill_color\":\"lightgrey\",\"group\":null,\"left_units\":\"screen\",\"level\":\"overlay\",\"line_alpha\":1.0,\"line_color\":\"black\",\"line_dash\":[4,4],\"line_width\":2,\"right_units\":\"screen\",\"syncable\":false,\"top_units\":\"screen\"},\"id\":\"10838\",\"type\":\"BoxAnnotation\"},{\"attributes\":{\"coordinates\":null,\"data_source\":{\"id\":\"10852\"},\"glyph\":{\"id\":\"10853\"},\"group\":null,\"hover_glyph\":null,\"muted_glyph\":{\"id\":\"10855\"},\"nonselection_glyph\":{\"id\":\"10854\"},\"view\":{\"id\":\"10857\"}},\"id\":\"10856\",\"type\":\"GlyphRenderer\"},{\"attributes\":{\"data\":{\"x\":{\"__ndarray__\":\"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\",\"dtype\":\"float64\",\"order\":\"little\",\"shape\":[401]},\"y\":[0,0,0,0,0,0,0,0,0,0,0,0,0,0,0,0,1,6,1,5,12,9,6,13,19,16,27,41,49,46,42,43,45,43,47,33,20,8,1,3,0,0,0,0,0,0,0,0,0,0,0,0,0,1,0,0,0,2,0,1,2,2,2,5,3,13,13,13,12,27,19,11,6,4,2,0,0,0,0,0,0,0,0,0,1,5,9,5,2,1,5,3,7,10,9,13,13,9,10,12,20,25,33,43,51,67,66,46,25,7,1,0,0,0,0,0,0,0,0,0,0,0,0,0,0,0,0,0,0,0,0,2,0,0,4,3,3,4,5,9,8,7,16,11,7,1,2,0,0,0,0,0,0,0,0,0,1,0,0,1,1,0,0,1,1,0,4,7,9,12,20,21,34,44,69,70,38,12,8,4,1,0,1,1,1,0,1,0,0,0,1,0,0,0,0,1,0,0,0,0,0,0,1,1,0,0,0,1,1,2,1,3,6,14,14,12,14,11,22,31,26,29,23,7,2,3,2,1,0,2,0,1,2,0,0,1,0,0,0,0,1,0,0,0,0,0,0,0,0,0,1,4,6,6,11,21,29,32,40,42,32,32,35,35,35,29,25,24,21,23,12,17,10,8,7,5,3,1,6,6,7,11,14,17,21,20,23,27,29,16,10,4,2,0,0,0,0,0,0,0,0,0,0,0,0,0,0,0,0,0,0,0,0,0,0,0,0,0,0,0,3,1,1,5,4,7,10,15,7,7,11,21,38,57,63,75,69,76,81,74,72,75,71,62,59,43,23,9,2,0,0,0,0,0,0,0,0,0,0,0,0,0,0,0,0,0,0,0,0,3,0,0,2,0,1,9,5,3,9,10,16,18,18,14,26,28,30,34,38,53,59,66,77,84,83,69,40,13,0,0,1]},\"selected\":{\"id\":\"11249\"},\"selection_policy\":{\"id\":\"11248\"}},\"id\":\"10858\",\"type\":\"ColumnDataSource\"},{\"attributes\":{\"source\":{\"id\":\"10852\"}},\"id\":\"10857\",\"type\":\"CDSView\"},{\"attributes\":{\"source\":{\"id\":\"10858\"}},\"id\":\"10863\",\"type\":\"CDSView\"},{\"attributes\":{},\"id\":\"11248\",\"type\":\"UnionRenderers\"},{\"attributes\":{\"line_alpha\":0.5,\"line_color\":\"#999999\",\"line_width\":2,\"x\":{\"field\":\"x\"},\"y\":{\"field\":\"y\"}},\"id\":\"10853\",\"type\":\"Step\"},{\"attributes\":{},\"id\":\"11249\",\"type\":\"Selection\"},{\"attributes\":{},\"id\":\"10829\",\"type\":\"BasicTicker\"},{\"attributes\":{\"fill_color\":\"#e8f6f7\",\"x\":{\"field\":\"x\"},\"y1\":{\"field\":\"y1\"},\"y2\":{\"field\":\"y2\"}},\"id\":\"10847\",\"type\":\"VArea\"},{\"attributes\":{\"end\":40},\"id\":\"10816\",\"type\":\"Range1d\"},{\"attributes\":{},\"id\":\"10832\",\"type\":\"PanTool\"},{\"attributes\":{\"data\":{\"x\":{\"__ndarray__\":\"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\",\"dtype\":\"float64\",\"order\":\"little\",\"shape\":[401]},\"y\":[0,0,0,4,6,19,32,51,62,67,46,21,10,3,1,1,0,0,0,0,0,1,0,1,0,0,0,0,0,0,0,0,0,0,0,0,0,2,1,1,1,2,2,1,7,11,10,18,15,21,22,17,4,2,0,0,0,0,0,0,0,0,0,0,0,0,0,0,0,0,1,1,0,0,0,0,0,2,6,10,11,15,17,16,16,24,18,9,5,0,0,0,0,1,6,13,6,10,7,2,1,0,2,0,0,0,0,0,0,0,1,2,1,5,5,5,2,5,5,4,6,7,15,17,25,18,26,26,38,45,50,55,49,48,57,61,57,39,15,1,0,0,0,0,0,0,0,1,3,9,11,12,16,22,13,7,14,17,16,5,2,0,0,1,0,1,0,1,0,0,0,0,1,0,0,2,0,1,3,3,6,10,8,5,11,8,9,10,11,13,12,9,10,11,16,24,41,53,46,58,58,63,60,33,9,1,0,0,0,0,0,0,0,0,0,0,0,0,0,0,0,0,1,0,0,0,0,0,0,0,0,0,1,7,12,17,18,16,9,3,3,0,0,0,0,0,0,0,0,0,0,0,0,0,0,0,0,0,0,0,0,0,0,1,3,2,1,0,3,1,2,1,1,1,0,0,0,0,0,0,0,0,0,0,0,0,0,0,0,0,1,0,0,0,0,0,3,8,10,11,11,13,22,25,28,29,20,28,27,31,32,29,26,21,23,18,13,12,4,1,2,0,0,0,0,0,0,0,0,0,0,0,0,0,0,0,0,0,0,0,0,0,0,0,1,1,1,4,7,4,6,10,4,6,11,7,7,6,4,4,6,13,17,19,21,23,29,32,27,6,0,0,0,0,0,0,0,0,0,0,0,0,0,0,0,0,0,0,0,1,0,1,1,0,0,0,1,0,0,3,5]},\"selected\":{\"id\":\"11247\"},\"selection_policy\":{\"id\":\"11246\"}},\"id\":\"10852\",\"type\":\"ColumnDataSource\"},{\"attributes\":{\"line_alpha\":0.2,\"line_color\":\"#18a3ac\",\"line_width\":2,\"x\":{\"field\":\"x\"},\"y\":{\"field\":\"y\"}},\"id\":\"10861\",\"type\":\"Step\"},{\"attributes\":{},\"id\":\"11239\",\"type\":\"BasicTickFormatter\"},{\"attributes\":{\"coordinates\":null,\"data_source\":{\"id\":\"10846\"},\"glyph\":{\"id\":\"10847\"},\"group\":null,\"hover_glyph\":null,\"muted_glyph\":{\"id\":\"10849\"},\"nonselection_glyph\":{\"id\":\"10848\"},\"view\":{\"id\":\"10851\"}},\"id\":\"10850\",\"type\":\"GlyphRenderer\"},{\"attributes\":{\"source\":{\"id\":\"10846\"}},\"id\":\"10851\",\"type\":\"CDSView\"},{\"attributes\":{\"coordinates\":null,\"group\":null},\"id\":\"11236\",\"type\":\"Title\"},{\"attributes\":{\"axis\":{\"id\":\"10828\"},\"coordinates\":null,\"dimension\":1,\"group\":null,\"ticker\":null},\"id\":\"10831\",\"type\":\"Grid\"}],\"root_ids\":[\"10864\"]},\"title\":\"Bokeh Application\",\"version\":\"2.4.1\"}};\n",
       "  const render_items = [{\"docid\":\"2975b891-5200-4c26-b445-3df3d8889441\",\"root_ids\":[\"10864\"],\"roots\":{\"10864\":\"3fafa8b8-1113-471c-a203-c53022e9e2dd\"}}];\n",
       "  root.Bokeh.embed.embed_items_notebook(docs_json, render_items);\n",
       "\n",
       "  }\n",
       "  if (root.Bokeh !== undefined) {\n",
       "    embed_document(root);\n",
       "  } else {\n",
       "    let attempts = 0;\n",
       "    const timer = setInterval(function(root) {\n",
       "      if (root.Bokeh !== undefined) {\n",
       "        clearInterval(timer);\n",
       "        embed_document(root);\n",
       "      } else {\n",
       "        attempts++;\n",
       "        if (attempts > 100) {\n",
       "          clearInterval(timer);\n",
       "          console.log(\"Bokeh: ERROR: Unable to run BokehJS code because BokehJS library is missing\");\n",
       "        }\n",
       "      }\n",
       "    }, 10, root)\n",
       "  }\n",
       "})(window);"
      ],
      "application/vnd.bokehjs_exec.v0+json": ""
     },
     "metadata": {
      "application/vnd.bokehjs_exec.v0+json": {
       "id": "10864"
      }
     },
     "output_type": "display_data"
    },
    {
     "data": {
      "text/plain": [
       "['fig/SingleTrajectory.svg']"
      ]
     },
     "execution_count": 36,
     "metadata": {},
     "output_type": "execute_result"
    }
   ],
   "source": [
    "# Set up plots\n",
    "# For two digits 260 by 115 larger and 144 by 115 for half size\n",
    "# For three digits 266 by 115 larger and 150 by 115 for half size\n",
    "fig_size = [266, 115] # visualize (600/200)\n",
    "x_range = (0, 40)\n",
    "y_range = (0, 100)\n",
    "\n",
    "plots = []\n",
    "for i in range(1):\n",
    "    plots.append(bokeh.plotting.figure(plot_width=fig_size[0], plot_height=fig_size[1],\n",
    "                          x_range=x_range, y_range=y_range\n",
    "                          ),)\n",
    "    plots[i].axis.major_label_text_font_size = \"10pt\"\n",
    "\n",
    "# Plot trajectories of recombinase 1 and 2\n",
    "sR = samples[0,:,4:8].sum(axis=1)\n",
    "\n",
    "plots[0].varea(time_points, sR*0, sR*y_range[1], fill_color=\"#e8f6f7\")\n",
    "\n",
    "# Plot trajectories of recombinase 1 and 2\n",
    "y1 = samples[0,:,state[0]] # samples[:,:,10][0]\n",
    "plots[0].step(time_points, y1, line_width=2, alpha= 0.5, line_join=\"bevel\",color=\"#999999\")\n",
    "\n",
    "y2 = samples[0,:,state[1]]\n",
    "plots[0].step(time_points, y2, line_width=2, alpha= 1, line_join=\"bevel\",color=\"#18a3ac\")\n",
    "# Link axes\n",
    "\n",
    "bokeh.io.show(bokeh.layouts.row(plots))\n",
    "plots[0].output_backend = \"svg\"\n",
    "export_svgs(plots,filename=\"fig/SingleTrajectory.svg\")"
   ]
  },
  {
   "cell_type": "markdown",
   "metadata": {
    "id": "EQeWs_M0Kv6f"
   },
   "source": [
    "We will evaluate the period of oscillations from the stochastic ttrajaectories by computing the auto-correlation function."
   ]
  },
  {
   "cell_type": "code",
   "execution_count": 7,
   "metadata": {
    "executionInfo": {
     "elapsed": 5,
     "status": "ok",
     "timestamp": 1652533556259,
     "user": {
      "displayName": "Christian Cuba",
      "userId": "05812622177105967845"
     },
     "user_tz": 240
    },
    "id": "tb9r7SKRReGC"
   },
   "outputs": [],
   "source": [
    "# Computing the auto-correlation\n",
    "\n",
    "def correlate(x, y, dt):\n",
    "    # Compute correlation with max correlation being unity\n",
    "    corr = np.correlate(x, y, \"full\")\n",
    "    corr /= corr.max()\n",
    "\n",
    "    idx = np.where(corr==1.)[0][0]\n",
    "    corr = corr[idx:]\n",
    "    lags = np.arange(0, len(corr))*dt\n",
    "    return lags, corr\n"
   ]
  },
  {
   "cell_type": "code",
   "execution_count": null,
   "metadata": {
    "colab": {
     "base_uri": "https://localhost:8080/",
     "height": 447
    },
    "executionInfo": {
     "elapsed": 267,
     "status": "ok",
     "timestamp": 1652061548076,
     "user": {
      "displayName": "Christian Cuba",
      "userId": "05812622177105967845"
     },
     "user_tz": 240
    },
    "id": "20idjf57RimM",
    "outputId": "bbf06ee9-1282-4f3e-bacd-3748b03003a8"
   },
   "outputs": [
    {
     "data": {
      "text/html": [
       "\n",
       "\n",
       "\n",
       "\n",
       "\n",
       "\n",
       "  <div class=\"bk-root\" id=\"025af230-4edd-4677-8e67-c32517fefd52\" data-root-id=\"1958\"></div>\n"
      ]
     },
     "metadata": {},
     "output_type": "display_data"
    },
    {
     "data": {
      "application/javascript": [
       "(function(root) {\n",
       "  function embed_document(root) {\n",
       "    \n",
       "  const docs_json = {\"096e57b9-91be-45d4-a643-0a4f158c5129\":{\"defs\":[],\"roots\":{\"references\":[{\"attributes\":{\"children\":[{\"id\":\"1957\"},{\"id\":\"1955\"}]},\"id\":\"1958\",\"type\":\"Column\"},{\"attributes\":{\"toolbar\":{\"id\":\"1956\"},\"toolbar_location\":\"above\"},\"id\":\"1957\",\"type\":\"ToolbarBox\"},{\"attributes\":{},\"id\":\"1823\",\"type\":\"WheelZoomTool\"},{\"attributes\":{\"end\":40.0},\"id\":\"1744\",\"type\":\"Range1d\"},{\"attributes\":{\"coordinates\":null,\"group\":null},\"id\":\"1903\",\"type\":\"Title\"},{\"attributes\":{\"end\":40.0},\"id\":\"1775\",\"type\":\"Range1d\"},{\"attributes\":{},\"id\":\"1827\",\"type\":\"HelpTool\"},{\"attributes\":{\"axis\":{\"id\":\"1818\"},\"coordinates\":null,\"dimension\":1,\"group\":null,\"ticker\":null},\"id\":\"1821\",\"type\":\"Grid\"},{\"attributes\":{},\"id\":\"1777\",\"type\":\"DataRange1d\"},{\"attributes\":{\"coordinates\":null,\"formatter\":{\"id\":\"1935\"},\"group\":null,\"major_label_policy\":{\"id\":\"1936\"},\"major_label_text_font_size\":\"10pt\",\"ticker\":{\"id\":\"1815\"}},\"id\":\"1814\",\"type\":\"LinearAxis\"},{\"attributes\":{},\"id\":\"1812\",\"type\":\"LinearScale\"},{\"attributes\":{\"line_alpha\":0.1,\"line_color\":\"orange\",\"line_width\":2,\"x\":{\"field\":\"x\"},\"y\":{\"field\":\"y\"}},\"id\":\"1869\",\"type\":\"Step\"},{\"attributes\":{},\"id\":\"1822\",\"type\":\"PanTool\"},{\"attributes\":{},\"id\":\"1746\",\"type\":\"DataRange1d\"},{\"attributes\":{\"overlay\":{\"id\":\"1828\"}},\"id\":\"1824\",\"type\":\"BoxZoomTool\"},{\"attributes\":{\"tools\":[{\"id\":\"1822\"},{\"id\":\"1823\"},{\"id\":\"1824\"},{\"id\":\"1825\"},{\"id\":\"1826\"},{\"id\":\"1827\"}]},\"id\":\"1829\",\"type\":\"Toolbar\"},{\"attributes\":{},\"id\":\"1779\",\"type\":\"LinearScale\"},{\"attributes\":{\"bottom_units\":\"screen\",\"coordinates\":null,\"fill_alpha\":0.5,\"fill_color\":\"lightgrey\",\"group\":null,\"left_units\":\"screen\",\"level\":\"overlay\",\"line_alpha\":1.0,\"line_color\":\"black\",\"line_dash\":[4,4],\"line_width\":2,\"right_units\":\"screen\",\"syncable\":false,\"top_units\":\"screen\"},\"id\":\"1797\",\"type\":\"BoxAnnotation\"},{\"attributes\":{},\"id\":\"1795\",\"type\":\"ResetTool\"},{\"attributes\":{\"coordinates\":null,\"formatter\":{\"id\":\"1921\"},\"group\":null,\"major_label_policy\":{\"id\":\"1922\"},\"major_label_text_font_size\":\"10pt\",\"ticker\":{\"id\":\"1784\"}},\"id\":\"1783\",\"type\":\"LinearAxis\"},{\"attributes\":{\"data\":{\"x\":{\"__ndarray__\":\"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\",\"dtype\":\"float64\",\"order\":\"little\",\"shape\":[401]},\"y\":[0,0,0,3,5,15,23,29,37,44,54,52,37,16,1,0,0,0,0,0,0,0,0,0,0,0,0,0,0,0,2,1,2,1,3,8,12,17,16,15,24,22,27,31,31,32,37,43,43,36,35,35,26,29,38,38,40,51,54,58,71,64,68,72,88,80,50,23,3,0,0,0,0,0,0,0,1,0,0,0,2,2,3,7,10,9,8,15,16,29,36,38,53,52,56,64,82,88,82,77,69,57,43,19,3,0,0,0,0,0,0,0,0,0,0,0,0,0,1,0,0,0,0,0,0,3,3,7,7,9,20,19,20,9,11,11,15,4,1,0,0,0,0,0,0,0,0,0,1,0,1,0,0,0,0,0,0,0,0,0,0,0,0,1,2,1,1,1,4,3,4,3,6,10,14,16,12,5,2,2,1,3,6,14,19,20,30,29,36,35,43,39,28,19,12,3,0,0,0,0,0,1,0,0,0,0,0,0,0,0,0,0,0,0,0,3,0,2,1,0,3,2,2,7,5,11,17,19,27,31,36,43,48,42,48,57,61,48,24,15,2,0,0,0,0,0,0,0,0,0,0,0,0,0,0,0,0,0,0,0,0,0,0,0,0,0,0,0,0,0,0,0,0,0,0,1,0,0,0,1,2,1,2,3,4,5,9,11,16,21,28,31,31,34,40,40,35,35,33,28,30,31,26,28,31,26,12,3,1,3,1,0,0,1,0,0,0,0,0,0,1,0,0,0,0,0,0,0,2,0,1,0,0,0,0,0,0,0,0,0,0,0,0,0,0,0,0,0,1,2,0,0,0,1,3,1,1,1,1,3,8,7,7,10,12,15,17,25,29,28,33,28,22,21,26,8,1,1,0,0,0,0,0,0,0,0,0,0,0,0,0,1,1,0,0,0,0,0,0,0,0]},\"selected\":{\"id\":\"1912\"},\"selection_policy\":{\"id\":\"1911\"}},\"id\":\"1867\",\"type\":\"ColumnDataSource\"},{\"attributes\":{\"below\":[{\"id\":\"1814\"}],\"center\":[{\"id\":\"1817\"},{\"id\":\"1821\"}],\"height\":200,\"left\":[{\"id\":\"1818\"}],\"renderers\":[{\"id\":\"1889\"}],\"title\":{\"id\":\"1929\"},\"toolbar\":{\"id\":\"1829\"},\"toolbar_location\":null,\"width\":400,\"x_range\":{\"id\":\"1806\"},\"x_scale\":{\"id\":\"1810\"},\"y_range\":{\"id\":\"1808\"},\"y_scale\":{\"id\":\"1812\"}},\"id\":\"1805\",\"subtype\":\"Figure\",\"type\":\"Plot\"},{\"attributes\":{},\"id\":\"1815\",\"type\":\"BasicTicker\"},{\"attributes\":{},\"id\":\"1906\",\"type\":\"BasicTickFormatter\"},{\"attributes\":{},\"id\":\"1761\",\"type\":\"WheelZoomTool\"},{\"attributes\":{\"coordinates\":null,\"formatter\":{\"id\":\"1909\"},\"group\":null,\"major_label_policy\":{\"id\":\"1910\"},\"major_label_text_font_size\":\"10pt\",\"ticker\":{\"id\":\"1753\"}},\"id\":\"1752\",\"type\":\"LinearAxis\"},{\"attributes\":{\"axis\":{\"id\":\"1783\"},\"coordinates\":null,\"group\":null,\"ticker\":null},\"id\":\"1786\",\"type\":\"Grid\"},{\"attributes\":{},\"id\":\"1781\",\"type\":\"LinearScale\"},{\"attributes\":{},\"id\":\"1907\",\"type\":\"AllLabels\"},{\"attributes\":{\"coordinates\":null,\"formatter\":{\"id\":\"1918\"},\"group\":null,\"major_label_policy\":{\"id\":\"1919\"},\"major_label_text_font_size\":\"10pt\",\"ticker\":{\"id\":\"1788\"}},\"id\":\"1787\",\"type\":\"LinearAxis\"},{\"attributes\":{},\"id\":\"1784\",\"type\":\"BasicTicker\"},{\"attributes\":{},\"id\":\"1909\",\"type\":\"BasicTickFormatter\"},{\"attributes\":{},\"id\":\"1748\",\"type\":\"LinearScale\"},{\"attributes\":{},\"id\":\"1910\",\"type\":\"AllLabels\"},{\"attributes\":{},\"id\":\"1796\",\"type\":\"HelpTool\"},{\"attributes\":{\"axis\":{\"id\":\"1787\"},\"coordinates\":null,\"dimension\":1,\"group\":null,\"ticker\":null},\"id\":\"1790\",\"type\":\"Grid\"},{\"attributes\":{\"line_color\":\"orange\",\"line_width\":2,\"x\":{\"field\":\"x\"},\"y\":{\"field\":\"y\"}},\"id\":\"1868\",\"type\":\"Step\"},{\"attributes\":{},\"id\":\"1788\",\"type\":\"BasicTicker\"},{\"attributes\":{\"overlay\":{\"id\":\"1797\"}},\"id\":\"1793\",\"type\":\"BoxZoomTool\"},{\"attributes\":{\"data\":{\"x\":{\"__ndarray__\":\"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\",\"dtype\":\"float64\",\"order\":\"little\",\"shape\":[401]},\"y\":{\"__ndarray__\":\"AAAAAAAA8D/jyM+p0LfuP23mQkCgH+w/nlD1NZri6D+ne6y3sWrlP7b8/JY73eE/uSXk4BO+3D+EKYgm5TTWP9OXiGg1S9A/MORGFxzExj8l/tTH3Ca9P5fBq0njfq4/kuyQeF0ZjD/8oLFVrDyWvx5IUkX9Haq/nC+M5Pfjs7/ktkBjSqC5v86w1lrTK7+/GY21dFZmwr+jHkPuE0PFvwbccLpLxse/27knay3Nyb80qMdyQcfKv2dZgVyi1sq/LUJoyO/Syb8UkdfGkOjHvyZc5wibacW/+9W9ApbIwb+lIZjY0ji7vwdZfWzlNrG/TbdFdF3Vlr8Keop5Nc6aP6o65yXmrbM//UkCH3Yhvz9krS4G5VfEP2IL6I2e2sc/0P8eo67EyT8KU/ez9e/JP0lX2P3O08g/c2xM15qUxj9nNal1NS7EP5Qi009vEcI/m0dE/Sl+wD9NfPDYNSy+PxbKgnrmErw/iscqUCmjuj+jzJttcHa5P0BakaTL7bg/wQFweDnzuD9IUZs4NV+5P3SXfD42rLk/5raxVUrmuj9pUcwmdMC8P35xGQvOHr0/oGuxA79xuz9DjdN1e5m2P9egH0H00a8/WhkjtDCmoT89vzXFao2JP2g5UsKvF3q/AIZzHTWtl79FOx2MYo6iv2gFa2Gspqe/Sfkk2zMiqr/Hcv6Vjoqpv9BOXhk3SqW/9C00m6kvob838W8Up26ev+fepbpVoZ6/JnJu00HsoL8vFueRD2Sjvzj09pxkxaa/A3SJp+2tqb+32G9e9FOtv9QEuB4U1bC/KjBXuNwps796yZxI3c+0vyQrBke+T7a/tOgxiwOFt7/RivRwqfa3vx210tC82be/lG6Rw6mAtr+/mCCtJR20v/8cmCShMrC/iQcqxkGvpb9dI2cm4YmTv3n1a+8Q0m8/hbGejT0MmT+wTVlO7fSkPxsaKOLhuak/fA0qBv26qT+5m2b+KfajP0Sww0FRD5M/qABx/PYkeb99snmX4hCfv+IHuH9jQqu/19WckaW/sb/08U06jmO0vx+JzPA3/rS/FAk4n69gtL97Zkjbrymzv91dwoz3U7K/f06Hfwv+sb8zrwScaHmxv0zhHjjWOLG/3vmCvf6lsb9slRKClVyyv+3p/FrBybK/q6BWxXcas7/cayNRZ+2yv1NyaDLrtbK/zYv5uIkrs7/VQxHl0Ci0vyhB+R4WRbW/AniE0IIstr/wopx4B/e2v5w3wP6uZLe/ELPcm7Bxtr95SXiRyD20vybeVyEZJbG/LuDfblTHq78ThIuZswWkv8PYXA0x+5a/gLe5zFskVL9xuPHyi3mYP+HpKNIo3Kg/NklJtGIisj+nTkVXbUK2P0+OARndY7o/cucGDnZDvj8XuDoKNQ7BP4AeW7+NK8M/J7sz3QtxxT+PIuSnHxHIPzpGLgFBWco/2u19I6bxyz/i8+nW0XvMP/sF1BMm48s/Q4hhSRj6yT8vqrUV8vDGP1dv2Ctu3sI/4v4tm5RzvD8DVF1wFayzP9Zo46Ee7qU/4UPvoIrRgj/JyUokWXOXv9AEHpEBXau/mBU7Un7GtL8oX8DpYjW7v10JZ07fVsC/aL6uK9Vgwr/7CKm1GvfDv7lFRIIgMcW/VfxkPowgxr+y1zM5muDGv01dsZUvase/tpDWXTiox7/epcUNwpnHv5QAAgmeEMe/vr6rP0Uoxr9V+tNvPuDEv4aV/WKZAcO/BFGZZLORwL/RWPp3mE27vzY3al0k+7S/B+HdXdMErb9Ptvb70cagvwj8N0dT9oW/4LGXcDE4iD/qDH2K996iP+C9GuQ5va8/sKJxjURAtT9uCdLQnae4P7H85H3rwrk/x+4rcUOsuT/6uu6cLHm5P7vdVtgOULk/+aNCO5S1uT97FYaNAa25P/AuEfIE+bg/r1HhNgtStz9VCumS0Ya0P/gheMRE07A/iqNoWgaSqT/ELs4n0MahPzvZfO0YSZY/z9LFFheqij97MIoYaAuCP8tqpgyXm4Q/GaIQvQEUij+QScDdGhqSP+dG7oGkj5o/+wAo4mteoj/I4FMmHUmnPy6ud9z7h6s/oOC6f30orj9HgMdaqfSuPzrrjziSea4/tArcbcBXrT8EbrmIedaqPwTvP/yfuKY/mB4uPABqoj9qWE7NxzWcP8a47QP4TJI/NueGSQ9EfD+hhDGynXt8v6oylBQwv5e/b8zvMWB3pL9UI6Vn7i+tv55z+Bk58bK/EN1hlVKotr8XUSztTIG5v3urLKs7yru/spHkpgxUvb835IsNRly+v1+zdnT2dr6/qLrKBFPwvb8NDd4yTY+8v9sHrZLEdbq/OryQmcnOt7/XhJKlJ7W0v0a1yQDSbbG/mGye2jE7q79um6j3+tShv3v3TeioZYu/xgzT8lRWcj8+mGxq6DuRP4m4b8zxOJc/ubEsfG0Bmz/sFaQizu2eP4AYl8jsDKE/KzkaLajKoj+UWoQfyMekP7XIGdNk7Kc/m4pgr3xtqz+YVXQIO6evPyjtXxqOXrI/blw28ejltD/sQcAdyAK3P5zo1AQFerc/LVCj/dSWtj8sGGUKGMOzPx0bHVWjbLA/lIcm6BfTqj8UJ6olLOykPwnzf5MlA50/oxW/vu3dkT90d4u248x/P0DXSsi30WO/uSnxLC04h7+/oMPwVvGTv0j+FBPjsZu/qHoQTP9rob8sTVeGLJqkvwbvfHjP2qe/XjxFp2OIq79+xU226WyvvxroI1sxl7G/ZfwwU6qFs7/wNbQUI4a1vzQzL2tMDre/d1QssAsFuL/eDFXn9Hq4v64o3LDaZbi/86AVbPa4t78Us+nbOlK2vynohwPmZbS/D+gP1BnXsb/SMR3D2futv6wJ69Q3kKi/OMR+0xeio7+lRhLcRCievygwQpiLBJm/dmmmm+7wl7+I+zyi9Yqav6uVGRNu2J+/5ZomgWHcor/SB5rhO5ulvyI9QFnFX6i/WpyXHE20q78yXhJ59u+tv1HcED8sZa+/Tj3QiVFCsL9n/nk/bu+wv8fKiAAEr7G/zCyNjtbssr8Jm3eUDpS0v6fVywRczrW/uwG6Na3ktr/Ekoa6h6W3vwBZgg5/Tri/RN5mvyreuL8rxHBZrRK5v4GIr5ZzMLm/lBZMkJWUub/GenIxinG6v4nbUSvqc7u/T94X6iwevL+puuDnIae7v6pUti6dErq/pNzZtI9tt7+s1a2Dqp6zv4oyXv28Va2/XkQz/2s3or8AdKeJFyaNv6yTjzgG6HY/Eni/lMKqlT8kcGExcIegP14vAzKwSqQ/hODVWVc8pj/whwnGChClP2E//N0jaKE/DYwG3a3smz/AJm+v8DWVP+zv9gjeu40/vdXKgu0GfD9eFLGtQ/5fP0ln6/32CVq/7KvbYA7tdr/EEUCVP0J/v3kSzALky4K/cXVCC5LIiL9tyw0esIiNvw+XMtwymJC/+4Nr6EpxlL+Gb6WZuOaYv2TyRuGKip2/jG8mJveYob9VmyP4zi+lv4y1HRzWsai/7mF8yeWiq79hvQrOjKSuvymbB0X267C/C3Rv7G5hsr9QroYHGEazv9FPdxliqbO/R8BYH/wFs7+9HycjlwCyvzRLZscIaLG/Ul+H4wfXsL+0w2qqACuwv3WGnGDkH66/PXOgGsQTrL/xHhGlbS6qv2IIp0eufKi/fiT02J94p7+ZhZ4JEkemv0wShcdPm6S/HBS1/h7aor+OSOu1HQOhv0rIapLBaZ2/VpzYofebmL9t36TelBOTv/vcbKAndoi/301rR2eNcL+fWM4mCUFzP2HF/9Vqgos/VXeprsLvlj+wGN955wWfP992h13GT6I/jt5DARO2oz/kNXEcgH+kP8F56EHCwqM/e4nGU+tOoT8OJSaNIxubP27eAlZu/JE/RLdg8q+Lgz/DdxW5KYdoP+brCrg5kVe/LWjEKQFJcb9tjcXCfYh4vx6QAgyNuXa/yT2FEdZsdL/fCliVcupxv508oUNYqG2/WEC2Ffv2Y78nq7E88VVmvwHQAA9yaG2/mlKwoMvLcb9LKcSW2KJ0v/r/14zleXe/kACdzvDger8ubqkVcwV/v0CgizkVt4G/4ShUydzjg79BgaVJ2gyGv6HZ9snXNYi/yzdjJHdCir+Ze6pJequJv0URy9PwZ4W/QptGzeYffb/NCkoOLFZtv8PQFCXCLUq/sE4eJTD5Vj/FLSWnumVnPyOmkeFDOm8/NFvjUQDPcD+QhLbPvTRtP7J4mN1Hb2c/mUvLfAo/Xz+ZS8t8Cj9PPw==\",\"dtype\":\"float64\",\"order\":\"little\",\"shape\":[401]}},\"selected\":{\"id\":\"1924\"},\"selection_policy\":{\"id\":\"1923\"}},\"id\":\"1873\",\"type\":\"ColumnDataSource\"},{\"attributes\":{},\"id\":\"1911\",\"type\":\"UnionRenderers\"},{\"attributes\":{\"axis\":{\"id\":\"1756\"},\"coordinates\":null,\"dimension\":1,\"group\":null,\"ticker\":null},\"id\":\"1759\",\"type\":\"Grid\"},{\"attributes\":{},\"id\":\"1792\",\"type\":\"WheelZoomTool\"},{\"attributes\":{\"axis\":{\"id\":\"1752\"},\"coordinates\":null,\"group\":null,\"ticker\":null},\"id\":\"1755\",\"type\":\"Grid\"},{\"attributes\":{},\"id\":\"1912\",\"type\":\"Selection\"},{\"attributes\":{},\"id\":\"1753\",\"type\":\"BasicTicker\"},{\"attributes\":{},\"id\":\"1757\",\"type\":\"BasicTicker\"},{\"attributes\":{},\"id\":\"1760\",\"type\":\"PanTool\"},{\"attributes\":{\"coordinates\":null,\"formatter\":{\"id\":\"1906\"},\"group\":null,\"major_label_policy\":{\"id\":\"1907\"},\"major_label_text_font_size\":\"10pt\",\"ticker\":{\"id\":\"1757\"}},\"id\":\"1756\",\"type\":\"LinearAxis\"},{\"attributes\":{},\"id\":\"1791\",\"type\":\"PanTool\"},{\"attributes\":{\"fill_alpha\":{\"value\":0.2},\"fill_color\":{\"value\":\"red\"},\"hatch_alpha\":{\"value\":0.2},\"hatch_color\":{\"value\":\"red\"},\"line_alpha\":{\"value\":0.2},\"line_color\":{\"value\":\"red\"},\"line_width\":{\"value\":2},\"x\":{\"field\":\"x\"},\"y\":{\"field\":\"y\"}},\"id\":\"1882\",\"type\":\"Circle\"},{\"attributes\":{},\"id\":\"1810\",\"type\":\"LinearScale\"},{\"attributes\":{},\"id\":\"1808\",\"type\":\"DataRange1d\"},{\"attributes\":{\"below\":[{\"id\":\"1752\"}],\"center\":[{\"id\":\"1755\"},{\"id\":\"1759\"}],\"height\":200,\"left\":[{\"id\":\"1756\"}],\"renderers\":[{\"id\":\"1871\"}],\"title\":{\"id\":\"1903\"},\"toolbar\":{\"id\":\"1767\"},\"toolbar_location\":null,\"width\":400,\"x_range\":{\"id\":\"1744\"},\"x_scale\":{\"id\":\"1748\"},\"y_range\":{\"id\":\"1746\"},\"y_scale\":{\"id\":\"1750\"}},\"id\":\"1743\",\"subtype\":\"Figure\",\"type\":\"Plot\"},{\"attributes\":{},\"id\":\"1819\",\"type\":\"BasicTicker\"},{\"attributes\":{},\"id\":\"1794\",\"type\":\"SaveTool\"},{\"attributes\":{},\"id\":\"1750\",\"type\":\"LinearScale\"},{\"attributes\":{\"coordinates\":null,\"formatter\":{\"id\":\"1932\"},\"group\":null,\"major_label_policy\":{\"id\":\"1933\"},\"major_label_text_font_size\":\"10pt\",\"ticker\":{\"id\":\"1819\"}},\"id\":\"1818\",\"type\":\"LinearAxis\"},{\"attributes\":{\"axis\":{\"id\":\"1814\"},\"coordinates\":null,\"group\":null,\"ticker\":null},\"id\":\"1817\",\"type\":\"Grid\"},{\"attributes\":{\"line_width\":2,\"x\":{\"field\":\"x\"},\"y\":{\"field\":\"y\"}},\"id\":\"1874\",\"type\":\"Line\"},{\"attributes\":{\"overlay\":{\"id\":\"1766\"}},\"id\":\"1762\",\"type\":\"BoxZoomTool\"},{\"attributes\":{},\"id\":\"1843\",\"type\":\"LinearScale\"},{\"attributes\":{},\"id\":\"1935\",\"type\":\"BasicTickFormatter\"},{\"attributes\":{\"source\":{\"id\":\"1897\"}},\"id\":\"1902\",\"type\":\"CDSView\"},{\"attributes\":{\"coordinates\":null,\"formatter\":{\"id\":\"1947\"},\"group\":null,\"major_label_policy\":{\"id\":\"1948\"},\"major_label_text_font_size\":\"10pt\",\"ticker\":{\"id\":\"1846\"}},\"id\":\"1845\",\"type\":\"LinearAxis\"},{\"attributes\":{\"coordinates\":null,\"formatter\":{\"id\":\"1944\"},\"group\":null,\"major_label_policy\":{\"id\":\"1945\"},\"major_label_text_font_size\":\"10pt\",\"ticker\":{\"id\":\"1850\"}},\"id\":\"1849\",\"type\":\"LinearAxis\"},{\"attributes\":{},\"id\":\"1858\",\"type\":\"HelpTool\"},{\"attributes\":{},\"id\":\"1936\",\"type\":\"AllLabels\"},{\"attributes\":{},\"id\":\"1846\",\"type\":\"BasicTicker\"},{\"attributes\":{\"axis\":{\"id\":\"1845\"},\"coordinates\":null,\"group\":null,\"ticker\":null},\"id\":\"1848\",\"type\":\"Grid\"},{\"attributes\":{\"axis\":{\"id\":\"1849\"},\"coordinates\":null,\"dimension\":1,\"group\":null,\"ticker\":null},\"id\":\"1852\",\"type\":\"Grid\"},{\"attributes\":{},\"id\":\"1944\",\"type\":\"BasicTickFormatter\"},{\"attributes\":{},\"id\":\"1850\",\"type\":\"BasicTicker\"},{\"attributes\":{\"bottom_units\":\"screen\",\"coordinates\":null,\"fill_alpha\":0.5,\"fill_color\":\"lightgrey\",\"group\":null,\"left_units\":\"screen\",\"level\":\"overlay\",\"line_alpha\":1.0,\"line_color\":\"black\",\"line_dash\":[4,4],\"line_width\":2,\"right_units\":\"screen\",\"syncable\":false,\"top_units\":\"screen\"},\"id\":\"1859\",\"type\":\"BoxAnnotation\"},{\"attributes\":{},\"id\":\"1945\",\"type\":\"AllLabels\"},{\"attributes\":{},\"id\":\"1854\",\"type\":\"WheelZoomTool\"},{\"attributes\":{},\"id\":\"1853\",\"type\":\"PanTool\"},{\"attributes\":{\"coordinates\":null,\"group\":null},\"id\":\"1915\",\"type\":\"Title\"},{\"attributes\":{},\"id\":\"1947\",\"type\":\"BasicTickFormatter\"},{\"attributes\":{},\"id\":\"1937\",\"type\":\"UnionRenderers\"},{\"attributes\":{\"below\":[{\"id\":\"1845\"}],\"center\":[{\"id\":\"1848\"},{\"id\":\"1852\"}],\"height\":200,\"left\":[{\"id\":\"1849\"}],\"renderers\":[{\"id\":\"1895\"},{\"id\":\"1901\"}],\"title\":{\"id\":\"1941\"},\"toolbar\":{\"id\":\"1860\"},\"toolbar_location\":null,\"width\":400,\"x_range\":{\"id\":\"1837\"},\"x_scale\":{\"id\":\"1841\"},\"y_range\":{\"id\":\"1839\"},\"y_scale\":{\"id\":\"1843\"}},\"id\":\"1836\",\"subtype\":\"Figure\",\"type\":\"Plot\"},{\"attributes\":{\"source\":{\"id\":\"1867\"}},\"id\":\"1872\",\"type\":\"CDSView\"},{\"attributes\":{},\"id\":\"1948\",\"type\":\"AllLabels\"},{\"attributes\":{},\"id\":\"1938\",\"type\":\"Selection\"},{\"attributes\":{\"end\":40.0},\"id\":\"1806\",\"type\":\"Range1d\"},{\"attributes\":{\"overlay\":{\"id\":\"1859\"}},\"id\":\"1855\",\"type\":\"BoxZoomTool\"},{\"attributes\":{\"line_alpha\":0.2,\"line_color\":\"orange\",\"line_width\":2,\"x\":{\"field\":\"x\"},\"y\":{\"field\":\"y\"}},\"id\":\"1870\",\"type\":\"Step\"},{\"attributes\":{\"source\":{\"id\":\"1873\"}},\"id\":\"1878\",\"type\":\"CDSView\"},{\"attributes\":{},\"id\":\"1949\",\"type\":\"UnionRenderers\"},{\"attributes\":{\"coordinates\":null,\"data_source\":{\"id\":\"1867\"},\"glyph\":{\"id\":\"1868\"},\"group\":null,\"hover_glyph\":null,\"muted_glyph\":{\"id\":\"1870\"},\"nonselection_glyph\":{\"id\":\"1869\"},\"view\":{\"id\":\"1872\"}},\"id\":\"1871\",\"type\":\"GlyphRenderer\"},{\"attributes\":{\"fill_color\":{\"value\":\"red\"},\"hatch_color\":{\"value\":\"red\"},\"line_color\":{\"value\":\"red\"},\"line_width\":{\"value\":2},\"x\":{\"field\":\"x\"},\"y\":{\"field\":\"y\"}},\"id\":\"1880\",\"type\":\"Circle\"},{\"attributes\":{},\"id\":\"1950\",\"type\":\"Selection\"},{\"attributes\":{},\"id\":\"1841\",\"type\":\"LinearScale\"},{\"attributes\":{\"toolbars\":[{\"id\":\"1767\"},{\"id\":\"1798\"},{\"id\":\"1829\"},{\"id\":\"1860\"}],\"tools\":[{\"id\":\"1760\"},{\"id\":\"1761\"},{\"id\":\"1762\"},{\"id\":\"1763\"},{\"id\":\"1764\"},{\"id\":\"1765\"},{\"id\":\"1791\"},{\"id\":\"1792\"},{\"id\":\"1793\"},{\"id\":\"1794\"},{\"id\":\"1795\"},{\"id\":\"1796\"},{\"id\":\"1822\"},{\"id\":\"1823\"},{\"id\":\"1824\"},{\"id\":\"1825\"},{\"id\":\"1826\"},{\"id\":\"1827\"},{\"id\":\"1853\"},{\"id\":\"1854\"},{\"id\":\"1855\"},{\"id\":\"1856\"},{\"id\":\"1857\"},{\"id\":\"1858\"}]},\"id\":\"1956\",\"type\":\"ProxyToolbar\"},{\"attributes\":{\"tools\":[{\"id\":\"1853\"},{\"id\":\"1854\"},{\"id\":\"1855\"},{\"id\":\"1856\"},{\"id\":\"1857\"},{\"id\":\"1858\"}]},\"id\":\"1860\",\"type\":\"Toolbar\"},{\"attributes\":{\"fill_alpha\":{\"value\":0.2},\"fill_color\":{\"value\":\"red\"},\"hatch_alpha\":{\"value\":0.2},\"hatch_color\":{\"value\":\"red\"},\"line_alpha\":{\"value\":0.2},\"line_color\":{\"value\":\"red\"},\"line_width\":{\"value\":2},\"x\":{\"field\":\"x\"},\"y\":{\"field\":\"y\"}},\"id\":\"1900\",\"type\":\"Circle\"},{\"attributes\":{\"fill_color\":{\"value\":\"red\"},\"hatch_color\":{\"value\":\"red\"},\"line_color\":{\"value\":\"red\"},\"line_width\":{\"value\":2},\"x\":{\"field\":\"x\"},\"y\":{\"field\":\"y\"}},\"id\":\"1898\",\"type\":\"Circle\"},{\"attributes\":{\"line_color\":\"orange\",\"line_width\":2,\"x\":{\"field\":\"x\"},\"y\":{\"field\":\"y\"}},\"id\":\"1886\",\"type\":\"Step\"},{\"attributes\":{\"data\":{\"x\":{\"__ndarray__\":\"mpmZmZmZDUA0MzMzMzMVQM3MzMzMzBpAAAAAAAAAIkDNzMzMzMwkQAAAAAAAACZANDMzMzMzK0DNzMzMzEwxQDMzMzMzszFAmpmZmZmZM0BnZmZmZuY3QM3MzMzMTDtAZ2ZmZmbmPkDNzMzMzAxCQAAAAAAAwEJAzczMzMzMQ0A=\",\"dtype\":\"float64\",\"order\":\"little\",\"shape\":[16]},\"y\":{\"__ndarray__\":\"ClP3s/XvyT9+cRkLzh69PzfxbxSnbp6/fA0qBv26qT9M4R441jixv1NyaDLrtbK/4vPp1tF7zD+x/OR968K5P/mjQjuUtbk/R4DHWqn0rj+c6NQEBXq3P3Zpppvu8Je/hODVWVc8pj/kNXEcgH+kP1hAthX79mO/NFvjUQDPcD8=\",\"dtype\":\"float64\",\"order\":\"little\",\"shape\":[16]}},\"selected\":{\"id\":\"1926\"},\"selection_policy\":{\"id\":\"1925\"}},\"id\":\"1879\",\"type\":\"ColumnDataSource\"},{\"attributes\":{},\"id\":\"1918\",\"type\":\"BasicTickFormatter\"},{\"attributes\":{\"fill_alpha\":{\"value\":0.1},\"fill_color\":{\"value\":\"red\"},\"hatch_alpha\":{\"value\":0.1},\"hatch_color\":{\"value\":\"red\"},\"line_alpha\":{\"value\":0.1},\"line_color\":{\"value\":\"red\"},\"line_width\":{\"value\":2},\"x\":{\"field\":\"x\"},\"y\":{\"field\":\"y\"}},\"id\":\"1899\",\"type\":\"Circle\"},{\"attributes\":{\"line_width\":2,\"x\":{\"field\":\"x\"},\"y\":{\"field\":\"y\"}},\"id\":\"1892\",\"type\":\"Line\"},{\"attributes\":{\"data\":{\"x\":{\"__ndarray__\":\"AAAAAAAAEkBnZmZmZmYYQJqZmZmZmR1AzczMzMzMIUDNzMzMzMwkQM3MzMzMzCpAAAAAAAAALkCamZmZmRkwQGdmZmZmZjFANDMzMzMzM0A0MzMzMzM2QJqZmZmZmTpAAAAAAAAAP0AzMzMzM/NBQGdmZmZmJkNA\",\"dtype\":\"float64\",\"order\":\"little\",\"shape\":[15]},\"y\":{\"__ndarray__\":\"8gqPAmzGwT9+0kdWDpmzP/97Qg9o0K+/GCZobJpxzD+HE4kiIA2jP36Rlr/NeoI/jT0zaHwiuj9OZzJEV6OdP5axc+GbpKm/6VTTBXDLnj+4PRBoAyS/P2SHawmtUcA/PR+vSyeysz/fdPFBEemjP4Ue7sl3FoS/\",\"dtype\":\"float64\",\"order\":\"little\",\"shape\":[15]}},\"selected\":{\"id\":\"1952\"},\"selection_policy\":{\"id\":\"1951\"}},\"id\":\"1897\",\"type\":\"ColumnDataSource\"},{\"attributes\":{},\"id\":\"1839\",\"type\":\"DataRange1d\"},{\"attributes\":{\"coordinates\":null,\"data_source\":{\"id\":\"1891\"},\"glyph\":{\"id\":\"1892\"},\"group\":null,\"hover_glyph\":null,\"muted_glyph\":{\"id\":\"1894\"},\"nonselection_glyph\":{\"id\":\"1893\"},\"view\":{\"id\":\"1896\"}},\"id\":\"1895\",\"type\":\"GlyphRenderer\"},{\"attributes\":{},\"id\":\"1919\",\"type\":\"AllLabels\"},{\"attributes\":{\"end\":40.0},\"id\":\"1837\",\"type\":\"Range1d\"},{\"attributes\":{},\"id\":\"1921\",\"type\":\"BasicTickFormatter\"},{\"attributes\":{\"line_alpha\":0.2,\"line_width\":2,\"x\":{\"field\":\"x\"},\"y\":{\"field\":\"y\"}},\"id\":\"1894\",\"type\":\"Line\"},{\"attributes\":{},\"id\":\"1951\",\"type\":\"UnionRenderers\"},{\"attributes\":{\"line_alpha\":0.1,\"line_width\":2,\"x\":{\"field\":\"x\"},\"y\":{\"field\":\"y\"}},\"id\":\"1893\",\"type\":\"Line\"},{\"attributes\":{},\"id\":\"1922\",\"type\":\"AllLabels\"},{\"attributes\":{},\"id\":\"1952\",\"type\":\"Selection\"},{\"attributes\":{\"coordinates\":null,\"data_source\":{\"id\":\"1873\"},\"glyph\":{\"id\":\"1874\"},\"group\":null,\"hover_glyph\":null,\"muted_glyph\":{\"id\":\"1876\"},\"nonselection_glyph\":{\"id\":\"1875\"},\"view\":{\"id\":\"1878\"}},\"id\":\"1877\",\"type\":\"GlyphRenderer\"},{\"attributes\":{\"coordinates\":null,\"group\":null},\"id\":\"1929\",\"type\":\"Title\"},{\"attributes\":{\"line_alpha\":0.2,\"line_width\":2,\"x\":{\"field\":\"x\"},\"y\":{\"field\":\"y\"}},\"id\":\"1876\",\"type\":\"Line\"},{\"attributes\":{\"line_alpha\":0.1,\"line_width\":2,\"x\":{\"field\":\"x\"},\"y\":{\"field\":\"y\"}},\"id\":\"1875\",\"type\":\"Line\"},{\"attributes\":{},\"id\":\"1765\",\"type\":\"HelpTool\"},{\"attributes\":{\"source\":{\"id\":\"1879\"}},\"id\":\"1884\",\"type\":\"CDSView\"},{\"attributes\":{},\"id\":\"1926\",\"type\":\"Selection\"},{\"attributes\":{},\"id\":\"1763\",\"type\":\"SaveTool\"},{\"attributes\":{\"line_alpha\":0.2,\"line_color\":\"orange\",\"line_width\":2,\"x\":{\"field\":\"x\"},\"y\":{\"field\":\"y\"}},\"id\":\"1888\",\"type\":\"Step\"},{\"attributes\":{},\"id\":\"1923\",\"type\":\"UnionRenderers\"},{\"attributes\":{\"line_alpha\":0.1,\"line_color\":\"orange\",\"line_width\":2,\"x\":{\"field\":\"x\"},\"y\":{\"field\":\"y\"}},\"id\":\"1887\",\"type\":\"Step\"},{\"attributes\":{},\"id\":\"1857\",\"type\":\"ResetTool\"},{\"attributes\":{},\"id\":\"1924\",\"type\":\"Selection\"},{\"attributes\":{\"below\":[{\"id\":\"1783\"}],\"center\":[{\"id\":\"1786\"},{\"id\":\"1790\"}],\"height\":200,\"left\":[{\"id\":\"1787\"}],\"renderers\":[{\"id\":\"1877\"},{\"id\":\"1883\"}],\"title\":{\"id\":\"1915\"},\"toolbar\":{\"id\":\"1798\"},\"toolbar_location\":null,\"width\":400,\"x_range\":{\"id\":\"1775\"},\"x_scale\":{\"id\":\"1779\"},\"y_range\":{\"id\":\"1777\"},\"y_scale\":{\"id\":\"1781\"}},\"id\":\"1774\",\"subtype\":\"Figure\",\"type\":\"Plot\"},{\"attributes\":{},\"id\":\"1764\",\"type\":\"ResetTool\"},{\"attributes\":{\"coordinates\":null,\"group\":null},\"id\":\"1941\",\"type\":\"Title\"},{\"attributes\":{\"coordinates\":null,\"data_source\":{\"id\":\"1885\"},\"glyph\":{\"id\":\"1886\"},\"group\":null,\"hover_glyph\":null,\"muted_glyph\":{\"id\":\"1888\"},\"nonselection_glyph\":{\"id\":\"1887\"},\"view\":{\"id\":\"1890\"}},\"id\":\"1889\",\"type\":\"GlyphRenderer\"},{\"attributes\":{\"data\":{\"x\":{\"__ndarray__\":\"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\",\"dtype\":\"float64\",\"order\":\"little\",\"shape\":[401]},\"y\":{\"__ndarray__\":\"AAAAAAAA8D9Rf5P7l7ruPzB7Vr+xDOw/k6xY+PeZ6D/fRss9hNHkP34LagUk/OA/Wu0B3KiH2j/3+liBtp3TP9b3ECgbbso/n0iVZrp3vj/VgdmEqTmpPyM87K+Am3y/mSXbGIdmqr/TlkChxkW2v4vXAOUtRr6/JAyc6Eanwr83kMZCK9PFv6p0LSci08i/jBuBL6Bwy78wH9PkiH/Nv5hL/AGyKc+/TIhaingc0L9AP2Gn6X7Qv4drlFmqq9C/6JoqAbPG0L+aLCi6lsDQv7M1EOq8pdC/VOhWk4Zi0L+wViADhw/QvwuRcxgYVc+/O6S2k3S4zr+vQr76sUvOvwml5XK7lM2/8sQm6/Xty7/WIKaAKi3Jv4PB6KBwTMW/XaUtgbOMwL99xve+Bm22v0TfjN8A0aa/ffOb79avbL80DgUFgZmiP4r8Rvl+W7I/BRlGLI4ruj8HCugmIhLAP0AEDv19rcE/8gqPAmzGwT8rNDQ9eT3AP7MfI2cuiLo/4vhetq+Xsz+jtlGfu/moPxtgF9mo95c/SAOWbqQsEL+MgKK6RSKVv+HoCrG6t6C/lQYPLbtoor/aZrpI9uydv8JFneljpIe/EDRHM5Tkhj+cXJbJlkuiP/2Y74J3Hq0/DOvVIx1Usj9+0kdWDpmzPwD7H0w4q7E/XlBT3adFqj8kpw6ScyybPy3hxIVpfEK/96GIfrCMm79QIZOZTGupvx+A7EV80LC/uil9yWHasr+t9pw1VG+zv/ElhM+lkLK/DJ50i5jpsL82Ieaqxfqvv/97Qg9o0K+/av5LgRjasL/d08n9cF+yv2aoUnPCq7O/PEsKvWzDs78YEzpiI5axv6mzK+Atbam/5jPYg5O5lb8N8ijolGGQP6wh5rNsg60/Ly6CmuKyuT/lz/8RvQrCPwco0fo+dsY/sTog3RHXyT+ofKlvAuTLPxgmaGyaccw/moPbQ9TRyj88GgL3AFjHP3WjQPsixsI/mhLh4hrLuz+uThqR3zSyP9WSaOq0nKM/aAzbprdAjz8ioEV4cDxNP2rbX7Gz2Wy/Li2TuOD/Sj+pikqUa9eBPwsV9hgnY5M/qzU7fH6onj/LaozmrOqiP4cTiSIgDaM/77zVhn0ynj9Ia6O1dUOQPxuy/OTqYn2/RYrOyDtcor/OYV85iLOwv+/n5on3dri/hYleyMIwwL/zbHuC3cHDvyPgISJJ18a/p/1siMA4yb8qWMvScLTKv+arjnDgAsu/+F7YyKI8yr+jrKOMq7nIv3zl2ioCs8a/j1lVYv95xL+wFIjOXUXCv6fOrQLMJMC/hNKGWQu6u781++iTrWW3v4aCpLZky7K/3nyLpBYPrb+ek8WNQy2lv6wrwp3yapy/IHIQC3VMj79IMlaqrSB1v8EdhNUbyGE/dQH/6JsJdT/lR22k5FuBP36Rlr/NeoI/THQyHx+keT8Cc30ydfBTv44LqzlzjIq/aKEk4SwZm7+m7Qx/JIKjv51Z2TmUlaa/dhUOOW1epb/cLdjav0Cgv39MNRSaApK/UaLORaGqDr8SdRi3DtaVP7rstWZHeac/hjsJBwyJsT+mh841djm2P8fCxYmnK7k/jT0zaHwiuj+ROytFjhK5P81h25ohCrc/o+r3MLvTsz+l3sXvU3ywPwfX5JQWwak/2BnGA30Woz9fhTQbqMucPxTD5Epzxpg/YCSdK6X9mD+ygjTMRP2bP05nMkRXo50/W1Ct5dKwmj8ENNhdH4qTP6XMPuVLFoc/NFOzrhYxcD+JM4JvqdJ2v4dtEnP0nJG/MpgeOy3fnb/3mHIVxwqlvzyt6Lj9r6m/4aUsqOfmq7/a2yIeszmsvwLULbp126q/lrFz4Zukqb+dAR5hsLWpvzA0tQ+/Fau/pHykmK4trL9FY+YcTJSsv+5gN0ecr6y/zx7cG/atrL+51alIpyysv6QsYFdRSqu/L+HaWSeAqr9h3TAK1Oipv3GgxgJ/j6m//nHU1nuJp78HD36IcH2iv514OGWws5a/9o/w8/RBdr/jc1BXb+SFP50/x9rpBpg/6VTTBXDLnj8V69ooGgieP74jkJnyn5c/XqOpFaQGiD/qKke6QoR1v+98NrJzxpu/fD2HhC9lqb+laaOa4sKxv0+cPVZPZ7a/nnzoJ96vur87QTo6NAm+v3siPcdY1b+/OlK//PNNwL+xSRQVLq+/v7JJg3zFTL2/2B9ghafbub9QH8c/pR+1v/PfLaCRAq+/Bz2pizhCor8MZC9D9VaFvwDl0jkGBYk/yZTY5b/Wnz9n6xARu5enPwgCFll6j64/hhx13PMrsj+EMHU006i0Pxl1sm29Q7c/BcAiMy1Juj+YETis4PW8P2erCJgwtL4/uD0QaAMkvz/tfya2AR2+PwkVYNpmcrw/WkLxMGvsuT8EU7vT22i3P2PhMzwmJLU/D2EK6Sbpsj+3kgeMD+ewP7b7FMGpf60/YwzPMbn7qD8ODssr3zOlP/+pVcffi6E/l8gtjvLsnT/ngK0eraCYPzUYkE5nJpE/Ke4QFCOLgj8r6ro/wR87v0mrDVt4iIO/OINPnCFZk79RM8I8D2iev7uHSVCMpKW/hBwTamo3rL/i1AdvivCwv8iDp2PzYrO/6NxrxQP0tb8WnhFiOCy4v+kIBWUIZbm/4vKYq6Jyub+0YlU3J364v6IkK/RUZLa/5ac6k+6Fs7/55HiAwmKwv3XINrjnn6m/y9vQagNJob+zBk4zL+KQv8zQrMz+HAs/vRFMzPuGkD8/5IKmCkOgP8N9Q4wW3qc/IHPD6ndurz8v70klIeazP05pj/dpZLg/GLZSOMyzvD9VqVjymI2/P2SHawmtUcA/ULNiofHmvz/pkG9p3AC9P8hIQnjDd7k/7eSYRjwZtj8KLW0k9h2zP7B4S/hcaLA/9a4rqfqiqj+rWUvZ7l2jP0r9TdF42pU/qHJJ7Gdpdj/M0jqF6H95v2dnuLcQ8pC/1LHouR6zm79xU6EAMeWiv1W4Rwp8oqe/oKwAq6QcrL9WmMrP8nivv1tyOvp9/7C/fEKESiBWsb8BR4VU3X+xv1YQHBkbf7G/PssqmFMIsb+iesE/8lywv0cl0l7C8a6/67KRCgkgrb+AE5Muj7Cqvy6hdVsLxae/ayB61mN0pL/6YtOajGegv/Nf53Me9Ze/ixlN5Pe6jL+oOomUhyNyv6UN2hC7Nnw/GeBhhjjhkz/Tuxd9stmgPxipYRkTqqc/dAI8rLQHrT/RCeDi0TWwP6T9PApd9rA/9PYxrTtysT8go1//LN6xP6wY+WvUqrI/Y0PjshNysz89H69LJ7KzP6s6zKhNQ7M/xE8M5gxZsj+a2bJtejaxPyp7nSIyC7A/kohGjuj5rT8sVVrGtMmrPzuEqyqMoqg/GnxRehJHpD/Z/u0nxvucP+LpqsmLOI8/r1GdlxfUYj+m4JyREz2Fv4p7E0Po1ZS/hy6VFUYInb+FOiZ6d0aiv7IxLXcJmaW/190cgD2sqL/B/nQYe1Srvy2+uwuyva2/jqWiRoF7r7+kYRF06lGwv5x8YFYTnbC/0C+UTJmfsL/WX4NGTXWwv7WDqnQHI7C/QhiLiWzVrr/bNfabR/6sv1H5bfao46q/zYGPsr22qL9EWNxaUqWmv930UHZxDaS/OcedKs5Mob/ErbXar+ycvx4YEiTdqJa/AFk7YliZjr8QX4VzA9B5vzRgmIl9cGY/CIMqT7nThj/pPrWuJ4aRP+Az6N0GdpQ/MviiLIUJlz9a5NIt+dWaP4kEYy6S6Z4/dAICbqGFoT+U+J34kQajP4Tl/FejQ6M/U9BnqHOeoz/YBpTX1rWjP9908UER6aM/zv8tkcjMoz+J3ixRz1ajP62awUWtdaI/4thcWN+ZoD8UA10q2PacP0b67fT4Kpk/7XKhjvHqlT/AmM/6CeqSP5Zx8MaSZ5A/2qV05nr+iz9CESFrC5GHP5j7RY1rNYI/awSgGA4MeT+afr6JEnlrP+6K0kDViVU/KjXeXdWcNL/3TQLg8ZBav0E6eHVp52e/oqSD7utgcb9HMO4w3pp5vx2fEUj2PoG/9efQFmZrg78CvGVEypmEv4Ue7sl3FoS/wFQJV9MqhL+KJLZmtZSFv7+xj88jioa/0peH1wcGh78pJosqimWHv/XJ8znMIoi/C4SnQRDyh7+iYFOgh0qHv8lvL1Q8YYW/cNwF1q3xgr8dcitXHJ6Av9xRMam3U3y/KA1iv8fseL9VSQDj3btwv2BAmTD9mmC/WvETh3zzL78nEXqg1ZdGPw==\",\"dtype\":\"float64\",\"order\":\"little\",\"shape\":[401]}},\"selected\":{\"id\":\"1950\"},\"selection_policy\":{\"id\":\"1949\"}},\"id\":\"1891\",\"type\":\"ColumnDataSource\"},{\"attributes\":{\"source\":{\"id\":\"1885\"}},\"id\":\"1890\",\"type\":\"CDSView\"},{\"attributes\":{\"bottom_units\":\"screen\",\"coordinates\":null,\"fill_alpha\":0.5,\"fill_color\":\"lightgrey\",\"group\":null,\"left_units\":\"screen\",\"level\":\"overlay\",\"line_alpha\":1.0,\"line_color\":\"black\",\"line_dash\":[4,4],\"line_width\":2,\"right_units\":\"screen\",\"syncable\":false,\"top_units\":\"screen\"},\"id\":\"1766\",\"type\":\"BoxAnnotation\"},{\"attributes\":{\"source\":{\"id\":\"1891\"}},\"id\":\"1896\",\"type\":\"CDSView\"},{\"attributes\":{\"bottom_units\":\"screen\",\"coordinates\":null,\"fill_alpha\":0.5,\"fill_color\":\"lightgrey\",\"group\":null,\"left_units\":\"screen\",\"level\":\"overlay\",\"line_alpha\":1.0,\"line_color\":\"black\",\"line_dash\":[4,4],\"line_width\":2,\"right_units\":\"screen\",\"syncable\":false,\"top_units\":\"screen\"},\"id\":\"1828\",\"type\":\"BoxAnnotation\"},{\"attributes\":{\"fill_alpha\":{\"value\":0.1},\"fill_color\":{\"value\":\"red\"},\"hatch_alpha\":{\"value\":0.1},\"hatch_color\":{\"value\":\"red\"},\"line_alpha\":{\"value\":0.1},\"line_color\":{\"value\":\"red\"},\"line_width\":{\"value\":2},\"x\":{\"field\":\"x\"},\"y\":{\"field\":\"y\"}},\"id\":\"1881\",\"type\":\"Circle\"},{\"attributes\":{\"coordinates\":null,\"data_source\":{\"id\":\"1897\"},\"glyph\":{\"id\":\"1898\"},\"group\":null,\"hover_glyph\":null,\"muted_glyph\":{\"id\":\"1900\"},\"nonselection_glyph\":{\"id\":\"1899\"},\"view\":{\"id\":\"1902\"}},\"id\":\"1901\",\"type\":\"GlyphRenderer\"},{\"attributes\":{\"children\":[[{\"id\":\"1743\"},0,0],[{\"id\":\"1774\"},0,1],[{\"id\":\"1805\"},1,0],[{\"id\":\"1836\"},1,1]]},\"id\":\"1955\",\"type\":\"GridBox\"},{\"attributes\":{\"tools\":[{\"id\":\"1760\"},{\"id\":\"1761\"},{\"id\":\"1762\"},{\"id\":\"1763\"},{\"id\":\"1764\"},{\"id\":\"1765\"}]},\"id\":\"1767\",\"type\":\"Toolbar\"},{\"attributes\":{},\"id\":\"1856\",\"type\":\"SaveTool\"},{\"attributes\":{\"coordinates\":null,\"data_source\":{\"id\":\"1879\"},\"glyph\":{\"id\":\"1880\"},\"group\":null,\"hover_glyph\":null,\"muted_glyph\":{\"id\":\"1882\"},\"nonselection_glyph\":{\"id\":\"1881\"},\"view\":{\"id\":\"1884\"}},\"id\":\"1883\",\"type\":\"GlyphRenderer\"},{\"attributes\":{\"data\":{\"x\":{\"__ndarray__\":\"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\",\"dtype\":\"float64\",\"order\":\"little\",\"shape\":[401]},\"y\":[0,0,0,1,2,0,0,0,1,0,0,0,0,2,1,1,1,3,4,5,9,6,3,6,8,9,15,21,19,19,20,25,25,32,37,45,44,42,32,31,25,25,25,22,22,6,4,1,2,1,1,0,0,0,0,0,0,0,2,0,2,0,4,1,3,7,9,10,12,14,17,20,33,48,49,56,64,72,77,83,86,70,49,36,17,2,0,1,0,0,0,0,0,0,0,0,1,0,0,2,3,6,8,4,3,4,6,4,4,4,4,5,8,13,14,22,37,40,51,56,63,64,67,71,75,60,46,23,5,1,0,0,0,0,0,0,0,0,0,0,0,1,1,0,1,0,0,0,0,4,6,10,16,13,13,18,25,19,14,14,22,33,45,45,49,41,46,42,38,39,35,34,37,36,30,25,33,49,57,76,79,86,86,84,73,72,63,34,7,3,0,0,0,2,0,0,2,1,6,9,8,5,10,9,13,16,14,20,26,34,42,37,31,22,18,7,5,1,0,0,1,0,0,0,0,0,0,0,0,0,0,0,0,0,0,0,0,0,0,0,0,0,0,0,1,0,0,0,0,0,0,1,2,2,3,5,4,5,6,6,4,5,10,16,11,15,24,35,55,57,69,80,87,83,61,50,38,14,4,1,0,0,0,0,0,0,0,0,0,0,0,0,0,0,0,0,0,0,0,0,1,0,0,0,0,0,1,0,0,0,0,0,1,5,2,0,1,4,3,1,6,7,4,4,5,4,3,2,3,10,13,22,32,35,40,44,46,47,47,54,60,61,55,62,70,82,84,80,50,6,0,0,0,0,0,0,0,0,0,0,0,0,0,0,0,0,0,0,0,0,0,0,0,0,0,1,0,0,1,1,6,12,20,16,8,11,14,11,11,17,21,28,30,31,33,30,42,42,39,28,7]},\"selected\":{\"id\":\"1938\"},\"selection_policy\":{\"id\":\"1937\"}},\"id\":\"1885\",\"type\":\"ColumnDataSource\"},{\"attributes\":{},\"id\":\"1932\",\"type\":\"BasicTickFormatter\"},{\"attributes\":{},\"id\":\"1925\",\"type\":\"UnionRenderers\"},{\"attributes\":{},\"id\":\"1825\",\"type\":\"SaveTool\"},{\"attributes\":{},\"id\":\"1826\",\"type\":\"ResetTool\"},{\"attributes\":{},\"id\":\"1933\",\"type\":\"AllLabels\"},{\"attributes\":{\"tools\":[{\"id\":\"1791\"},{\"id\":\"1792\"},{\"id\":\"1793\"},{\"id\":\"1794\"},{\"id\":\"1795\"},{\"id\":\"1796\"}]},\"id\":\"1798\",\"type\":\"Toolbar\"}],\"root_ids\":[\"1958\"]},\"title\":\"Bokeh Application\",\"version\":\"2.4.1\"}};\n",
       "  const render_items = [{\"docid\":\"096e57b9-91be-45d4-a643-0a4f158c5129\",\"root_ids\":[\"1958\"],\"roots\":{\"1958\":\"025af230-4edd-4677-8e67-c32517fefd52\"}}];\n",
       "  root.Bokeh.embed.embed_items_notebook(docs_json, render_items);\n",
       "\n",
       "  }\n",
       "  if (root.Bokeh !== undefined) {\n",
       "    embed_document(root);\n",
       "  } else {\n",
       "    let attempts = 0;\n",
       "    const timer = setInterval(function(root) {\n",
       "      if (root.Bokeh !== undefined) {\n",
       "        clearInterval(timer);\n",
       "        embed_document(root);\n",
       "      } else {\n",
       "        attempts++;\n",
       "        if (attempts > 100) {\n",
       "          clearInterval(timer);\n",
       "          console.log(\"Bokeh: ERROR: Unable to run BokehJS code because BokehJS library is missing\");\n",
       "        }\n",
       "      }\n",
       "    }, 10, root)\n",
       "  }\n",
       "})(window);"
      ],
      "application/vnd.bokehjs_exec.v0+json": ""
     },
     "metadata": {
      "application/vnd.bokehjs_exec.v0+json": {
       "id": "1958"
      }
     },
     "output_type": "display_data"
    }
   ],
   "source": [
    "fig_size = [400, 200] # for paper size (144, 110) # for larger size (144,144)\n",
    "x_range = (0, time_points[-1])\n",
    "y_range = (0, 200)\n",
    "\n",
    "plots = []\n",
    "for i in range(4):\n",
    "    plots.append(bokeh.plotting.figure(plot_width=fig_size[0], plot_height=fig_size[1],\n",
    "                          x_range=x_range, \n",
    "                          #y_range=y_range\n",
    "                          ),)\n",
    "    plots[i].axis.major_label_text_font_size = \"10pt\"\n",
    "\n",
    "dt = time_points[1] - time_points[0]\n",
    "y1 = samples[0,:,10] # samples[:,:,10][0]\n",
    "y1s = y1 - y1.mean()\n",
    "lags, auto_corr = correlate(y1s, y1s, dt)\n",
    "max_id = argrelextrema(auto_corr, np.greater)\n",
    "\n",
    "plots[0].step(time_points, y1, line_width=2, alpha= 1, line_join=\"bevel\",color=\"orange\")\n",
    "#plots[0].line(lags, auto_corr*130, line_width=2, alpha= 1, line_join=\"bevel\",color=\"black\")\n",
    "\n",
    "plots[1].line(lags, auto_corr, line_width=2, alpha= 1, line_join=\"bevel\",color=\"black\")\n",
    "plots[1].circle(lags[max_id], auto_corr[max_id], line_width=2, alpha= 1, line_join=\"bevel\",color=\"red\")\n",
    "\n",
    "\n",
    "y1 = samples[0,:,13] # samples[:,:,10][0]\n",
    "y1s = y1 - y1.mean()\n",
    "lags, auto_corr = correlate(y1s, y1s, dt)\n",
    "max_id = argrelextrema(auto_corr, np.greater)\n",
    "\n",
    "plots[2].step(time_points, y1, line_width=2, alpha= 1, line_join=\"bevel\",color=\"orange\")\n",
    "#plots[2].line(lags, auto_corr*130, line_width=2, alpha= 1, line_join=\"bevel\",color=\"black\")\n",
    "\n",
    "plots[3].line(lags, auto_corr, line_width=2, alpha= 1, line_join=\"bevel\",color=\"black\")\n",
    "plots[3].circle(lags[max_id], auto_corr[max_id], line_width=2, alpha= 1, line_join=\"bevel\",color=\"red\")\n",
    "\n",
    "bokeh.io.show(bokeh.layouts.gridplot(plots, ncols=2))"
   ]
  },
  {
   "cell_type": "code",
   "execution_count": null,
   "metadata": {
    "id": "NAhPFtfDxnub"
   },
   "outputs": [],
   "source": [
    "def FFT(t1,x1,fr):\n",
    "    n = len(x1)\n",
    "    if n % 2:\n",
    "        x = x1[:-2]\n",
    "        t = t1[:-2]\n",
    "        n = len(x)\n",
    "    else:\n",
    "        x = x1[:-1]\n",
    "        t = t1[:-1]\n",
    "\n",
    "    dt = (t[1]-t[0])\n",
    "    tf = scipy.fftpack.fftfreq(x.size, d=dt)\n",
    "    xf = scipy.fftpack.fft(x)\n",
    "    xf = np.abs(xf)**2\n",
    "    idx = np.where((tf >= fr[0]) & (tf <=fr[1]))\n",
    "    return tf[idx],xf[idx]"
   ]
  },
  {
   "cell_type": "code",
   "execution_count": null,
   "metadata": {
    "colab": {
     "base_uri": "https://localhost:8080/",
     "height": 237
    },
    "executionInfo": {
     "elapsed": 18,
     "status": "ok",
     "timestamp": 1651705925479,
     "user": {
      "displayName": "Judith Landau",
      "userId": "16650559787501200181"
     },
     "user_tz": 420
    },
    "id": "M4i1Gj3VqgeE",
    "outputId": "eac5babc-5e94-40a2-ae36-847a87172c60"
   },
   "outputs": [
    {
     "data": {
      "text/html": [
       "\n",
       "\n",
       "\n",
       "\n",
       "\n",
       "\n",
       "  <div class=\"bk-root\" id=\"4ef63c52-9940-489a-8570-cbc46a7d9695\" data-root-id=\"21201\"></div>\n"
      ]
     },
     "metadata": {},
     "output_type": "display_data"
    },
    {
     "data": {
      "application/javascript": [
       "(function(root) {\n",
       "  function embed_document(root) {\n",
       "    \n",
       "  const docs_json = {\"5685dea5-7a19-44af-ad03-6c26577d4d8e\":{\"defs\":[],\"roots\":{\"references\":[{\"attributes\":{\"children\":[{\"id\":\"21115\"},{\"id\":\"21146\"}]},\"id\":\"21201\",\"type\":\"Row\"},{\"attributes\":{\"overlay\":{\"id\":\"21138\"}},\"id\":\"21134\",\"type\":\"BoxZoomTool\"},{\"attributes\":{},\"id\":\"21125\",\"type\":\"BasicTicker\"},{\"attributes\":{\"line_width\":2,\"x\":{\"field\":\"x\"},\"y\":{\"field\":\"y\"}},\"id\":\"21196\",\"type\":\"Line\"},{\"attributes\":{\"coordinates\":null,\"data_source\":{\"id\":\"21189\"},\"glyph\":{\"id\":\"21190\"},\"group\":null,\"hover_glyph\":null,\"muted_glyph\":{\"id\":\"21192\"},\"nonselection_glyph\":{\"id\":\"21191\"},\"view\":{\"id\":\"21194\"}},\"id\":\"21193\",\"type\":\"GlyphRenderer\"},{\"attributes\":{},\"id\":\"21132\",\"type\":\"PanTool\"},{\"attributes\":{},\"id\":\"21932\",\"type\":\"Selection\"},{\"attributes\":{},\"id\":\"21922\",\"type\":\"AllLabels\"},{\"attributes\":{\"source\":{\"id\":\"21183\"}},\"id\":\"21188\",\"type\":\"CDSView\"},{\"attributes\":{},\"id\":\"21926\",\"type\":\"UnionRenderers\"},{\"attributes\":{\"line_alpha\":0.1,\"line_width\":2,\"x\":{\"field\":\"x\"},\"y\":{\"field\":\"y\"}},\"id\":\"21191\",\"type\":\"Line\"},{\"attributes\":{\"source\":{\"id\":\"21189\"}},\"id\":\"21194\",\"type\":\"CDSView\"},{\"attributes\":{},\"id\":\"21915\",\"type\":\"BasicTickFormatter\"},{\"attributes\":{},\"id\":\"21168\",\"type\":\"HelpTool\"},{\"attributes\":{\"line_alpha\":0.2,\"line_color\":\"orange\",\"line_width\":2,\"x\":{\"field\":\"x\"},\"y\":{\"field\":\"y\"}},\"id\":\"21180\",\"type\":\"Line\"},{\"attributes\":{},\"id\":\"21137\",\"type\":\"HelpTool\"},{\"attributes\":{\"axis\":{\"id\":\"21128\"},\"coordinates\":null,\"dimension\":1,\"group\":null,\"ticker\":null},\"id\":\"21131\",\"type\":\"Grid\"},{\"attributes\":{\"line_alpha\":0.2,\"line_width\":2,\"x\":{\"field\":\"x\"},\"y\":{\"field\":\"y\"}},\"id\":\"21192\",\"type\":\"Line\"},{\"attributes\":{},\"id\":\"21919\",\"type\":\"AllLabels\"},{\"attributes\":{\"below\":[{\"id\":\"21124\"}],\"center\":[{\"id\":\"21127\"},{\"id\":\"21131\"}],\"height\":200,\"left\":[{\"id\":\"21128\"}],\"renderers\":[{\"id\":\"21181\"},{\"id\":\"21193\"}],\"title\":{\"id\":\"21910\"},\"toolbar\":{\"id\":\"21139\"},\"width\":400,\"x_range\":{\"id\":\"21116\"},\"x_scale\":{\"id\":\"21120\"},\"y_range\":{\"id\":\"21118\"},\"y_scale\":{\"id\":\"21122\"}},\"id\":\"21115\",\"subtype\":\"Figure\",\"type\":\"Plot\"},{\"attributes\":{\"source\":{\"id\":\"21195\"}},\"id\":\"21200\",\"type\":\"CDSView\"},{\"attributes\":{},\"id\":\"21931\",\"type\":\"UnionRenderers\"},{\"attributes\":{},\"id\":\"21135\",\"type\":\"SaveTool\"},{\"attributes\":{\"coordinates\":null,\"group\":null},\"id\":\"21912\",\"type\":\"Title\"},{\"attributes\":{\"coordinates\":null,\"data_source\":{\"id\":\"21183\"},\"glyph\":{\"id\":\"21184\"},\"group\":null,\"hover_glyph\":null,\"muted_glyph\":{\"id\":\"21186\"},\"nonselection_glyph\":{\"id\":\"21185\"},\"view\":{\"id\":\"21188\"}},\"id\":\"21187\",\"type\":\"GlyphRenderer\"},{\"attributes\":{\"line_alpha\":0.2,\"line_width\":2,\"x\":{\"field\":\"x\"},\"y\":{\"field\":\"y\"}},\"id\":\"21198\",\"type\":\"Line\"},{\"attributes\":{\"line_alpha\":0.1,\"line_width\":2,\"x\":{\"field\":\"x\"},\"y\":{\"field\":\"y\"}},\"id\":\"21197\",\"type\":\"Line\"},{\"attributes\":{\"below\":[{\"id\":\"21155\"}],\"center\":[{\"id\":\"21158\"},{\"id\":\"21162\"}],\"height\":200,\"left\":[{\"id\":\"21159\"}],\"renderers\":[{\"id\":\"21187\"},{\"id\":\"21199\"}],\"title\":{\"id\":\"21912\"},\"toolbar\":{\"id\":\"21170\"},\"width\":400,\"x_range\":{\"id\":\"21147\"},\"x_scale\":{\"id\":\"21151\"},\"y_range\":{\"id\":\"21149\"},\"y_scale\":{\"id\":\"21153\"}},\"id\":\"21146\",\"subtype\":\"Figure\",\"type\":\"Plot\"},{\"attributes\":{\"line_alpha\":0.1,\"line_color\":\"orange\",\"line_width\":2,\"x\":{\"field\":\"x\"},\"y\":{\"field\":\"y\"}},\"id\":\"21179\",\"type\":\"Line\"},{\"attributes\":{\"tools\":[{\"id\":\"21163\"},{\"id\":\"21164\"},{\"id\":\"21165\"},{\"id\":\"21166\"},{\"id\":\"21167\"},{\"id\":\"21168\"}]},\"id\":\"21170\",\"type\":\"Toolbar\"},{\"attributes\":{\"data\":{\"x\":{\"__ndarray__\":\"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\",\"dtype\":\"float64\",\"order\":\"little\",\"shape\":[201]},\"y\":{\"__ndarray__\":\"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\",\"dtype\":\"float64\",\"order\":\"little\",\"shape\":[201]}},\"selected\":{\"id\":\"21927\"},\"selection_policy\":{\"id\":\"21926\"}},\"id\":\"21177\",\"type\":\"ColumnDataSource\"},{\"attributes\":{\"line_alpha\":0.2,\"line_color\":\"orange\",\"line_width\":2,\"x\":{\"field\":\"x\"},\"y\":{\"field\":\"y\"}},\"id\":\"21186\",\"type\":\"Line\"},{\"attributes\":{\"coordinates\":null,\"formatter\":{\"id\":\"21915\"},\"group\":null,\"major_label_policy\":{\"id\":\"21916\"},\"major_label_text_font_size\":\"10pt\",\"ticker\":{\"id\":\"21129\"}},\"id\":\"21128\",\"type\":\"LinearAxis\"},{\"attributes\":{\"line_alpha\":0.1,\"line_color\":\"orange\",\"line_width\":2,\"x\":{\"field\":\"x\"},\"y\":{\"field\":\"y\"}},\"id\":\"21185\",\"type\":\"Line\"},{\"attributes\":{},\"id\":\"21133\",\"type\":\"WheelZoomTool\"},{\"attributes\":{},\"id\":\"21921\",\"type\":\"BasicTickFormatter\"},{\"attributes\":{\"data\":{\"x\":{\"__ndarray__\":\"AAAAAAAAAACAhJ9ciLqpP4CEn1yIurk/YKN3ReZLwz+AhJ9ciLrJP9Cy4zmVFNA/YKN3ReZL0z/wkwtRN4PWP4CEn1yIutk/EHUzaNnx3D/QsuM5lRTgPxirrb89sOE/YKN3ReZL4z+om0HLjufkP/CTC1E3g+Y/OIzV1t8e6D+AhJ9ciLrpP8h8aeIwVus/EHUzaNnx7D9Ybf3tgY3uP9Cy4zmVFPA/9K7IfGni8D8Yq62/PbDxPzynkgISfvI/YKN3ReZL8z+En1yIuhn0P6ibQcuO5/Q/zJcmDmO19T/wkwtRN4P2PxSQ8JMLUfc/OIzV1t8e+D9ciLoZtOz4P4CEn1yIuvk/pICEn1yI+j/IfGniMFb7P+x4TiUFJPw/EHUzaNnx/D80cRirrb/9P1ht/e2Bjf4/fGniMFZb/z8=\",\"dtype\":\"float64\",\"order\":\"little\",\"shape\":[40]},\"y\":{\"__ndarray__\":\"ir6VM721zz8ndKzIP15MQOsZKVWmUVZAwODYAUfrY0D3f3KHL7dAQPvYlqLuwklA66XYiDj2RkDW1RZf4Ts2QHrgT9NHSDRAT8fNhW/aO0DXrClQd3MhQCzgktefuCdACUPgkXleJkDTDKTnUJMRQMxBhgVMrh5AEm1cU7W2FkAlpK0o/WgRQKg6DUQi8BNAclp3IrfSEUCOxtm6SccLQDKFrXgtexFAdcuUEThnCUDVpH46nlQEQBn4iOfVnwdAM6S7ILVVAUCXMi1x7aYAQEtUPGqnMf4/66BOk45r+T+p/GORhkn4P2OyVpiZEPk/4YarVn3l8z/4D4JjND/2P6jrG+P7bPM/tTd2UqTt8D9PbqLTzATzP0E1Wwl6IfA/59crndQA7j8ZnFrZBOHrP9IhfGUUveo/LX4upLX46T8=\",\"dtype\":\"float64\",\"order\":\"little\",\"shape\":[40]}},\"selected\":{\"id\":\"21934\"},\"selection_policy\":{\"id\":\"21933\"}},\"id\":\"21195\",\"type\":\"ColumnDataSource\"},{\"attributes\":{\"data\":{\"x\":{\"__ndarray__\":\"AAAAAAAAAACAhJ9ciLqpP4CEn1yIurk/YKN3ReZLwz+AhJ9ciLrJP9Cy4zmVFNA/YKN3ReZL0z/wkwtRN4PWP4CEn1yIutk/EHUzaNnx3D/QsuM5lRTgPxirrb89sOE/YKN3ReZL4z+om0HLjufkP/CTC1E3g+Y/OIzV1t8e6D+AhJ9ciLrpP8h8aeIwVus/EHUzaNnx7D9Ybf3tgY3uP9Cy4zmVFPA/9K7IfGni8D8Yq62/PbDxPzynkgISfvI/YKN3ReZL8z+En1yIuhn0P6ibQcuO5/Q/zJcmDmO19T/wkwtRN4P2PxSQ8JMLUfc/OIzV1t8e+D9ciLoZtOz4P4CEn1yIuvk/pICEn1yI+j/IfGniMFb7P+x4TiUFJPw/EHUzaNnx/D80cRirrb/9P1ht/e2Bjf4/fGniMFZb/z8=\",\"dtype\":\"float64\",\"order\":\"little\",\"shape\":[40]},\"y\":{\"__ndarray__\":\"FNvb0FiXzj9iqVXTXZkzQKxf46yxFoJAd9kwLQ+ld0A6X7jV+4pdQATfFtikVUpAr4zrCXC/M0C1pMj8TGAnQLObElNv9ylARRKLa1cNOkB0liyOMqI1QAWf8DKrdiVAm2p8rAEsG0BUJFyyIh4VQNXxDXyRtR9AzLtMwoPFGUBnBmRCb3kRQPoXcd+3gBBAgDvxHZ79DUCTarJn4NUFQOX4EQHeuQdAUDmPH4MTA0C3hrxgTxAJQGOCc/3mNwBAWQMTkFYzBEBl1INSAOn7Pz2DX6vpsgBARflozwCT+D+MCv4f1Xr6P06c1ymIL/g/086V8t/N9T/r9tNcTST0P2cPvdEOWfI/zQG/y8aK8T/4BQ+3SIvwP13vmPNfC/A/qvmUVee/7D+500R6IDfsPyG8659S1+o/FMjvIS6X6T8=\",\"dtype\":\"float64\",\"order\":\"little\",\"shape\":[40]}},\"selected\":{\"id\":\"21932\"},\"selection_policy\":{\"id\":\"21931\"}},\"id\":\"21183\",\"type\":\"ColumnDataSource\"},{\"attributes\":{},\"id\":\"21118\",\"type\":\"DataRange1d\"},{\"attributes\":{\"line_width\":2,\"x\":{\"field\":\"x\"},\"y\":{\"field\":\"y\"}},\"id\":\"21190\",\"type\":\"Line\"},{\"attributes\":{},\"id\":\"21925\",\"type\":\"AllLabels\"},{\"attributes\":{\"bottom_units\":\"screen\",\"coordinates\":null,\"fill_alpha\":0.5,\"fill_color\":\"lightgrey\",\"group\":null,\"left_units\":\"screen\",\"level\":\"overlay\",\"line_alpha\":1.0,\"line_color\":\"black\",\"line_dash\":[4,4],\"line_width\":2,\"right_units\":\"screen\",\"syncable\":false,\"top_units\":\"screen\"},\"id\":\"21169\",\"type\":\"BoxAnnotation\"},{\"attributes\":{},\"id\":\"21129\",\"type\":\"BasicTicker\"},{\"attributes\":{\"coordinates\":null,\"formatter\":{\"id\":\"21918\"},\"group\":null,\"major_label_policy\":{\"id\":\"21919\"},\"major_label_text_font_size\":\"10pt\",\"ticker\":{\"id\":\"21125\"}},\"id\":\"21124\",\"type\":\"LinearAxis\"},{\"attributes\":{},\"id\":\"21918\",\"type\":\"BasicTickFormatter\"},{\"attributes\":{\"axis\":{\"id\":\"21124\"},\"coordinates\":null,\"group\":null,\"ticker\":null},\"id\":\"21127\",\"type\":\"Grid\"},{\"attributes\":{},\"id\":\"21924\",\"type\":\"BasicTickFormatter\"},{\"attributes\":{\"coordinates\":null,\"data_source\":{\"id\":\"21195\"},\"glyph\":{\"id\":\"21196\"},\"group\":null,\"hover_glyph\":null,\"muted_glyph\":{\"id\":\"21198\"},\"nonselection_glyph\":{\"id\":\"21197\"},\"view\":{\"id\":\"21200\"}},\"id\":\"21199\",\"type\":\"GlyphRenderer\"},{\"attributes\":{},\"id\":\"21916\",\"type\":\"AllLabels\"},{\"attributes\":{},\"id\":\"21122\",\"type\":\"LinearScale\"},{\"attributes\":{\"data\":{\"x\":{\"__ndarray__\":\"AAAAAAAAAACamZmZmZm5P5qZmZmZmck/NDMzMzMz0z+amZmZmZnZPwAAAAAAAOA/NDMzMzMz4z9nZmZmZmbmP5qZmZmZmek/zczMzMzM7D8AAAAAAADwP5qZmZmZmfE/NDMzMzMz8z/NzMzMzMz0P2dmZmZmZvY/AAAAAAAA+D+amZmZmZn5PzQzMzMzM/s/zczMzMzM/D9nZmZmZmb+PwAAAAAAAABAzczMzMzMAECamZmZmZkBQGdmZmZmZgJANDMzMzMzA0AAAAAAAAAEQM3MzMzMzARAmpmZmZmZBUBnZmZmZmYGQDQzMzMzMwdAAAAAAAAACEDNzMzMzMwIQJqZmZmZmQlAZ2ZmZmZmCkA0MzMzMzMLQAAAAAAAAAxAzczMzMzMDECamZmZmZkNQGdmZmZmZg5ANDMzMzMzD0AAAAAAAAAQQGdmZmZmZhBAzczMzMzMEEAzMzMzMzMRQJqZmZmZmRFAAAAAAAAAEkBnZmZmZmYSQM3MzMzMzBJANDMzMzMzE0CamZmZmZkTQAAAAAAAABRAZ2ZmZmZmFEDNzMzMzMwUQDQzMzMzMxVAmpmZmZmZFUAAAAAAAAAWQGdmZmZmZhZAzczMzMzMFkA0MzMzMzMXQJqZmZmZmRdAAAAAAAAAGEBnZmZmZmYYQM3MzMzMzBhANDMzMzMzGUCamZmZmZkZQAAAAAAAABpAZ2ZmZmZmGkDNzMzMzMwaQDQzMzMzMxtAmpmZmZmZG0AAAAAAAAAcQGdmZmZmZhxAzczMzMzMHEA0MzMzMzMdQJqZmZmZmR1AAAAAAAAAHkBnZmZmZmYeQM3MzMzMzB5ANDMzMzMzH0CamZmZmZkfQAAAAAAAACBAMzMzMzMzIEBnZmZmZmYgQJqZmZmZmSBAzczMzMzMIEAAAAAAAAAhQDMzMzMzMyFAZ2ZmZmZmIUCamZmZmZkhQM3MzMzMzCFAAAAAAAAAIkAzMzMzMzMiQGdmZmZmZiJAmpmZmZmZIkDNzMzMzMwiQAAAAAAAACNANDMzMzMzI0BnZmZmZmYjQJqZmZmZmSNAzczMzMzMI0AAAAAAAAAkQDQzMzMzMyRAZ2ZmZmZmJECamZmZmZkkQM3MzMzMzCRAAAAAAAAAJUA0MzMzMzMlQGdmZmZmZiVAmpmZmZmZJUDNzMzMzMwlQAAAAAAAACZANDMzMzMzJkBnZmZmZmYmQJqZmZmZmSZAzczMzMzMJkAAAAAAAAAnQDQzMzMzMydAZ2ZmZmZmJ0CamZmZmZknQM3MzMzMzCdAAAAAAAAAKEA0MzMzMzMoQGdmZmZmZihAmpmZmZmZKEDNzMzMzMwoQAAAAAAAAClANDMzMzMzKUBnZmZmZmYpQJqZmZmZmSlAzczMzMzMKUAAAAAAAAAqQDQzMzMzMypAZ2ZmZmZmKkCamZmZmZkqQM3MzMzMzCpAAAAAAAAAK0A0MzMzMzMrQGdmZmZmZitAmpmZmZmZK0DNzMzMzMwrQAAAAAAAACxANDMzMzMzLEBnZmZmZmYsQJqZmZmZmSxAzczMzMzMLEAAAAAAAAAtQDQzMzMzMy1AZ2ZmZmZmLUCamZmZmZktQM3MzMzMzC1AAAAAAAAALkA0MzMzMzMuQGdmZmZmZi5AmpmZmZmZLkDNzMzMzMwuQAAAAAAAAC9ANDMzMzMzL0BnZmZmZmYvQJqZmZmZmS9AzczMzMzML0AAAAAAAAAwQJqZmZmZGTBAMzMzMzMzMEDNzMzMzEwwQGdmZmZmZjBAAAAAAACAMECamZmZmZkwQDMzMzMzszBAzczMzMzMMEBnZmZmZuYwQAAAAAAAADFAmpmZmZkZMUAzMzMzMzMxQM3MzMzMTDFAZ2ZmZmZmMUAAAAAAAIAxQJqZmZmZmTFAMzMzMzOzMUDNzMzMzMwxQGdmZmZm5jFAAAAAAAAAMkCamZmZmRkyQDMzMzMzMzJAzczMzMxMMkBnZmZmZmYyQAAAAAAAgDJAmpmZmZmZMkAzMzMzM7MyQM3MzMzMzDJAZ2ZmZmbmMkAAAAAAAAAzQJqZmZmZGTNANDMzMzMzM0DNzMzMzEwzQGdmZmZmZjNAAAAAAACAM0CamZmZmZkzQDQzMzMzszNAzczMzMzMM0BnZmZmZuYzQAAAAAAAADRA\",\"dtype\":\"float64\",\"order\":\"little\",\"shape\":[201]},\"y\":{\"__ndarray__\":\"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\",\"dtype\":\"float64\",\"order\":\"little\",\"shape\":[201]}},\"selected\":{\"id\":\"21929\"},\"selection_policy\":{\"id\":\"21928\"}},\"id\":\"21189\",\"type\":\"ColumnDataSource\"},{\"attributes\":{},\"id\":\"21136\",\"type\":\"ResetTool\"},{\"attributes\":{},\"id\":\"21116\",\"type\":\"DataRange1d\"},{\"attributes\":{\"line_color\":\"orange\",\"line_width\":2,\"x\":{\"field\":\"x\"},\"y\":{\"field\":\"y\"}},\"id\":\"21178\",\"type\":\"Line\"},{\"attributes\":{\"coordinates\":null,\"group\":null},\"id\":\"21910\",\"type\":\"Title\"},{\"attributes\":{\"line_color\":\"orange\",\"line_width\":2,\"x\":{\"field\":\"x\"},\"y\":{\"field\":\"y\"}},\"id\":\"21184\",\"type\":\"Line\"},{\"attributes\":{},\"id\":\"21120\",\"type\":\"LinearScale\"},{\"attributes\":{},\"id\":\"21934\",\"type\":\"Selection\"},{\"attributes\":{},\"id\":\"21933\",\"type\":\"UnionRenderers\"},{\"attributes\":{},\"id\":\"21929\",\"type\":\"Selection\"},{\"attributes\":{\"axis\":{\"id\":\"21159\"},\"coordinates\":null,\"dimension\":1,\"group\":null,\"ticker\":null},\"id\":\"21162\",\"type\":\"Grid\"},{\"attributes\":{\"overlay\":{\"id\":\"21169\"}},\"id\":\"21165\",\"type\":\"BoxZoomTool\"},{\"attributes\":{\"axis\":{\"id\":\"21155\"},\"coordinates\":null,\"group\":null,\"ticker\":null},\"id\":\"21158\",\"type\":\"Grid\"},{\"attributes\":{\"bottom_units\":\"screen\",\"coordinates\":null,\"fill_alpha\":0.5,\"fill_color\":\"lightgrey\",\"group\":null,\"left_units\":\"screen\",\"level\":\"overlay\",\"line_alpha\":1.0,\"line_color\":\"black\",\"line_dash\":[4,4],\"line_width\":2,\"right_units\":\"screen\",\"syncable\":false,\"top_units\":\"screen\"},\"id\":\"21138\",\"type\":\"BoxAnnotation\"},{\"attributes\":{\"tools\":[{\"id\":\"21132\"},{\"id\":\"21133\"},{\"id\":\"21134\"},{\"id\":\"21135\"},{\"id\":\"21136\"},{\"id\":\"21137\"}]},\"id\":\"21139\",\"type\":\"Toolbar\"},{\"attributes\":{\"coordinates\":null,\"formatter\":{\"id\":\"21924\"},\"group\":null,\"major_label_policy\":{\"id\":\"21925\"},\"major_label_text_font_size\":\"10pt\",\"ticker\":{\"id\":\"21156\"}},\"id\":\"21155\",\"type\":\"LinearAxis\"},{\"attributes\":{},\"id\":\"21147\",\"type\":\"DataRange1d\"},{\"attributes\":{},\"id\":\"21153\",\"type\":\"LinearScale\"},{\"attributes\":{\"coordinates\":null,\"data_source\":{\"id\":\"21177\"},\"glyph\":{\"id\":\"21178\"},\"group\":null,\"hover_glyph\":null,\"muted_glyph\":{\"id\":\"21180\"},\"nonselection_glyph\":{\"id\":\"21179\"},\"view\":{\"id\":\"21182\"}},\"id\":\"21181\",\"type\":\"GlyphRenderer\"},{\"attributes\":{\"source\":{\"id\":\"21177\"}},\"id\":\"21182\",\"type\":\"CDSView\"},{\"attributes\":{},\"id\":\"21163\",\"type\":\"PanTool\"},{\"attributes\":{},\"id\":\"21151\",\"type\":\"LinearScale\"},{\"attributes\":{},\"id\":\"21167\",\"type\":\"ResetTool\"},{\"attributes\":{},\"id\":\"21149\",\"type\":\"DataRange1d\"},{\"attributes\":{},\"id\":\"21156\",\"type\":\"BasicTicker\"},{\"attributes\":{},\"id\":\"21166\",\"type\":\"SaveTool\"},{\"attributes\":{},\"id\":\"21160\",\"type\":\"BasicTicker\"},{\"attributes\":{},\"id\":\"21928\",\"type\":\"UnionRenderers\"},{\"attributes\":{},\"id\":\"21164\",\"type\":\"WheelZoomTool\"},{\"attributes\":{\"coordinates\":null,\"formatter\":{\"id\":\"21921\"},\"group\":null,\"major_label_policy\":{\"id\":\"21922\"},\"major_label_text_font_size\":\"10pt\",\"ticker\":{\"id\":\"21160\"}},\"id\":\"21159\",\"type\":\"LinearAxis\"},{\"attributes\":{},\"id\":\"21927\",\"type\":\"Selection\"}],\"root_ids\":[\"21201\"]},\"title\":\"Bokeh Application\",\"version\":\"2.4.1\"}};\n",
       "  const render_items = [{\"docid\":\"5685dea5-7a19-44af-ad03-6c26577d4d8e\",\"root_ids\":[\"21201\"],\"roots\":{\"21201\":\"4ef63c52-9940-489a-8570-cbc46a7d9695\"}}];\n",
       "  root.Bokeh.embed.embed_items_notebook(docs_json, render_items);\n",
       "\n",
       "  }\n",
       "  if (root.Bokeh !== undefined) {\n",
       "    embed_document(root);\n",
       "  } else {\n",
       "    let attempts = 0;\n",
       "    const timer = setInterval(function(root) {\n",
       "      if (root.Bokeh !== undefined) {\n",
       "        clearInterval(timer);\n",
       "        embed_document(root);\n",
       "      } else {\n",
       "        attempts++;\n",
       "        if (attempts > 100) {\n",
       "          clearInterval(timer);\n",
       "          console.log(\"Bokeh: ERROR: Unable to run BokehJS code because BokehJS library is missing\");\n",
       "        }\n",
       "      }\n",
       "    }, 10, root)\n",
       "  }\n",
       "})(window);"
      ],
      "application/vnd.bokehjs_exec.v0+json": ""
     },
     "metadata": {
      "application/vnd.bokehjs_exec.v0+json": {
       "id": "21201"
      }
     },
     "output_type": "display_data"
    }
   ],
   "source": [
    "fig_size = [400, 200] # for paper size (144, 110) # for larger size (144,144)\n",
    "x_range = (0, time_points[-1])\n",
    "y_range = (0, 200)\n",
    "\n",
    "plots = []\n",
    "for i in range(2):\n",
    "    plots.append(bokeh.plotting.figure(plot_width=fig_size[0], plot_height=fig_size[1],\n",
    "                          #x_range=x_range,y_range=y_range\n",
    "                          ),)\n",
    "    plots[i].axis.major_label_text_font_size = \"10pt\"\n",
    "\n",
    "dt = time_points[1] - time_points[0]\n",
    "\n",
    "y1 = samples[0,:,10] # samples[:,:,10][0]\n",
    "y1s = y1 - y1.mean()\n",
    "lags, auto_corr = correlate(y1s, y1s, dt)\n",
    "f,Mf = FFT(lags, auto_corr, (0, 2))\n",
    "\n",
    "plots[0].line(lags, auto_corr, line_width=2, alpha= 1, line_join=\"bevel\",color=\"orange\")\n",
    "plots[1].line(f, Mf, line_width=2, alpha= 1, line_join=\"bevel\",color=\"orange\")\n",
    "\n",
    "y1 = samples[0,:,13] # samples[:,:,10][0]\n",
    "y1s = y1 - y1.mean()\n",
    "lags, auto_corr = correlate(y1s, y1s, dt)\n",
    "f,Mf = FFT(lags, auto_corr, (0, 2))\n",
    "\n",
    "plots[0].line(lags, auto_corr, line_width=2, alpha= 1, line_join=\"bevel\",color=\"black\")\n",
    "plots[1].line(f, Mf, line_width=2, alpha= 1, line_join=\"bevel\",color=\"black\")\n",
    "\n",
    "bokeh.io.show(bokeh.layouts.row(plots))"
   ]
  },
  {
   "cell_type": "code",
   "execution_count": null,
   "metadata": {
    "id": "gIq0JFaxvREs"
   },
   "outputs": [],
   "source": [
    "# Specify parameters for calculation\n",
    "n = 1 # copy number of promoter\n",
    "th = .1*600/n # 1/h\n",
    "rh = 80 # 1/h\n",
    "ph = 0.6931/10*60 # 1/h log(2)=0.6931\n",
    "d = 0.6931/30*60 # 1/h log(2)=0.6931\n",
    "g = 2.1*36 # 1/uM/h \n",
    "gd = g*0.01 # 1/h\n",
    "r = 5 # 1/h Switching rate\n",
    "a0 = 2.1*36\n",
    "d0 = 0.2*a0\n",
    "\n",
    "Omega = 600 # 600\n",
    "size = 250\n",
    "#dir = \"/content/drive/My Drive/Research/2022/RecombinaseOscillator/\"\n",
    "f_name = dir+\"Nodel_1_Data_\"+str(size)+\".npy\"\n",
    "\n",
    "args = (th, rh, ph, d, g, gd, a0, d0, r, Omega, n)\n",
    "time_points = np.linspace(0, 40, 401)\n",
    "population_0 = np.zeros(15, dtype=int)\n",
    "population_0[0] = n\n",
    "\n",
    "if os.path.exists(f_name):\n",
    "    samples = np.load(f_name)\n",
    "else:\n",
    "    samples = biocircuits.gillespie_ssa(simple_propensity, simple_update, population_0,time_points, size=size, args=args, n_threads=2,progress_bar=False)\n",
    "    #np.savetxt(f_name, samples, fmt='%d')\n",
    "    np.save(f_name, samples)\n"
   ]
  },
  {
   "cell_type": "code",
   "execution_count": null,
   "metadata": {
    "id": "p9TmQcH5mma5"
   },
   "outputs": [],
   "source": [
    "# This function finds the time of the peak\n",
    "def FindPicks(t,samples):\n",
    "    ys = samples - samples.mean()\n",
    "    lags, auto_corr = correlate(ys, ys, t[1]-t[0])\n",
    "    max_id = argrelextrema(auto_corr, np.greater)\n",
    "    return t[max_id[0][0:4]]"
   ]
  },
  {
   "cell_type": "code",
   "execution_count": null,
   "metadata": {
    "id": "BaoCDS_fnnLY"
   },
   "outputs": [],
   "source": [
    "t_peaks = FindPicks(time_points,samples[0,:,10])\n",
    "for i in range(1,samples.shape[0]):\n",
    "    t_peaks = np.vstack((t_peaks,FindPicks(time_points,samples[i,:,10])))\n",
    "\n",
    "#print(tmp)"
   ]
  },
  {
   "cell_type": "code",
   "execution_count": null,
   "metadata": {
    "id": "yz1UOcgir_kU"
   },
   "outputs": [],
   "source": [
    "fig_size = [300, 200] # for paper size (144, 110) # for larger size (144,144)\n",
    "x_range = (0, time_points[-1])\n",
    "y_range = (0, 200)\n",
    "\n",
    "plots = []\n",
    "for i in range(3):\n",
    "    plots.append(bokeh.plotting.figure(plot_width=fig_size[0], plot_height=fig_size[1],\n",
    "                          #x_range=x_range,y_range=y_range\n",
    "                          ),)\n",
    "    plots[i].axis.major_label_text_font_size = \"10pt\"\n",
    "\n",
    "x = np.linspace(0,20,41)\n",
    "\n",
    "for j in range(3):\n",
    "    hist, bin_edges = np.histogram(t_peaks[:,j], x, density=True)\n",
    "    plots[j].quad(top=hist, bottom=0, left=bin_edges[:-1], right=bin_edges[1:],fill_color=\"grey\", line_color=\"grey\", fill_alpha=0.2,line_alpha=0.)\n",
    "    plots[j].step(bin_edges[:-1],hist, line_width=2, mode=\"after\", color = \"grey\")\n",
    "\n",
    "bokeh.io.show(bokeh.layouts.row(plots))"
   ]
  },
  {
   "cell_type": "code",
   "execution_count": 8,
   "metadata": {
    "executionInfo": {
     "elapsed": 261,
     "status": "ok",
     "timestamp": 1652533566783,
     "user": {
      "displayName": "Christian Cuba",
      "userId": "05812622177105967845"
     },
     "user_tz": 240
    },
    "id": "8-pcHov6F58J"
   },
   "outputs": [],
   "source": [
    "# This function finds the Delta T between peak times\n",
    "def FindDeltaT(t,samples):\n",
    "    ys = samples - samples.mean()\n",
    "    lags, auto_corr = correlate(ys, ys, t[1]-t[0])\n",
    "    max_id = argrelextrema(auto_corr, np.greater)\n",
    "    return t[max_id[0][1:5]]-t[max_id[0][0]]"
   ]
  },
  {
   "cell_type": "code",
   "execution_count": null,
   "metadata": {
    "id": "gC_TCHbJysdl"
   },
   "outputs": [],
   "source": [
    "Delta_T = FindDeltaT(time_points,samples[0,:,10])\n",
    "for i in range(1,samples.shape[0]):\n",
    "    Delta_T = np.vstack((Delta_T,FindDeltaT(time_points,samples[i,:,10])))"
   ]
  },
  {
   "cell_type": "code",
   "execution_count": null,
   "metadata": {
    "id": "z5LeyEZcyvQ1"
   },
   "outputs": [],
   "source": [
    "fig_size = [300, 200] # for paper size (144, 110) # for larger size (144,144)\n",
    "x_range = (0, time_points[-1])\n",
    "y_range = (0, 200)\n",
    "\n",
    "plots = []\n",
    "for i in range(3):\n",
    "    plots.append(bokeh.plotting.figure(plot_width=fig_size[0], plot_height=fig_size[1],\n",
    "                          #x_range=x_range,y_range=y_range\n",
    "                          ),)\n",
    "    plots[i].axis.major_label_text_font_size = \"10pt\"\n",
    "\n",
    "x = np.linspace(0,20,41)\n",
    "\n",
    "for j in range(3):\n",
    "    hist, bin_edges = np.histogram(Delta_T[:,j], x, density=True)\n",
    "    plots[j].quad(top=hist, bottom=0, left=bin_edges[:-1], right=bin_edges[1:],fill_color=\"grey\", line_color=\"grey\", fill_alpha=0.2,line_alpha=0.)\n",
    "    plots[j].step(bin_edges[:-1],hist, line_width=2, mode=\"after\", color = \"grey\")\n",
    "\n",
    "bokeh.io.show(bokeh.layouts.row(plots))"
   ]
  },
  {
   "cell_type": "code",
   "execution_count": null,
   "metadata": {
    "id": "RPHurCE6zQX8"
   },
   "outputs": [],
   "source": [
    "# Computing the peak vs the variance\n",
    "\n",
    "fig_size = [300, 200] # for paper size (144, 110) # for larger size (144,144)\n",
    "x_range = (0, time_points[-1])\n",
    "y_range = (0, 200)\n",
    "\n",
    "plots = []\n",
    "for i in range(1):\n",
    "    plots.append(bokeh.plotting.figure(plot_width=fig_size[0], plot_height=fig_size[1],\n",
    "                          #x_range=x_range,y_range=y_range\n",
    "                          ),)\n",
    "    plots[i].axis.major_label_text_font_size = \"10pt\"\n",
    "\n",
    "vx = range(1,5)\n",
    "vy = np.var(Delta_T, axis=0)\n",
    "\n",
    "plots[0].circle(vx,vy, line_width=2)\n",
    "\n",
    "L_eq = np.polyfit(vx,vy,1)\n",
    "plots[0].line(vx, np.poly1d(L_eq)(vx), line_width=2, alpha= 0.5, line_join=\"bevel\",color=\"grey\")\n",
    "\n",
    "bokeh.io.show(bokeh.layouts.row(plots))"
   ]
  },
  {
   "cell_type": "code",
   "execution_count": null,
   "metadata": {
    "id": "knalF4eVAqxI"
   },
   "outputs": [],
   "source": [
    "L_eq"
   ]
  },
  {
   "cell_type": "code",
   "execution_count": null,
   "metadata": {
    "id": "dbiQvnVC4zNb"
   },
   "outputs": [],
   "source": [
    "# Specify parameters for calculation\n",
    "n = 1 # copy number of promoter\n",
    "th = 0.3*60/n # 1/h\n",
    "rh = 80 # 1/h\n",
    "ph = 0.6931/10*60 # 1/h log(2)=0.6931\n",
    "d = 0.6931/30*60 # 1/h log(2)=0.6931\n",
    "g = 2.1*36 # 1/uM/h \n",
    "gd = g*0.01 # 1/h\n",
    "r = 5 # 1/h Switching rate\n",
    "a0 = 2.1*36\n",
    "d0 = 0.01*a0\n",
    "\n",
    "b = 0.3*60/n\n",
    "rh2 = 80\n",
    "xi = 20\n",
    "Kd = 0.1\n",
    "\n",
    "Omega = 600 # 600\n",
    "size = 2\n",
    "state = 13 # 10 (recombinase 1) or 13 (recombinase 2)\n",
    "args = (th, rh, ph, d, g, gd, a0, d0, r, b, rh2, xi, Kd, Omega, n)\n",
    "\n",
    "time_points = np.linspace(0, 40, 401) # 40 by 401\n",
    "population_0 = np.zeros(19, dtype=int)\n",
    "population_0[0] = n\n",
    "\n",
    "#param = (0,1,2)\n",
    "param = range(0,8)\n",
    "scale = (1./4, 1./3, 1./2, 1., 2.,3., 4.)\n",
    "vx = range(1,5)\n",
    "\n",
    "out = np.array((0., 1./4, 1./3, 1./2, 1., 2., 3., 4.))\n",
    "\n",
    "#dir = \"/content/drive/My Drive/Research/2022/RecombinaseOscillator/\"\n",
    "f_name2 = dir+\"Model_1_AllSensitivity_\"+str(size)+\".npy\"\n",
    "\n",
    "if os.path.exists(f_name2):\n",
    "    out = np.load(f_name2)\n",
    "    idx = param.index(out[-1,0])+1\n",
    "else:\n",
    "    idx = 0\n",
    "\n",
    "if idx<len(param):\n",
    "    for par in param[idx:]:\n",
    "        print(par)\n",
    "        tmp = np.array((par))\n",
    "        args_i = np.array((th, rh, ph, d, g, gd, a0, d0, r, b, rh2, xi, Kd, Omega, n))\n",
    "        for fac in scale:\n",
    "            # Update model para\n",
    "            args_i[par] = args[par]*fac\n",
    "            samples = biocircuits.gillespie_ssa(simple_propensity, simple_update, population_0,time_points, size=size, args=tuple(args), n_threads=2,progress_bar=False)\n",
    "\n",
    "            # Stack T1, T2, T3, T4\n",
    "            Delta_T = FindDeltaT(time_points,samples[0,:,state])\n",
    "            for i in range(1,samples.shape[0]):\n",
    "                Delta_T = np.vstack((Delta_T,FindDeltaT(time_points,samples[i,:,state])))\n",
    "\n",
    "            # Compute variance and find slope (incoherent metric)\n",
    "            vy = np.var(Delta_T, axis=0)\n",
    "            L_eq = np.polyfit(vx,vy,1)\n",
    "            tmp = np.append(tmp,L_eq[0])\n",
    "    \n",
    "        out = np.vstack((out,tmp))\n",
    "        np.save(f_name2, out)\n",
    "\n",
    "print(out)"
   ]
  },
  {
   "cell_type": "code",
   "execution_count": 17,
   "metadata": {
    "colab": {
     "base_uri": "https://localhost:8080/",
     "height": 568
    },
    "executionInfo": {
     "elapsed": 11463099,
     "status": "error",
     "timestamp": 1652545036771,
     "user": {
      "displayName": "Christian Cuba",
      "userId": "05812622177105967845"
     },
     "user_tz": 240
    },
    "id": "NuhGPSAdS7qI",
    "outputId": "6aaf1072-cb04-4760-e86c-4993ff339374"
   },
   "outputs": [
    {
     "name": "stdout",
     "output_type": "stream",
     "text": [
      "[[ 0.          0.25        0.33333333  0.5         1.          2.\n",
      "   3.          4.        ]\n",
      " [ 1.          8.47536897  8.78098199  6.94461405  3.10998955  1.71066083\n",
      "   1.36110027  1.67295764]\n",
      " [ 3.          3.4531281   2.65228398  4.13199218  3.90776978  2.22912283\n",
      "   1.23656707  0.51714819]\n",
      " [ 4.          5.05764877  3.97128494  3.5614173   3.54533244  3.03162814\n",
      "   3.25419119  3.10755582]\n",
      " [ 6.          9.48712127  7.76417137  6.5293202   3.12894879  2.22481669\n",
      "   1.64983589  1.89751536]\n",
      " [ 8.          5.62242607  4.52424147  4.57058133  4.37628434  3.05204021\n",
      "   3.03058319  3.41322197]\n",
      " [10.          2.23585703  2.38894726  2.74130967  3.37880698  4.19651601\n",
      "   4.66120963  4.23633272]\n",
      " [11.          2.38232168  2.61123274  2.85062488  3.89805384  4.13138688\n",
      "   4.17966895  4.04357134]]\n"
     ]
    }
   ],
   "source": [
    "# Specify parameters for calculation\n",
    "n = 1 # copy number of promoter\n",
    "th = 0.3*60/n # 1/h\n",
    "rh = 80 # 1/h\n",
    "ph = 0.6931/10*60 # 1/h log(2)=0.6931\n",
    "d = 0.6931/30*60 # 1/h log(2)=0.6931\n",
    "g = 2.1*36 # 1/uM/h \n",
    "gd = g*0.01 # 1/h\n",
    "r = 5 # 1/h Switching rate\n",
    "a0 = 2.1*36/2\n",
    "d0 = 0.01*a0\n",
    "\n",
    "b = 0.3*60/n\n",
    "rh2 = 80\n",
    "xi = 20\n",
    "Kd = 0.1\n",
    "\n",
    "Omega = 600 # 600\n",
    "size = 500\n",
    "state = 13 # 10 (recombinase 1) or 13 (recombinase 2)\n",
    "\n",
    "args = (th, rh, ph, d, g, gd, a0, d0, r, b, rh2, xi, Kd, Omega, n)\n",
    "\n",
    "time_points = np.linspace(0, 40, 401) # 40 by 401\n",
    "population_0 = np.zeros(19, dtype=int)\n",
    "population_0[0] = n\n",
    "\n",
    "param = (1,3,4,6,8, 10, 11)\n",
    "#param = range(0,8)\n",
    "scale = (1./4, 1./3, 1./2, 1., 2.,3., 4.)\n",
    "vx = range(1,5)\n",
    "\n",
    "out = np.array((0., 1./4, 1./3, 1./2, 1., 2., 3., 4.))\n",
    "\n",
    "#dir = \"/content/drive/My Drive/Research/2022/RecombinaseOscillator/\"\n",
    "f_name2 = dir+\"Model_1_AllSensitivity_\"+str(size)+\".npy\"\n",
    "\n",
    "if os.path.exists(f_name2):\n",
    "    out = np.load(f_name2)\n",
    "    idx = param.index(out[-1,0])+1\n",
    "else:\n",
    "    idx = 0\n",
    "\n",
    "if idx<len(param):\n",
    "    for par in param[idx:]:\n",
    "        #print(par)\n",
    "        tmp = np.array((par))\n",
    "        args_i = np.array((th, rh, ph, d, g, gd, a0, d0, r, b, rh2, xi, Kd, Omega, n))\n",
    "        for fac in scale:\n",
    "            print(par, fac)\n",
    "            # Update model para\n",
    "            args_i[par] = args[par]*fac\n",
    "            ii = 0\n",
    "            Delta_T = np.array((0.,0.,0.,0.))\n",
    "            while ii<size+1:\n",
    "                samples = biocircuits.gillespie_ssa(simple_propensity, simple_update, population_0,time_points, size=1, args=tuple(args_i), n_threads=1,progress_bar=False)\n",
    "                try:\n",
    "                  tmp_0 = FindDeltaT(time_points,samples[0,:,state])\n",
    "                  if len(tmp_0) == 4:\n",
    "                      Delta_T = np.vstack((Delta_T,tmp_0[0:4]))\n",
    "                      ii = ii + 1\n",
    "                except: tmp_0 = 0\n",
    "\n",
    "            # Compute variance and find slope (incoherent metric)\n",
    "            vy = np.var(Delta_T[1:,:], axis=0)\n",
    "            L_eq = np.polyfit(vx,vy,1)\n",
    "            tmp = np.append(tmp,L_eq[0])\n",
    "    \n",
    "        out = np.vstack((out,tmp))\n",
    "        np.save(f_name2, out)\n",
    "\n",
    "print(out)"
   ]
  },
  {
   "cell_type": "code",
   "execution_count": 22,
   "metadata": {
    "colab": {
     "base_uri": "https://localhost:8080/",
     "height": 237
    },
    "executionInfo": {
     "elapsed": 554,
     "status": "ok",
     "timestamp": 1651707159420,
     "user": {
      "displayName": "Christian Cuba",
      "userId": "05812622177105967845"
     },
     "user_tz": 240
    },
    "id": "KW7GwDcXWeru",
    "outputId": "1b3d3f8c-d235-4f87-b039-116f5a7b1c3a"
   },
   "outputs": [
    {
     "data": {
      "text/html": [
       "\n",
       "\n",
       "\n",
       "\n",
       "\n",
       "\n",
       "  <div class=\"bk-root\" id=\"294fd33c-8c2f-4f4e-9e96-fc1d006d4406\" data-root-id=\"5743\"></div>\n"
      ]
     },
     "metadata": {},
     "output_type": "display_data"
    },
    {
     "data": {
      "application/javascript": [
       "(function(root) {\n",
       "  function embed_document(root) {\n",
       "    \n",
       "  const docs_json = {\"f007bacc-57cc-497e-a11d-a8c94005b8aa\":{\"defs\":[],\"roots\":{\"references\":[{\"attributes\":{\"children\":[{\"id\":\"4161\"},{\"id\":\"4192\"},{\"id\":\"4223\"},{\"id\":\"4254\"},{\"id\":\"4285\"},{\"id\":\"4316\"},{\"id\":\"4347\"}]},\"id\":\"5743\",\"type\":\"Row\"},{\"attributes\":{\"coordinates\":null,\"formatter\":{\"id\":\"5563\"},\"group\":null,\"major_label_policy\":{\"id\":\"5564\"},\"major_label_text_font_size\":\"10pt\",\"ticker\":{\"id\":\"4361\"}},\"id\":\"4360\",\"type\":\"LinearAxis\"},{\"attributes\":{},\"id\":\"4369\",\"type\":\"HelpTool\"},{\"attributes\":{\"end\":20},\"id\":\"4288\",\"type\":\"Range1d\"},{\"attributes\":{\"axis\":{\"id\":\"4267\"},\"coordinates\":null,\"dimension\":1,\"group\":null,\"ticker\":null},\"id\":\"4270\",\"type\":\"Grid\"},{\"attributes\":{\"bottom_units\":\"screen\",\"coordinates\":null,\"fill_alpha\":0.5,\"fill_color\":\"lightgrey\",\"group\":null,\"left_units\":\"screen\",\"level\":\"overlay\",\"line_alpha\":1.0,\"line_color\":\"black\",\"line_dash\":[4,4],\"line_width\":2,\"right_units\":\"screen\",\"syncable\":false,\"top_units\":\"screen\"},\"id\":\"4308\",\"type\":\"BoxAnnotation\"},{\"attributes\":{\"axis\":{\"id\":\"4360\"},\"coordinates\":null,\"dimension\":1,\"group\":null,\"ticker\":null},\"id\":\"4363\",\"type\":\"Grid\"},{\"attributes\":{},\"id\":\"4361\",\"type\":\"BasicTicker\"},{\"attributes\":{\"coordinates\":null,\"formatter\":{\"id\":\"4978\"},\"group\":null,\"major_label_policy\":{\"id\":\"4979\"},\"major_label_text_font_size\":\"10pt\",\"ticker\":{\"id\":\"4268\"}},\"id\":\"4267\",\"type\":\"LinearAxis\"},{\"attributes\":{},\"id\":\"4264\",\"type\":\"BasicTicker\"},{\"attributes\":{\"end\":20},\"id\":\"4319\",\"type\":\"Range1d\"},{\"attributes\":{},\"id\":\"5372\",\"type\":\"AllLabels\"},{\"attributes\":{},\"id\":\"4365\",\"type\":\"WheelZoomTool\"},{\"attributes\":{},\"id\":\"4364\",\"type\":\"PanTool\"},{\"attributes\":{\"overlay\":{\"id\":\"4370\"}},\"id\":\"4366\",\"type\":\"BoxZoomTool\"},{\"attributes\":{},\"id\":\"4393\",\"type\":\"BasicTickFormatter\"},{\"attributes\":{},\"id\":\"4268\",\"type\":\"BasicTicker\"},{\"attributes\":{},\"id\":\"5371\",\"type\":\"BasicTickFormatter\"},{\"attributes\":{\"coordinates\":null,\"data_source\":{\"id\":\"5158\"},\"glyph\":{\"id\":\"5159\"},\"group\":null,\"hover_glyph\":null,\"muted_glyph\":{\"id\":\"5161\"},\"nonselection_glyph\":{\"id\":\"5160\"},\"view\":{\"id\":\"5163\"}},\"id\":\"5162\",\"type\":\"GlyphRenderer\"},{\"attributes\":{\"end\":4.2},\"id\":\"4317\",\"type\":\"Range1d\"},{\"attributes\":{\"line_alpha\":0.1,\"line_color\":\"#18a3ac\",\"line_width\":2,\"x\":{\"field\":\"x\"},\"y\":{\"field\":\"y\"}},\"id\":\"4965\",\"type\":\"Line\"},{\"attributes\":{\"below\":[{\"id\":\"4170\"}],\"center\":[{\"id\":\"4173\"},{\"id\":\"4177\"}],\"height\":115,\"left\":[{\"id\":\"4174\"}],\"output_backend\":\"svg\",\"renderers\":[{\"id\":\"4382\"},{\"id\":\"4388\"}],\"title\":{\"id\":\"4390\"},\"toolbar\":{\"id\":\"4185\"},\"width\":144,\"x_range\":{\"id\":\"4162\"},\"x_scale\":{\"id\":\"4166\"},\"y_range\":{\"id\":\"4164\"},\"y_scale\":{\"id\":\"4168\"}},\"id\":\"4161\",\"subtype\":\"Figure\",\"type\":\"Plot\"},{\"attributes\":{\"line_color\":\"#18a3ac\",\"line_width\":2,\"x\":{\"field\":\"x\"},\"y\":{\"field\":\"y\"}},\"id\":\"4964\",\"type\":\"Line\"},{\"attributes\":{\"data\":{\"x\":{\"__ndarray__\":\"AAAAAAAA0D9VVVVVVVXVPwAAAAAAAOA/AAAAAAAA8D8AAAAAAAAAQAAAAAAAAAhAAAAAAAAAEEA=\",\"dtype\":\"float64\",\"order\":\"little\",\"shape\":[7]},\"y\":{\"__ndarray__\":\"i5R7Ql19FkAxZrnB0hgSQDoUxHhGSBJAauayrlCBEUDBhFkOlGoIQDFaqmaiPghAskYjUkdOC0A=\",\"dtype\":\"float64\",\"order\":\"little\",\"shape\":[7]}},\"selected\":{\"id\":\"5181\"},\"selection_policy\":{\"id\":\"5180\"}},\"id\":\"5164\",\"type\":\"ColumnDataSource\"},{\"attributes\":{},\"id\":\"4394\",\"type\":\"AllLabels\"},{\"attributes\":{\"fill_alpha\":{\"value\":0.2},\"fill_color\":{\"value\":\"#18a3ac\"},\"hatch_alpha\":{\"value\":0.2},\"hatch_color\":{\"value\":\"#18a3ac\"},\"line_alpha\":{\"value\":0.2},\"line_color\":{\"value\":\"#18a3ac\"},\"line_width\":{\"value\":2},\"x\":{\"field\":\"x\"},\"y\":{\"field\":\"y\"}},\"id\":\"4777\",\"type\":\"Circle\"},{\"attributes\":{},\"id\":\"5369\",\"type\":\"AllLabels\"},{\"attributes\":{\"coordinates\":null,\"data_source\":{\"id\":\"5164\"},\"glyph\":{\"id\":\"5165\"},\"group\":null,\"hover_glyph\":null,\"muted_glyph\":{\"id\":\"5167\"},\"nonselection_glyph\":{\"id\":\"5166\"},\"view\":{\"id\":\"5169\"}},\"id\":\"5168\",\"type\":\"GlyphRenderer\"},{\"attributes\":{\"fill_color\":{\"value\":\"#18a3ac\"},\"hatch_color\":{\"value\":\"#18a3ac\"},\"line_color\":{\"value\":\"#18a3ac\"},\"line_width\":{\"value\":2},\"x\":{\"field\":\"x\"},\"y\":{\"field\":\"y\"}},\"id\":\"4775\",\"type\":\"Circle\"},{\"attributes\":{\"line_color\":\"#18a3ac\",\"line_width\":2,\"x\":{\"field\":\"x\"},\"y\":{\"field\":\"y\"}},\"id\":\"5159\",\"type\":\"Line\"},{\"attributes\":{},\"id\":\"5181\",\"type\":\"Selection\"},{\"attributes\":{\"bottom_units\":\"screen\",\"coordinates\":null,\"fill_alpha\":0.5,\"fill_color\":\"lightgrey\",\"group\":null,\"left_units\":\"screen\",\"level\":\"overlay\",\"line_alpha\":1.0,\"line_color\":\"black\",\"line_dash\":[4,4],\"line_width\":2,\"right_units\":\"screen\",\"syncable\":false,\"top_units\":\"screen\"},\"id\":\"4370\",\"type\":\"BoxAnnotation\"},{\"attributes\":{},\"id\":\"4396\",\"type\":\"BasicTickFormatter\"},{\"attributes\":{\"data\":{\"x\":{\"__ndarray__\":\"AAAAAAAA0D9VVVVVVVXVPwAAAAAAAOA/AAAAAAAA8D8AAAAAAAAAQAAAAAAAAAhAAAAAAAAAEEA=\",\"dtype\":\"float64\",\"order\":\"little\",\"shape\":[7]},\"y\":{\"__ndarray__\":\"i5R7Ql19FkAxZrnB0hgSQDoUxHhGSBJAauayrlCBEUDBhFkOlGoIQDFaqmaiPghAskYjUkdOC0A=\",\"dtype\":\"float64\",\"order\":\"little\",\"shape\":[7]}},\"selected\":{\"id\":\"5179\"},\"selection_policy\":{\"id\":\"5178\"}},\"id\":\"5158\",\"type\":\"ColumnDataSource\"},{\"attributes\":{\"fill_alpha\":{\"value\":0.2},\"fill_color\":{\"value\":\"#18a3ac\"},\"hatch_alpha\":{\"value\":0.2},\"hatch_color\":{\"value\":\"#18a3ac\"},\"line_alpha\":{\"value\":0.2},\"line_color\":{\"value\":\"#18a3ac\"},\"line_width\":{\"value\":2},\"x\":{\"field\":\"x\"},\"y\":{\"field\":\"y\"}},\"id\":\"5167\",\"type\":\"Circle\"},{\"attributes\":{\"coordinates\":null,\"formatter\":{\"id\":\"5371\"},\"group\":null,\"major_label_policy\":{\"id\":\"5372\"},\"major_label_text_font_size\":\"10pt\",\"ticker\":{\"id\":\"4326\"}},\"id\":\"4325\",\"type\":\"LinearAxis\"},{\"attributes\":{\"line_alpha\":0.2,\"line_color\":\"#18a3ac\",\"line_width\":2,\"x\":{\"field\":\"x\"},\"y\":{\"field\":\"y\"}},\"id\":\"4771\",\"type\":\"Line\"},{\"attributes\":{},\"id\":\"5368\",\"type\":\"BasicTickFormatter\"},{\"attributes\":{\"coordinates\":null,\"data_source\":{\"id\":\"4768\"},\"glyph\":{\"id\":\"4769\"},\"group\":null,\"hover_glyph\":null,\"muted_glyph\":{\"id\":\"4771\"},\"nonselection_glyph\":{\"id\":\"4770\"},\"view\":{\"id\":\"4773\"}},\"id\":\"4772\",\"type\":\"GlyphRenderer\"},{\"attributes\":{},\"id\":\"4323\",\"type\":\"LinearScale\"},{\"attributes\":{\"bottom_units\":\"screen\",\"coordinates\":null,\"fill_alpha\":0.5,\"fill_color\":\"lightgrey\",\"group\":null,\"left_units\":\"screen\",\"level\":\"overlay\",\"line_alpha\":1.0,\"line_color\":\"black\",\"line_dash\":[4,4],\"line_width\":2,\"right_units\":\"screen\",\"syncable\":false,\"top_units\":\"screen\"},\"id\":\"4277\",\"type\":\"BoxAnnotation\"},{\"attributes\":{\"tools\":[{\"id\":\"4302\"},{\"id\":\"4303\"},{\"id\":\"4304\"},{\"id\":\"4305\"},{\"id\":\"4306\"},{\"id\":\"4307\"}]},\"id\":\"4309\",\"type\":\"Toolbar\"},{\"attributes\":{},\"id\":\"4397\",\"type\":\"AllLabels\"},{\"attributes\":{\"data\":{\"x\":{\"__ndarray__\":\"AAAAAAAA0D9VVVVVVVXVPwAAAAAAAOA/AAAAAAAA8D8AAAAAAAAAQAAAAAAAAAhAAAAAAAAAEEA=\",\"dtype\":\"float64\",\"order\":\"little\",\"shape\":[7]},\"y\":{\"__ndarray__\":\"omSL9Wf5IkAx7Yfwgg4fQPlJcR0GHhpA9rD1TBYICUBxPlixbMwBQF46N1G6Zfo/7KAhEjlc/j8=\",\"dtype\":\"float64\",\"order\":\"little\",\"shape\":[7]}},\"selected\":{\"id\":\"4984\"},\"selection_policy\":{\"id\":\"4983\"}},\"id\":\"4963\",\"type\":\"ColumnDataSource\"},{\"attributes\":{\"coordinates\":null,\"data_source\":{\"id\":\"4378\"},\"glyph\":{\"id\":\"4379\"},\"group\":null,\"hover_glyph\":null,\"muted_glyph\":{\"id\":\"4381\"},\"nonselection_glyph\":{\"id\":\"4380\"},\"view\":{\"id\":\"4383\"}},\"id\":\"4382\",\"type\":\"GlyphRenderer\"},{\"attributes\":{\"fill_alpha\":{\"value\":0.1},\"fill_color\":{\"value\":\"#18a3ac\"},\"hatch_alpha\":{\"value\":0.1},\"hatch_color\":{\"value\":\"#18a3ac\"},\"line_alpha\":{\"value\":0.1},\"line_color\":{\"value\":\"#18a3ac\"},\"line_width\":{\"value\":2},\"x\":{\"field\":\"x\"},\"y\":{\"field\":\"y\"}},\"id\":\"4776\",\"type\":\"Circle\"},{\"attributes\":{\"source\":{\"id\":\"5158\"}},\"id\":\"5163\",\"type\":\"CDSView\"},{\"attributes\":{\"coordinates\":null,\"data_source\":{\"id\":\"4774\"},\"glyph\":{\"id\":\"4775\"},\"group\":null,\"hover_glyph\":null,\"muted_glyph\":{\"id\":\"4777\"},\"nonselection_glyph\":{\"id\":\"4776\"},\"view\":{\"id\":\"4779\"}},\"id\":\"4778\",\"type\":\"GlyphRenderer\"},{\"attributes\":{},\"id\":\"4321\",\"type\":\"LinearScale\"},{\"attributes\":{\"source\":{\"id\":\"4378\"}},\"id\":\"4383\",\"type\":\"CDSView\"},{\"attributes\":{\"source\":{\"id\":\"4774\"}},\"id\":\"4779\",\"type\":\"CDSView\"},{\"attributes\":{\"fill_color\":{\"value\":\"#18a3ac\"},\"hatch_color\":{\"value\":\"#18a3ac\"},\"line_color\":{\"value\":\"#18a3ac\"},\"line_width\":{\"value\":2},\"x\":{\"field\":\"x\"},\"y\":{\"field\":\"y\"}},\"id\":\"5165\",\"type\":\"Circle\"},{\"attributes\":{\"fill_alpha\":{\"value\":0.1},\"fill_color\":{\"value\":\"#18a3ac\"},\"hatch_alpha\":{\"value\":0.1},\"hatch_color\":{\"value\":\"#18a3ac\"},\"line_alpha\":{\"value\":0.1},\"line_color\":{\"value\":\"#18a3ac\"},\"line_width\":{\"value\":2},\"x\":{\"field\":\"x\"},\"y\":{\"field\":\"y\"}},\"id\":\"5166\",\"type\":\"Circle\"},{\"attributes\":{\"coordinates\":null,\"formatter\":{\"id\":\"5368\"},\"group\":null,\"major_label_policy\":{\"id\":\"5369\"},\"major_label_text_font_size\":\"10pt\",\"ticker\":{\"id\":\"4330\"}},\"id\":\"4329\",\"type\":\"LinearAxis\"},{\"attributes\":{\"source\":{\"id\":\"4768\"}},\"id\":\"4773\",\"type\":\"CDSView\"},{\"attributes\":{},\"id\":\"4338\",\"type\":\"HelpTool\"},{\"attributes\":{\"data\":{\"x\":{\"__ndarray__\":\"AAAAAAAA0D9VVVVVVVXVPwAAAAAAAOA/AAAAAAAA8D8AAAAAAAAAQAAAAAAAAAhAAAAAAAAAEEA=\",\"dtype\":\"float64\",\"order\":\"little\",\"shape\":[7]},\"y\":{\"__ndarray__\":\"SjnBRwg7FEDifjsJMcUPQN33nVrIfQxAQiI5QddcDEC9GMBBxkAIQEc5h2OVCApAmrWXOUbcCEA=\",\"dtype\":\"float64\",\"order\":\"little\",\"shape\":[7]}},\"selected\":{\"id\":\"4791\"},\"selection_policy\":{\"id\":\"4790\"}},\"id\":\"4774\",\"type\":\"ColumnDataSource\"},{\"attributes\":{},\"id\":\"5374\",\"type\":\"Selection\"},{\"attributes\":{\"fill_color\":{\"value\":\"#18a3ac\"},\"hatch_color\":{\"value\":\"#18a3ac\"},\"line_color\":{\"value\":\"#18a3ac\"},\"line_width\":{\"value\":2},\"x\":{\"field\":\"x\"},\"y\":{\"field\":\"y\"}},\"id\":\"4580\",\"type\":\"Circle\"},{\"attributes\":{},\"id\":\"5376\",\"type\":\"Selection\"},{\"attributes\":{\"below\":[{\"id\":\"4325\"}],\"center\":[{\"id\":\"4328\"},{\"id\":\"4332\"}],\"height\":115,\"left\":[{\"id\":\"4329\"}],\"output_backend\":\"svg\",\"renderers\":[{\"id\":\"5357\"},{\"id\":\"5363\"}],\"title\":{\"id\":\"5365\"},\"toolbar\":{\"id\":\"4340\"},\"width\":144,\"x_range\":{\"id\":\"4317\"},\"x_scale\":{\"id\":\"4321\"},\"y_range\":{\"id\":\"4319\"},\"y_scale\":{\"id\":\"4323\"}},\"id\":\"4316\",\"subtype\":\"Figure\",\"type\":\"Plot\"},{\"attributes\":{\"axis\":{\"id\":\"4325\"},\"coordinates\":null,\"group\":null,\"ticker\":null},\"id\":\"4328\",\"type\":\"Grid\"},{\"attributes\":{\"line_color\":\"#18a3ac\",\"line_width\":2,\"x\":{\"field\":\"x\"},\"y\":{\"field\":\"y\"}},\"id\":\"4574\",\"type\":\"Line\"},{\"attributes\":{\"coordinates\":null,\"group\":null},\"id\":\"4585\",\"type\":\"Title\"},{\"attributes\":{\"axis\":{\"id\":\"4298\"},\"coordinates\":null,\"dimension\":1,\"group\":null,\"ticker\":null},\"id\":\"4301\",\"type\":\"Grid\"},{\"attributes\":{\"tools\":[{\"id\":\"4364\"},{\"id\":\"4365\"},{\"id\":\"4366\"},{\"id\":\"4367\"},{\"id\":\"4368\"},{\"id\":\"4369\"}]},\"id\":\"4371\",\"type\":\"Toolbar\"},{\"attributes\":{\"line_color\":\"#18a3ac\",\"line_width\":2,\"x\":{\"field\":\"x\"},\"y\":{\"field\":\"y\"}},\"id\":\"4379\",\"type\":\"Line\"},{\"attributes\":{},\"id\":\"5178\",\"type\":\"UnionRenderers\"},{\"attributes\":{\"axis\":{\"id\":\"4329\"},\"coordinates\":null,\"dimension\":1,\"group\":null,\"ticker\":null},\"id\":\"4332\",\"type\":\"Grid\"},{\"attributes\":{},\"id\":\"4398\",\"type\":\"UnionRenderers\"},{\"attributes\":{},\"id\":\"5375\",\"type\":\"UnionRenderers\"},{\"attributes\":{},\"id\":\"4303\",\"type\":\"WheelZoomTool\"},{\"attributes\":{},\"id\":\"4330\",\"type\":\"BasicTicker\"},{\"attributes\":{\"below\":[{\"id\":\"4356\"}],\"center\":[{\"id\":\"4359\"},{\"id\":\"4363\"}],\"height\":115,\"left\":[{\"id\":\"4360\"}],\"output_backend\":\"svg\",\"renderers\":[{\"id\":\"5552\"},{\"id\":\"5558\"}],\"title\":{\"id\":\"5560\"},\"toolbar\":{\"id\":\"4371\"},\"width\":144,\"x_range\":{\"id\":\"4348\"},\"x_scale\":{\"id\":\"4352\"},\"y_range\":{\"id\":\"4350\"},\"y_scale\":{\"id\":\"4354\"}},\"id\":\"4347\",\"subtype\":\"Figure\",\"type\":\"Plot\"},{\"attributes\":{\"end\":20},\"id\":\"4164\",\"type\":\"Range1d\"},{\"attributes\":{},\"id\":\"5179\",\"type\":\"Selection\"},{\"attributes\":{},\"id\":\"4302\",\"type\":\"PanTool\"},{\"attributes\":{},\"id\":\"4399\",\"type\":\"Selection\"},{\"attributes\":{},\"id\":\"4354\",\"type\":\"LinearScale\"},{\"attributes\":{},\"id\":\"4984\",\"type\":\"Selection\"},{\"attributes\":{\"end\":4.2},\"id\":\"4162\",\"type\":\"Range1d\"},{\"attributes\":{},\"id\":\"4334\",\"type\":\"WheelZoomTool\"},{\"attributes\":{\"coordinates\":null,\"formatter\":{\"id\":\"4393\"},\"group\":null,\"major_label_policy\":{\"id\":\"4394\"},\"major_label_text_font_size\":\"10pt\",\"ticker\":{\"id\":\"4175\"}},\"id\":\"4174\",\"type\":\"LinearAxis\"},{\"attributes\":{\"axis\":{\"id\":\"4294\"},\"coordinates\":null,\"group\":null,\"ticker\":null},\"id\":\"4297\",\"type\":\"Grid\"},{\"attributes\":{\"line_alpha\":0.2,\"line_color\":\"#18a3ac\",\"line_width\":2,\"x\":{\"field\":\"x\"},\"y\":{\"field\":\"y\"}},\"id\":\"4381\",\"type\":\"Line\"},{\"attributes\":{\"coordinates\":null,\"group\":null},\"id\":\"5170\",\"type\":\"Title\"},{\"attributes\":{},\"id\":\"4333\",\"type\":\"PanTool\"},{\"attributes\":{},\"id\":\"4168\",\"type\":\"LinearScale\"},{\"attributes\":{\"overlay\":{\"id\":\"4339\"}},\"id\":\"4335\",\"type\":\"BoxZoomTool\"},{\"attributes\":{\"coordinates\":null,\"formatter\":{\"id\":\"4396\"},\"group\":null,\"major_label_policy\":{\"id\":\"4397\"},\"major_label_text_font_size\":\"10pt\",\"ticker\":{\"id\":\"4171\"}},\"id\":\"4170\",\"type\":\"LinearAxis\"},{\"attributes\":{\"coordinates\":null,\"formatter\":{\"id\":\"5566\"},\"group\":null,\"major_label_policy\":{\"id\":\"5567\"},\"major_label_text_font_size\":\"10pt\",\"ticker\":{\"id\":\"4357\"}},\"id\":\"4356\",\"type\":\"LinearAxis\"},{\"attributes\":{\"line_alpha\":0.1,\"line_color\":\"#18a3ac\",\"line_width\":2,\"x\":{\"field\":\"x\"},\"y\":{\"field\":\"y\"}},\"id\":\"4380\",\"type\":\"Line\"},{\"attributes\":{},\"id\":\"4171\",\"type\":\"BasicTicker\"},{\"attributes\":{},\"id\":\"4336\",\"type\":\"SaveTool\"},{\"attributes\":{},\"id\":\"4594\",\"type\":\"Selection\"},{\"attributes\":{},\"id\":\"4166\",\"type\":\"LinearScale\"},{\"attributes\":{\"axis\":{\"id\":\"4356\"},\"coordinates\":null,\"group\":null,\"ticker\":null},\"id\":\"4359\",\"type\":\"Grid\"},{\"attributes\":{},\"id\":\"5177\",\"type\":\"AllLabels\"},{\"attributes\":{},\"id\":\"4179\",\"type\":\"WheelZoomTool\"},{\"attributes\":{},\"id\":\"4337\",\"type\":\"ResetTool\"},{\"attributes\":{},\"id\":\"4306\",\"type\":\"ResetTool\"},{\"attributes\":{},\"id\":\"4593\",\"type\":\"UnionRenderers\"},{\"attributes\":{\"coordinates\":null,\"group\":null},\"id\":\"5365\",\"type\":\"Title\"},{\"attributes\":{\"below\":[{\"id\":\"4263\"}],\"center\":[{\"id\":\"4266\"},{\"id\":\"4270\"}],\"height\":115,\"left\":[{\"id\":\"4267\"}],\"output_backend\":\"svg\",\"renderers\":[{\"id\":\"4967\"},{\"id\":\"4973\"}],\"title\":{\"id\":\"4975\"},\"toolbar\":{\"id\":\"4278\"},\"width\":144,\"x_range\":{\"id\":\"4255\"},\"x_scale\":{\"id\":\"4259\"},\"y_range\":{\"id\":\"4257\"},\"y_scale\":{\"id\":\"4261\"}},\"id\":\"4254\",\"subtype\":\"Figure\",\"type\":\"Plot\"},{\"attributes\":{\"coordinates\":null,\"formatter\":{\"id\":\"5173\"},\"group\":null,\"major_label_policy\":{\"id\":\"5174\"},\"major_label_text_font_size\":\"10pt\",\"ticker\":{\"id\":\"4299\"}},\"id\":\"4298\",\"type\":\"LinearAxis\"},{\"attributes\":{\"end\":4.2},\"id\":\"4286\",\"type\":\"Range1d\"},{\"attributes\":{},\"id\":\"5176\",\"type\":\"BasicTickFormatter\"},{\"attributes\":{},\"id\":\"4400\",\"type\":\"UnionRenderers\"},{\"attributes\":{},\"id\":\"4307\",\"type\":\"HelpTool\"},{\"attributes\":{\"data\":{\"x\":{\"__ndarray__\":\"AAAAAAAA0D9VVVVVVVXVPwAAAAAAAOA/AAAAAAAA8D8AAAAAAAAAQAAAAAAAAAhAAAAAAAAAEEA=\",\"dtype\":\"float64\",\"order\":\"little\",\"shape\":[7]},\"y\":{\"__ndarray__\":\"8ftAq/4OA0Bw+jD+zeMEQIvjCWsUzgZAaE8V2jYvD0COoDBIioYQQPpIGSP7txBArnAn950sEEA=\",\"dtype\":\"float64\",\"order\":\"little\",\"shape\":[7]}},\"selected\":{\"id\":\"5571\"},\"selection_policy\":{\"id\":\"5570\"}},\"id\":\"5554\",\"type\":\"ColumnDataSource\"},{\"attributes\":{\"bottom_units\":\"screen\",\"coordinates\":null,\"fill_alpha\":0.5,\"fill_color\":\"lightgrey\",\"group\":null,\"left_units\":\"screen\",\"level\":\"overlay\",\"line_alpha\":1.0,\"line_color\":\"black\",\"line_dash\":[4,4],\"line_width\":2,\"right_units\":\"screen\",\"syncable\":false,\"top_units\":\"screen\"},\"id\":\"4339\",\"type\":\"BoxAnnotation\"},{\"attributes\":{\"coordinates\":null,\"data_source\":{\"id\":\"5554\"},\"glyph\":{\"id\":\"5555\"},\"group\":null,\"hover_glyph\":null,\"muted_glyph\":{\"id\":\"5557\"},\"nonselection_glyph\":{\"id\":\"5556\"},\"view\":{\"id\":\"5559\"}},\"id\":\"5558\",\"type\":\"GlyphRenderer\"},{\"attributes\":{},\"id\":\"4178\",\"type\":\"PanTool\"},{\"attributes\":{},\"id\":\"5174\",\"type\":\"AllLabels\"},{\"attributes\":{\"line_alpha\":0.2,\"line_color\":\"#18a3ac\",\"line_width\":2,\"x\":{\"field\":\"x\"},\"y\":{\"field\":\"y\"}},\"id\":\"5551\",\"type\":\"Line\"},{\"attributes\":{},\"id\":\"4401\",\"type\":\"Selection\"},{\"attributes\":{},\"id\":\"4228\",\"type\":\"LinearScale\"},{\"attributes\":{},\"id\":\"5173\",\"type\":\"BasicTickFormatter\"},{\"attributes\":{\"line_alpha\":0.1,\"line_color\":\"#18a3ac\",\"line_width\":2,\"x\":{\"field\":\"x\"},\"y\":{\"field\":\"y\"}},\"id\":\"5550\",\"type\":\"Line\"},{\"attributes\":{\"coordinates\":null,\"data_source\":{\"id\":\"5548\"},\"glyph\":{\"id\":\"5549\"},\"group\":null,\"hover_glyph\":null,\"muted_glyph\":{\"id\":\"5551\"},\"nonselection_glyph\":{\"id\":\"5550\"},\"view\":{\"id\":\"5553\"}},\"id\":\"5552\",\"type\":\"GlyphRenderer\"},{\"attributes\":{\"overlay\":{\"id\":\"4184\"}},\"id\":\"4180\",\"type\":\"BoxZoomTool\"},{\"attributes\":{\"source\":{\"id\":\"5548\"}},\"id\":\"5553\",\"type\":\"CDSView\"},{\"attributes\":{\"fill_alpha\":{\"value\":0.1},\"fill_color\":{\"value\":\"#18a3ac\"},\"hatch_alpha\":{\"value\":0.1},\"hatch_color\":{\"value\":\"#18a3ac\"},\"line_alpha\":{\"value\":0.1},\"line_color\":{\"value\":\"#18a3ac\"},\"line_width\":{\"value\":2},\"x\":{\"field\":\"x\"},\"y\":{\"field\":\"y\"}},\"id\":\"5556\",\"type\":\"Circle\"},{\"attributes\":{},\"id\":\"4592\",\"type\":\"AllLabels\"},{\"attributes\":{\"data\":{\"x\":{\"__ndarray__\":\"AAAAAAAA0D9VVVVVVVXVPwAAAAAAAOA/AAAAAAAA8D8AAAAAAAAAQAAAAAAAAAhAAAAAAAAAEEA=\",\"dtype\":\"float64\",\"order\":\"little\",\"shape\":[7]},\"y\":{\"__ndarray__\":\"oxJ+AgnjAUCjSedgkBwDQLo0ZcMz7gVA1NLa9MsHC0DaBnN+O8kQQN9aCyMUpRJA+1WeNAHyEEA=\",\"dtype\":\"float64\",\"order\":\"little\",\"shape\":[7]}},\"selected\":{\"id\":\"5374\"},\"selection_policy\":{\"id\":\"5373\"}},\"id\":\"5353\",\"type\":\"ColumnDataSource\"},{\"attributes\":{},\"id\":\"4299\",\"type\":\"BasicTicker\"},{\"attributes\":{\"fill_color\":{\"value\":\"#18a3ac\"},\"hatch_color\":{\"value\":\"#18a3ac\"},\"line_color\":{\"value\":\"#18a3ac\"},\"line_width\":{\"value\":2},\"x\":{\"field\":\"x\"},\"y\":{\"field\":\"y\"}},\"id\":\"4385\",\"type\":\"Circle\"},{\"attributes\":{},\"id\":\"4181\",\"type\":\"SaveTool\"},{\"attributes\":{},\"id\":\"4305\",\"type\":\"SaveTool\"},{\"attributes\":{\"fill_alpha\":{\"value\":0.2},\"fill_color\":{\"value\":\"#18a3ac\"},\"hatch_alpha\":{\"value\":0.2},\"hatch_color\":{\"value\":\"#18a3ac\"},\"line_alpha\":{\"value\":0.2},\"line_color\":{\"value\":\"#18a3ac\"},\"line_width\":{\"value\":2},\"x\":{\"field\":\"x\"},\"y\":{\"field\":\"y\"}},\"id\":\"4387\",\"type\":\"Circle\"},{\"attributes\":{},\"id\":\"4591\",\"type\":\"BasicTickFormatter\"},{\"attributes\":{},\"id\":\"5373\",\"type\":\"UnionRenderers\"},{\"attributes\":{\"tools\":[{\"id\":\"4209\"},{\"id\":\"4210\"},{\"id\":\"4211\"},{\"id\":\"4212\"},{\"id\":\"4213\"},{\"id\":\"4214\"}]},\"id\":\"4216\",\"type\":\"Toolbar\"},{\"attributes\":{\"tools\":[{\"id\":\"4333\"},{\"id\":\"4334\"},{\"id\":\"4335\"},{\"id\":\"4336\"},{\"id\":\"4337\"},{\"id\":\"4338\"}]},\"id\":\"4340\",\"type\":\"Toolbar\"},{\"attributes\":{\"data\":{\"x\":{\"__ndarray__\":\"AAAAAAAA0D9VVVVVVVXVPwAAAAAAAOA/AAAAAAAA8D8AAAAAAAAAQAAAAAAAAAhAAAAAAAAAEEA=\",\"dtype\":\"float64\",\"order\":\"little\",\"shape\":[7]},\"y\":{\"__ndarray__\":\"l6eqj2PzIEAsegPf3I8hQOKxgOdIxxtA4bAENELhCEDrqQrl3V77P0VdtRIRx/U/tKtSOm/E+j8=\",\"dtype\":\"float64\",\"order\":\"little\",\"shape\":[7]}},\"selected\":{\"id\":\"4401\"},\"selection_policy\":{\"id\":\"4400\"}},\"id\":\"4384\",\"type\":\"ColumnDataSource\"},{\"attributes\":{\"source\":{\"id\":\"4573\"}},\"id\":\"4578\",\"type\":\"CDSView\"},{\"attributes\":{\"source\":{\"id\":\"5359\"}},\"id\":\"5364\",\"type\":\"CDSView\"},{\"attributes\":{},\"id\":\"4983\",\"type\":\"UnionRenderers\"},{\"attributes\":{\"coordinates\":null,\"data_source\":{\"id\":\"4384\"},\"glyph\":{\"id\":\"4385\"},\"group\":null,\"hover_glyph\":null,\"muted_glyph\":{\"id\":\"4387\"},\"nonselection_glyph\":{\"id\":\"4386\"},\"view\":{\"id\":\"4389\"}},\"id\":\"4388\",\"type\":\"GlyphRenderer\"},{\"attributes\":{\"end\":20},\"id\":\"4226\",\"type\":\"Range1d\"},{\"attributes\":{\"axis\":{\"id\":\"4263\"},\"coordinates\":null,\"group\":null,\"ticker\":null},\"id\":\"4266\",\"type\":\"Grid\"},{\"attributes\":{},\"id\":\"4182\",\"type\":\"ResetTool\"},{\"attributes\":{},\"id\":\"4589\",\"type\":\"AllLabels\"},{\"attributes\":{},\"id\":\"4237\",\"type\":\"BasicTicker\"},{\"attributes\":{\"coordinates\":null,\"data_source\":{\"id\":\"5359\"},\"glyph\":{\"id\":\"5360\"},\"group\":null,\"hover_glyph\":null,\"muted_glyph\":{\"id\":\"5362\"},\"nonselection_glyph\":{\"id\":\"5361\"},\"view\":{\"id\":\"5364\"}},\"id\":\"5363\",\"type\":\"GlyphRenderer\"},{\"attributes\":{\"data\":{\"x\":{\"__ndarray__\":\"AAAAAAAA0D9VVVVVVVXVPwAAAAAAAOA/AAAAAAAA8D8AAAAAAAAAQAAAAAAAAAhAAAAAAAAAEEA=\",\"dtype\":\"float64\",\"order\":\"little\",\"shape\":[7]},\"y\":{\"__ndarray__\":\"oxJ+AgnjAUCjSedgkBwDQLo0ZcMz7gVA1NLa9MsHC0DaBnN+O8kQQN9aCyMUpRJA+1WeNAHyEEA=\",\"dtype\":\"float64\",\"order\":\"little\",\"shape\":[7]}},\"selected\":{\"id\":\"5376\"},\"selection_policy\":{\"id\":\"5375\"}},\"id\":\"5359\",\"type\":\"ColumnDataSource\"},{\"attributes\":{},\"id\":\"5570\",\"type\":\"UnionRenderers\"},{\"attributes\":{},\"id\":\"4588\",\"type\":\"BasicTickFormatter\"},{\"attributes\":{\"axis\":{\"id\":\"4174\"},\"coordinates\":null,\"dimension\":1,\"group\":null,\"ticker\":null},\"id\":\"4177\",\"type\":\"Grid\"},{\"attributes\":{\"coordinates\":null,\"data_source\":{\"id\":\"5353\"},\"glyph\":{\"id\":\"5354\"},\"group\":null,\"hover_glyph\":null,\"muted_glyph\":{\"id\":\"5356\"},\"nonselection_glyph\":{\"id\":\"5355\"},\"view\":{\"id\":\"5358\"}},\"id\":\"5357\",\"type\":\"GlyphRenderer\"},{\"attributes\":{},\"id\":\"4352\",\"type\":\"LinearScale\"},{\"attributes\":{\"overlay\":{\"id\":\"4308\"}},\"id\":\"4304\",\"type\":\"BoxZoomTool\"},{\"attributes\":{},\"id\":\"5571\",\"type\":\"Selection\"},{\"attributes\":{\"coordinates\":null,\"formatter\":{\"id\":\"5176\"},\"group\":null,\"major_label_policy\":{\"id\":\"5177\"},\"major_label_text_font_size\":\"10pt\",\"ticker\":{\"id\":\"4295\"}},\"id\":\"4294\",\"type\":\"LinearAxis\"},{\"attributes\":{},\"id\":\"4183\",\"type\":\"HelpTool\"},{\"attributes\":{\"fill_alpha\":{\"value\":0.2},\"fill_color\":{\"value\":\"#18a3ac\"},\"hatch_alpha\":{\"value\":0.2},\"hatch_color\":{\"value\":\"#18a3ac\"},\"line_alpha\":{\"value\":0.2},\"line_color\":{\"value\":\"#18a3ac\"},\"line_width\":{\"value\":2},\"x\":{\"field\":\"x\"},\"y\":{\"field\":\"y\"}},\"id\":\"5362\",\"type\":\"Circle\"},{\"attributes\":{\"coordinates\":null,\"group\":null},\"id\":\"4390\",\"type\":\"Title\"},{\"attributes\":{},\"id\":\"4292\",\"type\":\"LinearScale\"},{\"attributes\":{\"line_alpha\":0.1,\"line_color\":\"#18a3ac\",\"line_width\":2,\"x\":{\"field\":\"x\"},\"y\":{\"field\":\"y\"}},\"id\":\"5355\",\"type\":\"Line\"},{\"attributes\":{\"end\":4.2},\"id\":\"4348\",\"type\":\"Range1d\"},{\"attributes\":{\"fill_alpha\":{\"value\":0.1},\"fill_color\":{\"value\":\"#18a3ac\"},\"hatch_alpha\":{\"value\":0.1},\"hatch_color\":{\"value\":\"#18a3ac\"},\"line_alpha\":{\"value\":0.1},\"line_color\":{\"value\":\"#18a3ac\"},\"line_width\":{\"value\":2},\"x\":{\"field\":\"x\"},\"y\":{\"field\":\"y\"}},\"id\":\"4581\",\"type\":\"Circle\"},{\"attributes\":{\"line_color\":\"#18a3ac\",\"line_width\":2,\"x\":{\"field\":\"x\"},\"y\":{\"field\":\"y\"}},\"id\":\"5549\",\"type\":\"Line\"},{\"attributes\":{},\"id\":\"4271\",\"type\":\"PanTool\"},{\"attributes\":{\"below\":[{\"id\":\"4232\"}],\"center\":[{\"id\":\"4235\"},{\"id\":\"4239\"}],\"height\":115,\"left\":[{\"id\":\"4236\"}],\"output_backend\":\"svg\",\"renderers\":[{\"id\":\"4772\"},{\"id\":\"4778\"}],\"title\":{\"id\":\"4780\"},\"toolbar\":{\"id\":\"4247\"},\"width\":144,\"x_range\":{\"id\":\"4224\"},\"x_scale\":{\"id\":\"4228\"},\"y_range\":{\"id\":\"4226\"},\"y_scale\":{\"id\":\"4230\"}},\"id\":\"4223\",\"subtype\":\"Figure\",\"type\":\"Plot\"},{\"attributes\":{},\"id\":\"4295\",\"type\":\"BasicTicker\"},{\"attributes\":{\"fill_alpha\":{\"value\":0.2},\"fill_color\":{\"value\":\"#18a3ac\"},\"hatch_alpha\":{\"value\":0.2},\"hatch_color\":{\"value\":\"#18a3ac\"},\"line_alpha\":{\"value\":0.2},\"line_color\":{\"value\":\"#18a3ac\"},\"line_width\":{\"value\":2},\"x\":{\"field\":\"x\"},\"y\":{\"field\":\"y\"}},\"id\":\"5557\",\"type\":\"Circle\"},{\"attributes\":{\"source\":{\"id\":\"5353\"}},\"id\":\"5358\",\"type\":\"CDSView\"},{\"attributes\":{},\"id\":\"4986\",\"type\":\"Selection\"},{\"attributes\":{\"end\":4.2},\"id\":\"4224\",\"type\":\"Range1d\"},{\"attributes\":{\"source\":{\"id\":\"5554\"}},\"id\":\"5559\",\"type\":\"CDSView\"},{\"attributes\":{},\"id\":\"4290\",\"type\":\"LinearScale\"},{\"attributes\":{\"line_alpha\":0.2,\"line_color\":\"#18a3ac\",\"line_width\":2,\"x\":{\"field\":\"x\"},\"y\":{\"field\":\"y\"}},\"id\":\"5356\",\"type\":\"Line\"},{\"attributes\":{\"end\":20},\"id\":\"4350\",\"type\":\"Range1d\"},{\"attributes\":{\"fill_alpha\":{\"value\":0.1},\"fill_color\":{\"value\":\"#18a3ac\"},\"hatch_alpha\":{\"value\":0.1},\"hatch_color\":{\"value\":\"#18a3ac\"},\"line_alpha\":{\"value\":0.1},\"line_color\":{\"value\":\"#18a3ac\"},\"line_width\":{\"value\":2},\"x\":{\"field\":\"x\"},\"y\":{\"field\":\"y\"}},\"id\":\"5361\",\"type\":\"Circle\"},{\"attributes\":{},\"id\":\"4985\",\"type\":\"UnionRenderers\"},{\"attributes\":{\"coordinates\":null,\"data_source\":{\"id\":\"4573\"},\"glyph\":{\"id\":\"4574\"},\"group\":null,\"hover_glyph\":null,\"muted_glyph\":{\"id\":\"4576\"},\"nonselection_glyph\":{\"id\":\"4575\"},\"view\":{\"id\":\"4578\"}},\"id\":\"4577\",\"type\":\"GlyphRenderer\"},{\"attributes\":{\"axis\":{\"id\":\"4236\"},\"coordinates\":null,\"dimension\":1,\"group\":null,\"ticker\":null},\"id\":\"4239\",\"type\":\"Grid\"},{\"attributes\":{\"data\":{\"x\":{\"__ndarray__\":\"AAAAAAAA0D9VVVVVVVXVPwAAAAAAAOA/AAAAAAAA8D8AAAAAAAAAQAAAAAAAAAhAAAAAAAAAEEA=\",\"dtype\":\"float64\",\"order\":\"little\",\"shape\":[7]},\"y\":{\"__ndarray__\":\"l6eqj2PzIEAsegPf3I8hQOKxgOdIxxtA4bAENELhCEDrqQrl3V77P0VdtRIRx/U/tKtSOm/E+j8=\",\"dtype\":\"float64\",\"order\":\"little\",\"shape\":[7]}},\"selected\":{\"id\":\"4399\"},\"selection_policy\":{\"id\":\"4398\"}},\"id\":\"4378\",\"type\":\"ColumnDataSource\"},{\"attributes\":{},\"id\":\"4175\",\"type\":\"BasicTicker\"},{\"attributes\":{\"line_color\":\"#18a3ac\",\"line_width\":2,\"x\":{\"field\":\"x\"},\"y\":{\"field\":\"y\"}},\"id\":\"5354\",\"type\":\"Line\"},{\"attributes\":{\"fill_color\":{\"value\":\"#18a3ac\"},\"hatch_color\":{\"value\":\"#18a3ac\"},\"line_color\":{\"value\":\"#18a3ac\"},\"line_width\":{\"value\":2},\"x\":{\"field\":\"x\"},\"y\":{\"field\":\"y\"}},\"id\":\"5360\",\"type\":\"Circle\"},{\"attributes\":{\"data\":{\"x\":{\"__ndarray__\":\"AAAAAAAA0D9VVVVVVVXVPwAAAAAAAOA/AAAAAAAA8D8AAAAAAAAAQAAAAAAAAAhAAAAAAAAAEEA=\",\"dtype\":\"float64\",\"order\":\"little\",\"shape\":[7]},\"y\":{\"__ndarray__\":\"8ftAq/4OA0Bw+jD+zeMEQIvjCWsUzgZAaE8V2jYvD0COoDBIioYQQPpIGSP7txBArnAn950sEEA=\",\"dtype\":\"float64\",\"order\":\"little\",\"shape\":[7]}},\"selected\":{\"id\":\"5569\"},\"selection_policy\":{\"id\":\"5568\"}},\"id\":\"5548\",\"type\":\"ColumnDataSource\"},{\"attributes\":{},\"id\":\"4357\",\"type\":\"BasicTicker\"},{\"attributes\":{},\"id\":\"5180\",\"type\":\"UnionRenderers\"},{\"attributes\":{\"coordinates\":null,\"formatter\":{\"id\":\"4783\"},\"group\":null,\"major_label_policy\":{\"id\":\"4784\"},\"major_label_text_font_size\":\"10pt\",\"ticker\":{\"id\":\"4237\"}},\"id\":\"4236\",\"type\":\"LinearAxis\"},{\"attributes\":{\"data\":{\"x\":{\"__ndarray__\":\"AAAAAAAA0D9VVVVVVVXVPwAAAAAAAOA/AAAAAAAA8D8AAAAAAAAAQAAAAAAAAAhAAAAAAAAAEEA=\",\"dtype\":\"float64\",\"order\":\"little\",\"shape\":[7]},\"y\":{\"__ndarray__\":\"0PbznwGgC0AlMTOq4DcFQBlfevUohxBAxuofzRxDD0Cg1vdZPtUBQFoPGIz6yPM/HbTjXnqM4D8=\",\"dtype\":\"float64\",\"order\":\"little\",\"shape\":[7]}},\"selected\":{\"id\":\"4596\"},\"selection_policy\":{\"id\":\"4595\"}},\"id\":\"4579\",\"type\":\"ColumnDataSource\"},{\"attributes\":{\"source\":{\"id\":\"5164\"}},\"id\":\"5169\",\"type\":\"CDSView\"},{\"attributes\":{\"below\":[{\"id\":\"4201\"}],\"center\":[{\"id\":\"4204\"},{\"id\":\"4208\"}],\"height\":115,\"left\":[{\"id\":\"4205\"}],\"output_backend\":\"svg\",\"renderers\":[{\"id\":\"4577\"},{\"id\":\"4583\"}],\"title\":{\"id\":\"4585\"},\"toolbar\":{\"id\":\"4216\"},\"width\":144,\"x_range\":{\"id\":\"4193\"},\"x_scale\":{\"id\":\"4197\"},\"y_range\":{\"id\":\"4195\"},\"y_scale\":{\"id\":\"4199\"}},\"id\":\"4192\",\"subtype\":\"Figure\",\"type\":\"Plot\"},{\"attributes\":{\"axis\":{\"id\":\"4170\"},\"coordinates\":null,\"group\":null,\"ticker\":null},\"id\":\"4173\",\"type\":\"Grid\"},{\"attributes\":{\"fill_alpha\":{\"value\":0.1},\"fill_color\":{\"value\":\"#18a3ac\"},\"hatch_alpha\":{\"value\":0.1},\"hatch_color\":{\"value\":\"#18a3ac\"},\"line_alpha\":{\"value\":0.1},\"line_color\":{\"value\":\"#18a3ac\"},\"line_width\":{\"value\":2},\"x\":{\"field\":\"x\"},\"y\":{\"field\":\"y\"}},\"id\":\"4386\",\"type\":\"Circle\"},{\"attributes\":{\"coordinates\":null,\"formatter\":{\"id\":\"4981\"},\"group\":null,\"major_label_policy\":{\"id\":\"4982\"},\"major_label_text_font_size\":\"10pt\",\"ticker\":{\"id\":\"4264\"}},\"id\":\"4263\",\"type\":\"LinearAxis\"},{\"attributes\":{\"source\":{\"id\":\"4384\"}},\"id\":\"4389\",\"type\":\"CDSView\"},{\"attributes\":{\"fill_color\":{\"value\":\"#18a3ac\"},\"hatch_color\":{\"value\":\"#18a3ac\"},\"line_color\":{\"value\":\"#18a3ac\"},\"line_width\":{\"value\":2},\"x\":{\"field\":\"x\"},\"y\":{\"field\":\"y\"}},\"id\":\"5555\",\"type\":\"Circle\"},{\"attributes\":{\"overlay\":{\"id\":\"4246\"}},\"id\":\"4242\",\"type\":\"BoxZoomTool\"},{\"attributes\":{},\"id\":\"4206\",\"type\":\"BasicTicker\"},{\"attributes\":{},\"id\":\"4240\",\"type\":\"PanTool\"},{\"attributes\":{\"line_color\":\"#18a3ac\",\"line_width\":2,\"x\":{\"field\":\"x\"},\"y\":{\"field\":\"y\"}},\"id\":\"4769\",\"type\":\"Line\"},{\"attributes\":{\"axis\":{\"id\":\"4201\"},\"coordinates\":null,\"group\":null,\"ticker\":null},\"id\":\"4204\",\"type\":\"Grid\"},{\"attributes\":{\"bottom_units\":\"screen\",\"coordinates\":null,\"fill_alpha\":0.5,\"fill_color\":\"lightgrey\",\"group\":null,\"left_units\":\"screen\",\"level\":\"overlay\",\"line_alpha\":1.0,\"line_color\":\"black\",\"line_dash\":[4,4],\"line_width\":2,\"right_units\":\"screen\",\"syncable\":false,\"top_units\":\"screen\"},\"id\":\"4246\",\"type\":\"BoxAnnotation\"},{\"attributes\":{},\"id\":\"4212\",\"type\":\"SaveTool\"},{\"attributes\":{},\"id\":\"4241\",\"type\":\"WheelZoomTool\"},{\"attributes\":{},\"id\":\"4982\",\"type\":\"AllLabels\"},{\"attributes\":{},\"id\":\"4789\",\"type\":\"Selection\"},{\"attributes\":{\"coordinates\":null,\"formatter\":{\"id\":\"4591\"},\"group\":null,\"major_label_policy\":{\"id\":\"4592\"},\"major_label_text_font_size\":\"10pt\",\"ticker\":{\"id\":\"4202\"}},\"id\":\"4201\",\"type\":\"LinearAxis\"},{\"attributes\":{},\"id\":\"5569\",\"type\":\"Selection\"},{\"attributes\":{\"end\":4.2},\"id\":\"4193\",\"type\":\"Range1d\"},{\"attributes\":{},\"id\":\"4981\",\"type\":\"BasicTickFormatter\"},{\"attributes\":{},\"id\":\"4788\",\"type\":\"UnionRenderers\"},{\"attributes\":{},\"id\":\"5568\",\"type\":\"UnionRenderers\"},{\"attributes\":{},\"id\":\"4979\",\"type\":\"AllLabels\"},{\"attributes\":{},\"id\":\"4978\",\"type\":\"BasicTickFormatter\"},{\"attributes\":{\"line_alpha\":0.2,\"line_color\":\"#18a3ac\",\"line_width\":2,\"x\":{\"field\":\"x\"},\"y\":{\"field\":\"y\"}},\"id\":\"4576\",\"type\":\"Line\"},{\"attributes\":{},\"id\":\"4787\",\"type\":\"AllLabels\"},{\"attributes\":{},\"id\":\"5567\",\"type\":\"AllLabels\"},{\"attributes\":{},\"id\":\"4595\",\"type\":\"UnionRenderers\"},{\"attributes\":{},\"id\":\"4786\",\"type\":\"BasicTickFormatter\"},{\"attributes\":{},\"id\":\"4244\",\"type\":\"ResetTool\"},{\"attributes\":{},\"id\":\"5566\",\"type\":\"BasicTickFormatter\"},{\"attributes\":{},\"id\":\"4790\",\"type\":\"UnionRenderers\"},{\"attributes\":{},\"id\":\"4784\",\"type\":\"AllLabels\"},{\"attributes\":{\"coordinates\":null,\"formatter\":{\"id\":\"4786\"},\"group\":null,\"major_label_policy\":{\"id\":\"4787\"},\"major_label_text_font_size\":\"10pt\",\"ticker\":{\"id\":\"4233\"}},\"id\":\"4232\",\"type\":\"LinearAxis\"},{\"attributes\":{},\"id\":\"4276\",\"type\":\"HelpTool\"},{\"attributes\":{},\"id\":\"5564\",\"type\":\"AllLabels\"},{\"attributes\":{},\"id\":\"4783\",\"type\":\"BasicTickFormatter\"},{\"attributes\":{},\"id\":\"5563\",\"type\":\"BasicTickFormatter\"},{\"attributes\":{},\"id\":\"4230\",\"type\":\"LinearScale\"},{\"attributes\":{},\"id\":\"4213\",\"type\":\"ResetTool\"},{\"attributes\":{\"below\":[{\"id\":\"4294\"}],\"center\":[{\"id\":\"4297\"},{\"id\":\"4301\"}],\"height\":115,\"left\":[{\"id\":\"4298\"}],\"output_backend\":\"svg\",\"renderers\":[{\"id\":\"5162\"},{\"id\":\"5168\"}],\"title\":{\"id\":\"5170\"},\"toolbar\":{\"id\":\"4309\"},\"width\":144,\"x_range\":{\"id\":\"4286\"},\"x_scale\":{\"id\":\"4290\"},\"y_range\":{\"id\":\"4288\"},\"y_scale\":{\"id\":\"4292\"}},\"id\":\"4285\",\"subtype\":\"Figure\",\"type\":\"Plot\"},{\"attributes\":{\"line_alpha\":0.1,\"line_color\":\"#18a3ac\",\"line_width\":2,\"x\":{\"field\":\"x\"},\"y\":{\"field\":\"y\"}},\"id\":\"4575\",\"type\":\"Line\"},{\"attributes\":{},\"id\":\"4596\",\"type\":\"Selection\"},{\"attributes\":{\"axis\":{\"id\":\"4232\"},\"coordinates\":null,\"group\":null,\"ticker\":null},\"id\":\"4235\",\"type\":\"Grid\"},{\"attributes\":{\"overlay\":{\"id\":\"4215\"}},\"id\":\"4211\",\"type\":\"BoxZoomTool\"},{\"attributes\":{},\"id\":\"4791\",\"type\":\"Selection\"},{\"attributes\":{},\"id\":\"4272\",\"type\":\"WheelZoomTool\"},{\"attributes\":{},\"id\":\"4209\",\"type\":\"PanTool\"},{\"attributes\":{\"end\":20},\"id\":\"4195\",\"type\":\"Range1d\"},{\"attributes\":{\"coordinates\":null,\"data_source\":{\"id\":\"4969\"},\"glyph\":{\"id\":\"4970\"},\"group\":null,\"hover_glyph\":null,\"muted_glyph\":{\"id\":\"4972\"},\"nonselection_glyph\":{\"id\":\"4971\"},\"view\":{\"id\":\"4974\"}},\"id\":\"4973\",\"type\":\"GlyphRenderer\"},{\"attributes\":{\"coordinates\":null,\"data_source\":{\"id\":\"4963\"},\"glyph\":{\"id\":\"4964\"},\"group\":null,\"hover_glyph\":null,\"muted_glyph\":{\"id\":\"4966\"},\"nonselection_glyph\":{\"id\":\"4965\"},\"view\":{\"id\":\"4968\"}},\"id\":\"4967\",\"type\":\"GlyphRenderer\"},{\"attributes\":{},\"id\":\"4259\",\"type\":\"LinearScale\"},{\"attributes\":{\"line_alpha\":0.1,\"line_color\":\"#18a3ac\",\"line_width\":2,\"x\":{\"field\":\"x\"},\"y\":{\"field\":\"y\"}},\"id\":\"4770\",\"type\":\"Line\"},{\"attributes\":{\"data\":{\"x\":{\"__ndarray__\":\"AAAAAAAA0D9VVVVVVVXVPwAAAAAAAOA/AAAAAAAA8D8AAAAAAAAAQAAAAAAAAAhAAAAAAAAAEEA=\",\"dtype\":\"float64\",\"order\":\"little\",\"shape\":[7]},\"y\":{\"__ndarray__\":\"0PbznwGgC0AlMTOq4DcFQBlfevUohxBAxuofzRxDD0Cg1vdZPtUBQFoPGIz6yPM/HbTjXnqM4D8=\",\"dtype\":\"float64\",\"order\":\"little\",\"shape\":[7]}},\"selected\":{\"id\":\"4594\"},\"selection_policy\":{\"id\":\"4593\"}},\"id\":\"4573\",\"type\":\"ColumnDataSource\"},{\"attributes\":{\"line_alpha\":0.2,\"line_color\":\"#18a3ac\",\"line_width\":2,\"x\":{\"field\":\"x\"},\"y\":{\"field\":\"y\"}},\"id\":\"4966\",\"type\":\"Line\"},{\"attributes\":{\"bottom_units\":\"screen\",\"coordinates\":null,\"fill_alpha\":0.5,\"fill_color\":\"lightgrey\",\"group\":null,\"left_units\":\"screen\",\"level\":\"overlay\",\"line_alpha\":1.0,\"line_color\":\"black\",\"line_dash\":[4,4],\"line_width\":2,\"right_units\":\"screen\",\"syncable\":false,\"top_units\":\"screen\"},\"id\":\"4184\",\"type\":\"BoxAnnotation\"},{\"attributes\":{},\"id\":\"4243\",\"type\":\"SaveTool\"},{\"attributes\":{\"fill_alpha\":{\"value\":0.1},\"fill_color\":{\"value\":\"#18a3ac\"},\"hatch_alpha\":{\"value\":0.1},\"hatch_color\":{\"value\":\"#18a3ac\"},\"line_alpha\":{\"value\":0.1},\"line_color\":{\"value\":\"#18a3ac\"},\"line_width\":{\"value\":2},\"x\":{\"field\":\"x\"},\"y\":{\"field\":\"y\"}},\"id\":\"4971\",\"type\":\"Circle\"},{\"attributes\":{\"source\":{\"id\":\"4969\"}},\"id\":\"4974\",\"type\":\"CDSView\"},{\"attributes\":{\"overlay\":{\"id\":\"4277\"}},\"id\":\"4273\",\"type\":\"BoxZoomTool\"},{\"attributes\":{\"fill_alpha\":{\"value\":0.2},\"fill_color\":{\"value\":\"#18a3ac\"},\"hatch_alpha\":{\"value\":0.2},\"hatch_color\":{\"value\":\"#18a3ac\"},\"line_alpha\":{\"value\":0.2},\"line_color\":{\"value\":\"#18a3ac\"},\"line_width\":{\"value\":2},\"x\":{\"field\":\"x\"},\"y\":{\"field\":\"y\"}},\"id\":\"4972\",\"type\":\"Circle\"},{\"attributes\":{},\"id\":\"4199\",\"type\":\"LinearScale\"},{\"attributes\":{\"line_alpha\":0.2,\"line_color\":\"#18a3ac\",\"line_width\":2,\"x\":{\"field\":\"x\"},\"y\":{\"field\":\"y\"}},\"id\":\"5161\",\"type\":\"Line\"},{\"attributes\":{},\"id\":\"4214\",\"type\":\"HelpTool\"},{\"attributes\":{\"source\":{\"id\":\"4963\"}},\"id\":\"4968\",\"type\":\"CDSView\"},{\"attributes\":{},\"id\":\"4197\",\"type\":\"LinearScale\"},{\"attributes\":{\"coordinates\":null,\"group\":null},\"id\":\"5560\",\"type\":\"Title\"},{\"attributes\":{\"end\":20},\"id\":\"4257\",\"type\":\"Range1d\"},{\"attributes\":{},\"id\":\"4245\",\"type\":\"HelpTool\"},{\"attributes\":{\"line_alpha\":0.1,\"line_color\":\"#18a3ac\",\"line_width\":2,\"x\":{\"field\":\"x\"},\"y\":{\"field\":\"y\"}},\"id\":\"5160\",\"type\":\"Line\"},{\"attributes\":{},\"id\":\"4202\",\"type\":\"BasicTicker\"},{\"attributes\":{\"fill_color\":{\"value\":\"#18a3ac\"},\"hatch_color\":{\"value\":\"#18a3ac\"},\"line_color\":{\"value\":\"#18a3ac\"},\"line_width\":{\"value\":2},\"x\":{\"field\":\"x\"},\"y\":{\"field\":\"y\"}},\"id\":\"4970\",\"type\":\"Circle\"},{\"attributes\":{},\"id\":\"4210\",\"type\":\"WheelZoomTool\"},{\"attributes\":{\"data\":{\"x\":{\"__ndarray__\":\"AAAAAAAA0D9VVVVVVVXVPwAAAAAAAOA/AAAAAAAA8D8AAAAAAAAAQAAAAAAAAAhAAAAAAAAAEEA=\",\"dtype\":\"float64\",\"order\":\"little\",\"shape\":[7]},\"y\":{\"__ndarray__\":\"omSL9Wf5IkAx7Yfwgg4fQPlJcR0GHhpA9rD1TBYICUBxPlixbMwBQF46N1G6Zfo/7KAhEjlc/j8=\",\"dtype\":\"float64\",\"order\":\"little\",\"shape\":[7]}},\"selected\":{\"id\":\"4986\"},\"selection_policy\":{\"id\":\"4985\"}},\"id\":\"4969\",\"type\":\"ColumnDataSource\"},{\"attributes\":{\"tools\":[{\"id\":\"4240\"},{\"id\":\"4241\"},{\"id\":\"4242\"},{\"id\":\"4243\"},{\"id\":\"4244\"},{\"id\":\"4245\"}]},\"id\":\"4247\",\"type\":\"Toolbar\"},{\"attributes\":{\"tools\":[{\"id\":\"4271\"},{\"id\":\"4272\"},{\"id\":\"4273\"},{\"id\":\"4274\"},{\"id\":\"4275\"},{\"id\":\"4276\"}]},\"id\":\"4278\",\"type\":\"Toolbar\"},{\"attributes\":{\"end\":4.2},\"id\":\"4255\",\"type\":\"Range1d\"},{\"attributes\":{\"tools\":[{\"id\":\"4178\"},{\"id\":\"4179\"},{\"id\":\"4180\"},{\"id\":\"4181\"},{\"id\":\"4182\"},{\"id\":\"4183\"}]},\"id\":\"4185\",\"type\":\"Toolbar\"},{\"attributes\":{},\"id\":\"4261\",\"type\":\"LinearScale\"},{\"attributes\":{\"axis\":{\"id\":\"4205\"},\"coordinates\":null,\"dimension\":1,\"group\":null,\"ticker\":null},\"id\":\"4208\",\"type\":\"Grid\"},{\"attributes\":{},\"id\":\"4274\",\"type\":\"SaveTool\"},{\"attributes\":{\"coordinates\":null,\"formatter\":{\"id\":\"4588\"},\"group\":null,\"major_label_policy\":{\"id\":\"4589\"},\"major_label_text_font_size\":\"10pt\",\"ticker\":{\"id\":\"4206\"}},\"id\":\"4205\",\"type\":\"LinearAxis\"},{\"attributes\":{},\"id\":\"4367\",\"type\":\"SaveTool\"},{\"attributes\":{\"bottom_units\":\"screen\",\"coordinates\":null,\"fill_alpha\":0.5,\"fill_color\":\"lightgrey\",\"group\":null,\"left_units\":\"screen\",\"level\":\"overlay\",\"line_alpha\":1.0,\"line_color\":\"black\",\"line_dash\":[4,4],\"line_width\":2,\"right_units\":\"screen\",\"syncable\":false,\"top_units\":\"screen\"},\"id\":\"4215\",\"type\":\"BoxAnnotation\"},{\"attributes\":{},\"id\":\"4326\",\"type\":\"BasicTicker\"},{\"attributes\":{\"fill_alpha\":{\"value\":0.2},\"fill_color\":{\"value\":\"#18a3ac\"},\"hatch_alpha\":{\"value\":0.2},\"hatch_color\":{\"value\":\"#18a3ac\"},\"line_alpha\":{\"value\":0.2},\"line_color\":{\"value\":\"#18a3ac\"},\"line_width\":{\"value\":2},\"x\":{\"field\":\"x\"},\"y\":{\"field\":\"y\"}},\"id\":\"4582\",\"type\":\"Circle\"},{\"attributes\":{},\"id\":\"4275\",\"type\":\"ResetTool\"},{\"attributes\":{},\"id\":\"4233\",\"type\":\"BasicTicker\"},{\"attributes\":{},\"id\":\"4368\",\"type\":\"ResetTool\"},{\"attributes\":{\"coordinates\":null,\"group\":null},\"id\":\"4975\",\"type\":\"Title\"},{\"attributes\":{\"coordinates\":null,\"group\":null},\"id\":\"4780\",\"type\":\"Title\"},{\"attributes\":{\"source\":{\"id\":\"4579\"}},\"id\":\"4584\",\"type\":\"CDSView\"},{\"attributes\":{\"coordinates\":null,\"data_source\":{\"id\":\"4579\"},\"glyph\":{\"id\":\"4580\"},\"group\":null,\"hover_glyph\":null,\"muted_glyph\":{\"id\":\"4582\"},\"nonselection_glyph\":{\"id\":\"4581\"},\"view\":{\"id\":\"4584\"}},\"id\":\"4583\",\"type\":\"GlyphRenderer\"},{\"attributes\":{\"data\":{\"x\":{\"__ndarray__\":\"AAAAAAAA0D9VVVVVVVXVPwAAAAAAAOA/AAAAAAAA8D8AAAAAAAAAQAAAAAAAAAhAAAAAAAAAEEA=\",\"dtype\":\"float64\",\"order\":\"little\",\"shape\":[7]},\"y\":{\"__ndarray__\":\"SjnBRwg7FEDifjsJMcUPQN33nVrIfQxAQiI5QddcDEC9GMBBxkAIQEc5h2OVCApAmrWXOUbcCEA=\",\"dtype\":\"float64\",\"order\":\"little\",\"shape\":[7]}},\"selected\":{\"id\":\"4789\"},\"selection_policy\":{\"id\":\"4788\"}},\"id\":\"4768\",\"type\":\"ColumnDataSource\"}],\"root_ids\":[\"5743\"]},\"title\":\"Bokeh Application\",\"version\":\"2.4.1\"}};\n",
       "  const render_items = [{\"docid\":\"f007bacc-57cc-497e-a11d-a8c94005b8aa\",\"root_ids\":[\"5743\"],\"roots\":{\"5743\":\"294fd33c-8c2f-4f4e-9e96-fc1d006d4406\"}}];\n",
       "  root.Bokeh.embed.embed_items_notebook(docs_json, render_items);\n",
       "\n",
       "  }\n",
       "  if (root.Bokeh !== undefined) {\n",
       "    embed_document(root);\n",
       "  } else {\n",
       "    let attempts = 0;\n",
       "    const timer = setInterval(function(root) {\n",
       "      if (root.Bokeh !== undefined) {\n",
       "        clearInterval(timer);\n",
       "        embed_document(root);\n",
       "      } else {\n",
       "        attempts++;\n",
       "        if (attempts > 100) {\n",
       "          clearInterval(timer);\n",
       "          console.log(\"Bokeh: ERROR: Unable to run BokehJS code because BokehJS library is missing\");\n",
       "        }\n",
       "      }\n",
       "    }, 10, root)\n",
       "  }\n",
       "})(window);"
      ],
      "application/vnd.bokehjs_exec.v0+json": ""
     },
     "metadata": {
      "application/vnd.bokehjs_exec.v0+json": {
       "id": "5743"
      }
     },
     "output_type": "display_data"
    }
   ],
   "source": [
    "# Set up plots\n",
    "# For two digits 260 by 115 larger and 144 by 115 for half size\n",
    "# For three digits 266 by 115 larger and 150 by 115 for half size\n",
    "fig_size = [144, 115] # for paper size (260/115), half size (144,115), visualize (600/200)\n",
    "\n",
    "x_range = (0, 4.2)\n",
    "y_range = (0, 20)\n",
    "\n",
    "\n",
    "plots = []\n",
    "for i in range(out.shape[0]-1):\n",
    "    #print(i)\n",
    "    plots.append(bokeh.plotting.figure(plot_width=fig_size[0], plot_height=fig_size[1],\n",
    "                          x_range=x_range,y_range=y_range\n",
    "                          ),)\n",
    "    plots[i].axis.major_label_text_font_size = \"10pt\"\n",
    "\n",
    "color=\"#18a3ac\"    \n",
    "for i in range(out.shape[0]-1):\n",
    "    plots[i].line(out[0,1:], out[i+1,1:], line_width=2, alpha= 1, line_join=\"bevel\",color=color)\n",
    "    plots[i].circle(out[0,1:], out[i+1,1:], line_width=2, alpha= 1, line_join=\"bevel\",color=color)\n",
    "    #plots[i].xaxis.ticker = list(np.linspace(0,4,5))\n",
    "    #plots[i].x_range = Range1d(0, 4)\n",
    "    plots[i].output_backend = \"svg\"\n",
    "    export_svgs(plots[i],filename=\"fig/Sensitivity_Param_\" + str(out[i+1,0]) + \".svg\")\n",
    "\n",
    "bokeh.io.show(bokeh.layouts.row(plots))"
   ]
  },
  {
   "cell_type": "code",
   "execution_count": null,
   "metadata": {},
   "outputs": [],
   "source": []
  }
 ],
 "metadata": {
  "colab": {
   "collapsed_sections": [],
   "name": "Oscillator_PR_Design.ipynb",
   "provenance": []
  },
  "kernelspec": {
   "display_name": "Python 3 (ipykernel)",
   "language": "python",
   "name": "python3"
  },
  "language_info": {
   "codemirror_mode": {
    "name": "ipython",
    "version": 3
   },
   "file_extension": ".py",
   "mimetype": "text/x-python",
   "name": "python",
   "nbconvert_exporter": "python",
   "pygments_lexer": "ipython3",
   "version": "3.9.7"
  }
 },
 "nbformat": 4,
 "nbformat_minor": 4
}
