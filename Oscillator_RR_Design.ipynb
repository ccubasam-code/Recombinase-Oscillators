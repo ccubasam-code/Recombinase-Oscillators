{
 "cells": [
  {
   "cell_type": "markdown",
   "metadata": {
    "id": "knIklix4oThN"
   },
   "source": [
    "# Stochastic Analysis of a simple Repressor-Recombinase oscillator: RR Design\n",
    "\n",
    "In this Jupyterbook, we implement the Gilleaspy algorithm of a recombinase-based oscillator at a single copy "
   ]
  },
  {
   "cell_type": "code",
   "execution_count": 7,
   "metadata": {
    "colab": {
     "base_uri": "https://localhost:8080/"
    },
    "executionInfo": {
     "elapsed": 39958,
     "status": "ok",
     "timestamp": 1652456254835,
     "user": {
      "displayName": "Christian Cuba",
      "userId": "05812622177105967845"
     },
     "user_tz": 240
    },
    "id": "lHy71zVrtgCI",
    "outputId": "cae1a9e1-4d86-43f7-e4bb-345be1e6f948"
   },
   "outputs": [
    {
     "data": {
      "text/html": [
       "\n",
       "    <div class=\"bk-root\">\n",
       "        <a href=\"https://bokeh.org\" target=\"_blank\" class=\"bk-logo bk-logo-small bk-logo-notebook\"></a>\n",
       "        <span id=\"3774\">Loading BokehJS ...</span>\n",
       "    </div>"
      ]
     },
     "metadata": {},
     "output_type": "display_data"
    },
    {
     "data": {
      "application/javascript": [
       "\n",
       "(function(root) {\n",
       "  function now() {\n",
       "    return new Date();\n",
       "  }\n",
       "\n",
       "  const force = true;\n",
       "\n",
       "  if (typeof root._bokeh_onload_callbacks === \"undefined\" || force === true) {\n",
       "    root._bokeh_onload_callbacks = [];\n",
       "    root._bokeh_is_loading = undefined;\n",
       "  }\n",
       "\n",
       "  const JS_MIME_TYPE = 'application/javascript';\n",
       "  const HTML_MIME_TYPE = 'text/html';\n",
       "  const EXEC_MIME_TYPE = 'application/vnd.bokehjs_exec.v0+json';\n",
       "  const CLASS_NAME = 'output_bokeh rendered_html';\n",
       "\n",
       "  /**\n",
       "   * Render data to the DOM node\n",
       "   */\n",
       "  function render(props, node) {\n",
       "    const script = document.createElement(\"script\");\n",
       "    node.appendChild(script);\n",
       "  }\n",
       "\n",
       "  /**\n",
       "   * Handle when an output is cleared or removed\n",
       "   */\n",
       "  function handleClearOutput(event, handle) {\n",
       "    const cell = handle.cell;\n",
       "\n",
       "    const id = cell.output_area._bokeh_element_id;\n",
       "    const server_id = cell.output_area._bokeh_server_id;\n",
       "    // Clean up Bokeh references\n",
       "    if (id != null && id in Bokeh.index) {\n",
       "      Bokeh.index[id].model.document.clear();\n",
       "      delete Bokeh.index[id];\n",
       "    }\n",
       "\n",
       "    if (server_id !== undefined) {\n",
       "      // Clean up Bokeh references\n",
       "      const cmd_clean = \"from bokeh.io.state import curstate; print(curstate().uuid_to_server['\" + server_id + \"'].get_sessions()[0].document.roots[0]._id)\";\n",
       "      cell.notebook.kernel.execute(cmd_clean, {\n",
       "        iopub: {\n",
       "          output: function(msg) {\n",
       "            const id = msg.content.text.trim();\n",
       "            if (id in Bokeh.index) {\n",
       "              Bokeh.index[id].model.document.clear();\n",
       "              delete Bokeh.index[id];\n",
       "            }\n",
       "          }\n",
       "        }\n",
       "      });\n",
       "      // Destroy server and session\n",
       "      const cmd_destroy = \"import bokeh.io.notebook as ion; ion.destroy_server('\" + server_id + \"')\";\n",
       "      cell.notebook.kernel.execute(cmd_destroy);\n",
       "    }\n",
       "  }\n",
       "\n",
       "  /**\n",
       "   * Handle when a new output is added\n",
       "   */\n",
       "  function handleAddOutput(event, handle) {\n",
       "    const output_area = handle.output_area;\n",
       "    const output = handle.output;\n",
       "\n",
       "    // limit handleAddOutput to display_data with EXEC_MIME_TYPE content only\n",
       "    if ((output.output_type != \"display_data\") || (!Object.prototype.hasOwnProperty.call(output.data, EXEC_MIME_TYPE))) {\n",
       "      return\n",
       "    }\n",
       "\n",
       "    const toinsert = output_area.element.find(\".\" + CLASS_NAME.split(' ')[0]);\n",
       "\n",
       "    if (output.metadata[EXEC_MIME_TYPE][\"id\"] !== undefined) {\n",
       "      toinsert[toinsert.length - 1].firstChild.textContent = output.data[JS_MIME_TYPE];\n",
       "      // store reference to embed id on output_area\n",
       "      output_area._bokeh_element_id = output.metadata[EXEC_MIME_TYPE][\"id\"];\n",
       "    }\n",
       "    if (output.metadata[EXEC_MIME_TYPE][\"server_id\"] !== undefined) {\n",
       "      const bk_div = document.createElement(\"div\");\n",
       "      bk_div.innerHTML = output.data[HTML_MIME_TYPE];\n",
       "      const script_attrs = bk_div.children[0].attributes;\n",
       "      for (let i = 0; i < script_attrs.length; i++) {\n",
       "        toinsert[toinsert.length - 1].firstChild.setAttribute(script_attrs[i].name, script_attrs[i].value);\n",
       "        toinsert[toinsert.length - 1].firstChild.textContent = bk_div.children[0].textContent\n",
       "      }\n",
       "      // store reference to server id on output_area\n",
       "      output_area._bokeh_server_id = output.metadata[EXEC_MIME_TYPE][\"server_id\"];\n",
       "    }\n",
       "  }\n",
       "\n",
       "  function register_renderer(events, OutputArea) {\n",
       "\n",
       "    function append_mime(data, metadata, element) {\n",
       "      // create a DOM node to render to\n",
       "      const toinsert = this.create_output_subarea(\n",
       "        metadata,\n",
       "        CLASS_NAME,\n",
       "        EXEC_MIME_TYPE\n",
       "      );\n",
       "      this.keyboard_manager.register_events(toinsert);\n",
       "      // Render to node\n",
       "      const props = {data: data, metadata: metadata[EXEC_MIME_TYPE]};\n",
       "      render(props, toinsert[toinsert.length - 1]);\n",
       "      element.append(toinsert);\n",
       "      return toinsert\n",
       "    }\n",
       "\n",
       "    /* Handle when an output is cleared or removed */\n",
       "    events.on('clear_output.CodeCell', handleClearOutput);\n",
       "    events.on('delete.Cell', handleClearOutput);\n",
       "\n",
       "    /* Handle when a new output is added */\n",
       "    events.on('output_added.OutputArea', handleAddOutput);\n",
       "\n",
       "    /**\n",
       "     * Register the mime type and append_mime function with output_area\n",
       "     */\n",
       "    OutputArea.prototype.register_mime_type(EXEC_MIME_TYPE, append_mime, {\n",
       "      /* Is output safe? */\n",
       "      safe: true,\n",
       "      /* Index of renderer in `output_area.display_order` */\n",
       "      index: 0\n",
       "    });\n",
       "  }\n",
       "\n",
       "  // register the mime type if in Jupyter Notebook environment and previously unregistered\n",
       "  if (root.Jupyter !== undefined) {\n",
       "    const events = require('base/js/events');\n",
       "    const OutputArea = require('notebook/js/outputarea').OutputArea;\n",
       "\n",
       "    if (OutputArea.prototype.mime_types().indexOf(EXEC_MIME_TYPE) == -1) {\n",
       "      register_renderer(events, OutputArea);\n",
       "    }\n",
       "  }\n",
       "\n",
       "  \n",
       "  if (typeof (root._bokeh_timeout) === \"undefined\" || force === true) {\n",
       "    root._bokeh_timeout = Date.now() + 5000;\n",
       "    root._bokeh_failed_load = false;\n",
       "  }\n",
       "\n",
       "  const NB_LOAD_WARNING = {'data': {'text/html':\n",
       "     \"<div style='background-color: #fdd'>\\n\"+\n",
       "     \"<p>\\n\"+\n",
       "     \"BokehJS does not appear to have successfully loaded. If loading BokehJS from CDN, this \\n\"+\n",
       "     \"may be due to a slow or bad network connection. Possible fixes:\\n\"+\n",
       "     \"</p>\\n\"+\n",
       "     \"<ul>\\n\"+\n",
       "     \"<li>re-rerun `output_notebook()` to attempt to load from CDN again, or</li>\\n\"+\n",
       "     \"<li>use INLINE resources instead, as so:</li>\\n\"+\n",
       "     \"</ul>\\n\"+\n",
       "     \"<code>\\n\"+\n",
       "     \"from bokeh.resources import INLINE\\n\"+\n",
       "     \"output_notebook(resources=INLINE)\\n\"+\n",
       "     \"</code>\\n\"+\n",
       "     \"</div>\"}};\n",
       "\n",
       "  function display_loaded() {\n",
       "    const el = document.getElementById(\"3774\");\n",
       "    if (el != null) {\n",
       "      el.textContent = \"BokehJS is loading...\";\n",
       "    }\n",
       "    if (root.Bokeh !== undefined) {\n",
       "      if (el != null) {\n",
       "        el.textContent = \"BokehJS \" + root.Bokeh.version + \" successfully loaded.\";\n",
       "      }\n",
       "    } else if (Date.now() < root._bokeh_timeout) {\n",
       "      setTimeout(display_loaded, 100)\n",
       "    }\n",
       "  }\n",
       "\n",
       "\n",
       "  function run_callbacks() {\n",
       "    try {\n",
       "      root._bokeh_onload_callbacks.forEach(function(callback) {\n",
       "        if (callback != null)\n",
       "          callback();\n",
       "      });\n",
       "    } finally {\n",
       "      delete root._bokeh_onload_callbacks\n",
       "    }\n",
       "    console.debug(\"Bokeh: all callbacks have finished\");\n",
       "  }\n",
       "\n",
       "  function load_libs(css_urls, js_urls, callback) {\n",
       "    if (css_urls == null) css_urls = [];\n",
       "    if (js_urls == null) js_urls = [];\n",
       "\n",
       "    root._bokeh_onload_callbacks.push(callback);\n",
       "    if (root._bokeh_is_loading > 0) {\n",
       "      console.debug(\"Bokeh: BokehJS is being loaded, scheduling callback at\", now());\n",
       "      return null;\n",
       "    }\n",
       "    if (js_urls == null || js_urls.length === 0) {\n",
       "      run_callbacks();\n",
       "      return null;\n",
       "    }\n",
       "    console.debug(\"Bokeh: BokehJS not loaded, scheduling load and callback at\", now());\n",
       "    root._bokeh_is_loading = css_urls.length + js_urls.length;\n",
       "\n",
       "    function on_load() {\n",
       "      root._bokeh_is_loading--;\n",
       "      if (root._bokeh_is_loading === 0) {\n",
       "        console.debug(\"Bokeh: all BokehJS libraries/stylesheets loaded\");\n",
       "        run_callbacks()\n",
       "      }\n",
       "    }\n",
       "\n",
       "    function on_error(url) {\n",
       "      console.error(\"failed to load \" + url);\n",
       "    }\n",
       "\n",
       "    for (let i = 0; i < css_urls.length; i++) {\n",
       "      const url = css_urls[i];\n",
       "      const element = document.createElement(\"link\");\n",
       "      element.onload = on_load;\n",
       "      element.onerror = on_error.bind(null, url);\n",
       "      element.rel = \"stylesheet\";\n",
       "      element.type = \"text/css\";\n",
       "      element.href = url;\n",
       "      console.debug(\"Bokeh: injecting link tag for BokehJS stylesheet: \", url);\n",
       "      document.body.appendChild(element);\n",
       "    }\n",
       "\n",
       "    for (let i = 0; i < js_urls.length; i++) {\n",
       "      const url = js_urls[i];\n",
       "      const element = document.createElement('script');\n",
       "      element.onload = on_load;\n",
       "      element.onerror = on_error.bind(null, url);\n",
       "      element.async = false;\n",
       "      element.src = url;\n",
       "      console.debug(\"Bokeh: injecting script tag for BokehJS library: \", url);\n",
       "      document.head.appendChild(element);\n",
       "    }\n",
       "  };\n",
       "\n",
       "  function inject_raw_css(css) {\n",
       "    const element = document.createElement(\"style\");\n",
       "    element.appendChild(document.createTextNode(css));\n",
       "    document.body.appendChild(element);\n",
       "  }\n",
       "\n",
       "  \n",
       "  const js_urls = [\"https://cdn.bokeh.org/bokeh/release/bokeh-2.4.1.min.js\", \"https://cdn.bokeh.org/bokeh/release/bokeh-gl-2.4.1.min.js\", \"https://cdn.bokeh.org/bokeh/release/bokeh-widgets-2.4.1.min.js\", \"https://cdn.bokeh.org/bokeh/release/bokeh-tables-2.4.1.min.js\", \"https://cdn.bokeh.org/bokeh/release/bokeh-mathjax-2.4.1.min.js\"];\n",
       "  const css_urls = [];\n",
       "  \n",
       "\n",
       "  const inline_js = [\n",
       "    function(Bokeh) {\n",
       "      Bokeh.set_log_level(\"info\");\n",
       "    },\n",
       "    function(Bokeh) {\n",
       "    \n",
       "    \n",
       "    }\n",
       "  ];\n",
       "\n",
       "  function run_inline_js() {\n",
       "    \n",
       "    if (root.Bokeh !== undefined || force === true) {\n",
       "      \n",
       "    for (let i = 0; i < inline_js.length; i++) {\n",
       "      inline_js[i].call(root, root.Bokeh);\n",
       "    }\n",
       "    if (force === true) {\n",
       "        display_loaded();\n",
       "      }} else if (Date.now() < root._bokeh_timeout) {\n",
       "      setTimeout(run_inline_js, 100);\n",
       "    } else if (!root._bokeh_failed_load) {\n",
       "      console.log(\"Bokeh: BokehJS failed to load within specified timeout.\");\n",
       "      root._bokeh_failed_load = true;\n",
       "    } else if (force !== true) {\n",
       "      const cell = $(document.getElementById(\"3774\")).parents('.cell').data().cell;\n",
       "      cell.output_area.append_execute_result(NB_LOAD_WARNING)\n",
       "    }\n",
       "\n",
       "  }\n",
       "\n",
       "  if (root._bokeh_is_loading === 0) {\n",
       "    console.debug(\"Bokeh: BokehJS loaded, going straight to plotting\");\n",
       "    run_inline_js();\n",
       "  } else {\n",
       "    load_libs(css_urls, js_urls, function() {\n",
       "      console.debug(\"Bokeh: BokehJS plotting callback run at\", now());\n",
       "      run_inline_js();\n",
       "    });\n",
       "  }\n",
       "}(window));"
      ],
      "application/vnd.bokehjs_load.v0+json": "\n(function(root) {\n  function now() {\n    return new Date();\n  }\n\n  const force = true;\n\n  if (typeof root._bokeh_onload_callbacks === \"undefined\" || force === true) {\n    root._bokeh_onload_callbacks = [];\n    root._bokeh_is_loading = undefined;\n  }\n\n  \n\n  \n  if (typeof (root._bokeh_timeout) === \"undefined\" || force === true) {\n    root._bokeh_timeout = Date.now() + 5000;\n    root._bokeh_failed_load = false;\n  }\n\n  const NB_LOAD_WARNING = {'data': {'text/html':\n     \"<div style='background-color: #fdd'>\\n\"+\n     \"<p>\\n\"+\n     \"BokehJS does not appear to have successfully loaded. If loading BokehJS from CDN, this \\n\"+\n     \"may be due to a slow or bad network connection. Possible fixes:\\n\"+\n     \"</p>\\n\"+\n     \"<ul>\\n\"+\n     \"<li>re-rerun `output_notebook()` to attempt to load from CDN again, or</li>\\n\"+\n     \"<li>use INLINE resources instead, as so:</li>\\n\"+\n     \"</ul>\\n\"+\n     \"<code>\\n\"+\n     \"from bokeh.resources import INLINE\\n\"+\n     \"output_notebook(resources=INLINE)\\n\"+\n     \"</code>\\n\"+\n     \"</div>\"}};\n\n  function display_loaded() {\n    const el = document.getElementById(\"3774\");\n    if (el != null) {\n      el.textContent = \"BokehJS is loading...\";\n    }\n    if (root.Bokeh !== undefined) {\n      if (el != null) {\n        el.textContent = \"BokehJS \" + root.Bokeh.version + \" successfully loaded.\";\n      }\n    } else if (Date.now() < root._bokeh_timeout) {\n      setTimeout(display_loaded, 100)\n    }\n  }\n\n\n  function run_callbacks() {\n    try {\n      root._bokeh_onload_callbacks.forEach(function(callback) {\n        if (callback != null)\n          callback();\n      });\n    } finally {\n      delete root._bokeh_onload_callbacks\n    }\n    console.debug(\"Bokeh: all callbacks have finished\");\n  }\n\n  function load_libs(css_urls, js_urls, callback) {\n    if (css_urls == null) css_urls = [];\n    if (js_urls == null) js_urls = [];\n\n    root._bokeh_onload_callbacks.push(callback);\n    if (root._bokeh_is_loading > 0) {\n      console.debug(\"Bokeh: BokehJS is being loaded, scheduling callback at\", now());\n      return null;\n    }\n    if (js_urls == null || js_urls.length === 0) {\n      run_callbacks();\n      return null;\n    }\n    console.debug(\"Bokeh: BokehJS not loaded, scheduling load and callback at\", now());\n    root._bokeh_is_loading = css_urls.length + js_urls.length;\n\n    function on_load() {\n      root._bokeh_is_loading--;\n      if (root._bokeh_is_loading === 0) {\n        console.debug(\"Bokeh: all BokehJS libraries/stylesheets loaded\");\n        run_callbacks()\n      }\n    }\n\n    function on_error(url) {\n      console.error(\"failed to load \" + url);\n    }\n\n    for (let i = 0; i < css_urls.length; i++) {\n      const url = css_urls[i];\n      const element = document.createElement(\"link\");\n      element.onload = on_load;\n      element.onerror = on_error.bind(null, url);\n      element.rel = \"stylesheet\";\n      element.type = \"text/css\";\n      element.href = url;\n      console.debug(\"Bokeh: injecting link tag for BokehJS stylesheet: \", url);\n      document.body.appendChild(element);\n    }\n\n    for (let i = 0; i < js_urls.length; i++) {\n      const url = js_urls[i];\n      const element = document.createElement('script');\n      element.onload = on_load;\n      element.onerror = on_error.bind(null, url);\n      element.async = false;\n      element.src = url;\n      console.debug(\"Bokeh: injecting script tag for BokehJS library: \", url);\n      document.head.appendChild(element);\n    }\n  };\n\n  function inject_raw_css(css) {\n    const element = document.createElement(\"style\");\n    element.appendChild(document.createTextNode(css));\n    document.body.appendChild(element);\n  }\n\n  \n  const js_urls = [\"https://cdn.bokeh.org/bokeh/release/bokeh-2.4.1.min.js\", \"https://cdn.bokeh.org/bokeh/release/bokeh-gl-2.4.1.min.js\", \"https://cdn.bokeh.org/bokeh/release/bokeh-widgets-2.4.1.min.js\", \"https://cdn.bokeh.org/bokeh/release/bokeh-tables-2.4.1.min.js\", \"https://cdn.bokeh.org/bokeh/release/bokeh-mathjax-2.4.1.min.js\"];\n  const css_urls = [];\n  \n\n  const inline_js = [\n    function(Bokeh) {\n      Bokeh.set_log_level(\"info\");\n    },\n    function(Bokeh) {\n    \n    \n    }\n  ];\n\n  function run_inline_js() {\n    \n    if (root.Bokeh !== undefined || force === true) {\n      \n    for (let i = 0; i < inline_js.length; i++) {\n      inline_js[i].call(root, root.Bokeh);\n    }\n    if (force === true) {\n        display_loaded();\n      }} else if (Date.now() < root._bokeh_timeout) {\n      setTimeout(run_inline_js, 100);\n    } else if (!root._bokeh_failed_load) {\n      console.log(\"Bokeh: BokehJS failed to load within specified timeout.\");\n      root._bokeh_failed_load = true;\n    } else if (force !== true) {\n      const cell = $(document.getElementById(\"3774\")).parents('.cell').data().cell;\n      cell.output_area.append_execute_result(NB_LOAD_WARNING)\n    }\n\n  }\n\n  if (root._bokeh_is_loading === 0) {\n    console.debug(\"Bokeh: BokehJS loaded, going straight to plotting\");\n    run_inline_js();\n  } else {\n    load_libs(css_urls, js_urls, function() {\n      console.debug(\"Bokeh: BokehJS plotting callback run at\", now());\n      run_inline_js();\n    });\n  }\n}(window));"
     },
     "metadata": {},
     "output_type": "display_data"
    }
   ],
   "source": [
    "# Colab setup\n",
    "import os, sys, subprocess\n",
    "if \"google.colab\" in sys.modules:\n",
    "    cmd = \"pip install --upgrade biocircuits bokeh-catplot watermark blackcellmagic\"\n",
    "    process = subprocess.Popen(cmd.split(), stdout=subprocess.PIPE, stderr=subprocess.PIPE)\n",
    "    stdout, stderr = process.communicate()\n",
    "  \n",
    "    from google.colab import drive\n",
    "    drive.mount('/content/drive')\n",
    "    dir = \"/content/drive/My Drive/Research/2022/RecombinaseOscillator/RepressorRecombinase/\"\n",
    "else:\n",
    "    dir = \"/Users/christian/My Drive/Research/2022/RecombinaseOscillator/RepressorRecombinase/\"\n",
    "\n",
    "# ------\n",
    "\n",
    "# This check the number of processors in the computer\n",
    "#% cat /proc/cpuinfo | grep processor | wc -l\n",
    "\n",
    "# % pip install biocircuits bokeh-catplot watermark blackcellmagic\n",
    "import multiprocessing\n",
    "import tqdm\n",
    "\n",
    "import numpy as np\n",
    "import scipy.stats as st\n",
    "import numba\n",
    "import math\n",
    "\n",
    "from scipy.signal import argrelextrema\n",
    "import scipy.fftpack\n",
    "import os.path\n",
    "\n",
    "import biocircuits\n",
    "\n",
    "# Plotting modules\n",
    "import bokeh.io\n",
    "import bokeh.plotting\n",
    "from bokeh.models import LinearColorMapper, ColorBar\n",
    "from bokeh.io import export_svgs\n",
    "\n",
    "bokeh.io.output_notebook()"
   ]
  },
  {
   "cell_type": "markdown",
   "metadata": {
    "id": "t1ZRViwkEJaW"
   },
   "source": [
    "We start by writing a function to create two matrices of differense size by placing them in a diagonal [A, 0 ; 0, B]"
   ]
  },
  {
   "cell_type": "code",
   "execution_count": 8,
   "metadata": {
    "id": "mBdSOG9ZswrO"
   },
   "outputs": [],
   "source": [
    "def JoinMatrices(A,B):\n",
    "    n1, m1 = A.shape\n",
    "    n2, m2 = B.shape\n",
    "    ZA = np.zeros((n1,m2))\n",
    "    ZB = np.zeros((n2,m1))\n",
    "    tmp1 = np.hstack((A,ZA))\n",
    "    tmp2 = np.hstack((ZB,B)) \n",
    "    return np.vstack((tmp1,tmp2))"
   ]
  },
  {
   "cell_type": "markdown",
   "metadata": {
    "id": "ter4mBGhEJaX"
   },
   "source": [
    "Next, we write down the stoichiometry matrices for all the reactions. We beging with the stoichiometry matrix for a single switch $S_1$, and then use the function \"Join Matrixes\" to create the stoichiometry matrix for two switches $S_2$. $S_2$ represent the promoter pointing to the right and the left. Therefore, we also add the transition between these two states (the last part of the code)."
   ]
  },
  {
   "cell_type": "code",
   "execution_count": 9,
   "metadata": {
    "id": "lZiIkHTMuCdq"
   },
   "outputs": [],
   "source": [
    "# Stoichiometry  matrix of a single switch\n",
    "# R00, R10, R01, R11\n",
    "S1 = np.array(\n",
    "    [\n",
    "     [-1, 1, 0, 0],  # R00 -> R10\n",
    "     [ 1, -1, 0, 0], # R10 -> R00 \n",
    "     [ 0, -1, 0, 1], # R10 -> R11\n",
    "     [ 0, 1, 0, -1], # R11 -> R10\n",
    "\n",
    "     [-1, 0, 1, 0],  # R00 -> R01\n",
    "     [ 1, 0, -1, 0], # R01 -> R00 \n",
    "     [ 0, 0, -1, 1], # R01 -> R11\n",
    "     [ 0, 0, 1, -1], # R11 -> R01 \n",
    "\n",
    "     [ 0, 0,  0, -1], # R11 -> L00\n",
    "    ],\n",
    "    dtype=int,\n",
    ")\n",
    "# Stoichiometry  matrix of two switches\n",
    "S2 = JoinMatrices(S1,S1)\n",
    "S2[8,4] = 1\n",
    "S2[17,0] = 1\n",
    "#print(S2)"
   ]
  },
  {
   "cell_type": "markdown",
   "metadata": {
    "id": "_dFyMswMEJaa"
   },
   "source": [
    "Now, we describe the stoichiometry matrix $S_3$. it describe the trsnscription of mRNA recombinase, translation of recombianse, and the decays of mRNA and protein. It also incorporates the heterodimer formation between both recombinases $S_4$. In addition, it updates the number of recombinases require for each flip. Finally, we define the transcription, translation, and decays of mRNA and protein of repressprs $S_5$. Combining all of them results in the stoichiometry matrix of the whole system."
   ]
  },
  {
   "cell_type": "code",
   "execution_count": 10,
   "metadata": {
    "colab": {
     "base_uri": "https://localhost:8080/"
    },
    "executionInfo": {
     "elapsed": 13,
     "status": "ok",
     "timestamp": 1652456254837,
     "user": {
      "displayName": "Christian Cuba",
      "userId": "05812622177105967845"
     },
     "user_tz": 240
    },
    "id": "e_Siugd85ioK",
    "outputId": "d85f7ab8-ebe3-4a56-8fe3-ef4660394f1d"
   },
   "outputs": [
    {
     "name": "stdout",
     "output_type": "stream",
     "text": [
      "(35, 15)\n",
      "(47, 23)\n"
     ]
    }
   ],
   "source": [
    "# Stoichiometry  matrix of transcription and translation\n",
    "# m1, x1, y1, m2, x2, y2, c\n",
    "S3 = np.array(\n",
    "    [\n",
    "     [ 1, 0, 0, 0, 0, 0, 0], # m1 production (TX)\n",
    "     [-1, 0, 0, 0, 0, 0, 0], # m1 decay\n",
    "     [ 0, 1, 0, 0, 0, 0, 0], # x1 production (TL)\n",
    "     [ 0,-1, 0, 0, 0, 0, 0], # x1 decay\n",
    "     [ 0,-2, 1, 0, 0, 0, 0], # y1 production (dimerization)\n",
    "     [ 0, 2,-1, 0, 0, 0, 0], # y1 dissociation\n",
    "     [ 0, 0,-1, 0, 0, 0, 0], # y1 decay\n",
    "\n",
    "     [ 0, 0, 0, 1, 0, 0, 0], # m2 production (TX)\n",
    "     [ 0, 0, 0,-1, 0, 0, 0], # m2 decay\n",
    "     [ 0, 0, 0, 0, 1, 0, 0], # x2 production (TL)\n",
    "     [ 0, 0, 0, 0,-1, 0, 0], # x2 decay\n",
    "     [ 0, 0, 0, 0,-2, 1, 0], # y2 production (dimerization)\n",
    "     [ 0, 0, 0, 0, 2,-1, 0], # y2 dissociation\n",
    "     [ 0, 0, 0, 0, 0,-1, 0], # y2 decay\n",
    "\n",
    "     [ 0,-1, 0, 0,-1, 0, 1], # c production (heterodimer formation)\n",
    "     [ 0, 1, 0, 0, 1, 0,-1], # c heterodimer dissociation\n",
    "     [ 0, 0, 0, 0, 0, 0,-1], # c decay\n",
    "    ],\n",
    "    dtype=int,\n",
    ")\n",
    "# Stoichiometry  matrix of two switches\n",
    "S4 = JoinMatrices(S2,S3)\n",
    "# Updating the consumption of recombinase in the switches\n",
    "S0 = np.array(\n",
    "    [\n",
    "     [-1, 1, -1, 1,-1, 1, -1, 1, 2],  # R00 -> R10\n",
    "    ],\n",
    "    dtype=int,\n",
    ")\n",
    "S4[0:9,10] = S0\n",
    "S4[9:18,13] = S0\n",
    "\n",
    "S5 = np.array(\n",
    "    [\n",
    "     [ 1, 0, 0, 0], # mRNA production Repressor (TX)\n",
    "     [-1, 0, 0, 0], # mRNA decay\n",
    "        \n",
    "     [ 0, 1, 0, 0], # Repressor production (TL)\n",
    "     [ 0,-1, 0, 0], # Protein decay\n",
    "        \n",
    "     [ 0,-1,-1, 1], # Protein and promoter binding\n",
    "     [ 0, 1, 1,-1], # Protein and promoter binding\n",
    " \n",
    "    ],\n",
    "    dtype=int,\n",
    ")\n",
    "\n",
    "simple_update = JoinMatrices(S4,JoinMatrices(S5,S5))\n",
    "\n",
    "#print(simple_update)\n",
    "print(S4.shape)\n",
    "print(simple_update.shape)"
   ]
  },
  {
   "cell_type": "markdown",
   "metadata": {
    "id": "JwNLfyoUEJac"
   },
   "source": [
    "In this part of the code, we write down the propensity of all reactions. In addition, we convert the rates from concentration to molecules throught the parameter Omega. "
   ]
  },
  {
   "cell_type": "code",
   "execution_count": 11,
   "metadata": {
    "id": "q1mIj035Nts5"
   },
   "outputs": [],
   "source": [
    "def simple_propensity(propensities, x, t, th, rh, ph, d, g, gd, a0, d0, r, b, rh2, aR, dR, Omega, n):\n",
    "    #x, y, c = population\n",
    "    # Switch 1 (Promoter pointing to the right R)\n",
    "    propensities[0] = a0 * x[0] * x[10]  / Omega # R00 -> R10\n",
    "    propensities[1] = d0 * x[1] # R10 -> R00\n",
    "    propensities[2] = a0 * x[1] * x[10]  / Omega # R10 -> R11\n",
    "    propensities[3] = d0 * x[3] # R11 -> R10\n",
    "    propensities[4] = a0 * x[0] * x[10]  / Omega # R00 -> R01\n",
    "    propensities[5] = d0 * x[2] # R01 -> R00\n",
    "    propensities[6] = a0 * x[2] * x[10]  / Omega # R01 -> R11\n",
    "    propensities[7] = d0 * x[3] # R11 -> R01\n",
    "    propensities[8] = r * x[3] # R11 -> L00\n",
    "\n",
    "    # Switch 2 (Promoter pointing to the left L)\n",
    "    propensities[ 9] = a0 * x[4] * x[13]  / Omega # L00 -> L10\n",
    "    propensities[10] = d0 * x[5] # L10 -> L00\n",
    "    propensities[11] = a0 * x[5] * x[13]  / Omega # R10 -> R11\n",
    "    propensities[12] = d0 * x[7] # R11 -> R10\n",
    "    propensities[13] = a0 * x[4] * x[13]  / Omega # R00 -> R01\n",
    "    propensities[14] = d0 * x[6] # R01 -> R00\n",
    "    propensities[15] = a0 * x[6] * x[13]  / Omega # R01 -> R11\n",
    "    propensities[16] = d0 * x[7] # R11 -> R01\n",
    "    propensities[17] = r * x[7] # R11 -> L00\n",
    "\n",
    "    # TX-TL of recombinase 1\n",
    "    propensities[18] = th * x[21] # R00 -> R00 + M1\n",
    "    propensities[19] = ph * x[8] # M1 -> 0\n",
    "    propensities[20] = rh * x[8] # M1 -> M1 + X1\n",
    "    propensities[21] = d * x[9] # X1 -> 0\n",
    "    propensities[22] = g * x[9] * (x[9]-1)  / 2 / Omega # X1 + X1 -> Y1\n",
    "    propensities[23] = gd * x[10] # Y1 -> X1 + X1\n",
    "    propensities[24] = d * x[10] # Y1 -> 0\n",
    "\n",
    "    # TX-TL of recombinase 2\n",
    "    propensities[25] = th * x[17] # L00 -> L00 + M2\n",
    "    propensities[26] = ph * x[11] # M2 -> 0\n",
    "    propensities[27] = rh * x[11] # M2 -> M2 + X2\n",
    "    propensities[28] = d * x[12] # X2 -> 0\n",
    "    propensities[29] = g * x[12] * (x[12]-1)  / 2 / Omega # X2 + X2 -> Y2\n",
    "    propensities[30] = gd * x[13] # Y2 -> X2 + X2\n",
    "    propensities[31] = d * x[13] # Y2 -> 0\n",
    "\n",
    "    # Heterodimmer reaction\n",
    "    propensities[32] = g * x[9] * x[12] / Omega # L00 -> L00 + M2\n",
    "    propensities[33] = gd * x[14] # M2 -> 0\n",
    "    propensities[34] = d * x[14] # M2 -> M2 + X2 \n",
    "    \n",
    "    # Repressor 1\n",
    "    propensities[35] = b * x[0] # mRNA Y1 repressor 1 (TX)\n",
    "    propensities[36] = ph * x[15] # mRNA Y1 -> 0\n",
    "    propensities[37] = rh2 * x[15] # mRNA -> mRNA + Y1 (TL) \n",
    "    propensities[38] = d * x[16] # Y1 decay \n",
    "    propensities[39] = aR * x[16] * x[17] / Omega # Y1 + Promoter -> Complrc\n",
    "    propensities[40] = dR * x[18] # Unbindg from complex -> Y1 + Promoter \n",
    "\n",
    "    # Repressor 2\n",
    "    propensities[41] = b * x[4] # mRNA Y2 repressor 2 (TX)\n",
    "    propensities[42] = ph * x[19] # mRNA -> 0\n",
    "    propensities[43] = rh2 * x[19] # mRNA -> mRNA + Y2 (TL) \n",
    "    propensities[44] = d * x[20] # Y2 decay \n",
    "    propensities[45] = aR * x[20] * x[21] / Omega # Y2 + Promoter -> Complrc\n",
    "    propensities[46] = dR * x[22] # Unbindg from complex -> Y1 + Promoter "
   ]
  },
  {
   "cell_type": "markdown",
   "metadata": {
    "id": "dPCwCeauEJae"
   },
   "source": [
    "Now, we are ready to realize the stochastic simulations of the whole system."
   ]
  },
  {
   "cell_type": "code",
   "execution_count": 17,
   "metadata": {
    "colab": {
     "base_uri": "https://localhost:8080/",
     "height": 217
    },
    "executionInfo": {
     "elapsed": 13846,
     "status": "ok",
     "timestamp": 1652456347291,
     "user": {
      "displayName": "Christian Cuba",
      "userId": "05812622177105967845"
     },
     "user_tz": 240
    },
    "id": "WPPDzJe6SOOL",
    "outputId": "ac3964a7-18b8-4c4c-f63a-84fca79a3f02"
   },
   "outputs": [
    {
     "data": {
      "text/html": [
       "\n",
       "\n",
       "\n",
       "\n",
       "\n",
       "\n",
       "  <div class=\"bk-root\" id=\"ff035a3d-7976-4f83-868a-0db35942377b\" data-root-id=\"5941\"></div>\n"
      ]
     },
     "metadata": {},
     "output_type": "display_data"
    },
    {
     "data": {
      "application/javascript": [
       "(function(root) {\n",
       "  function embed_document(root) {\n",
       "    \n",
       "  const docs_json = {\"abe68c97-c88d-4a11-80a7-1ea544072cbe\":{\"defs\":[],\"roots\":{\"references\":[{\"attributes\":{\"children\":[{\"id\":\"5898\"}]},\"id\":\"5941\",\"type\":\"Row\"},{\"attributes\":{\"coordinates\":null,\"group\":null},\"id\":\"6106\",\"type\":\"Title\"},{\"attributes\":{\"source\":{\"id\":\"5929\"}},\"id\":\"5934\",\"type\":\"CDSView\"},{\"attributes\":{},\"id\":\"5916\",\"type\":\"WheelZoomTool\"},{\"attributes\":{\"coordinates\":null,\"data_source\":{\"id\":\"5929\"},\"glyph\":{\"id\":\"5930\"},\"group\":null,\"hover_glyph\":null,\"muted_glyph\":{\"id\":\"5932\"},\"nonselection_glyph\":{\"id\":\"5931\"},\"view\":{\"id\":\"5934\"}},\"id\":\"5933\",\"type\":\"GlyphRenderer\"},{\"attributes\":{},\"id\":\"5918\",\"type\":\"SaveTool\"},{\"attributes\":{\"line_alpha\":0.2,\"line_color\":\"orange\",\"line_width\":2,\"x\":{\"field\":\"x\"},\"y\":{\"field\":\"y\"}},\"id\":\"5938\",\"type\":\"Step\"},{\"attributes\":{},\"id\":\"5912\",\"type\":\"BasicTicker\"},{\"attributes\":{\"line_color\":\"grey\",\"line_width\":2,\"x\":{\"field\":\"x\"},\"y\":{\"field\":\"y\"}},\"id\":\"5930\",\"type\":\"Step\"},{\"attributes\":{\"overlay\":{\"id\":\"5921\"}},\"id\":\"5917\",\"type\":\"BoxZoomTool\"},{\"attributes\":{},\"id\":\"5908\",\"type\":\"BasicTicker\"},{\"attributes\":{},\"id\":\"6109\",\"type\":\"BasicTickFormatter\"},{\"attributes\":{\"axis\":{\"id\":\"5907\"},\"coordinates\":null,\"group\":null,\"ticker\":null},\"id\":\"5910\",\"type\":\"Grid\"},{\"attributes\":{\"bottom_units\":\"screen\",\"coordinates\":null,\"fill_alpha\":0.5,\"fill_color\":\"lightgrey\",\"group\":null,\"left_units\":\"screen\",\"level\":\"overlay\",\"line_alpha\":1.0,\"line_color\":\"black\",\"line_dash\":[4,4],\"line_width\":2,\"right_units\":\"screen\",\"syncable\":false,\"top_units\":\"screen\"},\"id\":\"5921\",\"type\":\"BoxAnnotation\"},{\"attributes\":{\"line_alpha\":0.1,\"line_color\":\"orange\",\"line_width\":2,\"x\":{\"field\":\"x\"},\"y\":{\"field\":\"y\"}},\"id\":\"5937\",\"type\":\"Step\"},{\"attributes\":{},\"id\":\"6110\",\"type\":\"AllLabels\"},{\"attributes\":{\"line_color\":\"orange\",\"line_width\":2,\"x\":{\"field\":\"x\"},\"y\":{\"field\":\"y\"}},\"id\":\"5936\",\"type\":\"Step\"},{\"attributes\":{},\"id\":\"5915\",\"type\":\"PanTool\"},{\"attributes\":{},\"id\":\"5919\",\"type\":\"ResetTool\"},{\"attributes\":{},\"id\":\"5905\",\"type\":\"LinearScale\"},{\"attributes\":{},\"id\":\"6112\",\"type\":\"BasicTickFormatter\"},{\"attributes\":{\"below\":[{\"id\":\"5907\"}],\"center\":[{\"id\":\"5910\"},{\"id\":\"5914\"}],\"height\":200,\"left\":[{\"id\":\"5911\"}],\"renderers\":[{\"id\":\"5933\"},{\"id\":\"5939\"}],\"title\":{\"id\":\"6106\"},\"toolbar\":{\"id\":\"5922\"},\"x_range\":{\"id\":\"5899\"},\"x_scale\":{\"id\":\"5903\"},\"y_range\":{\"id\":\"5901\"},\"y_scale\":{\"id\":\"5905\"}},\"id\":\"5898\",\"subtype\":\"Figure\",\"type\":\"Plot\"},{\"attributes\":{},\"id\":\"5899\",\"type\":\"DataRange1d\"},{\"attributes\":{\"data\":{\"x\":{\"__ndarray__\":\"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\",\"dtype\":\"float64\",\"order\":\"little\",\"shape\":[401]},\"y\":[0,0,3,13,21,36,55,61,76,102,117,126,129,115,100,93,97,103,106,94,94,106,94,94,92,95,88,75,62,53,43,36,31,25,26,28,33,33,32,23,19,19,15,16,17,21,19,15,10,10,8,7,8,6,8,8,13,15,17,29,38,43,44,63,74,71,81,79,82,82,81,76,70,70,62,57,47,44,38,33,27,24,21,17,15,12,11,9,6,5,5,3,3,3,3,2,1,1,0,0,0,0,0,0,0,1,2,1,1,2,2,2,2,2,2,2,2,2,2,2,1,2,1,0,1,1,11,20,27,34,44,41,40,40,41,35,33,25,19,15,14,14,13,13,11,16,20,34,56,68,82,74,69,70,79,77,71,80,83,74,79,90,99,99,116,118,108,115,114,110,110,101,92,90,80,72,61,56,52,48,37,32,31,27,21,15,12,11,12,8,7,6,5,6,5,5,4,4,3,2,4,6,4,3,5,4,4,4,2,3,2,2,2,2,5,13,11,13,17,15,14,12,13,13,12,12,8,7,6,5,5,10,11,15,16,16,21,21,21,19,28,29,36,47,45,49,42,42,46,49,57,56,60,53,52,49,39,35,38,38,32,32,38,47,64,64,75,78,75,75,70,64,56,52,50,43,42,42,29,29,25,19,12,8,8,10,8,10,10,12,8,7,6,4,4,5,4,2,2,2,1,1,4,5,7,6,6,7,9,9,12,16,16,15,19,27,20,25,25,25,20,20,19,24,28,33,37,40,38,37,35,31,30,32,41,40,33,32,31,32,29,28,39,42,41,44,42,37,34,34,31,29,27,21,15,23,31,27,33,41,40,44,46,60,63,68,63,61,53,57,44,39,43,41,44,37,32,22,21,17,15,13,12,16,22,24,21,25,21,22,21,19,14,10,10,12,22,28,27,18,17]},\"selected\":{\"id\":\"6115\"},\"selection_policy\":{\"id\":\"6114\"}},\"id\":\"5929\",\"type\":\"ColumnDataSource\"},{\"attributes\":{\"coordinates\":null,\"formatter\":{\"id\":\"6112\"},\"group\":null,\"major_label_policy\":{\"id\":\"6113\"},\"major_label_text_font_size\":\"10pt\",\"ticker\":{\"id\":\"5908\"}},\"id\":\"5907\",\"type\":\"LinearAxis\"},{\"attributes\":{},\"id\":\"6114\",\"type\":\"UnionRenderers\"},{\"attributes\":{\"data\":{\"x\":{\"__ndarray__\":\"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\",\"dtype\":\"float64\",\"order\":\"little\",\"shape\":[401]},\"y\":[0,0,1,3,5,8,8,12,13,13,13,15,17,24,28,26,24,26,23,21,21,19,15,21,20,18,25,28,37,57,65,64,76,70,64,57,55,69,73,78,81,73,77,67,63,60,59,56,57,62,63,55,48,36,29,27,25,23,20,19,13,12,9,6,5,6,4,4,4,2,2,3,3,7,7,7,9,8,5,7,8,10,13,13,18,19,28,26,34,36,40,46,40,44,50,56,54,52,53,51,61,61,71,92,99,102,100,101,104,96,90,86,80,75,72,71,61,54,49,36,29,26,23,18,13,13,11,8,5,4,3,3,2,2,4,6,7,10,10,8,7,6,4,3,3,3,3,2,0,0,0,0,0,0,0,0,0,0,0,0,0,0,0,0,1,2,2,3,3,4,3,3,3,3,7,13,16,19,24,23,26,29,42,44,53,47,49,48,43,45,51,58,51,49,60,67,80,91,110,111,106,103,113,114,111,98,88,87,82,69,63,48,37,35,27,23,24,20,20,14,12,12,11,8,7,5,8,9,16,15,13,12,11,11,9,11,9,10,9,9,7,7,9,9,11,12,11,11,6,6,6,5,3,3,3,4,5,5,4,3,4,6,12,10,6,4,4,2,1,2,2,2,4,5,9,11,11,15,13,20,18,19,24,24,29,34,36,38,39,43,42,48,50,63,76,80,81,83,95,96,98,103,96,96,85,80,77,72,72,70,74,86,86,90,76,77,80,74,70,76,83,87,86,92,83,79,78,80,82,82,75,66,65,55,43,38,37,29,34,32,29,30,32,24,25,25,20,13,13,15,11,12,11,9,8,8,5,5,4,3,3,3,7,7,8,13,21,19,17,14,16,16,22,28,24,27,29,28,32,44,52,54,63,68,67,68,72,69,71,75,70,61,52,47,45,45,41,34,32,25,27]},\"selected\":{\"id\":\"6117\"},\"selection_policy\":{\"id\":\"6116\"}},\"id\":\"5935\",\"type\":\"ColumnDataSource\"},{\"attributes\":{\"line_alpha\":0.2,\"line_color\":\"grey\",\"line_width\":2,\"x\":{\"field\":\"x\"},\"y\":{\"field\":\"y\"}},\"id\":\"5932\",\"type\":\"Step\"},{\"attributes\":{\"tools\":[{\"id\":\"5915\"},{\"id\":\"5916\"},{\"id\":\"5917\"},{\"id\":\"5918\"},{\"id\":\"5919\"},{\"id\":\"5920\"}]},\"id\":\"5922\",\"type\":\"Toolbar\"},{\"attributes\":{},\"id\":\"5920\",\"type\":\"HelpTool\"},{\"attributes\":{},\"id\":\"6115\",\"type\":\"Selection\"},{\"attributes\":{},\"id\":\"6116\",\"type\":\"UnionRenderers\"},{\"attributes\":{\"coordinates\":null,\"data_source\":{\"id\":\"5935\"},\"glyph\":{\"id\":\"5936\"},\"group\":null,\"hover_glyph\":null,\"muted_glyph\":{\"id\":\"5938\"},\"nonselection_glyph\":{\"id\":\"5937\"},\"view\":{\"id\":\"5940\"}},\"id\":\"5939\",\"type\":\"GlyphRenderer\"},{\"attributes\":{},\"id\":\"6117\",\"type\":\"Selection\"},{\"attributes\":{\"source\":{\"id\":\"5935\"}},\"id\":\"5940\",\"type\":\"CDSView\"},{\"attributes\":{},\"id\":\"5901\",\"type\":\"DataRange1d\"},{\"attributes\":{\"line_alpha\":0.1,\"line_color\":\"grey\",\"line_width\":2,\"x\":{\"field\":\"x\"},\"y\":{\"field\":\"y\"}},\"id\":\"5931\",\"type\":\"Step\"},{\"attributes\":{},\"id\":\"5903\",\"type\":\"LinearScale\"},{\"attributes\":{},\"id\":\"6113\",\"type\":\"AllLabels\"},{\"attributes\":{\"axis\":{\"id\":\"5911\"},\"coordinates\":null,\"dimension\":1,\"group\":null,\"ticker\":null},\"id\":\"5914\",\"type\":\"Grid\"},{\"attributes\":{\"coordinates\":null,\"formatter\":{\"id\":\"6109\"},\"group\":null,\"major_label_policy\":{\"id\":\"6110\"},\"major_label_text_font_size\":\"10pt\",\"ticker\":{\"id\":\"5912\"}},\"id\":\"5911\",\"type\":\"LinearAxis\"}],\"root_ids\":[\"5941\"]},\"title\":\"Bokeh Application\",\"version\":\"2.4.1\"}};\n",
       "  const render_items = [{\"docid\":\"abe68c97-c88d-4a11-80a7-1ea544072cbe\",\"root_ids\":[\"5941\"],\"roots\":{\"5941\":\"ff035a3d-7976-4f83-868a-0db35942377b\"}}];\n",
       "  root.Bokeh.embed.embed_items_notebook(docs_json, render_items);\n",
       "\n",
       "  }\n",
       "  if (root.Bokeh !== undefined) {\n",
       "    embed_document(root);\n",
       "  } else {\n",
       "    let attempts = 0;\n",
       "    const timer = setInterval(function(root) {\n",
       "      if (root.Bokeh !== undefined) {\n",
       "        clearInterval(timer);\n",
       "        embed_document(root);\n",
       "      } else {\n",
       "        attempts++;\n",
       "        if (attempts > 100) {\n",
       "          clearInterval(timer);\n",
       "          console.log(\"Bokeh: ERROR: Unable to run BokehJS code because BokehJS library is missing\");\n",
       "        }\n",
       "      }\n",
       "    }, 10, root)\n",
       "  }\n",
       "})(window);"
      ],
      "application/vnd.bokehjs_exec.v0+json": ""
     },
     "metadata": {
      "application/vnd.bokehjs_exec.v0+json": {
       "id": "5941"
      }
     },
     "output_type": "display_data"
    }
   ],
   "source": [
    "# Specify parameters for calculation\n",
    "n = 1 # copy number of promoter\n",
    "th = 0.3*60/n # 1/h\n",
    "rh = 80 # 1/h\n",
    "ph = 0.6931/10*60 # 1/h log(2)=0.6931\n",
    "d = 0.6931/30*60 # 1/h log(2)=0.6931\n",
    "g = 2.1*36 # 1/uM/h \n",
    "gd = g*0.01 # 1/h\n",
    "r = 5 # 1/h Switching rate\n",
    "a0 = 2.1*36\n",
    "d0 = 0.1*a0\n",
    "\n",
    "b = 0.3*60/n\n",
    "rh2 = 80\n",
    "aR = 2.1*36\n",
    "dR = 0.05*aR\n",
    "\n",
    "Omega = 600 # 600\n",
    "state = (10,13) # 10/13(R1/R2) Y1/Y2 (16/20) C1/C2 (17/21)\n",
    "\n",
    "args = (th, rh, ph, d, g, gd, a0, d0, r, b, rh2, aR, dR, Omega, n)\n",
    "time_points = np.linspace(0, 40, 401)\n",
    "population_0 = np.zeros(23, dtype=int)\n",
    "population_0[0] = n\n",
    "population_0[17] = n\n",
    "population_0[21] = n\n",
    "\n",
    "samples = biocircuits.gillespie_ssa(simple_propensity, simple_update, population_0,time_points, size=1, args=args, n_threads=1,progress_bar=False)\n",
    "\n",
    "# Set up plots\n",
    "fig_size = [600, 200] # for paper size (144, 110) # for larger size (144,144)\n",
    "x_range = (0, time_points[-1])\n",
    "y_range = (0, 400)\n",
    "\n",
    "plots = []\n",
    "for i in range(1):\n",
    "    plots.append(bokeh.plotting.figure(plot_width=fig_size[0], plot_height=fig_size[1],\n",
    "                          #x_range=x_range, y_range=y_range\n",
    "                          ),)\n",
    "    plots[i].axis.major_label_text_font_size = \"10pt\"\n",
    "\n",
    "\n",
    "# Plot trajectories of recombinase 1 and 2\n",
    "y1 = samples[0,:,state[0]] # samples[:,:,10][0]\n",
    "plots[0].step(time_points, y1, line_width=2, alpha= 1, line_join=\"bevel\",color=\"grey\")\n",
    "\n",
    "y2 = samples[0,:,state[1]]\n",
    "plots[0].step(time_points, y2, line_width=2, alpha= 1, line_join=\"bevel\",color=\"orange\")\n",
    "# Link axes\n",
    "\n",
    "bokeh.io.show(bokeh.layouts.row(plots))"
   ]
  },
  {
   "cell_type": "markdown",
   "metadata": {
    "id": "RBm-ws3NEJaf"
   },
   "source": [
    "We will evaluate the period of oscillations from the stochastic ttrajaectories by computing the auto-correlation function."
   ]
  },
  {
   "cell_type": "code",
   "execution_count": 20,
   "metadata": {},
   "outputs": [
    {
     "data": {
      "text/html": [
       "\n",
       "\n",
       "\n",
       "\n",
       "\n",
       "\n",
       "  <div class=\"bk-root\" id=\"a4406116-5522-4ee7-b187-34b49088fc41\" data-root-id=\"7304\"></div>\n"
      ]
     },
     "metadata": {},
     "output_type": "display_data"
    },
    {
     "data": {
      "application/javascript": [
       "(function(root) {\n",
       "  function embed_document(root) {\n",
       "    \n",
       "  const docs_json = {\"dff0ac4f-e485-43ed-8adb-b6596dd6c4f3\":{\"defs\":[],\"roots\":{\"references\":[{\"attributes\":{\"children\":[{\"id\":\"7255\"}]},\"id\":\"7304\",\"type\":\"Row\"},{\"attributes\":{},\"id\":\"7523\",\"type\":\"Selection\"},{\"attributes\":{},\"id\":\"7522\",\"type\":\"UnionRenderers\"},{\"attributes\":{},\"id\":\"7275\",\"type\":\"SaveTool\"},{\"attributes\":{},\"id\":\"7276\",\"type\":\"ResetTool\"},{\"attributes\":{\"line_color\":\"#178ccb\",\"line_width\":2,\"x\":{\"field\":\"x\"},\"y\":{\"field\":\"y\"}},\"id\":\"7299\",\"type\":\"Step\"},{\"attributes\":{\"below\":[{\"id\":\"7264\"}],\"center\":[{\"id\":\"7267\"},{\"id\":\"7271\"}],\"height\":115,\"left\":[{\"id\":\"7268\"}],\"renderers\":[{\"id\":\"7290\"},{\"id\":\"7296\"},{\"id\":\"7302\"}],\"title\":{\"id\":\"7512\"},\"toolbar\":{\"id\":\"7279\"},\"width\":266,\"x_range\":{\"id\":\"7256\"},\"x_scale\":{\"id\":\"7260\"},\"y_range\":{\"id\":\"7258\"},\"y_scale\":{\"id\":\"7262\"}},\"id\":\"7255\",\"subtype\":\"Figure\",\"type\":\"Plot\"},{\"attributes\":{\"source\":{\"id\":\"7292\"}},\"id\":\"7297\",\"type\":\"CDSView\"},{\"attributes\":{},\"id\":\"7272\",\"type\":\"PanTool\"},{\"attributes\":{\"overlay\":{\"id\":\"7278\"}},\"id\":\"7274\",\"type\":\"BoxZoomTool\"},{\"attributes\":{\"tools\":[{\"id\":\"7272\"},{\"id\":\"7273\"},{\"id\":\"7274\"},{\"id\":\"7275\"},{\"id\":\"7276\"},{\"id\":\"7277\"}]},\"id\":\"7279\",\"type\":\"Toolbar\"},{\"attributes\":{\"data\":{\"x\":{\"__ndarray__\":\"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\",\"dtype\":\"float64\",\"order\":\"little\",\"shape\":[401]},\"y1\":[0,0,0,0,0,0,0,0,0,0,0,0,0,0,0,0,0,0,0,0,0,0,0,0,0,0,0,0,0,0,0,0,0,0,0,0,0,0,0,0,0,0,0,0,0,0,0,0,0,0,0,0,0,0,0,0,0,0,0,0,0,0,0,0,0,0,0,0,0,0,0,0,0,0,0,0,0,0,0,0,0,0,0,0,0,0,0,0,0,0,0,0,0,0,0,0,0,0,0,0,0,0,0,0,0,0,0,0,0,0,0,0,0,0,0,0,0,0,0,0,0,0,0,0,0,0,0,0,0,0,0,0,0,0,0,0,0,0,0,0,0,0,0,0,0,0,0,0,0,0,0,0,0,0,0,0,0,0,0,0,0,0,0,0,0,0,0,0,0,0,0,0,0,0,0,0,0,0,0,0,0,0,0,0,0,0,0,0,0,0,0,0,0,0,0,0,0,0,0,0,0,0,0,0,0,0,0,0,0,0,0,0,0,0,0,0,0,0,0,0,0,0,0,0,0,0,0,0,0,0,0,0,0,0,0,0,0,0,0,0,0,0,0,0,0,0,0,0,0,0,0,0,0,0,0,0,0,0,0,0,0,0,0,0,0,0,0,0,0,0,0,0,0,0,0,0,0,0,0,0,0,0,0,0,0,0,0,0,0,0,0,0,0,0,0,0,0,0,0,0,0,0,0,0,0,0,0,0,0,0,0,0,0,0,0,0,0,0,0,0,0,0,0,0,0,0,0,0,0,0,0,0,0,0,0,0,0,0,0,0,0,0,0,0,0,0,0,0,0,0,0,0,0,0,0,0,0,0,0,0,0,0,0,0,0,0,0,0,0,0,0,0,0,0,0,0,0,0,0,0,0,0,0,0,0,0,0,0,0,0,0,0,0,0,0,0,0,0,0,0,0],\"y2\":[0,0,0,0,0,0,0,0,0,0,0,0,0,0,0,0,0,0,0,0,0,160,160,160,160,160,160,160,160,160,160,160,160,160,160,160,160,160,160,160,0,0,0,0,0,0,0,0,0,0,0,0,0,0,0,0,0,0,0,0,0,0,0,0,0,0,0,160,160,160,160,160,160,160,160,160,160,160,160,160,160,160,160,160,160,160,160,160,160,160,160,160,160,160,160,160,160,160,160,160,160,160,160,160,160,0,0,0,0,0,0,0,0,0,0,0,0,0,0,0,0,0,0,0,0,0,0,0,0,0,0,0,0,0,0,0,0,0,0,0,0,0,0,0,0,0,0,0,0,0,0,0,0,0,0,0,0,0,0,0,0,160,160,160,160,160,160,160,160,160,160,160,160,160,160,160,160,160,160,160,160,160,160,160,160,160,160,160,160,160,160,160,160,160,160,160,160,160,0,0,0,0,0,0,0,0,0,0,0,0,0,0,0,0,0,0,0,0,0,0,0,0,0,0,0,0,0,0,0,0,0,0,0,0,0,0,0,0,0,0,0,0,0,0,0,0,0,0,0,0,0,0,0,0,160,160,160,160,160,160,160,160,160,160,160,160,160,160,160,160,160,160,160,160,160,160,160,160,160,160,160,160,160,160,160,160,160,160,160,160,160,160,160,160,160,160,160,160,160,160,160,160,160,160,160,160,160,160,160,160,160,160,160,160,160,160,160,160,160,160,160,160,160,160,0,0,0,0,0,0,0,0,0,0,0,0,0,160,160,160,160,0,0,0,0,0,0,0,0,0,0,0,0,0,0,0,0,0,0,0,0,0,0,0,0,0,0,0,0,0,0,160,160,160,160,160,160,160,160,160,160,160,160,160,0,0,0,0,0,0,0,0,0,0,0,0,0,0,0,0,0]},\"selected\":{\"id\":\"7521\"},\"selection_policy\":{\"id\":\"7520\"}},\"id\":\"7286\",\"type\":\"ColumnDataSource\"},{\"attributes\":{},\"id\":\"7515\",\"type\":\"BasicTickFormatter\"},{\"attributes\":{\"line_alpha\":0.1,\"line_color\":\"#178ccb\",\"line_width\":2,\"x\":{\"field\":\"x\"},\"y\":{\"field\":\"y\"}},\"id\":\"7300\",\"type\":\"Step\"},{\"attributes\":{},\"id\":\"7524\",\"type\":\"UnionRenderers\"},{\"attributes\":{\"bottom_units\":\"screen\",\"coordinates\":null,\"fill_alpha\":0.5,\"fill_color\":\"lightgrey\",\"group\":null,\"left_units\":\"screen\",\"level\":\"overlay\",\"line_alpha\":1.0,\"line_color\":\"black\",\"line_dash\":[4,4],\"line_width\":2,\"right_units\":\"screen\",\"syncable\":false,\"top_units\":\"screen\"},\"id\":\"7278\",\"type\":\"BoxAnnotation\"},{\"attributes\":{\"coordinates\":null,\"data_source\":{\"id\":\"7292\"},\"glyph\":{\"id\":\"7293\"},\"group\":null,\"hover_glyph\":null,\"muted_glyph\":{\"id\":\"7295\"},\"nonselection_glyph\":{\"id\":\"7294\"},\"view\":{\"id\":\"7297\"}},\"id\":\"7296\",\"type\":\"GlyphRenderer\"},{\"attributes\":{\"line_alpha\":0.2,\"line_color\":\"#999999\",\"line_width\":2,\"x\":{\"field\":\"x\"},\"y\":{\"field\":\"y\"}},\"id\":\"7295\",\"type\":\"Step\"},{\"attributes\":{\"fill_color\":\"#e8f4fa\",\"x\":{\"field\":\"x\"},\"y1\":{\"field\":\"y1\"},\"y2\":{\"field\":\"y2\"}},\"id\":\"7287\",\"type\":\"VArea\"},{\"attributes\":{\"line_alpha\":0.5,\"line_color\":\"#999999\",\"line_width\":2,\"x\":{\"field\":\"x\"},\"y\":{\"field\":\"y\"}},\"id\":\"7293\",\"type\":\"Step\"},{\"attributes\":{},\"id\":\"7269\",\"type\":\"BasicTicker\"},{\"attributes\":{\"fill_alpha\":0.1,\"fill_color\":\"#e8f4fa\",\"hatch_alpha\":{\"value\":0.1},\"x\":{\"field\":\"x\"},\"y1\":{\"field\":\"y1\"},\"y2\":{\"field\":\"y2\"}},\"id\":\"7288\",\"type\":\"VArea\"},{\"attributes\":{},\"id\":\"7519\",\"type\":\"AllLabels\"},{\"attributes\":{\"data\":{\"x\":{\"__ndarray__\":\"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\",\"dtype\":\"float64\",\"order\":\"little\",\"shape\":[401]},\"y\":[0,0,1,3,5,8,8,12,13,13,13,15,17,24,28,26,24,26,23,21,21,19,15,21,20,18,25,28,37,57,65,64,76,70,64,57,55,69,73,78,81,73,77,67,63,60,59,56,57,62,63,55,48,36,29,27,25,23,20,19,13,12,9,6,5,6,4,4,4,2,2,3,3,7,7,7,9,8,5,7,8,10,13,13,18,19,28,26,34,36,40,46,40,44,50,56,54,52,53,51,61,61,71,92,99,102,100,101,104,96,90,86,80,75,72,71,61,54,49,36,29,26,23,18,13,13,11,8,5,4,3,3,2,2,4,6,7,10,10,8,7,6,4,3,3,3,3,2,0,0,0,0,0,0,0,0,0,0,0,0,0,0,0,0,1,2,2,3,3,4,3,3,3,3,7,13,16,19,24,23,26,29,42,44,53,47,49,48,43,45,51,58,51,49,60,67,80,91,110,111,106,103,113,114,111,98,88,87,82,69,63,48,37,35,27,23,24,20,20,14,12,12,11,8,7,5,8,9,16,15,13,12,11,11,9,11,9,10,9,9,7,7,9,9,11,12,11,11,6,6,6,5,3,3,3,4,5,5,4,3,4,6,12,10,6,4,4,2,1,2,2,2,4,5,9,11,11,15,13,20,18,19,24,24,29,34,36,38,39,43,42,48,50,63,76,80,81,83,95,96,98,103,96,96,85,80,77,72,72,70,74,86,86,90,76,77,80,74,70,76,83,87,86,92,83,79,78,80,82,82,75,66,65,55,43,38,37,29,34,32,29,30,32,24,25,25,20,13,13,15,11,12,11,9,8,8,5,5,4,3,3,3,7,7,8,13,21,19,17,14,16,16,22,28,24,27,29,28,32,44,52,54,63,68,67,68,72,69,71,75,70,61,52,47,45,45,41,34,32,25,27]},\"selected\":{\"id\":\"7525\"},\"selection_policy\":{\"id\":\"7524\"}},\"id\":\"7298\",\"type\":\"ColumnDataSource\"},{\"attributes\":{},\"id\":\"7277\",\"type\":\"HelpTool\"},{\"attributes\":{\"coordinates\":null,\"formatter\":{\"id\":\"7515\"},\"group\":null,\"major_label_policy\":{\"id\":\"7516\"},\"major_label_text_font_size\":\"10pt\",\"ticker\":{\"id\":\"7269\"}},\"id\":\"7268\",\"type\":\"LinearAxis\"},{\"attributes\":{},\"id\":\"7262\",\"type\":\"LinearScale\"},{\"attributes\":{\"axis\":{\"id\":\"7268\"},\"coordinates\":null,\"dimension\":1,\"group\":null,\"ticker\":null},\"id\":\"7271\",\"type\":\"Grid\"},{\"attributes\":{\"line_alpha\":0.2,\"line_color\":\"#178ccb\",\"line_width\":2,\"x\":{\"field\":\"x\"},\"y\":{\"field\":\"y\"}},\"id\":\"7301\",\"type\":\"Step\"},{\"attributes\":{},\"id\":\"7521\",\"type\":\"Selection\"},{\"attributes\":{},\"id\":\"7265\",\"type\":\"BasicTicker\"},{\"attributes\":{},\"id\":\"7273\",\"type\":\"WheelZoomTool\"},{\"attributes\":{\"coordinates\":null,\"data_source\":{\"id\":\"7286\"},\"glyph\":{\"id\":\"7287\"},\"group\":null,\"hover_glyph\":null,\"muted_glyph\":{\"id\":\"7289\"},\"nonselection_glyph\":{\"id\":\"7288\"},\"view\":{\"id\":\"7291\"}},\"id\":\"7290\",\"type\":\"GlyphRenderer\"},{\"attributes\":{},\"id\":\"7518\",\"type\":\"BasicTickFormatter\"},{\"attributes\":{},\"id\":\"7260\",\"type\":\"LinearScale\"},{\"attributes\":{\"line_alpha\":0.1,\"line_color\":\"#999999\",\"line_width\":2,\"x\":{\"field\":\"x\"},\"y\":{\"field\":\"y\"}},\"id\":\"7294\",\"type\":\"Step\"},{\"attributes\":{\"end\":40},\"id\":\"7256\",\"type\":\"Range1d\"},{\"attributes\":{\"coordinates\":null,\"formatter\":{\"id\":\"7518\"},\"group\":null,\"major_label_policy\":{\"id\":\"7519\"},\"major_label_text_font_size\":\"10pt\",\"ticker\":{\"id\":\"7265\"}},\"id\":\"7264\",\"type\":\"LinearAxis\"},{\"attributes\":{\"axis\":{\"id\":\"7264\"},\"coordinates\":null,\"group\":null,\"ticker\":null},\"id\":\"7267\",\"type\":\"Grid\"},{\"attributes\":{\"coordinates\":null,\"data_source\":{\"id\":\"7298\"},\"glyph\":{\"id\":\"7299\"},\"group\":null,\"hover_glyph\":null,\"muted_glyph\":{\"id\":\"7301\"},\"nonselection_glyph\":{\"id\":\"7300\"},\"view\":{\"id\":\"7303\"}},\"id\":\"7302\",\"type\":\"GlyphRenderer\"},{\"attributes\":{\"fill_alpha\":0.2,\"fill_color\":\"#e8f4fa\",\"hatch_alpha\":{\"value\":0.2},\"x\":{\"field\":\"x\"},\"y1\":{\"field\":\"y1\"},\"y2\":{\"field\":\"y2\"}},\"id\":\"7289\",\"type\":\"VArea\"},{\"attributes\":{\"data\":{\"x\":{\"__ndarray__\":\"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\",\"dtype\":\"float64\",\"order\":\"little\",\"shape\":[401]},\"y\":[0,0,3,13,21,36,55,61,76,102,117,126,129,115,100,93,97,103,106,94,94,106,94,94,92,95,88,75,62,53,43,36,31,25,26,28,33,33,32,23,19,19,15,16,17,21,19,15,10,10,8,7,8,6,8,8,13,15,17,29,38,43,44,63,74,71,81,79,82,82,81,76,70,70,62,57,47,44,38,33,27,24,21,17,15,12,11,9,6,5,5,3,3,3,3,2,1,1,0,0,0,0,0,0,0,1,2,1,1,2,2,2,2,2,2,2,2,2,2,2,1,2,1,0,1,1,11,20,27,34,44,41,40,40,41,35,33,25,19,15,14,14,13,13,11,16,20,34,56,68,82,74,69,70,79,77,71,80,83,74,79,90,99,99,116,118,108,115,114,110,110,101,92,90,80,72,61,56,52,48,37,32,31,27,21,15,12,11,12,8,7,6,5,6,5,5,4,4,3,2,4,6,4,3,5,4,4,4,2,3,2,2,2,2,5,13,11,13,17,15,14,12,13,13,12,12,8,7,6,5,5,10,11,15,16,16,21,21,21,19,28,29,36,47,45,49,42,42,46,49,57,56,60,53,52,49,39,35,38,38,32,32,38,47,64,64,75,78,75,75,70,64,56,52,50,43,42,42,29,29,25,19,12,8,8,10,8,10,10,12,8,7,6,4,4,5,4,2,2,2,1,1,4,5,7,6,6,7,9,9,12,16,16,15,19,27,20,25,25,25,20,20,19,24,28,33,37,40,38,37,35,31,30,32,41,40,33,32,31,32,29,28,39,42,41,44,42,37,34,34,31,29,27,21,15,23,31,27,33,41,40,44,46,60,63,68,63,61,53,57,44,39,43,41,44,37,32,22,21,17,15,13,12,16,22,24,21,25,21,22,21,19,14,10,10,12,22,28,27,18,17]},\"selected\":{\"id\":\"7523\"},\"selection_policy\":{\"id\":\"7522\"}},\"id\":\"7292\",\"type\":\"ColumnDataSource\"},{\"attributes\":{\"source\":{\"id\":\"7298\"}},\"id\":\"7303\",\"type\":\"CDSView\"},{\"attributes\":{\"end\":160},\"id\":\"7258\",\"type\":\"Range1d\"},{\"attributes\":{},\"id\":\"7520\",\"type\":\"UnionRenderers\"},{\"attributes\":{\"coordinates\":null,\"group\":null},\"id\":\"7512\",\"type\":\"Title\"},{\"attributes\":{\"source\":{\"id\":\"7286\"}},\"id\":\"7291\",\"type\":\"CDSView\"},{\"attributes\":{},\"id\":\"7516\",\"type\":\"AllLabels\"},{\"attributes\":{},\"id\":\"7525\",\"type\":\"Selection\"}],\"root_ids\":[\"7304\"]},\"title\":\"Bokeh Application\",\"version\":\"2.4.1\"}};\n",
       "  const render_items = [{\"docid\":\"dff0ac4f-e485-43ed-8adb-b6596dd6c4f3\",\"root_ids\":[\"7304\"],\"roots\":{\"7304\":\"a4406116-5522-4ee7-b187-34b49088fc41\"}}];\n",
       "  root.Bokeh.embed.embed_items_notebook(docs_json, render_items);\n",
       "\n",
       "  }\n",
       "  if (root.Bokeh !== undefined) {\n",
       "    embed_document(root);\n",
       "  } else {\n",
       "    let attempts = 0;\n",
       "    const timer = setInterval(function(root) {\n",
       "      if (root.Bokeh !== undefined) {\n",
       "        clearInterval(timer);\n",
       "        embed_document(root);\n",
       "      } else {\n",
       "        attempts++;\n",
       "        if (attempts > 100) {\n",
       "          clearInterval(timer);\n",
       "          console.log(\"Bokeh: ERROR: Unable to run BokehJS code because BokehJS library is missing\");\n",
       "        }\n",
       "      }\n",
       "    }, 10, root)\n",
       "  }\n",
       "})(window);"
      ],
      "application/vnd.bokehjs_exec.v0+json": ""
     },
     "metadata": {
      "application/vnd.bokehjs_exec.v0+json": {
       "id": "7304"
      }
     },
     "output_type": "display_data"
    },
    {
     "data": {
      "text/plain": [
       "['fig/SingleTrajectory.svg']"
      ]
     },
     "execution_count": 20,
     "metadata": {},
     "output_type": "execute_result"
    }
   ],
   "source": [
    "# Set up plots\n",
    "# For two digits 260 by 115 larger and 144 by 115 for half size\n",
    "# For three digits 266 by 115 larger and 150 by 115 for half size\n",
    "fig_size = [266, 115] # visualize (600/200)\n",
    "x_range = (0, 40)\n",
    "y_range = (0, 160)\n",
    "\n",
    "plots = []\n",
    "for i in range(1):\n",
    "    plots.append(bokeh.plotting.figure(plot_width=fig_size[0], plot_height=fig_size[1],\n",
    "                          x_range=x_range, y_range=y_range\n",
    "                          ),)\n",
    "    plots[i].axis.major_label_text_font_size = \"10pt\"\n",
    "\n",
    "# Plot trajectories of recombinase 1 and 2\n",
    "sR = samples[0,:,4:8].sum(axis=1)\n",
    "\n",
    "plots[0].varea(time_points, sR*0, sR*y_range[1], fill_color=\"#e8f4fa\")\n",
    "\n",
    "# Plot trajectories of recombinase 1 and 2\n",
    "y1 = samples[0,:,state[0]] # samples[:,:,10][0]\n",
    "plots[0].step(time_points, y1, line_width=2, alpha= 0.5, line_join=\"bevel\",color=\"#999999\")\n",
    "\n",
    "y2 = samples[0,:,state[1]]\n",
    "plots[0].step(time_points, y2, line_width=2, alpha= 1, line_join=\"bevel\",color=\"#178ccb\")\n",
    "# Link axes\n",
    "\n",
    "bokeh.io.show(bokeh.layouts.row(plots))\n",
    "\n",
    "plots[0].output_backend = \"svg\"\n",
    "export_svgs(plots,filename=\"fig/SingleTrajectory.svg\")"
   ]
  },
  {
   "cell_type": "code",
   "execution_count": null,
   "metadata": {
    "id": "tb9r7SKRReGC"
   },
   "outputs": [],
   "source": [
    "# Computing the auto-correlation\n",
    "\n",
    "def correlate(x, y, dt):\n",
    "    # Compute correlation with max correlation being unity\n",
    "    corr = np.correlate(x, y, \"full\")\n",
    "    corr /= corr.max()\n",
    "\n",
    "    idx = np.where(corr==1.)[0][0]\n",
    "    corr = corr[idx:]\n",
    "    lags = np.arange(0, len(corr))*dt\n",
    "    return lags, corr\n"
   ]
  },
  {
   "cell_type": "code",
   "execution_count": null,
   "metadata": {
    "colab": {
     "base_uri": "https://localhost:8080/",
     "height": 447
    },
    "executionInfo": {
     "elapsed": 267,
     "status": "ok",
     "timestamp": 1652061548076,
     "user": {
      "displayName": "Christian Cuba",
      "userId": "05812622177105967845"
     },
     "user_tz": 240
    },
    "id": "20idjf57RimM",
    "outputId": "bbf06ee9-1282-4f3e-bacd-3748b03003a8"
   },
   "outputs": [
    {
     "name": "stderr",
     "output_type": "stream",
     "text": [
      "/var/folders/bk/5xyc8xk10g797965m1svdb300000gn/T/ipykernel_36951/3301285409.py:6: RuntimeWarning: invalid value encountered in true_divide\n",
      "  corr /= corr.max()\n"
     ]
    },
    {
     "ename": "IndexError",
     "evalue": "index 0 is out of bounds for axis 0 with size 0",
     "output_type": "error",
     "traceback": [
      "\u001b[0;31m---------------------------------------------------------------------------\u001b[0m",
      "\u001b[0;31mIndexError\u001b[0m                                Traceback (most recent call last)",
      "\u001b[0;32m/var/folders/bk/5xyc8xk10g797965m1svdb300000gn/T/ipykernel_36951/2775206325.py\u001b[0m in \u001b[0;36m<module>\u001b[0;34m\u001b[0m\n\u001b[1;32m     14\u001b[0m \u001b[0my1\u001b[0m \u001b[0;34m=\u001b[0m \u001b[0msamples\u001b[0m\u001b[0;34m[\u001b[0m\u001b[0;36m0\u001b[0m\u001b[0;34m,\u001b[0m\u001b[0;34m:\u001b[0m\u001b[0;34m,\u001b[0m\u001b[0;36m10\u001b[0m\u001b[0;34m]\u001b[0m \u001b[0;31m# samples[:,:,10][0]\u001b[0m\u001b[0;34m\u001b[0m\u001b[0;34m\u001b[0m\u001b[0m\n\u001b[1;32m     15\u001b[0m \u001b[0my1s\u001b[0m \u001b[0;34m=\u001b[0m \u001b[0my1\u001b[0m \u001b[0;34m-\u001b[0m \u001b[0my1\u001b[0m\u001b[0;34m.\u001b[0m\u001b[0mmean\u001b[0m\u001b[0;34m(\u001b[0m\u001b[0;34m)\u001b[0m\u001b[0;34m\u001b[0m\u001b[0;34m\u001b[0m\u001b[0m\n\u001b[0;32m---> 16\u001b[0;31m \u001b[0mlags\u001b[0m\u001b[0;34m,\u001b[0m \u001b[0mauto_corr\u001b[0m \u001b[0;34m=\u001b[0m \u001b[0mcorrelate\u001b[0m\u001b[0;34m(\u001b[0m\u001b[0my1s\u001b[0m\u001b[0;34m,\u001b[0m \u001b[0my1s\u001b[0m\u001b[0;34m,\u001b[0m \u001b[0mdt\u001b[0m\u001b[0;34m)\u001b[0m\u001b[0;34m\u001b[0m\u001b[0;34m\u001b[0m\u001b[0m\n\u001b[0m\u001b[1;32m     17\u001b[0m \u001b[0mmax_id\u001b[0m \u001b[0;34m=\u001b[0m \u001b[0margrelextrema\u001b[0m\u001b[0;34m(\u001b[0m\u001b[0mauto_corr\u001b[0m\u001b[0;34m,\u001b[0m \u001b[0mnp\u001b[0m\u001b[0;34m.\u001b[0m\u001b[0mgreater\u001b[0m\u001b[0;34m)\u001b[0m\u001b[0;34m\u001b[0m\u001b[0;34m\u001b[0m\u001b[0m\n\u001b[1;32m     18\u001b[0m \u001b[0;34m\u001b[0m\u001b[0m\n",
      "\u001b[0;32m/var/folders/bk/5xyc8xk10g797965m1svdb300000gn/T/ipykernel_36951/3301285409.py\u001b[0m in \u001b[0;36mcorrelate\u001b[0;34m(x, y, dt)\u001b[0m\n\u001b[1;32m      6\u001b[0m     \u001b[0mcorr\u001b[0m \u001b[0;34m/=\u001b[0m \u001b[0mcorr\u001b[0m\u001b[0;34m.\u001b[0m\u001b[0mmax\u001b[0m\u001b[0;34m(\u001b[0m\u001b[0;34m)\u001b[0m\u001b[0;34m\u001b[0m\u001b[0;34m\u001b[0m\u001b[0m\n\u001b[1;32m      7\u001b[0m \u001b[0;34m\u001b[0m\u001b[0m\n\u001b[0;32m----> 8\u001b[0;31m     \u001b[0midx\u001b[0m \u001b[0;34m=\u001b[0m \u001b[0mnp\u001b[0m\u001b[0;34m.\u001b[0m\u001b[0mwhere\u001b[0m\u001b[0;34m(\u001b[0m\u001b[0mcorr\u001b[0m\u001b[0;34m==\u001b[0m\u001b[0;36m1.\u001b[0m\u001b[0;34m)\u001b[0m\u001b[0;34m[\u001b[0m\u001b[0;36m0\u001b[0m\u001b[0;34m]\u001b[0m\u001b[0;34m[\u001b[0m\u001b[0;36m0\u001b[0m\u001b[0;34m]\u001b[0m\u001b[0;34m\u001b[0m\u001b[0;34m\u001b[0m\u001b[0m\n\u001b[0m\u001b[1;32m      9\u001b[0m     \u001b[0mcorr\u001b[0m \u001b[0;34m=\u001b[0m \u001b[0mcorr\u001b[0m\u001b[0;34m[\u001b[0m\u001b[0midx\u001b[0m\u001b[0;34m:\u001b[0m\u001b[0;34m]\u001b[0m\u001b[0;34m\u001b[0m\u001b[0;34m\u001b[0m\u001b[0m\n\u001b[1;32m     10\u001b[0m     \u001b[0mlags\u001b[0m \u001b[0;34m=\u001b[0m \u001b[0mnp\u001b[0m\u001b[0;34m.\u001b[0m\u001b[0marange\u001b[0m\u001b[0;34m(\u001b[0m\u001b[0;36m0\u001b[0m\u001b[0;34m,\u001b[0m \u001b[0mlen\u001b[0m\u001b[0;34m(\u001b[0m\u001b[0mcorr\u001b[0m\u001b[0;34m)\u001b[0m\u001b[0;34m)\u001b[0m\u001b[0;34m*\u001b[0m\u001b[0mdt\u001b[0m\u001b[0;34m\u001b[0m\u001b[0;34m\u001b[0m\u001b[0m\n",
      "\u001b[0;31mIndexError\u001b[0m: index 0 is out of bounds for axis 0 with size 0"
     ]
    }
   ],
   "source": [
    "fig_size = [400, 200] # for paper size (144, 110) # for larger size (144,144)\n",
    "x_range = (0, time_points[-1])\n",
    "y_range = (0, 200)\n",
    "\n",
    "plots = []\n",
    "for i in range(4):\n",
    "    plots.append(bokeh.plotting.figure(plot_width=fig_size[0], plot_height=fig_size[1],\n",
    "                          x_range=x_range, \n",
    "                          #y_range=y_range\n",
    "                          ),)\n",
    "    plots[i].axis.major_label_text_font_size = \"10pt\"\n",
    "\n",
    "dt = time_points[1] - time_points[0]\n",
    "y1 = samples[0,:,10] # samples[:,:,10][0]\n",
    "y1s = y1 - y1.mean()\n",
    "lags, auto_corr = correlate(y1s, y1s, dt)\n",
    "max_id = argrelextrema(auto_corr, np.greater)\n",
    "\n",
    "plots[0].step(time_points, y1, line_width=2, alpha= 1, line_join=\"bevel\",color=\"orange\")\n",
    "#plots[0].line(lags, auto_corr*130, line_width=2, alpha= 1, line_join=\"bevel\",color=\"black\")\n",
    "\n",
    "plots[1].line(lags, auto_corr, line_width=2, alpha= 1, line_join=\"bevel\",color=\"black\")\n",
    "plots[1].circle(lags[max_id], auto_corr[max_id], line_width=2, alpha= 1, line_join=\"bevel\",color=\"red\")\n",
    "\n",
    "\n",
    "y1 = samples[0,:,13] # samples[:,:,10][0]\n",
    "y1s = y1 - y1.mean()\n",
    "lags, auto_corr = correlate(y1s, y1s, dt)\n",
    "max_id = argrelextrema(auto_corr, np.greater)\n",
    "\n",
    "plots[2].step(time_points, y1, line_width=2, alpha= 1, line_join=\"bevel\",color=\"orange\")\n",
    "#plots[2].line(lags, auto_corr*130, line_width=2, alpha= 1, line_join=\"bevel\",color=\"black\")\n",
    "\n",
    "plots[3].line(lags, auto_corr, line_width=2, alpha= 1, line_join=\"bevel\",color=\"black\")\n",
    "plots[3].circle(lags[max_id], auto_corr[max_id], line_width=2, alpha= 1, line_join=\"bevel\",color=\"red\")\n",
    "\n",
    "bokeh.io.show(bokeh.layouts.gridplot(plots, ncols=2))"
   ]
  },
  {
   "cell_type": "code",
   "execution_count": null,
   "metadata": {
    "id": "NAhPFtfDxnub"
   },
   "outputs": [],
   "source": [
    "def FFT(t1,x1,fr):\n",
    "    n = len(x1)\n",
    "    if n % 2:\n",
    "        x = x1[:-2]\n",
    "        t = t1[:-2]\n",
    "        n = len(x)\n",
    "    else:\n",
    "        x = x1[:-1]\n",
    "        t = t1[:-1]\n",
    "\n",
    "    dt = (t[1]-t[0])\n",
    "    tf = scipy.fftpack.fftfreq(x.size, d=dt)\n",
    "    xf = scipy.fftpack.fft(x)\n",
    "    xf = np.abs(xf)**2\n",
    "    idx = np.where((tf >= fr[0]) & (tf <=fr[1]))\n",
    "    return tf[idx],xf[idx]"
   ]
  },
  {
   "cell_type": "code",
   "execution_count": null,
   "metadata": {
    "colab": {
     "base_uri": "https://localhost:8080/",
     "height": 237
    },
    "executionInfo": {
     "elapsed": 18,
     "status": "ok",
     "timestamp": 1651705925479,
     "user": {
      "displayName": "Judith Landau",
      "userId": "16650559787501200181"
     },
     "user_tz": 420
    },
    "id": "M4i1Gj3VqgeE",
    "outputId": "eac5babc-5e94-40a2-ae36-847a87172c60"
   },
   "outputs": [
    {
     "data": {
      "text/html": [
       "\n",
       "\n",
       "\n",
       "\n",
       "\n",
       "\n",
       "  <div class=\"bk-root\" id=\"673bec55-a636-462c-ba34-f08b5624c63b\" data-root-id=\"2399\"></div>\n"
      ]
     },
     "metadata": {},
     "output_type": "display_data"
    },
    {
     "data": {
      "application/javascript": [
       "(function(root) {\n",
       "  function embed_document(root) {\n",
       "    \n",
       "  const docs_json = {\"3b986174-0729-4377-8a43-c26051d8e4c3\":{\"defs\":[],\"roots\":{\"references\":[{\"attributes\":{\"children\":[{\"id\":\"2313\"},{\"id\":\"2344\"}]},\"id\":\"2399\",\"type\":\"Row\"},{\"attributes\":{},\"id\":\"2335\",\"type\":\"HelpTool\"},{\"attributes\":{},\"id\":\"2333\",\"type\":\"SaveTool\"},{\"attributes\":{\"source\":{\"id\":\"2381\"}},\"id\":\"2386\",\"type\":\"CDSView\"},{\"attributes\":{},\"id\":\"2349\",\"type\":\"LinearScale\"},{\"attributes\":{},\"id\":\"2330\",\"type\":\"PanTool\"},{\"attributes\":{},\"id\":\"2334\",\"type\":\"ResetTool\"},{\"attributes\":{\"source\":{\"id\":\"2393\"}},\"id\":\"2398\",\"type\":\"CDSView\"},{\"attributes\":{},\"id\":\"2362\",\"type\":\"WheelZoomTool\"},{\"attributes\":{\"line_alpha\":0.2,\"line_color\":\"orange\",\"line_width\":2,\"x\":{\"field\":\"x\"},\"y\":{\"field\":\"y\"}},\"id\":\"2384\",\"type\":\"Line\"},{\"attributes\":{\"axis\":{\"id\":\"2353\"},\"coordinates\":null,\"group\":null,\"ticker\":null},\"id\":\"2356\",\"type\":\"Grid\"},{\"attributes\":{\"line_alpha\":0.1,\"line_color\":\"orange\",\"line_width\":2,\"x\":{\"field\":\"x\"},\"y\":{\"field\":\"y\"}},\"id\":\"2383\",\"type\":\"Line\"},{\"attributes\":{},\"id\":\"2528\",\"type\":\"AllLabels\"},{\"attributes\":{\"coordinates\":null,\"data_source\":{\"id\":\"2381\"},\"glyph\":{\"id\":\"2382\"},\"group\":null,\"hover_glyph\":null,\"muted_glyph\":{\"id\":\"2384\"},\"nonselection_glyph\":{\"id\":\"2383\"},\"view\":{\"id\":\"2386\"}},\"id\":\"2385\",\"type\":\"GlyphRenderer\"},{\"attributes\":{\"line_alpha\":0.1,\"line_width\":2,\"x\":{\"field\":\"x\"},\"y\":{\"field\":\"y\"}},\"id\":\"2389\",\"type\":\"Line\"},{\"attributes\":{\"coordinates\":null,\"data_source\":{\"id\":\"2393\"},\"glyph\":{\"id\":\"2394\"},\"group\":null,\"hover_glyph\":null,\"muted_glyph\":{\"id\":\"2396\"},\"nonselection_glyph\":{\"id\":\"2395\"},\"view\":{\"id\":\"2398\"}},\"id\":\"2397\",\"type\":\"GlyphRenderer\"},{\"attributes\":{\"coordinates\":null,\"formatter\":{\"id\":\"2527\"},\"group\":null,\"major_label_policy\":{\"id\":\"2528\"},\"major_label_text_font_size\":\"10pt\",\"ticker\":{\"id\":\"2354\"}},\"id\":\"2353\",\"type\":\"LinearAxis\"},{\"attributes\":{\"overlay\":{\"id\":\"2367\"}},\"id\":\"2363\",\"type\":\"BoxZoomTool\"},{\"attributes\":{\"data\":{\"x\":{\"__ndarray__\":\"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\",\"dtype\":\"float64\",\"order\":\"little\",\"shape\":[401]},\"y\":{\"__ndarray__\":\"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\",\"dtype\":\"float64\",\"order\":\"little\",\"shape\":[401]}},\"selected\":{\"id\":\"2530\"},\"selection_policy\":{\"id\":\"2529\"}},\"id\":\"2375\",\"type\":\"ColumnDataSource\"},{\"attributes\":{\"coordinates\":null,\"group\":null},\"id\":\"2513\",\"type\":\"Title\"},{\"attributes\":{\"overlay\":{\"id\":\"2336\"}},\"id\":\"2332\",\"type\":\"BoxZoomTool\"},{\"attributes\":{\"coordinates\":null,\"group\":null},\"id\":\"2515\",\"type\":\"Title\"},{\"attributes\":{\"tools\":[{\"id\":\"2361\"},{\"id\":\"2362\"},{\"id\":\"2363\"},{\"id\":\"2364\"},{\"id\":\"2365\"},{\"id\":\"2366\"}]},\"id\":\"2368\",\"type\":\"Toolbar\"},{\"attributes\":{},\"id\":\"2365\",\"type\":\"ResetTool\"},{\"attributes\":{\"line_alpha\":0.2,\"line_width\":2,\"x\":{\"field\":\"x\"},\"y\":{\"field\":\"y\"}},\"id\":\"2396\",\"type\":\"Line\"},{\"attributes\":{\"data\":{\"x\":{\"__ndarray__\":\"AAAAAAAAAACamZmZmZm5P5qZmZmZmck/NDMzMzMz0z+amZmZmZnZPwAAAAAAAOA/NDMzMzMz4z9nZmZmZmbmP5qZmZmZmek/zczMzMzM7D8AAAAAAADwP5qZmZmZmfE/NDMzMzMz8z/NzMzMzMz0P2dmZmZmZvY/AAAAAAAA+D+amZmZmZn5PzQzMzMzM/s/zczMzMzM/D9nZmZmZmb+PwAAAAAAAABAzczMzMzMAECamZmZmZkBQGdmZmZmZgJANDMzMzMzA0AAAAAAAAAEQM3MzMzMzARAmpmZmZmZBUBnZmZmZmYGQDQzMzMzMwdAAAAAAAAACEDNzMzMzMwIQJqZmZmZmQlAZ2ZmZmZmCkA0MzMzMzMLQAAAAAAAAAxAzczMzMzMDECamZmZmZkNQGdmZmZmZg5ANDMzMzMzD0AAAAAAAAAQQGdmZmZmZhBAzczMzMzMEEAzMzMzMzMRQJqZmZmZmRFAAAAAAAAAEkBnZmZmZmYSQM3MzMzMzBJANDMzMzMzE0CamZmZmZkTQAAAAAAAABRAZ2ZmZmZmFEDNzMzMzMwUQDQzMzMzMxVAmpmZmZmZFUAAAAAAAAAWQGdmZmZmZhZAzczMzMzMFkA0MzMzMzMXQJqZmZmZmRdAAAAAAAAAGEBnZmZmZmYYQM3MzMzMzBhANDMzMzMzGUCamZmZmZkZQAAAAAAAABpAZ2ZmZmZmGkDNzMzMzMwaQDQzMzMzMxtAmpmZmZmZG0AAAAAAAAAcQGdmZmZmZhxAzczMzMzMHEA0MzMzMzMdQJqZmZmZmR1AAAAAAAAAHkBnZmZmZmYeQM3MzMzMzB5ANDMzMzMzH0CamZmZmZkfQAAAAAAAACBAMzMzMzMzIEBnZmZmZmYgQJqZmZmZmSBAzczMzMzMIEAAAAAAAAAhQDMzMzMzMyFAZ2ZmZmZmIUCamZmZmZkhQM3MzMzMzCFAAAAAAAAAIkAzMzMzMzMiQGdmZmZmZiJAmpmZmZmZIkDNzMzMzMwiQAAAAAAAACNANDMzMzMzI0BnZmZmZmYjQJqZmZmZmSNAzczMzMzMI0AAAAAAAAAkQDQzMzMzMyRAZ2ZmZmZmJECamZmZmZkkQM3MzMzMzCRAAAAAAAAAJUA0MzMzMzMlQGdmZmZmZiVAmpmZmZmZJUDNzMzMzMwlQAAAAAAAACZANDMzMzMzJkBnZmZmZmYmQJqZmZmZmSZAzczMzMzMJkAAAAAAAAAnQDQzMzMzMydAZ2ZmZmZmJ0CamZmZmZknQM3MzMzMzCdAAAAAAAAAKEA0MzMzMzMoQGdmZmZmZihAmpmZmZmZKEDNzMzMzMwoQAAAAAAAAClANDMzMzMzKUBnZmZmZmYpQJqZmZmZmSlAzczMzMzMKUAAAAAAAAAqQDQzMzMzMypAZ2ZmZmZmKkCamZmZmZkqQM3MzMzMzCpAAAAAAAAAK0A0MzMzMzMrQGdmZmZmZitAmpmZmZmZK0DNzMzMzMwrQAAAAAAAACxANDMzMzMzLEBnZmZmZmYsQJqZmZmZmSxAzczMzMzMLEAAAAAAAAAtQDQzMzMzMy1AZ2ZmZmZmLUCamZmZmZktQM3MzMzMzC1AAAAAAAAALkA0MzMzMzMuQGdmZmZmZi5AmpmZmZmZLkDNzMzMzMwuQAAAAAAAAC9ANDMzMzMzL0BnZmZmZmYvQJqZmZmZmS9AzczMzMzML0AAAAAAAAAwQJqZmZmZGTBAMzMzMzMzMEDNzMzMzEwwQGdmZmZmZjBAAAAAAACAMECamZmZmZkwQDMzMzMzszBAzczMzMzMMEBnZmZmZuYwQAAAAAAAADFAmpmZmZkZMUAzMzMzMzMxQM3MzMzMTDFAZ2ZmZmZmMUAAAAAAAIAxQJqZmZmZmTFAMzMzMzOzMUDNzMzMzMwxQGdmZmZm5jFAAAAAAAAAMkCamZmZmRkyQDMzMzMzMzJAzczMzMxMMkBnZmZmZmYyQAAAAAAAgDJAmpmZmZmZMkAzMzMzM7MyQM3MzMzMzDJAZ2ZmZmbmMkAAAAAAAAAzQJqZmZmZGTNANDMzMzMzM0DNzMzMzEwzQGdmZmZmZjNAAAAAAACAM0CamZmZmZkzQDQzMzMzszNAzczMzMzMM0BnZmZmZuYzQAAAAAAAADRAmpmZmZkZNEA0MzMzMzM0QM3MzMzMTDRAZ2ZmZmZmNEAAAAAAAIA0QJqZmZmZmTRANDMzMzOzNEDNzMzMzMw0QGdmZmZm5jRAAAAAAAAANUCamZmZmRk1QDQzMzMzMzVAzczMzMxMNUBnZmZmZmY1QAAAAAAAgDVAmpmZmZmZNUA0MzMzM7M1QM3MzMzMzDVAZ2ZmZmbmNUAAAAAAAAA2QJqZmZmZGTZANDMzMzMzNkDNzMzMzEw2QGdmZmZmZjZAAAAAAACANkCamZmZmZk2QDQzMzMzszZAzczMzMzMNkBnZmZmZuY2QAAAAAAAADdAmpmZmZkZN0A0MzMzMzM3QM3MzMzMTDdAZ2ZmZmZmN0AAAAAAAIA3QJqZmZmZmTdANDMzMzOzN0DNzMzMzMw3QGdmZmZm5jdAAAAAAAAAOECamZmZmRk4QDQzMzMzMzhAzczMzMxMOEBnZmZmZmY4QAAAAAAAgDhAmpmZmZmZOEA0MzMzM7M4QM3MzMzMzDhAZ2ZmZmbmOEAAAAAAAAA5QJqZmZmZGTlANDMzMzMzOUDNzMzMzEw5QGdmZmZmZjlAAAAAAACAOUCamZmZmZk5QDQzMzMzszlAzczMzMzMOUBnZmZmZuY5QAAAAAAAADpAmpmZmZkZOkA0MzMzMzM6QM3MzMzMTDpAZ2ZmZmZmOkAAAAAAAIA6QJqZmZmZmTpANDMzMzOzOkDNzMzMzMw6QGdmZmZm5jpAAAAAAAAAO0CamZmZmRk7QDQzMzMzMztAzczMzMxMO0BnZmZmZmY7QAAAAAAAgDtAmpmZmZmZO0A0MzMzM7M7QM3MzMzMzDtAZ2ZmZmbmO0AAAAAAAAA8QJqZmZmZGTxANDMzMzMzPEDNzMzMzEw8QGdmZmZmZjxAAAAAAACAPECamZmZmZk8QDQzMzMzszxAzczMzMzMPEBnZmZmZuY8QAAAAAAAAD1AmpmZmZkZPUA0MzMzMzM9QM3MzMzMTD1AZ2ZmZmZmPUAAAAAAAIA9QJqZmZmZmT1ANDMzMzOzPUDNzMzMzMw9QGdmZmZm5j1AAAAAAAAAPkCamZmZmRk+QDQzMzMzMz5AzczMzMxMPkBnZmZmZmY+QAAAAAAAgD5AmpmZmZmZPkA0MzMzM7M+QM3MzMzMzD5AZ2ZmZmbmPkAAAAAAAAA/QJqZmZmZGT9ANDMzMzMzP0DNzMzMzEw/QGdmZmZmZj9AAAAAAACAP0CamZmZmZk/QDQzMzMzsz9AzczMzMzMP0BnZmZmZuY/QAAAAAAAAEBAzczMzMwMQECamZmZmRlAQGdmZmZmJkBAMzMzMzMzQEAAAAAAAEBAQM3MzMzMTEBAmpmZmZlZQEBnZmZmZmZAQDMzMzMzc0BAAAAAAACAQEDNzMzMzIxAQJqZmZmZmUBAZ2ZmZmamQEAzMzMzM7NAQAAAAAAAwEBAzczMzMzMQECamZmZmdlAQGdmZmZm5kBAMzMzMzPzQEAAAAAAAABBQM3MzMzMDEFAmpmZmZkZQUBnZmZmZiZBQDMzMzMzM0FAAAAAAABAQUDNzMzMzExBQJqZmZmZWUFAZ2ZmZmZmQUAzMzMzM3NBQAAAAAAAgEFAzczMzMyMQUCamZmZmZlBQGdmZmZmpkFAMzMzMzOzQUAAAAAAAMBBQM3MzMzMzEFAmpmZmZnZQUBnZmZmZuZBQDMzMzMz80FAAAAAAAAAQkDNzMzMzAxCQJqZmZmZGUJAZ2ZmZmYmQkAzMzMzMzNCQAAAAAAAQEJAzczMzMxMQkCamZmZmVlCQGdmZmZmZkJAMzMzMzNzQkAAAAAAAIBCQM3MzMzMjEJAmpmZmZmZQkBnZmZmZqZCQDMzMzMzs0JAAAAAAADAQkDNzMzMzMxCQJqZmZmZ2UJAZ2ZmZmbmQkAzMzMzM/NCQAAAAAAAAENAzczMzMwMQ0CamZmZmRlDQGdmZmZmJkNANDMzMzMzQ0AAAAAAAEBDQM3MzMzMTENAmpmZmZlZQ0BnZmZmZmZDQDQzMzMzc0NAAAAAAACAQ0DNzMzMzIxDQJqZmZmZmUNAZ2ZmZmamQ0A0MzMzM7NDQAAAAAAAwENAzczMzMzMQ0CamZmZmdlDQGdmZmZm5kNANDMzMzPzQ0AAAAAAAABEQA==\",\"dtype\":\"float64\",\"order\":\"little\",\"shape\":[401]},\"y\":{\"__ndarray__\":\"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\",\"dtype\":\"float64\",\"order\":\"little\",\"shape\":[401]}},\"selected\":{\"id\":\"2532\"},\"selection_policy\":{\"id\":\"2531\"}},\"id\":\"2387\",\"type\":\"ColumnDataSource\"},{\"attributes\":{},\"id\":\"2347\",\"type\":\"DataRange1d\"},{\"attributes\":{\"axis\":{\"id\":\"2357\"},\"coordinates\":null,\"dimension\":1,\"group\":null,\"ticker\":null},\"id\":\"2360\",\"type\":\"Grid\"},{\"attributes\":{},\"id\":\"2366\",\"type\":\"HelpTool\"},{\"attributes\":{},\"id\":\"2331\",\"type\":\"WheelZoomTool\"},{\"attributes\":{\"coordinates\":null,\"data_source\":{\"id\":\"2387\"},\"glyph\":{\"id\":\"2388\"},\"group\":null,\"hover_glyph\":null,\"muted_glyph\":{\"id\":\"2390\"},\"nonselection_glyph\":{\"id\":\"2389\"},\"view\":{\"id\":\"2392\"}},\"id\":\"2391\",\"type\":\"GlyphRenderer\"},{\"attributes\":{\"tools\":[{\"id\":\"2330\"},{\"id\":\"2331\"},{\"id\":\"2332\"},{\"id\":\"2333\"},{\"id\":\"2334\"},{\"id\":\"2335\"}]},\"id\":\"2337\",\"type\":\"Toolbar\"},{\"attributes\":{\"line_alpha\":0.1,\"line_width\":2,\"x\":{\"field\":\"x\"},\"y\":{\"field\":\"y\"}},\"id\":\"2395\",\"type\":\"Line\"},{\"attributes\":{},\"id\":\"2345\",\"type\":\"DataRange1d\"},{\"attributes\":{},\"id\":\"2354\",\"type\":\"BasicTicker\"},{\"attributes\":{\"coordinates\":null,\"formatter\":{\"id\":\"2524\"},\"group\":null,\"major_label_policy\":{\"id\":\"2525\"},\"major_label_text_font_size\":\"10pt\",\"ticker\":{\"id\":\"2358\"}},\"id\":\"2357\",\"type\":\"LinearAxis\"},{\"attributes\":{\"source\":{\"id\":\"2387\"}},\"id\":\"2392\",\"type\":\"CDSView\"},{\"attributes\":{\"bottom_units\":\"screen\",\"coordinates\":null,\"fill_alpha\":0.5,\"fill_color\":\"lightgrey\",\"group\":null,\"left_units\":\"screen\",\"level\":\"overlay\",\"line_alpha\":1.0,\"line_color\":\"black\",\"line_dash\":[4,4],\"line_width\":2,\"right_units\":\"screen\",\"syncable\":false,\"top_units\":\"screen\"},\"id\":\"2367\",\"type\":\"BoxAnnotation\"},{\"attributes\":{},\"id\":\"2351\",\"type\":\"LinearScale\"},{\"attributes\":{\"line_alpha\":0.2,\"line_width\":2,\"x\":{\"field\":\"x\"},\"y\":{\"field\":\"y\"}},\"id\":\"2390\",\"type\":\"Line\"},{\"attributes\":{\"line_width\":2,\"x\":{\"field\":\"x\"},\"y\":{\"field\":\"y\"}},\"id\":\"2388\",\"type\":\"Line\"},{\"attributes\":{\"data\":{\"x\":{\"__ndarray__\":\"AAAAAAAAAACfmoFqBqqZP5+agWoGqqk/9zPhz4Q/sz+fmoFqBqq5P6MAkQJECsA/9zPhz4Q/wz9LZzGdxXTGP5+agWoGqsk/883RN0ffzD+jAJECRArQP00aOWnkpNE/9zPhz4Q/0z+hTYk2JdrUP0tnMZ3FdNY/9YDZA2YP2D+fmoFqBqrZP0m0KdGmRNs/883RN0ff3D+d53me53neP6MAkQJECuA/eA3lNZTX4D9NGjlp5KThPyInjZw0cuI/9zPhz4Q/4z/MQDUD1QzkP6FNiTYl2uQ/dlrdaXWn5T9LZzGdxXTmPyB0hdAVQuc/9YDZA2YP6D/KjS03ttzoP5+agWoGquk/dKfVnVZ36j9JtCnRpkTrPx7BfQT3Eew/883RN0ff7D/I2iVrl6ztP53neZ7nee4/cvTN0TdH7z+jAJECRArwPw4HOxzscPA/eA3lNZTX8D/jE49PPD7xP00aOWnkpPE/uCDjgowL8j8iJ42cNHLyP40tN7bc2PI/9zPhz4Q/8z9iOovpLKbzP8xANQPVDPQ/N0ffHH1z9D+hTYk2Jdr0PwxUM1DNQPU/dlrdaXWn9T/hYIeDHQ72P0tnMZ3FdPY/tm3btm3b9j8gdIXQFUL3P4t6L+q9qPc/9YDZA2YP+D9gh4MdDnb4P8qNLTe23Pg/NZTXUF5D+T+fmoFqBqr5PwmhK4SuEPo/dKfVnVZ3+j/erX+3/t36P0m0KdGmRPs/s7rT6k6r+z8ewX0E9xH8P4jHJx6fePw/883RN0ff/D9d1HtR70X9P8jaJWuXrP0/MuHPhD8T/j+d53me53n+PwfuI7iP4P4/cvTN0TdH/z/c+nfr363/Pw==\",\"dtype\":\"float64\",\"order\":\"little\",\"shape\":[80]},\"y\":{\"__ndarray__\":\"5f9Ti0TJ0D8KW+eBmFgqQBfkiFSgxjNATjKojhBgcUDkJmeRm0aDQBi7RoWRKEZAXQ5kg9CVJkB3/0tprjxzQImGfgwc6FRAZb2xosYJWkDtLVkR8cJZQJcH+aD8xFRAgmi0Cx00UkBEZ5G0NaUtQEzbQ0R3klNAK0LZVQ2dSUAMGalGH0pBQHVG1Prx/jhA9LWTEzkTNUAQgCKyANQrQG0g7ESB4idAfof4UcfCMEA0NGcKoIwiQApLFg6JPypAkNNY2hwKIkBFw1ypbfQcQGnHKXL5XxpANdeWfUzuF0CcW3xRaZAlQIDzrUVXnhtALqRH/HSkGEAQK2HQ/sUVQD3S7BktDRNAdRlmRodmEUBKIlxfFdYOQCa1FL1s4AxApuA51lJHCEDa+LnysakHQHo138rGPxJAwXBGg13IB0CYbH7z2zYMQM2RpSuumQhAGNngsqD3B0Bech3QoDEEQKoqzQUOYgNAIXwPGIwnBUDM2LzfC1oCQHHbxHODYQFAgluorG4xAEDTB4OpVV7/P6Y6AmZjm/w/zB1vKmZT/T9go0tUOVX9P3je3JSd+/k/o6ZnpPlg+j+lR87pKN/4P6BApHs5+Pc/aynKJCEr9z9fKgrhbQn2P/pwua891fU/1ZmPNDEA9D+M9mvyF5n0P1djK7d6P/M/LmwRtkxF9D89nQU216HyP0t5K/RAyvE/FPtTlfR38T+8w3sw/pTwP1MCV9gSVvA/0wtdY2b77z+uKwJ4skPuP+bbM09SN+8/1444wsaX7D/VLF+sT0vsPxAYxc4Vv+w/YGLB1N8F7D+AxAuPbrXqP96lia63keo/ixKs7/GY6T+u0Kan9qroPw==\",\"dtype\":\"float64\",\"order\":\"little\",\"shape\":[80]}},\"selected\":{\"id\":\"2537\"},\"selection_policy\":{\"id\":\"2536\"}},\"id\":\"2393\",\"type\":\"ColumnDataSource\"},{\"attributes\":{},\"id\":\"2361\",\"type\":\"PanTool\"},{\"attributes\":{\"line_width\":2,\"x\":{\"field\":\"x\"},\"y\":{\"field\":\"y\"}},\"id\":\"2394\",\"type\":\"Line\"},{\"attributes\":{},\"id\":\"2364\",\"type\":\"SaveTool\"},{\"attributes\":{},\"id\":\"2358\",\"type\":\"BasicTicker\"},{\"attributes\":{\"bottom_units\":\"screen\",\"coordinates\":null,\"fill_alpha\":0.5,\"fill_color\":\"lightgrey\",\"group\":null,\"left_units\":\"screen\",\"level\":\"overlay\",\"line_alpha\":1.0,\"line_color\":\"black\",\"line_dash\":[4,4],\"line_width\":2,\"right_units\":\"screen\",\"syncable\":false,\"top_units\":\"screen\"},\"id\":\"2336\",\"type\":\"BoxAnnotation\"},{\"attributes\":{},\"id\":\"2534\",\"type\":\"UnionRenderers\"},{\"attributes\":{\"line_alpha\":0.1,\"line_color\":\"orange\",\"line_width\":2,\"x\":{\"field\":\"x\"},\"y\":{\"field\":\"y\"}},\"id\":\"2377\",\"type\":\"Line\"},{\"attributes\":{},\"id\":\"2536\",\"type\":\"UnionRenderers\"},{\"attributes\":{},\"id\":\"2327\",\"type\":\"BasicTicker\"},{\"attributes\":{},\"id\":\"2521\",\"type\":\"BasicTickFormatter\"},{\"attributes\":{},\"id\":\"2314\",\"type\":\"DataRange1d\"},{\"attributes\":{},\"id\":\"2535\",\"type\":\"Selection\"},{\"attributes\":{},\"id\":\"2530\",\"type\":\"Selection\"},{\"attributes\":{\"below\":[{\"id\":\"2353\"}],\"center\":[{\"id\":\"2356\"},{\"id\":\"2360\"}],\"height\":200,\"left\":[{\"id\":\"2357\"}],\"renderers\":[{\"id\":\"2385\"},{\"id\":\"2397\"}],\"title\":{\"id\":\"2515\"},\"toolbar\":{\"id\":\"2368\"},\"width\":400,\"x_range\":{\"id\":\"2345\"},\"x_scale\":{\"id\":\"2349\"},\"y_range\":{\"id\":\"2347\"},\"y_scale\":{\"id\":\"2351\"}},\"id\":\"2344\",\"subtype\":\"Figure\",\"type\":\"Plot\"},{\"attributes\":{},\"id\":\"2531\",\"type\":\"UnionRenderers\"},{\"attributes\":{},\"id\":\"2537\",\"type\":\"Selection\"},{\"attributes\":{},\"id\":\"2320\",\"type\":\"LinearScale\"},{\"attributes\":{},\"id\":\"2529\",\"type\":\"UnionRenderers\"},{\"attributes\":{},\"id\":\"2519\",\"type\":\"AllLabels\"},{\"attributes\":{},\"id\":\"2525\",\"type\":\"AllLabels\"},{\"attributes\":{},\"id\":\"2527\",\"type\":\"BasicTickFormatter\"},{\"attributes\":{\"coordinates\":null,\"formatter\":{\"id\":\"2518\"},\"group\":null,\"major_label_policy\":{\"id\":\"2519\"},\"major_label_text_font_size\":\"10pt\",\"ticker\":{\"id\":\"2327\"}},\"id\":\"2326\",\"type\":\"LinearAxis\"},{\"attributes\":{\"axis\":{\"id\":\"2322\"},\"coordinates\":null,\"group\":null,\"ticker\":null},\"id\":\"2325\",\"type\":\"Grid\"},{\"attributes\":{\"line_color\":\"orange\",\"line_width\":2,\"x\":{\"field\":\"x\"},\"y\":{\"field\":\"y\"}},\"id\":\"2382\",\"type\":\"Line\"},{\"attributes\":{\"line_color\":\"orange\",\"line_width\":2,\"x\":{\"field\":\"x\"},\"y\":{\"field\":\"y\"}},\"id\":\"2376\",\"type\":\"Line\"},{\"attributes\":{},\"id\":\"2524\",\"type\":\"BasicTickFormatter\"},{\"attributes\":{},\"id\":\"2323\",\"type\":\"BasicTicker\"},{\"attributes\":{},\"id\":\"2532\",\"type\":\"Selection\"},{\"attributes\":{},\"id\":\"2316\",\"type\":\"DataRange1d\"},{\"attributes\":{\"coordinates\":null,\"formatter\":{\"id\":\"2521\"},\"group\":null,\"major_label_policy\":{\"id\":\"2522\"},\"major_label_text_font_size\":\"10pt\",\"ticker\":{\"id\":\"2323\"}},\"id\":\"2322\",\"type\":\"LinearAxis\"},{\"attributes\":{\"coordinates\":null,\"data_source\":{\"id\":\"2375\"},\"glyph\":{\"id\":\"2376\"},\"group\":null,\"hover_glyph\":null,\"muted_glyph\":{\"id\":\"2378\"},\"nonselection_glyph\":{\"id\":\"2377\"},\"view\":{\"id\":\"2380\"}},\"id\":\"2379\",\"type\":\"GlyphRenderer\"},{\"attributes\":{\"line_alpha\":0.2,\"line_color\":\"orange\",\"line_width\":2,\"x\":{\"field\":\"x\"},\"y\":{\"field\":\"y\"}},\"id\":\"2378\",\"type\":\"Line\"},{\"attributes\":{},\"id\":\"2522\",\"type\":\"AllLabels\"},{\"attributes\":{\"below\":[{\"id\":\"2322\"}],\"center\":[{\"id\":\"2325\"},{\"id\":\"2329\"}],\"height\":200,\"left\":[{\"id\":\"2326\"}],\"renderers\":[{\"id\":\"2379\"},{\"id\":\"2391\"}],\"title\":{\"id\":\"2513\"},\"toolbar\":{\"id\":\"2337\"},\"width\":400,\"x_range\":{\"id\":\"2314\"},\"x_scale\":{\"id\":\"2318\"},\"y_range\":{\"id\":\"2316\"},\"y_scale\":{\"id\":\"2320\"}},\"id\":\"2313\",\"subtype\":\"Figure\",\"type\":\"Plot\"},{\"attributes\":{\"axis\":{\"id\":\"2326\"},\"coordinates\":null,\"dimension\":1,\"group\":null,\"ticker\":null},\"id\":\"2329\",\"type\":\"Grid\"},{\"attributes\":{\"source\":{\"id\":\"2375\"}},\"id\":\"2380\",\"type\":\"CDSView\"},{\"attributes\":{},\"id\":\"2318\",\"type\":\"LinearScale\"},{\"attributes\":{},\"id\":\"2518\",\"type\":\"BasicTickFormatter\"},{\"attributes\":{\"data\":{\"x\":{\"__ndarray__\":\"AAAAAAAAAACfmoFqBqqZP5+agWoGqqk/9zPhz4Q/sz+fmoFqBqq5P6MAkQJECsA/9zPhz4Q/wz9LZzGdxXTGP5+agWoGqsk/883RN0ffzD+jAJECRArQP00aOWnkpNE/9zPhz4Q/0z+hTYk2JdrUP0tnMZ3FdNY/9YDZA2YP2D+fmoFqBqrZP0m0KdGmRNs/883RN0ff3D+d53me53neP6MAkQJECuA/eA3lNZTX4D9NGjlp5KThPyInjZw0cuI/9zPhz4Q/4z/MQDUD1QzkP6FNiTYl2uQ/dlrdaXWn5T9LZzGdxXTmPyB0hdAVQuc/9YDZA2YP6D/KjS03ttzoP5+agWoGquk/dKfVnVZ36j9JtCnRpkTrPx7BfQT3Eew/883RN0ff7D/I2iVrl6ztP53neZ7nee4/cvTN0TdH7z+jAJECRArwPw4HOxzscPA/eA3lNZTX8D/jE49PPD7xP00aOWnkpPE/uCDjgowL8j8iJ42cNHLyP40tN7bc2PI/9zPhz4Q/8z9iOovpLKbzP8xANQPVDPQ/N0ffHH1z9D+hTYk2Jdr0PwxUM1DNQPU/dlrdaXWn9T/hYIeDHQ72P0tnMZ3FdPY/tm3btm3b9j8gdIXQFUL3P4t6L+q9qPc/9YDZA2YP+D9gh4MdDnb4P8qNLTe23Pg/NZTXUF5D+T+fmoFqBqr5PwmhK4SuEPo/dKfVnVZ3+j/erX+3/t36P0m0KdGmRPs/s7rT6k6r+z8ewX0E9xH8P4jHJx6fePw/883RN0ff/D9d1HtR70X9P8jaJWuXrP0/MuHPhD8T/j+d53me53n+PwfuI7iP4P4/cvTN0TdH/z/c+nfr363/Pw==\",\"dtype\":\"float64\",\"order\":\"little\",\"shape\":[80]},\"y\":{\"__ndarray__\":\"UsTkoCCRzz/QRh/i9fw0QDemtT4bnnFA3YHhXY5VN0CkEylqlU5TQEKiPA2g035Avyopo65mgECZTswrXaVFQLacnTlc2FhAUS6H0EkRZkCbRQxtDfVyQGOOp4PsoFBASj+v1HEkUkAcuvP+W5hRQIix/QDcazNAk6KEDeJ3R0Cr0o4DqUs8QL3P3vyupShA8XG/o7KsOEARusHzcWU3QJslqXI3NTJArEDeOZrIKkAAfNsEiWIpQPi4W8FAiyVAdlXt22N9IkCF/fmwywkgQMWz1n1N8R5ArGpUgnoKG0AOpmx8xbMYQI8b220rQRZACuVkyRzIFUDtwqbajMkUQCN356YkIRNAZGfw+NpbEUCPDu3x7R8PQCqSIV06SQ9ATpDMMngRDUDcaqwTfrgLQEydpKaysglABjQD4wHYB0BHHD1IW8MGQMzuVkSoqQVAyva2AABEBEDfnwKazncDQE7JAN/fKQJAU9ODiTbYAUBSX3bvrakAQGVTr7Q/swBAJ+5uSekk/z+QV3anxqf9P2kQh93Jzfw/heGmrAiM+z841ZuGuhf6P7CuQwyRPvk/SG+RiSSR+D96isyrv/33P619NNqDE/c/iB/Ynxx79j9ad5TusFf1P/IHdJy/5fQ/iizXqEz38z/+6lMMuGHzP3Zf/CHFovI/mXXV+ExA8j9dH8z21IzxP+yUcpUORfE/LnMSFH2P8D+897qIlFnwP1TzrkN9Nu8/bwU0yswt7z9iR6oIr/rtP94AjjN7O+0/+q9KkfdG7D/Dn2ozCoPrP4LfUkWyRes/MYEBghWt6j+3OHtwpbzpPzZZvbDPIek/RfjNRkRz6D8F/eNNLv/nPw==\",\"dtype\":\"float64\",\"order\":\"little\",\"shape\":[80]}},\"selected\":{\"id\":\"2535\"},\"selection_policy\":{\"id\":\"2534\"}},\"id\":\"2381\",\"type\":\"ColumnDataSource\"}],\"root_ids\":[\"2399\"]},\"title\":\"Bokeh Application\",\"version\":\"2.4.1\"}};\n",
       "  const render_items = [{\"docid\":\"3b986174-0729-4377-8a43-c26051d8e4c3\",\"root_ids\":[\"2399\"],\"roots\":{\"2399\":\"673bec55-a636-462c-ba34-f08b5624c63b\"}}];\n",
       "  root.Bokeh.embed.embed_items_notebook(docs_json, render_items);\n",
       "\n",
       "  }\n",
       "  if (root.Bokeh !== undefined) {\n",
       "    embed_document(root);\n",
       "  } else {\n",
       "    let attempts = 0;\n",
       "    const timer = setInterval(function(root) {\n",
       "      if (root.Bokeh !== undefined) {\n",
       "        clearInterval(timer);\n",
       "        embed_document(root);\n",
       "      } else {\n",
       "        attempts++;\n",
       "        if (attempts > 100) {\n",
       "          clearInterval(timer);\n",
       "          console.log(\"Bokeh: ERROR: Unable to run BokehJS code because BokehJS library is missing\");\n",
       "        }\n",
       "      }\n",
       "    }, 10, root)\n",
       "  }\n",
       "})(window);"
      ],
      "application/vnd.bokehjs_exec.v0+json": ""
     },
     "metadata": {
      "application/vnd.bokehjs_exec.v0+json": {
       "id": "2399"
      }
     },
     "output_type": "display_data"
    }
   ],
   "source": [
    "fig_size = [400, 200] # for paper size (144, 110) # for larger size (144,144)\n",
    "x_range = (0, time_points[-1])\n",
    "y_range = (0, 200)\n",
    "\n",
    "plots = []\n",
    "for i in range(2):\n",
    "    plots.append(bokeh.plotting.figure(plot_width=fig_size[0], plot_height=fig_size[1],\n",
    "                          #x_range=x_range,y_range=y_range\n",
    "                          ),)\n",
    "    plots[i].axis.major_label_text_font_size = \"10pt\"\n",
    "\n",
    "dt = time_points[1] - time_points[0]\n",
    "\n",
    "y1 = samples[0,:,10] # samples[:,:,10][0]\n",
    "y1s = y1 - y1.mean()\n",
    "lags, auto_corr = correlate(y1s, y1s, dt)\n",
    "f,Mf = FFT(lags, auto_corr, (0, 2))\n",
    "\n",
    "plots[0].line(lags, auto_corr, line_width=2, alpha= 1, line_join=\"bevel\",color=\"orange\")\n",
    "plots[1].line(f, Mf, line_width=2, alpha= 1, line_join=\"bevel\",color=\"orange\")\n",
    "\n",
    "y1 = samples[0,:,13] # samples[:,:,10][0]\n",
    "y1s = y1 - y1.mean()\n",
    "lags, auto_corr = correlate(y1s, y1s, dt)\n",
    "f,Mf = FFT(lags, auto_corr, (0, 2))\n",
    "\n",
    "plots[0].line(lags, auto_corr, line_width=2, alpha= 1, line_join=\"bevel\",color=\"black\")\n",
    "plots[1].line(f, Mf, line_width=2, alpha= 1, line_join=\"bevel\",color=\"black\")\n",
    "\n",
    "bokeh.io.show(bokeh.layouts.row(plots))"
   ]
  },
  {
   "cell_type": "code",
   "execution_count": null,
   "metadata": {
    "id": "gIq0JFaxvREs"
   },
   "outputs": [],
   "source": [
    "# Specify parameters for calculation\n",
    "n = 1 # copy number of promoter\n",
    "th = .1*600/n # 1/h\n",
    "rh = 80 # 1/h\n",
    "ph = 0.6931/10*60 # 1/h log(2)=0.6931\n",
    "d = 0.6931/30*60 # 1/h log(2)=0.6931\n",
    "g = 2.1*36 # 1/uM/h \n",
    "gd = g*0.01 # 1/h\n",
    "r = 5 # 1/h Switching rate\n",
    "a0 = 2.1*36\n",
    "d0 = 0.2*a0\n",
    "\n",
    "Omega = 600 # 600\n",
    "size = 250\n",
    "#dir = \"/content/drive/My Drive/Research/2022/RecombinaseOscillator/\"\n",
    "f_name = dir+\"Nodel_1_Data_\"+str(size)+\".npy\"\n",
    "\n",
    "args = (th, rh, ph, d, g, gd, a0, d0, r, Omega, n)\n",
    "time_points = np.linspace(0, 40, 401)\n",
    "population_0 = np.zeros(23, dtype=int)\n",
    "population_0[0] = n\n",
    "population_0[17] = n\n",
    "population_0[21] = n\n",
    "\n",
    "if os.path.exists(f_name):\n",
    "    samples = np.load(f_name)\n",
    "else:\n",
    "    samples = biocircuits.gillespie_ssa(simple_propensity, simple_update, population_0,time_points, size=size, args=args, n_threads=2,progress_bar=False)\n",
    "    #np.savetxt(f_name, samples, fmt='%d')\n",
    "    np.save(f_name, samples)\n"
   ]
  },
  {
   "cell_type": "code",
   "execution_count": null,
   "metadata": {
    "id": "p9TmQcH5mma5"
   },
   "outputs": [],
   "source": [
    "# This function finds the time of the peak\n",
    "def FindPicks(t,samples):\n",
    "    ys = samples - samples.mean()\n",
    "    lags, auto_corr = correlate(ys, ys, t[1]-t[0])\n",
    "    max_id = argrelextrema(auto_corr, np.greater)\n",
    "    return t[max_id[0][0:4]]"
   ]
  },
  {
   "cell_type": "code",
   "execution_count": null,
   "metadata": {
    "id": "BaoCDS_fnnLY"
   },
   "outputs": [],
   "source": [
    "t_peaks = FindPicks(time_points,samples[0,:,10])\n",
    "for i in range(1,samples.shape[0]):\n",
    "    t_peaks = np.vstack((t_peaks,FindPicks(time_points,samples[i,:,10])))\n",
    "\n",
    "#print(tmp)"
   ]
  },
  {
   "cell_type": "code",
   "execution_count": null,
   "metadata": {
    "id": "yz1UOcgir_kU"
   },
   "outputs": [],
   "source": [
    "fig_size = [300, 200] # for paper size (144, 110) # for larger size (144,144)\n",
    "x_range = (0, time_points[-1])\n",
    "y_range = (0, 200)\n",
    "\n",
    "plots = []\n",
    "for i in range(3):\n",
    "    plots.append(bokeh.plotting.figure(plot_width=fig_size[0], plot_height=fig_size[1],\n",
    "                          #x_range=x_range,y_range=y_range\n",
    "                          ),)\n",
    "    plots[i].axis.major_label_text_font_size = \"10pt\"\n",
    "\n",
    "x = np.linspace(0,20,41)\n",
    "\n",
    "for j in range(3):\n",
    "    hist, bin_edges = np.histogram(t_peaks[:,j], x, density=True)\n",
    "    plots[j].quad(top=hist, bottom=0, left=bin_edges[:-1], right=bin_edges[1:],fill_color=\"grey\", line_color=\"grey\", fill_alpha=0.2,line_alpha=0.)\n",
    "    plots[j].step(bin_edges[:-1],hist, line_width=2, mode=\"after\", color = \"grey\")\n",
    "\n",
    "bokeh.io.show(bokeh.layouts.row(plots))"
   ]
  },
  {
   "cell_type": "code",
   "execution_count": null,
   "metadata": {
    "id": "8-pcHov6F58J"
   },
   "outputs": [],
   "source": [
    "# This function finds the Delta T between peak times\n",
    "def FindDeltaT(t,samples):\n",
    "    ys = samples - samples.mean()\n",
    "    lags, auto_corr = correlate(ys, ys, t[1]-t[0])\n",
    "    max_id = argrelextrema(auto_corr, np.greater)\n",
    "    return t[max_id[0][1:5]]-t[max_id[0][0]]"
   ]
  },
  {
   "cell_type": "code",
   "execution_count": null,
   "metadata": {
    "id": "gC_TCHbJysdl"
   },
   "outputs": [],
   "source": [
    "Delta_T = FindDeltaT(time_points,samples[0,:,10])\n",
    "for i in range(1,samples.shape[0]):\n",
    "    Delta_T = np.vstack((Delta_T,FindDeltaT(time_points,samples[i,:,10])))"
   ]
  },
  {
   "cell_type": "code",
   "execution_count": null,
   "metadata": {
    "id": "z5LeyEZcyvQ1"
   },
   "outputs": [],
   "source": [
    "fig_size = [300, 200] # for paper size (144, 110) # for larger size (144,144)\n",
    "x_range = (0, time_points[-1])\n",
    "y_range = (0, 200)\n",
    "\n",
    "plots = []\n",
    "for i in range(3):\n",
    "    plots.append(bokeh.plotting.figure(plot_width=fig_size[0], plot_height=fig_size[1],\n",
    "                          #x_range=x_range,y_range=y_range\n",
    "                          ),)\n",
    "    plots[i].axis.major_label_text_font_size = \"10pt\"\n",
    "\n",
    "x = np.linspace(0,20,41)\n",
    "\n",
    "for j in range(3):\n",
    "    hist, bin_edges = np.histogram(Delta_T[:,j], x, density=True)\n",
    "    plots[j].quad(top=hist, bottom=0, left=bin_edges[:-1], right=bin_edges[1:],fill_color=\"grey\", line_color=\"grey\", fill_alpha=0.2,line_alpha=0.)\n",
    "    plots[j].step(bin_edges[:-1],hist, line_width=2, mode=\"after\", color = \"grey\")\n",
    "\n",
    "bokeh.io.show(bokeh.layouts.row(plots))"
   ]
  },
  {
   "cell_type": "code",
   "execution_count": null,
   "metadata": {
    "id": "RPHurCE6zQX8"
   },
   "outputs": [],
   "source": [
    "# Computing the peak vs the variance\n",
    "\n",
    "fig_size = [300, 200] # for paper size (144, 110) # for larger size (144,144)\n",
    "x_range = (0, time_points[-1])\n",
    "y_range = (0, 200)\n",
    "\n",
    "plots = []\n",
    "for i in range(1):\n",
    "    plots.append(bokeh.plotting.figure(plot_width=fig_size[0], plot_height=fig_size[1],\n",
    "                          #x_range=x_range,y_range=y_range\n",
    "                          ),)\n",
    "    plots[i].axis.major_label_text_font_size = \"10pt\"\n",
    "\n",
    "vx = range(1,5)\n",
    "vy = np.var(Delta_T, axis=0)\n",
    "\n",
    "plots[0].circle(vx,vy, line_width=2)\n",
    "\n",
    "L_eq = np.polyfit(vx,vy,1)\n",
    "plots[0].line(vx, np.poly1d(L_eq)(vx), line_width=2, alpha= 0.5, line_join=\"bevel\",color=\"grey\")\n",
    "\n",
    "bokeh.io.show(bokeh.layouts.row(plots))"
   ]
  },
  {
   "cell_type": "code",
   "execution_count": null,
   "metadata": {
    "id": "knalF4eVAqxI"
   },
   "outputs": [],
   "source": [
    "L_eq"
   ]
  },
  {
   "cell_type": "code",
   "execution_count": null,
   "metadata": {
    "id": "dbiQvnVC4zNb"
   },
   "outputs": [],
   "source": [
    "# Specify parameters for calculation\n",
    "n = 1 # copy number of promoter\n",
    "th = 0.3*60/n # 1/h\n",
    "rh = 80 # 1/h\n",
    "ph = 0.6931/10*60 # 1/h log(2)=0.6931\n",
    "d = 0.6931/30*60 # 1/h log(2)=0.6931\n",
    "g = 2.1*36 # 1/uM/h \n",
    "gd = g*0.01 # 1/h\n",
    "r = 5 # 1/h Switching rate\n",
    "a0 = 2.1*36/2\n",
    "d0 = 0.1*a0\n",
    "\n",
    "b = 0.3*60/n\n",
    "rh2 = 80\n",
    "aR = 2.1*36/2\n",
    "dR = 0.05*aR\n",
    "\n",
    "Omega = 600 # 600\n",
    "size = 2\n",
    "state = 10 # 10 (recombinase 1) or 13 (recombinase 2)\n",
    "\n",
    "args = (th, rh, ph, d, g, gd, a0, d0, r, b, rh2, aR, dR, Omega, n)\n",
    "time_points = np.linspace(0, 40, 401) # 40 by 401\n",
    "population_0 = np.zeros(23, dtype=int)\n",
    "population_0[0] = n\n",
    "population_0[17] = n\n",
    "population_0[21] = n\n",
    "\n",
    "param = (2,3,4,6,8, 10, 11)\n",
    "#param = range(0,8)\n",
    "scale = (1./4, 1./3, 1./2, 1., 2.,3., 4.)\n",
    "vx = range(1,5)\n",
    "\n",
    "out = np.array((0., 1./4, 1./3, 1./2, 1., 2., 3., 4.))\n",
    "\n",
    "#dir = \"/content/drive/My Drive/Research/2022/RecombinaseOscillator/\"\n",
    "f_name2 = dir+\"Model_1_AllSensitivity_\"+str(size)+\".npy\"\n",
    "\n",
    "if os.path.exists(f_name2):\n",
    "    out = np.load(f_name2)\n",
    "    idx = param.index(out[-1,0])+1\n",
    "else:\n",
    "    idx = 0\n",
    "\n",
    "if idx<len(param):\n",
    "    for par in param[idx:]:\n",
    "        print(par)\n",
    "        tmp = np.array((par))\n",
    "        args_i = np.array((th, rh, ph, d, g, gd, a0, d0, r, b, rh2, aR, dR, Omega, n))\n",
    "        for fac in scale:\n",
    "            # Update model para\n",
    "            args_i[par] = args[par]*fac\n",
    "            samples = biocircuits.gillespie_ssa(simple_propensity, simple_update, population_0,time_points, size=size, args=tuple(args_i), n_threads=2,progress_bar=False)\n",
    "\n",
    "            # Stack T1, T2, T3, T4\n",
    "            Delta_T = FindDeltaT(time_points,samples[0,:,state])\n",
    "            for i in range(1,samples.shape[0]):\n",
    "                Delta_T = np.vstack((Delta_T,FindDeltaT(time_points,samples[i,:,state])))\n",
    "\n",
    "            # Compute variance and find slope (incoherent metric)\n",
    "            vy = np.var(Delta_T, axis=0)\n",
    "            L_eq = np.polyfit(vx,vy,1)\n",
    "            tmp = np.append(tmp,L_eq[0])\n",
    "    \n",
    "        out = np.vstack((out,tmp))\n",
    "        np.save(f_name2, out)\n",
    "\n",
    "print(out)"
   ]
  },
  {
   "cell_type": "code",
   "execution_count": 2,
   "metadata": {
    "colab": {
     "background_save": true,
     "base_uri": "https://localhost:8080/"
    },
    "id": "NuhGPSAdS7qI",
    "outputId": "43a7689a-2348-4f5b-d24d-313acdb1de35"
   },
   "outputs": [
    {
     "name": "stdout",
     "output_type": "stream",
     "text": [
      "[[ 0.          0.25        0.33333333  0.5         1.          2.\n",
      "   3.          4.        ]\n",
      " [ 1.          9.23148627  9.27101862 11.03378785  8.50244321  5.73243513\n",
      "   4.61183449  4.27618409]\n",
      " [ 3.          8.06287428  7.51954515  9.89713625  8.21194856  3.94329683\n",
      "   1.62863926  0.59657908]\n",
      " [ 4.         10.71879176  9.95716784  9.3469889   8.27180248  7.79440871\n",
      "   7.13993527  7.14697732]\n",
      " [ 6.          7.05234044  8.79019186  8.80168174  8.75797669  5.72522905\n",
      "   5.17623013  4.67306056]\n",
      " [ 8.          9.24001978  9.99039895  9.80620912  8.53963685  7.28270742\n",
      "   6.76160423  6.75018631]\n",
      " [10.          6.06183883  6.62181111  7.41721496  8.18626926  9.21046133\n",
      "   9.7153305   9.53524676]\n",
      " [11.          6.33890836  6.13245712  7.40325007  8.4329921   7.82959031\n",
      "   9.97565602  8.73156733]]\n"
     ]
    }
   ],
   "source": [
    "# Specify parameters for calculation\n",
    "n = 1 # copy number of promoter\n",
    "th = 0.3*60/n # 1/h\n",
    "rh = 80 # 1/h\n",
    "ph = 0.6931/10*60 # 1/h log(2)=0.6931\n",
    "d = 0.6931/30*60 # 1/h log(2)=0.6931\n",
    "g = 2.1*36 # 1/uM/h \n",
    "gd = g*0.01 # 1/h\n",
    "r = 5 # 1/h Switching rate\n",
    "a0 = 2.1*36\n",
    "d0 = 0.1*a0\n",
    "\n",
    "b = 0.3*60/n\n",
    "rh2 = 80\n",
    "aR = 2.1*36\n",
    "dR = 0.05*aR\n",
    "\n",
    "Omega = 600 # 600\n",
    "size = 500\n",
    "state = 13 # 10 (recombinase 1) or 13 (recombinase 2)\n",
    "\n",
    "args = (th, rh, ph, d, g, gd, a0, d0, r, b, rh2, aR, dR, Omega, n)\n",
    "time_points = np.linspace(0, 40, 401)\n",
    "population_0 = np.zeros(23, dtype=int)\n",
    "population_0[0] = n\n",
    "population_0[17] = n\n",
    "population_0[21] = n\n",
    "\n",
    "param = (1,3,4,6,8, 10, 11)\n",
    "#param = range(0,8)\n",
    "scale = (1./4, 1./3, 1./2, 1., 2.,3., 4.)\n",
    "vx = range(1,5)\n",
    "\n",
    "out = np.array((0., 1./4, 1./3, 1./2, 1., 2., 3., 4.))\n",
    "\n",
    "#dir = \"/content/drive/My Drive/Research/2022/RecombinaseOscillator/\"\n",
    "f_name2 = dir+\"Model_1_AllSensitivity_\"+str(size)+\".npy\"\n",
    "\n",
    "if os.path.exists(f_name2):\n",
    "    out = np.load(f_name2)\n",
    "    idx = param.index(out[-1,0])+1\n",
    "else:\n",
    "    idx = 0\n",
    "\n",
    "if idx<len(param):\n",
    "    for par in param[idx:]:\n",
    "        print(par)\n",
    "        tmp = np.array((par))\n",
    "        args_i = np.array((th, rh, ph, d, g, gd, a0, d0, r, b, rh2, aR, dR, Omega, n))\n",
    "        for fac in scale:\n",
    "            # Update model para\n",
    "            args_i[par] = args[par]*fac\n",
    "            ii = 0\n",
    "            Delta_T = np.array((0.,0.,0.,0.))\n",
    "            while ii<size+1:\n",
    "                samples = biocircuits.gillespie_ssa(simple_propensity, simple_update, population_0,time_points, size=1, args=tuple(args_i), n_threads=1,progress_bar=False)\n",
    "                try:\n",
    "                    tmp_0 = FindDeltaT(time_points,samples[0,:,state])\n",
    "                    if len(tmp_0) == 4:\n",
    "                        Delta_T = np.vstack((Delta_T,tmp_0[0:4]))\n",
    "                        ii = ii + 1\n",
    "                except: tmp_0 = 0\n",
    "\n",
    "            # Compute variance and find slope (incoherent metric)\n",
    "            vy = np.var(Delta_T[1:,:], axis=0)\n",
    "            L_eq = np.polyfit(vx,vy,1)\n",
    "            tmp = np.append(tmp,L_eq[0])\n",
    "    \n",
    "        out = np.vstack((out,tmp))\n",
    "        np.save(f_name2, out)\n",
    "\n",
    "print(out)"
   ]
  },
  {
   "cell_type": "code",
   "execution_count": null,
   "metadata": {
    "id": "xbockJtPEJao"
   },
   "outputs": [],
   "source": [
    "Delta_T[1:,:]"
   ]
  },
  {
   "cell_type": "code",
   "execution_count": 6,
   "metadata": {
    "colab": {
     "base_uri": "https://localhost:8080/",
     "height": 240
    },
    "executionInfo": {
     "elapsed": 9,
     "status": "error",
     "timestamp": 1652499532373,
     "user": {
      "displayName": "Christian Cuba",
      "userId": "05812622177105967845"
     },
     "user_tz": 240
    },
    "id": "KW7GwDcXWeru",
    "outputId": "a12cc1bf-9493-4a6d-c419-eaf3d9e4e36c"
   },
   "outputs": [
    {
     "data": {
      "text/html": [
       "\n",
       "\n",
       "\n",
       "\n",
       "\n",
       "\n",
       "  <div class=\"bk-root\" id=\"95cc611d-fde0-4d45-b0b3-32bb30213532\" data-root-id=\"3227\"></div>\n"
      ]
     },
     "metadata": {},
     "output_type": "display_data"
    },
    {
     "data": {
      "application/javascript": [
       "(function(root) {\n",
       "  function embed_document(root) {\n",
       "    \n",
       "  const docs_json = {\"2cdae285-3c42-4ada-8968-c9da38f1ffdb\":{\"defs\":[],\"roots\":{\"references\":[{\"attributes\":{\"children\":[{\"id\":\"1645\"},{\"id\":\"1676\"},{\"id\":\"1707\"},{\"id\":\"1738\"},{\"id\":\"1769\"},{\"id\":\"1800\"},{\"id\":\"1831\"}]},\"id\":\"3227\",\"type\":\"Row\"},{\"attributes\":{},\"id\":\"1880\",\"type\":\"BasicTickFormatter\"},{\"attributes\":{},\"id\":\"1760\",\"type\":\"HelpTool\"},{\"attributes\":{\"below\":[{\"id\":\"1778\"}],\"center\":[{\"id\":\"1781\"},{\"id\":\"1785\"}],\"height\":115,\"left\":[{\"id\":\"1782\"}],\"output_backend\":\"svg\",\"renderers\":[{\"id\":\"2646\"},{\"id\":\"2652\"}],\"title\":{\"id\":\"2654\"},\"toolbar\":{\"id\":\"1793\"},\"width\":144,\"x_range\":{\"id\":\"1770\"},\"x_scale\":{\"id\":\"1774\"},\"y_range\":{\"id\":\"1772\"},\"y_scale\":{\"id\":\"1776\"}},\"id\":\"1769\",\"subtype\":\"Figure\",\"type\":\"Plot\"},{\"attributes\":{},\"id\":\"1756\",\"type\":\"WheelZoomTool\"},{\"attributes\":{},\"id\":\"1881\",\"type\":\"AllLabels\"},{\"attributes\":{},\"id\":\"1755\",\"type\":\"PanTool\"},{\"attributes\":{\"overlay\":{\"id\":\"1761\"}},\"id\":\"1757\",\"type\":\"BoxZoomTool\"},{\"attributes\":{},\"id\":\"2274\",\"type\":\"UnionRenderers\"},{\"attributes\":{},\"id\":\"1758\",\"type\":\"SaveTool\"},{\"attributes\":{\"end\":4.2},\"id\":\"1801\",\"type\":\"Range1d\"},{\"attributes\":{},\"id\":\"1759\",\"type\":\"ResetTool\"},{\"attributes\":{},\"id\":\"3051\",\"type\":\"AllLabels\"},{\"attributes\":{\"end\":20},\"id\":\"1803\",\"type\":\"Range1d\"},{\"attributes\":{\"source\":{\"id\":\"1868\"}},\"id\":\"1873\",\"type\":\"CDSView\"},{\"attributes\":{},\"id\":\"3050\",\"type\":\"BasicTickFormatter\"},{\"attributes\":{\"bottom_units\":\"screen\",\"coordinates\":null,\"fill_alpha\":0.5,\"fill_color\":\"lightgrey\",\"group\":null,\"left_units\":\"screen\",\"level\":\"overlay\",\"line_alpha\":1.0,\"line_color\":\"black\",\"line_dash\":[4,4],\"line_width\":2,\"right_units\":\"screen\",\"syncable\":false,\"top_units\":\"screen\"},\"id\":\"1761\",\"type\":\"BoxAnnotation\"},{\"attributes\":{\"end\":4.2},\"id\":\"1646\",\"type\":\"Range1d\"},{\"attributes\":{\"coordinates\":null,\"data_source\":{\"id\":\"2057\"},\"glyph\":{\"id\":\"2058\"},\"group\":null,\"hover_glyph\":null,\"muted_glyph\":{\"id\":\"2060\"},\"nonselection_glyph\":{\"id\":\"2059\"},\"view\":{\"id\":\"2062\"}},\"id\":\"2061\",\"type\":\"GlyphRenderer\"},{\"attributes\":{},\"id\":\"2078\",\"type\":\"Selection\"},{\"attributes\":{\"coordinates\":null,\"formatter\":{\"id\":\"2855\"},\"group\":null,\"major_label_policy\":{\"id\":\"2856\"},\"major_label_text_font_size\":\"10pt\",\"ticker\":{\"id\":\"1810\"}},\"id\":\"1809\",\"type\":\"LinearAxis\"},{\"attributes\":{\"line_color\":\"#178ccb\",\"line_width\":2,\"x\":{\"field\":\"x\"},\"y\":{\"field\":\"y\"}},\"id\":\"1863\",\"type\":\"Line\"},{\"attributes\":{},\"id\":\"1665\",\"type\":\"SaveTool\"},{\"attributes\":{},\"id\":\"1807\",\"type\":\"LinearScale\"},{\"attributes\":{\"coordinates\":null,\"data_source\":{\"id\":\"2063\"},\"glyph\":{\"id\":\"2064\"},\"group\":null,\"hover_glyph\":null,\"muted_glyph\":{\"id\":\"2066\"},\"nonselection_glyph\":{\"id\":\"2065\"},\"view\":{\"id\":\"2068\"}},\"id\":\"2067\",\"type\":\"GlyphRenderer\"},{\"attributes\":{},\"id\":\"3048\",\"type\":\"AllLabels\"},{\"attributes\":{\"below\":[{\"id\":\"1840\"}],\"center\":[{\"id\":\"1843\"},{\"id\":\"1847\"}],\"height\":115,\"left\":[{\"id\":\"1844\"}],\"output_backend\":\"svg\",\"renderers\":[{\"id\":\"3036\"},{\"id\":\"3042\"}],\"title\":{\"id\":\"3044\"},\"toolbar\":{\"id\":\"1855\"},\"width\":144,\"x_range\":{\"id\":\"1832\"},\"x_scale\":{\"id\":\"1836\"},\"y_range\":{\"id\":\"1834\"},\"y_scale\":{\"id\":\"1838\"}},\"id\":\"1831\",\"subtype\":\"Figure\",\"type\":\"Plot\"},{\"attributes\":{\"line_alpha\":0.2,\"line_color\":\"#178ccb\",\"line_width\":2,\"x\":{\"field\":\"x\"},\"y\":{\"field\":\"y\"}},\"id\":\"1865\",\"type\":\"Line\"},{\"attributes\":{},\"id\":\"1748\",\"type\":\"BasicTicker\"},{\"attributes\":{\"below\":[{\"id\":\"1654\"}],\"center\":[{\"id\":\"1657\"},{\"id\":\"1661\"}],\"height\":115,\"left\":[{\"id\":\"1658\"}],\"output_backend\":\"svg\",\"renderers\":[{\"id\":\"1866\"},{\"id\":\"1872\"}],\"title\":{\"id\":\"1874\"},\"toolbar\":{\"id\":\"1669\"},\"width\":144,\"x_range\":{\"id\":\"1646\"},\"x_scale\":{\"id\":\"1650\"},\"y_range\":{\"id\":\"1648\"},\"y_scale\":{\"id\":\"1652\"}},\"id\":\"1645\",\"subtype\":\"Figure\",\"type\":\"Plot\"},{\"attributes\":{\"end\":20},\"id\":\"1772\",\"type\":\"Range1d\"},{\"attributes\":{\"line_alpha\":0.1,\"line_color\":\"#178ccb\",\"line_width\":2,\"x\":{\"field\":\"x\"},\"y\":{\"field\":\"y\"}},\"id\":\"1864\",\"type\":\"Line\"},{\"attributes\":{\"end\":20},\"id\":\"1648\",\"type\":\"Range1d\"},{\"attributes\":{\"coordinates\":null,\"formatter\":{\"id\":\"2660\"},\"group\":null,\"major_label_policy\":{\"id\":\"2661\"},\"major_label_text_font_size\":\"10pt\",\"ticker\":{\"id\":\"1779\"}},\"id\":\"1778\",\"type\":\"LinearAxis\"},{\"attributes\":{},\"id\":\"1805\",\"type\":\"LinearScale\"},{\"attributes\":{},\"id\":\"1652\",\"type\":\"LinearScale\"},{\"attributes\":{\"data\":{\"x\":{\"__ndarray__\":\"AAAAAAAA0D9VVVVVVVXVPwAAAAAAAOA/AAAAAAAA8D8AAAAAAAAAQAAAAAAAAAhAAAAAAAAAEEA=\",\"dtype\":\"float64\",\"order\":\"little\",\"shape\":[7]},\"y\":{\"__ndarray__\":\"bjeZDjEgIEAR08KkAxQeQEGBT3FVyyNARd15hYRsIEBUP40134sPQM5EmAvoDvo/6il9Ay0X4z8=\",\"dtype\":\"float64\",\"order\":\"little\",\"shape\":[7]}},\"selected\":{\"id\":\"2078\"},\"selection_policy\":{\"id\":\"2077\"}},\"id\":\"2057\",\"type\":\"ColumnDataSource\"},{\"attributes\":{},\"id\":\"1822\",\"type\":\"HelpTool\"},{\"attributes\":{\"coordinates\":null,\"formatter\":{\"id\":\"2852\"},\"group\":null,\"major_label_policy\":{\"id\":\"2853\"},\"major_label_text_font_size\":\"10pt\",\"ticker\":{\"id\":\"1814\"}},\"id\":\"1813\",\"type\":\"LinearAxis\"},{\"attributes\":{},\"id\":\"1883\",\"type\":\"Selection\"},{\"attributes\":{\"coordinates\":null,\"formatter\":{\"id\":\"1880\"},\"group\":null,\"major_label_policy\":{\"id\":\"1881\"},\"major_label_text_font_size\":\"10pt\",\"ticker\":{\"id\":\"1655\"}},\"id\":\"1654\",\"type\":\"LinearAxis\"},{\"attributes\":{\"axis\":{\"id\":\"1809\"},\"coordinates\":null,\"group\":null,\"ticker\":null},\"id\":\"1812\",\"type\":\"Grid\"},{\"attributes\":{},\"id\":\"1666\",\"type\":\"ResetTool\"},{\"attributes\":{\"end\":4.2},\"id\":\"1770\",\"type\":\"Range1d\"},{\"attributes\":{\"axis\":{\"id\":\"1654\"},\"coordinates\":null,\"group\":null,\"ticker\":null},\"id\":\"1657\",\"type\":\"Grid\"},{\"attributes\":{},\"id\":\"1878\",\"type\":\"AllLabels\"},{\"attributes\":{},\"id\":\"1663\",\"type\":\"WheelZoomTool\"},{\"attributes\":{\"source\":{\"id\":\"2057\"}},\"id\":\"2062\",\"type\":\"CDSView\"},{\"attributes\":{\"line_alpha\":0.1,\"line_color\":\"#178ccb\",\"line_width\":2,\"x\":{\"field\":\"x\"},\"y\":{\"field\":\"y\"}},\"id\":\"2254\",\"type\":\"Line\"},{\"attributes\":{\"fill_alpha\":{\"value\":0.2},\"fill_color\":{\"value\":\"#178ccb\"},\"hatch_alpha\":{\"value\":0.2},\"hatch_color\":{\"value\":\"#178ccb\"},\"line_alpha\":{\"value\":0.2},\"line_color\":{\"value\":\"#178ccb\"},\"line_width\":{\"value\":2},\"x\":{\"field\":\"x\"},\"y\":{\"field\":\"y\"}},\"id\":\"2066\",\"type\":\"Circle\"},{\"attributes\":{\"bottom_units\":\"screen\",\"coordinates\":null,\"fill_alpha\":0.5,\"fill_color\":\"lightgrey\",\"group\":null,\"left_units\":\"screen\",\"level\":\"overlay\",\"line_alpha\":1.0,\"line_color\":\"black\",\"line_dash\":[4,4],\"line_width\":2,\"right_units\":\"screen\",\"syncable\":false,\"top_units\":\"screen\"},\"id\":\"1668\",\"type\":\"BoxAnnotation\"},{\"attributes\":{},\"id\":\"2080\",\"type\":\"Selection\"},{\"attributes\":{\"tools\":[{\"id\":\"1755\"},{\"id\":\"1756\"},{\"id\":\"1757\"},{\"id\":\"1758\"},{\"id\":\"1759\"},{\"id\":\"1760\"}]},\"id\":\"1762\",\"type\":\"Toolbar\"},{\"attributes\":{\"axis\":{\"id\":\"1813\"},\"coordinates\":null,\"dimension\":1,\"group\":null,\"ticker\":null},\"id\":\"1816\",\"type\":\"Grid\"},{\"attributes\":{},\"id\":\"1662\",\"type\":\"PanTool\"},{\"attributes\":{},\"id\":\"1814\",\"type\":\"BasicTicker\"},{\"attributes\":{\"bottom_units\":\"screen\",\"coordinates\":null,\"fill_alpha\":0.5,\"fill_color\":\"lightgrey\",\"group\":null,\"left_units\":\"screen\",\"level\":\"overlay\",\"line_alpha\":1.0,\"line_color\":\"black\",\"line_dash\":[4,4],\"line_width\":2,\"right_units\":\"screen\",\"syncable\":false,\"top_units\":\"screen\"},\"id\":\"1823\",\"type\":\"BoxAnnotation\"},{\"attributes\":{\"tools\":[{\"id\":\"1817\"},{\"id\":\"1818\"},{\"id\":\"1819\"},{\"id\":\"1820\"},{\"id\":\"1821\"},{\"id\":\"1822\"}]},\"id\":\"1824\",\"type\":\"Toolbar\"},{\"attributes\":{\"data\":{\"x\":{\"__ndarray__\":\"AAAAAAAA0D9VVVVVVVXVPwAAAAAAAOA/AAAAAAAA8D8AAAAAAAAAQAAAAAAAAAhAAAAAAAAAEEA=\",\"dtype\":\"float64\",\"order\":\"little\",\"shape\":[7]},\"y\":{\"__ndarray__\":\"bjeZDjEgIEAR08KkAxQeQEGBT3FVyyNARd15hYRsIEBUP40134sPQM5EmAvoDvo/6il9Ay0X4z8=\",\"dtype\":\"float64\",\"order\":\"little\",\"shape\":[7]}},\"selected\":{\"id\":\"2080\"},\"selection_policy\":{\"id\":\"2079\"}},\"id\":\"2063\",\"type\":\"ColumnDataSource\"},{\"attributes\":{},\"id\":\"2076\",\"type\":\"AllLabels\"},{\"attributes\":{\"below\":[{\"id\":\"1685\"}],\"center\":[{\"id\":\"1688\"},{\"id\":\"1692\"}],\"height\":115,\"left\":[{\"id\":\"1689\"}],\"output_backend\":\"svg\",\"renderers\":[{\"id\":\"2061\"},{\"id\":\"2067\"}],\"title\":{\"id\":\"2069\"},\"toolbar\":{\"id\":\"1700\"},\"width\":144,\"x_range\":{\"id\":\"1677\"},\"x_scale\":{\"id\":\"1681\"},\"y_range\":{\"id\":\"1679\"},\"y_scale\":{\"id\":\"1683\"}},\"id\":\"1676\",\"subtype\":\"Figure\",\"type\":\"Plot\"},{\"attributes\":{},\"id\":\"1776\",\"type\":\"LinearScale\"},{\"attributes\":{\"fill_alpha\":{\"value\":0.1},\"fill_color\":{\"value\":\"#178ccb\"},\"hatch_alpha\":{\"value\":0.1},\"hatch_color\":{\"value\":\"#178ccb\"},\"line_alpha\":{\"value\":0.1},\"line_color\":{\"value\":\"#178ccb\"},\"line_width\":{\"value\":2},\"x\":{\"field\":\"x\"},\"y\":{\"field\":\"y\"}},\"id\":\"2065\",\"type\":\"Circle\"},{\"attributes\":{},\"id\":\"1818\",\"type\":\"WheelZoomTool\"},{\"attributes\":{\"source\":{\"id\":\"2063\"}},\"id\":\"2068\",\"type\":\"CDSView\"},{\"attributes\":{},\"id\":\"2075\",\"type\":\"BasicTickFormatter\"},{\"attributes\":{},\"id\":\"1817\",\"type\":\"PanTool\"},{\"attributes\":{\"fill_color\":{\"value\":\"#178ccb\"},\"hatch_color\":{\"value\":\"#178ccb\"},\"line_color\":{\"value\":\"#178ccb\"},\"line_width\":{\"value\":2},\"x\":{\"field\":\"x\"},\"y\":{\"field\":\"y\"}},\"id\":\"2064\",\"type\":\"Circle\"},{\"attributes\":{},\"id\":\"1779\",\"type\":\"BasicTicker\"},{\"attributes\":{\"overlay\":{\"id\":\"1823\"}},\"id\":\"1819\",\"type\":\"BoxZoomTool\"},{\"attributes\":{},\"id\":\"1774\",\"type\":\"LinearScale\"},{\"attributes\":{},\"id\":\"1820\",\"type\":\"SaveTool\"},{\"attributes\":{\"line_alpha\":0.2,\"line_color\":\"#178ccb\",\"line_width\":2,\"x\":{\"field\":\"x\"},\"y\":{\"field\":\"y\"}},\"id\":\"2060\",\"type\":\"Line\"},{\"attributes\":{},\"id\":\"2073\",\"type\":\"AllLabels\"},{\"attributes\":{},\"id\":\"1791\",\"type\":\"HelpTool\"},{\"attributes\":{\"data\":{\"x\":{\"__ndarray__\":\"AAAAAAAA0D9VVVVVVVXVPwAAAAAAAOA/AAAAAAAA8D8AAAAAAAAAQAAAAAAAAAhAAAAAAAAAEEA=\",\"dtype\":\"float64\",\"order\":\"little\",\"shape\":[7]},\"y\":{\"__ndarray__\":\"KskoeQVwJUDNHlXnEeojQMYsmYeosSJA43nLsSmLIEASFep5eS0fQCGO0DBLjxxAxUPmOIGWHEA=\",\"dtype\":\"float64\",\"order\":\"little\",\"shape\":[7]}},\"selected\":{\"id\":\"2273\"},\"selection_policy\":{\"id\":\"2272\"}},\"id\":\"2252\",\"type\":\"ColumnDataSource\"},{\"attributes\":{},\"id\":\"1821\",\"type\":\"ResetTool\"},{\"attributes\":{},\"id\":\"1884\",\"type\":\"UnionRenderers\"},{\"attributes\":{\"overlay\":{\"id\":\"1668\"}},\"id\":\"1664\",\"type\":\"BoxZoomTool\"},{\"attributes\":{\"line_color\":\"#178ccb\",\"line_width\":2,\"x\":{\"field\":\"x\"},\"y\":{\"field\":\"y\"}},\"id\":\"2253\",\"type\":\"Line\"},{\"attributes\":{},\"id\":\"2072\",\"type\":\"BasicTickFormatter\"},{\"attributes\":{},\"id\":\"1885\",\"type\":\"Selection\"},{\"attributes\":{\"coordinates\":null,\"formatter\":{\"id\":\"2657\"},\"group\":null,\"major_label_policy\":{\"id\":\"2658\"},\"major_label_text_font_size\":\"10pt\",\"ticker\":{\"id\":\"1783\"}},\"id\":\"1782\",\"type\":\"LinearAxis\"},{\"attributes\":{\"axis\":{\"id\":\"1778\"},\"coordinates\":null,\"group\":null,\"ticker\":null},\"id\":\"1781\",\"type\":\"Grid\"},{\"attributes\":{\"axis\":{\"id\":\"1658\"},\"coordinates\":null,\"dimension\":1,\"group\":null,\"ticker\":null},\"id\":\"1661\",\"type\":\"Grid\"},{\"attributes\":{},\"id\":\"1851\",\"type\":\"SaveTool\"},{\"attributes\":{},\"id\":\"1852\",\"type\":\"ResetTool\"},{\"attributes\":{},\"id\":\"1882\",\"type\":\"UnionRenderers\"},{\"attributes\":{\"line_alpha\":0.1,\"line_color\":\"#178ccb\",\"line_width\":2,\"x\":{\"field\":\"x\"},\"y\":{\"field\":\"y\"}},\"id\":\"2059\",\"type\":\"Line\"},{\"attributes\":{\"fill_alpha\":{\"value\":0.2},\"fill_color\":{\"value\":\"#178ccb\"},\"hatch_alpha\":{\"value\":0.2},\"hatch_color\":{\"value\":\"#178ccb\"},\"line_alpha\":{\"value\":0.2},\"line_color\":{\"value\":\"#178ccb\"},\"line_width\":{\"value\":2},\"x\":{\"field\":\"x\"},\"y\":{\"field\":\"y\"}},\"id\":\"3041\",\"type\":\"Circle\"},{\"attributes\":{\"coordinates\":null,\"group\":null},\"id\":\"1874\",\"type\":\"Title\"},{\"attributes\":{\"data\":{\"x\":{\"__ndarray__\":\"AAAAAAAA0D9VVVVVVVXVPwAAAAAAAOA/AAAAAAAA8D8AAAAAAAAAQAAAAAAAAAhAAAAAAAAAEEA=\",\"dtype\":\"float64\",\"order\":\"little\",\"shape\":[7]},\"y\":{\"__ndarray__\":\"1D08ywpbGUCWCPfWoocYQL/Ma5btnB1AZbP2I7HdIED2KHMfgFEfQKz0fC+J8yNAI/hO/o92IUA=\",\"dtype\":\"float64\",\"order\":\"little\",\"shape\":[7]}},\"selected\":{\"id\":\"3053\"},\"selection_policy\":{\"id\":\"3052\"}},\"id\":\"3032\",\"type\":\"ColumnDataSource\"},{\"attributes\":{\"line_color\":\"#178ccb\",\"line_width\":2,\"x\":{\"field\":\"x\"},\"y\":{\"field\":\"y\"}},\"id\":\"3033\",\"type\":\"Line\"},{\"attributes\":{\"bottom_units\":\"screen\",\"coordinates\":null,\"fill_alpha\":0.5,\"fill_color\":\"lightgrey\",\"group\":null,\"left_units\":\"screen\",\"level\":\"overlay\",\"line_alpha\":1.0,\"line_color\":\"black\",\"line_dash\":[4,4],\"line_width\":2,\"right_units\":\"screen\",\"syncable\":false,\"top_units\":\"screen\"},\"id\":\"1854\",\"type\":\"BoxAnnotation\"},{\"attributes\":{\"coordinates\":null,\"data_source\":{\"id\":\"3032\"},\"glyph\":{\"id\":\"3033\"},\"group\":null,\"hover_glyph\":null,\"muted_glyph\":{\"id\":\"3035\"},\"nonselection_glyph\":{\"id\":\"3034\"},\"view\":{\"id\":\"3037\"}},\"id\":\"3036\",\"type\":\"GlyphRenderer\"},{\"attributes\":{\"source\":{\"id\":\"3038\"}},\"id\":\"3043\",\"type\":\"CDSView\"},{\"attributes\":{},\"id\":\"1848\",\"type\":\"PanTool\"},{\"attributes\":{},\"id\":\"3047\",\"type\":\"BasicTickFormatter\"},{\"attributes\":{\"data\":{\"x\":{\"__ndarray__\":\"AAAAAAAA0D9VVVVVVVXVPwAAAAAAAOA/AAAAAAAA8D8AAAAAAAAAQAAAAAAAAAhAAAAAAAAAEEA=\",\"dtype\":\"float64\",\"order\":\"little\",\"shape\":[7]},\"y\":{\"__ndarray__\":\"1D08ywpbGUCWCPfWoocYQL/Ma5btnB1AZbP2I7HdIED2KHMfgFEfQKz0fC+J8yNAI/hO/o92IUA=\",\"dtype\":\"float64\",\"order\":\"little\",\"shape\":[7]}},\"selected\":{\"id\":\"3055\"},\"selection_policy\":{\"id\":\"3054\"}},\"id\":\"3038\",\"type\":\"ColumnDataSource\"},{\"attributes\":{},\"id\":\"1849\",\"type\":\"WheelZoomTool\"},{\"attributes\":{\"below\":[{\"id\":\"1716\"}],\"center\":[{\"id\":\"1719\"},{\"id\":\"1723\"}],\"height\":115,\"left\":[{\"id\":\"1720\"}],\"output_backend\":\"svg\",\"renderers\":[{\"id\":\"2256\"},{\"id\":\"2262\"}],\"title\":{\"id\":\"2264\"},\"toolbar\":{\"id\":\"1731\"},\"width\":144,\"x_range\":{\"id\":\"1708\"},\"x_scale\":{\"id\":\"1712\"},\"y_range\":{\"id\":\"1710\"},\"y_scale\":{\"id\":\"1714\"}},\"id\":\"1707\",\"subtype\":\"Figure\",\"type\":\"Plot\"},{\"attributes\":{\"fill_alpha\":{\"value\":0.2},\"fill_color\":{\"value\":\"#178ccb\"},\"hatch_alpha\":{\"value\":0.2},\"hatch_color\":{\"value\":\"#178ccb\"},\"line_alpha\":{\"value\":0.2},\"line_color\":{\"value\":\"#178ccb\"},\"line_width\":{\"value\":2},\"x\":{\"field\":\"x\"},\"y\":{\"field\":\"y\"}},\"id\":\"1871\",\"type\":\"Circle\"},{\"attributes\":{\"coordinates\":null,\"data_source\":{\"id\":\"3038\"},\"glyph\":{\"id\":\"3039\"},\"group\":null,\"hover_glyph\":null,\"muted_glyph\":{\"id\":\"3041\"},\"nonselection_glyph\":{\"id\":\"3040\"},\"view\":{\"id\":\"3043\"}},\"id\":\"3042\",\"type\":\"GlyphRenderer\"},{\"attributes\":{\"overlay\":{\"id\":\"1854\"}},\"id\":\"1850\",\"type\":\"BoxZoomTool\"},{\"attributes\":{\"line_alpha\":0.1,\"line_color\":\"#178ccb\",\"line_width\":2,\"x\":{\"field\":\"x\"},\"y\":{\"field\":\"y\"}},\"id\":\"3034\",\"type\":\"Line\"},{\"attributes\":{},\"id\":\"2469\",\"type\":\"UnionRenderers\"},{\"attributes\":{},\"id\":\"3054\",\"type\":\"UnionRenderers\"},{\"attributes\":{\"axis\":{\"id\":\"1782\"},\"coordinates\":null,\"dimension\":1,\"group\":null,\"ticker\":null},\"id\":\"1785\",\"type\":\"Grid\"},{\"attributes\":{},\"id\":\"1877\",\"type\":\"BasicTickFormatter\"},{\"attributes\":{},\"id\":\"1783\",\"type\":\"BasicTicker\"},{\"attributes\":{\"below\":[{\"id\":\"1809\"}],\"center\":[{\"id\":\"1812\"},{\"id\":\"1816\"}],\"height\":115,\"left\":[{\"id\":\"1813\"}],\"output_backend\":\"svg\",\"renderers\":[{\"id\":\"2841\"},{\"id\":\"2847\"}],\"title\":{\"id\":\"2849\"},\"toolbar\":{\"id\":\"1824\"},\"width\":144,\"x_range\":{\"id\":\"1801\"},\"x_scale\":{\"id\":\"1805\"},\"y_range\":{\"id\":\"1803\"},\"y_scale\":{\"id\":\"1807\"}},\"id\":\"1800\",\"subtype\":\"Figure\",\"type\":\"Plot\"},{\"attributes\":{},\"id\":\"1845\",\"type\":\"BasicTicker\"},{\"attributes\":{},\"id\":\"2470\",\"type\":\"Selection\"},{\"attributes\":{\"axis\":{\"id\":\"1844\"},\"coordinates\":null,\"dimension\":1,\"group\":null,\"ticker\":null},\"id\":\"1847\",\"type\":\"Grid\"},{\"attributes\":{\"fill_color\":{\"value\":\"#178ccb\"},\"hatch_color\":{\"value\":\"#178ccb\"},\"line_color\":{\"value\":\"#178ccb\"},\"line_width\":{\"value\":2},\"x\":{\"field\":\"x\"},\"y\":{\"field\":\"y\"}},\"id\":\"3039\",\"type\":\"Circle\"},{\"attributes\":{\"end\":20},\"id\":\"1834\",\"type\":\"Range1d\"},{\"attributes\":{\"line_alpha\":0.2,\"line_color\":\"#178ccb\",\"line_width\":2,\"x\":{\"field\":\"x\"},\"y\":{\"field\":\"y\"}},\"id\":\"3035\",\"type\":\"Line\"},{\"attributes\":{\"fill_alpha\":{\"value\":0.1},\"fill_color\":{\"value\":\"#178ccb\"},\"hatch_alpha\":{\"value\":0.1},\"hatch_color\":{\"value\":\"#178ccb\"},\"line_alpha\":{\"value\":0.1},\"line_color\":{\"value\":\"#178ccb\"},\"line_width\":{\"value\":2},\"x\":{\"field\":\"x\"},\"y\":{\"field\":\"y\"}},\"id\":\"3040\",\"type\":\"Circle\"},{\"attributes\":{\"tools\":[{\"id\":\"1662\"},{\"id\":\"1663\"},{\"id\":\"1664\"},{\"id\":\"1665\"},{\"id\":\"1666\"},{\"id\":\"1667\"}]},\"id\":\"1669\",\"type\":\"Toolbar\"},{\"attributes\":{},\"id\":\"3052\",\"type\":\"UnionRenderers\"},{\"attributes\":{\"coordinates\":null,\"group\":null},\"id\":\"2069\",\"type\":\"Title\"},{\"attributes\":{},\"id\":\"1667\",\"type\":\"HelpTool\"},{\"attributes\":{\"line_color\":\"#178ccb\",\"line_width\":2,\"x\":{\"field\":\"x\"},\"y\":{\"field\":\"y\"}},\"id\":\"2448\",\"type\":\"Line\"},{\"attributes\":{\"tools\":[{\"id\":\"1848\"},{\"id\":\"1849\"},{\"id\":\"1850\"},{\"id\":\"1851\"},{\"id\":\"1852\"},{\"id\":\"1853\"}]},\"id\":\"1855\",\"type\":\"Toolbar\"},{\"attributes\":{\"data\":{\"x\":{\"__ndarray__\":\"AAAAAAAA0D9VVVVVVVXVPwAAAAAAAOA/AAAAAAAA8D8AAAAAAAAAQAAAAAAAAAhAAAAAAAAAEEA=\",\"dtype\":\"float64\",\"order\":\"little\",\"shape\":[7]},\"y\":{\"__ndarray__\":\"KskoeQVwJUDNHlXnEeojQMYsmYeosSJA43nLsSmLIEASFep5eS0fQCGO0DBLjxxAxUPmOIGWHEA=\",\"dtype\":\"float64\",\"order\":\"little\",\"shape\":[7]}},\"selected\":{\"id\":\"2275\"},\"selection_policy\":{\"id\":\"2274\"}},\"id\":\"2258\",\"type\":\"ColumnDataSource\"},{\"attributes\":{\"tools\":[{\"id\":\"1786\"},{\"id\":\"1787\"},{\"id\":\"1788\"},{\"id\":\"1789\"},{\"id\":\"1790\"},{\"id\":\"1791\"}]},\"id\":\"1793\",\"type\":\"Toolbar\"},{\"attributes\":{\"fill_color\":{\"value\":\"#178ccb\"},\"hatch_color\":{\"value\":\"#178ccb\"},\"line_color\":{\"value\":\"#178ccb\"},\"line_width\":{\"value\":2},\"x\":{\"field\":\"x\"},\"y\":{\"field\":\"y\"}},\"id\":\"2259\",\"type\":\"Circle\"},{\"attributes\":{\"source\":{\"id\":\"2252\"}},\"id\":\"2257\",\"type\":\"CDSView\"},{\"attributes\":{\"bottom_units\":\"screen\",\"coordinates\":null,\"fill_alpha\":0.5,\"fill_color\":\"lightgrey\",\"group\":null,\"left_units\":\"screen\",\"level\":\"overlay\",\"line_alpha\":1.0,\"line_color\":\"black\",\"line_dash\":[4,4],\"line_width\":2,\"right_units\":\"screen\",\"syncable\":false,\"top_units\":\"screen\"},\"id\":\"1792\",\"type\":\"BoxAnnotation\"},{\"attributes\":{},\"id\":\"3053\",\"type\":\"Selection\"},{\"attributes\":{\"coordinates\":null,\"data_source\":{\"id\":\"2252\"},\"glyph\":{\"id\":\"2253\"},\"group\":null,\"hover_glyph\":null,\"muted_glyph\":{\"id\":\"2255\"},\"nonselection_glyph\":{\"id\":\"2254\"},\"view\":{\"id\":\"2257\"}},\"id\":\"2256\",\"type\":\"GlyphRenderer\"},{\"attributes\":{},\"id\":\"1836\",\"type\":\"LinearScale\"},{\"attributes\":{\"line_color\":\"#178ccb\",\"line_width\":2,\"x\":{\"field\":\"x\"},\"y\":{\"field\":\"y\"}},\"id\":\"2058\",\"type\":\"Line\"},{\"attributes\":{\"end\":4.2},\"id\":\"1832\",\"type\":\"Range1d\"},{\"attributes\":{\"data\":{\"x\":{\"__ndarray__\":\"AAAAAAAA0D9VVVVVVVXVPwAAAAAAAOA/AAAAAAAA8D8AAAAAAAAAQAAAAAAAAAhAAAAAAAAAEEA=\",\"dtype\":\"float64\",\"order\":\"little\",\"shape\":[7]},\"y\":{\"__ndarray__\":\"0rJnXoV2IkCkKMXzwooiQGbJGKRMESZA9NmAPEABIUBStYJ5A+4WQNIGXL2EchJAUOtTANAaEUA=\",\"dtype\":\"float64\",\"order\":\"little\",\"shape\":[7]}},\"selected\":{\"id\":\"1883\"},\"selection_policy\":{\"id\":\"1882\"}},\"id\":\"1862\",\"type\":\"ColumnDataSource\"},{\"attributes\":{\"data\":{\"x\":{\"__ndarray__\":\"AAAAAAAA0D9VVVVVVVXVPwAAAAAAAOA/AAAAAAAA8D8AAAAAAAAAQAAAAAAAAAhAAAAAAAAAEEA=\",\"dtype\":\"float64\",\"order\":\"little\",\"shape\":[7]},\"y\":{\"__ndarray__\":\"tdBCu5g1HECGiOQGlJQhQIPEXwd2miFA624lhRWEIUBMAQNyouYWQLLOmKt1tBRARa6vyTaxEkA=\",\"dtype\":\"float64\",\"order\":\"little\",\"shape\":[7]}},\"selected\":{\"id\":\"2468\"},\"selection_policy\":{\"id\":\"2467\"}},\"id\":\"2447\",\"type\":\"ColumnDataSource\"},{\"attributes\":{\"axis\":{\"id\":\"1840\"},\"coordinates\":null,\"group\":null,\"ticker\":null},\"id\":\"1843\",\"type\":\"Grid\"},{\"attributes\":{\"source\":{\"id\":\"2258\"}},\"id\":\"2263\",\"type\":\"CDSView\"},{\"attributes\":{\"coordinates\":null,\"formatter\":{\"id\":\"3047\"},\"group\":null,\"major_label_policy\":{\"id\":\"3048\"},\"major_label_text_font_size\":\"10pt\",\"ticker\":{\"id\":\"1845\"}},\"id\":\"1844\",\"type\":\"LinearAxis\"},{\"attributes\":{},\"id\":\"3055\",\"type\":\"Selection\"},{\"attributes\":{\"fill_alpha\":{\"value\":0.2},\"fill_color\":{\"value\":\"#178ccb\"},\"hatch_alpha\":{\"value\":0.2},\"hatch_color\":{\"value\":\"#178ccb\"},\"line_alpha\":{\"value\":0.2},\"line_color\":{\"value\":\"#178ccb\"},\"line_width\":{\"value\":2},\"x\":{\"field\":\"x\"},\"y\":{\"field\":\"y\"}},\"id\":\"2261\",\"type\":\"Circle\"},{\"attributes\":{},\"id\":\"1853\",\"type\":\"HelpTool\"},{\"attributes\":{},\"id\":\"1650\",\"type\":\"LinearScale\"},{\"attributes\":{\"line_alpha\":0.1,\"line_color\":\"#178ccb\",\"line_width\":2,\"x\":{\"field\":\"x\"},\"y\":{\"field\":\"y\"}},\"id\":\"2449\",\"type\":\"Line\"},{\"attributes\":{\"coordinates\":null,\"formatter\":{\"id\":\"1877\"},\"group\":null,\"major_label_policy\":{\"id\":\"1878\"},\"major_label_text_font_size\":\"10pt\",\"ticker\":{\"id\":\"1659\"}},\"id\":\"1658\",\"type\":\"LinearAxis\"},{\"attributes\":{\"coordinates\":null,\"data_source\":{\"id\":\"2258\"},\"glyph\":{\"id\":\"2259\"},\"group\":null,\"hover_glyph\":null,\"muted_glyph\":{\"id\":\"2261\"},\"nonselection_glyph\":{\"id\":\"2260\"},\"view\":{\"id\":\"2263\"}},\"id\":\"2262\",\"type\":\"GlyphRenderer\"},{\"attributes\":{},\"id\":\"1790\",\"type\":\"ResetTool\"},{\"attributes\":{\"coordinates\":null,\"group\":null},\"id\":\"3044\",\"type\":\"Title\"},{\"attributes\":{},\"id\":\"1655\",\"type\":\"BasicTicker\"},{\"attributes\":{},\"id\":\"1787\",\"type\":\"WheelZoomTool\"},{\"attributes\":{\"coordinates\":null,\"formatter\":{\"id\":\"3050\"},\"group\":null,\"major_label_policy\":{\"id\":\"3051\"},\"major_label_text_font_size\":\"10pt\",\"ticker\":{\"id\":\"1841\"}},\"id\":\"1840\",\"type\":\"LinearAxis\"},{\"attributes\":{\"fill_alpha\":{\"value\":0.1},\"fill_color\":{\"value\":\"#178ccb\"},\"hatch_alpha\":{\"value\":0.1},\"hatch_color\":{\"value\":\"#178ccb\"},\"line_alpha\":{\"value\":0.1},\"line_color\":{\"value\":\"#178ccb\"},\"line_width\":{\"value\":2},\"x\":{\"field\":\"x\"},\"y\":{\"field\":\"y\"}},\"id\":\"2260\",\"type\":\"Circle\"},{\"attributes\":{},\"id\":\"1838\",\"type\":\"LinearScale\"},{\"attributes\":{},\"id\":\"1789\",\"type\":\"SaveTool\"},{\"attributes\":{\"source\":{\"id\":\"3032\"}},\"id\":\"3037\",\"type\":\"CDSView\"},{\"attributes\":{},\"id\":\"1659\",\"type\":\"BasicTicker\"},{\"attributes\":{\"overlay\":{\"id\":\"1792\"}},\"id\":\"1788\",\"type\":\"BoxZoomTool\"},{\"attributes\":{\"line_alpha\":0.2,\"line_color\":\"#178ccb\",\"line_width\":2,\"x\":{\"field\":\"x\"},\"y\":{\"field\":\"y\"}},\"id\":\"2255\",\"type\":\"Line\"},{\"attributes\":{},\"id\":\"1786\",\"type\":\"PanTool\"},{\"attributes\":{},\"id\":\"1841\",\"type\":\"BasicTicker\"},{\"attributes\":{\"coordinates\":null,\"data_source\":{\"id\":\"1862\"},\"glyph\":{\"id\":\"1863\"},\"group\":null,\"hover_glyph\":null,\"muted_glyph\":{\"id\":\"1865\"},\"nonselection_glyph\":{\"id\":\"1864\"},\"view\":{\"id\":\"1867\"}},\"id\":\"1866\",\"type\":\"GlyphRenderer\"},{\"attributes\":{},\"id\":\"2856\",\"type\":\"AllLabels\"},{\"attributes\":{},\"id\":\"1729\",\"type\":\"HelpTool\"},{\"attributes\":{\"source\":{\"id\":\"2648\"}},\"id\":\"2653\",\"type\":\"CDSView\"},{\"attributes\":{},\"id\":\"2855\",\"type\":\"BasicTickFormatter\"},{\"attributes\":{},\"id\":\"1745\",\"type\":\"LinearScale\"},{\"attributes\":{},\"id\":\"1728\",\"type\":\"ResetTool\"},{\"attributes\":{\"line_alpha\":0.2,\"line_color\":\"#178ccb\",\"line_width\":2,\"x\":{\"field\":\"x\"},\"y\":{\"field\":\"y\"}},\"id\":\"2645\",\"type\":\"Line\"},{\"attributes\":{},\"id\":\"2273\",\"type\":\"Selection\"},{\"attributes\":{},\"id\":\"2853\",\"type\":\"AllLabels\"},{\"attributes\":{},\"id\":\"2468\",\"type\":\"Selection\"},{\"attributes\":{\"fill_alpha\":{\"value\":0.1},\"fill_color\":{\"value\":\"#178ccb\"},\"hatch_alpha\":{\"value\":0.1},\"hatch_color\":{\"value\":\"#178ccb\"},\"line_alpha\":{\"value\":0.1},\"line_color\":{\"value\":\"#178ccb\"},\"line_width\":{\"value\":2},\"x\":{\"field\":\"x\"},\"y\":{\"field\":\"y\"}},\"id\":\"2650\",\"type\":\"Circle\"},{\"attributes\":{\"axis\":{\"id\":\"1689\"},\"coordinates\":null,\"dimension\":1,\"group\":null,\"ticker\":null},\"id\":\"1692\",\"type\":\"Grid\"},{\"attributes\":{\"fill_alpha\":{\"value\":0.2},\"fill_color\":{\"value\":\"#178ccb\"},\"hatch_alpha\":{\"value\":0.2},\"hatch_color\":{\"value\":\"#178ccb\"},\"line_alpha\":{\"value\":0.2},\"line_color\":{\"value\":\"#178ccb\"},\"line_width\":{\"value\":2},\"x\":{\"field\":\"x\"},\"y\":{\"field\":\"y\"}},\"id\":\"2651\",\"type\":\"Circle\"},{\"attributes\":{},\"id\":\"2079\",\"type\":\"UnionRenderers\"},{\"attributes\":{\"data\":{\"x\":{\"__ndarray__\":\"AAAAAAAA0D9VVVVVVVXVPwAAAAAAAOA/AAAAAAAA8D8AAAAAAAAAQAAAAAAAAAhAAAAAAAAAEEA=\",\"dtype\":\"float64\",\"order\":\"little\",\"shape\":[7]},\"y\":{\"__ndarray__\":\"0rJnXoV2IkCkKMXzwooiQGbJGKRMESZA9NmAPEABIUBStYJ5A+4WQNIGXL2EchJAUOtTANAaEUA=\",\"dtype\":\"float64\",\"order\":\"little\",\"shape\":[7]}},\"selected\":{\"id\":\"1885\"},\"selection_policy\":{\"id\":\"1884\"}},\"id\":\"1868\",\"type\":\"ColumnDataSource\"},{\"attributes\":{},\"id\":\"1717\",\"type\":\"BasicTicker\"},{\"attributes\":{},\"id\":\"2852\",\"type\":\"BasicTickFormatter\"},{\"attributes\":{\"coordinates\":null,\"data_source\":{\"id\":\"2648\"},\"glyph\":{\"id\":\"2649\"},\"group\":null,\"hover_glyph\":null,\"muted_glyph\":{\"id\":\"2651\"},\"nonselection_glyph\":{\"id\":\"2650\"},\"view\":{\"id\":\"2653\"}},\"id\":\"2652\",\"type\":\"GlyphRenderer\"},{\"attributes\":{},\"id\":\"2272\",\"type\":\"UnionRenderers\"},{\"attributes\":{},\"id\":\"2467\",\"type\":\"UnionRenderers\"},{\"attributes\":{\"fill_color\":{\"value\":\"#178ccb\"},\"hatch_color\":{\"value\":\"#178ccb\"},\"line_color\":{\"value\":\"#178ccb\"},\"line_width\":{\"value\":2},\"x\":{\"field\":\"x\"},\"y\":{\"field\":\"y\"}},\"id\":\"2649\",\"type\":\"Circle\"},{\"attributes\":{},\"id\":\"1683\",\"type\":\"LinearScale\"},{\"attributes\":{},\"id\":\"1727\",\"type\":\"SaveTool\"},{\"attributes\":{\"source\":{\"id\":\"2642\"}},\"id\":\"2647\",\"type\":\"CDSView\"},{\"attributes\":{\"coordinates\":null,\"formatter\":{\"id\":\"2465\"},\"group\":null,\"major_label_policy\":{\"id\":\"2466\"},\"major_label_text_font_size\":\"10pt\",\"ticker\":{\"id\":\"1748\"}},\"id\":\"1747\",\"type\":\"LinearAxis\"},{\"attributes\":{},\"id\":\"1698\",\"type\":\"HelpTool\"},{\"attributes\":{},\"id\":\"1690\",\"type\":\"BasicTicker\"},{\"attributes\":{\"overlay\":{\"id\":\"1730\"}},\"id\":\"1726\",\"type\":\"BoxZoomTool\"},{\"attributes\":{},\"id\":\"2662\",\"type\":\"UnionRenderers\"},{\"attributes\":{},\"id\":\"1724\",\"type\":\"PanTool\"},{\"attributes\":{},\"id\":\"2275\",\"type\":\"Selection\"},{\"attributes\":{},\"id\":\"2271\",\"type\":\"AllLabels\"},{\"attributes\":{},\"id\":\"2466\",\"type\":\"AllLabels\"},{\"attributes\":{\"data\":{\"x\":{\"__ndarray__\":\"AAAAAAAA0D9VVVVVVVXVPwAAAAAAAOA/AAAAAAAA8D8AAAAAAAAAQAAAAAAAAAhAAAAAAAAAEEA=\",\"dtype\":\"float64\",\"order\":\"little\",\"shape\":[7]},\"y\":{\"__ndarray__\":\"lZ1H3+N6IkCgbhuSFfsjQLY7L3HHnCNABinbR0sUIUCRx38NfiEdQCzz3vrhCxtALq4N1zAAG0A=\",\"dtype\":\"float64\",\"order\":\"little\",\"shape\":[7]}},\"selected\":{\"id\":\"2665\"},\"selection_policy\":{\"id\":\"2664\"}},\"id\":\"2648\",\"type\":\"ColumnDataSource\"},{\"attributes\":{\"axis\":{\"id\":\"1716\"},\"coordinates\":null,\"group\":null,\"ticker\":null},\"id\":\"1719\",\"type\":\"Grid\"},{\"attributes\":{},\"id\":\"1681\",\"type\":\"LinearScale\"},{\"attributes\":{},\"id\":\"2663\",\"type\":\"Selection\"},{\"attributes\":{},\"id\":\"1693\",\"type\":\"PanTool\"},{\"attributes\":{},\"id\":\"2270\",\"type\":\"BasicTickFormatter\"},{\"attributes\":{},\"id\":\"2465\",\"type\":\"BasicTickFormatter\"},{\"attributes\":{\"fill_color\":{\"value\":\"#178ccb\"},\"hatch_color\":{\"value\":\"#178ccb\"},\"line_color\":{\"value\":\"#178ccb\"},\"line_width\":{\"value\":2},\"x\":{\"field\":\"x\"},\"y\":{\"field\":\"y\"}},\"id\":\"1869\",\"type\":\"Circle\"},{\"attributes\":{},\"id\":\"2859\",\"type\":\"UnionRenderers\"},{\"attributes\":{\"end\":20},\"id\":\"1679\",\"type\":\"Range1d\"},{\"attributes\":{},\"id\":\"1696\",\"type\":\"SaveTool\"},{\"attributes\":{},\"id\":\"2268\",\"type\":\"AllLabels\"},{\"attributes\":{},\"id\":\"1752\",\"type\":\"BasicTicker\"},{\"attributes\":{},\"id\":\"1694\",\"type\":\"WheelZoomTool\"},{\"attributes\":{},\"id\":\"2463\",\"type\":\"AllLabels\"},{\"attributes\":{},\"id\":\"2860\",\"type\":\"Selection\"},{\"attributes\":{},\"id\":\"2858\",\"type\":\"Selection\"},{\"attributes\":{},\"id\":\"2267\",\"type\":\"BasicTickFormatter\"},{\"attributes\":{},\"id\":\"1686\",\"type\":\"BasicTicker\"},{\"attributes\":{},\"id\":\"1697\",\"type\":\"ResetTool\"},{\"attributes\":{},\"id\":\"2857\",\"type\":\"UnionRenderers\"},{\"attributes\":{},\"id\":\"2077\",\"type\":\"UnionRenderers\"},{\"attributes\":{\"tools\":[{\"id\":\"1724\"},{\"id\":\"1725\"},{\"id\":\"1726\"},{\"id\":\"1727\"},{\"id\":\"1728\"},{\"id\":\"1729\"}]},\"id\":\"1731\",\"type\":\"Toolbar\"},{\"attributes\":{\"coordinates\":null,\"data_source\":{\"id\":\"1868\"},\"glyph\":{\"id\":\"1869\"},\"group\":null,\"hover_glyph\":null,\"muted_glyph\":{\"id\":\"1871\"},\"nonselection_glyph\":{\"id\":\"1870\"},\"view\":{\"id\":\"1873\"}},\"id\":\"1872\",\"type\":\"GlyphRenderer\"},{\"attributes\":{},\"id\":\"2661\",\"type\":\"AllLabels\"},{\"attributes\":{\"bottom_units\":\"screen\",\"coordinates\":null,\"fill_alpha\":0.5,\"fill_color\":\"lightgrey\",\"group\":null,\"left_units\":\"screen\",\"level\":\"overlay\",\"line_alpha\":1.0,\"line_color\":\"black\",\"line_dash\":[4,4],\"line_width\":2,\"right_units\":\"screen\",\"syncable\":false,\"top_units\":\"screen\"},\"id\":\"1730\",\"type\":\"BoxAnnotation\"},{\"attributes\":{\"coordinates\":null,\"formatter\":{\"id\":\"2075\"},\"group\":null,\"major_label_policy\":{\"id\":\"2076\"},\"major_label_text_font_size\":\"10pt\",\"ticker\":{\"id\":\"1686\"}},\"id\":\"1685\",\"type\":\"LinearAxis\"},{\"attributes\":{},\"id\":\"2660\",\"type\":\"BasicTickFormatter\"},{\"attributes\":{\"coordinates\":null,\"group\":null},\"id\":\"2849\",\"type\":\"Title\"},{\"attributes\":{\"coordinates\":null,\"data_source\":{\"id\":\"2447\"},\"glyph\":{\"id\":\"2448\"},\"group\":null,\"hover_glyph\":null,\"muted_glyph\":{\"id\":\"2450\"},\"nonselection_glyph\":{\"id\":\"2449\"},\"view\":{\"id\":\"2452\"}},\"id\":\"2451\",\"type\":\"GlyphRenderer\"},{\"attributes\":{},\"id\":\"2664\",\"type\":\"UnionRenderers\"},{\"attributes\":{},\"id\":\"2658\",\"type\":\"AllLabels\"},{\"attributes\":{\"coordinates\":null,\"group\":null},\"id\":\"2459\",\"type\":\"Title\"},{\"attributes\":{\"fill_alpha\":{\"value\":0.2},\"fill_color\":{\"value\":\"#178ccb\"},\"hatch_alpha\":{\"value\":0.2},\"hatch_color\":{\"value\":\"#178ccb\"},\"line_alpha\":{\"value\":0.2},\"line_color\":{\"value\":\"#178ccb\"},\"line_width\":{\"value\":2},\"x\":{\"field\":\"x\"},\"y\":{\"field\":\"y\"}},\"id\":\"2456\",\"type\":\"Circle\"},{\"attributes\":{},\"id\":\"2657\",\"type\":\"BasicTickFormatter\"},{\"attributes\":{\"axis\":{\"id\":\"1751\"},\"coordinates\":null,\"dimension\":1,\"group\":null,\"ticker\":null},\"id\":\"1754\",\"type\":\"Grid\"},{\"attributes\":{\"line_alpha\":0.1,\"line_color\":\"#178ccb\",\"line_width\":2,\"x\":{\"field\":\"x\"},\"y\":{\"field\":\"y\"}},\"id\":\"2644\",\"type\":\"Line\"},{\"attributes\":{\"coordinates\":null,\"data_source\":{\"id\":\"2453\"},\"glyph\":{\"id\":\"2454\"},\"group\":null,\"hover_glyph\":null,\"muted_glyph\":{\"id\":\"2456\"},\"nonselection_glyph\":{\"id\":\"2455\"},\"view\":{\"id\":\"2458\"}},\"id\":\"2457\",\"type\":\"GlyphRenderer\"},{\"attributes\":{\"end\":4.2},\"id\":\"1677\",\"type\":\"Range1d\"},{\"attributes\":{\"axis\":{\"id\":\"1747\"},\"coordinates\":null,\"group\":null,\"ticker\":null},\"id\":\"1750\",\"type\":\"Grid\"},{\"attributes\":{\"source\":{\"id\":\"1862\"}},\"id\":\"1867\",\"type\":\"CDSView\"},{\"attributes\":{},\"id\":\"1712\",\"type\":\"LinearScale\"},{\"attributes\":{\"fill_alpha\":{\"value\":0.1},\"fill_color\":{\"value\":\"#178ccb\"},\"hatch_alpha\":{\"value\":0.1},\"hatch_color\":{\"value\":\"#178ccb\"},\"line_alpha\":{\"value\":0.1},\"line_color\":{\"value\":\"#178ccb\"},\"line_width\":{\"value\":2},\"x\":{\"field\":\"x\"},\"y\":{\"field\":\"y\"}},\"id\":\"1870\",\"type\":\"Circle\"},{\"attributes\":{\"fill_alpha\":{\"value\":0.1},\"fill_color\":{\"value\":\"#178ccb\"},\"hatch_alpha\":{\"value\":0.1},\"hatch_color\":{\"value\":\"#178ccb\"},\"line_alpha\":{\"value\":0.1},\"line_color\":{\"value\":\"#178ccb\"},\"line_width\":{\"value\":2},\"x\":{\"field\":\"x\"},\"y\":{\"field\":\"y\"}},\"id\":\"2455\",\"type\":\"Circle\"},{\"attributes\":{\"below\":[{\"id\":\"1747\"}],\"center\":[{\"id\":\"1750\"},{\"id\":\"1754\"}],\"height\":115,\"left\":[{\"id\":\"1751\"}],\"output_backend\":\"svg\",\"renderers\":[{\"id\":\"2451\"},{\"id\":\"2457\"}],\"title\":{\"id\":\"2459\"},\"toolbar\":{\"id\":\"1762\"},\"width\":144,\"x_range\":{\"id\":\"1739\"},\"x_scale\":{\"id\":\"1743\"},\"y_range\":{\"id\":\"1741\"},\"y_scale\":{\"id\":\"1745\"}},\"id\":\"1738\",\"subtype\":\"Figure\",\"type\":\"Plot\"},{\"attributes\":{},\"id\":\"1714\",\"type\":\"LinearScale\"},{\"attributes\":{\"source\":{\"id\":\"2837\"}},\"id\":\"2842\",\"type\":\"CDSView\"},{\"attributes\":{},\"id\":\"1725\",\"type\":\"WheelZoomTool\"},{\"attributes\":{\"line_alpha\":0.2,\"line_color\":\"#178ccb\",\"line_width\":2,\"x\":{\"field\":\"x\"},\"y\":{\"field\":\"y\"}},\"id\":\"2450\",\"type\":\"Line\"},{\"attributes\":{\"source\":{\"id\":\"2453\"}},\"id\":\"2458\",\"type\":\"CDSView\"},{\"attributes\":{},\"id\":\"1810\",\"type\":\"BasicTicker\"},{\"attributes\":{\"coordinates\":null,\"formatter\":{\"id\":\"2462\"},\"group\":null,\"major_label_policy\":{\"id\":\"2463\"},\"major_label_text_font_size\":\"10pt\",\"ticker\":{\"id\":\"1752\"}},\"id\":\"1751\",\"type\":\"LinearAxis\"},{\"attributes\":{\"data\":{\"x\":{\"__ndarray__\":\"AAAAAAAA0D9VVVVVVVXVPwAAAAAAAOA/AAAAAAAA8D8AAAAAAAAAQAAAAAAAAAhAAAAAAAAAEEA=\",\"dtype\":\"float64\",\"order\":\"little\",\"shape\":[7]},\"y\":{\"__ndarray__\":\"lZ1H3+N6IkCgbhuSFfsjQLY7L3HHnCNABinbR0sUIUCRx38NfiEdQCzz3vrhCxtALq4N1zAAG0A=\",\"dtype\":\"float64\",\"order\":\"little\",\"shape\":[7]}},\"selected\":{\"id\":\"2663\"},\"selection_policy\":{\"id\":\"2662\"}},\"id\":\"2642\",\"type\":\"ColumnDataSource\"},{\"attributes\":{\"source\":{\"id\":\"2447\"}},\"id\":\"2452\",\"type\":\"CDSView\"},{\"attributes\":{\"fill_alpha\":{\"value\":0.2},\"fill_color\":{\"value\":\"#178ccb\"},\"hatch_alpha\":{\"value\":0.2},\"hatch_color\":{\"value\":\"#178ccb\"},\"line_alpha\":{\"value\":0.2},\"line_color\":{\"value\":\"#178ccb\"},\"line_width\":{\"value\":2},\"x\":{\"field\":\"x\"},\"y\":{\"field\":\"y\"}},\"id\":\"2846\",\"type\":\"Circle\"},{\"attributes\":{\"end\":4.2},\"id\":\"1739\",\"type\":\"Range1d\"},{\"attributes\":{\"fill_color\":{\"value\":\"#178ccb\"},\"hatch_color\":{\"value\":\"#178ccb\"},\"line_color\":{\"value\":\"#178ccb\"},\"line_width\":{\"value\":2},\"x\":{\"field\":\"x\"},\"y\":{\"field\":\"y\"}},\"id\":\"2454\",\"type\":\"Circle\"},{\"attributes\":{\"data\":{\"x\":{\"__ndarray__\":\"AAAAAAAA0D9VVVVVVVXVPwAAAAAAAOA/AAAAAAAA8D8AAAAAAAAAQAAAAAAAAAhAAAAAAAAAEEA=\",\"dtype\":\"float64\",\"order\":\"little\",\"shape\":[7]},\"y\":{\"__ndarray__\":\"EFaWrVI/GECEIhoNvHwaQL9u9mU6qx1AoMklr15fIEAQ4FiWwWsiQKM9gsw/biNAo78C3QsSI0A=\",\"dtype\":\"float64\",\"order\":\"little\",\"shape\":[7]}},\"selected\":{\"id\":\"2858\"},\"selection_policy\":{\"id\":\"2857\"}},\"id\":\"2837\",\"type\":\"ColumnDataSource\"},{\"attributes\":{},\"id\":\"1721\",\"type\":\"BasicTicker\"},{\"attributes\":{\"data\":{\"x\":{\"__ndarray__\":\"AAAAAAAA0D9VVVVVVVXVPwAAAAAAAOA/AAAAAAAA8D8AAAAAAAAAQAAAAAAAAAhAAAAAAAAAEEA=\",\"dtype\":\"float64\",\"order\":\"little\",\"shape\":[7]},\"y\":{\"__ndarray__\":\"tdBCu5g1HECGiOQGlJQhQIPEXwd2miFA624lhRWEIUBMAQNyouYWQLLOmKt1tBRARa6vyTaxEkA=\",\"dtype\":\"float64\",\"order\":\"little\",\"shape\":[7]}},\"selected\":{\"id\":\"2470\"},\"selection_policy\":{\"id\":\"2469\"}},\"id\":\"2453\",\"type\":\"ColumnDataSource\"},{\"attributes\":{\"line_color\":\"#178ccb\",\"line_width\":2,\"x\":{\"field\":\"x\"},\"y\":{\"field\":\"y\"}},\"id\":\"2838\",\"type\":\"Line\"},{\"attributes\":{\"end\":4.2},\"id\":\"1708\",\"type\":\"Range1d\"},{\"attributes\":{\"axis\":{\"id\":\"1720\"},\"coordinates\":null,\"dimension\":1,\"group\":null,\"ticker\":null},\"id\":\"1723\",\"type\":\"Grid\"},{\"attributes\":{\"coordinates\":null,\"data_source\":{\"id\":\"2837\"},\"glyph\":{\"id\":\"2838\"},\"group\":null,\"hover_glyph\":null,\"muted_glyph\":{\"id\":\"2840\"},\"nonselection_glyph\":{\"id\":\"2839\"},\"view\":{\"id\":\"2842\"}},\"id\":\"2841\",\"type\":\"GlyphRenderer\"},{\"attributes\":{\"axis\":{\"id\":\"1685\"},\"coordinates\":null,\"group\":null,\"ticker\":null},\"id\":\"1688\",\"type\":\"Grid\"},{\"attributes\":{\"end\":20},\"id\":\"1710\",\"type\":\"Range1d\"},{\"attributes\":{\"line_color\":\"#178ccb\",\"line_width\":2,\"x\":{\"field\":\"x\"},\"y\":{\"field\":\"y\"}},\"id\":\"2643\",\"type\":\"Line\"},{\"attributes\":{\"coordinates\":null,\"formatter\":{\"id\":\"2072\"},\"group\":null,\"major_label_policy\":{\"id\":\"2073\"},\"major_label_text_font_size\":\"10pt\",\"ticker\":{\"id\":\"1690\"}},\"id\":\"1689\",\"type\":\"LinearAxis\"},{\"attributes\":{\"coordinates\":null,\"group\":null},\"id\":\"2264\",\"type\":\"Title\"},{\"attributes\":{\"data\":{\"x\":{\"__ndarray__\":\"AAAAAAAA0D9VVVVVVVXVPwAAAAAAAOA/AAAAAAAA8D8AAAAAAAAAQAAAAAAAAAhAAAAAAAAAEEA=\",\"dtype\":\"float64\",\"order\":\"little\",\"shape\":[7]},\"y\":{\"__ndarray__\":\"EFaWrVI/GECEIhoNvHwaQL9u9mU6qx1AoMklr15fIEAQ4FiWwWsiQKM9gsw/biNAo78C3QsSI0A=\",\"dtype\":\"float64\",\"order\":\"little\",\"shape\":[7]}},\"selected\":{\"id\":\"2860\"},\"selection_policy\":{\"id\":\"2859\"}},\"id\":\"2843\",\"type\":\"ColumnDataSource\"},{\"attributes\":{},\"id\":\"2462\",\"type\":\"BasicTickFormatter\"},{\"attributes\":{\"source\":{\"id\":\"2843\"}},\"id\":\"2848\",\"type\":\"CDSView\"},{\"attributes\":{\"overlay\":{\"id\":\"1699\"}},\"id\":\"1695\",\"type\":\"BoxZoomTool\"},{\"attributes\":{\"tools\":[{\"id\":\"1693\"},{\"id\":\"1694\"},{\"id\":\"1695\"},{\"id\":\"1696\"},{\"id\":\"1697\"},{\"id\":\"1698\"}]},\"id\":\"1700\",\"type\":\"Toolbar\"},{\"attributes\":{\"coordinates\":null,\"data_source\":{\"id\":\"2843\"},\"glyph\":{\"id\":\"2844\"},\"group\":null,\"hover_glyph\":null,\"muted_glyph\":{\"id\":\"2846\"},\"nonselection_glyph\":{\"id\":\"2845\"},\"view\":{\"id\":\"2848\"}},\"id\":\"2847\",\"type\":\"GlyphRenderer\"},{\"attributes\":{},\"id\":\"1743\",\"type\":\"LinearScale\"},{\"attributes\":{\"line_alpha\":0.1,\"line_color\":\"#178ccb\",\"line_width\":2,\"x\":{\"field\":\"x\"},\"y\":{\"field\":\"y\"}},\"id\":\"2839\",\"type\":\"Line\"},{\"attributes\":{\"bottom_units\":\"screen\",\"coordinates\":null,\"fill_alpha\":0.5,\"fill_color\":\"lightgrey\",\"group\":null,\"left_units\":\"screen\",\"level\":\"overlay\",\"line_alpha\":1.0,\"line_color\":\"black\",\"line_dash\":[4,4],\"line_width\":2,\"right_units\":\"screen\",\"syncable\":false,\"top_units\":\"screen\"},\"id\":\"1699\",\"type\":\"BoxAnnotation\"},{\"attributes\":{\"fill_color\":{\"value\":\"#178ccb\"},\"hatch_color\":{\"value\":\"#178ccb\"},\"line_color\":{\"value\":\"#178ccb\"},\"line_width\":{\"value\":2},\"x\":{\"field\":\"x\"},\"y\":{\"field\":\"y\"}},\"id\":\"2844\",\"type\":\"Circle\"},{\"attributes\":{\"line_alpha\":0.2,\"line_color\":\"#178ccb\",\"line_width\":2,\"x\":{\"field\":\"x\"},\"y\":{\"field\":\"y\"}},\"id\":\"2840\",\"type\":\"Line\"},{\"attributes\":{\"end\":20},\"id\":\"1741\",\"type\":\"Range1d\"},{\"attributes\":{\"fill_alpha\":{\"value\":0.1},\"fill_color\":{\"value\":\"#178ccb\"},\"hatch_alpha\":{\"value\":0.1},\"hatch_color\":{\"value\":\"#178ccb\"},\"line_alpha\":{\"value\":0.1},\"line_color\":{\"value\":\"#178ccb\"},\"line_width\":{\"value\":2},\"x\":{\"field\":\"x\"},\"y\":{\"field\":\"y\"}},\"id\":\"2845\",\"type\":\"Circle\"},{\"attributes\":{\"coordinates\":null,\"formatter\":{\"id\":\"2270\"},\"group\":null,\"major_label_policy\":{\"id\":\"2271\"},\"major_label_text_font_size\":\"10pt\",\"ticker\":{\"id\":\"1717\"}},\"id\":\"1716\",\"type\":\"LinearAxis\"},{\"attributes\":{},\"id\":\"2665\",\"type\":\"Selection\"},{\"attributes\":{\"coordinates\":null,\"data_source\":{\"id\":\"2642\"},\"glyph\":{\"id\":\"2643\"},\"group\":null,\"hover_glyph\":null,\"muted_glyph\":{\"id\":\"2645\"},\"nonselection_glyph\":{\"id\":\"2644\"},\"view\":{\"id\":\"2647\"}},\"id\":\"2646\",\"type\":\"GlyphRenderer\"},{\"attributes\":{\"coordinates\":null,\"formatter\":{\"id\":\"2267\"},\"group\":null,\"major_label_policy\":{\"id\":\"2268\"},\"major_label_text_font_size\":\"10pt\",\"ticker\":{\"id\":\"1721\"}},\"id\":\"1720\",\"type\":\"LinearAxis\"},{\"attributes\":{\"coordinates\":null,\"group\":null},\"id\":\"2654\",\"type\":\"Title\"}],\"root_ids\":[\"3227\"]},\"title\":\"Bokeh Application\",\"version\":\"2.4.1\"}};\n",
       "  const render_items = [{\"docid\":\"2cdae285-3c42-4ada-8968-c9da38f1ffdb\",\"root_ids\":[\"3227\"],\"roots\":{\"3227\":\"95cc611d-fde0-4d45-b0b3-32bb30213532\"}}];\n",
       "  root.Bokeh.embed.embed_items_notebook(docs_json, render_items);\n",
       "\n",
       "  }\n",
       "  if (root.Bokeh !== undefined) {\n",
       "    embed_document(root);\n",
       "  } else {\n",
       "    let attempts = 0;\n",
       "    const timer = setInterval(function(root) {\n",
       "      if (root.Bokeh !== undefined) {\n",
       "        clearInterval(timer);\n",
       "        embed_document(root);\n",
       "      } else {\n",
       "        attempts++;\n",
       "        if (attempts > 100) {\n",
       "          clearInterval(timer);\n",
       "          console.log(\"Bokeh: ERROR: Unable to run BokehJS code because BokehJS library is missing\");\n",
       "        }\n",
       "      }\n",
       "    }, 10, root)\n",
       "  }\n",
       "})(window);"
      ],
      "application/vnd.bokehjs_exec.v0+json": ""
     },
     "metadata": {
      "application/vnd.bokehjs_exec.v0+json": {
       "id": "3227"
      }
     },
     "output_type": "display_data"
    }
   ],
   "source": [
    "# Set up plots\n",
    "# For two digits 260 by 115 larger and 144 by 115 for half size\n",
    "# For three digits 266 by 115 larger and 150 by 115 for half size\n",
    "fig_size = [144, 115] # for paper size (260/115), half size (144,115), visualize (600/200)\n",
    "\n",
    "x_range = (0, 4.2)\n",
    "y_range = (0, 20)\n",
    "\n",
    "plots = []\n",
    "for i in range(out.shape[0]-1):\n",
    "    #print(i)\n",
    "    plots.append(bokeh.plotting.figure(plot_width=fig_size[0], plot_height=fig_size[1],\n",
    "                          x_range=x_range,y_range=y_range\n",
    "                          ),)\n",
    "    plots[i].axis.major_label_text_font_size = \"10pt\"\n",
    "\n",
    "color=\"#178ccb\"    \n",
    "for i in range(out.shape[0]-1):\n",
    "    plots[i].line(out[0,1:], out[i+1,1:], line_width=2, alpha= 1, line_join=\"bevel\",color=color)\n",
    "    plots[i].circle(out[0,1:], out[i+1,1:], line_width=2, alpha= 1, line_join=\"bevel\",color=color)\n",
    "    #plots[i].xaxis.ticker = list(np.linspace(0,4,5))\n",
    "    #plots[i].x_range = Range1d(0, 4)\n",
    "    plots[i].output_backend = \"svg\"\n",
    "    export_svgs(plots[i],filename=\"fig/Sensitivity_Param_\" + str(out[i+1,0]) + \".svg\")\n",
    "\n",
    "bokeh.io.show(bokeh.layouts.row(plots))"
   ]
  },
  {
   "cell_type": "code",
   "execution_count": null,
   "metadata": {
    "id": "gQKyMX6foz8Q"
   },
   "outputs": [],
   "source": []
  }
 ],
 "metadata": {
  "colab": {
   "collapsed_sections": [],
   "name": "Oscillator_RR_Design.ipynb",
   "provenance": []
  },
  "kernelspec": {
   "display_name": "Python 3 (ipykernel)",
   "language": "python",
   "name": "python3"
  },
  "language_info": {
   "codemirror_mode": {
    "name": "ipython",
    "version": 3
   },
   "file_extension": ".py",
   "mimetype": "text/x-python",
   "name": "python",
   "nbconvert_exporter": "python",
   "pygments_lexer": "ipython3",
   "version": "3.9.7"
  }
 },
 "nbformat": 4,
 "nbformat_minor": 4
}
