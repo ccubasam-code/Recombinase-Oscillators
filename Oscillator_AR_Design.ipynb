{
 "cells": [
  {
   "cell_type": "markdown",
   "metadata": {
    "id": "knIklix4oThN"
   },
   "source": [
    "# Stochastic Analysis of a simple Activator-Recombinase oscillator: AR Design\n",
    "\n",
    "In this Jupyterbook, we implement the Gilleaspy algorithm of a recombinase-based oscillator at a single copy "
   ]
  },
  {
   "cell_type": "code",
   "execution_count": 4,
   "metadata": {
    "colab": {
     "base_uri": "https://localhost:8080/"
    },
    "executionInfo": {
     "elapsed": 26603,
     "status": "ok",
     "timestamp": 1652483232720,
     "user": {
      "displayName": "Christian Cuba",
      "userId": "05812622177105967845"
     },
     "user_tz": 240
    },
    "id": "lHy71zVrtgCI",
    "outputId": "d8bda576-58d0-4062-c074-dc847a7370e3"
   },
   "outputs": [
    {
     "data": {
      "text/html": [
       "\n",
       "    <div class=\"bk-root\">\n",
       "        <a href=\"https://bokeh.org\" target=\"_blank\" class=\"bk-logo bk-logo-small bk-logo-notebook\"></a>\n",
       "        <span id=\"3132\">Loading BokehJS ...</span>\n",
       "    </div>"
      ]
     },
     "metadata": {},
     "output_type": "display_data"
    },
    {
     "data": {
      "application/javascript": [
       "\n",
       "(function(root) {\n",
       "  function now() {\n",
       "    return new Date();\n",
       "  }\n",
       "\n",
       "  const force = true;\n",
       "\n",
       "  if (typeof root._bokeh_onload_callbacks === \"undefined\" || force === true) {\n",
       "    root._bokeh_onload_callbacks = [];\n",
       "    root._bokeh_is_loading = undefined;\n",
       "  }\n",
       "\n",
       "  const JS_MIME_TYPE = 'application/javascript';\n",
       "  const HTML_MIME_TYPE = 'text/html';\n",
       "  const EXEC_MIME_TYPE = 'application/vnd.bokehjs_exec.v0+json';\n",
       "  const CLASS_NAME = 'output_bokeh rendered_html';\n",
       "\n",
       "  /**\n",
       "   * Render data to the DOM node\n",
       "   */\n",
       "  function render(props, node) {\n",
       "    const script = document.createElement(\"script\");\n",
       "    node.appendChild(script);\n",
       "  }\n",
       "\n",
       "  /**\n",
       "   * Handle when an output is cleared or removed\n",
       "   */\n",
       "  function handleClearOutput(event, handle) {\n",
       "    const cell = handle.cell;\n",
       "\n",
       "    const id = cell.output_area._bokeh_element_id;\n",
       "    const server_id = cell.output_area._bokeh_server_id;\n",
       "    // Clean up Bokeh references\n",
       "    if (id != null && id in Bokeh.index) {\n",
       "      Bokeh.index[id].model.document.clear();\n",
       "      delete Bokeh.index[id];\n",
       "    }\n",
       "\n",
       "    if (server_id !== undefined) {\n",
       "      // Clean up Bokeh references\n",
       "      const cmd_clean = \"from bokeh.io.state import curstate; print(curstate().uuid_to_server['\" + server_id + \"'].get_sessions()[0].document.roots[0]._id)\";\n",
       "      cell.notebook.kernel.execute(cmd_clean, {\n",
       "        iopub: {\n",
       "          output: function(msg) {\n",
       "            const id = msg.content.text.trim();\n",
       "            if (id in Bokeh.index) {\n",
       "              Bokeh.index[id].model.document.clear();\n",
       "              delete Bokeh.index[id];\n",
       "            }\n",
       "          }\n",
       "        }\n",
       "      });\n",
       "      // Destroy server and session\n",
       "      const cmd_destroy = \"import bokeh.io.notebook as ion; ion.destroy_server('\" + server_id + \"')\";\n",
       "      cell.notebook.kernel.execute(cmd_destroy);\n",
       "    }\n",
       "  }\n",
       "\n",
       "  /**\n",
       "   * Handle when a new output is added\n",
       "   */\n",
       "  function handleAddOutput(event, handle) {\n",
       "    const output_area = handle.output_area;\n",
       "    const output = handle.output;\n",
       "\n",
       "    // limit handleAddOutput to display_data with EXEC_MIME_TYPE content only\n",
       "    if ((output.output_type != \"display_data\") || (!Object.prototype.hasOwnProperty.call(output.data, EXEC_MIME_TYPE))) {\n",
       "      return\n",
       "    }\n",
       "\n",
       "    const toinsert = output_area.element.find(\".\" + CLASS_NAME.split(' ')[0]);\n",
       "\n",
       "    if (output.metadata[EXEC_MIME_TYPE][\"id\"] !== undefined) {\n",
       "      toinsert[toinsert.length - 1].firstChild.textContent = output.data[JS_MIME_TYPE];\n",
       "      // store reference to embed id on output_area\n",
       "      output_area._bokeh_element_id = output.metadata[EXEC_MIME_TYPE][\"id\"];\n",
       "    }\n",
       "    if (output.metadata[EXEC_MIME_TYPE][\"server_id\"] !== undefined) {\n",
       "      const bk_div = document.createElement(\"div\");\n",
       "      bk_div.innerHTML = output.data[HTML_MIME_TYPE];\n",
       "      const script_attrs = bk_div.children[0].attributes;\n",
       "      for (let i = 0; i < script_attrs.length; i++) {\n",
       "        toinsert[toinsert.length - 1].firstChild.setAttribute(script_attrs[i].name, script_attrs[i].value);\n",
       "        toinsert[toinsert.length - 1].firstChild.textContent = bk_div.children[0].textContent\n",
       "      }\n",
       "      // store reference to server id on output_area\n",
       "      output_area._bokeh_server_id = output.metadata[EXEC_MIME_TYPE][\"server_id\"];\n",
       "    }\n",
       "  }\n",
       "\n",
       "  function register_renderer(events, OutputArea) {\n",
       "\n",
       "    function append_mime(data, metadata, element) {\n",
       "      // create a DOM node to render to\n",
       "      const toinsert = this.create_output_subarea(\n",
       "        metadata,\n",
       "        CLASS_NAME,\n",
       "        EXEC_MIME_TYPE\n",
       "      );\n",
       "      this.keyboard_manager.register_events(toinsert);\n",
       "      // Render to node\n",
       "      const props = {data: data, metadata: metadata[EXEC_MIME_TYPE]};\n",
       "      render(props, toinsert[toinsert.length - 1]);\n",
       "      element.append(toinsert);\n",
       "      return toinsert\n",
       "    }\n",
       "\n",
       "    /* Handle when an output is cleared or removed */\n",
       "    events.on('clear_output.CodeCell', handleClearOutput);\n",
       "    events.on('delete.Cell', handleClearOutput);\n",
       "\n",
       "    /* Handle when a new output is added */\n",
       "    events.on('output_added.OutputArea', handleAddOutput);\n",
       "\n",
       "    /**\n",
       "     * Register the mime type and append_mime function with output_area\n",
       "     */\n",
       "    OutputArea.prototype.register_mime_type(EXEC_MIME_TYPE, append_mime, {\n",
       "      /* Is output safe? */\n",
       "      safe: true,\n",
       "      /* Index of renderer in `output_area.display_order` */\n",
       "      index: 0\n",
       "    });\n",
       "  }\n",
       "\n",
       "  // register the mime type if in Jupyter Notebook environment and previously unregistered\n",
       "  if (root.Jupyter !== undefined) {\n",
       "    const events = require('base/js/events');\n",
       "    const OutputArea = require('notebook/js/outputarea').OutputArea;\n",
       "\n",
       "    if (OutputArea.prototype.mime_types().indexOf(EXEC_MIME_TYPE) == -1) {\n",
       "      register_renderer(events, OutputArea);\n",
       "    }\n",
       "  }\n",
       "\n",
       "  \n",
       "  if (typeof (root._bokeh_timeout) === \"undefined\" || force === true) {\n",
       "    root._bokeh_timeout = Date.now() + 5000;\n",
       "    root._bokeh_failed_load = false;\n",
       "  }\n",
       "\n",
       "  const NB_LOAD_WARNING = {'data': {'text/html':\n",
       "     \"<div style='background-color: #fdd'>\\n\"+\n",
       "     \"<p>\\n\"+\n",
       "     \"BokehJS does not appear to have successfully loaded. If loading BokehJS from CDN, this \\n\"+\n",
       "     \"may be due to a slow or bad network connection. Possible fixes:\\n\"+\n",
       "     \"</p>\\n\"+\n",
       "     \"<ul>\\n\"+\n",
       "     \"<li>re-rerun `output_notebook()` to attempt to load from CDN again, or</li>\\n\"+\n",
       "     \"<li>use INLINE resources instead, as so:</li>\\n\"+\n",
       "     \"</ul>\\n\"+\n",
       "     \"<code>\\n\"+\n",
       "     \"from bokeh.resources import INLINE\\n\"+\n",
       "     \"output_notebook(resources=INLINE)\\n\"+\n",
       "     \"</code>\\n\"+\n",
       "     \"</div>\"}};\n",
       "\n",
       "  function display_loaded() {\n",
       "    const el = document.getElementById(\"3132\");\n",
       "    if (el != null) {\n",
       "      el.textContent = \"BokehJS is loading...\";\n",
       "    }\n",
       "    if (root.Bokeh !== undefined) {\n",
       "      if (el != null) {\n",
       "        el.textContent = \"BokehJS \" + root.Bokeh.version + \" successfully loaded.\";\n",
       "      }\n",
       "    } else if (Date.now() < root._bokeh_timeout) {\n",
       "      setTimeout(display_loaded, 100)\n",
       "    }\n",
       "  }\n",
       "\n",
       "\n",
       "  function run_callbacks() {\n",
       "    try {\n",
       "      root._bokeh_onload_callbacks.forEach(function(callback) {\n",
       "        if (callback != null)\n",
       "          callback();\n",
       "      });\n",
       "    } finally {\n",
       "      delete root._bokeh_onload_callbacks\n",
       "    }\n",
       "    console.debug(\"Bokeh: all callbacks have finished\");\n",
       "  }\n",
       "\n",
       "  function load_libs(css_urls, js_urls, callback) {\n",
       "    if (css_urls == null) css_urls = [];\n",
       "    if (js_urls == null) js_urls = [];\n",
       "\n",
       "    root._bokeh_onload_callbacks.push(callback);\n",
       "    if (root._bokeh_is_loading > 0) {\n",
       "      console.debug(\"Bokeh: BokehJS is being loaded, scheduling callback at\", now());\n",
       "      return null;\n",
       "    }\n",
       "    if (js_urls == null || js_urls.length === 0) {\n",
       "      run_callbacks();\n",
       "      return null;\n",
       "    }\n",
       "    console.debug(\"Bokeh: BokehJS not loaded, scheduling load and callback at\", now());\n",
       "    root._bokeh_is_loading = css_urls.length + js_urls.length;\n",
       "\n",
       "    function on_load() {\n",
       "      root._bokeh_is_loading--;\n",
       "      if (root._bokeh_is_loading === 0) {\n",
       "        console.debug(\"Bokeh: all BokehJS libraries/stylesheets loaded\");\n",
       "        run_callbacks()\n",
       "      }\n",
       "    }\n",
       "\n",
       "    function on_error(url) {\n",
       "      console.error(\"failed to load \" + url);\n",
       "    }\n",
       "\n",
       "    for (let i = 0; i < css_urls.length; i++) {\n",
       "      const url = css_urls[i];\n",
       "      const element = document.createElement(\"link\");\n",
       "      element.onload = on_load;\n",
       "      element.onerror = on_error.bind(null, url);\n",
       "      element.rel = \"stylesheet\";\n",
       "      element.type = \"text/css\";\n",
       "      element.href = url;\n",
       "      console.debug(\"Bokeh: injecting link tag for BokehJS stylesheet: \", url);\n",
       "      document.body.appendChild(element);\n",
       "    }\n",
       "\n",
       "    for (let i = 0; i < js_urls.length; i++) {\n",
       "      const url = js_urls[i];\n",
       "      const element = document.createElement('script');\n",
       "      element.onload = on_load;\n",
       "      element.onerror = on_error.bind(null, url);\n",
       "      element.async = false;\n",
       "      element.src = url;\n",
       "      console.debug(\"Bokeh: injecting script tag for BokehJS library: \", url);\n",
       "      document.head.appendChild(element);\n",
       "    }\n",
       "  };\n",
       "\n",
       "  function inject_raw_css(css) {\n",
       "    const element = document.createElement(\"style\");\n",
       "    element.appendChild(document.createTextNode(css));\n",
       "    document.body.appendChild(element);\n",
       "  }\n",
       "\n",
       "  \n",
       "  const js_urls = [\"https://cdn.bokeh.org/bokeh/release/bokeh-2.4.1.min.js\", \"https://cdn.bokeh.org/bokeh/release/bokeh-gl-2.4.1.min.js\", \"https://cdn.bokeh.org/bokeh/release/bokeh-widgets-2.4.1.min.js\", \"https://cdn.bokeh.org/bokeh/release/bokeh-tables-2.4.1.min.js\", \"https://cdn.bokeh.org/bokeh/release/bokeh-mathjax-2.4.1.min.js\"];\n",
       "  const css_urls = [];\n",
       "  \n",
       "\n",
       "  const inline_js = [\n",
       "    function(Bokeh) {\n",
       "      Bokeh.set_log_level(\"info\");\n",
       "    },\n",
       "    function(Bokeh) {\n",
       "    \n",
       "    \n",
       "    }\n",
       "  ];\n",
       "\n",
       "  function run_inline_js() {\n",
       "    \n",
       "    if (root.Bokeh !== undefined || force === true) {\n",
       "      \n",
       "    for (let i = 0; i < inline_js.length; i++) {\n",
       "      inline_js[i].call(root, root.Bokeh);\n",
       "    }\n",
       "    if (force === true) {\n",
       "        display_loaded();\n",
       "      }} else if (Date.now() < root._bokeh_timeout) {\n",
       "      setTimeout(run_inline_js, 100);\n",
       "    } else if (!root._bokeh_failed_load) {\n",
       "      console.log(\"Bokeh: BokehJS failed to load within specified timeout.\");\n",
       "      root._bokeh_failed_load = true;\n",
       "    } else if (force !== true) {\n",
       "      const cell = $(document.getElementById(\"3132\")).parents('.cell').data().cell;\n",
       "      cell.output_area.append_execute_result(NB_LOAD_WARNING)\n",
       "    }\n",
       "\n",
       "  }\n",
       "\n",
       "  if (root._bokeh_is_loading === 0) {\n",
       "    console.debug(\"Bokeh: BokehJS loaded, going straight to plotting\");\n",
       "    run_inline_js();\n",
       "  } else {\n",
       "    load_libs(css_urls, js_urls, function() {\n",
       "      console.debug(\"Bokeh: BokehJS plotting callback run at\", now());\n",
       "      run_inline_js();\n",
       "    });\n",
       "  }\n",
       "}(window));"
      ],
      "application/vnd.bokehjs_load.v0+json": "\n(function(root) {\n  function now() {\n    return new Date();\n  }\n\n  const force = true;\n\n  if (typeof root._bokeh_onload_callbacks === \"undefined\" || force === true) {\n    root._bokeh_onload_callbacks = [];\n    root._bokeh_is_loading = undefined;\n  }\n\n  \n\n  \n  if (typeof (root._bokeh_timeout) === \"undefined\" || force === true) {\n    root._bokeh_timeout = Date.now() + 5000;\n    root._bokeh_failed_load = false;\n  }\n\n  const NB_LOAD_WARNING = {'data': {'text/html':\n     \"<div style='background-color: #fdd'>\\n\"+\n     \"<p>\\n\"+\n     \"BokehJS does not appear to have successfully loaded. If loading BokehJS from CDN, this \\n\"+\n     \"may be due to a slow or bad network connection. Possible fixes:\\n\"+\n     \"</p>\\n\"+\n     \"<ul>\\n\"+\n     \"<li>re-rerun `output_notebook()` to attempt to load from CDN again, or</li>\\n\"+\n     \"<li>use INLINE resources instead, as so:</li>\\n\"+\n     \"</ul>\\n\"+\n     \"<code>\\n\"+\n     \"from bokeh.resources import INLINE\\n\"+\n     \"output_notebook(resources=INLINE)\\n\"+\n     \"</code>\\n\"+\n     \"</div>\"}};\n\n  function display_loaded() {\n    const el = document.getElementById(\"3132\");\n    if (el != null) {\n      el.textContent = \"BokehJS is loading...\";\n    }\n    if (root.Bokeh !== undefined) {\n      if (el != null) {\n        el.textContent = \"BokehJS \" + root.Bokeh.version + \" successfully loaded.\";\n      }\n    } else if (Date.now() < root._bokeh_timeout) {\n      setTimeout(display_loaded, 100)\n    }\n  }\n\n\n  function run_callbacks() {\n    try {\n      root._bokeh_onload_callbacks.forEach(function(callback) {\n        if (callback != null)\n          callback();\n      });\n    } finally {\n      delete root._bokeh_onload_callbacks\n    }\n    console.debug(\"Bokeh: all callbacks have finished\");\n  }\n\n  function load_libs(css_urls, js_urls, callback) {\n    if (css_urls == null) css_urls = [];\n    if (js_urls == null) js_urls = [];\n\n    root._bokeh_onload_callbacks.push(callback);\n    if (root._bokeh_is_loading > 0) {\n      console.debug(\"Bokeh: BokehJS is being loaded, scheduling callback at\", now());\n      return null;\n    }\n    if (js_urls == null || js_urls.length === 0) {\n      run_callbacks();\n      return null;\n    }\n    console.debug(\"Bokeh: BokehJS not loaded, scheduling load and callback at\", now());\n    root._bokeh_is_loading = css_urls.length + js_urls.length;\n\n    function on_load() {\n      root._bokeh_is_loading--;\n      if (root._bokeh_is_loading === 0) {\n        console.debug(\"Bokeh: all BokehJS libraries/stylesheets loaded\");\n        run_callbacks()\n      }\n    }\n\n    function on_error(url) {\n      console.error(\"failed to load \" + url);\n    }\n\n    for (let i = 0; i < css_urls.length; i++) {\n      const url = css_urls[i];\n      const element = document.createElement(\"link\");\n      element.onload = on_load;\n      element.onerror = on_error.bind(null, url);\n      element.rel = \"stylesheet\";\n      element.type = \"text/css\";\n      element.href = url;\n      console.debug(\"Bokeh: injecting link tag for BokehJS stylesheet: \", url);\n      document.body.appendChild(element);\n    }\n\n    for (let i = 0; i < js_urls.length; i++) {\n      const url = js_urls[i];\n      const element = document.createElement('script');\n      element.onload = on_load;\n      element.onerror = on_error.bind(null, url);\n      element.async = false;\n      element.src = url;\n      console.debug(\"Bokeh: injecting script tag for BokehJS library: \", url);\n      document.head.appendChild(element);\n    }\n  };\n\n  function inject_raw_css(css) {\n    const element = document.createElement(\"style\");\n    element.appendChild(document.createTextNode(css));\n    document.body.appendChild(element);\n  }\n\n  \n  const js_urls = [\"https://cdn.bokeh.org/bokeh/release/bokeh-2.4.1.min.js\", \"https://cdn.bokeh.org/bokeh/release/bokeh-gl-2.4.1.min.js\", \"https://cdn.bokeh.org/bokeh/release/bokeh-widgets-2.4.1.min.js\", \"https://cdn.bokeh.org/bokeh/release/bokeh-tables-2.4.1.min.js\", \"https://cdn.bokeh.org/bokeh/release/bokeh-mathjax-2.4.1.min.js\"];\n  const css_urls = [];\n  \n\n  const inline_js = [\n    function(Bokeh) {\n      Bokeh.set_log_level(\"info\");\n    },\n    function(Bokeh) {\n    \n    \n    }\n  ];\n\n  function run_inline_js() {\n    \n    if (root.Bokeh !== undefined || force === true) {\n      \n    for (let i = 0; i < inline_js.length; i++) {\n      inline_js[i].call(root, root.Bokeh);\n    }\n    if (force === true) {\n        display_loaded();\n      }} else if (Date.now() < root._bokeh_timeout) {\n      setTimeout(run_inline_js, 100);\n    } else if (!root._bokeh_failed_load) {\n      console.log(\"Bokeh: BokehJS failed to load within specified timeout.\");\n      root._bokeh_failed_load = true;\n    } else if (force !== true) {\n      const cell = $(document.getElementById(\"3132\")).parents('.cell').data().cell;\n      cell.output_area.append_execute_result(NB_LOAD_WARNING)\n    }\n\n  }\n\n  if (root._bokeh_is_loading === 0) {\n    console.debug(\"Bokeh: BokehJS loaded, going straight to plotting\");\n    run_inline_js();\n  } else {\n    load_libs(css_urls, js_urls, function() {\n      console.debug(\"Bokeh: BokehJS plotting callback run at\", now());\n      run_inline_js();\n    });\n  }\n}(window));"
     },
     "metadata": {},
     "output_type": "display_data"
    }
   ],
   "source": [
    "# Colab setup\n",
    "import os, sys, subprocess\n",
    "if \"google.colab\" in sys.modules:\n",
    "    cmd = \"pip install --upgrade biocircuits bokeh-catplot watermark blackcellmagic\"\n",
    "    process = subprocess.Popen(cmd.split(), stdout=subprocess.PIPE, stderr=subprocess.PIPE)\n",
    "    stdout, stderr = process.communicate()\n",
    "  \n",
    "    from google.colab import drive\n",
    "    drive.mount('/content/drive')\n",
    "    dir = \"/content/drive/My Drive/Research/2022/RecombinaseOscillator/ActivatorRecombinase/\"\n",
    "else:\n",
    "    dir = \"/Users/christian/My Drive/Research/2022/RecombinaseOscillator/ActivatorRecombinase/\"\n",
    "\n",
    "# ------\n",
    "\n",
    "# This check the number of processors in the computer\n",
    "#% cat /proc/cpuinfo | grep processor | wc -l\n",
    "\n",
    "# % pip install biocircuits bokeh-catplot watermark blackcellmagic\n",
    "import multiprocessing\n",
    "import tqdm\n",
    "\n",
    "import numpy as np\n",
    "import scipy.stats as st\n",
    "import numba\n",
    "import math\n",
    "\n",
    "from scipy.signal import argrelextrema\n",
    "import scipy.fftpack\n",
    "import os.path\n",
    "\n",
    "import biocircuits\n",
    "\n",
    "# Plotting modules\n",
    "import bokeh.io\n",
    "import bokeh.plotting\n",
    "from bokeh.models import LinearColorMapper, ColorBar\n",
    "from bokeh.io import export_svgs\n",
    "\n",
    "bokeh.io.output_notebook()"
   ]
  },
  {
   "cell_type": "markdown",
   "metadata": {
    "id": "O527M44PI_s9"
   },
   "source": [
    "We start by writing a function to create two matrices of differense size by placing them in a diagonal [A, 0 ; 0, B]"
   ]
  },
  {
   "cell_type": "code",
   "execution_count": 5,
   "metadata": {
    "executionInfo": {
     "elapsed": 11,
     "status": "ok",
     "timestamp": 1652483235473,
     "user": {
      "displayName": "Christian Cuba",
      "userId": "05812622177105967845"
     },
     "user_tz": 240
    },
    "id": "mBdSOG9ZswrO"
   },
   "outputs": [],
   "source": [
    "def JoinMatrices(A,B):\n",
    "    n1, m1 = A.shape\n",
    "    n2, m2 = B.shape\n",
    "    ZA = np.zeros((n1,m2))\n",
    "    ZB = np.zeros((n2,m1))\n",
    "    tmp1 = np.hstack((A,ZA))\n",
    "    tmp2 = np.hstack((ZB,B)) \n",
    "    return np.vstack((tmp1,tmp2))"
   ]
  },
  {
   "cell_type": "markdown",
   "metadata": {
    "id": "bBvjg0gmI_s-"
   },
   "source": [
    "Next, we write down the stoichiometry matrices for all the reactions. We beging with the stoichiometry matrix for a single switch $S_1$, and then use the function \"Join Matrixes\" to create the stoichiometry matrix for two switches $S_2$. $S_2$ represent the promoter pointing to the right and the left. Therefore, we also add the transition between these two states (the last part of the code)."
   ]
  },
  {
   "cell_type": "code",
   "execution_count": 6,
   "metadata": {
    "executionInfo": {
     "elapsed": 291,
     "status": "ok",
     "timestamp": 1652483236310,
     "user": {
      "displayName": "Christian Cuba",
      "userId": "05812622177105967845"
     },
     "user_tz": 240
    },
    "id": "lZiIkHTMuCdq"
   },
   "outputs": [],
   "source": [
    "# Stoichiometry  matrix of a single switch\n",
    "# R00, R10, R01, R11\n",
    "S1 = np.array(\n",
    "    [\n",
    "     [-1, 1, 0, 0],  # R00 -> R10\n",
    "     [ 1, -1, 0, 0], # R10 -> R00 \n",
    "     [ 0, -1, 0, 1], # R10 -> R11\n",
    "     [ 0, 1, 0, -1], # R11 -> R10\n",
    "\n",
    "     [-1, 0, 1, 0],  # R00 -> R01\n",
    "     [ 1, 0, -1, 0], # R01 -> R00 \n",
    "     [ 0, 0, -1, 1], # R01 -> R11\n",
    "     [ 0, 0, 1, -1], # R11 -> R01 \n",
    "\n",
    "     [ 0, 0,  0, -1], # R11 -> L00\n",
    "    ],\n",
    "    dtype=int,\n",
    ")\n",
    "# Stoichiometry  matrix of two switches\n",
    "S2 = JoinMatrices(S1,S1)\n",
    "S2[8,4] = 1\n",
    "S2[17,0] = 1\n",
    "#print(S2)"
   ]
  },
  {
   "cell_type": "markdown",
   "metadata": {
    "id": "Frfz4orAI_s_"
   },
   "source": [
    "Now, we describe the stoichiometry matrix $S_3$. it describe the trsnscription of mRNA recombinase, translation of recombianse, and the decays of mRNA and protein. It also incorporates the heterodimer formation between both recombinases $S_4$. In addition, it updates the number of recombinases require for each flip. Finally, we define the transcription, translation, and decays of mRNA and protein of activators $S_5$. Combining all of them results in the stoichiometry matrix of the whole system."
   ]
  },
  {
   "cell_type": "code",
   "execution_count": 7,
   "metadata": {
    "colab": {
     "base_uri": "https://localhost:8080/"
    },
    "executionInfo": {
     "elapsed": 149,
     "status": "ok",
     "timestamp": 1652483239584,
     "user": {
      "displayName": "Christian Cuba",
      "userId": "05812622177105967845"
     },
     "user_tz": 240
    },
    "id": "e_Siugd85ioK",
    "outputId": "dd2a4885-b687-423b-b2bc-f4b66a10cb80"
   },
   "outputs": [
    {
     "name": "stdout",
     "output_type": "stream",
     "text": [
      "(35, 15)\n",
      "(47, 23)\n"
     ]
    }
   ],
   "source": [
    "# Stoichiometry  matrix of transcription and translation\n",
    "# m1, x1, y1, m2, x2, y2, c\n",
    "S3 = np.array(\n",
    "    [\n",
    "     [ 1, 0, 0, 0, 0, 0, 0], # m1 production (TX)\n",
    "     [-1, 0, 0, 0, 0, 0, 0], # m1 decay\n",
    "     [ 0, 1, 0, 0, 0, 0, 0], # x1 production (TL)\n",
    "     [ 0,-1, 0, 0, 0, 0, 0], # x1 decay\n",
    "     [ 0,-2, 1, 0, 0, 0, 0], # y1 production (dimerization)\n",
    "     [ 0, 2,-1, 0, 0, 0, 0], # y1 dissociation\n",
    "     [ 0, 0,-1, 0, 0, 0, 0], # y1 decay\n",
    "\n",
    "     [ 0, 0, 0, 1, 0, 0, 0], # m2 production (TX)\n",
    "     [ 0, 0, 0,-1, 0, 0, 0], # m2 decay\n",
    "     [ 0, 0, 0, 0, 1, 0, 0], # x2 production (TL)\n",
    "     [ 0, 0, 0, 0,-1, 0, 0], # x2 decay\n",
    "     [ 0, 0, 0, 0,-2, 1, 0], # y2 production (dimerization)\n",
    "     [ 0, 0, 0, 0, 2,-1, 0], # y2 dissociation\n",
    "     [ 0, 0, 0, 0, 0,-1, 0], # y2 decay\n",
    "\n",
    "     [ 0,-1, 0, 0,-1, 0, 1], # c production (heterodimer formation)\n",
    "     [ 0, 1, 0, 0, 1, 0,-1], # c heterodimer dissociation\n",
    "     [ 0, 0, 0, 0, 0, 0,-1], # c decay\n",
    "    ],\n",
    "    dtype=int,\n",
    ")\n",
    "# Stoichiometry  matrix of two switches\n",
    "S4 = JoinMatrices(S2,S3)\n",
    "# Updating the consumption of recombinase in the switches\n",
    "S0 = np.array(\n",
    "    [\n",
    "     [-1, 1, -1, 1,-1, 1, -1, 1, 2],  # R00 -> R10\n",
    "    ],\n",
    "    dtype=int,\n",
    ")\n",
    "S4[0:9,10] = S0\n",
    "S4[9:18,13] = S0\n",
    "\n",
    "S5 = np.array(\n",
    "    [\n",
    "     [ 1, 0, 0, 0], # mRNA production Repressor (TX)\n",
    "     [-1, 0, 0, 0], # mRNA decay\n",
    "        \n",
    "     [ 0, 1, 0, 0], # Repressor production (TL)\n",
    "     [ 0,-1, 0, 0], # Protein decay\n",
    "        \n",
    "     [ 0,-1,-1, 1], # Protein and promoter binding\n",
    "     [ 0, 1, 1,-1], # Protein and promoter binding\n",
    " \n",
    "    ],\n",
    "    dtype=int,\n",
    ")\n",
    "\n",
    "simple_update = JoinMatrices(S4,JoinMatrices(S5,S5))\n",
    "\n",
    "#print(simple_update)\n",
    "print(S4.shape)\n",
    "print(simple_update.shape)"
   ]
  },
  {
   "cell_type": "markdown",
   "metadata": {
    "id": "4YFN4csRI_tB"
   },
   "source": [
    "In this part of the code, we write down the propensity of all reactions. In addition, we convert the rates from concentration to molecules throught the parameter Omega. "
   ]
  },
  {
   "cell_type": "code",
   "execution_count": 8,
   "metadata": {
    "executionInfo": {
     "elapsed": 198,
     "status": "ok",
     "timestamp": 1652483243033,
     "user": {
      "displayName": "Christian Cuba",
      "userId": "05812622177105967845"
     },
     "user_tz": 240
    },
    "id": "q1mIj035Nts5"
   },
   "outputs": [],
   "source": [
    "def simple_propensity(propensities, x, t, th, rh, ph, d, g, gd, a0, d0, r, b, rh2, aR, dR, Omega, n):\n",
    "    #x, y, c = population\n",
    "    # Switch 1 (Promoter pointing to the right R)\n",
    "    propensities[0] = a0 * x[0] * x[10]  / Omega # R00 -> R10\n",
    "    propensities[1] = d0 * x[1] # R10 -> R00\n",
    "    propensities[2] = a0 * x[1] * x[10]  / Omega # R10 -> R11\n",
    "    propensities[3] = d0 * x[3] # R11 -> R10\n",
    "    propensities[4] = a0 * x[0] * x[10]  / Omega # R00 -> R01\n",
    "    propensities[5] = d0 * x[2] # R01 -> R00\n",
    "    propensities[6] = a0 * x[2] * x[10]  / Omega # R01 -> R11\n",
    "    propensities[7] = d0 * x[3] # R11 -> R01\n",
    "    propensities[8] = r * x[3] # R11 -> L00\n",
    "\n",
    "    # Switch 2 (Promoter pointing to the left L)\n",
    "    propensities[ 9] = a0 * x[4] * x[13]  / Omega # L00 -> L10\n",
    "    propensities[10] = d0 * x[5] # L10 -> L00\n",
    "    propensities[11] = a0 * x[5] * x[13]  / Omega # R10 -> R11\n",
    "    propensities[12] = d0 * x[7] # R11 -> R10\n",
    "    propensities[13] = a0 * x[4] * x[13]  / Omega # R00 -> R01\n",
    "    propensities[14] = d0 * x[6] # R01 -> R00\n",
    "    propensities[15] = a0 * x[6] * x[13]  / Omega # R01 -> R11\n",
    "    propensities[16] = d0 * x[7] # R11 -> R01\n",
    "    propensities[17] = r * x[7] # R11 -> L00\n",
    "\n",
    "    # TX-TL of recombinase 1\n",
    "    propensities[18] = th * x[18] # R00 -> R00 + M1\n",
    "    propensities[19] = ph * x[8] # M1 -> 0\n",
    "    propensities[20] = rh * x[8] # M1 -> M1 + X1\n",
    "    propensities[21] = d * x[9] # X1 -> 0\n",
    "    propensities[22] = g * x[9] * (x[9]-1)  / 2 / Omega # X1 + X1 -> Y1\n",
    "    propensities[23] = gd * x[10] # Y1 -> X1 + X1\n",
    "    propensities[24] = d * x[10] # Y1 -> 0\n",
    "\n",
    "    # TX-TL of recombinase 2\n",
    "    propensities[25] = th * x[22] # L00 -> L00 + M2\n",
    "    propensities[26] = ph * x[11] # M2 -> 0\n",
    "    propensities[27] = rh * x[11] # M2 -> M2 + X2\n",
    "    propensities[28] = d * x[12] # X2 -> 0\n",
    "    propensities[29] = g * x[12] * (x[12]-1)  / 2 / Omega # X2 + X2 -> Y2\n",
    "    propensities[30] = gd * x[13] # Y2 -> X2 + X2\n",
    "    propensities[31] = d * x[13] # Y2 -> 0\n",
    "\n",
    "    # Heterodimmer reaction\n",
    "    propensities[32] = g * x[9] * x[12] / Omega # L00 -> L00 + M2\n",
    "    propensities[33] = gd * x[14] # M2 -> 0\n",
    "    propensities[34] = d * x[14] # M2 -> M2 + X2 \n",
    "    \n",
    "    # Repressor 1\n",
    "    propensities[35] = b * x[0] # mRNA Y1 repressor 1 (TX)\n",
    "    propensities[36] = ph * x[15] # mRNA Y1 -> 0\n",
    "    propensities[37] = rh2 * x[15] # mRNA -> mRNA + Y1 (TL) \n",
    "    propensities[38] = d * x[16] # Y1 decay \n",
    "    propensities[39] = aR * x[16] * x[17] / Omega # Y1 + Promoter -> Complrc\n",
    "    propensities[40] = dR * x[18] # Unbindg from complex -> Y1 + Promoter \n",
    "\n",
    "    # Repressor 2\n",
    "    propensities[41] = b * x[4] # mRNA Y2 repressor 2 (TX)\n",
    "    propensities[42] = ph * x[19] # mRNA -> 0\n",
    "    propensities[43] = rh2 * x[19] # mRNA -> mRNA + Y2 (TL) \n",
    "    propensities[44] = d * x[20] # Y2 decay \n",
    "    propensities[45] = aR * x[20] * x[21] / Omega # Y2 + Promoter -> Complrc\n",
    "    propensities[46] = dR * x[22] # Unbindg from complex -> Y1 + Promoter "
   ]
  },
  {
   "cell_type": "markdown",
   "metadata": {
    "id": "jA-q9Y6LI_tC"
   },
   "source": [
    "Now, we are ready to realize the stochastic simulations of the whole system."
   ]
  },
  {
   "cell_type": "code",
   "execution_count": 12,
   "metadata": {
    "colab": {
     "base_uri": "https://localhost:8080/",
     "height": 217
    },
    "executionInfo": {
     "elapsed": 6517,
     "status": "ok",
     "timestamp": 1652483252305,
     "user": {
      "displayName": "Christian Cuba",
      "userId": "05812622177105967845"
     },
     "user_tz": 240
    },
    "id": "WPPDzJe6SOOL",
    "outputId": "7161f4e0-7df7-4cb9-dd5d-9d1bf93234c7"
   },
   "outputs": [
    {
     "data": {
      "text/html": [
       "\n",
       "\n",
       "\n",
       "\n",
       "\n",
       "\n",
       "  <div class=\"bk-root\" id=\"6b559ba6-b1fa-423c-b100-d672bc08b5b8\" data-root-id=\"4314\"></div>\n"
      ]
     },
     "metadata": {},
     "output_type": "display_data"
    },
    {
     "data": {
      "application/javascript": [
       "(function(root) {\n",
       "  function embed_document(root) {\n",
       "    \n",
       "  const docs_json = {\"2c419fa2-72da-4eaf-be0a-a9c6a7898f47\":{\"defs\":[],\"roots\":{\"references\":[{\"attributes\":{\"children\":[{\"id\":\"4271\"}]},\"id\":\"4314\",\"type\":\"Row\"},{\"attributes\":{\"axis\":{\"id\":\"4284\"},\"coordinates\":null,\"dimension\":1,\"group\":null,\"ticker\":null},\"id\":\"4287\",\"type\":\"Grid\"},{\"attributes\":{\"line_color\":\"grey\",\"line_width\":2,\"x\":{\"field\":\"x\"},\"y\":{\"field\":\"y\"}},\"id\":\"4303\",\"type\":\"Step\"},{\"attributes\":{},\"id\":\"4292\",\"type\":\"ResetTool\"},{\"attributes\":{\"data\":{\"x\":{\"__ndarray__\":\"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\",\"dtype\":\"float64\",\"order\":\"little\",\"shape\":[401]},\"y\":[0,0,0,0,0,0,0,0,2,10,18,22,24,26,24,26,27,30,28,27,26,31,28,39,51,59,59,51,43,37,36,34,39,39,39,41,41,40,38,39,57,67,68,66,76,70,82,79,82,75,66,56,52,51,48,43,31,23,20,19,19,17,14,12,10,7,7,8,5,4,14,13,16,17,19,17,28,34,37,42,44,40,38,39,40,38,41,35,35,36,36,29,38,38,45,59,63,67,70,61,54,46,36,30,23,16,16,16,15,11,9,4,4,4,4,4,3,2,2,2,2,2,2,2,2,2,1,2,2,4,7,10,15,18,16,23,24,17,15,13,13,15,15,13,14,19,18,16,23,25,37,39,40,46,38,39,37,34,33,29,30,25,28,34,41,41,37,38,33,28,32,26,26,24,24,26,23,23,18,15,13,16,16,21,15,15,14,14,13,11,11,8,6,9,13,9,12,14,16,13,18,30,39,44,51,48,59,52,54,45,44,37,33,45,58,71,74,72,60,54,47,44,33,35,33,34,31,23,16,14,10,7,6,6,4,3,3,1,1,1,7,7,8,7,5,4,5,10,17,22,23,27,27,27,30,29,25,22,21,29,29,33,38,49,51,61,64,62,75,78,75,67,70,75,68,75,72,81,85,79,82,84,88,88,80,71,68,61,50,40,36,37,41,43,46,40,34,33,27,24,23,16,12,11,9,9,7,5,4,5,5,6,12,16,20,21,20,26,22,25,28,29,27,36,46,61,75,80,89,93,87,80,64,56,56,52,44,39,36,33,32,24,17,18,20,17,16,15,23,35,42,43,43,51,55,52,44,42,36,25,22,22,20,16,15,13,11,10,8,8,6,6,5,5,8,12,23,33,39,53,55,59,67,71,60,60,56,53,47,46,46,45,51,62,63,78,75,77,76,72,77]},\"selected\":{\"id\":\"4458\"},\"selection_policy\":{\"id\":\"4457\"}},\"id\":\"4302\",\"type\":\"ColumnDataSource\"},{\"attributes\":{\"line_alpha\":0.1,\"line_color\":\"grey\",\"line_width\":2,\"x\":{\"field\":\"x\"},\"y\":{\"field\":\"y\"}},\"id\":\"4304\",\"type\":\"Step\"},{\"attributes\":{\"source\":{\"id\":\"4308\"}},\"id\":\"4313\",\"type\":\"CDSView\"},{\"attributes\":{\"line_alpha\":0.2,\"line_color\":\"grey\",\"line_width\":2,\"x\":{\"field\":\"x\"},\"y\":{\"field\":\"y\"}},\"id\":\"4305\",\"type\":\"Step\"},{\"attributes\":{},\"id\":\"4455\",\"type\":\"BasicTickFormatter\"},{\"attributes\":{},\"id\":\"4288\",\"type\":\"PanTool\"},{\"attributes\":{\"coordinates\":null,\"data_source\":{\"id\":\"4308\"},\"glyph\":{\"id\":\"4309\"},\"group\":null,\"hover_glyph\":null,\"muted_glyph\":{\"id\":\"4311\"},\"nonselection_glyph\":{\"id\":\"4310\"},\"view\":{\"id\":\"4313\"}},\"id\":\"4312\",\"type\":\"GlyphRenderer\"},{\"attributes\":{\"below\":[{\"id\":\"4280\"}],\"center\":[{\"id\":\"4283\"},{\"id\":\"4287\"}],\"height\":200,\"left\":[{\"id\":\"4284\"}],\"renderers\":[{\"id\":\"4306\"},{\"id\":\"4312\"}],\"title\":{\"id\":\"4449\"},\"toolbar\":{\"id\":\"4295\"},\"x_range\":{\"id\":\"4272\"},\"x_scale\":{\"id\":\"4276\"},\"y_range\":{\"id\":\"4274\"},\"y_scale\":{\"id\":\"4278\"}},\"id\":\"4271\",\"subtype\":\"Figure\",\"type\":\"Plot\"},{\"attributes\":{\"coordinates\":null,\"formatter\":{\"id\":\"4452\"},\"group\":null,\"major_label_policy\":{\"id\":\"4453\"},\"major_label_text_font_size\":\"10pt\",\"ticker\":{\"id\":\"4285\"}},\"id\":\"4284\",\"type\":\"LinearAxis\"},{\"attributes\":{\"tools\":[{\"id\":\"4288\"},{\"id\":\"4289\"},{\"id\":\"4290\"},{\"id\":\"4291\"},{\"id\":\"4292\"},{\"id\":\"4293\"}]},\"id\":\"4295\",\"type\":\"Toolbar\"},{\"attributes\":{},\"id\":\"4293\",\"type\":\"HelpTool\"},{\"attributes\":{},\"id\":\"4289\",\"type\":\"WheelZoomTool\"},{\"attributes\":{},\"id\":\"4457\",\"type\":\"UnionRenderers\"},{\"attributes\":{\"axis\":{\"id\":\"4280\"},\"coordinates\":null,\"group\":null,\"ticker\":null},\"id\":\"4283\",\"type\":\"Grid\"},{\"attributes\":{\"coordinates\":null,\"data_source\":{\"id\":\"4302\"},\"glyph\":{\"id\":\"4303\"},\"group\":null,\"hover_glyph\":null,\"muted_glyph\":{\"id\":\"4305\"},\"nonselection_glyph\":{\"id\":\"4304\"},\"view\":{\"id\":\"4307\"}},\"id\":\"4306\",\"type\":\"GlyphRenderer\"},{\"attributes\":{\"coordinates\":null,\"formatter\":{\"id\":\"4455\"},\"group\":null,\"major_label_policy\":{\"id\":\"4456\"},\"major_label_text_font_size\":\"10pt\",\"ticker\":{\"id\":\"4281\"}},\"id\":\"4280\",\"type\":\"LinearAxis\"},{\"attributes\":{},\"id\":\"4453\",\"type\":\"AllLabels\"},{\"attributes\":{\"source\":{\"id\":\"4302\"}},\"id\":\"4307\",\"type\":\"CDSView\"},{\"attributes\":{},\"id\":\"4459\",\"type\":\"UnionRenderers\"},{\"attributes\":{\"data\":{\"x\":{\"__ndarray__\":\"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\",\"dtype\":\"float64\",\"order\":\"little\",\"shape\":[401]},\"y\":[0,0,0,0,0,0,0,0,0,0,0,0,0,0,0,0,0,0,0,0,0,0,0,0,0,0,0,0,0,0,0,0,0,0,0,0,0,0,0,0,0,0,0,0,1,1,5,7,12,26,29,35,35,34,28,26,35,44,55,62,63,60,73,75,83,78,70,72,68,56,52,49,40,37,30,28,23,20,18,16,12,11,10,7,6,4,3,3,3,3,3,2,2,1,1,1,1,1,1,1,6,14,19,30,35,37,37,36,39,39,39,43,41,48,51,61,67,67,74,80,79,74,72,67,70,68,67,62,56,46,40,37,43,36,31,28,23,24,28,29,27,32,39,33,33,29,23,16,14,10,10,9,2,2,1,1,4,7,14,12,25,30,38,45,49,46,45,45,50,48,47,50,51,52,51,44,44,40,33,59,87,112,100,86,70,60,53,51,49,42,45,47,58,62,72,72,73,62,51,45,33,28,24,21,16,15,14,9,6,6,6,6,6,5,2,2,1,1,1,3,5,7,11,12,13,21,22,25,26,41,46,51,48,55,66,77,92,91,89,105,103,103,104,111,105,98,99,92,87,77,69,58,53,55,44,36,30,21,16,11,9,9,13,18,17,19,23,28,26,20,16,13,16,15,15,13,13,10,7,6,8,9,7,5,5,6,5,2,7,18,20,22,13,17,19,26,25,24,26,25,24,26,24,33,31,32,32,32,32,25,29,28,25,22,23,21,19,17,13,17,20,21,27,27,24,22,18,18,14,10,6,7,5,5,3,5,19,31,36,41,47,48,49,57,70,63,60,70,63,62,60,59,51,53,47,45,44,47,48,46,40,37,35,39,37,38,34,41,30,31,26,22,20,20,15,13,9,8,7,6,4,4,3,3,3,1,1,1,1,1,1,1,1,1,1,1,0,0,0,0,0]},\"selected\":{\"id\":\"4460\"},\"selection_policy\":{\"id\":\"4459\"}},\"id\":\"4308\",\"type\":\"ColumnDataSource\"},{\"attributes\":{},\"id\":\"4272\",\"type\":\"DataRange1d\"},{\"attributes\":{},\"id\":\"4460\",\"type\":\"Selection\"},{\"attributes\":{\"overlay\":{\"id\":\"4294\"}},\"id\":\"4290\",\"type\":\"BoxZoomTool\"},{\"attributes\":{},\"id\":\"4456\",\"type\":\"AllLabels\"},{\"attributes\":{\"line_color\":\"orange\",\"line_width\":2,\"x\":{\"field\":\"x\"},\"y\":{\"field\":\"y\"}},\"id\":\"4309\",\"type\":\"Step\"},{\"attributes\":{\"bottom_units\":\"screen\",\"coordinates\":null,\"fill_alpha\":0.5,\"fill_color\":\"lightgrey\",\"group\":null,\"left_units\":\"screen\",\"level\":\"overlay\",\"line_alpha\":1.0,\"line_color\":\"black\",\"line_dash\":[4,4],\"line_width\":2,\"right_units\":\"screen\",\"syncable\":false,\"top_units\":\"screen\"},\"id\":\"4294\",\"type\":\"BoxAnnotation\"},{\"attributes\":{},\"id\":\"4458\",\"type\":\"Selection\"},{\"attributes\":{\"line_alpha\":0.1,\"line_color\":\"orange\",\"line_width\":2,\"x\":{\"field\":\"x\"},\"y\":{\"field\":\"y\"}},\"id\":\"4310\",\"type\":\"Step\"},{\"attributes\":{},\"id\":\"4285\",\"type\":\"BasicTicker\"},{\"attributes\":{},\"id\":\"4291\",\"type\":\"SaveTool\"},{\"attributes\":{},\"id\":\"4452\",\"type\":\"BasicTickFormatter\"},{\"attributes\":{\"coordinates\":null,\"group\":null},\"id\":\"4449\",\"type\":\"Title\"},{\"attributes\":{},\"id\":\"4274\",\"type\":\"DataRange1d\"},{\"attributes\":{},\"id\":\"4276\",\"type\":\"LinearScale\"},{\"attributes\":{\"line_alpha\":0.2,\"line_color\":\"orange\",\"line_width\":2,\"x\":{\"field\":\"x\"},\"y\":{\"field\":\"y\"}},\"id\":\"4311\",\"type\":\"Step\"},{\"attributes\":{},\"id\":\"4281\",\"type\":\"BasicTicker\"},{\"attributes\":{},\"id\":\"4278\",\"type\":\"LinearScale\"}],\"root_ids\":[\"4314\"]},\"title\":\"Bokeh Application\",\"version\":\"2.4.1\"}};\n",
       "  const render_items = [{\"docid\":\"2c419fa2-72da-4eaf-be0a-a9c6a7898f47\",\"root_ids\":[\"4314\"],\"roots\":{\"4314\":\"6b559ba6-b1fa-423c-b100-d672bc08b5b8\"}}];\n",
       "  root.Bokeh.embed.embed_items_notebook(docs_json, render_items);\n",
       "\n",
       "  }\n",
       "  if (root.Bokeh !== undefined) {\n",
       "    embed_document(root);\n",
       "  } else {\n",
       "    let attempts = 0;\n",
       "    const timer = setInterval(function(root) {\n",
       "      if (root.Bokeh !== undefined) {\n",
       "        clearInterval(timer);\n",
       "        embed_document(root);\n",
       "      } else {\n",
       "        attempts++;\n",
       "        if (attempts > 100) {\n",
       "          clearInterval(timer);\n",
       "          console.log(\"Bokeh: ERROR: Unable to run BokehJS code because BokehJS library is missing\");\n",
       "        }\n",
       "      }\n",
       "    }, 10, root)\n",
       "  }\n",
       "})(window);"
      ],
      "application/vnd.bokehjs_exec.v0+json": ""
     },
     "metadata": {
      "application/vnd.bokehjs_exec.v0+json": {
       "id": "4314"
      }
     },
     "output_type": "display_data"
    }
   ],
   "source": [
    "# Specify parameters for calculation\n",
    "n = 1 # copy number of promoter\n",
    "th = 0.3*60/n # 1/h\n",
    "rh = 80 # 1/h\n",
    "ph = 0.6931/10*60 # 1/h log(2)=0.6931\n",
    "d = 0.6931/30*60 # 1/h log(2)=0.6931\n",
    "g = 2.1*36 # 1/uM/h \n",
    "gd = g*0.01 # 1/h\n",
    "r = 5 # 1/h Switching rate\n",
    "a0 = 2.1*36\n",
    "d0 = 0.1*a0\n",
    "\n",
    "b = 0.3*60/n\n",
    "rh2 = 80\n",
    "aR = 2.1*36\n",
    "dR = 0.05*aR\n",
    "\n",
    "Omega = 600 # 600\n",
    "state = (10,13) # 10/13(R1/R2) Y1/Y2 (16/20) C1/C2 (17/21)\n",
    "\n",
    "args = (th, rh, ph, d, g, gd, a0, d0, r, b, rh2, aR, dR, Omega, n)\n",
    "time_points = np.linspace(0, 40, 401)\n",
    "population_0 = np.zeros(23, dtype=int)\n",
    "population_0[0] = n\n",
    "population_0[17] = n\n",
    "population_0[21] = n\n",
    "\n",
    "samples = biocircuits.gillespie_ssa(simple_propensity, simple_update, population_0,time_points, size=1, args=args, n_threads=1,progress_bar=False)\n",
    "\n",
    "# Set up plots\n",
    "fig_size = [600, 200] # for paper size (144, 110) # for larger size (144,144)\n",
    "x_range = (0, time_points[-1])\n",
    "y_range = (0, 400)\n",
    "\n",
    "plots = []\n",
    "for i in range(1):\n",
    "    plots.append(bokeh.plotting.figure(plot_width=fig_size[0], plot_height=fig_size[1],\n",
    "                          #x_range=x_range, y_range=y_range\n",
    "                          ),)\n",
    "    plots[i].axis.major_label_text_font_size = \"10pt\"\n",
    "\n",
    "\n",
    "# Plot trajectories of recombinase 1 and 2\n",
    "y1 = samples[0,:,state[0]] # samples[:,:,10][0]\n",
    "plots[0].step(time_points, y1, line_width=2, alpha= 1, line_join=\"bevel\",color=\"grey\")\n",
    "\n",
    "y2 = samples[0,:,state[1]]\n",
    "plots[0].step(time_points, y2, line_width=2, alpha= 1, line_join=\"bevel\",color=\"orange\")\n",
    "# Link axes\n",
    "\n",
    "bokeh.io.show(bokeh.layouts.row(plots))"
   ]
  },
  {
   "cell_type": "code",
   "execution_count": 13,
   "metadata": {},
   "outputs": [
    {
     "data": {
      "text/html": [
       "\n",
       "\n",
       "\n",
       "\n",
       "\n",
       "\n",
       "  <div class=\"bk-root\" id=\"4c688174-bb05-4494-b6a3-1fabdc5ec5e3\" data-root-id=\"4576\"></div>\n"
      ]
     },
     "metadata": {},
     "output_type": "display_data"
    },
    {
     "data": {
      "application/javascript": [
       "(function(root) {\n",
       "  function embed_document(root) {\n",
       "    \n",
       "  const docs_json = {\"2bb8ab7d-6767-464d-bd2a-0b0f82e59aeb\":{\"defs\":[],\"roots\":{\"references\":[{\"attributes\":{\"children\":[{\"id\":\"4527\"}]},\"id\":\"4576\",\"type\":\"Row\"},{\"attributes\":{\"axis\":{\"id\":\"4536\"},\"coordinates\":null,\"group\":null,\"ticker\":null},\"id\":\"4539\",\"type\":\"Grid\"},{\"attributes\":{},\"id\":\"4733\",\"type\":\"Selection\"},{\"attributes\":{\"end\":40},\"id\":\"4528\",\"type\":\"Range1d\"},{\"attributes\":{\"coordinates\":null,\"group\":null},\"id\":\"4724\",\"type\":\"Title\"},{\"attributes\":{},\"id\":\"4736\",\"type\":\"UnionRenderers\"},{\"attributes\":{\"fill_alpha\":0.1,\"fill_color\":\"#e8f4fa\",\"hatch_alpha\":{\"value\":0.1},\"x\":{\"field\":\"x\"},\"y1\":{\"field\":\"y1\"},\"y2\":{\"field\":\"y2\"}},\"id\":\"4560\",\"type\":\"VArea\"},{\"attributes\":{\"data\":{\"x\":{\"__ndarray__\":\"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\",\"dtype\":\"float64\",\"order\":\"little\",\"shape\":[401]},\"y\":[0,0,0,0,0,0,0,0,0,0,0,0,0,0,0,0,0,0,0,0,0,0,0,0,0,0,0,0,0,0,0,0,0,0,0,0,0,0,0,0,0,0,0,0,1,1,5,7,12,26,29,35,35,34,28,26,35,44,55,62,63,60,73,75,83,78,70,72,68,56,52,49,40,37,30,28,23,20,18,16,12,11,10,7,6,4,3,3,3,3,3,2,2,1,1,1,1,1,1,1,6,14,19,30,35,37,37,36,39,39,39,43,41,48,51,61,67,67,74,80,79,74,72,67,70,68,67,62,56,46,40,37,43,36,31,28,23,24,28,29,27,32,39,33,33,29,23,16,14,10,10,9,2,2,1,1,4,7,14,12,25,30,38,45,49,46,45,45,50,48,47,50,51,52,51,44,44,40,33,59,87,112,100,86,70,60,53,51,49,42,45,47,58,62,72,72,73,62,51,45,33,28,24,21,16,15,14,9,6,6,6,6,6,5,2,2,1,1,1,3,5,7,11,12,13,21,22,25,26,41,46,51,48,55,66,77,92,91,89,105,103,103,104,111,105,98,99,92,87,77,69,58,53,55,44,36,30,21,16,11,9,9,13,18,17,19,23,28,26,20,16,13,16,15,15,13,13,10,7,6,8,9,7,5,5,6,5,2,7,18,20,22,13,17,19,26,25,24,26,25,24,26,24,33,31,32,32,32,32,25,29,28,25,22,23,21,19,17,13,17,20,21,27,27,24,22,18,18,14,10,6,7,5,5,3,5,19,31,36,41,47,48,49,57,70,63,60,70,63,62,60,59,51,53,47,45,44,47,48,46,40,37,35,39,37,38,34,41,30,31,26,22,20,20,15,13,9,8,7,6,4,4,3,3,3,1,1,1,1,1,1,1,1,1,1,1,0,0,0,0,0]},\"selected\":{\"id\":\"4737\"},\"selection_policy\":{\"id\":\"4736\"}},\"id\":\"4570\",\"type\":\"ColumnDataSource\"},{\"attributes\":{\"data\":{\"x\":{\"__ndarray__\":\"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\",\"dtype\":\"float64\",\"order\":\"little\",\"shape\":[401]},\"y1\":[0,0,0,0,0,0,0,0,0,0,0,0,0,0,0,0,0,0,0,0,0,0,0,0,0,0,0,0,0,0,0,0,0,0,0,0,0,0,0,0,0,0,0,0,0,0,0,0,0,0,0,0,0,0,0,0,0,0,0,0,0,0,0,0,0,0,0,0,0,0,0,0,0,0,0,0,0,0,0,0,0,0,0,0,0,0,0,0,0,0,0,0,0,0,0,0,0,0,0,0,0,0,0,0,0,0,0,0,0,0,0,0,0,0,0,0,0,0,0,0,0,0,0,0,0,0,0,0,0,0,0,0,0,0,0,0,0,0,0,0,0,0,0,0,0,0,0,0,0,0,0,0,0,0,0,0,0,0,0,0,0,0,0,0,0,0,0,0,0,0,0,0,0,0,0,0,0,0,0,0,0,0,0,0,0,0,0,0,0,0,0,0,0,0,0,0,0,0,0,0,0,0,0,0,0,0,0,0,0,0,0,0,0,0,0,0,0,0,0,0,0,0,0,0,0,0,0,0,0,0,0,0,0,0,0,0,0,0,0,0,0,0,0,0,0,0,0,0,0,0,0,0,0,0,0,0,0,0,0,0,0,0,0,0,0,0,0,0,0,0,0,0,0,0,0,0,0,0,0,0,0,0,0,0,0,0,0,0,0,0,0,0,0,0,0,0,0,0,0,0,0,0,0,0,0,0,0,0,0,0,0,0,0,0,0,0,0,0,0,0,0,0,0,0,0,0,0,0,0,0,0,0,0,0,0,0,0,0,0,0,0,0,0,0,0,0,0,0,0,0,0,0,0,0,0,0,0,0,0,0,0,0,0,0,0,0,0,0,0,0,0,0,0,0,0,0,0,0,0,0,0,0,0,0,0,0,0,0,0,0,0,0,0,0,0,0,0,0,0,0,0],\"y2\":[0,0,0,0,0,0,0,0,0,0,0,0,0,0,0,0,0,0,0,0,0,0,0,0,0,0,0,0,0,0,0,0,0,0,0,0,0,0,0,0,120,120,120,120,120,120,120,120,120,120,120,120,120,120,120,120,0,0,0,0,0,0,0,0,0,0,0,0,0,0,0,0,0,0,0,0,0,0,0,0,0,0,0,0,0,0,0,0,0,0,0,0,0,0,120,120,120,120,120,120,120,120,120,120,120,120,120,120,120,120,120,120,120,120,120,120,120,120,120,120,0,0,0,0,0,0,0,0,0,0,0,0,0,0,0,0,0,0,0,0,0,0,0,0,0,0,0,0,120,120,120,120,120,120,120,120,120,120,120,120,120,120,120,120,120,0,0,0,0,0,0,0,120,120,120,120,120,120,0,0,0,0,0,0,0,0,0,0,0,0,0,0,0,0,0,0,0,0,0,0,0,0,0,0,0,0,0,0,0,0,0,120,120,120,120,120,120,120,120,120,120,120,120,120,120,120,120,120,120,120,120,120,120,0,0,0,0,0,0,0,0,0,0,0,0,0,0,0,0,0,0,0,0,0,0,0,0,0,0,0,0,0,0,0,0,0,0,0,120,120,120,120,0,0,0,0,0,0,0,0,0,0,0,0,120,120,120,120,120,120,120,120,120,120,0,0,0,0,0,0,0,0,0,0,0,0,0,0,0,0,0,0,0,0,0,0,0,0,0,0,0,0,0,120,120,120,120,120,120,120,120,120,120,120,120,120,120,120,0,0,0,0,0,0,0,0,0,0,0,0,0,0,0,120,120,120,120,120,120,0,0,0,0,0,0,0,0,0,0,0,0,0,0,0,0,0,0,0,0,0,0,0,0,0,0,0,0,0,0,0,0,0,0,0,0,0,0,0,0,0,120]},\"selected\":{\"id\":\"4733\"},\"selection_policy\":{\"id\":\"4732\"}},\"id\":\"4558\",\"type\":\"ColumnDataSource\"},{\"attributes\":{\"coordinates\":null,\"formatter\":{\"id\":\"4727\"},\"group\":null,\"major_label_policy\":{\"id\":\"4728\"},\"major_label_text_font_size\":\"10pt\",\"ticker\":{\"id\":\"4541\"}},\"id\":\"4540\",\"type\":\"LinearAxis\"},{\"attributes\":{\"line_alpha\":0.2,\"line_color\":\"#999999\",\"line_width\":2,\"x\":{\"field\":\"x\"},\"y\":{\"field\":\"y\"}},\"id\":\"4567\",\"type\":\"Step\"},{\"attributes\":{},\"id\":\"4737\",\"type\":\"Selection\"},{\"attributes\":{},\"id\":\"4545\",\"type\":\"WheelZoomTool\"},{\"attributes\":{},\"id\":\"4537\",\"type\":\"BasicTicker\"},{\"attributes\":{},\"id\":\"4541\",\"type\":\"BasicTicker\"},{\"attributes\":{\"line_alpha\":0.1,\"line_color\":\"#178ccb\",\"line_width\":2,\"x\":{\"field\":\"x\"},\"y\":{\"field\":\"y\"}},\"id\":\"4572\",\"type\":\"Step\"},{\"attributes\":{},\"id\":\"4549\",\"type\":\"HelpTool\"},{\"attributes\":{\"axis\":{\"id\":\"4540\"},\"coordinates\":null,\"dimension\":1,\"group\":null,\"ticker\":null},\"id\":\"4543\",\"type\":\"Grid\"},{\"attributes\":{},\"id\":\"4734\",\"type\":\"UnionRenderers\"},{\"attributes\":{\"source\":{\"id\":\"4570\"}},\"id\":\"4575\",\"type\":\"CDSView\"},{\"attributes\":{},\"id\":\"4735\",\"type\":\"Selection\"},{\"attributes\":{\"fill_color\":\"#e8f4fa\",\"x\":{\"field\":\"x\"},\"y1\":{\"field\":\"y1\"},\"y2\":{\"field\":\"y2\"}},\"id\":\"4559\",\"type\":\"VArea\"},{\"attributes\":{\"bottom_units\":\"screen\",\"coordinates\":null,\"fill_alpha\":0.5,\"fill_color\":\"lightgrey\",\"group\":null,\"left_units\":\"screen\",\"level\":\"overlay\",\"line_alpha\":1.0,\"line_color\":\"black\",\"line_dash\":[4,4],\"line_width\":2,\"right_units\":\"screen\",\"syncable\":false,\"top_units\":\"screen\"},\"id\":\"4550\",\"type\":\"BoxAnnotation\"},{\"attributes\":{\"overlay\":{\"id\":\"4550\"}},\"id\":\"4546\",\"type\":\"BoxZoomTool\"},{\"attributes\":{},\"id\":\"4727\",\"type\":\"BasicTickFormatter\"},{\"attributes\":{\"line_alpha\":0.1,\"line_color\":\"#999999\",\"line_width\":2,\"x\":{\"field\":\"x\"},\"y\":{\"field\":\"y\"}},\"id\":\"4566\",\"type\":\"Step\"},{\"attributes\":{\"coordinates\":null,\"formatter\":{\"id\":\"4730\"},\"group\":null,\"major_label_policy\":{\"id\":\"4731\"},\"major_label_text_font_size\":\"10pt\",\"ticker\":{\"id\":\"4537\"}},\"id\":\"4536\",\"type\":\"LinearAxis\"},{\"attributes\":{},\"id\":\"4731\",\"type\":\"AllLabels\"},{\"attributes\":{},\"id\":\"4544\",\"type\":\"PanTool\"},{\"attributes\":{},\"id\":\"4532\",\"type\":\"LinearScale\"},{\"attributes\":{},\"id\":\"4548\",\"type\":\"ResetTool\"},{\"attributes\":{\"line_color\":\"#178ccb\",\"line_width\":2,\"x\":{\"field\":\"x\"},\"y\":{\"field\":\"y\"}},\"id\":\"4571\",\"type\":\"Step\"},{\"attributes\":{\"fill_alpha\":0.2,\"fill_color\":\"#e8f4fa\",\"hatch_alpha\":{\"value\":0.2},\"x\":{\"field\":\"x\"},\"y1\":{\"field\":\"y1\"},\"y2\":{\"field\":\"y2\"}},\"id\":\"4561\",\"type\":\"VArea\"},{\"attributes\":{\"coordinates\":null,\"data_source\":{\"id\":\"4570\"},\"glyph\":{\"id\":\"4571\"},\"group\":null,\"hover_glyph\":null,\"muted_glyph\":{\"id\":\"4573\"},\"nonselection_glyph\":{\"id\":\"4572\"},\"view\":{\"id\":\"4575\"}},\"id\":\"4574\",\"type\":\"GlyphRenderer\"},{\"attributes\":{\"coordinates\":null,\"data_source\":{\"id\":\"4558\"},\"glyph\":{\"id\":\"4559\"},\"group\":null,\"hover_glyph\":null,\"muted_glyph\":{\"id\":\"4561\"},\"nonselection_glyph\":{\"id\":\"4560\"},\"view\":{\"id\":\"4563\"}},\"id\":\"4562\",\"type\":\"GlyphRenderer\"},{\"attributes\":{},\"id\":\"4728\",\"type\":\"AllLabels\"},{\"attributes\":{},\"id\":\"4534\",\"type\":\"LinearScale\"},{\"attributes\":{\"tools\":[{\"id\":\"4544\"},{\"id\":\"4545\"},{\"id\":\"4546\"},{\"id\":\"4547\"},{\"id\":\"4548\"},{\"id\":\"4549\"}]},\"id\":\"4551\",\"type\":\"Toolbar\"},{\"attributes\":{\"below\":[{\"id\":\"4536\"}],\"center\":[{\"id\":\"4539\"},{\"id\":\"4543\"}],\"height\":115,\"left\":[{\"id\":\"4540\"}],\"renderers\":[{\"id\":\"4562\"},{\"id\":\"4568\"},{\"id\":\"4574\"}],\"title\":{\"id\":\"4724\"},\"toolbar\":{\"id\":\"4551\"},\"width\":266,\"x_range\":{\"id\":\"4528\"},\"x_scale\":{\"id\":\"4532\"},\"y_range\":{\"id\":\"4530\"},\"y_scale\":{\"id\":\"4534\"}},\"id\":\"4527\",\"subtype\":\"Figure\",\"type\":\"Plot\"},{\"attributes\":{\"source\":{\"id\":\"4564\"}},\"id\":\"4569\",\"type\":\"CDSView\"},{\"attributes\":{\"coordinates\":null,\"data_source\":{\"id\":\"4564\"},\"glyph\":{\"id\":\"4565\"},\"group\":null,\"hover_glyph\":null,\"muted_glyph\":{\"id\":\"4567\"},\"nonselection_glyph\":{\"id\":\"4566\"},\"view\":{\"id\":\"4569\"}},\"id\":\"4568\",\"type\":\"GlyphRenderer\"},{\"attributes\":{},\"id\":\"4730\",\"type\":\"BasicTickFormatter\"},{\"attributes\":{\"line_alpha\":0.2,\"line_color\":\"#178ccb\",\"line_width\":2,\"x\":{\"field\":\"x\"},\"y\":{\"field\":\"y\"}},\"id\":\"4573\",\"type\":\"Step\"},{\"attributes\":{\"data\":{\"x\":{\"__ndarray__\":\"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\",\"dtype\":\"float64\",\"order\":\"little\",\"shape\":[401]},\"y\":[0,0,0,0,0,0,0,0,2,10,18,22,24,26,24,26,27,30,28,27,26,31,28,39,51,59,59,51,43,37,36,34,39,39,39,41,41,40,38,39,57,67,68,66,76,70,82,79,82,75,66,56,52,51,48,43,31,23,20,19,19,17,14,12,10,7,7,8,5,4,14,13,16,17,19,17,28,34,37,42,44,40,38,39,40,38,41,35,35,36,36,29,38,38,45,59,63,67,70,61,54,46,36,30,23,16,16,16,15,11,9,4,4,4,4,4,3,2,2,2,2,2,2,2,2,2,1,2,2,4,7,10,15,18,16,23,24,17,15,13,13,15,15,13,14,19,18,16,23,25,37,39,40,46,38,39,37,34,33,29,30,25,28,34,41,41,37,38,33,28,32,26,26,24,24,26,23,23,18,15,13,16,16,21,15,15,14,14,13,11,11,8,6,9,13,9,12,14,16,13,18,30,39,44,51,48,59,52,54,45,44,37,33,45,58,71,74,72,60,54,47,44,33,35,33,34,31,23,16,14,10,7,6,6,4,3,3,1,1,1,7,7,8,7,5,4,5,10,17,22,23,27,27,27,30,29,25,22,21,29,29,33,38,49,51,61,64,62,75,78,75,67,70,75,68,75,72,81,85,79,82,84,88,88,80,71,68,61,50,40,36,37,41,43,46,40,34,33,27,24,23,16,12,11,9,9,7,5,4,5,5,6,12,16,20,21,20,26,22,25,28,29,27,36,46,61,75,80,89,93,87,80,64,56,56,52,44,39,36,33,32,24,17,18,20,17,16,15,23,35,42,43,43,51,55,52,44,42,36,25,22,22,20,16,15,13,11,10,8,8,6,6,5,5,8,12,23,33,39,53,55,59,67,71,60,60,56,53,47,46,46,45,51,62,63,78,75,77,76,72,77]},\"selected\":{\"id\":\"4735\"},\"selection_policy\":{\"id\":\"4734\"}},\"id\":\"4564\",\"type\":\"ColumnDataSource\"},{\"attributes\":{},\"id\":\"4547\",\"type\":\"SaveTool\"},{\"attributes\":{},\"id\":\"4732\",\"type\":\"UnionRenderers\"},{\"attributes\":{\"source\":{\"id\":\"4558\"}},\"id\":\"4563\",\"type\":\"CDSView\"},{\"attributes\":{\"line_alpha\":0.5,\"line_color\":\"#999999\",\"line_width\":2,\"x\":{\"field\":\"x\"},\"y\":{\"field\":\"y\"}},\"id\":\"4565\",\"type\":\"Step\"},{\"attributes\":{\"end\":120},\"id\":\"4530\",\"type\":\"Range1d\"}],\"root_ids\":[\"4576\"]},\"title\":\"Bokeh Application\",\"version\":\"2.4.1\"}};\n",
       "  const render_items = [{\"docid\":\"2bb8ab7d-6767-464d-bd2a-0b0f82e59aeb\",\"root_ids\":[\"4576\"],\"roots\":{\"4576\":\"4c688174-bb05-4494-b6a3-1fabdc5ec5e3\"}}];\n",
       "  root.Bokeh.embed.embed_items_notebook(docs_json, render_items);\n",
       "\n",
       "  }\n",
       "  if (root.Bokeh !== undefined) {\n",
       "    embed_document(root);\n",
       "  } else {\n",
       "    let attempts = 0;\n",
       "    const timer = setInterval(function(root) {\n",
       "      if (root.Bokeh !== undefined) {\n",
       "        clearInterval(timer);\n",
       "        embed_document(root);\n",
       "      } else {\n",
       "        attempts++;\n",
       "        if (attempts > 100) {\n",
       "          clearInterval(timer);\n",
       "          console.log(\"Bokeh: ERROR: Unable to run BokehJS code because BokehJS library is missing\");\n",
       "        }\n",
       "      }\n",
       "    }, 10, root)\n",
       "  }\n",
       "})(window);"
      ],
      "application/vnd.bokehjs_exec.v0+json": ""
     },
     "metadata": {
      "application/vnd.bokehjs_exec.v0+json": {
       "id": "4576"
      }
     },
     "output_type": "display_data"
    },
    {
     "data": {
      "text/plain": [
       "['fig/SingleTrajectory.svg']"
      ]
     },
     "execution_count": 13,
     "metadata": {},
     "output_type": "execute_result"
    }
   ],
   "source": [
    "# Set up plots\n",
    "# For two digits 260 by 115 larger and 144 by 115 for half size\n",
    "# For three digits 266 by 115 larger and 150 by 115 for half size\n",
    "fig_size = [266, 115] # visualize (600/200)\n",
    "x_range = (0, 40)\n",
    "y_range = (0, 120)\n",
    "\n",
    "plots = []\n",
    "for i in range(1):\n",
    "    plots.append(bokeh.plotting.figure(plot_width=fig_size[0], plot_height=fig_size[1],\n",
    "                          x_range=x_range, y_range=y_range\n",
    "                          ),)\n",
    "    plots[i].axis.major_label_text_font_size = \"10pt\"\n",
    "\n",
    "# Plot trajectories of recombinase 1 and 2\n",
    "sR = samples[0,:,4:8].sum(axis=1)\n",
    "\n",
    "plots[0].varea(time_points, sR*0, sR*y_range[1], fill_color=\"#e8f4fa\")\n",
    "\n",
    "# Plot trajectories of recombinase 1 and 2\n",
    "y1 = samples[0,:,state[0]] # samples[:,:,10][0]\n",
    "plots[0].step(time_points, y1, line_width=2, alpha= 0.5, line_join=\"bevel\",color=\"#999999\")\n",
    "\n",
    "y2 = samples[0,:,state[1]]\n",
    "plots[0].step(time_points, y2, line_width=2, alpha= 1, line_join=\"bevel\",color=\"#178ccb\")\n",
    "# Link axes\n",
    "\n",
    "bokeh.io.show(bokeh.layouts.row(plots))\n",
    "\n",
    "plots[0].output_backend = \"svg\"\n",
    "export_svgs(plots,filename=\"fig/SingleTrajectory.svg\")"
   ]
  },
  {
   "cell_type": "markdown",
   "metadata": {
    "id": "kS9OmYGDI_tD"
   },
   "source": [
    "We will evaluate the period of oscillations from the stochastic ttrajaectories by computing the auto-correlation function."
   ]
  },
  {
   "cell_type": "code",
   "execution_count": 8,
   "metadata": {
    "executionInfo": {
     "elapsed": 11,
     "status": "ok",
     "timestamp": 1652483252305,
     "user": {
      "displayName": "Christian Cuba",
      "userId": "05812622177105967845"
     },
     "user_tz": 240
    },
    "id": "tb9r7SKRReGC"
   },
   "outputs": [],
   "source": [
    "# Computing the auto-correlation\n",
    "\n",
    "def correlate(x, y, dt):\n",
    "    # Compute correlation with max correlation being unity\n",
    "    corr = np.correlate(x, y, \"full\")\n",
    "    corr /= corr.max()\n",
    "\n",
    "    idx = np.where(corr==1.)[0][0]\n",
    "    corr = corr[idx:]\n",
    "    lags = np.arange(0, len(corr))*dt\n",
    "    return lags, corr\n"
   ]
  },
  {
   "cell_type": "code",
   "execution_count": null,
   "metadata": {
    "colab": {
     "base_uri": "https://localhost:8080/",
     "height": 447
    },
    "executionInfo": {
     "elapsed": 267,
     "status": "ok",
     "timestamp": 1652061548076,
     "user": {
      "displayName": "Christian Cuba",
      "userId": "05812622177105967845"
     },
     "user_tz": 240
    },
    "id": "20idjf57RimM",
    "outputId": "bbf06ee9-1282-4f3e-bacd-3748b03003a8"
   },
   "outputs": [
    {
     "data": {
      "text/html": [
       "\n",
       "\n",
       "\n",
       "\n",
       "\n",
       "\n",
       "  <div class=\"bk-root\" id=\"cc418030-b7d9-4022-bc93-33959dd6216f\" data-root-id=\"18923\"></div>\n"
      ]
     },
     "metadata": {},
     "output_type": "display_data"
    },
    {
     "data": {
      "application/javascript": [
       "(function(root) {\n",
       "  function embed_document(root) {\n",
       "    \n",
       "  const docs_json = {\"e80ad60a-f1ef-419b-95a7-8f1c3566ebc1\":{\"defs\":[],\"roots\":{\"references\":[{\"attributes\":{\"children\":[{\"id\":\"18922\"},{\"id\":\"18920\"}]},\"id\":\"18923\",\"type\":\"Column\"},{\"attributes\":{},\"id\":\"18872\",\"type\":\"AllLabels\"},{\"attributes\":{\"data\":{\"x\":{\"__ndarray__\":\"mpmZmZmZF0BnZmZmZmYmQAAAAAAAgDBAAAAAAAAANkDNzMzMzMw5QM3MzMzMTD1AMzMzMzNzQEAAAAAAAABDQJqZmZmZ2UNA\",\"dtype\":\"float64\",\"order\":\"little\",\"shape\":[9]},\"y\":{\"__ndarray__\":\"lxgGA3/V0j/xIekv1G7NPzL3zy7iM8A/NoC4ADN2wz/C1gbmllJ1Py3o7eaFAH0/oD4xr2ncuD8i/23xtaCiP06ah1Ju1G4/\",\"dtype\":\"float64\",\"order\":\"little\",\"shape\":[9]}},\"selected\":{\"id\":\"18891\"},\"selection_policy\":{\"id\":\"18890\"}},\"id\":\"18844\",\"type\":\"ColumnDataSource\"},{\"attributes\":{\"coordinates\":null,\"formatter\":{\"id\":\"18909\"},\"group\":null,\"major_label_policy\":{\"id\":\"18910\"},\"major_label_text_font_size\":\"10pt\",\"ticker\":{\"id\":\"18815\"}},\"id\":\"18814\",\"type\":\"LinearAxis\"},{\"attributes\":{},\"id\":\"18910\",\"type\":\"AllLabels\"},{\"attributes\":{},\"id\":\"18811\",\"type\":\"BasicTicker\"},{\"attributes\":{},\"id\":\"18808\",\"type\":\"LinearScale\"},{\"attributes\":{\"data\":{\"x\":{\"__ndarray__\":\"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\",\"dtype\":\"float64\",\"order\":\"little\",\"shape\":[401]},\"y\":{\"__ndarray__\":\"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\",\"dtype\":\"float64\",\"order\":\"little\",\"shape\":[401]}},\"selected\":{\"id\":\"18889\"},\"selection_policy\":{\"id\":\"18888\"}},\"id\":\"18838\",\"type\":\"ColumnDataSource\"},{\"attributes\":{},\"id\":\"18909\",\"type\":\"BasicTickFormatter\"},{\"attributes\":{},\"id\":\"18718\",\"type\":\"BasicTicker\"},{\"attributes\":{\"axis\":{\"id\":\"18814\"},\"coordinates\":null,\"dimension\":1,\"group\":null,\"ticker\":null},\"id\":\"18817\",\"type\":\"Grid\"},{\"attributes\":{\"end\":40.0},\"id\":\"18709\",\"type\":\"Range1d\"},{\"attributes\":{\"fill_color\":{\"value\":\"red\"},\"hatch_color\":{\"value\":\"red\"},\"line_color\":{\"value\":\"red\"},\"line_width\":{\"value\":2},\"x\":{\"field\":\"x\"},\"y\":{\"field\":\"y\"}},\"id\":\"18845\",\"type\":\"Circle\"},{\"attributes\":{},\"id\":\"18915\",\"type\":\"Selection\"},{\"attributes\":{\"tools\":[{\"id\":\"18787\"},{\"id\":\"18788\"},{\"id\":\"18789\"},{\"id\":\"18790\"},{\"id\":\"18791\"},{\"id\":\"18792\"}]},\"id\":\"18794\",\"type\":\"Toolbar\"},{\"attributes\":{},\"id\":\"18753\",\"type\":\"BasicTicker\"},{\"attributes\":{\"line_width\":2,\"x\":{\"field\":\"x\"},\"y\":{\"field\":\"y\"}},\"id\":\"18839\",\"type\":\"Line\"},{\"attributes\":{},\"id\":\"18788\",\"type\":\"WheelZoomTool\"},{\"attributes\":{\"coordinates\":null,\"formatter\":{\"id\":\"18883\"},\"group\":null,\"major_label_policy\":{\"id\":\"18884\"},\"major_label_text_font_size\":\"10pt\",\"ticker\":{\"id\":\"18753\"}},\"id\":\"18752\",\"type\":\"LinearAxis\"},{\"attributes\":{\"below\":[{\"id\":\"18748\"}],\"center\":[{\"id\":\"18751\"},{\"id\":\"18755\"}],\"height\":200,\"left\":[{\"id\":\"18752\"}],\"renderers\":[{\"id\":\"18842\"},{\"id\":\"18848\"}],\"title\":{\"id\":\"18880\"},\"toolbar\":{\"id\":\"18763\"},\"toolbar_location\":null,\"width\":400,\"x_range\":{\"id\":\"18740\"},\"x_scale\":{\"id\":\"18744\"},\"y_range\":{\"id\":\"18742\"},\"y_scale\":{\"id\":\"18746\"}},\"id\":\"18739\",\"subtype\":\"Figure\",\"type\":\"Plot\"},{\"attributes\":{},\"id\":\"18792\",\"type\":\"HelpTool\"},{\"attributes\":{},\"id\":\"18886\",\"type\":\"BasicTickFormatter\"},{\"attributes\":{\"data\":{\"x\":{\"__ndarray__\":\"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\",\"dtype\":\"float64\",\"order\":\"little\",\"shape\":[401]},\"y\":[0,0,0,0,0,0,0,0,2,7,12,14,22,31,41,44,49,56,60,64,70,64,64,58,50,44,36,33,32,25,23,18,19,21,27,29,26,22,21,19,21,19,15,12,12,10,6,5,5,6,8,14,22,33,33,34,36,35,35,34,34,35,32,30,36,33,31,32,29,33,34,37,35,47,50,50,42,39,34,37,37,35,36,39,35,54,69,70,80,75,75,70,56,54,60,76,75,77,79,74,63,56,45,34,27,26,19,14,13,10,6,5,5,3,2,2,1,2,7,18,18,25,39,41,41,39,44,43,48,48,57,70,78,80,73,75,71,67,66,66,63,61,57,52,50,46,38,33,30,21,19,16,15,14,12,11,8,8,8,5,5,2,2,3,2,2,2,3,3,3,6,9,14,26,36,35,51,52,56,57,56,59,60,65,59,59,65,65,69,63,74,84,77,79,73,80,86,90,99,90,97,92,78,72,55,46,43,33,26,19,15,13,12,10,10,9,6,6,6,5,4,2,2,1,0,1,1,2,8,13,20,26,32,32,31,34,37,42,43,41,45,41,42,44,36,35,31,33,26,34,40,53,54,46,45,45,43,45,47,66,70,74,69,62,58,48,46,41,35,33,32,29,25,21,19,16,16,20,20,20,19,21,16,19,19,17,17,17,11,11,11,11,7,6,6,6,5,4,3,2,2,2,1,1,2,7,19,26,35,49,51,58,66,66,61,57,55,54,48,46,46,44,40,32,25,21,20,20,15,13,13,10,10,8,6,7,8,8,7,10,8,13,17,35,49,56,57,63,67,63,57,52,46,42,36,36,30,24,21,18,14,10,8,6,5,5,3,3,2,2,1,1,1,1,0,0,0,0,0,0,0,0,0,0,0,1,3,4,3,6,9,8,10,14,20,25,32,28,22,22,22]},\"selected\":{\"id\":\"18877\"},\"selection_policy\":{\"id\":\"18876\"}},\"id\":\"18832\",\"type\":\"ColumnDataSource\"},{\"attributes\":{},\"id\":\"18883\",\"type\":\"BasicTickFormatter\"},{\"attributes\":{},\"id\":\"18871\",\"type\":\"BasicTickFormatter\"},{\"attributes\":{\"tools\":[{\"id\":\"18725\"},{\"id\":\"18726\"},{\"id\":\"18727\"},{\"id\":\"18728\"},{\"id\":\"18729\"},{\"id\":\"18730\"}]},\"id\":\"18732\",\"type\":\"Toolbar\"},{\"attributes\":{},\"id\":\"18791\",\"type\":\"ResetTool\"},{\"attributes\":{},\"id\":\"18913\",\"type\":\"AllLabels\"},{\"attributes\":{},\"id\":\"18914\",\"type\":\"UnionRenderers\"},{\"attributes\":{},\"id\":\"18784\",\"type\":\"BasicTicker\"},{\"attributes\":{},\"id\":\"18912\",\"type\":\"BasicTickFormatter\"},{\"attributes\":{\"coordinates\":null,\"formatter\":{\"id\":\"18900\"},\"group\":null,\"major_label_policy\":{\"id\":\"18901\"},\"major_label_text_font_size\":\"10pt\",\"ticker\":{\"id\":\"18780\"}},\"id\":\"18779\",\"type\":\"LinearAxis\"},{\"attributes\":{\"below\":[{\"id\":\"18779\"}],\"center\":[{\"id\":\"18782\"},{\"id\":\"18786\"}],\"height\":200,\"left\":[{\"id\":\"18783\"}],\"renderers\":[{\"id\":\"18854\"}],\"title\":{\"id\":\"18894\"},\"toolbar\":{\"id\":\"18794\"},\"toolbar_location\":null,\"width\":400,\"x_range\":{\"id\":\"18771\"},\"x_scale\":{\"id\":\"18775\"},\"y_range\":{\"id\":\"18773\"},\"y_scale\":{\"id\":\"18777\"}},\"id\":\"18770\",\"subtype\":\"Figure\",\"type\":\"Plot\"},{\"attributes\":{},\"id\":\"18884\",\"type\":\"AllLabels\"},{\"attributes\":{},\"id\":\"18756\",\"type\":\"PanTool\"},{\"attributes\":{\"coordinates\":null,\"data_source\":{\"id\":\"18832\"},\"glyph\":{\"id\":\"18833\"},\"group\":null,\"hover_glyph\":null,\"muted_glyph\":{\"id\":\"18835\"},\"nonselection_glyph\":{\"id\":\"18834\"},\"view\":{\"id\":\"18837\"}},\"id\":\"18836\",\"type\":\"GlyphRenderer\"},{\"attributes\":{},\"id\":\"18806\",\"type\":\"LinearScale\"},{\"attributes\":{},\"id\":\"18823\",\"type\":\"HelpTool\"},{\"attributes\":{\"source\":{\"id\":\"18832\"}},\"id\":\"18837\",\"type\":\"CDSView\"},{\"attributes\":{\"below\":[{\"id\":\"18717\"}],\"center\":[{\"id\":\"18720\"},{\"id\":\"18724\"}],\"height\":200,\"left\":[{\"id\":\"18721\"}],\"renderers\":[{\"id\":\"18836\"}],\"title\":{\"id\":\"18868\"},\"toolbar\":{\"id\":\"18732\"},\"toolbar_location\":null,\"width\":400,\"x_range\":{\"id\":\"18709\"},\"x_scale\":{\"id\":\"18713\"},\"y_range\":{\"id\":\"18711\"},\"y_scale\":{\"id\":\"18715\"}},\"id\":\"18708\",\"subtype\":\"Figure\",\"type\":\"Plot\"},{\"attributes\":{\"bottom_units\":\"screen\",\"coordinates\":null,\"fill_alpha\":0.5,\"fill_color\":\"lightgrey\",\"group\":null,\"left_units\":\"screen\",\"level\":\"overlay\",\"line_alpha\":1.0,\"line_color\":\"black\",\"line_dash\":[4,4],\"line_width\":2,\"right_units\":\"screen\",\"syncable\":false,\"top_units\":\"screen\"},\"id\":\"18824\",\"type\":\"BoxAnnotation\"},{\"attributes\":{},\"id\":\"18744\",\"type\":\"LinearScale\"},{\"attributes\":{},\"id\":\"18761\",\"type\":\"HelpTool\"},{\"attributes\":{\"axis\":{\"id\":\"18779\"},\"coordinates\":null,\"group\":null,\"ticker\":null},\"id\":\"18782\",\"type\":\"Grid\"},{\"attributes\":{\"line_alpha\":0.2,\"line_color\":\"orange\",\"line_width\":2,\"x\":{\"field\":\"x\"},\"y\":{\"field\":\"y\"}},\"id\":\"18835\",\"type\":\"Step\"},{\"attributes\":{},\"id\":\"18742\",\"type\":\"DataRange1d\"},{\"attributes\":{\"line_alpha\":0.1,\"line_color\":\"orange\",\"line_width\":2,\"x\":{\"field\":\"x\"},\"y\":{\"field\":\"y\"}},\"id\":\"18834\",\"type\":\"Step\"},{\"attributes\":{},\"id\":\"18780\",\"type\":\"BasicTicker\"},{\"attributes\":{\"axis\":{\"id\":\"18717\"},\"coordinates\":null,\"group\":null,\"ticker\":null},\"id\":\"18720\",\"type\":\"Grid\"},{\"attributes\":{},\"id\":\"18725\",\"type\":\"PanTool\"},{\"attributes\":{},\"id\":\"18773\",\"type\":\"DataRange1d\"},{\"attributes\":{},\"id\":\"18787\",\"type\":\"PanTool\"},{\"attributes\":{\"coordinates\":null,\"group\":null},\"id\":\"18906\",\"type\":\"Title\"},{\"attributes\":{\"tools\":[{\"id\":\"18818\"},{\"id\":\"18819\"},{\"id\":\"18820\"},{\"id\":\"18821\"},{\"id\":\"18822\"},{\"id\":\"18823\"}]},\"id\":\"18825\",\"type\":\"Toolbar\"},{\"attributes\":{\"bottom_units\":\"screen\",\"coordinates\":null,\"fill_alpha\":0.5,\"fill_color\":\"lightgrey\",\"group\":null,\"left_units\":\"screen\",\"level\":\"overlay\",\"line_alpha\":1.0,\"line_color\":\"black\",\"line_dash\":[4,4],\"line_width\":2,\"right_units\":\"screen\",\"syncable\":false,\"top_units\":\"screen\"},\"id\":\"18793\",\"type\":\"BoxAnnotation\"},{\"attributes\":{\"coordinates\":null,\"formatter\":{\"id\":\"18871\"},\"group\":null,\"major_label_policy\":{\"id\":\"18872\"},\"major_label_text_font_size\":\"10pt\",\"ticker\":{\"id\":\"18722\"}},\"id\":\"18721\",\"type\":\"LinearAxis\"},{\"attributes\":{},\"id\":\"18804\",\"type\":\"DataRange1d\"},{\"attributes\":{\"tools\":[{\"id\":\"18756\"},{\"id\":\"18757\"},{\"id\":\"18758\"},{\"id\":\"18759\"},{\"id\":\"18760\"},{\"id\":\"18761\"}]},\"id\":\"18763\",\"type\":\"Toolbar\"},{\"attributes\":{},\"id\":\"18760\",\"type\":\"ResetTool\"},{\"attributes\":{\"overlay\":{\"id\":\"18824\"}},\"id\":\"18820\",\"type\":\"BoxZoomTool\"},{\"attributes\":{\"end\":40.0},\"id\":\"18771\",\"type\":\"Range1d\"},{\"attributes\":{\"bottom_units\":\"screen\",\"coordinates\":null,\"fill_alpha\":0.5,\"fill_color\":\"lightgrey\",\"group\":null,\"left_units\":\"screen\",\"level\":\"overlay\",\"line_alpha\":1.0,\"line_color\":\"black\",\"line_dash\":[4,4],\"line_width\":2,\"right_units\":\"screen\",\"syncable\":false,\"top_units\":\"screen\"},\"id\":\"18762\",\"type\":\"BoxAnnotation\"},{\"attributes\":{},\"id\":\"18777\",\"type\":\"LinearScale\"},{\"attributes\":{},\"id\":\"18916\",\"type\":\"UnionRenderers\"},{\"attributes\":{\"axis\":{\"id\":\"18748\"},\"coordinates\":null,\"group\":null,\"ticker\":null},\"id\":\"18751\",\"type\":\"Grid\"},{\"attributes\":{},\"id\":\"18775\",\"type\":\"LinearScale\"},{\"attributes\":{\"coordinates\":null,\"formatter\":{\"id\":\"18897\"},\"group\":null,\"major_label_policy\":{\"id\":\"18898\"},\"major_label_text_font_size\":\"10pt\",\"ticker\":{\"id\":\"18784\"}},\"id\":\"18783\",\"type\":\"LinearAxis\"},{\"attributes\":{\"coordinates\":null,\"formatter\":{\"id\":\"18886\"},\"group\":null,\"major_label_policy\":{\"id\":\"18887\"},\"major_label_text_font_size\":\"10pt\",\"ticker\":{\"id\":\"18749\"}},\"id\":\"18748\",\"type\":\"LinearAxis\"},{\"attributes\":{},\"id\":\"18917\",\"type\":\"Selection\"},{\"attributes\":{},\"id\":\"18729\",\"type\":\"ResetTool\"},{\"attributes\":{\"bottom_units\":\"screen\",\"coordinates\":null,\"fill_alpha\":0.5,\"fill_color\":\"lightgrey\",\"group\":null,\"left_units\":\"screen\",\"level\":\"overlay\",\"line_alpha\":1.0,\"line_color\":\"black\",\"line_dash\":[4,4],\"line_width\":2,\"right_units\":\"screen\",\"syncable\":false,\"top_units\":\"screen\"},\"id\":\"18731\",\"type\":\"BoxAnnotation\"},{\"attributes\":{\"line_color\":\"orange\",\"line_width\":2,\"x\":{\"field\":\"x\"},\"y\":{\"field\":\"y\"}},\"id\":\"18833\",\"type\":\"Step\"},{\"attributes\":{\"axis\":{\"id\":\"18752\"},\"coordinates\":null,\"dimension\":1,\"group\":null,\"ticker\":null},\"id\":\"18755\",\"type\":\"Grid\"},{\"attributes\":{},\"id\":\"18887\",\"type\":\"AllLabels\"},{\"attributes\":{\"coordinates\":null,\"formatter\":{\"id\":\"18912\"},\"group\":null,\"major_label_policy\":{\"id\":\"18913\"},\"major_label_text_font_size\":\"10pt\",\"ticker\":{\"id\":\"18811\"}},\"id\":\"18810\",\"type\":\"LinearAxis\"},{\"attributes\":{},\"id\":\"18819\",\"type\":\"WheelZoomTool\"},{\"attributes\":{},\"id\":\"18749\",\"type\":\"BasicTicker\"},{\"attributes\":{\"below\":[{\"id\":\"18810\"}],\"center\":[{\"id\":\"18813\"},{\"id\":\"18817\"}],\"height\":200,\"left\":[{\"id\":\"18814\"}],\"renderers\":[{\"id\":\"18860\"},{\"id\":\"18866\"}],\"title\":{\"id\":\"18906\"},\"toolbar\":{\"id\":\"18825\"},\"toolbar_location\":null,\"width\":400,\"x_range\":{\"id\":\"18802\"},\"x_scale\":{\"id\":\"18806\"},\"y_range\":{\"id\":\"18804\"},\"y_scale\":{\"id\":\"18808\"}},\"id\":\"18801\",\"subtype\":\"Figure\",\"type\":\"Plot\"},{\"attributes\":{\"end\":40.0},\"id\":\"18740\",\"type\":\"Range1d\"},{\"attributes\":{\"overlay\":{\"id\":\"18793\"}},\"id\":\"18789\",\"type\":\"BoxZoomTool\"},{\"attributes\":{},\"id\":\"18746\",\"type\":\"LinearScale\"},{\"attributes\":{},\"id\":\"18759\",\"type\":\"SaveTool\"},{\"attributes\":{},\"id\":\"18790\",\"type\":\"SaveTool\"},{\"attributes\":{\"overlay\":{\"id\":\"18762\"}},\"id\":\"18758\",\"type\":\"BoxZoomTool\"},{\"attributes\":{\"axis\":{\"id\":\"18783\"},\"coordinates\":null,\"dimension\":1,\"group\":null,\"ticker\":null},\"id\":\"18786\",\"type\":\"Grid\"},{\"attributes\":{},\"id\":\"18728\",\"type\":\"SaveTool\"},{\"attributes\":{},\"id\":\"18822\",\"type\":\"ResetTool\"},{\"attributes\":{},\"id\":\"18818\",\"type\":\"PanTool\"},{\"attributes\":{\"overlay\":{\"id\":\"18731\"}},\"id\":\"18727\",\"type\":\"BoxZoomTool\"},{\"attributes\":{},\"id\":\"18726\",\"type\":\"WheelZoomTool\"},{\"attributes\":{\"axis\":{\"id\":\"18721\"},\"coordinates\":null,\"dimension\":1,\"group\":null,\"ticker\":null},\"id\":\"18724\",\"type\":\"Grid\"},{\"attributes\":{},\"id\":\"18757\",\"type\":\"WheelZoomTool\"},{\"attributes\":{\"axis\":{\"id\":\"18810\"},\"coordinates\":null,\"group\":null,\"ticker\":null},\"id\":\"18813\",\"type\":\"Grid\"},{\"attributes\":{},\"id\":\"18730\",\"type\":\"HelpTool\"},{\"attributes\":{},\"id\":\"18815\",\"type\":\"BasicTicker\"},{\"attributes\":{\"end\":40.0},\"id\":\"18802\",\"type\":\"Range1d\"},{\"attributes\":{},\"id\":\"18722\",\"type\":\"BasicTicker\"},{\"attributes\":{},\"id\":\"18821\",\"type\":\"SaveTool\"},{\"attributes\":{},\"id\":\"18877\",\"type\":\"Selection\"},{\"attributes\":{},\"id\":\"18890\",\"type\":\"UnionRenderers\"},{\"attributes\":{\"coordinates\":null,\"group\":null},\"id\":\"18868\",\"type\":\"Title\"},{\"attributes\":{},\"id\":\"18876\",\"type\":\"UnionRenderers\"},{\"attributes\":{\"fill_alpha\":{\"value\":0.2},\"fill_color\":{\"value\":\"red\"},\"hatch_alpha\":{\"value\":0.2},\"hatch_color\":{\"value\":\"red\"},\"line_alpha\":{\"value\":0.2},\"line_color\":{\"value\":\"red\"},\"line_width\":{\"value\":2},\"x\":{\"field\":\"x\"},\"y\":{\"field\":\"y\"}},\"id\":\"18847\",\"type\":\"Circle\"},{\"attributes\":{\"line_alpha\":0.2,\"line_width\":2,\"x\":{\"field\":\"x\"},\"y\":{\"field\":\"y\"}},\"id\":\"18841\",\"type\":\"Line\"},{\"attributes\":{},\"id\":\"18711\",\"type\":\"DataRange1d\"},{\"attributes\":{},\"id\":\"18898\",\"type\":\"AllLabels\"},{\"attributes\":{\"line_alpha\":0.1,\"line_width\":2,\"x\":{\"field\":\"x\"},\"y\":{\"field\":\"y\"}},\"id\":\"18840\",\"type\":\"Line\"},{\"attributes\":{\"coordinates\":null,\"formatter\":{\"id\":\"18874\"},\"group\":null,\"major_label_policy\":{\"id\":\"18875\"},\"major_label_text_font_size\":\"10pt\",\"ticker\":{\"id\":\"18718\"}},\"id\":\"18717\",\"type\":\"LinearAxis\"},{\"attributes\":{},\"id\":\"18900\",\"type\":\"BasicTickFormatter\"},{\"attributes\":{\"fill_alpha\":{\"value\":0.1},\"fill_color\":{\"value\":\"red\"},\"hatch_alpha\":{\"value\":0.1},\"hatch_color\":{\"value\":\"red\"},\"line_alpha\":{\"value\":0.1},\"line_color\":{\"value\":\"red\"},\"line_width\":{\"value\":2},\"x\":{\"field\":\"x\"},\"y\":{\"field\":\"y\"}},\"id\":\"18864\",\"type\":\"Circle\"},{\"attributes\":{\"source\":{\"id\":\"18862\"}},\"id\":\"18867\",\"type\":\"CDSView\"},{\"attributes\":{\"toolbar\":{\"id\":\"18921\"},\"toolbar_location\":\"above\"},\"id\":\"18922\",\"type\":\"ToolbarBox\"},{\"attributes\":{\"coordinates\":null,\"data_source\":{\"id\":\"18862\"},\"glyph\":{\"id\":\"18863\"},\"group\":null,\"hover_glyph\":null,\"muted_glyph\":{\"id\":\"18865\"},\"nonselection_glyph\":{\"id\":\"18864\"},\"view\":{\"id\":\"18867\"}},\"id\":\"18866\",\"type\":\"GlyphRenderer\"},{\"attributes\":{},\"id\":\"18888\",\"type\":\"UnionRenderers\"},{\"attributes\":{\"children\":[[{\"id\":\"18708\"},0,0],[{\"id\":\"18739\"},0,1],[{\"id\":\"18770\"},1,0],[{\"id\":\"18801\"},1,1]]},\"id\":\"18920\",\"type\":\"GridBox\"},{\"attributes\":{},\"id\":\"18713\",\"type\":\"LinearScale\"},{\"attributes\":{\"source\":{\"id\":\"18850\"}},\"id\":\"18855\",\"type\":\"CDSView\"},{\"attributes\":{},\"id\":\"18889\",\"type\":\"Selection\"},{\"attributes\":{\"toolbars\":[{\"id\":\"18732\"},{\"id\":\"18763\"},{\"id\":\"18794\"},{\"id\":\"18825\"}],\"tools\":[{\"id\":\"18725\"},{\"id\":\"18726\"},{\"id\":\"18727\"},{\"id\":\"18728\"},{\"id\":\"18729\"},{\"id\":\"18730\"},{\"id\":\"18756\"},{\"id\":\"18757\"},{\"id\":\"18758\"},{\"id\":\"18759\"},{\"id\":\"18760\"},{\"id\":\"18761\"},{\"id\":\"18787\"},{\"id\":\"18788\"},{\"id\":\"18789\"},{\"id\":\"18790\"},{\"id\":\"18791\"},{\"id\":\"18792\"},{\"id\":\"18818\"},{\"id\":\"18819\"},{\"id\":\"18820\"},{\"id\":\"18821\"},{\"id\":\"18822\"},{\"id\":\"18823\"}]},\"id\":\"18921\",\"type\":\"ProxyToolbar\"},{\"attributes\":{\"source\":{\"id\":\"18856\"}},\"id\":\"18861\",\"type\":\"CDSView\"},{\"attributes\":{},\"id\":\"18891\",\"type\":\"Selection\"},{\"attributes\":{\"fill_alpha\":{\"value\":0.2},\"fill_color\":{\"value\":\"red\"},\"hatch_alpha\":{\"value\":0.2},\"hatch_color\":{\"value\":\"red\"},\"line_alpha\":{\"value\":0.2},\"line_color\":{\"value\":\"red\"},\"line_width\":{\"value\":2},\"x\":{\"field\":\"x\"},\"y\":{\"field\":\"y\"}},\"id\":\"18865\",\"type\":\"Circle\"},{\"attributes\":{\"line_alpha\":0.1,\"line_width\":2,\"x\":{\"field\":\"x\"},\"y\":{\"field\":\"y\"}},\"id\":\"18858\",\"type\":\"Line\"},{\"attributes\":{\"line_alpha\":0.2,\"line_width\":2,\"x\":{\"field\":\"x\"},\"y\":{\"field\":\"y\"}},\"id\":\"18859\",\"type\":\"Line\"},{\"attributes\":{\"coordinates\":null,\"data_source\":{\"id\":\"18838\"},\"glyph\":{\"id\":\"18839\"},\"group\":null,\"hover_glyph\":null,\"muted_glyph\":{\"id\":\"18841\"},\"nonselection_glyph\":{\"id\":\"18840\"},\"view\":{\"id\":\"18843\"}},\"id\":\"18842\",\"type\":\"GlyphRenderer\"},{\"attributes\":{\"coordinates\":null,\"group\":null},\"id\":\"18894\",\"type\":\"Title\"},{\"attributes\":{},\"id\":\"18903\",\"type\":\"Selection\"},{\"attributes\":{\"line_color\":\"orange\",\"line_width\":2,\"x\":{\"field\":\"x\"},\"y\":{\"field\":\"y\"}},\"id\":\"18851\",\"type\":\"Step\"},{\"attributes\":{},\"id\":\"18897\",\"type\":\"BasicTickFormatter\"},{\"attributes\":{\"source\":{\"id\":\"18838\"}},\"id\":\"18843\",\"type\":\"CDSView\"},{\"attributes\":{\"data\":{\"x\":{\"__ndarray__\":\"AAAAAAAAGkAzMzMzMzMiQAAAAAAAACdAZ2ZmZmZmL0BnZmZmZuYxQDQzMzMzMzZANDMzMzOzOEDNzMzMzMw6QJqZmZmZGTxAzczMzMxMPEDNzMzMzAxBQJqZmZmZ2UJAzczMzMzMQ0A=\",\"dtype\":\"float64\",\"order\":\"little\",\"shape\":[13]},\"y\":{\"__ndarray__\":\"j4UjI7kryD8bunQSReK9vwKC+tB4gtE/GHxHp9j7nT9sEh0bMCnQP/bKY1QNMLw/F7WUEhvSwL8lk6yhGRWiP/Ht6Ksm1KE/RNFJMwSjoT+cJO2wsQy/P2/7DfG3sLK/wBu4ma9fYD8=\",\"dtype\":\"float64\",\"order\":\"little\",\"shape\":[13]}},\"selected\":{\"id\":\"18917\"},\"selection_policy\":{\"id\":\"18916\"}},\"id\":\"18862\",\"type\":\"ColumnDataSource\"},{\"attributes\":{},\"id\":\"18901\",\"type\":\"AllLabels\"},{\"attributes\":{\"line_width\":2,\"x\":{\"field\":\"x\"},\"y\":{\"field\":\"y\"}},\"id\":\"18857\",\"type\":\"Line\"},{\"attributes\":{\"data\":{\"x\":{\"__ndarray__\":\"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\",\"dtype\":\"float64\",\"order\":\"little\",\"shape\":[401]},\"y\":[0,0,0,0,0,0,0,0,0,0,0,0,0,0,0,0,0,0,0,0,0,0,0,0,0,1,4,9,17,25,30,32,37,38,37,39,36,31,33,28,30,32,37,35,40,45,50,51,55,40,37,31,28,26,25,22,18,15,10,8,6,6,5,4,3,2,1,1,1,1,1,1,1,1,1,1,1,1,1,1,1,1,1,1,1,1,1,1,1,1,1,1,1,1,1,1,1,1,1,1,4,9,15,24,31,31,39,37,37,37,44,43,40,43,44,50,55,53,53,48,46,44,43,40,33,26,20,14,11,11,8,7,4,3,1,1,1,1,1,1,2,8,13,15,23,29,36,48,57,55,61,57,66,59,51,43,42,37,32,26,23,24,29,32,33,33,23,19,15,14,14,19,18,22,24,29,25,23,17,18,18,17,15,13,12,12,11,8,6,4,4,3,2,1,1,1,1,1,3,11,19,19,18,17,22,18,19,22,23,21,17,18,18,27,28,32,37,41,42,40,38,35,29,28,26,22,27,36,39,45,43,38,35,29,24,22,19,17,15,13,12,10,6,7,7,7,6,3,3,1,0,2,2,4,4,8,6,8,9,14,20,26,32,41,46,43,43,39,33,35,28,31,30,32,28,32,26,29,29,27,22,19,27,25,24,24,19,20,23,26,29,41,48,52,55,59,55,52,51,58,51,54,44,35,29,25,19,16,15,11,8,7,7,8,13,17,20,21,26,31,38,35,29,34,37,46,45,46,48,51,51,61,66,68,63,63,55,59,61,57,47,42,35,29,25,21,16,12,8,7,6,5,5,4,4,5,3,2,0,0,0,0,0,2,2,4,4,9,23,30,30,32,33,31,28,24,23,21,27,27,36,41,48,57,74,80,85,76,63,57,49,39,36,30,30,23,19,19,21,22,20]},\"selected\":{\"id\":\"18903\"},\"selection_policy\":{\"id\":\"18902\"}},\"id\":\"18850\",\"type\":\"ColumnDataSource\"},{\"attributes\":{\"line_alpha\":0.1,\"line_color\":\"orange\",\"line_width\":2,\"x\":{\"field\":\"x\"},\"y\":{\"field\":\"y\"}},\"id\":\"18852\",\"type\":\"Step\"},{\"attributes\":{},\"id\":\"18715\",\"type\":\"LinearScale\"},{\"attributes\":{\"coordinates\":null,\"group\":null},\"id\":\"18880\",\"type\":\"Title\"},{\"attributes\":{\"line_alpha\":0.2,\"line_color\":\"orange\",\"line_width\":2,\"x\":{\"field\":\"x\"},\"y\":{\"field\":\"y\"}},\"id\":\"18853\",\"type\":\"Step\"},{\"attributes\":{},\"id\":\"18902\",\"type\":\"UnionRenderers\"},{\"attributes\":{\"coordinates\":null,\"data_source\":{\"id\":\"18844\"},\"glyph\":{\"id\":\"18845\"},\"group\":null,\"hover_glyph\":null,\"muted_glyph\":{\"id\":\"18847\"},\"nonselection_glyph\":{\"id\":\"18846\"},\"view\":{\"id\":\"18849\"}},\"id\":\"18848\",\"type\":\"GlyphRenderer\"},{\"attributes\":{},\"id\":\"18875\",\"type\":\"AllLabels\"},{\"attributes\":{\"source\":{\"id\":\"18844\"}},\"id\":\"18849\",\"type\":\"CDSView\"},{\"attributes\":{\"fill_alpha\":{\"value\":0.1},\"fill_color\":{\"value\":\"red\"},\"hatch_alpha\":{\"value\":0.1},\"hatch_color\":{\"value\":\"red\"},\"line_alpha\":{\"value\":0.1},\"line_color\":{\"value\":\"red\"},\"line_width\":{\"value\":2},\"x\":{\"field\":\"x\"},\"y\":{\"field\":\"y\"}},\"id\":\"18846\",\"type\":\"Circle\"},{\"attributes\":{\"coordinates\":null,\"data_source\":{\"id\":\"18850\"},\"glyph\":{\"id\":\"18851\"},\"group\":null,\"hover_glyph\":null,\"muted_glyph\":{\"id\":\"18853\"},\"nonselection_glyph\":{\"id\":\"18852\"},\"view\":{\"id\":\"18855\"}},\"id\":\"18854\",\"type\":\"GlyphRenderer\"},{\"attributes\":{},\"id\":\"18874\",\"type\":\"BasicTickFormatter\"},{\"attributes\":{\"data\":{\"x\":{\"__ndarray__\":\"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\",\"dtype\":\"float64\",\"order\":\"little\",\"shape\":[401]},\"y\":{\"__ndarray__\":\"AAAAAAAA8D9w1NgaKCXvP8MFrdnAju0/r/jCOeRL6z9VXqzTD7roPx7c8tlZ5+U/JbCTkxQS4z8Nzf7GpCngP64zqSM209o/G/46VYWh1T9I8ofua9HQP8IA4X+tocg/9K/BvgR3wD9Ah3QtkiuxPyGsJQO4iHo/7TF3K8i5qr9o0gF0WZa7v2TuG7GdmsS/4vI9L375yr8qFJ8anlLQvy9z3kcUxtK/WAst1SCQ1L9UG7TMO6/Vv2V5jZC9E9a/qUXW6lbn1b+g8bnxx0PVv5jb+L8wLNS/wOYG1XjD0r+lHN4JyxrRvynbgLqses6/1XypsIyKyr+fQnkzRtHGv7OE6U3BL8O/5HBzY5rlv7/mMa1FXdq5v/EnSaMCzLS/1O4I1e3Sr79FezbSdXGov5lHN0IfIqO/i6Dp0Kconb+qDTEs5RqUvyEQ9C4UjIW/wWnPM/CPSz+9WptrzP+IP7aEY/rXxJc/YTA+fcHToT9+ySTSQPqoP6+OSSB9sK8/jLuqzd0ksz8Blp2tiFS2PzP3lPHWNLk/KBrCOGiGvD9OLY8GwQzAP0iE+SHCv8E/gOWqtj0swz9PAwi3CU3EPyIki1VrAMU/hNOI5yk1xT+bvBcJxZzFPxTmKo2aGcY/gotMUeGexj9/Y63E6wTHP6D9qBcYacc/ZXeZDf+6xz9uMvn7ByTIP4+FIyO5K8g/b/jaASzCxz/0ZIfRseHGP3kc5fv7xsU/vhISOttFxD/M7DLihi/CP4LCmlqCXL8/d5VV2wTDuT9Lr+vg6OuzP6jP3GRLmaw/h6dnl09LoT+uWmUGuceHP1xrMZ/fgYO/wG2+AGPbnb/cw7qFwNCov0Uymt30qLC/EeTyhkAktL/J3/ShAcS2vzAoWdxpnLi/Ou58Gybwub+jz2mprOa6vxF03Kw83bu/x3pFZlasvL+GOloMY0C9v3dbs+vKx72/i4LRlQntvb8bunQSReK9vyc2ynifIL6/wnt3Sjf5vb+rE3Ilhau9v59c2TFkmry/eHM1ZipKur/dkLn8RPC2v1eKXe3MgrK/SQSf7YLwqr+EynDfJDafvx1aC/FLJ36/Q2aQ+WfukT/TMP+ns1qlP/XabwTUa7E/s5RG0hmEuD9c6GMO9Jm/P1i3xld+eMM/FharjPvExj8xlOLSa8HJPxpXtMZrcsw/W/6nLL/Szj8JqsvPdFTQP7IFl3F25dA/VMYVAfZb0T8CgvrQeILRP1H4l40VatE/f+JgCgYL0T/Xj3ptCSjQPwLEOzF89s0/V6WkYFqsyj9kJJh835PGPxCHYGpo0sE/S9MJJ2vUuT+a0dhk2aquP713aXmGlZI//ri4C5Xmmb8IvjIZRz+xvwz3FyWgdLu/oKdDCyJRwr9OoDoBEGTGv4G/VUbZDsq/kkAv4L4nzb9u+tvuCpTPv0H9yNq6q9C/z99zDrcx0b9usFfgmGfRv4Mb216mLdG/U067tTWp0L/JeHkHtcTPv+X0uOGd/c2/++FJ8X7zy7++6B3BV8fJvw9jibTScMe/msh6ZyUzxb/gHo9rw+TCv/MqOebIq8C/eT88CxLAvL+D6AzjbuO3v1qUE4FrfLK/xjctIX8Iq79IqZy1OCygvxhRD/1GHIu/ujVfv29IcT9ZCy6ispiRP4Sr/fFklpk/IwAZFdyXnT8YfEen2PudP14NnyS1FZw/hiQOK+ypmT8l+IYdGcCZPyciUGrQVZw/fz6VRP0boj9u5euCA2WoP4fRAxl1dLA/hOtiSgH1tT+ugRYAFVe8P/9xnuz/XsE//zoO/4hIxD+55/an0a/GP9NMZUkLicg/LKFiyhQeyj9HhHbvsWnLP1WEts9gYMw/76SfAu0SzT+zzvL7tOvNP8E9k9eG0M4/pNDu8f53zz9tBjLo7APQP2wSHRswKdA/e0BDzWoZ0D8VX9cOx+TPP7wJK7l+1s4/acSkKHgozT9pn1ZwKK/KPyX2fIx0fcc/nOP6TBc/wz/tbEcWGre8P5hzQ2CLIrI/ZbdTI/a8nD82Uq1QMQCPv3/CnK7JKK2/XXpcXSPZuL8PBWdXmxDBv+wbhlOiNcW/Ud9XcSnRyL/hO6ZEh/DLv+KSMNojdM6/NM7eKxdO0L+M0JMvQzTRv5ioNI1AxtG/MYQAoKv10b+RIg4pa9DRv/u1CDuRU9G/S0IDT/yX0L/t0zk8pBbPv9oOBE9Hu8y/6ot+XBTVyb+7aNDdDrTGv0f6hLYRWcO/0U9OX8EmwL/AzDHb/EW6vzyO87spRLS/+NqiNIYErL+LoRCzNxOev1T/fMwxHmm/lAzGIdfslT9f8x0gpGWmPyLEL1L6SbA/6GETU7HjtD+xu3b8kmG4P6iMa3lQJ7s/9spjVA0wvD/9ak8T3bq7Pz5zrsmVbro/EyGLFB3muD/yMjRB/Tm3PzrUb3KTU7Y/2MgtEaDKtT9Jez3640C1P/hkkHDV37Q/mJChxJlitD9CJwZqxiezPyRGr71SSbE/UYDOl490rT+0/0qAydelP5CRA0pnGZo/hNDsSa4Ydj/Uv/NOQHmSv2y/59dKaKW/uGaHfymIsL+YOeK56dG1v6J/GxSuHLq/tT9u6kuYvb9oYsgrk9G/v8L+LTL/iMC/wcL+lzrSwL8XtZQSG9LAv3Af1raR0sC/YDYaGoWIwL/bpwMLNTfAv5S34YNQc7+/VcAMt2x6vr8cvZddrSW9v7kvwKBHI7y/2kkF0CcAu78oB/VktIO5vxfmk/ALkLe/6ewfzLA7tb/gTIp5AU2yv+qHYAquqK2/UaQj3mKjpb8WAooVarCav7+9LNkG6YS/xxizH9mjcD99XvQlkcKQP4mKf+xKUJo/midCS7JVoD8lk6yhGRWiP4JeE9OaCqI/I8Xf30JhoT8vVVgvQpCeP8UkdNq3+5o/F9fPLWp4lz8tzRFtHNCVP0j5mKkTNZU/mi7cjqRzlz/PLsPHdvKZP6T2Du1PqJ0/fFN91C5woD/ZboECz36hP/Ht6Ksm1KE/1gmchH5xoT9E0UkzBKOhPwVyXo7FrKA/s6htn+Vsnj9YpxpdHz2aP6R8moBPQpU/kRa0Wkggjz+qnphyxTWFP3Am/ilD1nc/9Bt6pnQDTT/icClxmndxv4X9r1lpX4G/FMF3WqL0ir+EeVAHJVWRv0uxoUrOBpW/N8Jl2PoKmr9p5iOk9Iigv4uvYIBwPaS/Z3ejVka/p7/lBT1hsPmrvxrD1RxKBLC/aBanxC6Jsr8aJl3xHJ+1vxYyydDUA7m/jh3ghG6UvL/WZq6ZYyfAv60LnWjSB8K/Zn4BAlnTw78mEd+g1KHFv8U631SwT8e/239MHBLHyL/LBwumrPPJv2n4Rw0s0cq/2RVi8BVKy79k1JE6G3TLvzZHmphdRsu/UKaxQffcyr8vTACrNg/Kv6Cg7uUI3si/SH32mCpbx79PYy/5zuHFv58ypS30gcS/foKHdlcXw7/x4pJWc6PBv0CaP48y8r+/EmErQkuLvL8mxqSzgey4v/K6mjJA87S/hIo57VdSsL9gIvWv5iOnv8SMJgqeCJi/quOBD0XaN7+QKCcSdvqXP51J273dqqc/r7r1l2eosT8LYODyEmC2P7Nq56Hdgro/xZYD3J1tvT/Lt2aVp/W+P5wk7bCxDL8/zlqDroFwvj8AA3dUWxu9Py5zNMMaqrs/bH4Ryeoguj+0ZwGoXue4P2L20CUJyLc/NSA5yW8Jtz+I4Wxdylu2P6XlS6pAyLU/2jD2Uw4UtT/br9v3puezP14Ah4KxNLI/5wne4ITprz/B+t2QABeqP0ShqEbabaM//ytMqVhalz90WWwxTVJ6Pw6rswzUKoS/3gXuvfeKmb986p/AxZCjv5yF/0sNWqm/3kOiP5sfrr+RKXfRLPSwv7BlfKz3frK/BWvzc/Css78rqFjpi6m0vwsuPgokQbW/v40QkQAmtb9zwqwHb7y0v8/fiE8LU7S/vdv75PLZs7+3AIfVAV6zv6vajea9/rK/YotfSevCsr9kRsoH8bOyv2/7DfG3sLK/brg+s4LCsr+UXajqQZWyv7oCEiIBaLK/GgRRCS/csb+bcT9S0xuxv0tD8CPqEbC/a+LsSt9Srb8gtzvmqBypvyNc/GtbaKS/0bI3avWVnr9tPCE9edWVv2opOzDCbo6/v5hsPO4qg7/hDH7MKg91v1TIatRZs2S/dKNX4rXIOb+IkccL7H5JP2R6XYQZ8V8/wBu4ma9fYD8r+/5ruAtXP619G0kjsEo/c/68MMLKQT/j90Cnrkw8Pw==\",\"dtype\":\"float64\",\"order\":\"little\",\"shape\":[401]}},\"selected\":{\"id\":\"18915\"},\"selection_policy\":{\"id\":\"18914\"}},\"id\":\"18856\",\"type\":\"ColumnDataSource\"},{\"attributes\":{\"fill_color\":{\"value\":\"red\"},\"hatch_color\":{\"value\":\"red\"},\"line_color\":{\"value\":\"red\"},\"line_width\":{\"value\":2},\"x\":{\"field\":\"x\"},\"y\":{\"field\":\"y\"}},\"id\":\"18863\",\"type\":\"Circle\"},{\"attributes\":{\"coordinates\":null,\"data_source\":{\"id\":\"18856\"},\"glyph\":{\"id\":\"18857\"},\"group\":null,\"hover_glyph\":null,\"muted_glyph\":{\"id\":\"18859\"},\"nonselection_glyph\":{\"id\":\"18858\"},\"view\":{\"id\":\"18861\"}},\"id\":\"18860\",\"type\":\"GlyphRenderer\"}],\"root_ids\":[\"18923\"]},\"title\":\"Bokeh Application\",\"version\":\"2.4.1\"}};\n",
       "  const render_items = [{\"docid\":\"e80ad60a-f1ef-419b-95a7-8f1c3566ebc1\",\"root_ids\":[\"18923\"],\"roots\":{\"18923\":\"cc418030-b7d9-4022-bc93-33959dd6216f\"}}];\n",
       "  root.Bokeh.embed.embed_items_notebook(docs_json, render_items);\n",
       "\n",
       "  }\n",
       "  if (root.Bokeh !== undefined) {\n",
       "    embed_document(root);\n",
       "  } else {\n",
       "    let attempts = 0;\n",
       "    const timer = setInterval(function(root) {\n",
       "      if (root.Bokeh !== undefined) {\n",
       "        clearInterval(timer);\n",
       "        embed_document(root);\n",
       "      } else {\n",
       "        attempts++;\n",
       "        if (attempts > 100) {\n",
       "          clearInterval(timer);\n",
       "          console.log(\"Bokeh: ERROR: Unable to run BokehJS code because BokehJS library is missing\");\n",
       "        }\n",
       "      }\n",
       "    }, 10, root)\n",
       "  }\n",
       "})(window);"
      ],
      "application/vnd.bokehjs_exec.v0+json": ""
     },
     "metadata": {
      "application/vnd.bokehjs_exec.v0+json": {
       "id": "18923"
      }
     },
     "output_type": "display_data"
    }
   ],
   "source": [
    "fig_size = [400, 200] # for paper size (144, 110) # for larger size (144,144)\n",
    "x_range = (0, time_points[-1])\n",
    "y_range = (0, 200)\n",
    "\n",
    "plots = []\n",
    "for i in range(4):\n",
    "    plots.append(bokeh.plotting.figure(plot_width=fig_size[0], plot_height=fig_size[1],\n",
    "                          x_range=x_range, \n",
    "                          #y_range=y_range\n",
    "                          ),)\n",
    "    plots[i].axis.major_label_text_font_size = \"10pt\"\n",
    "\n",
    "dt = time_points[1] - time_points[0]\n",
    "y1 = samples[0,:,10] # samples[:,:,10][0]\n",
    "y1s = y1 - y1.mean()\n",
    "lags, auto_corr = correlate(y1s, y1s, dt)\n",
    "max_id = argrelextrema(auto_corr, np.greater)\n",
    "\n",
    "plots[0].step(time_points, y1, line_width=2, alpha= 1, line_join=\"bevel\",color=\"orange\")\n",
    "#plots[0].line(lags, auto_corr*130, line_width=2, alpha= 1, line_join=\"bevel\",color=\"black\")\n",
    "\n",
    "plots[1].line(lags, auto_corr, line_width=2, alpha= 1, line_join=\"bevel\",color=\"black\")\n",
    "plots[1].circle(lags[max_id], auto_corr[max_id], line_width=2, alpha= 1, line_join=\"bevel\",color=\"red\")\n",
    "\n",
    "\n",
    "y1 = samples[0,:,13] # samples[:,:,10][0]\n",
    "y1s = y1 - y1.mean()\n",
    "lags, auto_corr = correlate(y1s, y1s, dt)\n",
    "max_id = argrelextrema(auto_corr, np.greater)\n",
    "\n",
    "plots[2].step(time_points, y1, line_width=2, alpha= 1, line_join=\"bevel\",color=\"orange\")\n",
    "#plots[2].line(lags, auto_corr*130, line_width=2, alpha= 1, line_join=\"bevel\",color=\"black\")\n",
    "\n",
    "plots[3].line(lags, auto_corr, line_width=2, alpha= 1, line_join=\"bevel\",color=\"black\")\n",
    "plots[3].circle(lags[max_id], auto_corr[max_id], line_width=2, alpha= 1, line_join=\"bevel\",color=\"red\")\n",
    "\n",
    "bokeh.io.show(bokeh.layouts.gridplot(plots, ncols=2))"
   ]
  },
  {
   "cell_type": "code",
   "execution_count": null,
   "metadata": {
    "id": "NAhPFtfDxnub"
   },
   "outputs": [],
   "source": [
    "def FFT(t1,x1,fr):\n",
    "    n = len(x1)\n",
    "    if n % 2:\n",
    "        x = x1[:-2]\n",
    "        t = t1[:-2]\n",
    "        n = len(x)\n",
    "    else:\n",
    "        x = x1[:-1]\n",
    "        t = t1[:-1]\n",
    "\n",
    "    dt = (t[1]-t[0])\n",
    "    tf = scipy.fftpack.fftfreq(x.size, d=dt)\n",
    "    xf = scipy.fftpack.fft(x)\n",
    "    xf = np.abs(xf)**2\n",
    "    idx = np.where((tf >= fr[0]) & (tf <=fr[1]))\n",
    "    return tf[idx],xf[idx]"
   ]
  },
  {
   "cell_type": "code",
   "execution_count": null,
   "metadata": {
    "colab": {
     "base_uri": "https://localhost:8080/",
     "height": 237
    },
    "executionInfo": {
     "elapsed": 18,
     "status": "ok",
     "timestamp": 1651705925479,
     "user": {
      "displayName": "Judith Landau",
      "userId": "16650559787501200181"
     },
     "user_tz": 420
    },
    "id": "M4i1Gj3VqgeE",
    "outputId": "eac5babc-5e94-40a2-ae36-847a87172c60"
   },
   "outputs": [
    {
     "data": {
      "text/html": [
       "\n",
       "\n",
       "\n",
       "\n",
       "\n",
       "\n",
       "  <div class=\"bk-root\" id=\"144f3e2a-1554-43f5-be77-c2bbc53b7362\" data-root-id=\"3763\"></div>\n"
      ]
     },
     "metadata": {},
     "output_type": "display_data"
    },
    {
     "data": {
      "application/javascript": [
       "(function(root) {\n",
       "  function embed_document(root) {\n",
       "    \n",
       "  const docs_json = {\"66265de4-64a1-471b-a84d-29db8ca9989f\":{\"defs\":[],\"roots\":{\"references\":[{\"attributes\":{\"children\":[{\"id\":\"3677\"},{\"id\":\"3708\"}]},\"id\":\"3763\",\"type\":\"Row\"},{\"attributes\":{},\"id\":\"3980\",\"type\":\"UnionRenderers\"},{\"attributes\":{\"axis\":{\"id\":\"3717\"},\"coordinates\":null,\"group\":null,\"ticker\":null},\"id\":\"3720\",\"type\":\"Grid\"},{\"attributes\":{},\"id\":\"3981\",\"type\":\"Selection\"},{\"attributes\":{\"line_color\":\"orange\",\"line_width\":2,\"x\":{\"field\":\"x\"},\"y\":{\"field\":\"y\"}},\"id\":\"3746\",\"type\":\"Line\"},{\"attributes\":{\"tools\":[{\"id\":\"3694\"},{\"id\":\"3695\"},{\"id\":\"3696\"},{\"id\":\"3697\"},{\"id\":\"3698\"},{\"id\":\"3699\"}]},\"id\":\"3701\",\"type\":\"Toolbar\"},{\"attributes\":{},\"id\":\"3982\",\"type\":\"UnionRenderers\"},{\"attributes\":{},\"id\":\"3983\",\"type\":\"Selection\"},{\"attributes\":{},\"id\":\"3976\",\"type\":\"AllLabels\"},{\"attributes\":{\"below\":[{\"id\":\"3686\"}],\"center\":[{\"id\":\"3689\"},{\"id\":\"3693\"}],\"height\":200,\"left\":[{\"id\":\"3690\"}],\"renderers\":[{\"id\":\"3743\"},{\"id\":\"3755\"}],\"title\":{\"id\":\"3964\"},\"toolbar\":{\"id\":\"3701\"},\"width\":400,\"x_range\":{\"id\":\"3678\"},\"x_scale\":{\"id\":\"3682\"},\"y_range\":{\"id\":\"3680\"},\"y_scale\":{\"id\":\"3684\"}},\"id\":\"3677\",\"subtype\":\"Figure\",\"type\":\"Plot\"},{\"attributes\":{},\"id\":\"3975\",\"type\":\"BasicTickFormatter\"},{\"attributes\":{\"overlay\":{\"id\":\"3731\"}},\"id\":\"3727\",\"type\":\"BoxZoomTool\"},{\"attributes\":{},\"id\":\"3728\",\"type\":\"SaveTool\"},{\"attributes\":{},\"id\":\"3726\",\"type\":\"WheelZoomTool\"},{\"attributes\":{},\"id\":\"3725\",\"type\":\"PanTool\"},{\"attributes\":{},\"id\":\"3730\",\"type\":\"HelpTool\"},{\"attributes\":{},\"id\":\"3713\",\"type\":\"LinearScale\"},{\"attributes\":{},\"id\":\"3722\",\"type\":\"BasicTicker\"},{\"attributes\":{\"axis\":{\"id\":\"3721\"},\"coordinates\":null,\"dimension\":1,\"group\":null,\"ticker\":null},\"id\":\"3724\",\"type\":\"Grid\"},{\"attributes\":{\"coordinates\":null,\"formatter\":{\"id\":\"3975\"},\"group\":null,\"major_label_policy\":{\"id\":\"3976\"},\"major_label_text_font_size\":\"10pt\",\"ticker\":{\"id\":\"3722\"}},\"id\":\"3721\",\"type\":\"LinearAxis\"},{\"attributes\":{},\"id\":\"3698\",\"type\":\"ResetTool\"},{\"attributes\":{},\"id\":\"3697\",\"type\":\"SaveTool\"},{\"attributes\":{\"overlay\":{\"id\":\"3700\"}},\"id\":\"3696\",\"type\":\"BoxZoomTool\"},{\"attributes\":{},\"id\":\"3694\",\"type\":\"PanTool\"},{\"attributes\":{},\"id\":\"3969\",\"type\":\"BasicTickFormatter\"},{\"attributes\":{},\"id\":\"3695\",\"type\":\"WheelZoomTool\"},{\"attributes\":{},\"id\":\"3985\",\"type\":\"UnionRenderers\"},{\"attributes\":{},\"id\":\"3729\",\"type\":\"ResetTool\"},{\"attributes\":{\"below\":[{\"id\":\"3717\"}],\"center\":[{\"id\":\"3720\"},{\"id\":\"3724\"}],\"height\":200,\"left\":[{\"id\":\"3721\"}],\"renderers\":[{\"id\":\"3749\"},{\"id\":\"3761\"}],\"title\":{\"id\":\"3966\"},\"toolbar\":{\"id\":\"3732\"},\"width\":400,\"x_range\":{\"id\":\"3709\"},\"x_scale\":{\"id\":\"3713\"},\"y_range\":{\"id\":\"3711\"},\"y_scale\":{\"id\":\"3715\"}},\"id\":\"3708\",\"subtype\":\"Figure\",\"type\":\"Plot\"},{\"attributes\":{},\"id\":\"3691\",\"type\":\"BasicTicker\"},{\"attributes\":{\"axis\":{\"id\":\"3690\"},\"coordinates\":null,\"dimension\":1,\"group\":null,\"ticker\":null},\"id\":\"3693\",\"type\":\"Grid\"},{\"attributes\":{},\"id\":\"3986\",\"type\":\"Selection\"},{\"attributes\":{\"axis\":{\"id\":\"3686\"},\"coordinates\":null,\"group\":null,\"ticker\":null},\"id\":\"3689\",\"type\":\"Grid\"},{\"attributes\":{},\"id\":\"3973\",\"type\":\"AllLabels\"},{\"attributes\":{},\"id\":\"3711\",\"type\":\"DataRange1d\"},{\"attributes\":{},\"id\":\"3680\",\"type\":\"DataRange1d\"},{\"attributes\":{},\"id\":\"3678\",\"type\":\"DataRange1d\"},{\"attributes\":{\"data\":{\"x\":{\"__ndarray__\":\"AAAAAAAAAACamZmZmZm5P5qZmZmZmck/NDMzMzMz0z+amZmZmZnZPwAAAAAAAOA/NDMzMzMz4z9nZmZmZmbmP5qZmZmZmek/zczMzMzM7D8AAAAAAADwP5qZmZmZmfE/NDMzMzMz8z/NzMzMzMz0P2dmZmZmZvY/AAAAAAAA+D+amZmZmZn5PzQzMzMzM/s/zczMzMzM/D9nZmZmZmb+PwAAAAAAAABAzczMzMzMAECamZmZmZkBQGdmZmZmZgJANDMzMzMzA0AAAAAAAAAEQM3MzMzMzARAmpmZmZmZBUBnZmZmZmYGQDQzMzMzMwdAAAAAAAAACEDNzMzMzMwIQJqZmZmZmQlAZ2ZmZmZmCkA0MzMzMzMLQAAAAAAAAAxAzczMzMzMDECamZmZmZkNQGdmZmZmZg5ANDMzMzMzD0AAAAAAAAAQQGdmZmZmZhBAzczMzMzMEEAzMzMzMzMRQJqZmZmZmRFAAAAAAAAAEkBnZmZmZmYSQM3MzMzMzBJANDMzMzMzE0CamZmZmZkTQAAAAAAAABRAZ2ZmZmZmFEDNzMzMzMwUQDQzMzMzMxVAmpmZmZmZFUAAAAAAAAAWQGdmZmZmZhZAzczMzMzMFkA0MzMzMzMXQJqZmZmZmRdAAAAAAAAAGEBnZmZmZmYYQM3MzMzMzBhANDMzMzMzGUCamZmZmZkZQAAAAAAAABpAZ2ZmZmZmGkDNzMzMzMwaQDQzMzMzMxtAmpmZmZmZG0AAAAAAAAAcQGdmZmZmZhxAzczMzMzMHEA0MzMzMzMdQJqZmZmZmR1AAAAAAAAAHkBnZmZmZmYeQM3MzMzMzB5ANDMzMzMzH0CamZmZmZkfQAAAAAAAACBAMzMzMzMzIEBnZmZmZmYgQJqZmZmZmSBAzczMzMzMIEAAAAAAAAAhQDMzMzMzMyFAZ2ZmZmZmIUCamZmZmZkhQM3MzMzMzCFAAAAAAAAAIkAzMzMzMzMiQGdmZmZmZiJAmpmZmZmZIkDNzMzMzMwiQAAAAAAAACNANDMzMzMzI0BnZmZmZmYjQJqZmZmZmSNAzczMzMzMI0AAAAAAAAAkQDQzMzMzMyRAZ2ZmZmZmJECamZmZmZkkQM3MzMzMzCRAAAAAAAAAJUA0MzMzMzMlQGdmZmZmZiVAmpmZmZmZJUDNzMzMzMwlQAAAAAAAACZANDMzMzMzJkBnZmZmZmYmQJqZmZmZmSZAzczMzMzMJkAAAAAAAAAnQDQzMzMzMydAZ2ZmZmZmJ0CamZmZmZknQM3MzMzMzCdAAAAAAAAAKEA0MzMzMzMoQGdmZmZmZihAmpmZmZmZKEDNzMzMzMwoQAAAAAAAAClANDMzMzMzKUBnZmZmZmYpQJqZmZmZmSlAzczMzMzMKUAAAAAAAAAqQDQzMzMzMypAZ2ZmZmZmKkCamZmZmZkqQM3MzMzMzCpAAAAAAAAAK0A0MzMzMzMrQGdmZmZmZitAmpmZmZmZK0DNzMzMzMwrQAAAAAAAACxANDMzMzMzLEBnZmZmZmYsQJqZmZmZmSxAzczMzMzMLEAAAAAAAAAtQDQzMzMzMy1AZ2ZmZmZmLUCamZmZmZktQM3MzMzMzC1AAAAAAAAALkA0MzMzMzMuQGdmZmZmZi5AmpmZmZmZLkDNzMzMzMwuQAAAAAAAAC9ANDMzMzMzL0BnZmZmZmYvQJqZmZmZmS9AzczMzMzML0AAAAAAAAAwQJqZmZmZGTBAMzMzMzMzMEDNzMzMzEwwQGdmZmZmZjBAAAAAAACAMECamZmZmZkwQDMzMzMzszBAzczMzMzMMEBnZmZmZuYwQAAAAAAAADFAmpmZmZkZMUAzMzMzMzMxQM3MzMzMTDFAZ2ZmZmZmMUAAAAAAAIAxQJqZmZmZmTFAMzMzMzOzMUDNzMzMzMwxQGdmZmZm5jFAAAAAAAAAMkCamZmZmRkyQDMzMzMzMzJAzczMzMxMMkBnZmZmZmYyQAAAAAAAgDJAmpmZmZmZMkAzMzMzM7MyQM3MzMzMzDJAZ2ZmZmbmMkAAAAAAAAAzQJqZmZmZGTNANDMzMzMzM0DNzMzMzEwzQGdmZmZmZjNAAAAAAACAM0CamZmZmZkzQDQzMzMzszNAzczMzMzMM0BnZmZmZuYzQAAAAAAAADRAmpmZmZkZNEA0MzMzMzM0QM3MzMzMTDRAZ2ZmZmZmNEAAAAAAAIA0QJqZmZmZmTRANDMzMzOzNEDNzMzMzMw0QGdmZmZm5jRAAAAAAAAANUCamZmZmRk1QDQzMzMzMzVAzczMzMxMNUBnZmZmZmY1QAAAAAAAgDVAmpmZmZmZNUA0MzMzM7M1QM3MzMzMzDVAZ2ZmZmbmNUAAAAAAAAA2QJqZmZmZGTZANDMzMzMzNkDNzMzMzEw2QGdmZmZmZjZAAAAAAACANkCamZmZmZk2QDQzMzMzszZAzczMzMzMNkBnZmZmZuY2QAAAAAAAADdAmpmZmZkZN0A0MzMzMzM3QM3MzMzMTDdAZ2ZmZmZmN0AAAAAAAIA3QJqZmZmZmTdANDMzMzOzN0DNzMzMzMw3QGdmZmZm5jdAAAAAAAAAOECamZmZmRk4QDQzMzMzMzhAzczMzMxMOEBnZmZmZmY4QAAAAAAAgDhAmpmZmZmZOEA0MzMzM7M4QM3MzMzMzDhAZ2ZmZmbmOEAAAAAAAAA5QJqZmZmZGTlANDMzMzMzOUDNzMzMzEw5QGdmZmZmZjlAAAAAAACAOUCamZmZmZk5QDQzMzMzszlAzczMzMzMOUBnZmZmZuY5QAAAAAAAADpAmpmZmZkZOkA0MzMzMzM6QM3MzMzMTDpAZ2ZmZmZmOkAAAAAAAIA6QJqZmZmZmTpANDMzMzOzOkDNzMzMzMw6QGdmZmZm5jpAAAAAAAAAO0CamZmZmRk7QDQzMzMzMztAzczMzMxMO0BnZmZmZmY7QAAAAAAAgDtAmpmZmZmZO0A0MzMzM7M7QM3MzMzMzDtAZ2ZmZmbmO0AAAAAAAAA8QJqZmZmZGTxANDMzMzMzPEDNzMzMzEw8QGdmZmZmZjxAAAAAAACAPECamZmZmZk8QDQzMzMzszxAzczMzMzMPEBnZmZmZuY8QAAAAAAAAD1AmpmZmZkZPUA0MzMzMzM9QM3MzMzMTD1AZ2ZmZmZmPUAAAAAAAIA9QJqZmZmZmT1ANDMzMzOzPUDNzMzMzMw9QGdmZmZm5j1AAAAAAAAAPkCamZmZmRk+QDQzMzMzMz5AzczMzMxMPkBnZmZmZmY+QAAAAAAAgD5AmpmZmZmZPkA0MzMzM7M+QM3MzMzMzD5AZ2ZmZmbmPkAAAAAAAAA/QJqZmZmZGT9ANDMzMzMzP0DNzMzMzEw/QGdmZmZmZj9AAAAAAACAP0CamZmZmZk/QDQzMzMzsz9AzczMzMzMP0BnZmZmZuY/QAAAAAAAAEBAzczMzMwMQECamZmZmRlAQGdmZmZmJkBAMzMzMzMzQEAAAAAAAEBAQM3MzMzMTEBAmpmZmZlZQEBnZmZmZmZAQDMzMzMzc0BAAAAAAACAQEDNzMzMzIxAQJqZmZmZmUBAZ2ZmZmamQEAzMzMzM7NAQAAAAAAAwEBAzczMzMzMQECamZmZmdlAQGdmZmZm5kBAMzMzMzPzQEAAAAAAAABBQM3MzMzMDEFAmpmZmZkZQUBnZmZmZiZBQDMzMzMzM0FAAAAAAABAQUDNzMzMzExBQJqZmZmZWUFAZ2ZmZmZmQUAzMzMzM3NBQAAAAAAAgEFAzczMzMyMQUCamZmZmZlBQGdmZmZmpkFAMzMzMzOzQUAAAAAAAMBBQM3MzMzMzEFAmpmZmZnZQUBnZmZmZuZBQDMzMzMz80FAAAAAAAAAQkDNzMzMzAxCQJqZmZmZGUJAZ2ZmZmYmQkAzMzMzMzNCQAAAAAAAQEJAzczMzMxMQkCamZmZmVlCQGdmZmZmZkJAMzMzMzNzQkAAAAAAAIBCQM3MzMzMjEJAmpmZmZmZQkBnZmZmZqZCQDMzMzMzs0JAAAAAAADAQkDNzMzMzMxCQJqZmZmZ2UJAZ2ZmZmbmQkAzMzMzM/NCQAAAAAAAAENAzczMzMwMQ0CamZmZmRlDQGdmZmZmJkNANDMzMzMzQ0AAAAAAAEBDQM3MzMzMTENAmpmZmZlZQ0BnZmZmZmZDQDQzMzMzc0NAAAAAAACAQ0DNzMzMzIxDQJqZmZmZmUNAZ2ZmZmamQ0A0MzMzM7NDQAAAAAAAwENAzczMzMzMQ0CamZmZmdlDQGdmZmZm5kNANDMzMzPzQ0AAAAAAAABEQA==\",\"dtype\":\"float64\",\"order\":\"little\",\"shape\":[401]},\"y\":{\"__ndarray__\":\"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\",\"dtype\":\"float64\",\"order\":\"little\",\"shape\":[401]}},\"selected\":{\"id\":\"3981\"},\"selection_policy\":{\"id\":\"3980\"}},\"id\":\"3739\",\"type\":\"ColumnDataSource\"},{\"attributes\":{\"coordinates\":null,\"formatter\":{\"id\":\"3969\"},\"group\":null,\"major_label_policy\":{\"id\":\"3970\"},\"major_label_text_font_size\":\"10pt\",\"ticker\":{\"id\":\"3691\"}},\"id\":\"3690\",\"type\":\"LinearAxis\"},{\"attributes\":{\"bottom_units\":\"screen\",\"coordinates\":null,\"fill_alpha\":0.5,\"fill_color\":\"lightgrey\",\"group\":null,\"left_units\":\"screen\",\"level\":\"overlay\",\"line_alpha\":1.0,\"line_color\":\"black\",\"line_dash\":[4,4],\"line_width\":2,\"right_units\":\"screen\",\"syncable\":false,\"top_units\":\"screen\"},\"id\":\"3700\",\"type\":\"BoxAnnotation\"},{\"attributes\":{\"coordinates\":null,\"formatter\":{\"id\":\"3972\"},\"group\":null,\"major_label_policy\":{\"id\":\"3973\"},\"major_label_text_font_size\":\"10pt\",\"ticker\":{\"id\":\"3687\"}},\"id\":\"3686\",\"type\":\"LinearAxis\"},{\"attributes\":{},\"id\":\"3970\",\"type\":\"AllLabels\"},{\"attributes\":{\"coordinates\":null,\"formatter\":{\"id\":\"3978\"},\"group\":null,\"major_label_policy\":{\"id\":\"3979\"},\"major_label_text_font_size\":\"10pt\",\"ticker\":{\"id\":\"3718\"}},\"id\":\"3717\",\"type\":\"LinearAxis\"},{\"attributes\":{\"data\":{\"x\":{\"__ndarray__\":\"AAAAAAAAAACfmoFqBqqZP5+agWoGqqk/9zPhz4Q/sz+fmoFqBqq5P6MAkQJECsA/9zPhz4Q/wz9LZzGdxXTGP5+agWoGqsk/883RN0ffzD+jAJECRArQP00aOWnkpNE/9zPhz4Q/0z+hTYk2JdrUP0tnMZ3FdNY/9YDZA2YP2D+fmoFqBqrZP0m0KdGmRNs/883RN0ff3D+d53me53neP6MAkQJECuA/eA3lNZTX4D9NGjlp5KThPyInjZw0cuI/9zPhz4Q/4z/MQDUD1QzkP6FNiTYl2uQ/dlrdaXWn5T9LZzGdxXTmPyB0hdAVQuc/9YDZA2YP6D/KjS03ttzoP5+agWoGquk/dKfVnVZ36j9JtCnRpkTrPx7BfQT3Eew/883RN0ff7D/I2iVrl6ztP53neZ7nee4/cvTN0TdH7z+jAJECRArwPw4HOxzscPA/eA3lNZTX8D/jE49PPD7xP00aOWnkpPE/uCDjgowL8j8iJ42cNHLyP40tN7bc2PI/9zPhz4Q/8z9iOovpLKbzP8xANQPVDPQ/N0ffHH1z9D+hTYk2Jdr0PwxUM1DNQPU/dlrdaXWn9T/hYIeDHQ72P0tnMZ3FdPY/tm3btm3b9j8gdIXQFUL3P4t6L+q9qPc/9YDZA2YP+D9gh4MdDnb4P8qNLTe23Pg/NZTXUF5D+T+fmoFqBqr5PwmhK4SuEPo/dKfVnVZ3+j/erX+3/t36P0m0KdGmRPs/s7rT6k6r+z8ewX0E9xH8P4jHJx6fePw/883RN0ff/D9d1HtR70X9P8jaJWuXrP0/MuHPhD8T/j+d53me53n+PwfuI7iP4P4/cvTN0TdH/z/c+nfr363/Pw==\",\"dtype\":\"float64\",\"order\":\"little\",\"shape\":[80]},\"y\":{\"__ndarray__\":\"8ixi6QTf0D9rMF5XHfceQLeShLVwTDhANaRECnNXREAyEiQxY6E8QMPV/ADEj4tA7SwlWH6SjEDx7y+2Vz1AQFkLjurE2WZAmi33Wp0RSUDb7H2CGYZ4QOWEDZmsvldAY3+fHk0QUECO9qtdPvlNQLyMAeIWfEJA2L2slLjDK0AwtaJyKrE+QL/cxvPOhxxAX9jhsJ7vS0Bqx81kGnw0QM6YRJUdMjJA8dp03cFvJ0AAhnnduIsrQADcfcTjsjBAen7gkDVAJUAB+2XtsRQkQOD9bsXAECBA7Omd5IIcHECrrJ7ZWkMdQGmvE5bsSxdAi4b7CxuZGEBPOlplcckUQLBs1+81OBZAk+fwSfZ5EkCmoOLaocsQQCPavymPOBFAlmGRCmTaDEBWxtEOksULQHL0cPlTdAtAvSvHhe9PCUDRovinEy0IQHEqOdyTnARAeJUXftQ7BUBLkswwZNwGQOBfcE5OuAJAhPPkcURHA0DD7zxMLEkDQGlrkPK/zgFAFY2ZqDVDAEAG7Hr08Nb9P1A8Eg8MNvw/k+4+arvq/z9FD2rPSOf7P9qkXkECGfs/TnTPDSwN+T8hUrGsL5L3P/27OedXaPc/6aMAZOv/9T/XWroID7P3P9rk/9aZXvU/lW/D7pFz9D+oK9r9ULP2P+Ty3aRYe/Q/+xYrDt3z8j8TCJ/vuCzyP3cBQQXQrfI/Gs1UpfCH8T+PRsUgvZ7wP7M93y5aw+8/nZeqToys8D/SwRb3lwbwP42B5k5yce4/w33TY2gK7T+zC5ixZwjtPy2Q4NTKee0/ceyNFTdc6z9atX+fUc7qP066V1Ilq+k/DTbT7Oix6D+fOrsqdjPpPw==\",\"dtype\":\"float64\",\"order\":\"little\",\"shape\":[80]}},\"selected\":{\"id\":\"3986\"},\"selection_policy\":{\"id\":\"3985\"}},\"id\":\"3745\",\"type\":\"ColumnDataSource\"},{\"attributes\":{},\"id\":\"3684\",\"type\":\"LinearScale\"},{\"attributes\":{},\"id\":\"3972\",\"type\":\"BasicTickFormatter\"},{\"attributes\":{},\"id\":\"3978\",\"type\":\"BasicTickFormatter\"},{\"attributes\":{},\"id\":\"3682\",\"type\":\"LinearScale\"},{\"attributes\":{},\"id\":\"3987\",\"type\":\"UnionRenderers\"},{\"attributes\":{},\"id\":\"3699\",\"type\":\"HelpTool\"},{\"attributes\":{},\"id\":\"3718\",\"type\":\"BasicTicker\"},{\"attributes\":{},\"id\":\"3687\",\"type\":\"BasicTicker\"},{\"attributes\":{},\"id\":\"3709\",\"type\":\"DataRange1d\"},{\"attributes\":{},\"id\":\"3988\",\"type\":\"Selection\"},{\"attributes\":{\"line_color\":\"orange\",\"line_width\":2,\"x\":{\"field\":\"x\"},\"y\":{\"field\":\"y\"}},\"id\":\"3740\",\"type\":\"Line\"},{\"attributes\":{\"line_alpha\":0.2,\"line_width\":2,\"x\":{\"field\":\"x\"},\"y\":{\"field\":\"y\"}},\"id\":\"3754\",\"type\":\"Line\"},{\"attributes\":{\"bottom_units\":\"screen\",\"coordinates\":null,\"fill_alpha\":0.5,\"fill_color\":\"lightgrey\",\"group\":null,\"left_units\":\"screen\",\"level\":\"overlay\",\"line_alpha\":1.0,\"line_color\":\"black\",\"line_dash\":[4,4],\"line_width\":2,\"right_units\":\"screen\",\"syncable\":false,\"top_units\":\"screen\"},\"id\":\"3731\",\"type\":\"BoxAnnotation\"},{\"attributes\":{\"coordinates\":null,\"data_source\":{\"id\":\"3757\"},\"glyph\":{\"id\":\"3758\"},\"group\":null,\"hover_glyph\":null,\"muted_glyph\":{\"id\":\"3760\"},\"nonselection_glyph\":{\"id\":\"3759\"},\"view\":{\"id\":\"3762\"}},\"id\":\"3761\",\"type\":\"GlyphRenderer\"},{\"attributes\":{\"coordinates\":null,\"group\":null},\"id\":\"3966\",\"type\":\"Title\"},{\"attributes\":{\"data\":{\"x\":{\"__ndarray__\":\"AAAAAAAAAACamZmZmZm5P5qZmZmZmck/NDMzMzMz0z+amZmZmZnZPwAAAAAAAOA/NDMzMzMz4z9nZmZmZmbmP5qZmZmZmek/zczMzMzM7D8AAAAAAADwP5qZmZmZmfE/NDMzMzMz8z/NzMzMzMz0P2dmZmZmZvY/AAAAAAAA+D+amZmZmZn5PzQzMzMzM/s/zczMzMzM/D9nZmZmZmb+PwAAAAAAAABAzczMzMzMAECamZmZmZkBQGdmZmZmZgJANDMzMzMzA0AAAAAAAAAEQM3MzMzMzARAmpmZmZmZBUBnZmZmZmYGQDQzMzMzMwdAAAAAAAAACEDNzMzMzMwIQJqZmZmZmQlAZ2ZmZmZmCkA0MzMzMzMLQAAAAAAAAAxAzczMzMzMDECamZmZmZkNQGdmZmZmZg5ANDMzMzMzD0AAAAAAAAAQQGdmZmZmZhBAzczMzMzMEEAzMzMzMzMRQJqZmZmZmRFAAAAAAAAAEkBnZmZmZmYSQM3MzMzMzBJANDMzMzMzE0CamZmZmZkTQAAAAAAAABRAZ2ZmZmZmFEDNzMzMzMwUQDQzMzMzMxVAmpmZmZmZFUAAAAAAAAAWQGdmZmZmZhZAzczMzMzMFkA0MzMzMzMXQJqZmZmZmRdAAAAAAAAAGEBnZmZmZmYYQM3MzMzMzBhANDMzMzMzGUCamZmZmZkZQAAAAAAAABpAZ2ZmZmZmGkDNzMzMzMwaQDQzMzMzMxtAmpmZmZmZG0AAAAAAAAAcQGdmZmZmZhxAzczMzMzMHEA0MzMzMzMdQJqZmZmZmR1AAAAAAAAAHkBnZmZmZmYeQM3MzMzMzB5ANDMzMzMzH0CamZmZmZkfQAAAAAAAACBAMzMzMzMzIEBnZmZmZmYgQJqZmZmZmSBAzczMzMzMIEAAAAAAAAAhQDMzMzMzMyFAZ2ZmZmZmIUCamZmZmZkhQM3MzMzMzCFAAAAAAAAAIkAzMzMzMzMiQGdmZmZmZiJAmpmZmZmZIkDNzMzMzMwiQAAAAAAAACNANDMzMzMzI0BnZmZmZmYjQJqZmZmZmSNAzczMzMzMI0AAAAAAAAAkQDQzMzMzMyRAZ2ZmZmZmJECamZmZmZkkQM3MzMzMzCRAAAAAAAAAJUA0MzMzMzMlQGdmZmZmZiVAmpmZmZmZJUDNzMzMzMwlQAAAAAAAACZANDMzMzMzJkBnZmZmZmYmQJqZmZmZmSZAzczMzMzMJkAAAAAAAAAnQDQzMzMzMydAZ2ZmZmZmJ0CamZmZmZknQM3MzMzMzCdAAAAAAAAAKEA0MzMzMzMoQGdmZmZmZihAmpmZmZmZKEDNzMzMzMwoQAAAAAAAAClANDMzMzMzKUBnZmZmZmYpQJqZmZmZmSlAzczMzMzMKUAAAAAAAAAqQDQzMzMzMypAZ2ZmZmZmKkCamZmZmZkqQM3MzMzMzCpAAAAAAAAAK0A0MzMzMzMrQGdmZmZmZitAmpmZmZmZK0DNzMzMzMwrQAAAAAAAACxANDMzMzMzLEBnZmZmZmYsQJqZmZmZmSxAzczMzMzMLEAAAAAAAAAtQDQzMzMzMy1AZ2ZmZmZmLUCamZmZmZktQM3MzMzMzC1AAAAAAAAALkA0MzMzMzMuQGdmZmZmZi5AmpmZmZmZLkDNzMzMzMwuQAAAAAAAAC9ANDMzMzMzL0BnZmZmZmYvQJqZmZmZmS9AzczMzMzML0AAAAAAAAAwQJqZmZmZGTBAMzMzMzMzMEDNzMzMzEwwQGdmZmZmZjBAAAAAAACAMECamZmZmZkwQDMzMzMzszBAzczMzMzMMEBnZmZmZuYwQAAAAAAAADFAmpmZmZkZMUAzMzMzMzMxQM3MzMzMTDFAZ2ZmZmZmMUAAAAAAAIAxQJqZmZmZmTFAMzMzMzOzMUDNzMzMzMwxQGdmZmZm5jFAAAAAAAAAMkCamZmZmRkyQDMzMzMzMzJAzczMzMxMMkBnZmZmZmYyQAAAAAAAgDJAmpmZmZmZMkAzMzMzM7MyQM3MzMzMzDJAZ2ZmZmbmMkAAAAAAAAAzQJqZmZmZGTNANDMzMzMzM0DNzMzMzEwzQGdmZmZmZjNAAAAAAACAM0CamZmZmZkzQDQzMzMzszNAzczMzMzMM0BnZmZmZuYzQAAAAAAAADRAmpmZmZkZNEA0MzMzMzM0QM3MzMzMTDRAZ2ZmZmZmNEAAAAAAAIA0QJqZmZmZmTRANDMzMzOzNEDNzMzMzMw0QGdmZmZm5jRAAAAAAAAANUCamZmZmRk1QDQzMzMzMzVAzczMzMxMNUBnZmZmZmY1QAAAAAAAgDVAmpmZmZmZNUA0MzMzM7M1QM3MzMzMzDVAZ2ZmZmbmNUAAAAAAAAA2QJqZmZmZGTZANDMzMzMzNkDNzMzMzEw2QGdmZmZmZjZAAAAAAACANkCamZmZmZk2QDQzMzMzszZAzczMzMzMNkBnZmZmZuY2QAAAAAAAADdAmpmZmZkZN0A0MzMzMzM3QM3MzMzMTDdAZ2ZmZmZmN0AAAAAAAIA3QJqZmZmZmTdANDMzMzOzN0DNzMzMzMw3QGdmZmZm5jdAAAAAAAAAOECamZmZmRk4QDQzMzMzMzhAzczMzMxMOEBnZmZmZmY4QAAAAAAAgDhAmpmZmZmZOEA0MzMzM7M4QM3MzMzMzDhAZ2ZmZmbmOEAAAAAAAAA5QJqZmZmZGTlANDMzMzMzOUDNzMzMzEw5QGdmZmZmZjlAAAAAAACAOUCamZmZmZk5QDQzMzMzszlAzczMzMzMOUBnZmZmZuY5QAAAAAAAADpAmpmZmZkZOkA0MzMzMzM6QM3MzMzMTDpAZ2ZmZmZmOkAAAAAAAIA6QJqZmZmZmTpANDMzMzOzOkDNzMzMzMw6QGdmZmZm5jpAAAAAAAAAO0CamZmZmRk7QDQzMzMzMztAzczMzMxMO0BnZmZmZmY7QAAAAAAAgDtAmpmZmZmZO0A0MzMzM7M7QM3MzMzMzDtAZ2ZmZmbmO0AAAAAAAAA8QJqZmZmZGTxANDMzMzMzPEDNzMzMzEw8QGdmZmZmZjxAAAAAAACAPECamZmZmZk8QDQzMzMzszxAzczMzMzMPEBnZmZmZuY8QAAAAAAAAD1AmpmZmZkZPUA0MzMzMzM9QM3MzMzMTD1AZ2ZmZmZmPUAAAAAAAIA9QJqZmZmZmT1ANDMzMzOzPUDNzMzMzMw9QGdmZmZm5j1AAAAAAAAAPkCamZmZmRk+QDQzMzMzMz5AzczMzMxMPkBnZmZmZmY+QAAAAAAAgD5AmpmZmZmZPkA0MzMzM7M+QM3MzMzMzD5AZ2ZmZmbmPkAAAAAAAAA/QJqZmZmZGT9ANDMzMzMzP0DNzMzMzEw/QGdmZmZmZj9AAAAAAACAP0CamZmZmZk/QDQzMzMzsz9AzczMzMzMP0BnZmZmZuY/QAAAAAAAAEBAzczMzMwMQECamZmZmRlAQGdmZmZmJkBAMzMzMzMzQEAAAAAAAEBAQM3MzMzMTEBAmpmZmZlZQEBnZmZmZmZAQDMzMzMzc0BAAAAAAACAQEDNzMzMzIxAQJqZmZmZmUBAZ2ZmZmamQEAzMzMzM7NAQAAAAAAAwEBAzczMzMzMQECamZmZmdlAQGdmZmZm5kBAMzMzMzPzQEAAAAAAAABBQM3MzMzMDEFAmpmZmZkZQUBnZmZmZiZBQDMzMzMzM0FAAAAAAABAQUDNzMzMzExBQJqZmZmZWUFAZ2ZmZmZmQUAzMzMzM3NBQAAAAAAAgEFAzczMzMyMQUCamZmZmZlBQGdmZmZmpkFAMzMzMzOzQUAAAAAAAMBBQM3MzMzMzEFAmpmZmZnZQUBnZmZmZuZBQDMzMzMz80FAAAAAAAAAQkDNzMzMzAxCQJqZmZmZGUJAZ2ZmZmYmQkAzMzMzMzNCQAAAAAAAQEJAzczMzMxMQkCamZmZmVlCQGdmZmZmZkJAMzMzMzNzQkAAAAAAAIBCQM3MzMzMjEJAmpmZmZmZQkBnZmZmZqZCQDMzMzMzs0JAAAAAAADAQkDNzMzMzMxCQJqZmZmZ2UJAZ2ZmZmbmQkAzMzMzM/NCQAAAAAAAAENAzczMzMwMQ0CamZmZmRlDQGdmZmZmJkNANDMzMzMzQ0AAAAAAAEBDQM3MzMzMTENAmpmZmZlZQ0BnZmZmZmZDQDQzMzMzc0NAAAAAAACAQ0DNzMzMzIxDQJqZmZmZmUNAZ2ZmZmamQ0A0MzMzM7NDQAAAAAAAwENAzczMzMzMQ0CamZmZmdlDQGdmZmZm5kNANDMzMzPzQ0AAAAAAAABEQA==\",\"dtype\":\"float64\",\"order\":\"little\",\"shape\":[401]},\"y\":{\"__ndarray__\":\"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\",\"dtype\":\"float64\",\"order\":\"little\",\"shape\":[401]}},\"selected\":{\"id\":\"3983\"},\"selection_policy\":{\"id\":\"3982\"}},\"id\":\"3751\",\"type\":\"ColumnDataSource\"},{\"attributes\":{\"line_alpha\":0.1,\"line_width\":2,\"x\":{\"field\":\"x\"},\"y\":{\"field\":\"y\"}},\"id\":\"3759\",\"type\":\"Line\"},{\"attributes\":{\"line_alpha\":0.2,\"line_color\":\"orange\",\"line_width\":2,\"x\":{\"field\":\"x\"},\"y\":{\"field\":\"y\"}},\"id\":\"3742\",\"type\":\"Line\"},{\"attributes\":{\"source\":{\"id\":\"3757\"}},\"id\":\"3762\",\"type\":\"CDSView\"},{\"attributes\":{},\"id\":\"3715\",\"type\":\"LinearScale\"},{\"attributes\":{\"line_alpha\":0.2,\"line_width\":2,\"x\":{\"field\":\"x\"},\"y\":{\"field\":\"y\"}},\"id\":\"3760\",\"type\":\"Line\"},{\"attributes\":{\"tools\":[{\"id\":\"3725\"},{\"id\":\"3726\"},{\"id\":\"3727\"},{\"id\":\"3728\"},{\"id\":\"3729\"},{\"id\":\"3730\"}]},\"id\":\"3732\",\"type\":\"Toolbar\"},{\"attributes\":{\"source\":{\"id\":\"3745\"}},\"id\":\"3750\",\"type\":\"CDSView\"},{\"attributes\":{\"source\":{\"id\":\"3751\"}},\"id\":\"3756\",\"type\":\"CDSView\"},{\"attributes\":{\"coordinates\":null,\"group\":null},\"id\":\"3964\",\"type\":\"Title\"},{\"attributes\":{\"line_alpha\":0.1,\"line_color\":\"orange\",\"line_width\":2,\"x\":{\"field\":\"x\"},\"y\":{\"field\":\"y\"}},\"id\":\"3747\",\"type\":\"Line\"},{\"attributes\":{\"line_width\":2,\"x\":{\"field\":\"x\"},\"y\":{\"field\":\"y\"}},\"id\":\"3752\",\"type\":\"Line\"},{\"attributes\":{\"coordinates\":null,\"data_source\":{\"id\":\"3751\"},\"glyph\":{\"id\":\"3752\"},\"group\":null,\"hover_glyph\":null,\"muted_glyph\":{\"id\":\"3754\"},\"nonselection_glyph\":{\"id\":\"3753\"},\"view\":{\"id\":\"3756\"}},\"id\":\"3755\",\"type\":\"GlyphRenderer\"},{\"attributes\":{\"source\":{\"id\":\"3739\"}},\"id\":\"3744\",\"type\":\"CDSView\"},{\"attributes\":{},\"id\":\"3979\",\"type\":\"AllLabels\"},{\"attributes\":{\"line_alpha\":0.2,\"line_color\":\"orange\",\"line_width\":2,\"x\":{\"field\":\"x\"},\"y\":{\"field\":\"y\"}},\"id\":\"3748\",\"type\":\"Line\"},{\"attributes\":{\"line_width\":2,\"x\":{\"field\":\"x\"},\"y\":{\"field\":\"y\"}},\"id\":\"3758\",\"type\":\"Line\"},{\"attributes\":{\"coordinates\":null,\"data_source\":{\"id\":\"3745\"},\"glyph\":{\"id\":\"3746\"},\"group\":null,\"hover_glyph\":null,\"muted_glyph\":{\"id\":\"3748\"},\"nonselection_glyph\":{\"id\":\"3747\"},\"view\":{\"id\":\"3750\"}},\"id\":\"3749\",\"type\":\"GlyphRenderer\"},{\"attributes\":{\"data\":{\"x\":{\"__ndarray__\":\"AAAAAAAAAACfmoFqBqqZP5+agWoGqqk/9zPhz4Q/sz+fmoFqBqq5P6MAkQJECsA/9zPhz4Q/wz9LZzGdxXTGP5+agWoGqsk/883RN0ffzD+jAJECRArQP00aOWnkpNE/9zPhz4Q/0z+hTYk2JdrUP0tnMZ3FdNY/9YDZA2YP2D+fmoFqBqrZP0m0KdGmRNs/883RN0ff3D+d53me53neP6MAkQJECuA/eA3lNZTX4D9NGjlp5KThPyInjZw0cuI/9zPhz4Q/4z/MQDUD1QzkP6FNiTYl2uQ/dlrdaXWn5T9LZzGdxXTmPyB0hdAVQuc/9YDZA2YP6D/KjS03ttzoP5+agWoGquk/dKfVnVZ36j9JtCnRpkTrPx7BfQT3Eew/883RN0ff7D/I2iVrl6ztP53neZ7nee4/cvTN0TdH7z+jAJECRArwPw4HOxzscPA/eA3lNZTX8D/jE49PPD7xP00aOWnkpPE/uCDjgowL8j8iJ42cNHLyP40tN7bc2PI/9zPhz4Q/8z9iOovpLKbzP8xANQPVDPQ/N0ffHH1z9D+hTYk2Jdr0PwxUM1DNQPU/dlrdaXWn9T/hYIeDHQ72P0tnMZ3FdPY/tm3btm3b9j8gdIXQFUL3P4t6L+q9qPc/9YDZA2YP+D9gh4MdDnb4P8qNLTe23Pg/NZTXUF5D+T+fmoFqBqr5PwmhK4SuEPo/dKfVnVZ3+j/erX+3/t36P0m0KdGmRPs/s7rT6k6r+z8ewX0E9xH8P4jHJx6fePw/883RN0ff/D9d1HtR70X9P8jaJWuXrP0/MuHPhD8T/j+d53me53n+PwfuI7iP4P4/cvTN0TdH/z/c+nfr363/Pw==\",\"dtype\":\"float64\",\"order\":\"little\",\"shape\":[80]},\"y\":{\"__ndarray__\":\"7bXhXWr4zz9/I0pGkQwnQHw77F5cQipAeZ/fa3wUS0AxuRbc55c5QPSf7/su8H5Ay7pZgFZGfEASCmu01SBWQNf/O8lEKoxAlgw8QuZkVEBMKauFQUdpQL6ouB/PrFNA2zY5ZFQvOEDUdnNQRCs1QG/P1y76xUtA0ajjzOGiV0ApjL4AhbdAQHo/D70sKDhAOHaYV5W4OUD5b3z3zm0wQCvSL7d0OSpAqJUIM7cWL0AqB01c9l4nQDEyTQr13CJAYNVDijCpIEBtbotifMAgQLoabBq5yBpA+CD4IcJ6F0BLHPHCuCIcQD00p7BHVxdAq7IsE9rqFkCJJX0i7f4RQHZtD9XdJBRA5ecFm3EpEUAuYNbrVNoMQFWV+03Tww9AuaJL2df0CUBdLHowC/kQQLiZL4F4LwlAsqv9WGBTC0CXSPF5ozgHQGPcj5dxSQdAdcKrMMDlBUDeS/kGrP4FQOdJ2YDiwARAT2i1kkaYAkD4+SHU4ysBQIYw+x8JZABAw6txW1J6/j+855wZKdgAQHjtgPjCMf8/50p54o4m/T9LprD/jP36P+BxmGFwZPs/MUsjR/j4+D976mdCMx35P38ABjHf3fg/apsv56gJ9z9lXYMYnFr2P44L8YrZtfU/4e8dfL2X9D8DBreHbLjzPzBqqGApKvM/mCR++JBe8z9fLCcqo87yPxPJZ9eGxfE/IjKkGzpj8T+LrpgbcIDwPyJh8Ugdl/A/jvrY8qFl7z/h2VN1PfDuP+sqLXLCoO0/Sp8LIRAC7T9YVBEFdS7sP7ICwpDESus/VoAr3xmH6j9AT23HfCbqP1rnF/ItpOk/t5THkzwQ6T/zgHNFzYPoPw==\",\"dtype\":\"float64\",\"order\":\"little\",\"shape\":[80]}},\"selected\":{\"id\":\"3988\"},\"selection_policy\":{\"id\":\"3987\"}},\"id\":\"3757\",\"type\":\"ColumnDataSource\"},{\"attributes\":{\"line_alpha\":0.1,\"line_color\":\"orange\",\"line_width\":2,\"x\":{\"field\":\"x\"},\"y\":{\"field\":\"y\"}},\"id\":\"3741\",\"type\":\"Line\"},{\"attributes\":{\"coordinates\":null,\"data_source\":{\"id\":\"3739\"},\"glyph\":{\"id\":\"3740\"},\"group\":null,\"hover_glyph\":null,\"muted_glyph\":{\"id\":\"3742\"},\"nonselection_glyph\":{\"id\":\"3741\"},\"view\":{\"id\":\"3744\"}},\"id\":\"3743\",\"type\":\"GlyphRenderer\"},{\"attributes\":{\"line_alpha\":0.1,\"line_width\":2,\"x\":{\"field\":\"x\"},\"y\":{\"field\":\"y\"}},\"id\":\"3753\",\"type\":\"Line\"}],\"root_ids\":[\"3763\"]},\"title\":\"Bokeh Application\",\"version\":\"2.4.1\"}};\n",
       "  const render_items = [{\"docid\":\"66265de4-64a1-471b-a84d-29db8ca9989f\",\"root_ids\":[\"3763\"],\"roots\":{\"3763\":\"144f3e2a-1554-43f5-be77-c2bbc53b7362\"}}];\n",
       "  root.Bokeh.embed.embed_items_notebook(docs_json, render_items);\n",
       "\n",
       "  }\n",
       "  if (root.Bokeh !== undefined) {\n",
       "    embed_document(root);\n",
       "  } else {\n",
       "    let attempts = 0;\n",
       "    const timer = setInterval(function(root) {\n",
       "      if (root.Bokeh !== undefined) {\n",
       "        clearInterval(timer);\n",
       "        embed_document(root);\n",
       "      } else {\n",
       "        attempts++;\n",
       "        if (attempts > 100) {\n",
       "          clearInterval(timer);\n",
       "          console.log(\"Bokeh: ERROR: Unable to run BokehJS code because BokehJS library is missing\");\n",
       "        }\n",
       "      }\n",
       "    }, 10, root)\n",
       "  }\n",
       "})(window);"
      ],
      "application/vnd.bokehjs_exec.v0+json": ""
     },
     "metadata": {
      "application/vnd.bokehjs_exec.v0+json": {
       "id": "3763"
      }
     },
     "output_type": "display_data"
    }
   ],
   "source": [
    "fig_size = [400, 200] # for paper size (144, 110) # for larger size (144,144)\n",
    "x_range = (0, time_points[-1])\n",
    "y_range = (0, 200)\n",
    "\n",
    "plots = []\n",
    "for i in range(2):\n",
    "    plots.append(bokeh.plotting.figure(plot_width=fig_size[0], plot_height=fig_size[1],\n",
    "                          #x_range=x_range,y_range=y_range\n",
    "                          ),)\n",
    "    plots[i].axis.major_label_text_font_size = \"10pt\"\n",
    "\n",
    "dt = time_points[1] - time_points[0]\n",
    "\n",
    "y1 = samples[0,:,10] # samples[:,:,10][0]\n",
    "y1s = y1 - y1.mean()\n",
    "lags, auto_corr = correlate(y1s, y1s, dt)\n",
    "f,Mf = FFT(lags, auto_corr, (0, 2))\n",
    "\n",
    "plots[0].line(lags, auto_corr, line_width=2, alpha= 1, line_join=\"bevel\",color=\"orange\")\n",
    "plots[1].line(f, Mf, line_width=2, alpha= 1, line_join=\"bevel\",color=\"orange\")\n",
    "\n",
    "y1 = samples[0,:,13] # samples[:,:,10][0]\n",
    "y1s = y1 - y1.mean()\n",
    "lags, auto_corr = correlate(y1s, y1s, dt)\n",
    "f,Mf = FFT(lags, auto_corr, (0, 2))\n",
    "\n",
    "plots[0].line(lags, auto_corr, line_width=2, alpha= 1, line_join=\"bevel\",color=\"black\")\n",
    "plots[1].line(f, Mf, line_width=2, alpha= 1, line_join=\"bevel\",color=\"black\")\n",
    "\n",
    "bokeh.io.show(bokeh.layouts.row(plots))"
   ]
  },
  {
   "cell_type": "code",
   "execution_count": null,
   "metadata": {
    "id": "gIq0JFaxvREs"
   },
   "outputs": [],
   "source": [
    "# Specify parameters for calculation\n",
    "n = 1 # copy number of promoter\n",
    "th = .1*600/n # 1/h\n",
    "rh = 80 # 1/h\n",
    "ph = 0.6931/10*60 # 1/h log(2)=0.6931\n",
    "d = 0.6931/30*60 # 1/h log(2)=0.6931\n",
    "g = 2.1*36 # 1/uM/h \n",
    "gd = g*0.01 # 1/h\n",
    "r = 5 # 1/h Switching rate\n",
    "a0 = 2.1*36\n",
    "d0 = 0.2*a0\n",
    "\n",
    "Omega = 600 # 600\n",
    "size = 250\n",
    "#dir = \"/content/drive/My Drive/Research/2022/RecombinaseOscillator/\"\n",
    "f_name = dir+\"Nodel_1_Data_\"+str(size)+\".npy\"\n",
    "\n",
    "args = (th, rh, ph, d, g, gd, a0, d0, r, Omega, n)\n",
    "time_points = np.linspace(0, 40, 401)\n",
    "population_0 = np.zeros(15, dtype=int)\n",
    "population_0[0] = n\n",
    "\n",
    "if os.path.exists(f_name):\n",
    "    samples = np.load(f_name)\n",
    "else:\n",
    "    samples = biocircuits.gillespie_ssa(simple_propensity, simple_update, population_0,time_points, size=size, args=args, n_threads=2,progress_bar=False)\n",
    "    #np.savetxt(f_name, samples, fmt='%d')\n",
    "    np.save(f_name, samples)\n"
   ]
  },
  {
   "cell_type": "code",
   "execution_count": null,
   "metadata": {
    "id": "p9TmQcH5mma5"
   },
   "outputs": [],
   "source": [
    "# This function finds the time of the peak\n",
    "def FindPicks(t,samples):\n",
    "    ys = samples - samples.mean()\n",
    "    lags, auto_corr = correlate(ys, ys, t[1]-t[0])\n",
    "    max_id = argrelextrema(auto_corr, np.greater)\n",
    "    return t[max_id[0][0:4]]"
   ]
  },
  {
   "cell_type": "code",
   "execution_count": null,
   "metadata": {
    "id": "BaoCDS_fnnLY"
   },
   "outputs": [],
   "source": [
    "t_peaks = FindPicks(time_points,samples[0,:,10])\n",
    "for i in range(1,samples.shape[0]):\n",
    "    t_peaks = np.vstack((t_peaks,FindPicks(time_points,samples[i,:,10])))\n",
    "\n",
    "#print(tmp)"
   ]
  },
  {
   "cell_type": "code",
   "execution_count": null,
   "metadata": {
    "id": "yz1UOcgir_kU"
   },
   "outputs": [],
   "source": [
    "fig_size = [300, 200] # for paper size (144, 110) # for larger size (144,144)\n",
    "x_range = (0, time_points[-1])\n",
    "y_range = (0, 200)\n",
    "\n",
    "plots = []\n",
    "for i in range(3):\n",
    "    plots.append(bokeh.plotting.figure(plot_width=fig_size[0], plot_height=fig_size[1],\n",
    "                          #x_range=x_range,y_range=y_range\n",
    "                          ),)\n",
    "    plots[i].axis.major_label_text_font_size = \"10pt\"\n",
    "\n",
    "x = np.linspace(0,20,41)\n",
    "\n",
    "for j in range(3):\n",
    "    hist, bin_edges = np.histogram(t_peaks[:,j], x, density=True)\n",
    "    plots[j].quad(top=hist, bottom=0, left=bin_edges[:-1], right=bin_edges[1:],fill_color=\"grey\", line_color=\"grey\", fill_alpha=0.2,line_alpha=0.)\n",
    "    plots[j].step(bin_edges[:-1],hist, line_width=2, mode=\"after\", color = \"grey\")\n",
    "\n",
    "bokeh.io.show(bokeh.layouts.row(plots))"
   ]
  },
  {
   "cell_type": "code",
   "execution_count": 9,
   "metadata": {
    "executionInfo": {
     "elapsed": 162,
     "status": "ok",
     "timestamp": 1652483259557,
     "user": {
      "displayName": "Christian Cuba",
      "userId": "05812622177105967845"
     },
     "user_tz": 240
    },
    "id": "8-pcHov6F58J"
   },
   "outputs": [],
   "source": [
    "# This function finds the Delta T between peak times\n",
    "def FindDeltaT(t,samples):\n",
    "    ys = samples - samples.mean()\n",
    "    lags, auto_corr = correlate(ys, ys, t[1]-t[0])\n",
    "    max_id = argrelextrema(auto_corr, np.greater)\n",
    "    return t[max_id[0][1:5]]-t[max_id[0][0]]"
   ]
  },
  {
   "cell_type": "code",
   "execution_count": null,
   "metadata": {
    "id": "gC_TCHbJysdl"
   },
   "outputs": [],
   "source": [
    "Delta_T = FindDeltaT(time_points,samples[0,:,10])\n",
    "for i in range(1,samples.shape[0]):\n",
    "    Delta_T = np.vstack((Delta_T,FindDeltaT(time_points,samples[i,:,10])))"
   ]
  },
  {
   "cell_type": "code",
   "execution_count": null,
   "metadata": {
    "id": "z5LeyEZcyvQ1"
   },
   "outputs": [],
   "source": [
    "fig_size = [300, 200] # for paper size (144, 110) # for larger size (144,144)\n",
    "x_range = (0, time_points[-1])\n",
    "y_range = (0, 200)\n",
    "\n",
    "plots = []\n",
    "for i in range(3):\n",
    "    plots.append(bokeh.plotting.figure(plot_width=fig_size[0], plot_height=fig_size[1],\n",
    "                          #x_range=x_range,y_range=y_range\n",
    "                          ),)\n",
    "    plots[i].axis.major_label_text_font_size = \"10pt\"\n",
    "\n",
    "x = np.linspace(0,20,41)\n",
    "\n",
    "for j in range(3):\n",
    "    hist, bin_edges = np.histogram(Delta_T[:,j], x, density=True)\n",
    "    plots[j].quad(top=hist, bottom=0, left=bin_edges[:-1], right=bin_edges[1:],fill_color=\"grey\", line_color=\"grey\", fill_alpha=0.2,line_alpha=0.)\n",
    "    plots[j].step(bin_edges[:-1],hist, line_width=2, mode=\"after\", color = \"grey\")\n",
    "\n",
    "bokeh.io.show(bokeh.layouts.row(plots))"
   ]
  },
  {
   "cell_type": "code",
   "execution_count": null,
   "metadata": {
    "id": "RPHurCE6zQX8"
   },
   "outputs": [],
   "source": [
    "# Computing the peak vs the variance\n",
    "\n",
    "fig_size = [300, 200] # for paper size (144, 110) # for larger size (144,144)\n",
    "x_range = (0, time_points[-1])\n",
    "y_range = (0, 200)\n",
    "\n",
    "plots = []\n",
    "for i in range(1):\n",
    "    plots.append(bokeh.plotting.figure(plot_width=fig_size[0], plot_height=fig_size[1],\n",
    "                          #x_range=x_range,y_range=y_range\n",
    "                          ),)\n",
    "    plots[i].axis.major_label_text_font_size = \"10pt\"\n",
    "\n",
    "vx = range(1,5)\n",
    "vy = np.var(Delta_T, axis=0)\n",
    "\n",
    "plots[0].circle(vx,vy, line_width=2)\n",
    "\n",
    "L_eq = np.polyfit(vx,vy,1)\n",
    "plots[0].line(vx, np.poly1d(L_eq)(vx), line_width=2, alpha= 0.5, line_join=\"bevel\",color=\"grey\")\n",
    "\n",
    "bokeh.io.show(bokeh.layouts.row(plots))"
   ]
  },
  {
   "cell_type": "code",
   "execution_count": null,
   "metadata": {
    "id": "knalF4eVAqxI"
   },
   "outputs": [],
   "source": [
    "L_eq"
   ]
  },
  {
   "cell_type": "code",
   "execution_count": null,
   "metadata": {
    "colab": {
     "base_uri": "https://localhost:8080/"
    },
    "executionInfo": {
     "elapsed": 180,
     "status": "ok",
     "timestamp": 1651707135525,
     "user": {
      "displayName": "Christian Cuba",
      "userId": "05812622177105967845"
     },
     "user_tz": 240
    },
    "id": "dbiQvnVC4zNb",
    "outputId": "b8dc7058-c0a2-4845-979f-7649ceeca9ed"
   },
   "outputs": [
    {
     "name": "stdout",
     "output_type": "stream",
     "text": [
      "[[ 0.00000000e+00  2.50000000e-01  3.33333333e-01  5.00000000e-01\n",
      "   1.00000000e+00  2.00000000e+00  3.00000000e+00  4.00000000e+00]\n",
      " [ 0.00000000e+00 -1.26000000e-01  1.06850000e+00  2.88062500e-01\n",
      "   1.06062500e-01  2.14500000e-01  1.11125000e+00  7.46250000e-02]\n",
      " [ 1.00000000e+00  2.36312500e+00  1.52500000e-02  3.18950000e+00\n",
      "  -4.59375000e-02 -7.28125000e-02 -1.51812500e-01  3.11562500e-01]\n",
      " [ 2.00000000e+00  1.38437500e-01  1.23687500e-01  1.37943750e+00\n",
      "   2.58750000e-01  4.00625000e-02  1.06100000e+00  6.19750000e-01]\n",
      " [ 3.00000000e+00  4.81312500e-01  8.29437500e-01  8.20312500e-01\n",
      "  -6.74375000e-02 -1.79375000e-02  7.50062500e-01  1.26312500e-01]\n",
      " [ 4.00000000e+00  4.85000000e-01 -1.41062500e-01  3.98750000e-01\n",
      "   2.58993750e+00  5.10312500e-01  5.95937500e-01  1.67687500e-01]\n",
      " [ 5.00000000e+00  1.49843750e+00  4.13150000e+00  1.60750000e-01\n",
      "   4.79875000e-01  9.69375000e-01  1.29456250e+00  9.17500000e-01]\n",
      " [ 6.00000000e+00  2.81250000e-03  1.17250000e-01  1.10187500e-01\n",
      "   3.14250000e-01  6.41437500e-01  7.36500000e-01  5.72250000e-01]\n",
      " [ 7.00000000e+00  1.27175000e+00  4.50450000e+00  4.84500000e-01\n",
      "   4.66250000e-01  4.03937500e-01  4.89187500e-01 -8.00000000e-03]]\n"
     ]
    }
   ],
   "source": [
    "# Specify parameters for calculation\n",
    "n = 1 # copy number of promoter\n",
    "th = 0.3*60/n # 1/h\n",
    "rh = 80 # 1/h\n",
    "ph = 0.6931/10*60 # 1/h log(2)=0.6931\n",
    "d = 0.6931/30*60 # 1/h log(2)=0.6931\n",
    "g = 2.1*36 # 1/uM/h \n",
    "gd = g*0.01 # 1/h\n",
    "r = 5 # 1/h Switching rate\n",
    "a0 = 2.1*36/2\n",
    "d0 = 0.1*a0\n",
    "\n",
    "b = 0.3*60/n\n",
    "rh2 = 80\n",
    "aR = 2.1*36/2\n",
    "dR = 0.05*aR\n",
    "\n",
    "Omega = 600 # 600\n",
    "size = 2\n",
    "state = 10 # 10 (recombinase 1) or 13 (recombinase 2)\n",
    "\n",
    "args = (th, rh, ph, d, g, gd, a0, d0, r, b, rh2, aR, dR, Omega, n)\n",
    "\n",
    "time_points = np.linspace(0, 40, 401)\n",
    "population_0 = np.zeros(23, dtype=int)\n",
    "population_0[0] = n\n",
    "population_0[17] = n\n",
    "population_0[21] = n\n",
    "\n",
    "#param = (0,1,2)\n",
    "param = range(0,8)\n",
    "scale = (1./4, 1./3, 1./2, 1., 2.,3., 4.)\n",
    "vx = range(1,5)\n",
    "\n",
    "out = np.array((0., 1./4, 1./3, 1./2, 1., 2., 3., 4.))\n",
    "\n",
    "#dir = \"/content/drive/My Drive/Research/2022/RecombinaseOscillator/\"\n",
    "f_name2 = dir+\"Model_1_AllSensitivity_\"+str(size)+\".npy\"\n",
    "\n",
    "if os.path.exists(f_name2):\n",
    "    out = np.load(f_name2)\n",
    "    idx = param.index(out[-1,0])+1\n",
    "else:\n",
    "    idx = 0\n",
    "\n",
    "if idx<len(param):\n",
    "    for par in param[idx:]:\n",
    "        print(par)\n",
    "        tmp = np.array((par))\n",
    "        args_i = np.array((th, rh, ph, d, g, gd, a0, d0, r, b, rh2, aR, dR, Omega, n))\n",
    "        for fac in scale:\n",
    "            # Update model para\n",
    "            args_i[par] = args[par]*fac\n",
    "            samples = biocircuits.gillespie_ssa(simple_propensity, simple_update, population_0,time_points, size=size, args=tuple(args_i), n_threads=2,progress_bar=False)\n",
    "\n",
    "            # Stack T1, T2, T3, T4\n",
    "            Delta_T = FindDeltaT(time_points,samples[0,:,state])\n",
    "            for i in range(1,samples.shape[0]):\n",
    "                Delta_T = np.vstack((Delta_T,FindDeltaT(time_points,samples[i,:,state])))\n",
    "\n",
    "            # Compute variance and find slope (incoherent metric)\n",
    "            vy = np.var(Delta_T, axis=0)\n",
    "            L_eq = np.polyfit(vx,vy,1)\n",
    "            tmp = np.append(tmp,L_eq[0])\n",
    "    \n",
    "        out = np.vstack((out,tmp))\n",
    "        np.save(f_name2, out)\n",
    "\n",
    "print(out)"
   ]
  },
  {
   "cell_type": "code",
   "execution_count": 2,
   "metadata": {
    "colab": {
     "base_uri": "https://localhost:8080/"
    },
    "executionInfo": {
     "elapsed": 1846502,
     "status": "ok",
     "timestamp": 1652498525794,
     "user": {
      "displayName": "Christian Cuba",
      "userId": "05812622177105967845"
     },
     "user_tz": 240
    },
    "id": "NuhGPSAdS7qI",
    "outputId": "fda3f384-caa3-4b0d-b2d9-bcd2c8fef2d7"
   },
   "outputs": [
    {
     "name": "stdout",
     "output_type": "stream",
     "text": [
      "[[ 0.          0.25        0.33333333  0.5         1.          2.\n",
      "   3.          4.        ]\n",
      " [ 1.         12.03290663 10.54425464 12.42348689  8.68260841  4.71456005\n",
      "   4.04717043  3.65602615]\n",
      " [ 3.          9.41479525 10.09398884 11.22303546  8.46473911  5.4900632\n",
      "   9.51609233 11.20182837]\n",
      " [ 4.          9.82380136  8.46406188  8.82550761  8.78427299  8.26447161\n",
      "   8.78549634  7.95531878]\n",
      " [ 6.          9.54431382  9.99483565 12.17541113  7.98839735  5.6918772\n",
      "   4.86847628  5.37264648]\n",
      " [ 8.         10.21990034 10.49381026  9.99069004  7.85684799  8.04864448\n",
      "   6.74393535  5.6401328 ]\n",
      " [10.          8.64467448  8.29104224  8.93066057  8.09947199  9.10999945\n",
      "   7.67858013  8.70039487]\n",
      " [11.          8.00940501  8.36563371  8.21068786  8.69248714  8.09439318\n",
      "   8.7312803   7.58105576]]\n"
     ]
    }
   ],
   "source": [
    "# Specify parameters for calculation\n",
    "n = 1 # copy number of promoter\n",
    "th = 0.3*60/n # 1/h\n",
    "rh = 80 # 1/h\n",
    "ph = 0.6931/10*60 # 1/h log(2)=0.6931\n",
    "d = 0.6931/30*60 # 1/h log(2)=0.6931\n",
    "g = 2.1*36 # 1/uM/h \n",
    "gd = g*0.01 # 1/h\n",
    "r = 5 # 1/h Switching rate\n",
    "a0 = 2.1*36\n",
    "d0 = 0.1*a0\n",
    "\n",
    "b = 0.3*60/n\n",
    "rh2 = 80\n",
    "aR = 2.1*36\n",
    "dR = 0.05*aR\n",
    "\n",
    "Omega = 600 # 600\n",
    "size = 500\n",
    "state = 13 # 10 (recombinase 1) or 13 (recombinase 2)\n",
    "\n",
    "args = (th, rh, ph, d, g, gd, a0, d0, r, b, rh2, aR, dR, Omega, n)\n",
    "\n",
    "time_points = np.linspace(0, 40, 401)\n",
    "population_0 = np.zeros(23, dtype=int)\n",
    "population_0[0] = n\n",
    "population_0[17] = n\n",
    "population_0[21] = n\n",
    "\n",
    "param = (1,3,4,6,8, 10, 11)\n",
    "#param = range(0,8)\n",
    "scale = (1./4, 1./3, 1./2, 1., 2.,3., 4.)\n",
    "vx = range(1,5)\n",
    "\n",
    "out = np.array((0., 1./4, 1./3, 1./2, 1., 2., 3., 4.))\n",
    "\n",
    "#dir = \"/content/drive/My Drive/Research/2022/RecombinaseOscillator/\"\n",
    "f_name2 = dir+\"Model_1_AllSensitivity_\"+str(size)+\".npy\"\n",
    "\n",
    "if os.path.exists(f_name2):\n",
    "    out = np.load(f_name2)\n",
    "    idx = param.index(out[-1,0])+1\n",
    "else:\n",
    "    idx = 0\n",
    "\n",
    "if idx<len(param):\n",
    "    for par in param[idx:]:\n",
    "        print(par)\n",
    "        tmp = np.array((par))\n",
    "        args_i = np.array((th, rh, ph, d, g, gd, a0, d0, r, b, rh2, aR, dR, Omega, n))\n",
    "        for fac in scale:\n",
    "            # Update model para\n",
    "            args_i[par] = args[par]*fac\n",
    "            ii = 0\n",
    "            Delta_T = np.array((0.,0.,0.,0.))\n",
    "            while ii<size+1:\n",
    "                samples = biocircuits.gillespie_ssa(simple_propensity, simple_update, population_0,time_points, size=1, args=tuple(args_i), n_threads=1,progress_bar=False)\n",
    "                try:\n",
    "                    tmp_0 = FindDeltaT(time_points,samples[0,:,state])\n",
    "                    if len(tmp_0) == 4:\n",
    "                        Delta_T = np.vstack((Delta_T,tmp_0[0:4]))\n",
    "                        ii = ii + 1\n",
    "                except: tmp_0 = 0\n",
    "\n",
    "            # Compute variance and find slope (incoherent metric)\n",
    "            vy = np.var(Delta_T[1:,:], axis=0)\n",
    "            L_eq = np.polyfit(vx,vy,1)\n",
    "            tmp = np.append(tmp,L_eq[0])\n",
    "    \n",
    "        out = np.vstack((out,tmp))\n",
    "        np.save(f_name2, out)\n",
    "\n",
    "print(out)"
   ]
  },
  {
   "cell_type": "code",
   "execution_count": 3,
   "metadata": {
    "colab": {
     "base_uri": "https://localhost:8080/",
     "height": 132
    },
    "executionInfo": {
     "elapsed": 863,
     "status": "ok",
     "timestamp": 1652499293896,
     "user": {
      "displayName": "Christian Cuba",
      "userId": "05812622177105967845"
     },
     "user_tz": 240
    },
    "id": "KW7GwDcXWeru",
    "outputId": "79dd14af-a72c-4633-c046-db158b764a0d"
   },
   "outputs": [
    {
     "data": {
      "text/html": [
       "\n",
       "\n",
       "\n",
       "\n",
       "\n",
       "\n",
       "  <div class=\"bk-root\" id=\"21a2b409-fb7a-45ab-8cf0-6e96b748e25a\" data-root-id=\"2585\"></div>\n"
      ]
     },
     "metadata": {},
     "output_type": "display_data"
    },
    {
     "data": {
      "application/javascript": [
       "(function(root) {\n",
       "  function embed_document(root) {\n",
       "    \n",
       "  const docs_json = {\"c4afa874-ac84-4292-967b-cfc71cad135c\":{\"defs\":[],\"roots\":{\"references\":[{\"attributes\":{\"children\":[{\"id\":\"1003\"},{\"id\":\"1034\"},{\"id\":\"1065\"},{\"id\":\"1096\"},{\"id\":\"1127\"},{\"id\":\"1158\"},{\"id\":\"1189\"}]},\"id\":\"2585\",\"type\":\"Row\"},{\"attributes\":{\"end\":4.2},\"id\":\"1066\",\"type\":\"Range1d\"},{\"attributes\":{},\"id\":\"1055\",\"type\":\"ResetTool\"},{\"attributes\":{\"end\":4.2},\"id\":\"1159\",\"type\":\"Range1d\"},{\"attributes\":{},\"id\":\"1118\",\"type\":\"HelpTool\"},{\"attributes\":{\"coordinates\":null,\"formatter\":{\"id\":\"1433\"},\"group\":null,\"major_label_policy\":{\"id\":\"1434\"},\"major_label_text_font_size\":\"10pt\",\"ticker\":{\"id\":\"1044\"}},\"id\":\"1043\",\"type\":\"LinearAxis\"},{\"attributes\":{\"axis\":{\"id\":\"1109\"},\"coordinates\":null,\"dimension\":1,\"group\":null,\"ticker\":null},\"id\":\"1112\",\"type\":\"Grid\"},{\"attributes\":{\"below\":[{\"id\":\"1136\"}],\"center\":[{\"id\":\"1139\"},{\"id\":\"1143\"}],\"height\":115,\"left\":[{\"id\":\"1140\"}],\"output_backend\":\"svg\",\"renderers\":[{\"id\":\"2004\"},{\"id\":\"2010\"}],\"title\":{\"id\":\"2012\"},\"toolbar\":{\"id\":\"1151\"},\"width\":144,\"x_range\":{\"id\":\"1128\"},\"x_scale\":{\"id\":\"1132\"},\"y_range\":{\"id\":\"1130\"},\"y_scale\":{\"id\":\"1134\"}},\"id\":\"1127\",\"subtype\":\"Figure\",\"type\":\"Plot\"},{\"attributes\":{\"coordinates\":null,\"formatter\":{\"id\":\"1430\"},\"group\":null,\"major_label_policy\":{\"id\":\"1431\"},\"major_label_text_font_size\":\"10pt\",\"ticker\":{\"id\":\"1048\"}},\"id\":\"1047\",\"type\":\"LinearAxis\"},{\"attributes\":{\"end\":20},\"id\":\"1161\",\"type\":\"Range1d\"},{\"attributes\":{\"below\":[{\"id\":\"1105\"}],\"center\":[{\"id\":\"1108\"},{\"id\":\"1112\"}],\"height\":115,\"left\":[{\"id\":\"1109\"}],\"output_backend\":\"svg\",\"renderers\":[{\"id\":\"1809\"},{\"id\":\"1815\"}],\"title\":{\"id\":\"1817\"},\"toolbar\":{\"id\":\"1120\"},\"width\":144,\"x_range\":{\"id\":\"1097\"},\"x_scale\":{\"id\":\"1101\"},\"y_range\":{\"id\":\"1099\"},\"y_scale\":{\"id\":\"1103\"}},\"id\":\"1096\",\"subtype\":\"Figure\",\"type\":\"Plot\"},{\"attributes\":{\"bottom_units\":\"screen\",\"coordinates\":null,\"fill_alpha\":0.5,\"fill_color\":\"lightgrey\",\"group\":null,\"left_units\":\"screen\",\"level\":\"overlay\",\"line_alpha\":1.0,\"line_color\":\"black\",\"line_dash\":[4,4],\"line_width\":2,\"right_units\":\"screen\",\"syncable\":false,\"top_units\":\"screen\"},\"id\":\"1057\",\"type\":\"BoxAnnotation\"},{\"attributes\":{\"coordinates\":null,\"formatter\":{\"id\":\"2213\"},\"group\":null,\"major_label_policy\":{\"id\":\"2214\"},\"major_label_text_font_size\":\"10pt\",\"ticker\":{\"id\":\"1168\"}},\"id\":\"1167\",\"type\":\"LinearAxis\"},{\"attributes\":{},\"id\":\"1075\",\"type\":\"BasicTicker\"},{\"attributes\":{},\"id\":\"1114\",\"type\":\"WheelZoomTool\"},{\"attributes\":{},\"id\":\"1070\",\"type\":\"LinearScale\"},{\"attributes\":{},\"id\":\"1044\",\"type\":\"BasicTicker\"},{\"attributes\":{},\"id\":\"1113\",\"type\":\"PanTool\"},{\"attributes\":{\"tools\":[{\"id\":\"1051\"},{\"id\":\"1052\"},{\"id\":\"1053\"},{\"id\":\"1054\"},{\"id\":\"1055\"},{\"id\":\"1056\"}]},\"id\":\"1058\",\"type\":\"Toolbar\"},{\"attributes\":{\"overlay\":{\"id\":\"1119\"}},\"id\":\"1115\",\"type\":\"BoxZoomTool\"},{\"attributes\":{},\"id\":\"1041\",\"type\":\"LinearScale\"},{\"attributes\":{},\"id\":\"1072\",\"type\":\"LinearScale\"},{\"attributes\":{},\"id\":\"1165\",\"type\":\"LinearScale\"},{\"attributes\":{\"end\":20},\"id\":\"1192\",\"type\":\"Range1d\"},{\"attributes\":{},\"id\":\"1116\",\"type\":\"SaveTool\"},{\"attributes\":{},\"id\":\"1117\",\"type\":\"ResetTool\"},{\"attributes\":{},\"id\":\"1056\",\"type\":\"HelpTool\"},{\"attributes\":{},\"id\":\"1168\",\"type\":\"BasicTicker\"},{\"attributes\":{},\"id\":\"1163\",\"type\":\"LinearScale\"},{\"attributes\":{},\"id\":\"1087\",\"type\":\"HelpTool\"},{\"attributes\":{},\"id\":\"1180\",\"type\":\"HelpTool\"},{\"attributes\":{\"bottom_units\":\"screen\",\"coordinates\":null,\"fill_alpha\":0.5,\"fill_color\":\"lightgrey\",\"group\":null,\"left_units\":\"screen\",\"level\":\"overlay\",\"line_alpha\":1.0,\"line_color\":\"black\",\"line_dash\":[4,4],\"line_width\":2,\"right_units\":\"screen\",\"syncable\":false,\"top_units\":\"screen\"},\"id\":\"1119\",\"type\":\"BoxAnnotation\"},{\"attributes\":{\"coordinates\":null,\"formatter\":{\"id\":\"2210\"},\"group\":null,\"major_label_policy\":{\"id\":\"2211\"},\"major_label_text_font_size\":\"10pt\",\"ticker\":{\"id\":\"1172\"}},\"id\":\"1171\",\"type\":\"LinearAxis\"},{\"attributes\":{\"coordinates\":null,\"formatter\":{\"id\":\"1625\"},\"group\":null,\"major_label_policy\":{\"id\":\"1626\"},\"major_label_text_font_size\":\"10pt\",\"ticker\":{\"id\":\"1079\"}},\"id\":\"1078\",\"type\":\"LinearAxis\"},{\"attributes\":{\"axis\":{\"id\":\"1167\"},\"coordinates\":null,\"group\":null,\"ticker\":null},\"id\":\"1170\",\"type\":\"Grid\"},{\"attributes\":{\"axis\":{\"id\":\"1074\"},\"coordinates\":null,\"group\":null,\"ticker\":null},\"id\":\"1077\",\"type\":\"Grid\"},{\"attributes\":{},\"id\":\"1132\",\"type\":\"LinearScale\"},{\"attributes\":{\"axis\":{\"id\":\"1171\"},\"coordinates\":null,\"dimension\":1,\"group\":null,\"ticker\":null},\"id\":\"1174\",\"type\":\"Grid\"},{\"attributes\":{},\"id\":\"1149\",\"type\":\"HelpTool\"},{\"attributes\":{\"axis\":{\"id\":\"1078\"},\"coordinates\":null,\"dimension\":1,\"group\":null,\"ticker\":null},\"id\":\"1081\",\"type\":\"Grid\"},{\"attributes\":{\"tools\":[{\"id\":\"1113\"},{\"id\":\"1114\"},{\"id\":\"1115\"},{\"id\":\"1116\"},{\"id\":\"1117\"},{\"id\":\"1118\"}]},\"id\":\"1120\",\"type\":\"Toolbar\"},{\"attributes\":{},\"id\":\"1172\",\"type\":\"BasicTicker\"},{\"attributes\":{\"coordinates\":null,\"formatter\":{\"id\":\"2015\"},\"group\":null,\"major_label_policy\":{\"id\":\"2016\"},\"major_label_text_font_size\":\"10pt\",\"ticker\":{\"id\":\"1141\"}},\"id\":\"1140\",\"type\":\"LinearAxis\"},{\"attributes\":{\"tools\":[{\"id\":\"1175\"},{\"id\":\"1176\"},{\"id\":\"1177\"},{\"id\":\"1178\"},{\"id\":\"1179\"},{\"id\":\"1180\"}]},\"id\":\"1182\",\"type\":\"Toolbar\"},{\"attributes\":{},\"id\":\"1079\",\"type\":\"BasicTicker\"},{\"attributes\":{\"tools\":[{\"id\":\"1082\"},{\"id\":\"1083\"},{\"id\":\"1084\"},{\"id\":\"1085\"},{\"id\":\"1086\"},{\"id\":\"1087\"}]},\"id\":\"1089\",\"type\":\"Toolbar\"},{\"attributes\":{},\"id\":\"1052\",\"type\":\"WheelZoomTool\"},{\"attributes\":{},\"id\":\"1176\",\"type\":\"WheelZoomTool\"},{\"attributes\":{},\"id\":\"1083\",\"type\":\"WheelZoomTool\"},{\"attributes\":{},\"id\":\"1175\",\"type\":\"PanTool\"},{\"attributes\":{},\"id\":\"1082\",\"type\":\"PanTool\"},{\"attributes\":{\"overlay\":{\"id\":\"1181\"}},\"id\":\"1177\",\"type\":\"BoxZoomTool\"},{\"attributes\":{\"overlay\":{\"id\":\"1088\"}},\"id\":\"1084\",\"type\":\"BoxZoomTool\"},{\"attributes\":{},\"id\":\"1178\",\"type\":\"SaveTool\"},{\"attributes\":{},\"id\":\"1085\",\"type\":\"SaveTool\"},{\"attributes\":{},\"id\":\"1137\",\"type\":\"BasicTicker\"},{\"attributes\":{},\"id\":\"1179\",\"type\":\"ResetTool\"},{\"attributes\":{},\"id\":\"1086\",\"type\":\"ResetTool\"},{\"attributes\":{\"axis\":{\"id\":\"1136\"},\"coordinates\":null,\"group\":null,\"ticker\":null},\"id\":\"1139\",\"type\":\"Grid\"},{\"attributes\":{},\"id\":\"1825\",\"type\":\"UnionRenderers\"},{\"attributes\":{\"bottom_units\":\"screen\",\"coordinates\":null,\"fill_alpha\":0.5,\"fill_color\":\"lightgrey\",\"group\":null,\"left_units\":\"screen\",\"level\":\"overlay\",\"line_alpha\":1.0,\"line_color\":\"black\",\"line_dash\":[4,4],\"line_width\":2,\"right_units\":\"screen\",\"syncable\":false,\"top_units\":\"screen\"},\"id\":\"1181\",\"type\":\"BoxAnnotation\"},{\"attributes\":{\"axis\":{\"id\":\"1140\"},\"coordinates\":null,\"dimension\":1,\"group\":null,\"ticker\":null},\"id\":\"1143\",\"type\":\"Grid\"},{\"attributes\":{\"coordinates\":null,\"formatter\":{\"id\":\"1820\"},\"group\":null,\"major_label_policy\":{\"id\":\"1821\"},\"major_label_text_font_size\":\"10pt\",\"ticker\":{\"id\":\"1110\"}},\"id\":\"1109\",\"type\":\"LinearAxis\"},{\"attributes\":{},\"id\":\"1051\",\"type\":\"PanTool\"},{\"attributes\":{\"tools\":[{\"id\":\"1144\"},{\"id\":\"1145\"},{\"id\":\"1146\"},{\"id\":\"1147\"},{\"id\":\"1148\"},{\"id\":\"1149\"}]},\"id\":\"1151\",\"type\":\"Toolbar\"},{\"attributes\":{\"line_alpha\":0.1,\"line_color\":\"#178ccb\",\"line_width\":2,\"x\":{\"field\":\"x\"},\"y\":{\"field\":\"y\"}},\"id\":\"1417\",\"type\":\"Line\"},{\"attributes\":{\"overlay\":{\"id\":\"1057\"}},\"id\":\"1053\",\"type\":\"BoxZoomTool\"},{\"attributes\":{},\"id\":\"1141\",\"type\":\"BasicTicker\"},{\"attributes\":{\"axis\":{\"id\":\"1105\"},\"coordinates\":null,\"group\":null,\"ticker\":null},\"id\":\"1108\",\"type\":\"Grid\"},{\"attributes\":{\"end\":20},\"id\":\"1130\",\"type\":\"Range1d\"},{\"attributes\":{},\"id\":\"1048\",\"type\":\"BasicTicker\"},{\"attributes\":{\"fill_alpha\":{\"value\":0.2},\"fill_color\":{\"value\":\"#178ccb\"},\"hatch_alpha\":{\"value\":0.2},\"hatch_color\":{\"value\":\"#178ccb\"},\"line_alpha\":{\"value\":0.2},\"line_color\":{\"value\":\"#178ccb\"},\"line_width\":{\"value\":2},\"x\":{\"field\":\"x\"},\"y\":{\"field\":\"y\"}},\"id\":\"2399\",\"type\":\"Circle\"},{\"attributes\":{},\"id\":\"1210\",\"type\":\"ResetTool\"},{\"attributes\":{\"below\":[{\"id\":\"1074\"}],\"center\":[{\"id\":\"1077\"},{\"id\":\"1081\"}],\"height\":115,\"left\":[{\"id\":\"1078\"}],\"output_backend\":\"svg\",\"renderers\":[{\"id\":\"1614\"},{\"id\":\"1620\"}],\"title\":{\"id\":\"1622\"},\"toolbar\":{\"id\":\"1089\"},\"width\":144,\"x_range\":{\"id\":\"1066\"},\"x_scale\":{\"id\":\"1070\"},\"y_range\":{\"id\":\"1068\"},\"y_scale\":{\"id\":\"1072\"}},\"id\":\"1065\",\"subtype\":\"Figure\",\"type\":\"Plot\"},{\"attributes\":{\"below\":[{\"id\":\"1167\"}],\"center\":[{\"id\":\"1170\"},{\"id\":\"1174\"}],\"height\":115,\"left\":[{\"id\":\"1171\"}],\"output_backend\":\"svg\",\"renderers\":[{\"id\":\"2199\"},{\"id\":\"2205\"}],\"title\":{\"id\":\"2207\"},\"toolbar\":{\"id\":\"1182\"},\"width\":144,\"x_range\":{\"id\":\"1159\"},\"x_scale\":{\"id\":\"1163\"},\"y_range\":{\"id\":\"1161\"},\"y_scale\":{\"id\":\"1165\"}},\"id\":\"1158\",\"subtype\":\"Figure\",\"type\":\"Plot\"},{\"attributes\":{},\"id\":\"1209\",\"type\":\"SaveTool\"},{\"attributes\":{\"coordinates\":null,\"data_source\":{\"id\":\"1421\"},\"glyph\":{\"id\":\"1422\"},\"group\":null,\"hover_glyph\":null,\"muted_glyph\":{\"id\":\"1424\"},\"nonselection_glyph\":{\"id\":\"1423\"},\"view\":{\"id\":\"1426\"}},\"id\":\"1425\",\"type\":\"GlyphRenderer\"},{\"attributes\":{},\"id\":\"1207\",\"type\":\"WheelZoomTool\"},{\"attributes\":{},\"id\":\"2410\",\"type\":\"UnionRenderers\"},{\"attributes\":{},\"id\":\"1206\",\"type\":\"PanTool\"},{\"attributes\":{\"source\":{\"id\":\"1415\"}},\"id\":\"1420\",\"type\":\"CDSView\"},{\"attributes\":{\"overlay\":{\"id\":\"1212\"}},\"id\":\"1208\",\"type\":\"BoxZoomTool\"},{\"attributes\":{\"coordinates\":null,\"data_source\":{\"id\":\"1415\"},\"glyph\":{\"id\":\"1416\"},\"group\":null,\"hover_glyph\":null,\"muted_glyph\":{\"id\":\"1418\"},\"nonselection_glyph\":{\"id\":\"1417\"},\"view\":{\"id\":\"1420\"}},\"id\":\"1419\",\"type\":\"GlyphRenderer\"},{\"attributes\":{},\"id\":\"1110\",\"type\":\"BasicTicker\"},{\"attributes\":{},\"id\":\"1134\",\"type\":\"LinearScale\"},{\"attributes\":{},\"id\":\"2411\",\"type\":\"Selection\"},{\"attributes\":{\"end\":20},\"id\":\"1099\",\"type\":\"Range1d\"},{\"attributes\":{},\"id\":\"1203\",\"type\":\"BasicTicker\"},{\"attributes\":{\"line_alpha\":0.2,\"line_color\":\"#178ccb\",\"line_width\":2,\"x\":{\"field\":\"x\"},\"y\":{\"field\":\"y\"}},\"id\":\"1418\",\"type\":\"Line\"},{\"attributes\":{},\"id\":\"1054\",\"type\":\"SaveTool\"},{\"attributes\":{\"line_alpha\":0.1,\"line_color\":\"#178ccb\",\"line_width\":2,\"x\":{\"field\":\"x\"},\"y\":{\"field\":\"y\"}},\"id\":\"1807\",\"type\":\"Line\"},{\"attributes\":{\"coordinates\":null,\"group\":null},\"id\":\"1232\",\"type\":\"Title\"},{\"attributes\":{\"coordinates\":null,\"formatter\":{\"id\":\"2408\"},\"group\":null,\"major_label_policy\":{\"id\":\"2409\"},\"major_label_text_font_size\":\"10pt\",\"ticker\":{\"id\":\"1199\"}},\"id\":\"1198\",\"type\":\"LinearAxis\"},{\"attributes\":{\"source\":{\"id\":\"1616\"}},\"id\":\"1621\",\"type\":\"CDSView\"},{\"attributes\":{\"end\":4.2},\"id\":\"1097\",\"type\":\"Range1d\"},{\"attributes\":{},\"id\":\"1145\",\"type\":\"WheelZoomTool\"},{\"attributes\":{},\"id\":\"1144\",\"type\":\"PanTool\"},{\"attributes\":{},\"id\":\"1039\",\"type\":\"LinearScale\"},{\"attributes\":{\"coordinates\":null,\"group\":null},\"id\":\"1427\",\"type\":\"Title\"},{\"attributes\":{\"overlay\":{\"id\":\"1150\"}},\"id\":\"1146\",\"type\":\"BoxZoomTool\"},{\"attributes\":{\"end\":4.2},\"id\":\"1190\",\"type\":\"Range1d\"},{\"attributes\":{},\"id\":\"1147\",\"type\":\"SaveTool\"},{\"attributes\":{\"fill_color\":{\"value\":\"#178ccb\"},\"hatch_color\":{\"value\":\"#178ccb\"},\"line_color\":{\"value\":\"#178ccb\"},\"line_width\":{\"value\":2},\"x\":{\"field\":\"x\"},\"y\":{\"field\":\"y\"}},\"id\":\"2202\",\"type\":\"Circle\"},{\"attributes\":{\"line_alpha\":0.2,\"line_color\":\"#178ccb\",\"line_width\":2,\"x\":{\"field\":\"x\"},\"y\":{\"field\":\"y\"}},\"id\":\"1613\",\"type\":\"Line\"},{\"attributes\":{},\"id\":\"1148\",\"type\":\"ResetTool\"},{\"attributes\":{\"axis\":{\"id\":\"1047\"},\"coordinates\":null,\"dimension\":1,\"group\":null,\"ticker\":null},\"id\":\"1050\",\"type\":\"Grid\"},{\"attributes\":{\"axis\":{\"id\":\"1202\"},\"coordinates\":null,\"dimension\":1,\"group\":null,\"ticker\":null},\"id\":\"1205\",\"type\":\"Grid\"},{\"attributes\":{\"source\":{\"id\":\"1610\"}},\"id\":\"1615\",\"type\":\"CDSView\"},{\"attributes\":{\"axis\":{\"id\":\"1043\"},\"coordinates\":null,\"group\":null,\"ticker\":null},\"id\":\"1046\",\"type\":\"Grid\"},{\"attributes\":{\"fill_alpha\":{\"value\":0.2},\"fill_color\":{\"value\":\"#178ccb\"},\"hatch_alpha\":{\"value\":0.2},\"hatch_color\":{\"value\":\"#178ccb\"},\"line_alpha\":{\"value\":0.2},\"line_color\":{\"value\":\"#178ccb\"},\"line_width\":{\"value\":2},\"x\":{\"field\":\"x\"},\"y\":{\"field\":\"y\"}},\"id\":\"1619\",\"type\":\"Circle\"},{\"attributes\":{\"coordinates\":null,\"data_source\":{\"id\":\"1610\"},\"glyph\":{\"id\":\"1611\"},\"group\":null,\"hover_glyph\":null,\"muted_glyph\":{\"id\":\"1613\"},\"nonselection_glyph\":{\"id\":\"1612\"},\"view\":{\"id\":\"1615\"}},\"id\":\"1614\",\"type\":\"GlyphRenderer\"},{\"attributes\":{\"axis\":{\"id\":\"1198\"},\"coordinates\":null,\"group\":null,\"ticker\":null},\"id\":\"1201\",\"type\":\"Grid\"},{\"attributes\":{\"fill_alpha\":{\"value\":0.1},\"fill_color\":{\"value\":\"#178ccb\"},\"hatch_alpha\":{\"value\":0.1},\"hatch_color\":{\"value\":\"#178ccb\"},\"line_alpha\":{\"value\":0.1},\"line_color\":{\"value\":\"#178ccb\"},\"line_width\":{\"value\":2},\"x\":{\"field\":\"x\"},\"y\":{\"field\":\"y\"}},\"id\":\"1618\",\"type\":\"Circle\"},{\"attributes\":{\"coordinates\":null,\"formatter\":{\"id\":\"1823\"},\"group\":null,\"major_label_policy\":{\"id\":\"1824\"},\"major_label_text_font_size\":\"10pt\",\"ticker\":{\"id\":\"1106\"}},\"id\":\"1105\",\"type\":\"LinearAxis\"},{\"attributes\":{\"coordinates\":null,\"formatter\":{\"id\":\"2405\"},\"group\":null,\"major_label_policy\":{\"id\":\"2406\"},\"major_label_text_font_size\":\"10pt\",\"ticker\":{\"id\":\"1203\"}},\"id\":\"1202\",\"type\":\"LinearAxis\"},{\"attributes\":{\"line_color\":\"#178ccb\",\"line_width\":2,\"x\":{\"field\":\"x\"},\"y\":{\"field\":\"y\"}},\"id\":\"1806\",\"type\":\"Line\"},{\"attributes\":{\"coordinates\":null,\"data_source\":{\"id\":\"1616\"},\"glyph\":{\"id\":\"1617\"},\"group\":null,\"hover_glyph\":null,\"muted_glyph\":{\"id\":\"1619\"},\"nonselection_glyph\":{\"id\":\"1618\"},\"view\":{\"id\":\"1621\"}},\"id\":\"1620\",\"type\":\"GlyphRenderer\"},{\"attributes\":{},\"id\":\"1103\",\"type\":\"LinearScale\"},{\"attributes\":{\"end\":4.2},\"id\":\"1128\",\"type\":\"Range1d\"},{\"attributes\":{\"fill_color\":{\"value\":\"#178ccb\"},\"hatch_color\":{\"value\":\"#178ccb\"},\"line_color\":{\"value\":\"#178ccb\"},\"line_width\":{\"value\":2},\"x\":{\"field\":\"x\"},\"y\":{\"field\":\"y\"}},\"id\":\"1617\",\"type\":\"Circle\"},{\"attributes\":{\"line_alpha\":0.1,\"line_color\":\"#178ccb\",\"line_width\":2,\"x\":{\"field\":\"x\"},\"y\":{\"field\":\"y\"}},\"id\":\"1612\",\"type\":\"Line\"},{\"attributes\":{\"source\":{\"id\":\"1421\"}},\"id\":\"1426\",\"type\":\"CDSView\"},{\"attributes\":{},\"id\":\"2413\",\"type\":\"Selection\"},{\"attributes\":{},\"id\":\"1101\",\"type\":\"LinearScale\"},{\"attributes\":{\"fill_alpha\":{\"value\":0.1},\"fill_color\":{\"value\":\"#178ccb\"},\"hatch_alpha\":{\"value\":0.1},\"hatch_color\":{\"value\":\"#178ccb\"},\"line_alpha\":{\"value\":0.1},\"line_color\":{\"value\":\"#178ccb\"},\"line_width\":{\"value\":2},\"x\":{\"field\":\"x\"},\"y\":{\"field\":\"y\"}},\"id\":\"1423\",\"type\":\"Circle\"},{\"attributes\":{\"fill_alpha\":{\"value\":0.2},\"fill_color\":{\"value\":\"#178ccb\"},\"hatch_alpha\":{\"value\":0.2},\"hatch_color\":{\"value\":\"#178ccb\"},\"line_alpha\":{\"value\":0.2},\"line_color\":{\"value\":\"#178ccb\"},\"line_width\":{\"value\":2},\"x\":{\"field\":\"x\"},\"y\":{\"field\":\"y\"}},\"id\":\"1424\",\"type\":\"Circle\"},{\"attributes\":{\"coordinates\":null,\"formatter\":{\"id\":\"2018\"},\"group\":null,\"major_label_policy\":{\"id\":\"2019\"},\"major_label_text_font_size\":\"10pt\",\"ticker\":{\"id\":\"1137\"}},\"id\":\"1136\",\"type\":\"LinearAxis\"},{\"attributes\":{\"data\":{\"x\":{\"__ndarray__\":\"AAAAAAAA0D9VVVVVVVXVPwAAAAAAAOA/AAAAAAAA8D8AAAAAAAAAQAAAAAAAAAhAAAAAAAAAEEA=\",\"dtype\":\"float64\",\"order\":\"little\",\"shape\":[7]},\"y\":{\"__ndarray__\":\"rHSPSsmlI0Bk1M2Eme0gQE4vBO+opiFAu0KcOoyRIUDKb5PSaIcgQM47apMskiFASjbKFT/SH0A=\",\"dtype\":\"float64\",\"order\":\"little\",\"shape\":[7]}},\"selected\":{\"id\":\"1633\"},\"selection_policy\":{\"id\":\"1632\"}},\"id\":\"1616\",\"type\":\"ColumnDataSource\"},{\"attributes\":{},\"id\":\"1106\",\"type\":\"BasicTicker\"},{\"attributes\":{\"below\":[{\"id\":\"1198\"}],\"center\":[{\"id\":\"1201\"},{\"id\":\"1205\"}],\"height\":115,\"left\":[{\"id\":\"1202\"}],\"output_backend\":\"svg\",\"renderers\":[{\"id\":\"2394\"},{\"id\":\"2400\"}],\"title\":{\"id\":\"2402\"},\"toolbar\":{\"id\":\"1213\"},\"width\":144,\"x_range\":{\"id\":\"1190\"},\"x_scale\":{\"id\":\"1194\"},\"y_range\":{\"id\":\"1192\"},\"y_scale\":{\"id\":\"1196\"}},\"id\":\"1189\",\"subtype\":\"Figure\",\"type\":\"Plot\"},{\"attributes\":{},\"id\":\"1196\",\"type\":\"LinearScale\"},{\"attributes\":{\"data\":{\"x\":{\"__ndarray__\":\"AAAAAAAA0D9VVVVVVVXVPwAAAAAAAOA/AAAAAAAA8D8AAAAAAAAAQAAAAAAAAAhAAAAAAAAAEEA=\",\"dtype\":\"float64\",\"order\":\"little\",\"shape\":[7]},\"y\":{\"__ndarray__\":\"64ToTLAWI0DujgkZW/0jQEzHsXzPWShA7VOKbx70H0DAjSp1e8QWQBDv5NhReRNA+SylCZd9FUA=\",\"dtype\":\"float64\",\"order\":\"little\",\"shape\":[7]}},\"selected\":{\"id\":\"1826\"},\"selection_policy\":{\"id\":\"1825\"}},\"id\":\"1805\",\"type\":\"ColumnDataSource\"},{\"attributes\":{},\"id\":\"1199\",\"type\":\"BasicTicker\"},{\"attributes\":{},\"id\":\"2412\",\"type\":\"UnionRenderers\"},{\"attributes\":{\"end\":20},\"id\":\"1068\",\"type\":\"Range1d\"},{\"attributes\":{\"line_color\":\"#178ccb\",\"line_width\":2,\"x\":{\"field\":\"x\"},\"y\":{\"field\":\"y\"}},\"id\":\"1611\",\"type\":\"Line\"},{\"attributes\":{\"data\":{\"x\":{\"__ndarray__\":\"AAAAAAAA0D9VVVVVVVXVPwAAAAAAAOA/AAAAAAAA8D8AAAAAAAAAQAAAAAAAAAhAAAAAAAAAEEA=\",\"dtype\":\"float64\",\"order\":\"little\",\"shape\":[7]},\"y\":{\"__ndarray__\":\"l+nvCmDUIkDmnAdOHzAkQA5dPrQxciZA8YTzSPLtIECyUtYg0/UVQH8DI0E9CCNAujU5DFZnJkA=\",\"dtype\":\"float64\",\"order\":\"little\",\"shape\":[7]}},\"selected\":{\"id\":\"1438\"},\"selection_policy\":{\"id\":\"1437\"}},\"id\":\"1421\",\"type\":\"ColumnDataSource\"},{\"attributes\":{},\"id\":\"1194\",\"type\":\"LinearScale\"},{\"attributes\":{\"data\":{\"x\":{\"__ndarray__\":\"AAAAAAAA0D9VVVVVVVXVPwAAAAAAAOA/AAAAAAAA8D8AAAAAAAAAQAAAAAAAAAhAAAAAAAAAEEA=\",\"dtype\":\"float64\",\"order\":\"little\",\"shape\":[7]},\"y\":{\"__ndarray__\":\"rHSPSsmlI0Bk1M2Eme0gQE4vBO+opiFAu0KcOoyRIUDKb5PSaIcgQM47apMskiFASjbKFT/SH0A=\",\"dtype\":\"float64\",\"order\":\"little\",\"shape\":[7]}},\"selected\":{\"id\":\"1631\"},\"selection_policy\":{\"id\":\"1630\"}},\"id\":\"1610\",\"type\":\"ColumnDataSource\"},{\"attributes\":{},\"id\":\"1211\",\"type\":\"HelpTool\"},{\"attributes\":{\"coordinates\":null,\"formatter\":{\"id\":\"1628\"},\"group\":null,\"major_label_policy\":{\"id\":\"1629\"},\"major_label_text_font_size\":\"10pt\",\"ticker\":{\"id\":\"1075\"}},\"id\":\"1074\",\"type\":\"LinearAxis\"},{\"attributes\":{\"fill_color\":{\"value\":\"#178ccb\"},\"hatch_color\":{\"value\":\"#178ccb\"},\"line_color\":{\"value\":\"#178ccb\"},\"line_width\":{\"value\":2},\"x\":{\"field\":\"x\"},\"y\":{\"field\":\"y\"}},\"id\":\"1422\",\"type\":\"Circle\"},{\"attributes\":{\"bottom_units\":\"screen\",\"coordinates\":null,\"fill_alpha\":0.5,\"fill_color\":\"lightgrey\",\"group\":null,\"left_units\":\"screen\",\"level\":\"overlay\",\"line_alpha\":1.0,\"line_color\":\"black\",\"line_dash\":[4,4],\"line_width\":2,\"right_units\":\"screen\",\"syncable\":false,\"top_units\":\"screen\"},\"id\":\"1150\",\"type\":\"BoxAnnotation\"},{\"attributes\":{},\"id\":\"1235\",\"type\":\"BasicTickFormatter\"},{\"attributes\":{},\"id\":\"1236\",\"type\":\"AllLabels\"},{\"attributes\":{},\"id\":\"2217\",\"type\":\"UnionRenderers\"},{\"attributes\":{},\"id\":\"1238\",\"type\":\"BasicTickFormatter\"},{\"attributes\":{},\"id\":\"2023\",\"type\":\"Selection\"},{\"attributes\":{},\"id\":\"1239\",\"type\":\"AllLabels\"},{\"attributes\":{},\"id\":\"2409\",\"type\":\"AllLabels\"},{\"attributes\":{\"source\":{\"id\":\"1226\"}},\"id\":\"1231\",\"type\":\"CDSView\"},{\"attributes\":{},\"id\":\"1824\",\"type\":\"AllLabels\"},{\"attributes\":{},\"id\":\"2216\",\"type\":\"Selection\"},{\"attributes\":{},\"id\":\"1631\",\"type\":\"Selection\"},{\"attributes\":{},\"id\":\"2408\",\"type\":\"BasicTickFormatter\"},{\"attributes\":{},\"id\":\"1823\",\"type\":\"BasicTickFormatter\"},{\"attributes\":{},\"id\":\"2021\",\"type\":\"Selection\"},{\"attributes\":{},\"id\":\"2022\",\"type\":\"UnionRenderers\"},{\"attributes\":{},\"id\":\"1630\",\"type\":\"UnionRenderers\"},{\"attributes\":{},\"id\":\"2215\",\"type\":\"UnionRenderers\"},{\"attributes\":{},\"id\":\"2218\",\"type\":\"Selection\"},{\"attributes\":{},\"id\":\"2406\",\"type\":\"AllLabels\"},{\"attributes\":{\"bottom_units\":\"screen\",\"coordinates\":null,\"fill_alpha\":0.5,\"fill_color\":\"lightgrey\",\"group\":null,\"left_units\":\"screen\",\"level\":\"overlay\",\"line_alpha\":1.0,\"line_color\":\"black\",\"line_dash\":[4,4],\"line_width\":2,\"right_units\":\"screen\",\"syncable\":false,\"top_units\":\"screen\"},\"id\":\"1212\",\"type\":\"BoxAnnotation\"},{\"attributes\":{\"coordinates\":null,\"data_source\":{\"id\":\"1805\"},\"glyph\":{\"id\":\"1806\"},\"group\":null,\"hover_glyph\":null,\"muted_glyph\":{\"id\":\"1808\"},\"nonselection_glyph\":{\"id\":\"1807\"},\"view\":{\"id\":\"1810\"}},\"id\":\"1809\",\"type\":\"GlyphRenderer\"},{\"attributes\":{},\"id\":\"2020\",\"type\":\"UnionRenderers\"},{\"attributes\":{\"line_alpha\":0.2,\"line_color\":\"#178ccb\",\"line_width\":2,\"x\":{\"field\":\"x\"},\"y\":{\"field\":\"y\"}},\"id\":\"1808\",\"type\":\"Line\"},{\"attributes\":{},\"id\":\"2405\",\"type\":\"BasicTickFormatter\"},{\"attributes\":{},\"id\":\"1240\",\"type\":\"UnionRenderers\"},{\"attributes\":{\"line_color\":\"#178ccb\",\"line_width\":2,\"x\":{\"field\":\"x\"},\"y\":{\"field\":\"y\"}},\"id\":\"2001\",\"type\":\"Line\"},{\"attributes\":{\"fill_alpha\":{\"value\":0.1},\"fill_color\":{\"value\":\"#178ccb\"},\"hatch_alpha\":{\"value\":0.1},\"hatch_color\":{\"value\":\"#178ccb\"},\"line_alpha\":{\"value\":0.1},\"line_color\":{\"value\":\"#178ccb\"},\"line_width\":{\"value\":2},\"x\":{\"field\":\"x\"},\"y\":{\"field\":\"y\"}},\"id\":\"1813\",\"type\":\"Circle\"},{\"attributes\":{\"fill_alpha\":{\"value\":0.2},\"fill_color\":{\"value\":\"#178ccb\"},\"hatch_alpha\":{\"value\":0.2},\"hatch_color\":{\"value\":\"#178ccb\"},\"line_alpha\":{\"value\":0.2},\"line_color\":{\"value\":\"#178ccb\"},\"line_width\":{\"value\":2},\"x\":{\"field\":\"x\"},\"y\":{\"field\":\"y\"}},\"id\":\"1814\",\"type\":\"Circle\"},{\"attributes\":{},\"id\":\"1241\",\"type\":\"Selection\"},{\"attributes\":{\"tools\":[{\"id\":\"1206\"},{\"id\":\"1207\"},{\"id\":\"1208\"},{\"id\":\"1209\"},{\"id\":\"1210\"},{\"id\":\"1211\"}]},\"id\":\"1213\",\"type\":\"Toolbar\"},{\"attributes\":{\"coordinates\":null,\"data_source\":{\"id\":\"1811\"},\"glyph\":{\"id\":\"1812\"},\"group\":null,\"hover_glyph\":null,\"muted_glyph\":{\"id\":\"1814\"},\"nonselection_glyph\":{\"id\":\"1813\"},\"view\":{\"id\":\"1816\"}},\"id\":\"1815\",\"type\":\"GlyphRenderer\"},{\"attributes\":{\"coordinates\":null,\"data_source\":{\"id\":\"1220\"},\"glyph\":{\"id\":\"1221\"},\"group\":null,\"hover_glyph\":null,\"muted_glyph\":{\"id\":\"1223\"},\"nonselection_glyph\":{\"id\":\"1222\"},\"view\":{\"id\":\"1225\"}},\"id\":\"1224\",\"type\":\"GlyphRenderer\"},{\"attributes\":{\"source\":{\"id\":\"2006\"}},\"id\":\"2011\",\"type\":\"CDSView\"},{\"attributes\":{},\"id\":\"2214\",\"type\":\"AllLabels\"},{\"attributes\":{},\"id\":\"1629\",\"type\":\"AllLabels\"},{\"attributes\":{\"source\":{\"id\":\"1805\"}},\"id\":\"1810\",\"type\":\"CDSView\"},{\"attributes\":{},\"id\":\"1828\",\"type\":\"Selection\"},{\"attributes\":{\"coordinates\":null,\"data_source\":{\"id\":\"2006\"},\"glyph\":{\"id\":\"2007\"},\"group\":null,\"hover_glyph\":null,\"muted_glyph\":{\"id\":\"2009\"},\"nonselection_glyph\":{\"id\":\"2008\"},\"view\":{\"id\":\"2011\"}},\"id\":\"2010\",\"type\":\"GlyphRenderer\"},{\"attributes\":{\"coordinates\":null,\"data_source\":{\"id\":\"2390\"},\"glyph\":{\"id\":\"2391\"},\"group\":null,\"hover_glyph\":null,\"muted_glyph\":{\"id\":\"2393\"},\"nonselection_glyph\":{\"id\":\"2392\"},\"view\":{\"id\":\"2395\"}},\"id\":\"2394\",\"type\":\"GlyphRenderer\"},{\"attributes\":{\"source\":{\"id\":\"1220\"}},\"id\":\"1225\",\"type\":\"CDSView\"},{\"attributes\":{\"source\":{\"id\":\"1811\"}},\"id\":\"1816\",\"type\":\"CDSView\"},{\"attributes\":{},\"id\":\"2019\",\"type\":\"AllLabels\"},{\"attributes\":{\"line_alpha\":0.2,\"line_color\":\"#178ccb\",\"line_width\":2,\"x\":{\"field\":\"x\"},\"y\":{\"field\":\"y\"}},\"id\":\"1223\",\"type\":\"Line\"},{\"attributes\":{},\"id\":\"1628\",\"type\":\"BasicTickFormatter\"},{\"attributes\":{},\"id\":\"2213\",\"type\":\"BasicTickFormatter\"},{\"attributes\":{\"line_alpha\":0.1,\"line_color\":\"#178ccb\",\"line_width\":2,\"x\":{\"field\":\"x\"},\"y\":{\"field\":\"y\"}},\"id\":\"1222\",\"type\":\"Line\"},{\"attributes\":{\"fill_color\":{\"value\":\"#178ccb\"},\"hatch_color\":{\"value\":\"#178ccb\"},\"line_color\":{\"value\":\"#178ccb\"},\"line_width\":{\"value\":2},\"x\":{\"field\":\"x\"},\"y\":{\"field\":\"y\"}},\"id\":\"1812\",\"type\":\"Circle\"},{\"attributes\":{},\"id\":\"1826\",\"type\":\"Selection\"},{\"attributes\":{\"fill_color\":{\"value\":\"#178ccb\"},\"hatch_color\":{\"value\":\"#178ccb\"},\"line_color\":{\"value\":\"#178ccb\"},\"line_width\":{\"value\":2},\"x\":{\"field\":\"x\"},\"y\":{\"field\":\"y\"}},\"id\":\"1227\",\"type\":\"Circle\"},{\"attributes\":{\"data\":{\"x\":{\"__ndarray__\":\"AAAAAAAA0D9VVVVVVVXVPwAAAAAAAOA/AAAAAAAA8D8AAAAAAAAAQAAAAAAAAAhAAAAAAAAAEEA=\",\"dtype\":\"float64\",\"order\":\"little\",\"shape\":[7]},\"y\":{\"__ndarray__\":\"M1sbx5ZwJECjoaWy1PwkQN6Pe7k7+yNAvKMjj2ltH0CvbAPu5xggQI19jTDK+RpAxm5N+X6PFkA=\",\"dtype\":\"float64\",\"order\":\"little\",\"shape\":[7]}},\"selected\":{\"id\":\"2021\"},\"selection_policy\":{\"id\":\"2020\"}},\"id\":\"2000\",\"type\":\"ColumnDataSource\"},{\"attributes\":{},\"id\":\"2018\",\"type\":\"BasicTickFormatter\"},{\"attributes\":{\"coordinates\":null,\"data_source\":{\"id\":\"1226\"},\"glyph\":{\"id\":\"1227\"},\"group\":null,\"hover_glyph\":null,\"muted_glyph\":{\"id\":\"1229\"},\"nonselection_glyph\":{\"id\":\"1228\"},\"view\":{\"id\":\"1231\"}},\"id\":\"1230\",\"type\":\"GlyphRenderer\"},{\"attributes\":{},\"id\":\"1626\",\"type\":\"AllLabels\"},{\"attributes\":{\"data\":{\"x\":{\"__ndarray__\":\"AAAAAAAA0D9VVVVVVVXVPwAAAAAAAOA/AAAAAAAA8D8AAAAAAAAAQAAAAAAAAAhAAAAAAAAAEEA=\",\"dtype\":\"float64\",\"order\":\"little\",\"shape\":[7]},\"y\":{\"__ndarray__\":\"64ToTLAWI0DujgkZW/0jQEzHsXzPWShA7VOKbx70H0DAjSp1e8QWQBDv5NhReRNA+SylCZd9FUA=\",\"dtype\":\"float64\",\"order\":\"little\",\"shape\":[7]}},\"selected\":{\"id\":\"1828\"},\"selection_policy\":{\"id\":\"1827\"}},\"id\":\"1811\",\"type\":\"ColumnDataSource\"},{\"attributes\":{\"data\":{\"x\":{\"__ndarray__\":\"AAAAAAAA0D9VVVVVVVXVPwAAAAAAAOA/AAAAAAAA8D8AAAAAAAAAQAAAAAAAAAhAAAAAAAAAEEA=\",\"dtype\":\"float64\",\"order\":\"little\",\"shape\":[7]},\"y\":{\"__ndarray__\":\"7U9oI9kQKEAj0nSLqBYlQPMaNEbT2ChAmFSK2X5dIUCJBnShtdsSQAtTNnJNMBBAB+aIo4o/DUA=\",\"dtype\":\"float64\",\"order\":\"little\",\"shape\":[7]}},\"selected\":{\"id\":\"1243\"},\"selection_policy\":{\"id\":\"1242\"}},\"id\":\"1226\",\"type\":\"ColumnDataSource\"},{\"attributes\":{\"fill_color\":{\"value\":\"#178ccb\"},\"hatch_color\":{\"value\":\"#178ccb\"},\"line_color\":{\"value\":\"#178ccb\"},\"line_width\":{\"value\":2},\"x\":{\"field\":\"x\"},\"y\":{\"field\":\"y\"}},\"id\":\"2007\",\"type\":\"Circle\"},{\"attributes\":{},\"id\":\"2211\",\"type\":\"AllLabels\"},{\"attributes\":{},\"id\":\"2016\",\"type\":\"AllLabels\"},{\"attributes\":{},\"id\":\"2210\",\"type\":\"BasicTickFormatter\"},{\"attributes\":{\"line_alpha\":0.2,\"line_color\":\"#178ccb\",\"line_width\":2,\"x\":{\"field\":\"x\"},\"y\":{\"field\":\"y\"}},\"id\":\"2393\",\"type\":\"Line\"},{\"attributes\":{},\"id\":\"1625\",\"type\":\"BasicTickFormatter\"},{\"attributes\":{\"fill_alpha\":{\"value\":0.1},\"fill_color\":{\"value\":\"#178ccb\"},\"hatch_alpha\":{\"value\":0.1},\"hatch_color\":{\"value\":\"#178ccb\"},\"line_alpha\":{\"value\":0.1},\"line_color\":{\"value\":\"#178ccb\"},\"line_width\":{\"value\":2},\"x\":{\"field\":\"x\"},\"y\":{\"field\":\"y\"}},\"id\":\"2398\",\"type\":\"Circle\"},{\"attributes\":{\"coordinates\":null,\"data_source\":{\"id\":\"2396\"},\"glyph\":{\"id\":\"2397\"},\"group\":null,\"hover_glyph\":null,\"muted_glyph\":{\"id\":\"2399\"},\"nonselection_glyph\":{\"id\":\"2398\"},\"view\":{\"id\":\"2401\"}},\"id\":\"2400\",\"type\":\"GlyphRenderer\"},{\"attributes\":{},\"id\":\"1430\",\"type\":\"BasicTickFormatter\"},{\"attributes\":{\"fill_alpha\":{\"value\":0.2},\"fill_color\":{\"value\":\"#178ccb\"},\"hatch_alpha\":{\"value\":0.2},\"hatch_color\":{\"value\":\"#178ccb\"},\"line_alpha\":{\"value\":0.2},\"line_color\":{\"value\":\"#178ccb\"},\"line_width\":{\"value\":2},\"x\":{\"field\":\"x\"},\"y\":{\"field\":\"y\"}},\"id\":\"2009\",\"type\":\"Circle\"},{\"attributes\":{},\"id\":\"2015\",\"type\":\"BasicTickFormatter\"},{\"attributes\":{},\"id\":\"1242\",\"type\":\"UnionRenderers\"},{\"attributes\":{},\"id\":\"1431\",\"type\":\"AllLabels\"},{\"attributes\":{\"fill_alpha\":{\"value\":0.1},\"fill_color\":{\"value\":\"#178ccb\"},\"hatch_alpha\":{\"value\":0.1},\"hatch_color\":{\"value\":\"#178ccb\"},\"line_alpha\":{\"value\":0.1},\"line_color\":{\"value\":\"#178ccb\"},\"line_width\":{\"value\":2},\"x\":{\"field\":\"x\"},\"y\":{\"field\":\"y\"}},\"id\":\"2008\",\"type\":\"Circle\"},{\"attributes\":{\"source\":{\"id\":\"2390\"}},\"id\":\"2395\",\"type\":\"CDSView\"},{\"attributes\":{\"source\":{\"id\":\"2000\"}},\"id\":\"2005\",\"type\":\"CDSView\"},{\"attributes\":{\"line_alpha\":0.1,\"line_color\":\"#178ccb\",\"line_width\":2,\"x\":{\"field\":\"x\"},\"y\":{\"field\":\"y\"}},\"id\":\"2002\",\"type\":\"Line\"},{\"attributes\":{\"line_alpha\":0.1,\"line_color\":\"#178ccb\",\"line_width\":2,\"x\":{\"field\":\"x\"},\"y\":{\"field\":\"y\"}},\"id\":\"2392\",\"type\":\"Line\"},{\"attributes\":{},\"id\":\"1243\",\"type\":\"Selection\"},{\"attributes\":{},\"id\":\"1435\",\"type\":\"UnionRenderers\"},{\"attributes\":{\"coordinates\":null,\"group\":null},\"id\":\"2402\",\"type\":\"Title\"},{\"attributes\":{\"line_alpha\":0.2,\"line_color\":\"#178ccb\",\"line_width\":2,\"x\":{\"field\":\"x\"},\"y\":{\"field\":\"y\"}},\"id\":\"2003\",\"type\":\"Line\"},{\"attributes\":{\"fill_color\":{\"value\":\"#178ccb\"},\"hatch_color\":{\"value\":\"#178ccb\"},\"line_color\":{\"value\":\"#178ccb\"},\"line_width\":{\"value\":2},\"x\":{\"field\":\"x\"},\"y\":{\"field\":\"y\"}},\"id\":\"2397\",\"type\":\"Circle\"},{\"attributes\":{},\"id\":\"1436\",\"type\":\"Selection\"},{\"attributes\":{\"fill_alpha\":{\"value\":0.2},\"fill_color\":{\"value\":\"#178ccb\"},\"hatch_alpha\":{\"value\":0.2},\"hatch_color\":{\"value\":\"#178ccb\"},\"line_alpha\":{\"value\":0.2},\"line_color\":{\"value\":\"#178ccb\"},\"line_width\":{\"value\":2},\"x\":{\"field\":\"x\"},\"y\":{\"field\":\"y\"}},\"id\":\"1229\",\"type\":\"Circle\"},{\"attributes\":{\"data\":{\"x\":{\"__ndarray__\":\"AAAAAAAA0D9VVVVVVVXVPwAAAAAAAOA/AAAAAAAA8D8AAAAAAAAAQAAAAAAAAAhAAAAAAAAAEEA=\",\"dtype\":\"float64\",\"order\":\"little\",\"shape\":[7]},\"y\":{\"__ndarray__\":\"M1sbx5ZwJECjoaWy1PwkQN6Pe7k7+yNAvKMjj2ltH0CvbAPu5xggQI19jTDK+RpAxm5N+X6PFkA=\",\"dtype\":\"float64\",\"order\":\"little\",\"shape\":[7]}},\"selected\":{\"id\":\"2023\"},\"selection_policy\":{\"id\":\"2022\"}},\"id\":\"2006\",\"type\":\"ColumnDataSource\"},{\"attributes\":{\"data\":{\"x\":{\"__ndarray__\":\"AAAAAAAA0D9VVVVVVVXVPwAAAAAAAOA/AAAAAAAA8D8AAAAAAAAAQAAAAAAAAAhAAAAAAAAAEEA=\",\"dtype\":\"float64\",\"order\":\"little\",\"shape\":[7]},\"y\":{\"__ndarray__\":\"Vd7pu9AEIEAKGp1XNLsgQK8ziEffayBATPCQrI1iIUDgg3ZNVDAgQAaPBV9qdiFAIndKSABTHkA=\",\"dtype\":\"float64\",\"order\":\"little\",\"shape\":[7]}},\"selected\":{\"id\":\"2413\"},\"selection_policy\":{\"id\":\"2412\"}},\"id\":\"2396\",\"type\":\"ColumnDataSource\"},{\"attributes\":{\"coordinates\":null,\"data_source\":{\"id\":\"2000\"},\"glyph\":{\"id\":\"2001\"},\"group\":null,\"hover_glyph\":null,\"muted_glyph\":{\"id\":\"2003\"},\"nonselection_glyph\":{\"id\":\"2002\"},\"view\":{\"id\":\"2005\"}},\"id\":\"2004\",\"type\":\"GlyphRenderer\"},{\"attributes\":{\"fill_alpha\":{\"value\":0.1},\"fill_color\":{\"value\":\"#178ccb\"},\"hatch_alpha\":{\"value\":0.1},\"hatch_color\":{\"value\":\"#178ccb\"},\"line_alpha\":{\"value\":0.1},\"line_color\":{\"value\":\"#178ccb\"},\"line_width\":{\"value\":2},\"x\":{\"field\":\"x\"},\"y\":{\"field\":\"y\"}},\"id\":\"1228\",\"type\":\"Circle\"},{\"attributes\":{\"line_color\":\"#178ccb\",\"line_width\":2,\"x\":{\"field\":\"x\"},\"y\":{\"field\":\"y\"}},\"id\":\"2196\",\"type\":\"Line\"},{\"attributes\":{\"coordinates\":null,\"group\":null},\"id\":\"1817\",\"type\":\"Title\"},{\"attributes\":{\"data\":{\"x\":{\"__ndarray__\":\"AAAAAAAA0D9VVVVVVVXVPwAAAAAAAOA/AAAAAAAA8D8AAAAAAAAAQAAAAAAAAAhAAAAAAAAAEEA=\",\"dtype\":\"float64\",\"order\":\"little\",\"shape\":[7]},\"y\":{\"__ndarray__\":\"fUQdxhJKIUBBrCV9A5UgQMTf2Ip/3CFA/+n+/e0yIEDBYhLZUTgiQBdvVbXdth5ATCQ0KJpmIUA=\",\"dtype\":\"float64\",\"order\":\"little\",\"shape\":[7]}},\"selected\":{\"id\":\"2216\"},\"selection_policy\":{\"id\":\"2215\"}},\"id\":\"2195\",\"type\":\"ColumnDataSource\"},{\"attributes\":{},\"id\":\"1433\",\"type\":\"BasicTickFormatter\"},{\"attributes\":{\"line_color\":\"#178ccb\",\"line_width\":2,\"x\":{\"field\":\"x\"},\"y\":{\"field\":\"y\"}},\"id\":\"1416\",\"type\":\"Line\"},{\"attributes\":{},\"id\":\"1821\",\"type\":\"AllLabels\"},{\"attributes\":{\"data\":{\"x\":{\"__ndarray__\":\"AAAAAAAA0D9VVVVVVVXVPwAAAAAAAOA/AAAAAAAA8D8AAAAAAAAAQAAAAAAAAAhAAAAAAAAAEEA=\",\"dtype\":\"float64\",\"order\":\"little\",\"shape\":[7]},\"y\":{\"__ndarray__\":\"l+nvCmDUIkDmnAdOHzAkQA5dPrQxciZA8YTzSPLtIECyUtYg0/UVQH8DI0E9CCNAujU5DFZnJkA=\",\"dtype\":\"float64\",\"order\":\"little\",\"shape\":[7]}},\"selected\":{\"id\":\"1436\"},\"selection_policy\":{\"id\":\"1435\"}},\"id\":\"1415\",\"type\":\"ColumnDataSource\"},{\"attributes\":{},\"id\":\"1820\",\"type\":\"BasicTickFormatter\"},{\"attributes\":{},\"id\":\"1010\",\"type\":\"LinearScale\"},{\"attributes\":{\"coordinates\":null,\"group\":null},\"id\":\"1622\",\"type\":\"Title\"},{\"attributes\":{\"axis\":{\"id\":\"1012\"},\"coordinates\":null,\"group\":null,\"ticker\":null},\"id\":\"1015\",\"type\":\"Grid\"},{\"attributes\":{},\"id\":\"1023\",\"type\":\"SaveTool\"},{\"attributes\":{\"line_color\":\"#178ccb\",\"line_width\":2,\"x\":{\"field\":\"x\"},\"y\":{\"field\":\"y\"}},\"id\":\"1221\",\"type\":\"Line\"},{\"attributes\":{},\"id\":\"1020\",\"type\":\"PanTool\"},{\"attributes\":{\"coordinates\":null,\"formatter\":{\"id\":\"1238\"},\"group\":null,\"major_label_policy\":{\"id\":\"1239\"},\"major_label_text_font_size\":\"10pt\",\"ticker\":{\"id\":\"1013\"}},\"id\":\"1012\",\"type\":\"LinearAxis\"},{\"attributes\":{\"overlay\":{\"id\":\"1026\"}},\"id\":\"1022\",\"type\":\"BoxZoomTool\"},{\"attributes\":{},\"id\":\"1437\",\"type\":\"UnionRenderers\"},{\"attributes\":{},\"id\":\"1021\",\"type\":\"WheelZoomTool\"},{\"attributes\":{},\"id\":\"1438\",\"type\":\"Selection\"},{\"attributes\":{},\"id\":\"1008\",\"type\":\"LinearScale\"},{\"attributes\":{},\"id\":\"1013\",\"type\":\"BasicTicker\"},{\"attributes\":{\"bottom_units\":\"screen\",\"coordinates\":null,\"fill_alpha\":0.5,\"fill_color\":\"lightgrey\",\"group\":null,\"left_units\":\"screen\",\"level\":\"overlay\",\"line_alpha\":1.0,\"line_color\":\"black\",\"line_dash\":[4,4],\"line_width\":2,\"right_units\":\"screen\",\"syncable\":false,\"top_units\":\"screen\"},\"id\":\"1026\",\"type\":\"BoxAnnotation\"},{\"attributes\":{\"end\":20},\"id\":\"1006\",\"type\":\"Range1d\"},{\"attributes\":{\"end\":20},\"id\":\"1037\",\"type\":\"Range1d\"},{\"attributes\":{\"fill_alpha\":{\"value\":0.2},\"fill_color\":{\"value\":\"#178ccb\"},\"hatch_alpha\":{\"value\":0.2},\"hatch_color\":{\"value\":\"#178ccb\"},\"line_alpha\":{\"value\":0.2},\"line_color\":{\"value\":\"#178ccb\"},\"line_width\":{\"value\":2},\"x\":{\"field\":\"x\"},\"y\":{\"field\":\"y\"}},\"id\":\"2204\",\"type\":\"Circle\"},{\"attributes\":{\"coordinates\":null,\"group\":null},\"id\":\"2207\",\"type\":\"Title\"},{\"attributes\":{},\"id\":\"1632\",\"type\":\"UnionRenderers\"},{\"attributes\":{\"data\":{\"x\":{\"__ndarray__\":\"AAAAAAAA0D9VVVVVVVXVPwAAAAAAAOA/AAAAAAAA8D8AAAAAAAAAQAAAAAAAAAhAAAAAAAAAEEA=\",\"dtype\":\"float64\",\"order\":\"little\",\"shape\":[7]},\"y\":{\"__ndarray__\":\"7U9oI9kQKEAj0nSLqBYlQPMaNEbT2ChAmFSK2X5dIUCJBnShtdsSQAtTNnJNMBBAB+aIo4o/DUA=\",\"dtype\":\"float64\",\"order\":\"little\",\"shape\":[7]}},\"selected\":{\"id\":\"1241\"},\"selection_policy\":{\"id\":\"1240\"}},\"id\":\"1220\",\"type\":\"ColumnDataSource\"},{\"attributes\":{\"axis\":{\"id\":\"1016\"},\"coordinates\":null,\"dimension\":1,\"group\":null,\"ticker\":null},\"id\":\"1019\",\"type\":\"Grid\"},{\"attributes\":{\"fill_alpha\":{\"value\":0.1},\"fill_color\":{\"value\":\"#178ccb\"},\"hatch_alpha\":{\"value\":0.1},\"hatch_color\":{\"value\":\"#178ccb\"},\"line_alpha\":{\"value\":0.1},\"line_color\":{\"value\":\"#178ccb\"},\"line_width\":{\"value\":2},\"x\":{\"field\":\"x\"},\"y\":{\"field\":\"y\"}},\"id\":\"2203\",\"type\":\"Circle\"},{\"attributes\":{},\"id\":\"1434\",\"type\":\"AllLabels\"},{\"attributes\":{\"source\":{\"id\":\"2201\"}},\"id\":\"2206\",\"type\":\"CDSView\"},{\"attributes\":{},\"id\":\"1017\",\"type\":\"BasicTicker\"},{\"attributes\":{},\"id\":\"1827\",\"type\":\"UnionRenderers\"},{\"attributes\":{\"tools\":[{\"id\":\"1020\"},{\"id\":\"1021\"},{\"id\":\"1022\"},{\"id\":\"1023\"},{\"id\":\"1024\"},{\"id\":\"1025\"}]},\"id\":\"1027\",\"type\":\"Toolbar\"},{\"attributes\":{\"data\":{\"x\":{\"__ndarray__\":\"AAAAAAAA0D9VVVVVVVXVPwAAAAAAAOA/AAAAAAAA8D8AAAAAAAAAQAAAAAAAAAhAAAAAAAAAEEA=\",\"dtype\":\"float64\",\"order\":\"little\",\"shape\":[7]},\"y\":{\"__ndarray__\":\"Vd7pu9AEIEAKGp1XNLsgQK8ziEffayBATPCQrI1iIUDgg3ZNVDAgQAaPBV9qdiFAIndKSABTHkA=\",\"dtype\":\"float64\",\"order\":\"little\",\"shape\":[7]}},\"selected\":{\"id\":\"2411\"},\"selection_policy\":{\"id\":\"2410\"}},\"id\":\"2390\",\"type\":\"ColumnDataSource\"},{\"attributes\":{},\"id\":\"1633\",\"type\":\"Selection\"},{\"attributes\":{\"below\":[{\"id\":\"1043\"}],\"center\":[{\"id\":\"1046\"},{\"id\":\"1050\"}],\"height\":115,\"left\":[{\"id\":\"1047\"}],\"output_backend\":\"svg\",\"renderers\":[{\"id\":\"1419\"},{\"id\":\"1425\"}],\"title\":{\"id\":\"1427\"},\"toolbar\":{\"id\":\"1058\"},\"width\":144,\"x_range\":{\"id\":\"1035\"},\"x_scale\":{\"id\":\"1039\"},\"y_range\":{\"id\":\"1037\"},\"y_scale\":{\"id\":\"1041\"}},\"id\":\"1034\",\"subtype\":\"Figure\",\"type\":\"Plot\"},{\"attributes\":{\"end\":4.2},\"id\":\"1035\",\"type\":\"Range1d\"},{\"attributes\":{\"line_color\":\"#178ccb\",\"line_width\":2,\"x\":{\"field\":\"x\"},\"y\":{\"field\":\"y\"}},\"id\":\"2391\",\"type\":\"Line\"},{\"attributes\":{\"coordinates\":null,\"data_source\":{\"id\":\"2201\"},\"glyph\":{\"id\":\"2202\"},\"group\":null,\"hover_glyph\":null,\"muted_glyph\":{\"id\":\"2204\"},\"nonselection_glyph\":{\"id\":\"2203\"},\"view\":{\"id\":\"2206\"}},\"id\":\"2205\",\"type\":\"GlyphRenderer\"},{\"attributes\":{\"coordinates\":null,\"formatter\":{\"id\":\"1235\"},\"group\":null,\"major_label_policy\":{\"id\":\"1236\"},\"major_label_text_font_size\":\"10pt\",\"ticker\":{\"id\":\"1017\"}},\"id\":\"1016\",\"type\":\"LinearAxis\"},{\"attributes\":{\"data\":{\"x\":{\"__ndarray__\":\"AAAAAAAA0D9VVVVVVVXVPwAAAAAAAOA/AAAAAAAA8D8AAAAAAAAAQAAAAAAAAAhAAAAAAAAAEEA=\",\"dtype\":\"float64\",\"order\":\"little\",\"shape\":[7]},\"y\":{\"__ndarray__\":\"fUQdxhJKIUBBrCV9A5UgQMTf2Ip/3CFA/+n+/e0yIEDBYhLZUTgiQBdvVbXdth5ATCQ0KJpmIUA=\",\"dtype\":\"float64\",\"order\":\"little\",\"shape\":[7]}},\"selected\":{\"id\":\"2218\"},\"selection_policy\":{\"id\":\"2217\"}},\"id\":\"2201\",\"type\":\"ColumnDataSource\"},{\"attributes\":{\"bottom_units\":\"screen\",\"coordinates\":null,\"fill_alpha\":0.5,\"fill_color\":\"lightgrey\",\"group\":null,\"left_units\":\"screen\",\"level\":\"overlay\",\"line_alpha\":1.0,\"line_color\":\"black\",\"line_dash\":[4,4],\"line_width\":2,\"right_units\":\"screen\",\"syncable\":false,\"top_units\":\"screen\"},\"id\":\"1088\",\"type\":\"BoxAnnotation\"},{\"attributes\":{\"end\":4.2},\"id\":\"1004\",\"type\":\"Range1d\"},{\"attributes\":{},\"id\":\"1025\",\"type\":\"HelpTool\"},{\"attributes\":{\"source\":{\"id\":\"2195\"}},\"id\":\"2200\",\"type\":\"CDSView\"},{\"attributes\":{\"below\":[{\"id\":\"1012\"}],\"center\":[{\"id\":\"1015\"},{\"id\":\"1019\"}],\"height\":115,\"left\":[{\"id\":\"1016\"}],\"output_backend\":\"svg\",\"renderers\":[{\"id\":\"1224\"},{\"id\":\"1230\"}],\"title\":{\"id\":\"1232\"},\"toolbar\":{\"id\":\"1027\"},\"width\":144,\"x_range\":{\"id\":\"1004\"},\"x_scale\":{\"id\":\"1008\"},\"y_range\":{\"id\":\"1006\"},\"y_scale\":{\"id\":\"1010\"}},\"id\":\"1003\",\"subtype\":\"Figure\",\"type\":\"Plot\"},{\"attributes\":{\"source\":{\"id\":\"2396\"}},\"id\":\"2401\",\"type\":\"CDSView\"},{\"attributes\":{\"line_alpha\":0.1,\"line_color\":\"#178ccb\",\"line_width\":2,\"x\":{\"field\":\"x\"},\"y\":{\"field\":\"y\"}},\"id\":\"2197\",\"type\":\"Line\"},{\"attributes\":{\"line_alpha\":0.2,\"line_color\":\"#178ccb\",\"line_width\":2,\"x\":{\"field\":\"x\"},\"y\":{\"field\":\"y\"}},\"id\":\"2198\",\"type\":\"Line\"},{\"attributes\":{\"coordinates\":null,\"data_source\":{\"id\":\"2195\"},\"glyph\":{\"id\":\"2196\"},\"group\":null,\"hover_glyph\":null,\"muted_glyph\":{\"id\":\"2198\"},\"nonselection_glyph\":{\"id\":\"2197\"},\"view\":{\"id\":\"2200\"}},\"id\":\"2199\",\"type\":\"GlyphRenderer\"},{\"attributes\":{},\"id\":\"1024\",\"type\":\"ResetTool\"},{\"attributes\":{\"coordinates\":null,\"group\":null},\"id\":\"2012\",\"type\":\"Title\"}],\"root_ids\":[\"2585\"]},\"title\":\"Bokeh Application\",\"version\":\"2.4.1\"}};\n",
       "  const render_items = [{\"docid\":\"c4afa874-ac84-4292-967b-cfc71cad135c\",\"root_ids\":[\"2585\"],\"roots\":{\"2585\":\"21a2b409-fb7a-45ab-8cf0-6e96b748e25a\"}}];\n",
       "  root.Bokeh.embed.embed_items_notebook(docs_json, render_items);\n",
       "\n",
       "  }\n",
       "  if (root.Bokeh !== undefined) {\n",
       "    embed_document(root);\n",
       "  } else {\n",
       "    let attempts = 0;\n",
       "    const timer = setInterval(function(root) {\n",
       "      if (root.Bokeh !== undefined) {\n",
       "        clearInterval(timer);\n",
       "        embed_document(root);\n",
       "      } else {\n",
       "        attempts++;\n",
       "        if (attempts > 100) {\n",
       "          clearInterval(timer);\n",
       "          console.log(\"Bokeh: ERROR: Unable to run BokehJS code because BokehJS library is missing\");\n",
       "        }\n",
       "      }\n",
       "    }, 10, root)\n",
       "  }\n",
       "})(window);"
      ],
      "application/vnd.bokehjs_exec.v0+json": ""
     },
     "metadata": {
      "application/vnd.bokehjs_exec.v0+json": {
       "id": "2585"
      }
     },
     "output_type": "display_data"
    }
   ],
   "source": [
    "# Set up plots\n",
    "# For two digits 260 by 115 larger and 144 by 115 for half size\n",
    "# For three digits 266 by 115 larger and 150 by 115 for half size\n",
    "fig_size = [144, 115] # for paper size (260/115), half size (144,115), visualize (600/200)\n",
    "\n",
    "x_range = (0, 4.2)\n",
    "y_range = (0, 20)\n",
    "\n",
    "plots = []\n",
    "for i in range(out.shape[0]-1):\n",
    "    #print(i)\n",
    "    plots.append(bokeh.plotting.figure(plot_width=fig_size[0], plot_height=fig_size[1],\n",
    "                          x_range=x_range,y_range=y_range\n",
    "                          ),)\n",
    "    plots[i].axis.major_label_text_font_size = \"10pt\"\n",
    "\n",
    "color=\"#178ccb\"    \n",
    "for i in range(out.shape[0]-1):\n",
    "    plots[i].line(out[0,1:], out[i+1,1:], line_width=2, alpha= 1, line_join=\"bevel\",color=color)\n",
    "    plots[i].circle(out[0,1:], out[i+1,1:], line_width=2, alpha= 1, line_join=\"bevel\",color=color)\n",
    "    #plots[i].xaxis.ticker = list(np.linspace(0,4,5))\n",
    "    #plots[i].x_range = Range1d(0, 4)\n",
    "    plots[i].output_backend = \"svg\"\n",
    "    export_svgs(plots[i],filename=\"fig/Sensitivity_Param_\" + str(out[i+1,0]) + \".svg\")\n",
    "\n",
    "bokeh.io.show(bokeh.layouts.row(plots))"
   ]
  },
  {
   "cell_type": "code",
   "execution_count": null,
   "metadata": {
    "id": "UAihf0yDI_tJ"
   },
   "outputs": [],
   "source": []
  }
 ],
 "metadata": {
  "colab": {
   "collapsed_sections": [],
   "name": "Oscillator_AR_Design.ipynb",
   "provenance": []
  },
  "kernelspec": {
   "display_name": "Python 3 (ipykernel)",
   "language": "python",
   "name": "python3"
  },
  "language_info": {
   "codemirror_mode": {
    "name": "ipython",
    "version": 3
   },
   "file_extension": ".py",
   "mimetype": "text/x-python",
   "name": "python",
   "nbconvert_exporter": "python",
   "pygments_lexer": "ipython3",
   "version": "3.9.7"
  }
 },
 "nbformat": 4,
 "nbformat_minor": 4
}
